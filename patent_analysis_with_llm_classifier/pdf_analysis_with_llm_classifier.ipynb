{
 "cells": [
  {
   "cell_type": "code",
   "execution_count": 1,
   "metadata": {},
   "outputs": [
    {
     "ename": "NameError",
     "evalue": "name 'Ml' is not defined",
     "output_type": "error",
     "traceback": [
      "\u001b[0;31m---------------------------------------------------------------------------\u001b[0m",
      "\u001b[0;31mNameError\u001b[0m                                 Traceback (most recent call last)",
      "Cell \u001b[0;32mIn[1], line 1\u001b[0m\n\u001b[0;32m----> 1\u001b[0m \u001b[43mMl\u001b[49m\u001b[38;5;241m-\u001b[39mflow , evaluation \n",
      "\u001b[0;31mNameError\u001b[0m: name 'Ml' is not defined"
     ]
    }
   ],
   "source": [
    "Ml-flow , evaluation "
   ]
  },
  {
   "cell_type": "markdown",
   "metadata": {},
   "source": [
    "# Импорты"
   ]
  },
  {
   "cell_type": "code",
   "execution_count": 1,
   "metadata": {},
   "outputs": [],
   "source": [
    "import pandas as pd \n",
    "import numpy as np\n",
    "from math import exp\n",
    "from PyPDF2 import PdfReader\n",
    "from pprint import pprint"
   ]
  },
  {
   "cell_type": "code",
   "execution_count": 2,
   "metadata": {},
   "outputs": [],
   "source": [
    "import os\n",
    "import json\n",
    "import logging\n",
    "from openai import OpenAI\n",
    "from IPython.display import display, HTML"
   ]
  },
  {
   "cell_type": "code",
   "execution_count": 3,
   "metadata": {},
   "outputs": [],
   "source": [
    "from dataclasses import dataclass\n",
    "from pydantic import BaseModel, Field, ConfigDict, ValidationError\n",
    "from typing import Optional, List, Dict, Any, Tuple\n",
    "from types import SimpleNamespace\n",
    "from enum import Enum"
   ]
  },
  {
   "cell_type": "markdown",
   "metadata": {},
   "source": [
    "# Классификация текста"
   ]
  },
  {
   "cell_type": "code",
   "execution_count": 4,
   "metadata": {},
   "outputs": [],
   "source": [
    "# Configure logging\n",
    "logging.basicConfig(\n",
    "    level=logging.INFO,\n",
    "    format='%(asctime)s - %(levelname)s - %(message)s',\n",
    "    handlers=[logging.FileHandler('/home/anatoly_kayda/Desktop/mipt/mipt_thesis/patent_analysis_with_llm_classifier/patent_analysis.log'),\n",
    "            logging.StreamHandler()]\n",
    ")\n",
    "logger = logging.getLogger(__name__)"
   ]
  },
  {
   "cell_type": "code",
   "execution_count": 5,
   "metadata": {},
   "outputs": [],
   "source": [
    "client = OpenAI(api_key=os.environ.get(\"OPENAI_API_KEY\"))"
   ]
  },
  {
   "cell_type": "code",
   "execution_count": 6,
   "metadata": {},
   "outputs": [],
   "source": [
    "def get_completion(\n",
    "    messages: list[dict[str, str]],\n",
    "    model: str = \"gpt-4o-mini\",\n",
    "    max_tokens=500,\n",
    "    temperature=0,\n",
    "    stop=None,\n",
    "    seed=None,\n",
    "    tools=None,\n",
    "    logprobs=None,  # whether to return log probabilities of the output tokens or not. If true, returns the log probabilities of each output token returned in the content of message..\n",
    "    top_logprobs=None,\n",
    ") -> str:\n",
    "    \n",
    "    system_message = {\n",
    "        \"role\": \"system\",\n",
    "        \"content\": \"\"\"You are a highly experienced research chemist with a PhD and 20+ years of experience in chemistry and patent analysis. \n",
    "Your expertise includes:\n",
    "- Publishing numerous research papers\n",
    "- Reading thousands of chemical patents\n",
    "- Leading laboratory research teams\n",
    "- Writing detailed experimental procedures\n",
    "- Analyzing chemical documentation\n",
    "\n",
    "You are specifically trained to identify experimental data in chemical patents with extremely high accuracy.\"\"\"\n",
    "    }\n",
    "    \n",
    "    # Insert system message at the beginning of messages list\n",
    "    messages.insert(0, system_message)\n",
    "\n",
    "    params = {\n",
    "        \"model\": model,\n",
    "        \"messages\": messages,\n",
    "        \"max_tokens\": max_tokens,\n",
    "        \"temperature\": temperature,\n",
    "        \"stop\": stop,\n",
    "        \"seed\": seed,\n",
    "        \"logprobs\": logprobs,\n",
    "        \"top_logprobs\": top_logprobs,\n",
    "    }\n",
    "    if tools:\n",
    "        params[\"tools\"] = tools\n",
    "\n",
    "    completion = client.chat.completions.create(**params)\n",
    "    return completion"
   ]
  },
  {
   "cell_type": "code",
   "execution_count": 7,
   "metadata": {},
   "outputs": [],
   "source": [
    "def analyze_file_agent(file_path: str) -> Tuple[str, str]:\n",
    "\n",
    "    results=[]\n",
    "    file_name = os.path.basename(file_path)\n",
    "    absolute_path = os.path.abspath(file_path)\n",
    "    CLASSIFICATION_PROMPT = \"\"\"\n",
    "You are analyzing a chemical patent about olefin polymerization catalysts. Check if this page contains EXPERIMENTAL DATA.\n",
    "\n",
    "PATENT SECTIONS:\n",
    "1. EXPERIMENTAL Sections (answer YES):\n",
    "   - \"EXAMPLES\"\n",
    "   - \"COMPARATIVE EXAMPLES\" \n",
    "   - \"WORKING EXAMPLES\"\n",
    "   - \"PREPARATION EXAMPLES\"\n",
    "   - \"POLYMERIZATION EXAMPLES\"\n",
    "   - \"TABLES\"\n",
    "\n",
    "2. NON-EXPERIMENTAL Sections (answer NO):\n",
    "   - \"TECHNICAL FIELD\"\n",
    "   - \"BACKGROUND ART\"\n",
    "   - \"CLAIMS\"\n",
    "   - \"ABSTRACT\"\n",
    "\n",
    "ANSWER YES IF YOU SEE:\n",
    "1. ANY part of experimental procedures (including continued from previous page):\n",
    "   - Beginning: \"The catalyst was prepared by mixing...\"\n",
    "   - Middle: \"...was stirred for 2h at 80°C...\"\n",
    "   - End: \"...yielding 5.2g of product\"\n",
    "   - Table parts (even incomplete)\n",
    "   - Continued analytical data\n",
    "\n",
    "2. Detailed procedures, like:\n",
    "   \"The catalyst was prepared by mixing...\"\n",
    "   \"Polymerization was carried out...\"\n",
    "   \"To a flask was added...\"\n",
    "   \"The mixture was stirred at...\"\n",
    "   \"Table №1\"\n",
    "\n",
    "ANSWER NO IF PAGE ONLY HAS:\n",
    "- General descriptions without procedures\n",
    "- Lists of compounds without quantities\n",
    "- Patent claims\n",
    "- Theoretical explanations\n",
    "\n",
    "CRITICAL RULES:\n",
    "1. Even PARTIAL experimental data makes the page experimental (YES)\n",
    "2. Beginning, middle, or end of procedures count as experimental\n",
    "3. Continued tables from previous pages count as experimental\n",
    "4. Look for procedure descriptions with measurements first!\n",
    "\n",
    "Answer ONLY \"YES\" or \"NO\"\n",
    "\n",
    "Analyze this text: {text}\"\"\"\n",
    "\n",
    "    with open(file_path, \"rb\") as f:\n",
    "        reader = PdfReader(f).pages\n",
    "        text = []\n",
    "        for page in reader:\n",
    "            text.append(page.extract_text())\n",
    "    \n",
    "    for i, page in enumerate(text):\n",
    "        print(f\"\\nHeadline: {page[:200]}\")\n",
    "        \n",
    "        # Check if page is empty or contains only whitespace\n",
    "        if not page.strip():\n",
    "            # Create mock response for empty pages\n",
    "            top_two_logprobs = [\n",
    "                SimpleNamespace(token=\"NO\", logprob=0.0),  # log(1.0) = 0.0 for 100% probability\n",
    "                SimpleNamespace(token=\"YES\", logprob=float('-inf'))  # -inf for 0% probability\n",
    "            ]\n",
    "        else:\n",
    "            API_RESPONSE = get_completion(\n",
    "                [{\"role\": \"user\", \"content\": CLASSIFICATION_PROMPT.format(text=page)}],\n",
    "                model=\"gpt-4o-mini\",\n",
    "                logprobs=True,\n",
    "                top_logprobs=2,\n",
    "                max_tokens=1,\n",
    "                temperature=0,\n",
    "            )\n",
    "            top_two_logprobs = API_RESPONSE.choices[0].logprobs.content[0].top_logprobs\n",
    "\n",
    "        html_content = \"\"\n",
    "        for j, logprob in enumerate(top_two_logprobs, start=1):\n",
    "            html_content += (\n",
    "                f\"<span style='color: cyan'>Output token {j}:</span> {logprob.token}, \"\n",
    "                f\"<span style='color: darkorange'>logprobs:</span> {logprob.logprob}, \"\n",
    "                f\"<span style='color: magenta'>linear probability:</span> {np.round(np.exp(logprob.logprob)*100,2)}%<br>\"\n",
    "            )\n",
    "        display(HTML(html_content))\n",
    "        print(\"\\n\")\n",
    "        \n",
    "        results.append({\n",
    "                        'file_name': file_name,\n",
    "                        'file_path': absolute_path,\n",
    "                        'page_number': i+1,\n",
    "                        '1st_token': top_two_logprobs[0].token,\n",
    "                        '1st_logprob': np.round(np.exp(top_two_logprobs[0].logprob)*100,2),\n",
    "                        '2nd_token': top_two_logprobs[1].token,\n",
    "                        '2nd_logprob': np.round(np.exp(top_two_logprobs[1].logprob)*100,2),\n",
    "                        'text': page\n",
    "                    })\n",
    "\n",
    "    df = pd.DataFrame(results)\n",
    "    return df"
   ]
  },
  {
   "cell_type": "code",
   "execution_count": 8,
   "metadata": {},
   "outputs": [
    {
     "name": "stdout",
     "output_type": "stream",
     "text": [
      "\n",
      "Headline: (12) United States Patent \n",
      " Braganca et al. US0093.52308B2 \n",
      " US 9,352,308 B2 \n",
      " May 31, 2016 (10) Patent No.: \n",
      " (45) Date of Patent: \n",
      " (54) SOLID CATALYST COMPONENT FOR \n",
      " POLYMERIZATION AND \n",
      " COPOLYMER\n"
     ]
    },
    {
     "name": "stderr",
     "output_type": "stream",
     "text": [
      "2025-03-30 12:04:32,557 - INFO - HTTP Request: POST https://api.openai.com/v1/chat/completions \"HTTP/1.1 200 OK\"\n"
     ]
    },
    {
     "data": {
      "text/html": [
       "<span style='color: cyan'>Output token 1:</span> NO, <span style='color: darkorange'>logprobs:</span> -3.128163257315464e-07, <span style='color: magenta'>linear probability:</span> 100.0%<br><span style='color: cyan'>Output token 2:</span>  NO, <span style='color: darkorange'>logprobs:</span> -15.5, <span style='color: magenta'>linear probability:</span> 0.0%<br>"
      ],
      "text/plain": [
       "<IPython.core.display.HTML object>"
      ]
     },
     "metadata": {},
     "output_type": "display_data"
    },
    {
     "name": "stdout",
     "output_type": "stream",
     "text": [
      "\n",
      "\n",
      "\n",
      "Headline: U.S. Patent May 31, 2016 Sheet 1 of 6 US 9,352,308 B2 \n",
      " FIGURE 1 \n",
      " Organometallic \n",
      " compound solution Silica-o- IMPREGNATION \n",
      " (a) \n",
      " Magnesium compound \n",
      " REACTON REMOVAL Supernatant Titanium compound \n"
     ]
    },
    {
     "name": "stderr",
     "output_type": "stream",
     "text": [
      "2025-03-30 12:04:33,171 - INFO - HTTP Request: POST https://api.openai.com/v1/chat/completions \"HTTP/1.1 200 OK\"\n"
     ]
    },
    {
     "data": {
      "text/html": [
       "<span style='color: cyan'>Output token 1:</span> NO, <span style='color: darkorange'>logprobs:</span> -1.9361264946837764e-07, <span style='color: magenta'>linear probability:</span> 100.0%<br><span style='color: cyan'>Output token 2:</span>  NO, <span style='color: darkorange'>logprobs:</span> -16.125, <span style='color: magenta'>linear probability:</span> 0.0%<br>"
      ],
      "text/plain": [
       "<IPython.core.display.HTML object>"
      ]
     },
     "metadata": {},
     "output_type": "display_data"
    },
    {
     "name": "stdout",
     "output_type": "stream",
     "text": [
      "\n",
      "\n",
      "\n",
      "Headline: U.S. Patent May 31, 2016 Sheet 2 of 6 US 9,352,308 B2 \n",
      " FIGURE 2 \n",
      "   \n"
     ]
    },
    {
     "name": "stderr",
     "output_type": "stream",
     "text": [
      "2025-03-30 12:04:33,739 - INFO - HTTP Request: POST https://api.openai.com/v1/chat/completions \"HTTP/1.1 200 OK\"\n"
     ]
    },
    {
     "data": {
      "text/html": [
       "<span style='color: cyan'>Output token 1:</span> NO, <span style='color: darkorange'>logprobs:</span> -1.9361264946837764e-07, <span style='color: magenta'>linear probability:</span> 100.0%<br><span style='color: cyan'>Output token 2:</span>  NO, <span style='color: darkorange'>logprobs:</span> -16.0, <span style='color: magenta'>linear probability:</span> 0.0%<br>"
      ],
      "text/plain": [
       "<IPython.core.display.HTML object>"
      ]
     },
     "metadata": {},
     "output_type": "display_data"
    },
    {
     "name": "stdout",
     "output_type": "stream",
     "text": [
      "\n",
      "\n",
      "\n",
      "Headline: US 9,352,308 B2 U.S. Patent \n",
      " 9/ | \n",
      " eoueoeye   \n"
     ]
    },
    {
     "name": "stderr",
     "output_type": "stream",
     "text": [
      "2025-03-30 12:04:34,254 - INFO - HTTP Request: POST https://api.openai.com/v1/chat/completions \"HTTP/1.1 200 OK\"\n"
     ]
    },
    {
     "data": {
      "text/html": [
       "<span style='color: cyan'>Output token 1:</span> NO, <span style='color: darkorange'>logprobs:</span> -7.465036105713807e-06, <span style='color: magenta'>linear probability:</span> 100.0%<br><span style='color: cyan'>Output token 2:</span> YES, <span style='color: darkorange'>logprobs:</span> -11.875007629394531, <span style='color: magenta'>linear probability:</span> 0.0%<br>"
      ],
      "text/plain": [
       "<IPython.core.display.HTML object>"
      ]
     },
     "metadata": {},
     "output_type": "display_data"
    },
    {
     "name": "stdout",
     "output_type": "stream",
     "text": [
      "\n",
      "\n",
      "\n",
      "Headline: U.S. Patent May 31, 2016 Sheet 4 of 6 US 9,352,308 B2 \n",
      " FIGURE 4 \n",
      " .. \n",
      " O \n",
      " 44 4, 48 SO SO. 54 SO 58 \n",
      " Energy (ew \n"
     ]
    },
    {
     "name": "stderr",
     "output_type": "stream",
     "text": [
      "2025-03-30 12:04:34,766 - INFO - HTTP Request: POST https://api.openai.com/v1/chat/completions \"HTTP/1.1 200 OK\"\n"
     ]
    },
    {
     "data": {
      "text/html": [
       "<span style='color: cyan'>Output token 1:</span> NO, <span style='color: darkorange'>logprobs:</span> -1.9361264946837764e-07, <span style='color: magenta'>linear probability:</span> 100.0%<br><span style='color: cyan'>Output token 2:</span>  NO, <span style='color: darkorange'>logprobs:</span> -15.75, <span style='color: magenta'>linear probability:</span> 0.0%<br>"
      ],
      "text/plain": [
       "<IPython.core.display.HTML object>"
      ]
     },
     "metadata": {},
     "output_type": "display_data"
    },
    {
     "name": "stdout",
     "output_type": "stream",
     "text": [
      "\n",
      "\n",
      "\n",
      "Headline: U.S. Patent May 31, 2016 Sheet 5 of 6 US 9,352,308 B2 \n",
      " FIGURES \n",
      " 9. - \n",
      " O \n",
      " 95 . ... 3 498 Energy (W) \n",
      " 4.94 EO 498 SO SO SO4 SOSO SO.8 SO \n",
      " Energy (ew)   \n"
     ]
    },
    {
     "name": "stderr",
     "output_type": "stream",
     "text": [
      "2025-03-30 12:04:35,274 - INFO - HTTP Request: POST https://api.openai.com/v1/chat/completions \"HTTP/1.1 200 OK\"\n"
     ]
    },
    {
     "data": {
      "text/html": [
       "<span style='color: cyan'>Output token 1:</span> NO, <span style='color: darkorange'>logprobs:</span> -3.128163257315464e-07, <span style='color: magenta'>linear probability:</span> 100.0%<br><span style='color: cyan'>Output token 2:</span>  NO, <span style='color: darkorange'>logprobs:</span> -15.375, <span style='color: magenta'>linear probability:</span> 0.0%<br>"
      ],
      "text/plain": [
       "<IPython.core.display.HTML object>"
      ]
     },
     "metadata": {},
     "output_type": "display_data"
    },
    {
     "name": "stdout",
     "output_type": "stream",
     "text": [
      "\n",
      "\n",
      "\n",
      "Headline: U.S. Patent May 31, 2016 Sheet 6 of 6 US 9,352,308 B2 \n",
      " FIGURE 6 \n",
      " 1966 968 9FO 9. 94 496 498 98) \n",
      " Energy (EW) \n"
     ]
    },
    {
     "name": "stderr",
     "output_type": "stream",
     "text": [
      "2025-03-30 12:04:35,788 - INFO - HTTP Request: POST https://api.openai.com/v1/chat/completions \"HTTP/1.1 200 OK\"\n"
     ]
    },
    {
     "data": {
      "text/html": [
       "<span style='color: cyan'>Output token 1:</span> NO, <span style='color: darkorange'>logprobs:</span> -1.9361264946837764e-07, <span style='color: magenta'>linear probability:</span> 100.0%<br><span style='color: cyan'>Output token 2:</span>  NO, <span style='color: darkorange'>logprobs:</span> -15.875, <span style='color: magenta'>linear probability:</span> 0.0%<br>"
      ],
      "text/plain": [
       "<IPython.core.display.HTML object>"
      ]
     },
     "metadata": {},
     "output_type": "display_data"
    },
    {
     "name": "stdout",
     "output_type": "stream",
     "text": [
      "\n",
      "\n",
      "\n",
      "Headline: US 9,352,308 B2 \n",
      " 1. \n",
      " SOLID CATALYST COMPONENT FOR \n",
      " POLYMERIZATION AND \n",
      " COPOLYMERIZATION OF ETHYLENE AND \n",
      " PROCESS FOR OBTAINING THE SAME \n",
      " This application is a Continuation-In-Part of application\n"
     ]
    },
    {
     "name": "stderr",
     "output_type": "stream",
     "text": [
      "2025-03-30 12:04:36,720 - INFO - HTTP Request: POST https://api.openai.com/v1/chat/completions \"HTTP/1.1 200 OK\"\n"
     ]
    },
    {
     "data": {
      "text/html": [
       "<span style='color: cyan'>Output token 1:</span> NO, <span style='color: darkorange'>logprobs:</span> -9.088346359931165e-07, <span style='color: magenta'>linear probability:</span> 100.0%<br><span style='color: cyan'>Output token 2:</span> YES, <span style='color: darkorange'>logprobs:</span> -14.250000953674316, <span style='color: magenta'>linear probability:</span> 0.0%<br>"
      ],
      "text/plain": [
       "<IPython.core.display.HTML object>"
      ]
     },
     "metadata": {},
     "output_type": "display_data"
    },
    {
     "name": "stdout",
     "output_type": "stream",
     "text": [
      "\n",
      "\n",
      "\n",
      "Headline: US 9,352,308 B2 \n",
      " 3 \n",
      " groups 1, 2, 12 or 13 of the periodic table. The process for \n",
      " producing the catalyst of the present invention comprises the \n",
      " steps of: \n",
      " (a) impregnating activated silica parti\n"
     ]
    },
    {
     "name": "stderr",
     "output_type": "stream",
     "text": [
      "2025-03-30 12:04:37,345 - INFO - HTTP Request: POST https://api.openai.com/v1/chat/completions \"HTTP/1.1 200 OK\"\n"
     ]
    },
    {
     "data": {
      "text/html": [
       "<span style='color: cyan'>Output token 1:</span> NO, <span style='color: darkorange'>logprobs:</span> -0.5759404301643372, <span style='color: magenta'>linear probability:</span> 56.22%<br><span style='color: cyan'>Output token 2:</span> YES, <span style='color: darkorange'>logprobs:</span> -0.8259404301643372, <span style='color: magenta'>linear probability:</span> 43.78%<br>"
      ],
      "text/plain": [
       "<IPython.core.display.HTML object>"
      ]
     },
     "metadata": {},
     "output_type": "display_data"
    },
    {
     "name": "stdout",
     "output_type": "stream",
     "text": [
      "\n",
      "\n",
      "\n",
      "Headline: US 9,352,308 B2 \n",
      " 5 \n",
      " over a period from 1 to 20 hours. The amount of remaining \n",
      " OH on the silica surface after this treatment ranges from 0.1 to 2 mmoles OH per g of silica, preferably between 0.5 a\n"
     ]
    },
    {
     "name": "stderr",
     "output_type": "stream",
     "text": [
      "2025-03-30 12:04:38,042 - INFO - HTTP Request: POST https://api.openai.com/v1/chat/completions \"HTTP/1.1 200 OK\"\n"
     ]
    },
    {
     "data": {
      "text/html": [
       "<span style='color: cyan'>Output token 1:</span> YES, <span style='color: darkorange'>logprobs:</span> -1.3856492842023727e-06, <span style='color: magenta'>linear probability:</span> 100.0%<br><span style='color: cyan'>Output token 2:</span>  YES, <span style='color: darkorange'>logprobs:</span> -14.250000953674316, <span style='color: magenta'>linear probability:</span> 0.0%<br>"
      ],
      "text/plain": [
       "<IPython.core.display.HTML object>"
      ]
     },
     "metadata": {},
     "output_type": "display_data"
    },
    {
     "name": "stdout",
     "output_type": "stream",
     "text": [
      "\n",
      "\n",
      "\n",
      "Headline: US 9,352,308 B2 \n",
      " 7 \n",
      " Other silicon compounds useful as reducing agents in the \n",
      " practice of this invention are: silanes (SiH, in which m is a number equal to or higher than 1), alkyl-silanes or aryl \n"
     ]
    },
    {
     "name": "stderr",
     "output_type": "stream",
     "text": [
      "2025-03-30 12:04:38,653 - INFO - HTTP Request: POST https://api.openai.com/v1/chat/completions \"HTTP/1.1 200 OK\"\n"
     ]
    },
    {
     "data": {
      "text/html": [
       "<span style='color: cyan'>Output token 1:</span> YES, <span style='color: darkorange'>logprobs:</span> -1.5690089639974758e-05, <span style='color: magenta'>linear probability:</span> 100.0%<br><span style='color: cyan'>Output token 2:</span> NO, <span style='color: darkorange'>logprobs:</span> -11.125015258789062, <span style='color: magenta'>linear probability:</span> 0.0%<br>"
      ],
      "text/plain": [
       "<IPython.core.display.HTML object>"
      ]
     },
     "metadata": {},
     "output_type": "display_data"
    },
    {
     "name": "stdout",
     "output_type": "stream",
     "text": [
      "\n",
      "\n",
      "\n",
      "Headline: US 9,352,308 B2 \n",
      " The amount of organometallic compound of the groups 1, \n",
      " 2, 12 or 13 that remains fixed on the solid catalyst component may reach up to 5% by weight, expressed as the metal con \n",
      " ten\n"
     ]
    },
    {
     "name": "stderr",
     "output_type": "stream",
     "text": [
      "2025-03-30 12:04:39,271 - INFO - HTTP Request: POST https://api.openai.com/v1/chat/completions \"HTTP/1.1 200 OK\"\n"
     ]
    },
    {
     "data": {
      "text/html": [
       "<span style='color: cyan'>Output token 1:</span> YES, <span style='color: darkorange'>logprobs:</span> -3.054500666621607e-06, <span style='color: magenta'>linear probability:</span> 100.0%<br><span style='color: cyan'>Output token 2:</span> **, <span style='color: darkorange'>logprobs:</span> -13.62500286102295, <span style='color: magenta'>linear probability:</span> 0.0%<br>"
      ],
      "text/plain": [
       "<IPython.core.display.HTML object>"
      ]
     },
     "metadata": {},
     "output_type": "display_data"
    },
    {
     "name": "stdout",
     "output_type": "stream",
     "text": [
      "\n",
      "\n",
      "\n",
      "Headline: US 9,352,308 B2 \n",
      " 11 \n",
      " anhydrous MgCl, and 330 ml (0.969 moles) of Ti(OBu). \n",
      " This mixture was allowed to stir at 300 rpm and heated to 150° \n",
      " C. for about 12 hours in order to have the solids complet\n"
     ]
    },
    {
     "name": "stderr",
     "output_type": "stream",
     "text": [
      "2025-03-30 12:04:39,783 - INFO - HTTP Request: POST https://api.openai.com/v1/chat/completions \"HTTP/1.1 200 OK\"\n"
     ]
    },
    {
     "data": {
      "text/html": [
       "<span style='color: cyan'>Output token 1:</span> YES, <span style='color: darkorange'>logprobs:</span> -1.2664456789934775e-06, <span style='color: magenta'>linear probability:</span> 100.0%<br><span style='color: cyan'>Output token 2:</span>  YES, <span style='color: darkorange'>logprobs:</span> -13.875000953674316, <span style='color: magenta'>linear probability:</span> 0.0%<br>"
      ],
      "text/plain": [
       "<IPython.core.display.HTML object>"
      ]
     },
     "metadata": {},
     "output_type": "display_data"
    },
    {
     "name": "stdout",
     "output_type": "stream",
     "text": [
      "\n",
      "\n",
      "\n",
      "Headline: US 9,352,308 B2 \n",
      " 13 \n",
      " anhydrous MgCl2 and 39.6 ml (0.116 moles) of Ti(OBu). \n",
      " This mixture was allowed to stir at 300 rpm and heated to 150° \n",
      " C. for about 12 hours in order to have the solids comple\n"
     ]
    },
    {
     "name": "stderr",
     "output_type": "stream",
     "text": [
      "2025-03-30 12:04:40,294 - INFO - HTTP Request: POST https://api.openai.com/v1/chat/completions \"HTTP/1.1 200 OK\"\n"
     ]
    },
    {
     "data": {
      "text/html": [
       "<span style='color: cyan'>Output token 1:</span> YES, <span style='color: darkorange'>logprobs:</span> -9.088346359931165e-07, <span style='color: magenta'>linear probability:</span> 100.0%<br><span style='color: cyan'>Output token 2:</span>  YES, <span style='color: darkorange'>logprobs:</span> -14.375000953674316, <span style='color: magenta'>linear probability:</span> 0.0%<br>"
      ],
      "text/plain": [
       "<IPython.core.display.HTML object>"
      ]
     },
     "metadata": {},
     "output_type": "display_data"
    },
    {
     "name": "stdout",
     "output_type": "stream",
     "text": [
      "\n",
      "\n",
      "\n",
      "Headline: US 9,352,308 B2 \n",
      " 15 \n",
      " addition, stirring was continued for 3.5 hours at a temperature of 60°C. The temperature of the mixture was then brought to \n",
      " 65° C. and kept for additional 2 hours. After cooli\n"
     ]
    },
    {
     "name": "stderr",
     "output_type": "stream",
     "text": [
      "2025-03-30 12:04:41,206 - INFO - HTTP Request: POST https://api.openai.com/v1/chat/completions \"HTTP/1.1 200 OK\"\n"
     ]
    },
    {
     "data": {
      "text/html": [
       "<span style='color: cyan'>Output token 1:</span> YES, <span style='color: darkorange'>logprobs:</span> -1.6240566083070007e-06, <span style='color: magenta'>linear probability:</span> 100.0%<br><span style='color: cyan'>Output token 2:</span>  YES, <span style='color: darkorange'>logprobs:</span> -13.875001907348633, <span style='color: magenta'>linear probability:</span> 0.0%<br>"
      ],
      "text/plain": [
       "<IPython.core.display.HTML object>"
      ]
     },
     "metadata": {},
     "output_type": "display_data"
    },
    {
     "name": "stdout",
     "output_type": "stream",
     "text": [
      "\n",
      "\n",
      "\n",
      "Headline: US 9,352,308 B2 \n",
      " 17 \n",
      " C. for about 12 hours in order to have the solids completely \n",
      " dissolved, thereby a clear liquid product was obtained. This \n",
      " resulting liquid was cooled down to 40°C. and under\n"
     ]
    },
    {
     "name": "stderr",
     "output_type": "stream",
     "text": [
      "2025-03-30 12:04:41,819 - INFO - HTTP Request: POST https://api.openai.com/v1/chat/completions \"HTTP/1.1 200 OK\"\n"
     ]
    },
    {
     "data": {
      "text/html": [
       "<span style='color: cyan'>Output token 1:</span> YES, <span style='color: darkorange'>logprobs:</span> -1.3856492842023727e-06, <span style='color: magenta'>linear probability:</span> 100.0%<br><span style='color: cyan'>Output token 2:</span>  YES, <span style='color: darkorange'>logprobs:</span> -13.875000953674316, <span style='color: magenta'>linear probability:</span> 0.0%<br>"
      ],
      "text/plain": [
       "<IPython.core.display.HTML object>"
      ]
     },
     "metadata": {},
     "output_type": "display_data"
    },
    {
     "name": "stdout",
     "output_type": "stream",
     "text": [
      "\n",
      "\n",
      "\n",
      "Headline: US 9,352,308 B2 \n",
      " 19 \n",
      " MIE 0.91 g/10 min \n",
      " MIFAMIE 26 \n",
      " Fraction Soluble in Xylene 9.2% \n",
      " Comonomer content 8.7% Polymer Density 0.917 g/cm Bulk Density 0.36 g/cm \n",
      " Pilot Plant Tests \n",
      " A pilot plant c\n"
     ]
    },
    {
     "name": "stderr",
     "output_type": "stream",
     "text": [
      "2025-03-30 12:04:42,269 - INFO - HTTP Request: POST https://api.openai.com/v1/chat/completions \"HTTP/1.1 200 OK\"\n"
     ]
    },
    {
     "data": {
      "text/html": [
       "<span style='color: cyan'>Output token 1:</span> YES, <span style='color: darkorange'>logprobs:</span> -1.6240566083070007e-06, <span style='color: magenta'>linear probability:</span> 100.0%<br><span style='color: cyan'>Output token 2:</span>  YES, <span style='color: darkorange'>logprobs:</span> -14.000001907348633, <span style='color: magenta'>linear probability:</span> 0.0%<br>"
      ],
      "text/plain": [
       "<IPython.core.display.HTML object>"
      ]
     },
     "metadata": {},
     "output_type": "display_data"
    },
    {
     "name": "stdout",
     "output_type": "stream",
     "text": [
      "\n",
      "\n",
      "\n",
      "Headline: US 9,352,308 B2 \n",
      " 21 \n",
      " FIG.3 and an X-Ray Absorption Near Edge Structure spectra \n",
      " as shown in one or more of FIGS. 4, 5 and 6. 2. The catalyst composition of claim 1, wherein the product of the homop\n"
     ]
    },
    {
     "name": "stderr",
     "output_type": "stream",
     "text": [
      "2025-03-30 12:04:42,750 - INFO - HTTP Request: POST https://api.openai.com/v1/chat/completions \"HTTP/1.1 200 OK\"\n"
     ]
    },
    {
     "data": {
      "text/html": [
       "<span style='color: cyan'>Output token 1:</span> NO, <span style='color: darkorange'>logprobs:</span> -1.9361264946837764e-07, <span style='color: magenta'>linear probability:</span> 100.0%<br><span style='color: cyan'>Output token 2:</span>  NO, <span style='color: darkorange'>logprobs:</span> -15.625, <span style='color: magenta'>linear probability:</span> 0.0%<br>"
      ],
      "text/plain": [
       "<IPython.core.display.HTML object>"
      ]
     },
     "metadata": {},
     "output_type": "display_data"
    },
    {
     "name": "stdout",
     "output_type": "stream",
     "text": [
      "\n",
      "\n"
     ]
    }
   ],
   "source": [
    "df = analyze_file_agent(\"/home/anatoly_kayda/Desktop/mipt/mipt_thesis/patent_files_for_experiments/US9352308.pdf\")"
   ]
  },
  {
   "cell_type": "code",
   "execution_count": 9,
   "metadata": {},
   "outputs": [
    {
     "data": {
      "text/plain": [
       "'US 9,352,308 B2 \\n 5 \\n over a period from 1 to 20 hours. The amount of remaining \\n OH on the silica surface after this treatment ranges from 0.1 to 2 mmoles OH per g of silica, preferably between 0.5 and \\n 1.5 mmoles OH per g of silica. The impregnation is preferably carried out by Suspending \\n 10 to 20 parts by weight of silica for each 100 parts by volume of a solution of an organometallic compound of the groups 1, \\n 2, 12 or 13, in aliphatic hydrocarbons, and maintaining the \\n Solution with stirring at a temperature which ranges from \\n room temperature to the boiling point of the solution of the organometallic compound of the groups 1, 2, 12 or 13, in aliphatic hydrocarbons, preferably at room temperature, over \\n a period from 30 to 120 minutes, preferably between 50 and \\n 60 minutes. \\n The organometallic compounds of groups 1, 2, 12 or 13 of \\n the periodic table suitable for use in step (a) are alkyl com pounds and alkyl halide compounds of metals belonging to \\n these groups, and preferably aluminum, magnesium, lithium and Zinc compounds. Specific examples of these compounds \\n are trimethylaluminum, triethylaluminum (TEAL), methyla \\n luminum dichloride, methylaluminum sesquichloride, isobu tylaluminum dichloride, isobutylaluminum sesquichloride, \\n ethylaluminum dichloride (EADC), diethylaluminum chlo \\n ride (DEAC), ethylaluminum sesquichloride (EASC), tri-n- \\n hexylaluminum (Tn-HAL), tri-n-octylaluminum (TnOAL). butyl ethylmagnesium (BEM), butyl octylmagnesium \\n (BOMAG), methylmagnesium chloride and ethylmagnesium \\n chloride. They can be used concentrated or preferably dis \\n Solved in the above organic solvent or in a different organic Solvent chosen from aliphatic hydrocarbons. \\n Specific aliphatic hydrocarbons used as solvents for the \\n above mentioned solution can have between 4 and 50 car \\n bons, preferably between 6 and 20 carbons. Specific examples of these aliphatic hydrocarbons used as solvents are \\n hexane, heptane, octane, isoparaffin, and the more preferably \\n hexane and heptane. In step (a) of the process, the impregnation step using the \\n Solution of organometallic compound of the groups 1, 2, 12 or \\n 13, in aliphatic hydrocarbons, is carried out by using an amount of organometallic compound, ranging from 0.1 to 1 \\n mmole of the organometallic solution per mmole of OH on \\n the silica surface, preferably 0.3 to 0.7 mmoles of the orga \\n nometallic solution per mmole of OH on the silica surface. At the end of the impregnation treatment, the silica can be removed (step b) from the Suspension by usual methods such as settling and siphoning, filtration or centrifugation. The \\n operating temperature of this step can vary from room tem perature to the boiling point of the aliphatic hydrocarbonused \\n as the solvent, preferably at room temperature. The wet silica \\n is directly used in the next step. \\n According to the present invention, in step (c) of the pro \\n cess, a liquid component from the reaction between at least one magnesium compound, chosen from magnesium halides \\n and magnesium alkoxides and at least one titanium com \\n pound, chosen from titanium alkoxides and titanium halogen alkoxides, is prepared. Generally, it is necessary to heat the \\n mixture of these compounds, at a temperature in the range of \\n about 100° C. to about 200° C., preferably between 140° C. \\n and 160° C., over a period of time from 1 to 100 hours, preferably between 10 and 30 hours. The mixture comprising said compounds has to be prepared under turbulent stirring \\n and underinert conditions. After the formation of the product obtained from the reaction between these compounds, which is noted by the disappearance of the Solid Suspension, the \\n temperature of the obtained liquid product can be reduced to ambient temperature without precipitation of any solid. This \\n liquid component is diluted in an inert organic solvent to form 10 \\n 15 \\n 25 \\n 30 \\n 35 \\n 40 \\n 45 \\n 50 \\n 55 \\n 60 \\n 65 6 \\n a clear Solution. Specific organic Solvents used for the above mentioned solution can be aliphatic hydrocarbons having \\n between 4 and 50 carbons, preferably between 6 and 20 carbons. Specific examples of these aliphatic hydrocarbons \\n used as organic solvents are: hexane, heptane, octane, isopar \\n affin, most preferably hexane and heptane. \\n The magnesium compounds Suitable for the purpose of the \\n invention are those having the formulae MgX or Mg (OR), \\n wherein R represents a linear or branched alkyl group, con \\n taining from 1 to 10 carbons and X represents a halogenatom \\n and preferably a chlorine atom. Specific examples of magne \\n sium compounds are magnesium dichloride, magnesium \\n diethylate, magnesium di-n-butylate, magnesium diisopro \\n pylate and magnesium diisobutylate. \\n The amount of magnesium compound used in the above \\n preparation corresponds to the amount ranging from 0.0024 \\n to 0.24 g of magnesium per g of silica, preferably between \\n 0.0042 and 0.042 g of magnesium per g of silica. \\n The titanium compounds most Suited for the purpose are \\n alkoxides and chloroalkoxides, containing from 1 to 4 car \\n bons in the alkoxide portion. Specific examples of these com pounds are: titanium tetra-n-propylate, titanium tetra-n-buty \\n late, titanium tetra-1-propylate, titanium tetra-1-butylate and \\n the corresponding titanium mono- or di-chloroalkoxides. \\n The amount of titanium compound used in the above preparation corresponds to an amount ranging from 0.01 to 1 \\n g of titanium per g of silica, preferably between 0.0175 and \\n 0.175 g of titanium per g of silica. In general, when preparing the solution of the step (c), \\n titanium is used in Such an amount that the molar ratio Ti/Mg varies within the range of 0.3 to 4, and preferably within the range of 0.5 to 2. \\n In step (d) the silica obtained in step (b) is suspended in an inert organic solvent, such as a hydrocarbon Solvent of the aliphatic type, preferably the same used in the previous steps \\n and the dissolved product prepared in step (c) is added to the Suspension. The impregnation is carried out by Suspending \\n 100 parts by weight of silica, obtained on step (b), for each 5 to 200 parts by volume of the component prepared on step (c) \\n and after dilution in the inert organic solvent. The Suspension is maintained under stirring at a temperature that ranges from \\n room temperature to the boiling point of the mixture, prefer \\n ably at 60°C., over a period of time from 30 to 180 minutes, preferably between 50 and 60 minutes. In this way a solid component Suspended in an inert organic solvent is obtained. \\n Optionally the solid component obtained in step (d) can be \\n Submitted to reducing conditions in a step (e). Said result is obtained, for example, by using reducing agents, such as Na-alkyls, Li-alkyls, Zn-alkyls, Mg-alkyls and correspond \\n ing aryl-derivatives, Grignard compounds of the type RMgX. \\n wherein R represents a linear or branched alkyl group, con taining from 1 to 10 carbons or aryl-derivatives and X repre sents a halogenatom and preferably a chlorine atom, Al-alkyl \\n halide compounds or by using reducing agents such as silicon compounds. Particularly effective silicone compounds are \\n the polymethylhydrosiloxanes in which the monomer unit \\n has the general formula HSiR-O I, wherein R is H. halogen, alkyl with 1 to 10 carbon atoms, aryl with 6 to 10 \\n carbon atoms, alkoxyl with 1 to 10 carbon atoms, aryloxyl \\n with 6 to 10 carbon atoms or carboxyl with 1 to 10 carbon atoms, and n is a degree of polymerization that ranges \\n between 5 and 100. Specific examples of such polymethyl \\n hydrosiloxanes (PMHS) include the compounds: (CH)SiO \\n (CH)HSiO, Si(CH), (CHHSiO) (CHHSiO), HSi O SiH OSiRI, phenylhydropolysiloxanes in which the hydrogen atoms can be partially replaced by methyl groups.  US 9,352,308 B2 \\n 7 \\n Other silicon compounds useful as reducing agents in the \\n practice of this invention are: silanes (SiH, in which m is a number equal to or higher than 1), alkyl-silanes or aryl \\n silanes (RSiH, in which Risalkyl oraryland X is a number varying from 1 to 3) and alkoxy-silanes or aryloxy-silanes \\n (RO, SiH, in which R is alkyl or aryl and x is a number \\n varying from 1 to 3). \\n The reducing agent chosen from the above examples, pref \\n erably polymethylhydrosiloxanes (PMHS), is added to the \\n solid obtained in the step (d), dissolved preferably in the same \\n inert organic solvent used for the reaction Suspension. This \\n addition is carried out slowly over a period of time from 30 to \\n 180 minutes, preferably between 50 and 80 minutes and the Solid Suspension is maintained under stirring at a temperature \\n ranging from room temperature to the boiling point of the \\n aliphatic hydrocarbon used as solvent, preferably at 60° C. \\n The amount of reducing agent that can be used in step (e) \\n corresponds to the amount ranging from 0 to 2 moles per mole \\n of titanium, preferably between 0 and 0.1 mole per mole of \\n titanium. It has been observed, in the experiments, that the \\n quantity used of this reducing agent can control the amount of \\n titanium fixed on silica at the final catalyst. In the next step of the process according to the present \\n invention, the Suspension obtained in (d) or (e), which is still under stirring, is put in contact and interacted with one or more halogenating agents. \\n Halogenating agents useful in the practice of the present \\n invention can be either liquid or gaseous materials, pure or preferably dissolved in an inert organic solvent. Representa \\n tive but non-exhaustive examples of halogenating agents use \\n ful in the present invention are methylaluminum dichloride, methylaluminum sesquichloride, isobutylaluminum dichlo \\n ride, isobutylaluminum sesquichloride, ethylaluminum \\n dichloride (EADC), diethylaluminum chloride (DEAC), ethylaluminum sesquichloride (EASC), SiCl, SnCl4, HCl, \\n Cl, HSiCl, aluminum chloride, ethylboron dichloride, boron chloride, diethylboron chloride, HCC1, PC1, POCl, acetyl chlorides, thionyl chloride, sulfur chloride, methyl \\n trichlorosilane, dimethyl dichlorosilane, TiCl, VC1, CC1, t-butyl chloride, n-butyl chloride, chloroform, 1,1,1-trichlo \\n roethane, 1.1.2-trichloroethane, 1,2-dichloroethane and \\n dichloromethane. \\n The preferred halogenating agents are chlorinating agents \\n and of these SiCl, SnCl4, HCl, Cl, HSiCl, methyl trichlo rosilane, dimethyl dichlorosilane, t-butyl chloride, n-butyl \\n chloride, chloroform, 1,1,1-trichloroethane, 1,1,2-trichloro \\n ethane, 1,2-dichloroethane and dichloromethane are pre ferred, most preferably SiCl The amount of halogenating agent used in the step (f) of the process corresponds to the amount ranging from 0.5 to 3 moles of halogenating agent per mole of titanium, preferably \\n between 1 and 1.8 moles of halogenating agent per mole of \\n titanium. \\n The time necessary for halogenating Ti-alkoxide and optionally Mg-alkoxide varies from 0.5 hour to 5 hours, pref \\n erably from 1.5 hours to 2.5 hours. The temperature of the Solid Suspension halogenation ranges from room temperature \\n to the boiling point of the aliphatic hydrocarbon used as \\n solvent, preferably at 60° C. According to the present invention, in step (g) of the pro \\n cess, the Solid obtained in (f) is kept under higher temperature \\n that depends on the inert organic solvent used. \\n The time necessary for this thermal treatment of the solid obtained in step (f) ranges from 0.5 hour to 5 hours, preferably from 3 to 5 hours. The ideal temperature for this purpose \\n depends on the organic solvent used and it can be conducted 5 \\n 10 \\n 15 \\n 25 \\n 30 \\n 35 \\n 40 \\n 45 \\n 50 \\n 55 \\n 60 \\n 65 8 \\n from 60° C. to 120° C., preferably from 60°C. to 75°C., when hexane is used as the organic solvent. \\n At the step (h) after the thermal treatment, the solid can be separated from the Suspension, for example by settling and \\n siphoning, filtration or centrifugation, washed with an inert \\n organic solvent, preferably hexane, and then dried. The wash ing temperature can vary from room temperature to the boil \\n ing point of the aliphatic hydrocarbon used as solvent, pref erably at room temperature. \\n Optionally, the solid obtained in (h) is washed with a solu tion of organometallic compounds of the groups 1, 2, 12 or 13. \\n More specifically, in the optional step (i) the solid obtained in \\n step (h) is suspended in an inert organic solvent such as \\n hexane or heptane, and it is put in contact with one or more organometallic compounds of the groups 1, 2, 12 or 13 of the periodic table, preferably metal-alkyl compounds or metal \\n alkylhalide compounds belonging to these groups, in special \\n aluminum, magnesium, lithium and Zinc compounds. Spe cific examples of these compounds are methylaluminum \\n dichloride, methylaluminum sesquichloride, isobutylalumi \\n num dichloride, isobutylaluminum sesquichloride, ethylalu \\n minum dichloride (EADC), diethylaluminum chloride (DEAC), ethylaluminum sesquichloride (EASC), tri-n-hexy \\n laluminum (Tn-HAL), tri-n-octylaluminum (TnOAL). They \\n can be used concentrated or preferably dissolved in the above organic solvent or in a different organic solvent chosen from aliphatic hydrocarbons. The process is carried out at a tem perature ranging from room temperature to the boiling point \\n of the organic solvent used as solvent, preferably at room temperature, for a period of time that can vary from 10 min \\n utes to 24 hours, preferably from 40 minutes to 5 hours. When using more than one organometallic compound in \\n the step (i), the different compounds can be fed in the same \\n Solution or in individual Solutions, at the same time or in Subsequent additions. \\n The amount of the metal-alkyl halide compound of the groups 1, 2, 12 or 13 or metal-alkyl compound of the groups \\n 1, 2, 12 or 13, used in the step (i) of the process corresponds \\n to the amount ranging from 0 to 3 g of the corresponding metal-alkyl halide compound of the groups 1, 2, 12 or 13 or \\n metal-alkyl compound of the groups 1, 2, 12 or 13, per g of \\n dry catalyst component obtained, preferably between 0.05 and 1 g of the corresponding metal-alkylhalide compound of \\n the groups 1, 2, 12 or 13 or metal-alkyl compound of the groups 1, 2, 12 or 13, per g of dry catalyst component \\n obtained. \\n The use of inert organic solvents, most specifically ali phatic hydrocarbons, in all process steps of the present inven \\n tion brings another important feature to the Solid catalyst \\n component characteristics. The Solid catalyst component \\n obtained is completely free of residual polar solvents, such as \\n ethanol, and their derivatives in its final composition. \\n The titanium amount that remains fixed on the Solid cata \\n lyst component may reach up to 10% by weight, expressed as \\n the Timetal content, and it is preferably comprised between 0.5 and 2% by weight. \\n The magnesium amount that remains fixed on the Solid catalyst component may reach up to 6% by weight, expressed \\n as the Mg metal content, and it is preferably comprised \\n between 0.3 and 3.0% by weight. \\n The chlorine amount that remains fixed on the solid cata \\n lyst component may reach up to 20% by weight, expressed as \\n the C1 contents, and it is preferably between 5 and 12% by weight. \\n The alkoxy amount that remains fixed on the Solid catalyst component may reach up to 20% by weight and it is prefer \\n ably between 3 and 8% by weight.  US 9,352,308 B2 \\n The amount of organometallic compound of the groups 1, \\n 2, 12 or 13 that remains fixed on the solid catalyst component may reach up to 5% by weight, expressed as the metal con \\n tents, and it is preferably between 0.3 and 3% by weight. This organometallic compound of the groups 1, 2, 12 or 13 are metal-alkyl compounds or metal-alkyl halide compounds belonging to these groups, in special organoaluminum, orga \\n nomagnesium, organolithium and organozinc compounds, \\n pure or in mixtures. The particle size distribution of the solid catalyst compo \\n nent of the present invention is very close to the silica used as carrier and, as consequence, its average particle size ranges \\n also from 10 to 120 um. The solid catalyst component surface area ranges from 80 to 300 m/g and its pore volume ranges \\n from 0.1 to 1.0 ml/g. The catalyst component of the present invention is Suitable for using in liquid phase or gas phase, ethylene polymeriza \\n tion process. The co-catalyst used in the polymerization pro \\n cess is an alkyl-aluminum, preferably trimethyl aluminum or \\n triethyl aluminum. The mass ratio co-catalyst:catalyst in the polymerization process is between 0.5:1 and 6.0:1. \\n An important feature is its ability to produce, when sub \\n mitted to polymerization conditions, particles of homo and copolymers of ethylene with controlled morphology having \\n high bulk density and containing a very Small quantity of \\n fines. This feature allows the use of this catalyst in a process where the catalyst can be fed directly into the polymerization \\n reactor. Particular forms to feed the catalyst are in dry bulk powder, in paste, in oil Suspension or in solvent Suspension. \\n As an alternative the catalyst can be prepolymerized with \\n ethylene or propylene and optionally with a comonomer \\n before being fed into the reactor. Another important feature of the present invention is its tolerance to the high electrostatic charges occurring in gas \\n phase reactors. This feature helps to prevent the formation of \\n polymer sheets or agglomerates on the reactor walls. The \\n good catalytic yield and the low decay kinetics observed for \\n the present invention, allows its use in most polymerization processes, including processes operating in more than one \\n reactor in series. \\n A further feature characteristic of the catalyst of the present invention is when using a microspheroidal silica as Support \\n the catalyst obtained has also a spheroidal morphology and in consequence a polymer product with good morphology and \\n flowability is obtained. \\n The catalyst component of the present invention is advan tageously used in the polymerization of ethylene and mix \\n tures thereof with alpha-olefins CH2=CHR, wherein R is an alkyl or cicloalkyl or aryl radical with 1-12 carbon atoms \\n because it has a high activity and low decay kinetics. In particular, it is used in the preparation of: High density polyethylenes (HDPE, having a density greater than 0.940 g/cm), particularly with narrow \\n molecular weight distribution (MFR-27), including homopolymers of ethylene and copolymers of ethylene \\n with one or more alpha-olefins having from 3 to 14 \\n carbon atoms. These products are particularly Suitable for thermoforming and injection applications; \\n Linear medium density and linear low density polyethyl \\n enes (LMDPE and LLDPE, having a density lower than 0.940 g/cm) most specifically very low and ultra low \\n density linear polyethylenes (VLDPE and ULDPE, hav ing a density lower than 0.920 g/cm and as low as 0.880 g/m) consisting of copolymers of ethylene with one or \\n more alpha-olefins having from 3 to 14 carbon atoms, having a content of units derived from ethylene greater than approximately 80% by weight. These products 10 \\n 15 \\n 25 \\n 30 \\n 35 \\n 40 \\n 45 \\n 50 \\n 55 \\n 60 \\n 65 10 \\n have an improved structure due to the very good \\n comonomer insertion and, in most cases, they have also \\n a narrow molecular weight distribution (MFR-27). \\n Hence the low xylene soluble contents are obtained, allowing the production of films with superior optical \\n properties and very low blocking. The LMDPE products are particularly useful for rotomolding applications; \\n Elastomeric copolymers of ethylene and propylene and \\n elastomeric terpolymers of ethylene and propylene with \\n minor amounts of a diene, having a content of units derived from ethylene comprised between about 30 and 70% by weight. \\n EXAMPLES \\n The present invention is now explained in more details by \\n means of the following Examples, which should not be under \\n stood as limiting the scope of the invention. The properties here indicated are determined according to \\n the following methods: \\n Surface area and pore Volume: determined by nitrogen adsorption according to the B.E.T methodology using a \\n “Micromeritics ASAP 2010 apparatus. Size of the catalyst particles: determined according to a \\n method based on the principle of optical diffraction of mono chromatic laser light, using the “Malvern Instr. 2600 appa \\n ratuS. \\n MIE melt index: ASTM D-1238, condition E \\n MIF melt index: ASTM D-1238, condition F \\n MFR melt flow ratio: MIFAMIE \\n Flowability: it is the time required by 100 g of polymer to \\n flow through a stainless steel funnel (outlet opening diameter \\n of 12.7 mm and side walls at 20° to the vertical). Bulk density: ASTM D-1895 Morphology: optical microscopy. \\n Fraction soluble in Xylene: determined at 25°C. Comonomer contents: percentage by weight, as deter \\n mined via I.R. spectra. \\n Polymer density: ASTM D-1928-C and ASTM D-1505. \\n HaZe: ASTM-D 1003 \\n GloSS: ASTM-D 2457 \\n Blocking: ASTM-D 3354 \\n The haze, gloss and blocking measurements are made in \\n films of 80 Lum of thickness with 1500 ppm of an amorphous \\n silica as additive. \\n Particle size distribution of the particulate polymer: \\n ASTM-D 1921 \\n In the following experimental examples, which are \\n intended to provide a better illustration of the present inven tion, an activated microspheroidal silica carrier is used, hav ing an average particle size of 40 um, a SiO2 contents Superior to 99% by weight, a surface area of 290 m/g and a pore \\n volume of 1.62 ml/g. The triethylaluminum (TEAL) and the \\n diethylaluminum chloride (DEAC) are available from Akzo \\n Nobel Co. The titanium tetra-n-butylate is available from Merck. The magnesium chloride is supplied by from Maru \\n yasu Co. The hexane available from Phillips Petroleum was purified with molecular sieves and nitrogen to remove oxygen and water. All Solid component preparations were carried out in an inert atmosphere. \\n Preparation of the Solid Catalyst Component \\n Example 1 \\n In a 5 liter flask fitted with a mechanical stirrer and previ ously purged with nitrogen were fed 44 g (0.462 moles) of  US 9,352,308 B2 \\n 11 \\n anhydrous MgCl, and 330 ml (0.969 moles) of Ti(OBu). \\n This mixture was allowed to stir at 300 rpm and heated to 150° \\n C. for about 12 hours in order to have the solids completely dissolved, thereby a clear liquid product was obtained. This resulting liquid was cooled down to 40°C. and under gently \\n stirring at 150 rpm, it was diluted with 3200 ml of anhydrous \\n hexane. Into this solution kept at 40° C. and under the same stirring, 250g of the silica support were added. This silica was \\n previously dehydrated and treated with 19 ml (0.139 moles) of triethylaluminum diluted in anhydrous hexane, for 50 min \\n utes and at room temperature. Once the addition of the silica is completed, the mixture was heated to 60° C. and kept at this \\n temperature for 1 hour. Into this mixture, kept at 60° C. and undergently stirring, a solution consisting of 100 ml of anhy \\n drous hexane and 192 ml of PMHS (0.085 moles) was dropped into it over a period of time of 1.5 hours. At the end \\n of the addition, stirring was continued for 2 hours at a tem \\n perature of 60° C. To this mixture a solution of 200 ml of anhydrous hexane and 184 ml of SiC1 (1.606 moles) was dropped over a period of time of 1 hour. At the end of the addition, stirring was continued for 3.5 hours at a temperature \\n of 60°C. The temperature of the mixture was then brought to \\n 65° C. and kept for additional 2 hours. After cooling the mixture to room temperature, the stirring was stopped to have \\n the solid settled. The supernatant liquid was removed, the Solid was repeatedly washed with anhydrous hexane and then \\n dried at 60° C. under nitrogen flow thus giving 390 g of a reddish powder. \\n The chemical and physical characteristics of the resulting \\n reddish powder were as follows: Total Titanium-7.0% (by weight) Mg 2.0% (by weight) \\n SiO=75.9% (by weight) Al=0.5% (by weight) \\n Cl=10.9% (by weight) \\n OBu=4.1% (by weight) Surface Area (B.E.T.)=200 m/g Pore Volume (B.E.T.)=0.45 cm/g \\n Example 2 \\n In a 5 liter flask fitted with a mechanical stirrer and previ ously purged with nitrogen were fed 5.28 g (0.055 moles) of \\n anhydrous MgCl2 and 39.6 ml (0.116 moles) of Ti(OBu). \\n This mixture was allowed to stir at 300 rpm and heated to 150° C. for about 12 hours in order to have the solids completely dissolved, thereby a clear liquid product was obtained. This \\n resulting liquid was cooled down to 40°C. and under gently stirring at 150 rpm, it was diluted with 3200 ml of anhydrous \\n hexane. Into this solution kept at 40° C. and under the same stirring, 300g of the silica support were added. This silica was previously dehydrated and treated with 23 ml (0.167 moles) \\n of triethylaluminum diluted in anhydrous hexane, for 50 min \\n utes and at room temperature. Once the addition of the silica \\n is completed, the mixture was heated to 60° C. and kept at this temperature for 1 hour. Into this mixture, kept at 60° C. and undergently stirring, a solution consisting of 100 ml of anhy \\n drous hexane and 23 ml of PMHS (0.010 moles) was dropped \\n into it over a period of time of 1.5 hours. At the end of the addition, stirring was continued for 2 hours at a temperature \\n of 60°C. To this mixture a solution of 100 ml of anhydrous \\n hexane and 22 ml of SiCl, (0.192 moles) was dropped over a period of 1 hour. At the end of the addition, stirring was \\n continued for 3.5 hours at a temperature of 60°C. The tem perature of the mixture was then brought to 65° C. and kept \\n for additional 2 hours. After cooling the mixture to room temperature, the stirring was stopped to have the Solid settled. 10 \\n 15 \\n 25 \\n 30 \\n 35 \\n 40 \\n 45 \\n 50 \\n 55 \\n 60 \\n 65 12 \\n The Supernatant liquid was removed, the Solid was repeatedly \\n washed with anhydrous hexane and finally dried at 60° C. \\n under nitrogen flow thus giving 360 g of a light reddish powder. \\n The chemical and physical characteristics of the resulting \\n reddish powder were as follows: \\n Total Titanium=1.4% (by weight) Mg 0.5% (by weight) \\n SiO-81.0% (by weight) Al=1.4% (by weight) \\n Cl=8.4% (by weight) \\n OBu=6.3% (by weight) Surface Area (B.E.T.)=150 m/g Pore Volume (B.E.T.)=0.35 cm/g \\n Example 3 \\n In a 5 liter flask fitted with a mechanical stirrer and previ ously purged with nitrogen were fed 5.28 g (0.055 moles) of \\n anhydrous MgCl2 and 39.6 ml (0.116 moles) of Ti(OBu). \\n This mixture was allowed to stir at 300 rpm and heated to 150° C. for about 12 hours in order to have the solids completely dissolved, thereby a clear liquid product was obtained. This resulting liquid was cooled down to 40° C. and under gently \\n stirring at 150 rpm, it was diluted with 3200 ml of anhydrous \\n hexane. Into this solution kept at 40°C. and under the same stirring, 300g of the silica support were added. This silica was previously dehydrated and treated with 23 ml (0.167 moles) \\n of triethylaluminum diluted in anhydrous hexane, for 50 min \\n utes and at room temperature. Once the addition of the silica is completed, the mixture was heated to 60° C. and kept at this \\n temperature for 1 hour. Into this mixture, kept at 60° C. and undergently stirring, a solution consisting of 100 ml of anhy \\n drous hexane and 23 ml of PMHS (0.010 moles) was dropped \\n into it over a period of time of 1.5 hours. At the end of the addition, stirring was continued for 2 hours at a temperature \\n of 60°C. To this mixture a solution of 100 ml of anhydrous \\n hexane and 22 ml of SiCl, (0.192 moles) was dropped over a period of time of 1 hour. At the end of the addition, stirring \\n was continued for 3.5 hours at a temperature of 60° C. The temperature of the mixture was then brought to 65° C. and \\n kept for additional 2 hours. After cooling the mixture to room temperature, the stirring was stopped to have the Solid settled. \\n The Supernatant liquid was removed, the Solid was repeatedly \\n washed with anhydrous hexane. The solid thus obtained was again Suspended in 2200 ml of anhydrous hexane and then \\n 31.4 g of DEAC (0.260 moles) in 200 ml of anhydrous hexane were added to the resulting Suspension under gently stirring. \\n Contact was maintained for 50 min at room temperature. Finally, the Supernatant liquid was removed and the Solid was \\n dried at 60° C. under nitrogen flow thus giving 300 g of a brown-reddish powder. \\n The chemical and physical characteristics of the resulting \\n reddish powder were as follows: \\n Total Titanium=1.2% (by weight) Mg 0.3% (by weight) \\n SiO-81.0% (by weight) \\n Al=1.8% (by weight) Cl=7.0% (by weight) \\n OBu=7.7% (by weight) Surface Area (B.E.T.)=155 m/g Pore Volume (B.E.T.)=0.36 cm/g \\n Example 4 \\n In a 5 liter flask fitted with a mechanical stirrer and previ ously purged with nitrogen were fed 5.28 g (0.055 moles) of  US 9,352,308 B2 \\n 13 \\n anhydrous MgCl2 and 39.6 ml (0.116 moles) of Ti(OBu). \\n This mixture was allowed to stir at 300 rpm and heated to 150° \\n C. for about 12 hours in order to have the solids completely dissolved, thereby a clear liquid product was obtained. This resulting liquid was cooled down to 40°C. and under gently \\n stirring at 150 rpm, it was diluted with 3200 ml of anhydrous \\n hexane. Into this solution kept at 40° C. and under the same stirring, 300g of the silica support were added. This silica was \\n previously dehydrated and treated with 23 ml (0.167 moles) of triethylaluminum diluted in anhydrous hexane, for 50 min \\n utes and at room temperature. Once the addition of the silica is completed, the mixture was heated to 60° C. and kept at this \\n temperature for 1 hour. To this mixture a solution of 100 ml of anhydrous hexane and 22 ml of SiC1 (0.192 moles) was dropped over a period of time of 1 hour. At the end of the \\n addition, stirring was continued for 3.5 hours at a temperature of 60°C. The temperature of the mixture was then brought to \\n 65° C. and kept for additional 2 hours. After cooling the mixture to room temperature, the stirring was stopped to have \\n the solid settled. The supernatant liquid was removed, the Solid was repeatedly washed with anhydrous hexane and then \\n dried at 60°C. under nitrogen flow, thus giving 390g of a light \\n reddish powder. \\n The chemical and physical characteristics of the resulting \\n reddish powder were as follows: Total Titanium=1.5% (by weight) Mg-0.3% (by weight) \\n SiO=81.2% (by weight) Al=1.2% (by weight) \\n Cl=7.2% (by weight) \\n OBu=7.6% (by weight) Surface Area (B.E.T.)=153 m/g Pore Volume (B.E.T.)=0.36 cm/g \\n Example 5 \\n In a 5 liter flask fitted with a mechanical stirrer and previ ously purged with nitrogen were fed 52.8 g (0.554 moles) of \\n anhydrous MgCl, and 396 ml (1.163 moles) of Ti(OBu). \\n This mixture was allowed to stir at 300 rpm and heated to 150° C. for about 12 hours in order to have the solids completely dissolved, thereby a clear liquid product was obtained. This \\n resulting liquid was cooled down to 40°C. and under gently \\n stirring at 150 rpm, it was diluted with 3200 ml of anhydrous \\n hexane. Into this solution kept at 40° C. and under the same stirring, 300g of the silica support were added. This silica was previously dehydrated and treated with 23 ml (0.167 moles) \\n of triethylaluminum diluted in anhydrous hexane, for 50 min \\n utes and at room temperature. Once the addition of the silica \\n is completed, the mixture was heated to 60° C. and kept at this \\n temperature for 1 hour. To this mixture a solution of 200 ml of anhydrous hexane and 221 ml of SiCl (1.929 moles) was \\n dropped over a period of time of 1 hour. At the end of the addition, stirring was continued for 3.5 hours at a temperature \\n of 60°C. The temperature of the mixture was then brought to \\n 65° C. and kept for additional 2 hours. After cooling the mixture to room temperature, the stirring was stopped to have \\n the solid settled. The supernatant liquid was removed, the Solid was repeatedly washed with anhydrous hexane and then \\n dried at 60°C. under nitrogen flow thus giving 300 g of a light reddish powder. \\n The chemical and physical characteristics of the resulting \\n reddish powder were as follows: \\n Total Titanium=1.7% (by weight) MgF2.4% (by weight) \\n SiO=76.7% (by weight) \\n Al=0.8% (by weight) 10 \\n 15 \\n 25 \\n 30 \\n 35 \\n 40 \\n 45 \\n 50 \\n 55 \\n 60 \\n 65 14 \\n Cl=10.0% (by weight) \\n OBu=7.5% (by weight) \\n Surface Area (B.E.T.)=185 m/g Pore Volume (B.E.T.)=0.55 cm/g \\n Example 6 \\n In a 5 liter flask fitted with a mechanical stirrer and previ ously purged with nitrogen were fed 52.8 g (0.554 moles) of \\n anhydrous MgCl, and 396 ml (1.163 moles) of Ti(OBu). \\n This mixture was allowed to stir at 300 rpm and heated to 150° C. for about 12 hours in order to have the solids completely dissolved, thereby a clear liquid product was obtained. This resulting liquid was cooled down to 40° C. and under gently \\n stirring at 150 rpm, it was diluted with 3200 ml of anhydrous \\n hexane. Into this solution kept at 40°C. and under the same stirring, 300g of the silica support were added. This silica was \\n previously dehydrated and treated with 23 ml (0.167 moles) of triethylaluminum diluted in anhydrous hexane, for 50 min \\n utes and at room temperature. Once the addition of the silica is completed, the mixture was heated to 60° C. and kept at this \\n temperature for 1 hour. To this mixture a solution of 200 ml of \\n anhydrous hexane and 221 ml of SiCl (1.929 moles) was dropped over a period of time of 1 hour. At the end of the \\n addition, stirring was continued for 3.5 hours at a temperature of 60°C. The temperature of the mixture was then brought to \\n 65° C. and kept for additional 2 hours. After cooling the mixture to room temperature, the stirring was stopped to have \\n the solid settled. The supernatant liquid was removed, the \\n solid was repeatedly washed with anhydrous hexane. The solid thus obtained was again suspended in 2200 ml of anhy \\n drous hexane and then 30 g of DEAC (0.249 moles) in 200 ml of anhydrous hexane were added to the resulting Suspension \\n under gently stirring. Contact was maintained for 50 min at room temperature. Finally, the Supernatant liquid was \\n removed and the solid was dried at 60°C. under nitrogen flow thus giving 400 g of a brown-reddish powder. \\n The chemical and physical characteristics of the resulting \\n reddish powder were as follows: Total Titanium=1.8% (by weight) Mg 2.7% (by weight) \\n SiO=75.5% (by weight) Al=1.4% (by weight) \\n Cl=12.0% (by weight) \\n OBu=5.6% (by weight) Surface Area (B.E.T.)=180 m/g Pore Volume (B.E.T.)=0.53 cm/g \\n Example 7 \\n In a 5 liter flask fitted with a mechanical stirrer and previ ously purged with nitrogen were fed 24 g (0.252 moles) of \\n anhydrous MgCl, and 180 ml (0.528 moles) of Ti(OBu). \\n This mixture was allowed to stir at 300 rpm and heated to 150° C. for about 12 hours in order to have the solids completely dissolved, thereby a clear liquid product was obtained. This \\n resulting liquid was cooled down to 40° C. and under gently \\n stirring at 150 rpm, it was diluted with 3200 ml of anhydrous \\n hexane. Into this solution kept at 40°C. and under the same stirring, 300g of the silica support were added. This silica was previously dehydrated and treated with 23 ml (0.167 moles) \\n of triethylaluminum diluted in anhydrous hexane, for 50 min \\n utes and at room temperature. Once the addition of the silica \\n is completed, the mixture was heated to 60° C. and kept at this \\n temperature for 1 hour. To this mixture a solution of 100 ml of \\n anhydrous hexane and 100 ml of SiCl, (0.873 moles) was \\n dropped over a period of time of 1 hour. At the end of the  US 9,352,308 B2 \\n 15 \\n addition, stirring was continued for 3.5 hours at a temperature of 60°C. The temperature of the mixture was then brought to \\n 65° C. and kept for additional 2 hours. After cooling the mixture to room temperature, the stirring was stopped to have \\n the solid settled. The supernatant liquid was removed, the \\n Solid was repeatedly washed with anhydrous hexane and then \\n dried at 60° C. under nitrogen flow thus giving 360 g of a reddish powder. \\n The chemical and physical characteristics of the resulting \\n reddish powder were as follows: \\n Total Titanium=2.1% (by weight) Mg-1.4% (by weight) \\n SiO-78.3% (by weight) Al=0.9% (by weight) \\n Cl=8.7% (by weight) \\n OBu=7.6% (by weight) Surface Area (B.E.T.)=193 m/g Pore Volume (B.E.T.)=0.62 cm/g \\n Example 8 \\n In a 5 liter flask fitted with a mechanical stirrer and previ ously purged with nitrogen were fed 24 g (0.252 moles) of \\n anhydrous MgCl, and 180 ml (0.528 moles) of Ti(OBu). \\n This mixture was allowed to stir at 300 rpm and heated to 150° C. for about 12 hours in order to have the solids completely dissolved, thereby a clear liquid product was obtained. This resulting liquid was cooled down to 40°C. and under gently \\n stirring at 150 rpm, it was diluted with 3200 ml of anhydrous \\n hexane. Into this solution kept at 40° C. and under the same stirring, 300g of the silica support were added. This silica was previously dehydrated and treated with 23 ml (0.167 moles) \\n of triethylaluminum diluted in anhydrous hexane, for 50 min \\n utes and at room temperature. Once the addition of the silica is completed, the mixture was heated to 60° C. and kept at this \\n temperature for 1 hour. To this mixture a solution of 100 ml of anhydrous hexane and 100 ml of SiC1 (0.873 moles) was dropped over a period of time of 1 hour. At the end of the addition, stirring was continued for 3.5 hours at a temperature \\n of 60°C. The temperature of the mixture was then brought to \\n 65° C. and kept for additional 2 hours. After cooling the \\n Wave number \\n (nm) \\n Chemical \\n species \\n Concentration \\n (%) \\n mixture to room temperature, the stirring was stopped to have \\n the solid settled. The supernatant liquid was removed, the \\n solid was repeatedly washed with anhydrous hexane. The solid thus obtained was again suspended in 2200 ml of anhy \\n drous hexane and then 30 g of DEAC (0.249 moles) in 200 ml of anhydrous hexane were added to the resulting Suspension \\n under gently stirring. Contact was maintained for 50 min at room temperature. Finally, the Supernatant liquid was \\n removed and the solid was dried at 60°C. under nitrogen flow thus giving 350 g of a brown-reddish powder. \\n The chemical and physical characteristics of the resulting \\n reddish powder were as follows: \\n Total Titanium=2.0% (by weight) Mg-1.5% (by weight) \\n SiO=76.8% (by weight) 10 \\n 15 \\n 25 \\n 30 \\n 35 \\n 55 \\n 60 \\n 65 257.9 16 \\n Al=1.7% (by weight) \\n Cl=10.3% (by weight) \\n OBu=6.7% (by weight) \\n Surface Area (B.E.T.)=202 m/g \\n Pore Volume (B.E.T.)=0.48 cm/g. \\n The produced catalyst demonstrates the following proper ties when analyzed with X-ray photoelectron spectroscopy, \\n UV-VIS spectroscopy and XANES spectroscopy. \\n X-Ray Photoelectron Spectroscopy (XPS) \\n Triethylaluminum (TEAL) was used during polymeriza \\n tion, therefore, the FWHM was analyzed with or without the \\n reaction with TEAL. \\n BINDING \\n TEAL ENERGY FWHM \\n CATALYST REACTION (TI 2p 3/2) (eV) \\n Example 8 NO 458.65 3.0 \\n YES Il-8. 3.0 \\n na.—not analyzed, \\n From the XPS spectra, the intensity of the signals and the \\n intensity ratio of the signals of elements such as C. Si, Ti and Mg were observed and analyzed as shown below: \\n INTENSITY OF INTENSITYRATIO \\n THE SIGNALS OF THESIGNALS \\n C 1s Si2p Ti2p 3/2 Mg KLL Mg/Si Ti/Si MgTi \\n 43OO STS4 2350 1343 O.23 O.41 O.S7 \\n UV-VIS Spectroscopy \\n The catalyst of Example 8 was analyzed by UV-VIS spec \\n troscopy. FIG.3 provides identification of titanium species in \\n the surface of the catalytic support. See wave number values, \\n titanium chemical species and their concentration in the fol lowing Table: \\n Example 8 \\n 287.6 311.8 331.7 343.4 \\n Pentacoordinated Pentacoordinated Oligomerical Oligomerical Oligomerical \\n T T octahedric Ti octahedric T octahedric Ti \\n (IV)) (IV) (IV) \\n 34.9 21.6 25.9 13.4 4.2 \\n XANES Spectroscopy \\n XANES spectroscopy analysis was done for the catalyst of \\n Example 8. XANES spectra at the Ti Kedge are presented in \\n FIG. 4. The spectra is shifted in they axis for a better inspec tion of the XANES features. A representation of the pre-edge \\n structures is presented in FIG. 5. The inset corresponds to the superposition of the pre-edge structures. FIG. 6 provides \\n close inspection of the pre-edge features for Example 8. \\n Example 9 \\n In a 5 liter flask fitted with a mechanical stirrer and previ ously purged with nitrogen were fed 52.8 g (0.554 moles) of \\n anhydrous MgCl, and 396 ml (1.163 moles) of Ti(OBu). \\n This mixture was allowed to stir at 300 rpm and heated to 150°  US 9,352,308 B2 \\n 17 \\n C. for about 12 hours in order to have the solids completely \\n dissolved, thereby a clear liquid product was obtained. This \\n resulting liquid was cooled down to 40°C. and under gently \\n stirring at 150 rpm, it was diluted with 3200 ml of anhydrous \\n hexane. Into this solution kept at 40° C. and under the same stirring, 300g of the silica support were added. This silica was previously dehydrated and treated with 23 ml (0.167 moles) \\n of triethylaluminum diluted in anhydrous hexane, for 50 min \\n utes and at room temperature. Once the addition of the silica is completed, the mixture was heated to 60° C. and kept at this \\n temperature for 1 hour. To this mixture a solution of 200 ml of anhydrous hexane and 221 ml of SiC1 (1.929 moles) was dropped over a period of time of 1 hour. At the end of the addition, stirring was continued for 3.5 hours at a temperature \\n of 60°C. The temperature of the mixture was then brought to \\n 65° C. and kept for additional 2 hours. After cooling the mixture to room temperature, the stirring was stopped to have \\n the solid settled. The supernatant liquid was removed, and the solid was repeatedly washed with anhydrous hexane. The \\n solid thus obtained was again suspended in 2200 ml of anhy \\n drous hexane and then 30 g of DEAC (0.249 moles) in 200 ml of anhydrous hexane were added to the resulting Suspension \\n under gently stirring. Contact was maintained for 50 min at room temperature. The Supernatant liquid was removed and \\n the solid was once again Suspended in 2200 ml of anhydrous \\n hexane and then 30 g of Tn-HAL (0.106 moles) in 200 ml of anhydrous hexane were added to the resulting Suspension \\n under gently stirring. Contact was maintained for 50 min at room temperature. Finally, the Supernatant liquid was \\n removed and the solid was dried at 60°C. under nitrogen flow thus giving 340 g of a brown-reddish powder. \\n The chemical and physical characteristics of the resulting \\n reddish powder were as follows: \\n Total Titanium=1.9% (by weight) MgF2.9% (by weight) \\n SiO=74.1% (by weight) \\n Al=1.5% (by weight) \\n Cl=12.6% (by weight) \\n OBu=6.0% (by weight) Surface Area (B.E.T.)=167 m/g Pore Volume (B.E.T.)=0.20 cm/g \\n Example 10 \\n In a 5 liter flask fitted with a mechanical stirrer and previ ously purged with nitrogen were fed 24 g (0.252 moles) of \\n anhydrous MgCl, and 180 ml (0.528 moles) of Ti(OBu). \\n This mixture was allowed to stir at 300 rpm and heated to 150° C. for about 12 hours in order to have the solids completely dissolved, thereby a clear liquid product was obtained. This \\n resulting liquid was cooled down to 40°C. and under gently stirring at 150 rpm, it was diluted with 3200 ml of anhydrous \\n hexane. Into this solution kept at 40° C. and under the same stirring, 300g of the silica support were added. This silica was \\n previously dehydrated and treated with 23 ml (0.167 moles) of triethylaluminum diluted in anhydrous hexane, for 50 min \\n utes and at room temperature. Once the addition of the silica \\n is completed, the mixture was heated to 60° C. and kept at this \\n temperature for 1 hour. To this mixture a solution of 100 ml of \\n anhydrous hexane and 100 ml of SiCl, (0.873 moles) was dropped over a period of time of 1 hour. At the end of the \\n addition, stirring was continued for 3.5 hours at a temperature of 60°C. The temperature of the mixture was then brought to \\n 65° C. and kept for additional 2 hours. After cooling the mixture to room temperature, the stirring was stopped to have \\n the solid settled. The supernatant liquid was removed, and the \\n solid was repeatedly washed with anhydrous hexane. The 5 \\n 10 \\n 15 \\n 25 \\n 30 \\n 35 \\n 40 \\n 45 \\n 50 \\n 55 \\n 60 \\n 65 18 \\n solid thus obtained was again suspended in 2200 ml of anhy \\n drous hexane and then 60 g of DEAC (0.498 moles) in 200 ml of anhydrous hexane were added to the resulting Suspension \\n under gently stirring. Contact was maintained for 50 min at room temperature. Finally, the Supernatant liquid was \\n removed and the solid was dried at 60°C. under nitrogen flow \\n thus giving 300 g of a brown-reddish powder. \\n The chemical and physical characteristics of the resulting \\n reddish powder were as follows: \\n Total Titanium=2.0% (by weight) Mg1.3% (by weight) \\n SiO=76.3% (by weight) \\n Al=2.3% (by weight) \\n Cl=10.8% (by weight) \\n OBu=6.3% (by weight) Surface Area (B.E.T.)=200 m/g Pore Volume (B.E.T.)=0.45 cm/g \\n Laboratory Polymerization Tests \\n Example 11 \\n Polymerization of Ethylene (HDPE) \\n A 4-liter stainless steel autoclave, purged under nitrogen \\n flow for 1 hour at 75° C. and then cooled to 30° C., was fed with 0.06 g of the solid catalyst component from the example \\n 8,0.79g of TEAL mixed with 75 ml of anhydrous hexane, and 280 g of anhydrous propane. The temperature was raised to \\n 60° C., and then 520 g of anhydrous propane were fed. The \\n temperature was raised again to 80° C. and then 2 bars of hydrogen were fed simultaneously with 7 bars of ethylene. \\n After that, the temperature was settled to 85°C. The poly \\n merization was conducted in slurry liquid phase. The poly \\n merization time was 2 hours, during which time the ethylene \\n pressure was kept constant. After this period the reaction was stopped by venting off ethylene, hydrogen and propane and \\n 55 g of polymer were obtained, which exhibited the following properties: \\n MIE 2.4 g/10 min \\n MIFAMIE 26 Polymer Density 0.96 g/cm \\n Bulk Density 0.46 g/cm \\n Example 12 \\n Copolymerization of Ethylene with Butene-1 \\n (LLDPE) \\n A 4 liter stainless steel autoclave, purged under nitrogen \\n flow for 1 hour at 75° C. and then cooled to 30° C., was fed with 0.06 g of the solid catalyst component from the example \\n 8,0.78g of TEAL mixed with 75 ml of anhydrous hexane, and 280 g of anhydrous propane. The temperature was raised to \\n 60° C., and then 520 g of anhydrous propane were fed. The \\n temperature was raised again to 70° C., and then 290 ml of butene-1 were fed simultaneously with 2 bars of hydrogen \\n and 5 bars of ethylene. After that, the temperature is settled to 75° C. The polymerization was conducted in slurry liquid phase. The polymerization time was 3 hours, during which \\n time the ethylene pressure was kept constant. After this period \\n the reaction was stopped by venting off ethylene, butene-1, hydrogen and propane and 240 g of polymer were obtained, \\n which exhibited the following properties:  US 9,352,308 B2 \\n 19 \\n MIE 0.91 g/10 min \\n MIFAMIE 26 \\n Fraction Soluble in Xylene 9.2% \\n Comonomer content 8.7% Polymer Density 0.917 g/cm Bulk Density 0.36 g/cm \\n Pilot Plant Tests \\n A pilot plant continuously operated was used to prepare \\n LLDPE as shown in FIG. 2. \\n A fluidized bed gas phase reactor 1 with 45 cm of internal \\n diameter and 120 cm of reaction Zone height is fed by a dry-solid catalyst feeder 2. The bed of polymer particles in \\n reaction Zone3 is kept in fluidized state by a recycle stream 4 \\n that works as a fluidizing medium as well as a dissipating heat \\n agent for absorbing the exothermal heat generated within \\n reaction Zone 3. The Superficial velocity of the gas, resulting \\n from the flow rate of recycle stream 4 within reactor 1 is 0.7 10 \\n 15 \\n m/s. Stream5, which contains the gas discharged from reactor 20 \\n 1, said gas having low monomer contents, is fed to the Suction \\n of compressor 6. The combined reaction and compression \\n heats are then removed from recycle stream 5 in an external \\n heat exchange system 7 in order to control the reactor tem \\n EXAMPLE 13 14 15 \\n Catalyst used Ex. 1 Ex. 2 Ex. 3 \\n Ti(%) 7.0 1.4 1.2 \\n Mg (%) 2.0 O.S O.3 \\n Temperature (C.) 88 88 88 \\n Ethylene partial pressure (bar) 3 11.8 9 \\n Total pressure (bar) 21 22 21 \\n Residence Time (h) 4.43 3.71 5.32 \\n Hafethylene (mole/mole) O.10 O.098 O.O86 \\n Butenef ethylene (mole/mole) O.39 O41 O46 \\n Catalytic yield (kg/g) 3.0 1.6 1.7 \\n Bulk Density (g/cm) O.28 O.34 O.38 \\n MIE (g/10 min) O.68 O.66 0.72 \\n MIF (g/10 min) 20.4 17.3 2O6 \\n MFR - FE 30 26 28 \\n Comonomer Content (%) 8.8 7.8 8.7 \\n Fraction Soluble in Xylene (%) 12.3 8.9 9.4 Polymer Density (g/cm) O.918 O.918 O.918 \\n Flowability (s/100g) 14.4 11.1 \\n Particle size distribution (wt %) \\n <250 m 2 2 1 \\n 250-420 m 7 7 7 \\n 420-840 m 37 49 60 \\n >840 m S4 42 32 \\n Haze (%) 11.3 \\n Gloss (%) 73.0 Blocking (g/100 cm) 22 21 \\n perature. The composition of stream 5 is kept constant to yield a polymer with the required specifications. \\n Make-up components are fed to the system at spot 8 so as \\n to make up the composition of recycle stream 5. So, make-up \\n stream 8 will include the triethyl aluminum (TEAL) that \\n directly reacts in a ratio of 2 moles of TEAL per mole of \\n catalyst. Also at the spot 8, propane is fed as the selected \\n non-reactive compound required to maintain the total pres \\n Sure of the system. \\n The polymerization catalyst is introduced as a dry powder \\n by a catalyst feeder into reactor 1 in a site within the reaction Zone 3, close to the distributing plate 9 in a rate to control the residence time of the catalyst. The reactive gases, including \\n ethylene and comonomers are introduced at the spot 10. 60 \\n 65 20 \\n The produced polymer is discharged from the reaction Zone through a discharge system 11 that provides the recovery \\n of the reactive and non-reactive gases, recycling said gases back to the recycle stream 5 at spot 12 and lowers the pressure of the discharged mixture of polymer and gases at certain pressure for later conveying the produced polymer particles \\n 13 for downward sampling. \\n Examples 13 to 23 \\n The examples 13 to 23 were conducted in the gas phase pilot reactor at 88°C., using in each EXAMPLE respectively the catalysts produced in the EXAMPLES 1 to 10. The cata lyst produced in the EXAMPLE 10 was also used in the pilot polymerization at 75° C. as shown in the EXAMPLE 23. In all examples the pilot reactor run was performed Smoothly, with good catalytic yield and no agglomerates or \\n sheets were formed. The polymers obtained had a good mor \\n phology and, in most cases, less than 1% of fines (<250 um). The films obtained with these polymers presented very good optical properties and a low blocking strength. \\n During the performance of the EXAMPLE 20 it was per \\n formed a decay test and the measured half-life time was 3.8 \\n hours. \\n The results are shown in table 1. \\n TABLE 1 \\n 16 17 18 19 2O 21 22 23 \\n Ex. 4 Ex. S Ex. 6 Ex. 7 Ex. 8 Ex. 9 Ex. 10 Ex. 10 \\n 1.5 1.7 1.8 2.1 2.0 1.9 2.0 2.0 \\n O.3 2.4 2.7 1.3 1.5 2.9 1.5 1.5 \\n 88 88 88 88 88 88 88 75 \\n 10.9 5 7 7 7 7 7 7 \\n 21 21 21 21 21 21 21 21 \\n 3.2O 4.86 3.92 3.18 2.89 3.91 3.70 3.15 \\n O.096 O.096 O.118 O.098 O.12 O.13 O.12 O.17 \\n 0.44 O.35 O4O O.39 O41 0.37 O41 O45 \\n 1.6 4.3 7.5 S.O 7.5 7.1 7.1 6.2 \\n O.34 O.29 O.31 O.38 O.38 O.38 O.38 O3S \\n O.74 O.64 O.68 O.69 O.67 O.69 O.65 0.57 \\n 19.9 23.3 18.6 19.1 17.6 18.2 16.9 15.2 \\n 27 36 27 28 26 26 26 26 \\n 7.7 9.4 8.3 8.4 7.9 8.2 8.1 8.8 \\n 7.1 13.7 9.4 9.5 7.8 10.1 8.O 9.3 \\n O.919 O.917 O.918 O.918 O.918 O.918 O.918 O.917 \\n 13.3 14.4 17.9 12.4 11.9 10.8 12.7 12.6 \\n 1 2 3 <O.S 1 1 1 1 \\n 2 7 5 2 2 2 2 2 \\n 35 45 28 36 35 28 39 37 \\n 62 46 64 62 62 69 58 60 \\n 11.6 11.3 11.3 11.4 \\n 79.5 80.7 79.3 80.2 \\n 15 24 24 16 30 19 24 \\n The invention claimed is: \\n 1. A catalyst composition free of polar solvents and used 55 for the homopolymerization of ethylene or used for the copo lymerization of ethylene with one or more alpha-olefins \\n which consists essentially of an activated particulate silica carrier, impregnated with an organometallic compound and catalytic active components including magnesium, titanium \\n and chlorine, wherein, based on the weight of the catalyst, titanium is present in an amount of 2.0% by weight, magne \\n sium is present in an amount of 1.5% by weight, chlorine is present in an amount of 10.3% by weight, aluminum is present in an amount of 1.7% by weight, butoxy group is \\n present in an amount of 6.7% by weight, Surface Area (B.E.T.) is 202 m/g, and Pore Volume (B.E.T.) is 0.48 cm/g, wherein said catalyst displays a UV-VIS spectra as shown in '"
      ]
     },
     "execution_count": 9,
     "metadata": {},
     "output_type": "execute_result"
    }
   ],
   "source": [
    "df_filtered = df[df['1st_token'] == 'YES']\n",
    "exp_text = ' '.join(df_filtered['text'].tolist())\n",
    "exp_text"
   ]
  },
  {
   "cell_type": "markdown",
   "metadata": {},
   "source": [
    "# Извлечение страниц с экспериментальными данными"
   ]
  },
  {
   "cell_type": "code",
   "execution_count": 37,
   "metadata": {},
   "outputs": [],
   "source": [
    "class TableData(BaseModel):\n",
    "    model_config = ConfigDict(extra='forbid')\n",
    "    \n",
    "    caption: Optional[str] = Field(\n",
    "        default=None,\n",
    "        description=\"Table caption or description\"\n",
    "    )\n",
    "\n",
    "    headers: List[str] = Field(\n",
    "        default_factory=list,\n",
    "        description=\"Column headers of the table\"\n",
    "    )\n",
    "    rows: List[List[str]] = Field(\n",
    "        default_factory=list,\n",
    "        description=\"Table data rows\"\n",
    "    )\n",
    "    reference: List[str] = Field(\n",
    "        default_factory=list,\n",
    "        description=\"List of referenced experiment IDs\"\n",
    "    )\n",
    "\n",
    "class ExperimentInfo(BaseModel):\n",
    "    model_config = ConfigDict(extra='forbid')\n",
    "    \n",
    "    id: str = Field(description=\"Unique experiment identifier (e.g., 'Example 1')\")\n",
    "    text_of_example: str = Field(description=\"Exact text quote from the patent\")\n",
    "    type: str = Field(\n",
    "        description=\"Type of experiment\",\n",
    "        # Using Field with allowed values instead of pattern\n",
    "        json_schema_extra={\"enum\": [\"catalyst_synthesis\", \"polymerization\", \"table\"]}\n",
    "    )\n",
    "    reference: List[str] = Field(\n",
    "        default_factory=list,\n",
    "        description=\"List of referenced experiment IDs\"\n",
    "    )\n",
    "\n",
    "class PatentInfo(BaseModel):\n",
    "    model_config = ConfigDict(extra='forbid')\n",
    "    \n",
    "    experiments: List[ExperimentInfo] = Field(\n",
    "        default_factory=list,\n",
    "        description=\"List of experiments found in the patent\"\n",
    "    )\n",
    "    table_data: List[TableData] = Field(\n",
    "        default=None,\n",
    "        description=\"Structured table data if type is 'table'\"\n",
    "    )"
   ]
  },
  {
   "cell_type": "code",
   "execution_count": 29,
   "metadata": {},
   "outputs": [],
   "source": [
    "def extract_information(text: str):\n",
    "\n",
    "    client = OpenAI()\n",
    "    text = '\\n'.join(line for line in text.split('\\n') if len(line.strip()) > 5)\n",
    "    # Define the system and human message templates\n",
    "    system_template = \"\"\"You are a chemistry assistant specialized in analyzing patent documents. \n",
    "    Focus on identifying experimental procedures, their types, and cross-references between examples. \n",
    "    Always return valid JSON that matches the specified schema.\n",
    "    Important: Be thorough and meticulous in your analysis. Make sure to:\n",
    "    - Carefully read and process every detail in the text\n",
    "    - Don't skip any experimental examples\n",
    "    - Double-check all cross-references between examples\n",
    "    - Verify that all identified information is included in the output\n",
    "    - Ensure complete coverage of the input text\"\"\"\n",
    "    \n",
    "    human_template = f\"\"\"As a chemistry assistant specializing in catalysis and polyolefins, \n",
    "    analyze the following patent text and extract structured information in JSON format.\n",
    "\n",
    "    For each experimental example, provide:\n",
    "    1. Type of experiment (one of):\n",
    "       - catalyst_synthesis (for catalyst preparation procedures)\n",
    "       - polymerization (for polymerization reactions)\n",
    "       - table (for tabulated results or comparative data)\n",
    "    \n",
    "    2. Original text of the example (exact quote)\n",
    "    \n",
    "    3. References to other experiments (if any):\n",
    "       - Look for phrases like \"as in Example 1\", \"according to Example 2\", etc.\n",
    "       - Include experiment numbers that are referenced\n",
    "\n",
    "    In case of tables, provide the exact text of the table or comparative data.\n",
    "\n",
    "    Text to analyze: {text}\n",
    "    \"\"\"\n",
    "   \n",
    "    completion = client.beta.chat.completions.parse(\n",
    "    model=\"gpt-4o\",\n",
    "    messages=[\n",
    "        {\"role\": \"system\", \"content\": system_template},\n",
    "        {\"role\": \"user\", \"content\": human_template}\n",
    "    ],\n",
    "    response_format=PatentInfo,\n",
    "    )\n",
    "    \n",
    "    return completion"
   ]
  },
  {
   "cell_type": "code",
   "execution_count": 56,
   "metadata": {},
   "outputs": [
    {
     "name": "stderr",
     "output_type": "stream",
     "text": [
      "2025-03-30 12:26:44,856 - INFO - HTTP Request: POST https://api.openai.com/v1/chat/completions \"HTTP/1.1 200 OK\"\n"
     ]
    },
    {
     "data": {
      "text/plain": [
       "ParsedChatCompletion[PatentInfo](id='chatcmpl-BGfRoiGbLAAVaK5DnGwHkFKzsEeeX', choices=[ParsedChoice[PatentInfo](finish_reason='stop', index=0, logprobs=None, message=ParsedChatCompletionMessage[PatentInfo](content='{\"experiments\":[{\"id\":\"Example 1\",\"text_of_example\":\"In a 5 liter flask fitted with a mechanical stirrer and previously purged with nitrogen were fed 44 g (0.462 moles) of anhydrous MgCl, and 330 ml (0.969 moles) of Ti(OBu). This mixture was allowed to stir at 300 rpm and heated to 150° C. for about 12 hours in order to have the solids completely dissolved, thereby a clear liquid product was obtained. This resulting liquid was cooled down to 40°C. and under gently stirring at 150 rpm, it was diluted with 3200 ml of anhydrous hexane. Into this solution kept at 40° C. and under the same stirring, 250g of the silica support were added. This silica was previously dehydrated and treated with 19 ml (0.139 moles) of triethylaluminum diluted in anhydrous hexane, for 50 minutes and at room temperature. Once the addition of the silica is completed, the mixture was heated to 60° C. and kept at this temperature for 1 hour. Into this mixture, kept at 60° C. and undergently stirring, a solution consisting of 100 ml of anhydrous hexane and 192 ml of PMHS (0.085 moles) was dropped into it over a period of time of 1.5 hours. At the end of the addition, stirring was continued for 2 hours at a temperature of 60° C. To this mixture a solution of 200 ml of anhydrous hexane and 184 ml of SiC1 (1.606 moles) was dropped over a period of time of 1 hour. At the end of the addition, stirring was continued for 3.5 hours at a temperature of 60°C. The temperature of the mixture was then brought to 65° C. and kept for additional 2 hours. After cooling the mixture to room temperature, the stirring was stopped to have the solid settled. The supernatant liquid was removed, the Solid was repeatedly washed with anhydrous hexane and then dried at 60° C. under nitrogen flow thus giving 390 g of a reddish powder. The chemical and physical characteristics of the resulting reddish powder were as follows: Total Titanium-7.0% (by weight) Mg 2.0% (by weight) SiO=75.9% (by weight) Al=0.5% (by weight) Cl=10.9% (by weight) OBu=4.1% (by weight) Surface Area (B.E.T.)=200 m/g Pore Volume (B.E.T.)=0.45 cm/g\",\"type\":\"catalyst_synthesis\",\"reference\":[]},{\"id\":\"Example 2\",\"text_of_example\":\"In a 5 liter flask fitted with a mechanical stirrer and previously purged with nitrogen were fed 5.28 g (0.055 moles) of anhydrous MgCl2 and 39.6 ml (0.116 moles) of Ti(OBu). This mixture was allowed to stir at 300 rpm and heated to 150° C. for about 12 hours in order to have the solids completely dissolved, thereby a clear liquid product was obtained. This resulting liquid was cooled down to 40°C. and under gently stirring at 150 rpm, it was diluted with 3200 ml of anhydrous hexane. Into this solution kept at 40° C. and under the same stirring, 300g of the silica support were added. This silica was previously dehydrated and treated with 23 ml (0.167 moles) of triethylaluminum diluted in anhydrous hexane, for 50 minutes and at room temperature. Once the addition of the silica is completed, the mixture was heated to 60° C. and kept at this temperature for 1 hour. Into this mixture, kept at 60° C. and undergently stirring, a solution consisting of 100 ml of anhydrous hexane and 23 ml of PMHS (0.010 moles) was dropped into it over a period of time of 1.5 hours. At the end of the addition, stirring was continued for 2 hours at a temperature of 60°C. To this mixture a solution of 100 ml of anhydrous hexane and 22 ml of SiCl, (0.192 moles) was dropped over a period of 1 hour. At the end of the addition, stirring was continued for 3.5 hours at a temperature of 60°C. The temperature of the mixture was then brought to 65° C. and kept for additional 2 hours. After cooling the mixture to room temperature, the stirring was stopped to have the Solid settled. The Supernatant liquid was removed, the Solid was repeatedly washed with anhydrous hexane and finally dried at 60° C. under nitrogen flow thus giving 360 g of a light reddish powder. The chemical and physical characteristics of the resulting reddish powder were as follows: Total Titanium=1.4% (by weight) Mg 0.5% (by weight) SiO-81.0% (by weight) Al=1.4% (by weight) Cl=8.4% (by weight) OBu=6.3% (by weight) Surface Area (B.E.T.)=150 m/g Pore Volume (B.E.T.)=0.35 cm/g\",\"type\":\"catalyst_synthesis\",\"reference\":[]},{\"id\":\"Example 3\",\"text_of_example\":\"In a 5 liter flask fitted with a mechanical stirrer and previously purged with nitrogen were fed 5.28 g (0.055 moles) of anhydrous MgCl2 and 39.6 ml (0.116 moles) of Ti(OBu). This mixture was allowed to stir at 300 rpm and heated to 150° C. for about 12 hours in order to have the solids completely dissolved, thereby a clear liquid product was obtained. This resulting liquid was cooled down to 40° C. and under gently stirring at 150 rpm, it was diluted with 3200 ml of anhydrous hexane. Into this solution kept at 40°C. and under the same stirring, 300g of the silica support were added. This silica was previously dehydrated and treated with 23 ml (0.167 moles) of triethylaluminum diluted in anhydrous hexane, for 50 minutes and at room temperature. Once the addition of the silica is completed, the mixture was heated to 60° C. and kept at this temperature for 1 hour. Into this mixture, kept at 60° C. and undergently stirring, a solution consisting of 100 ml of anhydrous hexane and 23 ml of PMHS (0.010 moles) was dropped into it over a period of time of 1.5 hours. At the end of the addition, stirring was continued for 2 hours at a temperature of 60°C. To this mixture a solution of 100 ml of anhydrous hexane and 22 ml of SiCl, (0.192 moles) was dropped over a period of time of 1 hour. At the end of the addition, stirring was continued for 3.5 hours at a temperature of 60° C. The temperature of the mixture was then brought to 65° C. and kept for additional 2 hours. After cooling the mixture to room temperature, the stirring was stopped to have the Solid settled. The Supernatant liquid was removed, the Solid was repeatedly washed with anhydrous hexane. The solid thus obtained was again Suspended in 2200 ml of anhydrous hexane and then 31.4 g of DEAC (0.260 moles) in 200 ml of anhydrous hexane were added to the resulting Suspension under gently stirring. Contact was maintained for 50 min at room temperature. Finally, the Supernatant liquid was removed and the Solid was dried at 60° C. under nitrogen flow thus giving 300 g of a brown-reddish powder. The chemical and physical characteristics of the resulting reddish powder were as follows: Total Titanium=1.2% (by weight) Mg 0.3% (by weight) SiO-81.0% (by weight) Al=1.8% (by weight) Cl=7.0% (by weight) OBu=7.7% (by weight) Surface Area (B.E.T.)=155 m/g Pore Volume (B.E.T.)=0.36 cm/g\",\"type\":\"catalyst_synthesis\",\"reference\":[]},{\"id\":\"Example 4\",\"text_of_example\":\"In a 5 liter flask fitted with a mechanical stirrer and previously purged with nitrogen were fed 5.28 g (0.055 moles) of anhydrous MgCl2 and 39.6 ml (0.116 moles) of Ti(OBu). This mixture was allowed to stir at 300 rpm and heated to 150° C. for about 12 hours in order to have the solids completely dissolved, thereby a clear liquid product was obtained. This resulting liquid was cooled down to 40°C. and under gently stirring at 150 rpm, it was diluted with 3200 ml of anhydrous hexane. Into this solution kept at 40° C. and under the same stirring, 300g of the silica support were added. This silica was previously dehydrated and treated with 23 ml (0.167 moles) of triethylaluminum diluted in anhydrous hexane, for 50 minutes and at room temperature. Once the addition of the silica is completed, the mixture was heated to 60° C. and kept at this temperature for 1 hour. To this mixture a solution of 100 ml of anhydrous hexane and 22 ml of SiC1 (0.192 moles) was dropped over a period of time of 1 hour. At the end of the addition, stirring was continued for 3.5 hours at a temperature of 60°C. The temperature of the mixture was then brought to 65° C. and kept for additional 2 hours. After cooling the mixture to room temperature, the stirring was stopped to have the solid settled. The supernatant liquid was removed, the Solid was repeatedly washed with anhydrous hexane and then dried at 60°C. under nitrogen flow, thus giving 390g of a light reddish powder. The chemical and physical characteristics of the resulting reddish powder were as follows: Total Titanium=1.5% (by weight) Mg-0.3% (by weight) SiO=81.2% (by weight) Al=1.2% (by weight) Cl=7.2% (by weight) OBu=7.6% (by weight) Surface Area (B.E.T.)=153 m/g Pore Volume (B.E.T.)=0.36 cm/g\",\"type\":\"catalyst_synthesis\",\"reference\":[]},{\"id\":\"Example 5\",\"text_of_example\":\"In a 5 liter flask fitted with a mechanical stirrer and previously purged with nitrogen were fed 52.8 g (0.554 moles) of anhydrous MgCl, and 396 ml (1.163 moles) of Ti(OBu). This mixture was allowed to stir at 300 rpm and heated to 150° C. for about 12 hours in order to have the solids completely dissolved, thereby a clear liquid product was obtained. This resulting liquid was cooled down to 40°C. and under gently stirring at 150 rpm, it was diluted with 3200 ml of anhydrous hexane. Into this solution kept at 40° C. and under the same stirring, 300g of the silica support were added. This silica was previously dehydrated and treated with 23 ml (0.167 moles) of triethylaluminum diluted in anhydrous hexane, for 50 minutes and at room temperature. Once the addition of the silica is completed, the mixture was heated to 60° C. and kept at this temperature for 1 hour. To this mixture a solution of 200 ml of anhydrous hexane and 221 ml of SiCl (1.929 moles) was dropped over a period of time of 1 hour. At the end of the addition, stirring was continued for 3.5 hours at a temperature of 60°C. The temperature of the mixture was then brought to 65° C. and kept for additional 2 hours. After cooling the mixture to room temperature, the stirring was stopped to have the solid settled. The supernatant liquid was removed, the Solid was repeatedly washed with anhydrous hexane and then dried at 60°C. under nitrogen flow thus giving 300 g of a light reddish powder. The chemical and physical characteristics of the resulting reddish powder were as follows: Total Titanium=1.7% (by weight) MgF2.4% (by weight) SiO=76.7% (by weight) Al=0.8% (by weight) Cl=10.0% (by weight) OBu=7.5% (by weight) Surface Area (B.E.T.)=185 m/g Pore Volume (B.E.T.)=0.55 cm/g\",\"type\":\"catalyst_synthesis\",\"reference\":[]},{\"id\":\"Example 6\",\"text_of_example\":\"In a 5 liter flask fitted with a mechanical stirrer and previously purged with nitrogen were fed 52.8 g (0.554 moles) of anhydrous MgCl, and 396 ml (1.163 moles) of Ti(OBu). This mixture was allowed to stir at 300 rpm and heated to 150° C. for about 12 hours in order to have the solids completely dissolved, thereby a clear liquid product was obtained. This resulting liquid was cooled down to 40°C. and under gently stirring at 150 rpm, it was diluted with 3200 ml of anhydrous hexane. Into this solution kept at 40°C. and under the same stirring, 300g of the silica support were added. This silica was previously dehydrated and treated with 23 ml (0.167 moles) of triethylaluminum diluted in anhydrous hexane, for 50 minutes and at room temperature. Once the addition of the silica is completed, the mixture was heated to 60° C. and kept at this temperature for 1 hour. To this mixture a solution of 200 ml of anhydrous hexane and 221 ml of SiCl (1.929 moles) was dropped over a period of time of 1 hour. At the end of the addition, stirring was continued for 3.5 hours at a temperature of 60°C. The temperature of the mixture was then brought to 65° C. and kept for additional 2 hours. After cooling the mixture to room temperature, the stirring was stopped to have the solid settled. The supernatant liquid was removed, the solid was repeatedly washed with anhydrous hexane. The solid thus obtained was again suspended in 2200 ml of anhydrous hexane and then 30 g of DEAC (0.249 moles) in 200 ml of anhydrous hexane were added to the resulting Suspension under gently stirring. Contact was maintained for 50 min at room temperature. Finally, the Supernatant liquid was removed and the solid was dried at 60°C. under nitrogen flow thus giving 400 g of a brown-reddish powder. The chemical and physical characteristics of the resulting reddish powder were as follows: Total Titanium=1.8% (by weight) Mg 2.7% (by weight) SiO=75.5% (by weight) Al=1.4% (by weight) Cl=12.0% (by weight) OBu=5.6% (by weight) Surface Area (B.E.T.)=180 m/g Pore Volume (B.E.T.)=0.53 cm/g\",\"type\":\"catalyst_synthesis\",\"reference\":[]},{\"id\":\"Example 7\",\"text_of_example\":\"In a 5 liter flask fitted with a mechanical stirrer and previously purged with nitrogen were fed 24 g (0.252 moles) of anhydrous MgCl, and 180 ml (0.528 moles) of Ti(OBu). This mixture was allowed to stir at 300 rpm and heated to 150° C. for about 12 hours in order to have the solids completely dissolved, thereby a clear liquid product was obtained. This resulting liquid was cooled down to 40° C. and under gently stirring at 150 rpm, it was diluted with 3200 ml of anhydrous hexane. Into this solution kept at 40°C. and under the same stirring, 300g of the silica support were added. This silica was previously dehydrated and treated with 23 ml (0.167 moles) of triethylaluminum diluted in anhydrous hexane, for 50 minutes and at room temperature. Once the addition of the silica is completed, the mixture was heated to 60° C. and kept at this temperature for 1 hour. To this mixture a solution of 100 ml of anhydrous hexane and 100 ml of SiCl, (0.873 moles) was dropped over a period of time of 1 hour. At the end of the addition, stirring was continued for 3.5 hours at a temperature of 60°C. The temperature of the mixture was then brought to 65° C. and kept for additional 2 hours. After cooling the mixture to room temperature, the stirring was stopped to have the solid settled. The supernatant liquid was removed, the Solid was repeatedly washed with anhydrous hexane and then dried at 60° C. under nitrogen flow thus giving 360 g of a reddish powder. The chemical and physical characteristics of the resulting reddish powder were as follows: Total Titanium=2.1% (by weight) Mg-1.4% (by weight) SiO-78.3% (by weight) Al=0.9% (by weight) Cl=8.7% (by weight) OBu=7.6% (by weight) Surface Area (B.E.T.)=193 m/g Pore Volume (B.E.T.)=0.62 cm/g\",\"type\":\"catalyst_synthesis\",\"reference\":[]},{\"id\":\"Example 8\",\"text_of_example\":\"In a 5 liter flask fitted with a mechanical stirrer and previously purged with nitrogen were fed 24 g (0.252 moles) of anhydrous MgCl, and 180 ml (0.528 moles) of Ti(OBu). This mixture was allowed to stir at 300 rpm and heated to 150° C. for about 12 hours in order to have the solids completely dissolved, thereby a clear liquid product was obtained. This resulting liquid was cooled down to 40°C. and under gently stirring at 150 rpm, it was diluted with 3200 ml of anhydrous hexane. Into this solution kept at 40° C. and under the same stirring, 300g of the silica support were added. This silica was previously dehydrated and treated with 23 ml (0.167 moles) of triethylaluminum diluted in anhydrous hexane, for 50 minutes and at room temperature. Once the addition of the silica is completed, the mixture was heated to 60° C. and kept at this temperature for 1 hour. To this mixture a solution of 100 ml of anhydrous hexane and 100 ml of SiC1 (0.873 moles) was dropped over a period of time of 1 hour. At the end of the addition, stirring was continued for 3.5 hours at a temperature of 60°C. The temperature of the mixture was then brought to 65° C. and kept for additional 2 hours. After cooling the mixture to room temperature, the stirring was stopped to have the solid settled. The supernatant liquid was removed, the solid was repeatedly washed with anhydrous hexane. The solid thus obtained was again suspended in 2200 ml of anhydrous hexane and then 30 g of DEAC (0.249 moles) in 200 ml of anhydrous hexane were added to the resulting Suspension under gently stirring. Contact was maintained for 50 min at room temperature. Finally, the Supernatant liquid was removed and the solid was dried at 60°C. under nitrogen flow thus giving 350 g of a brown-reddish powder. The chemical and physical characteristics of the resulting reddish powder were as follows: Total Titanium=2.0% (by weight) Mg-1.5% (by weight) SiO=76.8% (by weight) Al=1.7% (by weight) Cl=10.3% (by weight) OBu=6.7% (by weight) Surface Area (B.E.T.)=202 m/g Pore Volume (B.E.T.)=0.48 cm/g. The produced catalyst demonstrates the following properties when analyzed with X-ray photoelectron spectroscopy, UV-VIS spectroscopy and XANES spectroscopy.\",\"type\":\"catalyst_synthesis\",\"reference\":[]},{\"id\":\"Example 9\",\"text_of_example\":\"In a 5 liter flask fitted with a mechanical stirrer and previously purged with nitrogen were fed 52.8 g (0.554 moles) of anhydrous MgCl, and 396 ml (1.163 moles) of Ti(OBu). This mixture was allowed to stir at 300 rpm and heated to 150° C. for about 12 hours in order to have the solids completely dissolved, thereby a clear liquid product was obtained. This resulting liquid was cooled down to 40°C. and under gently stirring at 150 rpm, it was diluted with 3200 ml of anhydrous hexane. Into this solution kept at 40° C. and under the same stirring, 300g of the silica support were added. This silica was previously dehydrated and treated with 23 ml (0.167 moles) of triethylaluminum diluted in anhydrous hexane, for 50 minutes and at room temperature. Once the addition of the silica is completed, the mixture was heated to 60° C. and kept at this temperature for 1 hour. To this mixture a solution of 200 ml of anhydrous hexane and 221 ml of SiC1 (1.929 moles) was dropped over a period of time of 1 hour. At the end of the addition, stirring was continued for 3.5 hours at a temperature of 60°C. The temperature of the mixture was then brought to 65° C. and kept for additional 2 hours. After cooling the mixture to room temperature, the stirring was stopped to have the solid settled. The supernatant liquid was removed, and the solid was repeatedly washed with anhydrous hexane. The solid thus obtained was again suspended in 2200 ml of anhydrous hexane and then 30 g of DEAC (0.249 moles) in 200 ml of anhydrous hexane were added to the resulting Suspension under gently stirring. Contact was maintained for 50 min at room temperature. The Supernatant liquid was removed and the solid was once again Suspended in 2200 ml of anhydrous hexane and then 30 g of Tn-HAL (0.106 moles) in 200 ml of anhydrous hexane were added to the resulting Suspension under gently stirring. Contact was maintained for 50 min at room temperature. Finally, the Supernatant liquid was removed and the solid was dried at 60°C. under nitrogen flow thus giving 340 g of a brown-reddish powder. The chemical and physical characteristics of the resulting reddish powder were as follows: Total Titanium=1.9% (by weight) MgF2.9% (by weight) SiO=74.1% (by weight) Al=1.5% (by weight) Cl=12.6% (by weight) OBu=6.0% (by weight) Surface Area (B.E.T.)=167 m/g Pore Volume (B.E.T.)=0.20 cm/g\",\"type\":\"catalyst_synthesis\",\"reference\":[]},{\"id\":\"Example 10\",\"text_of_example\":\"In a 5 liter flask fitted with a mechanical stirrer and previously purged with nitrogen were fed 24 g (0.252 moles) of anhydrous MgCl, and 180 ml (0.528 moles) of Ti(OBu). This mixture was allowed to stir at 300 rpm and heated to 150° C. for about 12 hours in order to have the solids completely dissolved, thereby a clear liquid product was obtained. This resulting liquid was cooled down to 40°C. and under gently stirring at 150 rpm, it was diluted with 3200 ml of anhydrous hexane. Into this solution kept at 40° C. and under the same stirring, 300g of the silica support were added. This silica was previously dehydrated and treated with 23 ml (0.167 moles) of triethylaluminum diluted in anhydrous hexane, for 50 minutes and at room temperature. Once the addition of the silica is completed, the mixture was heated to 60° C. and kept at this temperature for 1 hour. To this mixture a solution of 100 ml of anhydrous hexane and 100 ml of SiCl, (0.873 moles) was dropped over a period of time of 1 hour. At the end of the addition, stirring was continued for 3.5 hours at a temperature of 60°C. The temperature of the mixture was then brought to 65° C. and kept for additional 2 hours. After cooling the mixture to room temperature, the stirring was stopped to have the solid settled. The supernatant liquid was removed, and the solid was repeatedly washed with anhydrous hexane. The solid thus obtained was again suspended in 2200 ml of anhydrous hexane and then 60 g of DEAC (0.498 moles) in 200 ml of anhydrous hexane were added to the resulting Suspension under gently stirring. Contact was maintained for 50 min at room temperature. Finally, the Supernatant liquid was removed and the solid was dried at 60°C. under nitrogen flow thus giving 300 g of a brown-reddish powder. The chemical and physical characteristics of the resulting reddish powder were as follows: Total Titanium=2.0% (by weight) Mg1.3% (by weight) SiO=76.3% (by weight) Al=2.3% (by weight) Cl=10.8% (by weight) OBu=6.3% (by weight) Surface Area (B.E.T.)=200 m/g Pore Volume (B.E.T.)=0.45 cm/g\",\"type\":\"catalyst_synthesis\",\"reference\":[]},{\"id\":\"Example 11\",\"text_of_example\":\"Polymerization of Ethylene (HDPE) A 4-liter stainless steel autoclave, purged under nitrogen flow for 1 hour at 75° C. and then cooled to 30° C., was fed with 0.06 g of the solid catalyst component from the example 8,0.79g of TEAL mixed with 75 ml of anhydrous hexane, and 280 g of anhydrous propane. The temperature was raised to 60° C., and then 520 g of anhydrous propane were fed. The temperature was raised again to 80° C. and then 2 bars of hydrogen were fed simultaneously with 7 bars of ethylene. After that, the temperature was settled to 85°C. The polymerization was conducted in slurry liquid phase. The polymerization time was 2 hours, during which time the ethylene pressure was kept constant. After this period the reaction was stopped by venting off ethylene, hydrogen and propane and 55 g of polymer were obtained, which exhibited the following properties: MIE 2.4 g/10 min MIFAMIE 26 Polymer Density 0.96 g/cm Bulk Density 0.46 g/cm\",\"type\":\"polymerization\",\"reference\":[\"Example 8\"]},{\"id\":\"Example 12\",\"text_of_example\":\"Copolymerization of Ethylene with Butene-1 (LLDPE) A 4 liter stainless steel autoclave, purged under nitrogen flow for 1 hour at 75° C. and then cooled to 30° C., was fed with 0.06 g of the solid catalyst component from the example 8,0.78g of TEAL mixed with 75 ml of anhydrous hexane, and 280 g of anhydrous propane. The temperature was raised to 60° C., and then 520 g of anhydrous propane were fed. The temperature was raised again to 70° C., and then 290 ml of butene-1 were fed simultaneously with 2 bars of hydrogen and 5 bars of ethylene. After that, the temperature is settled to 75° C. The polymerization was conducted in slurry liquid phase. The polymerization time was 3 hours, during which time the ethylene pressure was kept constant. After this period the reaction was stopped by venting off ethylene, butene-1, hydrogen and propane and 240 g of polymer were obtained, which exhibited the following properties: MIE 0.91 g/10 min MIFAMIE 26 Fraction Soluble in Xylene 9.2% Comonomer content 8.7% Polymer Density 0.917 g/cm Bulk Density 0.36 g/cm\",\"type\":\"polymerization\",\"reference\":[\"Example 8\"]},{\"id\":\"Example 13\",\"text_of_example\":\"EXAMPLE 13 Catalyst used Ex. 1 Ti(%) 7.0 Mg (%) 2.0 Temperature (C.) 88 Ethylene partial pressure (bar) 3 Total pressure (bar) 21 Residence Time (h) 4.43 Hafethylene (mole/mole) O.10 Butenef ethylene (mole/mole) O.39 Catalytic yield (kg/g) 3.0 Bulk Density (g/cm) O.28 MIE (g/10 min) O.68 MIF (g/10 min) 20.4 MFR - FE 30 Comonomer Content (%) 8.8 Fraction Soluble in Xylene (%) 12.3 Polymer Density (g/cm) O.918 Flowability (s/100g) 14.4 Particle size distribution (wt %) <250 m 2 250-420 m 7 420-840 m 37 >840 m 54\",\"type\":\"table\",\"reference\":[\"Example 1\"]},{\"id\":\"Example 14\",\"text_of_example\":\"EXAMPLE 14 Catalyst used Ex. 2 Ti(%) 1.4 Mg (%) 0.5 Temperature (C.) 88 Ethylene partial pressure (bar) 11.8 Total pressure (bar) 22 Residence Time (h) 3.71 Hafethylene (mole/mole) O.098 Butenef ethylene (mole/mole) O.41 Catalytic yield (kg/g) 1.6 Bulk Density (g/cm) O.34 MIE (g/10 min) O.66 MIF (g/10 min) 17.3 MFR - FE 26 Comonomer Content (%) 7.8 Fraction Soluble in Xylene (%) 8.9 Polymer Density (g/cm) O.918 Flowability (s/100g) 11.1 Particle size distribution (wt %) <250 m 2 250-420 m 7 420-840 m 49 >840 m 42\",\"type\":\"table\",\"reference\":[\"Example 2\"]},{\"id\":\"Example 15\",\"text_of_example\":\"EXAMPLE 15 Catalyst used Ex. 3 Ti(%) 1.2 Mg (%) 0.3 Temperature (C.) 88 Ethylene partial pressure (bar) 9 Total pressure (bar) 21 Residence Time (h) 5.32 Hafethylene (mole/mole) O.O86 Butenef ethylene (mole/mole) O46 Catalytic yield (kg/g) 1.7 Bulk Density (g/cm) O.38 MIE (g/10 min) 0.72 MIF (g/10 min) 206 MFR - FE 28 Comonomer Content (%) 8.7 Fraction Soluble in Xylene (%) 9.4 Polymer Density (g/cm) O.918 Flowability (s/100g) <250 m 2 1 250-420 m 7 420-840 m 60 >840 m 32 Haze (%) 11.3 Gloss (%) 73.0 Blocking (g/100 cm) 22 21\",\"type\":\"table\",\"reference\":[\"Example 3\"]}],\"table_data\":[{\"caption\":null,\"headers\":[\"EXAMPLE\",\"Catalyst used\",\"Ti(%)\",\"Mg (%)\",\"Temperature (C.)\",\"Ethylene partial pressure (bar)\",\"Total pressure (bar)\",\"Residence Time (h)\",\"Hafethylene (mole/mole)\",\"Butenef ethylene (mole/mole)\",\"Catalytic yield (kg/g)\",\"Bulk Density (g/cm)\",\"MIE (g/10 min)\",\"MIF (g/10 min)\",\"MFR - FE\",\"Comonomer Content (%)\",\"Fraction Soluble in Xylene (%)\",\"Polymer Density (g/cm)\",\"Flowability (s/100g)\",\"Particle size distribution (wt %)\",\"<250 m\",\"250–420 m\",\"420-840 m\",\">840 m\"],\"rows\":[[\"Example 13\",\"Ex. 1\",\"7.0\",\"2.0\",\"88\",\"3\",\"21\",\"4.43\",\"0.10\",\"0.39\",\"3.0\",\"0.28\",\"0.68\",\"20.4\",\"30\",\"8.8\",\"12.3\",\"0.918\",\"14.4\",\"2\",\"7\",\"37\",\"54\"],[\"Example 14\",\"Ex. 2\",\"1.4\",\"0.5\",\"88\",\"11.8\",\"22\",\"3.71\",\"0.098\",\"0.41\",\"1.6\",\"0.34\",\"0.66\",\"17.3\",\"26\",\"7.8\",\"8.9\",\"0.918\",\"11.1\",\"2\",\"7\",\"49\",\"42\"],[\"Example 15\",\"Ex. 3\",\"1.2\",\"0.3\",\"88\",\"9\",\"21\",\"5.32\",\"0.086\",\"0.46\",\"1.7\",\"0.38\",\"0.72\",\"206\",\"28\",\"8.7\",\"9.4\",\"0.918\",\"2\",\"1\",\"7\",\"60\",\"32\"]],\"reference\":[\"Example 1\",\"Example 2\",\"Example 3\"]}]}', refusal=None, role='assistant', annotations=[], audio=None, function_call=None, tool_calls=None, parsed=PatentInfo(experiments=[ExperimentInfo(id='Example 1', text_of_example='In a 5 liter flask fitted with a mechanical stirrer and previously purged with nitrogen were fed 44 g (0.462 moles) of anhydrous MgCl, and 330 ml (0.969 moles) of Ti(OBu). This mixture was allowed to stir at 300 rpm and heated to 150° C. for about 12 hours in order to have the solids completely dissolved, thereby a clear liquid product was obtained. This resulting liquid was cooled down to 40°C. and under gently stirring at 150 rpm, it was diluted with 3200 ml of anhydrous hexane. Into this solution kept at 40° C. and under the same stirring, 250g of the silica support were added. This silica was previously dehydrated and treated with 19 ml (0.139 moles) of triethylaluminum diluted in anhydrous hexane, for 50 minutes and at room temperature. Once the addition of the silica is completed, the mixture was heated to 60° C. and kept at this temperature for 1 hour. Into this mixture, kept at 60° C. and undergently stirring, a solution consisting of 100 ml of anhydrous hexane and 192 ml of PMHS (0.085 moles) was dropped into it over a period of time of 1.5 hours. At the end of the addition, stirring was continued for 2 hours at a temperature of 60° C. To this mixture a solution of 200 ml of anhydrous hexane and 184 ml of SiC1 (1.606 moles) was dropped over a period of time of 1 hour. At the end of the addition, stirring was continued for 3.5 hours at a temperature of 60°C. The temperature of the mixture was then brought to 65° C. and kept for additional 2 hours. After cooling the mixture to room temperature, the stirring was stopped to have the solid settled. The supernatant liquid was removed, the Solid was repeatedly washed with anhydrous hexane and then dried at 60° C. under nitrogen flow thus giving 390 g of a reddish powder. The chemical and physical characteristics of the resulting reddish powder were as follows: Total Titanium-7.0% (by weight) Mg 2.0% (by weight) SiO=75.9% (by weight) Al=0.5% (by weight) Cl=10.9% (by weight) OBu=4.1% (by weight) Surface Area (B.E.T.)=200 m/g Pore Volume (B.E.T.)=0.45 cm/g', type='catalyst_synthesis', reference=[]), ExperimentInfo(id='Example 2', text_of_example='In a 5 liter flask fitted with a mechanical stirrer and previously purged with nitrogen were fed 5.28 g (0.055 moles) of anhydrous MgCl2 and 39.6 ml (0.116 moles) of Ti(OBu). This mixture was allowed to stir at 300 rpm and heated to 150° C. for about 12 hours in order to have the solids completely dissolved, thereby a clear liquid product was obtained. This resulting liquid was cooled down to 40°C. and under gently stirring at 150 rpm, it was diluted with 3200 ml of anhydrous hexane. Into this solution kept at 40° C. and under the same stirring, 300g of the silica support were added. This silica was previously dehydrated and treated with 23 ml (0.167 moles) of triethylaluminum diluted in anhydrous hexane, for 50 minutes and at room temperature. Once the addition of the silica is completed, the mixture was heated to 60° C. and kept at this temperature for 1 hour. Into this mixture, kept at 60° C. and undergently stirring, a solution consisting of 100 ml of anhydrous hexane and 23 ml of PMHS (0.010 moles) was dropped into it over a period of time of 1.5 hours. At the end of the addition, stirring was continued for 2 hours at a temperature of 60°C. To this mixture a solution of 100 ml of anhydrous hexane and 22 ml of SiCl, (0.192 moles) was dropped over a period of 1 hour. At the end of the addition, stirring was continued for 3.5 hours at a temperature of 60°C. The temperature of the mixture was then brought to 65° C. and kept for additional 2 hours. After cooling the mixture to room temperature, the stirring was stopped to have the Solid settled. The Supernatant liquid was removed, the Solid was repeatedly washed with anhydrous hexane and finally dried at 60° C. under nitrogen flow thus giving 360 g of a light reddish powder. The chemical and physical characteristics of the resulting reddish powder were as follows: Total Titanium=1.4% (by weight) Mg 0.5% (by weight) SiO-81.0% (by weight) Al=1.4% (by weight) Cl=8.4% (by weight) OBu=6.3% (by weight) Surface Area (B.E.T.)=150 m/g Pore Volume (B.E.T.)=0.35 cm/g', type='catalyst_synthesis', reference=[]), ExperimentInfo(id='Example 3', text_of_example='In a 5 liter flask fitted with a mechanical stirrer and previously purged with nitrogen were fed 5.28 g (0.055 moles) of anhydrous MgCl2 and 39.6 ml (0.116 moles) of Ti(OBu). This mixture was allowed to stir at 300 rpm and heated to 150° C. for about 12 hours in order to have the solids completely dissolved, thereby a clear liquid product was obtained. This resulting liquid was cooled down to 40° C. and under gently stirring at 150 rpm, it was diluted with 3200 ml of anhydrous hexane. Into this solution kept at 40°C. and under the same stirring, 300g of the silica support were added. This silica was previously dehydrated and treated with 23 ml (0.167 moles) of triethylaluminum diluted in anhydrous hexane, for 50 minutes and at room temperature. Once the addition of the silica is completed, the mixture was heated to 60° C. and kept at this temperature for 1 hour. Into this mixture, kept at 60° C. and undergently stirring, a solution consisting of 100 ml of anhydrous hexane and 23 ml of PMHS (0.010 moles) was dropped into it over a period of time of 1.5 hours. At the end of the addition, stirring was continued for 2 hours at a temperature of 60°C. To this mixture a solution of 100 ml of anhydrous hexane and 22 ml of SiCl, (0.192 moles) was dropped over a period of time of 1 hour. At the end of the addition, stirring was continued for 3.5 hours at a temperature of 60° C. The temperature of the mixture was then brought to 65° C. and kept for additional 2 hours. After cooling the mixture to room temperature, the stirring was stopped to have the Solid settled. The Supernatant liquid was removed, the Solid was repeatedly washed with anhydrous hexane. The solid thus obtained was again Suspended in 2200 ml of anhydrous hexane and then 31.4 g of DEAC (0.260 moles) in 200 ml of anhydrous hexane were added to the resulting Suspension under gently stirring. Contact was maintained for 50 min at room temperature. Finally, the Supernatant liquid was removed and the Solid was dried at 60° C. under nitrogen flow thus giving 300 g of a brown-reddish powder. The chemical and physical characteristics of the resulting reddish powder were as follows: Total Titanium=1.2% (by weight) Mg 0.3% (by weight) SiO-81.0% (by weight) Al=1.8% (by weight) Cl=7.0% (by weight) OBu=7.7% (by weight) Surface Area (B.E.T.)=155 m/g Pore Volume (B.E.T.)=0.36 cm/g', type='catalyst_synthesis', reference=[]), ExperimentInfo(id='Example 4', text_of_example='In a 5 liter flask fitted with a mechanical stirrer and previously purged with nitrogen were fed 5.28 g (0.055 moles) of anhydrous MgCl2 and 39.6 ml (0.116 moles) of Ti(OBu). This mixture was allowed to stir at 300 rpm and heated to 150° C. for about 12 hours in order to have the solids completely dissolved, thereby a clear liquid product was obtained. This resulting liquid was cooled down to 40°C. and under gently stirring at 150 rpm, it was diluted with 3200 ml of anhydrous hexane. Into this solution kept at 40° C. and under the same stirring, 300g of the silica support were added. This silica was previously dehydrated and treated with 23 ml (0.167 moles) of triethylaluminum diluted in anhydrous hexane, for 50 minutes and at room temperature. Once the addition of the silica is completed, the mixture was heated to 60° C. and kept at this temperature for 1 hour. To this mixture a solution of 100 ml of anhydrous hexane and 22 ml of SiC1 (0.192 moles) was dropped over a period of time of 1 hour. At the end of the addition, stirring was continued for 3.5 hours at a temperature of 60°C. The temperature of the mixture was then brought to 65° C. and kept for additional 2 hours. After cooling the mixture to room temperature, the stirring was stopped to have the solid settled. The supernatant liquid was removed, the Solid was repeatedly washed with anhydrous hexane and then dried at 60°C. under nitrogen flow, thus giving 390g of a light reddish powder. The chemical and physical characteristics of the resulting reddish powder were as follows: Total Titanium=1.5% (by weight) Mg-0.3% (by weight) SiO=81.2% (by weight) Al=1.2% (by weight) Cl=7.2% (by weight) OBu=7.6% (by weight) Surface Area (B.E.T.)=153 m/g Pore Volume (B.E.T.)=0.36 cm/g', type='catalyst_synthesis', reference=[]), ExperimentInfo(id='Example 5', text_of_example='In a 5 liter flask fitted with a mechanical stirrer and previously purged with nitrogen were fed 52.8 g (0.554 moles) of anhydrous MgCl, and 396 ml (1.163 moles) of Ti(OBu). This mixture was allowed to stir at 300 rpm and heated to 150° C. for about 12 hours in order to have the solids completely dissolved, thereby a clear liquid product was obtained. This resulting liquid was cooled down to 40°C. and under gently stirring at 150 rpm, it was diluted with 3200 ml of anhydrous hexane. Into this solution kept at 40° C. and under the same stirring, 300g of the silica support were added. This silica was previously dehydrated and treated with 23 ml (0.167 moles) of triethylaluminum diluted in anhydrous hexane, for 50 minutes and at room temperature. Once the addition of the silica is completed, the mixture was heated to 60° C. and kept at this temperature for 1 hour. To this mixture a solution of 200 ml of anhydrous hexane and 221 ml of SiCl (1.929 moles) was dropped over a period of time of 1 hour. At the end of the addition, stirring was continued for 3.5 hours at a temperature of 60°C. The temperature of the mixture was then brought to 65° C. and kept for additional 2 hours. After cooling the mixture to room temperature, the stirring was stopped to have the solid settled. The supernatant liquid was removed, the Solid was repeatedly washed with anhydrous hexane and then dried at 60°C. under nitrogen flow thus giving 300 g of a light reddish powder. The chemical and physical characteristics of the resulting reddish powder were as follows: Total Titanium=1.7% (by weight) MgF2.4% (by weight) SiO=76.7% (by weight) Al=0.8% (by weight) Cl=10.0% (by weight) OBu=7.5% (by weight) Surface Area (B.E.T.)=185 m/g Pore Volume (B.E.T.)=0.55 cm/g', type='catalyst_synthesis', reference=[]), ExperimentInfo(id='Example 6', text_of_example='In a 5 liter flask fitted with a mechanical stirrer and previously purged with nitrogen were fed 52.8 g (0.554 moles) of anhydrous MgCl, and 396 ml (1.163 moles) of Ti(OBu). This mixture was allowed to stir at 300 rpm and heated to 150° C. for about 12 hours in order to have the solids completely dissolved, thereby a clear liquid product was obtained. This resulting liquid was cooled down to 40°C. and under gently stirring at 150 rpm, it was diluted with 3200 ml of anhydrous hexane. Into this solution kept at 40°C. and under the same stirring, 300g of the silica support were added. This silica was previously dehydrated and treated with 23 ml (0.167 moles) of triethylaluminum diluted in anhydrous hexane, for 50 minutes and at room temperature. Once the addition of the silica is completed, the mixture was heated to 60° C. and kept at this temperature for 1 hour. To this mixture a solution of 200 ml of anhydrous hexane and 221 ml of SiCl (1.929 moles) was dropped over a period of time of 1 hour. At the end of the addition, stirring was continued for 3.5 hours at a temperature of 60°C. The temperature of the mixture was then brought to 65° C. and kept for additional 2 hours. After cooling the mixture to room temperature, the stirring was stopped to have the solid settled. The supernatant liquid was removed, the solid was repeatedly washed with anhydrous hexane. The solid thus obtained was again suspended in 2200 ml of anhydrous hexane and then 30 g of DEAC (0.249 moles) in 200 ml of anhydrous hexane were added to the resulting Suspension under gently stirring. Contact was maintained for 50 min at room temperature. Finally, the Supernatant liquid was removed and the solid was dried at 60°C. under nitrogen flow thus giving 400 g of a brown-reddish powder. The chemical and physical characteristics of the resulting reddish powder were as follows: Total Titanium=1.8% (by weight) Mg 2.7% (by weight) SiO=75.5% (by weight) Al=1.4% (by weight) Cl=12.0% (by weight) OBu=5.6% (by weight) Surface Area (B.E.T.)=180 m/g Pore Volume (B.E.T.)=0.53 cm/g', type='catalyst_synthesis', reference=[]), ExperimentInfo(id='Example 7', text_of_example='In a 5 liter flask fitted with a mechanical stirrer and previously purged with nitrogen were fed 24 g (0.252 moles) of anhydrous MgCl, and 180 ml (0.528 moles) of Ti(OBu). This mixture was allowed to stir at 300 rpm and heated to 150° C. for about 12 hours in order to have the solids completely dissolved, thereby a clear liquid product was obtained. This resulting liquid was cooled down to 40° C. and under gently stirring at 150 rpm, it was diluted with 3200 ml of anhydrous hexane. Into this solution kept at 40°C. and under the same stirring, 300g of the silica support were added. This silica was previously dehydrated and treated with 23 ml (0.167 moles) of triethylaluminum diluted in anhydrous hexane, for 50 minutes and at room temperature. Once the addition of the silica is completed, the mixture was heated to 60° C. and kept at this temperature for 1 hour. To this mixture a solution of 100 ml of anhydrous hexane and 100 ml of SiCl, (0.873 moles) was dropped over a period of time of 1 hour. At the end of the addition, stirring was continued for 3.5 hours at a temperature of 60°C. The temperature of the mixture was then brought to 65° C. and kept for additional 2 hours. After cooling the mixture to room temperature, the stirring was stopped to have the solid settled. The supernatant liquid was removed, the Solid was repeatedly washed with anhydrous hexane and then dried at 60° C. under nitrogen flow thus giving 360 g of a reddish powder. The chemical and physical characteristics of the resulting reddish powder were as follows: Total Titanium=2.1% (by weight) Mg-1.4% (by weight) SiO-78.3% (by weight) Al=0.9% (by weight) Cl=8.7% (by weight) OBu=7.6% (by weight) Surface Area (B.E.T.)=193 m/g Pore Volume (B.E.T.)=0.62 cm/g', type='catalyst_synthesis', reference=[]), ExperimentInfo(id='Example 8', text_of_example='In a 5 liter flask fitted with a mechanical stirrer and previously purged with nitrogen were fed 24 g (0.252 moles) of anhydrous MgCl, and 180 ml (0.528 moles) of Ti(OBu). This mixture was allowed to stir at 300 rpm and heated to 150° C. for about 12 hours in order to have the solids completely dissolved, thereby a clear liquid product was obtained. This resulting liquid was cooled down to 40°C. and under gently stirring at 150 rpm, it was diluted with 3200 ml of anhydrous hexane. Into this solution kept at 40° C. and under the same stirring, 300g of the silica support were added. This silica was previously dehydrated and treated with 23 ml (0.167 moles) of triethylaluminum diluted in anhydrous hexane, for 50 minutes and at room temperature. Once the addition of the silica is completed, the mixture was heated to 60° C. and kept at this temperature for 1 hour. To this mixture a solution of 100 ml of anhydrous hexane and 100 ml of SiC1 (0.873 moles) was dropped over a period of time of 1 hour. At the end of the addition, stirring was continued for 3.5 hours at a temperature of 60°C. The temperature of the mixture was then brought to 65° C. and kept for additional 2 hours. After cooling the mixture to room temperature, the stirring was stopped to have the solid settled. The supernatant liquid was removed, the solid was repeatedly washed with anhydrous hexane. The solid thus obtained was again suspended in 2200 ml of anhydrous hexane and then 30 g of DEAC (0.249 moles) in 200 ml of anhydrous hexane were added to the resulting Suspension under gently stirring. Contact was maintained for 50 min at room temperature. Finally, the Supernatant liquid was removed and the solid was dried at 60°C. under nitrogen flow thus giving 350 g of a brown-reddish powder. The chemical and physical characteristics of the resulting reddish powder were as follows: Total Titanium=2.0% (by weight) Mg-1.5% (by weight) SiO=76.8% (by weight) Al=1.7% (by weight) Cl=10.3% (by weight) OBu=6.7% (by weight) Surface Area (B.E.T.)=202 m/g Pore Volume (B.E.T.)=0.48 cm/g. The produced catalyst demonstrates the following properties when analyzed with X-ray photoelectron spectroscopy, UV-VIS spectroscopy and XANES spectroscopy.', type='catalyst_synthesis', reference=[]), ExperimentInfo(id='Example 9', text_of_example='In a 5 liter flask fitted with a mechanical stirrer and previously purged with nitrogen were fed 52.8 g (0.554 moles) of anhydrous MgCl, and 396 ml (1.163 moles) of Ti(OBu). This mixture was allowed to stir at 300 rpm and heated to 150° C. for about 12 hours in order to have the solids completely dissolved, thereby a clear liquid product was obtained. This resulting liquid was cooled down to 40°C. and under gently stirring at 150 rpm, it was diluted with 3200 ml of anhydrous hexane. Into this solution kept at 40° C. and under the same stirring, 300g of the silica support were added. This silica was previously dehydrated and treated with 23 ml (0.167 moles) of triethylaluminum diluted in anhydrous hexane, for 50 minutes and at room temperature. Once the addition of the silica is completed, the mixture was heated to 60° C. and kept at this temperature for 1 hour. To this mixture a solution of 200 ml of anhydrous hexane and 221 ml of SiC1 (1.929 moles) was dropped over a period of time of 1 hour. At the end of the addition, stirring was continued for 3.5 hours at a temperature of 60°C. The temperature of the mixture was then brought to 65° C. and kept for additional 2 hours. After cooling the mixture to room temperature, the stirring was stopped to have the solid settled. The supernatant liquid was removed, and the solid was repeatedly washed with anhydrous hexane. The solid thus obtained was again suspended in 2200 ml of anhydrous hexane and then 30 g of DEAC (0.249 moles) in 200 ml of anhydrous hexane were added to the resulting Suspension under gently stirring. Contact was maintained for 50 min at room temperature. The Supernatant liquid was removed and the solid was once again Suspended in 2200 ml of anhydrous hexane and then 30 g of Tn-HAL (0.106 moles) in 200 ml of anhydrous hexane were added to the resulting Suspension under gently stirring. Contact was maintained for 50 min at room temperature. Finally, the Supernatant liquid was removed and the solid was dried at 60°C. under nitrogen flow thus giving 340 g of a brown-reddish powder. The chemical and physical characteristics of the resulting reddish powder were as follows: Total Titanium=1.9% (by weight) MgF2.9% (by weight) SiO=74.1% (by weight) Al=1.5% (by weight) Cl=12.6% (by weight) OBu=6.0% (by weight) Surface Area (B.E.T.)=167 m/g Pore Volume (B.E.T.)=0.20 cm/g', type='catalyst_synthesis', reference=[]), ExperimentInfo(id='Example 10', text_of_example='In a 5 liter flask fitted with a mechanical stirrer and previously purged with nitrogen were fed 24 g (0.252 moles) of anhydrous MgCl, and 180 ml (0.528 moles) of Ti(OBu). This mixture was allowed to stir at 300 rpm and heated to 150° C. for about 12 hours in order to have the solids completely dissolved, thereby a clear liquid product was obtained. This resulting liquid was cooled down to 40°C. and under gently stirring at 150 rpm, it was diluted with 3200 ml of anhydrous hexane. Into this solution kept at 40° C. and under the same stirring, 300g of the silica support were added. This silica was previously dehydrated and treated with 23 ml (0.167 moles) of triethylaluminum diluted in anhydrous hexane, for 50 minutes and at room temperature. Once the addition of the silica is completed, the mixture was heated to 60° C. and kept at this temperature for 1 hour. To this mixture a solution of 100 ml of anhydrous hexane and 100 ml of SiCl, (0.873 moles) was dropped over a period of time of 1 hour. At the end of the addition, stirring was continued for 3.5 hours at a temperature of 60°C. The temperature of the mixture was then brought to 65° C. and kept for additional 2 hours. After cooling the mixture to room temperature, the stirring was stopped to have the solid settled. The supernatant liquid was removed, and the solid was repeatedly washed with anhydrous hexane. The solid thus obtained was again suspended in 2200 ml of anhydrous hexane and then 60 g of DEAC (0.498 moles) in 200 ml of anhydrous hexane were added to the resulting Suspension under gently stirring. Contact was maintained for 50 min at room temperature. Finally, the Supernatant liquid was removed and the solid was dried at 60°C. under nitrogen flow thus giving 300 g of a brown-reddish powder. The chemical and physical characteristics of the resulting reddish powder were as follows: Total Titanium=2.0% (by weight) Mg1.3% (by weight) SiO=76.3% (by weight) Al=2.3% (by weight) Cl=10.8% (by weight) OBu=6.3% (by weight) Surface Area (B.E.T.)=200 m/g Pore Volume (B.E.T.)=0.45 cm/g', type='catalyst_synthesis', reference=[]), ExperimentInfo(id='Example 11', text_of_example='Polymerization of Ethylene (HDPE) A 4-liter stainless steel autoclave, purged under nitrogen flow for 1 hour at 75° C. and then cooled to 30° C., was fed with 0.06 g of the solid catalyst component from the example 8,0.79g of TEAL mixed with 75 ml of anhydrous hexane, and 280 g of anhydrous propane. The temperature was raised to 60° C., and then 520 g of anhydrous propane were fed. The temperature was raised again to 80° C. and then 2 bars of hydrogen were fed simultaneously with 7 bars of ethylene. After that, the temperature was settled to 85°C. The polymerization was conducted in slurry liquid phase. The polymerization time was 2 hours, during which time the ethylene pressure was kept constant. After this period the reaction was stopped by venting off ethylene, hydrogen and propane and 55 g of polymer were obtained, which exhibited the following properties: MIE 2.4 g/10 min MIFAMIE 26 Polymer Density 0.96 g/cm Bulk Density 0.46 g/cm', type='polymerization', reference=['Example 8']), ExperimentInfo(id='Example 12', text_of_example='Copolymerization of Ethylene with Butene-1 (LLDPE) A 4 liter stainless steel autoclave, purged under nitrogen flow for 1 hour at 75° C. and then cooled to 30° C., was fed with 0.06 g of the solid catalyst component from the example 8,0.78g of TEAL mixed with 75 ml of anhydrous hexane, and 280 g of anhydrous propane. The temperature was raised to 60° C., and then 520 g of anhydrous propane were fed. The temperature was raised again to 70° C., and then 290 ml of butene-1 were fed simultaneously with 2 bars of hydrogen and 5 bars of ethylene. After that, the temperature is settled to 75° C. The polymerization was conducted in slurry liquid phase. The polymerization time was 3 hours, during which time the ethylene pressure was kept constant. After this period the reaction was stopped by venting off ethylene, butene-1, hydrogen and propane and 240 g of polymer were obtained, which exhibited the following properties: MIE 0.91 g/10 min MIFAMIE 26 Fraction Soluble in Xylene 9.2% Comonomer content 8.7% Polymer Density 0.917 g/cm Bulk Density 0.36 g/cm', type='polymerization', reference=['Example 8']), ExperimentInfo(id='Example 13', text_of_example='EXAMPLE 13 Catalyst used Ex. 1 Ti(%) 7.0 Mg (%) 2.0 Temperature (C.) 88 Ethylene partial pressure (bar) 3 Total pressure (bar) 21 Residence Time (h) 4.43 Hafethylene (mole/mole) O.10 Butenef ethylene (mole/mole) O.39 Catalytic yield (kg/g) 3.0 Bulk Density (g/cm) O.28 MIE (g/10 min) O.68 MIF (g/10 min) 20.4 MFR - FE 30 Comonomer Content (%) 8.8 Fraction Soluble in Xylene (%) 12.3 Polymer Density (g/cm) O.918 Flowability (s/100g) 14.4 Particle size distribution (wt %) <250 m 2 250-420 m 7 420-840 m 37 >840 m 54', type='table', reference=['Example 1']), ExperimentInfo(id='Example 14', text_of_example='EXAMPLE 14 Catalyst used Ex. 2 Ti(%) 1.4 Mg (%) 0.5 Temperature (C.) 88 Ethylene partial pressure (bar) 11.8 Total pressure (bar) 22 Residence Time (h) 3.71 Hafethylene (mole/mole) O.098 Butenef ethylene (mole/mole) O.41 Catalytic yield (kg/g) 1.6 Bulk Density (g/cm) O.34 MIE (g/10 min) O.66 MIF (g/10 min) 17.3 MFR - FE 26 Comonomer Content (%) 7.8 Fraction Soluble in Xylene (%) 8.9 Polymer Density (g/cm) O.918 Flowability (s/100g) 11.1 Particle size distribution (wt %) <250 m 2 250-420 m 7 420-840 m 49 >840 m 42', type='table', reference=['Example 2']), ExperimentInfo(id='Example 15', text_of_example='EXAMPLE 15 Catalyst used Ex. 3 Ti(%) 1.2 Mg (%) 0.3 Temperature (C.) 88 Ethylene partial pressure (bar) 9 Total pressure (bar) 21 Residence Time (h) 5.32 Hafethylene (mole/mole) O.O86 Butenef ethylene (mole/mole) O46 Catalytic yield (kg/g) 1.7 Bulk Density (g/cm) O.38 MIE (g/10 min) 0.72 MIF (g/10 min) 206 MFR - FE 28 Comonomer Content (%) 8.7 Fraction Soluble in Xylene (%) 9.4 Polymer Density (g/cm) O.918 Flowability (s/100g) <250 m 2 1 250-420 m 7 420-840 m 60 >840 m 32 Haze (%) 11.3 Gloss (%) 73.0 Blocking (g/100 cm) 22 21', type='table', reference=['Example 3'])], table_data=[TableData(caption=None, headers=['EXAMPLE', 'Catalyst used', 'Ti(%)', 'Mg (%)', 'Temperature (C.)', 'Ethylene partial pressure (bar)', 'Total pressure (bar)', 'Residence Time (h)', 'Hafethylene (mole/mole)', 'Butenef ethylene (mole/mole)', 'Catalytic yield (kg/g)', 'Bulk Density (g/cm)', 'MIE (g/10 min)', 'MIF (g/10 min)', 'MFR - FE', 'Comonomer Content (%)', 'Fraction Soluble in Xylene (%)', 'Polymer Density (g/cm)', 'Flowability (s/100g)', 'Particle size distribution (wt %)', '<250 m', '250–420 m', '420-840 m', '>840 m'], rows=[['Example 13', 'Ex. 1', '7.0', '2.0', '88', '3', '21', '4.43', '0.10', '0.39', '3.0', '0.28', '0.68', '20.4', '30', '8.8', '12.3', '0.918', '14.4', '2', '7', '37', '54'], ['Example 14', 'Ex. 2', '1.4', '0.5', '88', '11.8', '22', '3.71', '0.098', '0.41', '1.6', '0.34', '0.66', '17.3', '26', '7.8', '8.9', '0.918', '11.1', '2', '7', '49', '42'], ['Example 15', 'Ex. 3', '1.2', '0.3', '88', '9', '21', '5.32', '0.086', '0.46', '1.7', '0.38', '0.72', '206', '28', '8.7', '9.4', '0.918', '2', '1', '7', '60', '32']], reference=['Example 1', 'Example 2', 'Example 3'])])))], created=1743312272, model='gpt-4o-2024-08-06', object='chat.completion', service_tier='default', system_fingerprint='fp_6dd05565ef', usage=CompletionUsage(completion_tokens=7407, prompt_tokens=14933, total_tokens=22340, completion_tokens_details=CompletionTokensDetails(accepted_prediction_tokens=0, audio_tokens=0, reasoning_tokens=0, rejected_prediction_tokens=0), prompt_tokens_details=PromptTokensDetails(audio_tokens=0, cached_tokens=14848)))"
      ]
     },
     "execution_count": 56,
     "metadata": {},
     "output_type": "execute_result"
    }
   ],
   "source": [
    "patent_info = extract_information(exp_text)\n",
    "patent_info"
   ]
  },
  {
   "cell_type": "code",
   "execution_count": 92,
   "metadata": {},
   "outputs": [
    {
     "data": {
      "text/plain": [
       "['Example 1', 'Example 2', 'Example 3']"
      ]
     },
     "execution_count": 92,
     "metadata": {},
     "output_type": "execute_result"
    }
   ],
   "source": [
    "patent_info.choices[0].message.parsed.table_data[0].reference"
   ]
  },
  {
   "cell_type": "markdown",
   "metadata": {},
   "source": [
    "**Таблицы извлекаются верно** однако ссылки на эксперименты при этом извлекаются не верно. "
   ]
  },
  {
   "cell_type": "markdown",
   "metadata": {},
   "source": [
    "# Извлечение экспериментальных данных из структурированного текста"
   ]
  },
  {
   "cell_type": "code",
   "execution_count": 93,
   "metadata": {},
   "outputs": [],
   "source": [
    "@dataclass\n",
    "class ExperimentParser:\n",
    "    def __init__(self, patent_info: PatentInfo):\n",
    "        self.experiments = patent_info.experiments\n",
    "        self.table_data = patent_info.table_data\n",
    "        \n",
    "    def get_catalyst_synthesis_experiments(self) -> List[ExperimentInfo]:\n",
    "        \"\"\"Get all experiments related to catalyst synthesis\"\"\"\n",
    "        return [exp for exp in self.experiments \n",
    "                if exp.type == 'catalyst_synthesis']\n",
    "    \n",
    "    def get_related_experiments(self, experiment_id: str) -> List[ExperimentInfo]:\n",
    "        \"\"\"Get all experiments that reference the given experiment ID\"\"\"\n",
    "        return [exp for exp in self.experiments \n",
    "                if experiment_id in (exp.reference or [])]\n",
    "    \n",
    "    def get_synthesis_with_related(self) -> Dict[str, Tuple[ExperimentInfo, List[ExperimentInfo]]]:\n",
    "        \"\"\"\n",
    "        Get all catalyst synthesis experiments and their related experiments\n",
    "        Returns a dictionary where keys are synthesis experiment IDs and values are tuples of\n",
    "        (synthesis experiment, list of related experiments)\n",
    "        \"\"\"\n",
    "        result = {}\n",
    "        synthesis_experiments = self.get_catalyst_synthesis_experiments()\n",
    "        \n",
    "        for synthesis in synthesis_experiments:\n",
    "            related = self.get_related_experiments(synthesis.id)\n",
    "            result[synthesis.id] = (synthesis, related)\n",
    "            \n",
    "        return result\n",
    "\n",
    "    def get_synthesis_and_related_texts(self, \n",
    "                                      synthesis_and_related: Dict[str, Tuple[ExperimentInfo, List[ExperimentInfo]]]\n",
    "                                      ) -> Dict[str, Tuple[str, List[Tuple[str, str]]]]:\n",
    "        \"\"\"\n",
    "        Extract text from synthesis experiments and their related experiments\n",
    "        Returns a dictionary where keys are synthesis IDs and values are tuples of\n",
    "        (synthesis text, list of (text, experiment_type) tuples for related experiments)\n",
    "        \"\"\"\n",
    "        result = {}\n",
    "        \n",
    "        for synthesis_id, (synthesis, related) in synthesis_and_related.items():\n",
    "            synthesis_text = synthesis.text_of_example\n",
    "            related_texts = [(exp.type, exp.text_of_example) for exp in related]\n",
    "            result[synthesis_id] = (synthesis_text, related_texts)\n",
    "        \n",
    "        return result\n",
    "    \n",
    "    def get_related_table_data(self, experiment_id: str) -> List[TableData]:\n",
    "        \"\"\"\n",
    "        Get all table data entries that reference the given experiment ID\n",
    "        Returns a list of table data dictionaries that reference the experiment\n",
    "        \"\"\"\n",
    "        return [table for table in self.table_data\n",
    "                if experiment_id in (table.reference or [])]\n",
    "\n",
    "    def get_synthesis_with_related_and_tables(self) -> Dict[str, Tuple[ExperimentInfo, List[ExperimentInfo], List[TableData]]]:\n",
    "        \"\"\"\n",
    "        Get all catalyst synthesis experiments, their related experiments, and associated table data\n",
    "        Returns a dictionary where keys are synthesis experiment IDs and values are tuples of\n",
    "        (synthesis experiment, list of related experiments, list of related table data)\n",
    "        \"\"\"\n",
    "        result = {}\n",
    "        synthesis_experiments = self.get_catalyst_synthesis_experiments()\n",
    "        \n",
    "        for synthesis in synthesis_experiments:\n",
    "            related = self.get_related_experiments(synthesis.id)\n",
    "            table_data = self.get_related_table_data(synthesis.id)\n",
    "            result[synthesis.id] = (synthesis, related, table_data)\n",
    "            \n",
    "        return result\n",
    "\n",
    "    def get_synthesis_related_and_table_texts(self, \n",
    "                                            synthesis_data: Dict[str, Tuple[ExperimentInfo, List[ExperimentInfo], List[TableData]]]\n",
    "                                            ) -> Dict[str, Tuple[str, List[Tuple[str, str]], List[TableData]]]:\n",
    "        \"\"\"\n",
    "        Extract text from synthesis experiments, related experiments, and table data\n",
    "        Returns a dictionary where keys are synthesis IDs and values are tuples of\n",
    "        (synthesis text, list of (text, experiment_type) tuples for related experiments, table data)\n",
    "        \"\"\"\n",
    "        result = {}\n",
    "        \n",
    "        for synthesis_id, (synthesis, related, tables) in synthesis_data.items():\n",
    "            synthesis_text = synthesis.text_of_example\n",
    "            related_texts = [(exp.type, exp.text_of_example) for exp in related]\n",
    "            result[synthesis_id] = (synthesis_text, related_texts, tables)\n",
    "        \n",
    "        return result"
   ]
  },
  {
   "cell_type": "code",
   "execution_count": null,
   "metadata": {},
   "outputs": [],
   "source": [
    "parser = ExperimentParser(patent_info.choices[0].message.parsed)\n",
    "\n",
    "\n",
    "synthesis_data = parser.get_synthesis_with_related_and_tables()\n",
    "\n",
    "\n",
    "synthesis_texts = parser.get_synthesis_related_and_table_texts(synthesis_data)"
   ]
  },
  {
   "cell_type": "code",
   "execution_count": null,
   "metadata": {},
   "outputs": [],
   "source": [
    "class UnitValue(BaseModel):\n",
    "    value: Optional[float] = Field(None, description=\"Numerical value\")\n",
    "    unit: Optional[str] = Field(None, description=\"Unit of measurement\")\n",
    "\n",
    "class ReactionType(str, Enum):\n",
    "    SLURRY = \"slurry\"\n",
    "    SOLUTION = \"solution\"\n",
    "    GAS_PHASE = \"gas phase\"\n",
    "\n",
    "class MonomerType(str, Enum):\n",
    "    ETHYLENE = \"ethylene\"\n",
    "    PROPYLENE = \"propylene\"\n",
    "    BUTENE = \"butene\"\n",
    "    HEXENE = \"hexene\"\n",
    "\n",
    "class PolymerProperties(BaseModel):\n",
    "    mw: Optional[UnitValue] = Field(None, description=\"Weight average molecular weight\")\n",
    "    mn: Optional[UnitValue] = Field(None, description=\"Number average molecular weight\")\n",
    "    pdi: Optional[float] = Field(None, description=\"Polydispersity index\")\n",
    "    density: Optional[UnitValue] = Field(None, description=\"Density\")\n",
    "    tm: Optional[UnitValue] = Field(None, description=\"Melting temperature\")\n",
    "    bulk_density: Optional[UnitValue] = Field(None, description=\"Bulk density\")\n",
    "    melt_index: Optional[UnitValue] = Field(None, description=\"Melt index\")\n",
    "    melt_flow_rate: Optional[UnitValue] = Field(None, description=\"Melt flow rate\")\n",
    "\n",
    "class PolytestResult(BaseModel):\n",
    "    reaction_type: Optional[ReactionType] = Field(None, description=\"Type of reaction in the polytest\")\n",
    "    monomer_type: Optional[MonomerType] = Field(None, description=\"Type of monomer used in the polytest\")\n",
    "    comonomer_type: Optional[MonomerType] = Field(None, description=\"Type of comonomer if used\")\n",
    "    reactor_volume: Optional[UnitValue] = Field(None, description=\"Volume of reactor\")\n",
    "    temperature: Optional[UnitValue] = Field(None, description=\"Temperature of polytest\")\n",
    "    monomer: Optional[UnitValue] = Field(None, description=\"Pressure of monomer\")\n",
    "    hydrogen: Optional[UnitValue] = Field(None, description=\"Amount of hydrogen used\")\n",
    "    catalyst_amount: Optional[UnitValue] = Field(None, description=\"Amount of catalyst\")\n",
    "    cocatalyst_amount: Optional[UnitValue] = Field(None, description=\"Amount of cocatalyst\")\n",
    "    reaction_time: Optional[UnitValue] = Field(None, description=\"Reaction time\")\n",
    "    activity: Optional[UnitValue] = Field(None, description=\"Catalyst activity\")\n",
    "    polymer_properties: Optional[PolymerProperties] = Field(None, description=\"Polymer properties\")\n",
    "\n",
    "class Component(BaseModel):\n",
    "    name: Optional[str] = Field(None, description=\"Name of the component\")\n",
    "    amount: Optional[UnitValue] = Field(None, description=\"Amount of component\")\n",
    "\n",
    "class SynthesisConditions(BaseModel):\n",
    "    temperature: Optional[UnitValue] = Field(None, description=\"Temperature in °C, if applicable\")\n",
    "    time: Optional[UnitValue] = Field(None, description=\"Duration, if applicable\")\n",
    "    pressure: Optional[UnitValue] = Field(None, description=\"Pressure in MPa if applicable\")\n",
    "\n",
    "class SynthesisStep(BaseModel):\n",
    "    step_number: Optional[int] = Field(None, description=\"Sequential number of the synthesis step\")\n",
    "    description: Optional[str] = Field(None, description=\"Description of the step\")\n",
    "    components_added: Optional[List[Component]] = Field(None, description=\"Components added in this step\")\n",
    "    conditions: Optional[SynthesisConditions] = Field(None, description=\"Conditions during this step\")\n",
    "\n",
    "class CatalystSynthesis(BaseModel):\n",
    "    id: str = Field(description=\"Unique identifier for the catalyst synthesis\")\n",
    "    synthesis_steps: Optional[List[SynthesisStep]] = Field(None, description=\"Ordered list of synthesis steps\")\n",
    "    polytest_results: Optional[List[PolytestResult]] = Field(None, description=\"Results of polytests if applicable\")\n",
    "    catalyst_composition: Optional[List[Component]] = Field(None, description=\"Composition of final product\")"
   ]
  },
  {
   "cell_type": "code",
   "execution_count": null,
   "metadata": {},
   "outputs": [],
   "source": [
    "def extract_catalyst_data(text: str, model: str = \"gpt-4o-mini\") -> Optional[CatalystSynthesis]:\n",
    "    \"\"\"\n",
    "    Extract catalyst synthesis data from text using GPT-4 and validate with Pydantic model.\n",
    "    \n",
    "    Args:\n",
    "        text (str): Input text containing catalyst synthesis description\n",
    "        model (str): OpenAI model to use\n",
    "        \n",
    "    Returns:\n",
    "        Optional[CatalystSynthesis]: Validated catalyst synthesis data or None if extraction fails\n",
    "    \"\"\"\n",
    "    \n",
    "    prompt = f\"\"\"You are a specialized assistant for extracting catalyst synthesis data from scientific text.\n",
    "    Analyze the following text and extract information about catalyst synthesis and polymerization testing.\n",
    "\n",
    "    Extract only factual information present in the text. Use null for missing values.\n",
    "    Do not make assumptions or add information not explicitly stated.\n",
    "    \n",
    "    Text to analyze:\n",
    "    {text}\n",
    "    \"\"\"\n",
    "\n",
    "    client = OpenAI()\n",
    "    \n",
    "    try:\n",
    "        response = client.beta.chat.completions.parse(\n",
    "            model=model,\n",
    "            messages=[\n",
    "                {\"role\": \"system\", \"content\": \"You are a specialized assistant for extracting catalyst synthesis data from scientific text.\"},\n",
    "                {\"role\": \"user\", \"content\": prompt}\n",
    "            ],\n",
    "            temperature=0.0,\n",
    "            response_format=CatalystSynthesis\n",
    "        )\n",
    "\n",
    "        return response\n",
    "        \n",
    "    except ValidationError as e:\n",
    "        print(f\"Validation error: {e}\")\n",
    "        return None\n",
    "    except Exception as e:\n",
    "        print(f\"Error during extraction: {e}\")\n",
    "        return None"
   ]
  },
  {
   "cell_type": "code",
   "execution_count": null,
   "metadata": {},
   "outputs": [],
   "source": [
    "result = extract_catalyst_data(str(get_synthesis_and_related_texts['Example 1']))"
   ]
  },
  {
   "cell_type": "code",
   "execution_count": null,
   "metadata": {},
   "outputs": [],
   "source": [
    "result = result.choices[0].message.parsed\n",
    "if result:\n",
    "    print(json.dumps(result.model_dump(), indent=2))"
   ]
  },
  {
   "cell_type": "code",
   "execution_count": null,
   "metadata": {},
   "outputs": [],
   "source": [
    "result"
   ]
  },
  {
   "cell_type": "code",
   "execution_count": null,
   "metadata": {},
   "outputs": [],
   "source": [
    "def flatten_unit_value(prefix: str, unit_value: Optional[UnitValue]) -> Dict[str, Optional[float | str]]:\n",
    "    \"\"\"\n",
    "    Convert UnitValue object to a flat dictionary\n",
    "    Args:\n",
    "        prefix: Column name prefix\n",
    "        unit_value: UnitValue object to flatten\n",
    "    Returns:\n",
    "        Dictionary with value and unit fields\n",
    "    \"\"\"\n",
    "    if unit_value is None:\n",
    "        return {f\"{prefix}_value\": None, f\"{prefix}_unit\": None}\n",
    "    return {\n",
    "        f\"{prefix}_value\": unit_value.value,\n",
    "        f\"{prefix}_unit\": unit_value.unit\n",
    "    }\n",
    "\n",
    "def flatten_polymer_properties(props: Optional[PolymerProperties]) -> Dict[str, Optional[float | str]]:\n",
    "    \"\"\"\n",
    "    Convert PolymerProperties object to a flat dictionary\n",
    "    Args:\n",
    "        props: PolymerProperties object to flatten\n",
    "    Returns:\n",
    "        Dictionary with all polymer properties\n",
    "    \"\"\"\n",
    "    if props is None:\n",
    "        return {}\n",
    "    \n",
    "    result = {}\n",
    "    unit_value_properties = [\n",
    "        'mw', 'mn', 'density', 'tm', 'bulk_density', \n",
    "        'melt_index', 'melt_flow_rate'\n",
    "    ]\n",
    "    \n",
    "    # Handle properties with UnitValue\n",
    "    for prop in unit_value_properties:\n",
    "        value = getattr(props, prop)\n",
    "        if isinstance(value, UnitValue):\n",
    "            result.update(flatten_unit_value(prop, value))\n",
    "    \n",
    "    # Handle simple properties\n",
    "    if props.pdi is not None:\n",
    "        result[\"pdi\"] = props.pdi\n",
    "    \n",
    "    return result\n",
    "\n",
    "def polytest_to_dataframe(synthesis: CatalystSynthesis) -> pd.DataFrame:\n",
    "    \"\"\"\n",
    "    Convert polytest results to DataFrame\n",
    "    Args:\n",
    "        synthesis: CatalystSynthesis object containing polytest results\n",
    "    Returns:\n",
    "        DataFrame with polytest results\n",
    "    \"\"\"\n",
    "    if not synthesis.polytest_results:\n",
    "        return pd.DataFrame()\n",
    "    \n",
    "    rows = []\n",
    "    for polytest in synthesis.polytest_results:\n",
    "        # Handle enum fields\n",
    "        row = {\n",
    "            \"reaction_type\": polytest.reaction_type.value if polytest.reaction_type else None,\n",
    "            \"monomer_type\": polytest.monomer_type.value if polytest.monomer_type else None,\n",
    "            \"comonomer_type\": polytest.comonomer_type.value if polytest.comonomer_type else None,\n",
    "        }\n",
    "        \n",
    "        # Handle UnitValue fields\n",
    "        unit_value_fields = [\n",
    "            \"reactor_volume\", \"temperature\", \"monomer\", \n",
    "            \"hydrogen\", \"catalyst_amount\", \"cocatalyst_amount\",\n",
    "            \"reaction_time\", \"activity\"\n",
    "        ]\n",
    "        \n",
    "        for field in unit_value_fields:\n",
    "            unit_value = getattr(polytest, field)\n",
    "            row.update(flatten_unit_value(field, unit_value))\n",
    "        \n",
    "        # Add polymer properties\n",
    "        row.update(flatten_polymer_properties(polytest.polymer_properties))\n",
    "        rows.append(row)\n",
    "    \n",
    "    return pd.DataFrame(rows)\n",
    "\n",
    "def synthesis_steps_to_dataframe(synthesis: CatalystSynthesis) -> pd.DataFrame:\n",
    "    \"\"\"\n",
    "    Convert synthesis steps to DataFrame\n",
    "    Args:\n",
    "        synthesis: CatalystSynthesis object containing synthesis steps\n",
    "    Returns:\n",
    "        DataFrame with synthesis steps\n",
    "    \"\"\"\n",
    "    if not synthesis.synthesis_steps:\n",
    "        return pd.DataFrame()\n",
    "    \n",
    "    rows = []\n",
    "    for step in synthesis.synthesis_steps:\n",
    "        base_row = {\n",
    "            \"step_number\": step.step_number,\n",
    "            \"description\": step.description\n",
    "        }\n",
    "        \n",
    "        # Handle conditions\n",
    "        if step.conditions:\n",
    "            for condition in [\"temperature\", \"time\", \"pressure\"]:\n",
    "                value = getattr(step.conditions, condition)\n",
    "                if value:\n",
    "                    base_row.update(flatten_unit_value(condition, value))\n",
    "        \n",
    "        # Handle components\n",
    "        if step.components_added:\n",
    "            for component in step.components_added:\n",
    "                row = base_row.copy()\n",
    "                row[\"component_name\"] = component.name\n",
    "                if component.amount:\n",
    "                    row.update(flatten_unit_value(\"component_amount\", component.amount))\n",
    "                rows.append(row)\n",
    "        else:\n",
    "            rows.append(base_row)\n",
    "    \n",
    "    return pd.DataFrame(rows)\n",
    "\n",
    "def process_catalyst_synthesis(synthesis: CatalystSynthesis) -> Tuple[pd.DataFrame, pd.DataFrame]:\n",
    "    \"\"\"\n",
    "    Process a CatalystSynthesis instance and return synthesis steps and polytest results\n",
    "    Args:\n",
    "        synthesis: CatalystSynthesis object to process\n",
    "    Returns:\n",
    "        Tuple of (synthesis_steps_df, polytest_results_df)\n",
    "    \"\"\"\n",
    "    polytest_df = polytest_to_dataframe(synthesis)\n",
    "    synthesis_df = synthesis_steps_to_dataframe(synthesis)\n",
    "    \n",
    "    return synthesis_df, polytest_df\n"
   ]
  },
  {
   "cell_type": "code",
   "execution_count": null,
   "metadata": {},
   "outputs": [],
   "source": [
    "synthesis_steps_df, polytest_results_df = process_catalyst_synthesis(result)\n",
    "\n",
    "print(\"Synthesis Steps:\")\n",
    "\n",
    "synthesis_steps_df"
   ]
  },
  {
   "cell_type": "code",
   "execution_count": null,
   "metadata": {},
   "outputs": [],
   "source": [
    "polytest_results_df"
   ]
  },
  {
   "cell_type": "markdown",
   "metadata": {},
   "source": [
    "# Сравнительный анализ влияния предварительной фильтрации"
   ]
  },
  {
   "cell_type": "code",
   "execution_count": null,
   "metadata": {},
   "outputs": [],
   "source": [
    "res_withour_filter = \"/home/anatoly_kayda/Desktop/mipt/mipt_thesis/patent_analysis_with_initial_text/results/extraction_results.csv\"\n",
    "res_withour_filter = pd.read_csv(res_withour_filter)\n",
    "res_withour_filter = res_withour_filter.iloc[15].llm_extraction_results\n",
    "pprint(res_withour_filter)"
   ]
  },
  {
   "cell_type": "markdown",
   "metadata": {},
   "source": [
    "## Исходные данные в markdown формате"
   ]
  },
  {
   "cell_type": "code",
   "execution_count": 100,
   "metadata": {},
   "outputs": [
    {
     "name": "stderr",
     "output_type": "stream",
     "text": [
      "2025-03-30 22:18:06,767 - INFO - HTTP Request: POST https://api.openai.com/v1/chat/completions \"HTTP/1.1 200 OK\"\n"
     ]
    }
   ],
   "source": [
    "file_path = \"/home/anatoly_kayda/Desktop/mipt/mipt_thesis/patent_analysis_with_docling_preproceccing/results/US9352308.md\"\n",
    "def extract_text_from_md(file_path):\n",
    "    with open(file_path, 'r', encoding='utf-8') as file:\n",
    "        content = file.read()\n",
    "    return content\n",
    "md_file_res = extract_information(extract_text_from_md(file_path))"
   ]
  },
  {
   "cell_type": "code",
   "execution_count": 113,
   "metadata": {},
   "outputs": [
    {
     "data": {
      "text/plain": [
       "[ExperimentInfo(id='Example 1', text_of_example='In a 5 liter flask fitted with a mechanical stirrer and previously purged with nitrogen were fed 44 g (0.462 moles) of anhydrous MgCl, and 330 ml (0.969 moles) of Ti(OBu). This mixture was allowed to stir at 300 rpm and heated to 150°C. for about 12 hours in order to have the solids completely dissolved, thereby a clear liquid product was obtained. This resulting liquid was cooled down to 40°C. and under gently stirring at 150 rpm, it was diluted with 3200 ml of anhydrous hexane. Into this solution kept at 40° C. and under the same stirring, 250g of the silica support were added. This silica was previously dehydrated and treated with 19 ml (0.139 moles) of triethylaluminum diluted in anhydrous hexane, for 50 minutes and at room temperature. Once the addition of the silica is completed, the mixture was heated to 60° C. and kept at this temperature for 1 hour. Into this mixture, kept at 60° C. and under gently stirring, a solution consisting of 100 ml of anhydrous hexane and 192 ml of PMHS (0.085 moles) was dropped into it over a period of time of 1.5 hours. At the end of the addition, stirring was continued for 2 hours at a temperature of 60° C. To this mixture a solution of 200 ml of anhydrous hexane and 184 ml of SiC1 (1.606 moles) was dropped over a period of time of 1 hour. At the end of the addition, stirring was continued for 3.5 hours at a temperature of 60°C. The temperature of the mixture was then brought to 65° C. and kept for additional 2 hours. After cooling the mixture to room temperature, the stirring was stopped to have the solid settled. The supernatant liquid was removed, the solid was repeatedly washed with anhydrous hexane and then dried at 60° C. under nitrogen flow thus giving 390 g of a reddish powder.\\n\\nThe chemical and physical characteristics of the resulting reddish powder were as follows:\\n\\nTotal Titanium-7.0% (by weight)\\nMg 2.0% (by weight)\\nSiO=75.9% (by weight)\\nAl=0.5% (by weight)\\nCl=10.9% (by weight)\\nOBu=4.1% (by weight)\\nSurface Area (B.E.T.)=200 m/g\\nPore Volume (B.E.T.)=0.45 cm/g', type='catalyst_synthesis', reference=[]),\n",
       " ExperimentInfo(id='Example 2', text_of_example='In a 5 liter flask fitted with a mechanical stirrer and previously purged with nitrogen were fed 5.28 g (0.055 moles) of anhydrous MgCl2 and 39.6 ml (0.116 moles) of Ti(OBu). This mixture was allowed to stir at 300 rpm and heated to 150°C. for about 12 hours in order to have the solids completely dissolved, thereby a clear liquid product was obtained. This resulting liquid was cooled down to 40°C. and under gently stirring at 150 rpm, it was diluted with 3200 ml of anhydrous hexane. Into this solution kept at 40° C. and under the same stirring, 300g of the silica support were added. This silica was previously dehydrated and treated with 23 ml (0.167 moles) of triethylaluminum diluted in anhydrous hexane, for 50 minutes and at room temperature. Once the addition of the silica is completed, the mixture was heated to 60° C. and kept at this temperature for 1 hour. Into this mixture, kept at 60° C. and under gently stirring, a solution consisting of 100 ml of anhydrous hexane and 23 ml of MHS (0.010 moles) was dropped into it over a period of time of 1.5 hours. At the end of the addition, stirring was continued for 2 hours at a temperature of 60°C. To this mixture a solution of 100 ml of anhydrous hexane and 22 ml of SiCl, (0.192 moles) was dropped over a period of 1 hour. At the end of the addition, stirring was continued for 3.5 hours at a temperature of 60°C. The temperature of the mixture was then brought to 65° C. and kept for additional 2 hours. After cooling the mixture to room temperature, the stirring was stopped to have the solid settled. The supernatant liquid was removed, the solid was repeatedly washed with anhydrous hexane and finally dried at 60° C. under nitrogen flow thus giving 360 g of a light reddish powder.\\n\\nThe chemical and physical characteristics of the resulting reddish powder were as follows:\\n\\nTotal Titanium=1.4% (by weight)\\nMg 0.5% (by weight)\\nSiO-81.0% (by weight)\\nAl=1.4% (by weight)\\nCl=8.4% (by weight)\\nOBu=6.3% (by weight)\\nSurface Area (B.E.T.)=150 m/g\\nPore Volume (B.E.T.)=0.35 cm/g', type='catalyst_synthesis', reference=[]),\n",
       " ExperimentInfo(id='Example 3', text_of_example='In a 5 liter flask fitted with a mechanical stirrer and previously purged with nitrogen were fed 5.28 g (0.055 moles) of anhydrous MgCl2 and 39.6 ml (0.116 moles) of Ti(OBu). This mixture was allowed to stir at 300 pm and heated to 150°C. for about 12 hours in order to have the solids completely dissolved, thereby a clear liquid product was obtained. This resulting liquid was cooled down to 40° C. and under gently stirring at 150 rpm, it was diluted with 3200 ml of anhydrous hexane. Into this solution kept at 40°C. and under the same stirring, 300g of the silica support were added. This silica was previously dehydrated and treated with 23 ml (0.167 moles) of triethylaluminum diluted in anhydrous hexane, for 50 minutes and at room temperature. Once the addition of the silica is completed, the mixture was heated to 60° C. and kept at this temperature for 1 hour. Into this mixture, kept at 60° C. and under gently stirring, a solution consisting of 100 ml of anhydrous hexane and 23 ml of MHS (0.010 moles) was dropped into it over a period of time of 1.5 hours. At the end of the addition, stirring was continued for 2 hours at a temperature of 60°C. To this mixture a solution of 100 ml of anhydrous hexane and 22 ml of SiCl, (0.192 moles) was dropped over a period of time of 1 hour. At the end of the addition, stirring was continued for 3.5 hours at a temperature of 60° C. The temperature of the mixture was then brought to 65° C. and kept for additional 2 hours. After cooling the mixture to room temperature, the stirring was stopped to have the solid settled. The supernatant liquid was removed, the solid was repeatedly washed with anhydrous hexane. The solid thus obtained was again suspended in 2200 ml of anhydrous hexane and then 31.4 g of DEAC (0.260 moles) in 200 ml of anhydrous hexane were added to the resulting suspension under gently stirring. Contact was maintained for 50 min at room temperature. Finally, the supernatant liquid was removed and the solid was dried at 60° C. under nitrogen flow thus giving 300 g of a brown-reddish powder.\\n\\nThe chemical and physical characteristics of the resulting reddish powder were as follows:\\n\\nTotal Titanium=1.2% (by weight)\\nMg 0.3% (by weight)\\nSiO-81.0% (by weight)\\nAl=1.8% (by weight)\\nCl=7.0% (by weight)\\nOBu=7.7% (by weight)\\nSurface Area (B.E.T.)=155 m/g\\nPore Volume (B.E.T.)=0.36 cm/g', type='catalyst_synthesis', reference=[]),\n",
       " ExperimentInfo(id='Example 4', text_of_example='In a 5 liter flask fitted with a mechanical stirrer and previously purged with nitrogen were fed 5.28 g (0.055 moles) of anhydrous MgCl2 and 39.6 ml (0.116 moles) of Ti(OBu). This mixture was allowed to stir at 300 rpm and heated to 150°C. for about 12 hours in order to have the solids completely dissolved, thereby a clear liquid product was obtained. This resulting liquid was cooled down to 40°C. and under gently stirring at 150 rpm, it was diluted with 3200 ml of anhydrous hexane. Into this solution kept at 40° C. and under the same stirring, 300g of the silica support were added. This silica was previously dehydrated and treated with 23 ml (0.167 moles) of triethylaluminum diluted in anhydrous hexane, for 50 minutes and at room temperature. Once the addition of the silica is completed, the mixture was heated to 60° C. and kept at this temperature for 1 hour. To this mixture a solution of 100 ml of anhydrous hexane and 22 ml of SiC1 (0.192 moles) was dropped over a period of time of 1 hour. At the end of the addition, stirring was continued for 3.5 hours at a temperature of 60°C. The temperature of the mixture was then brought to 65° C. and kept for additional 2 hours. After cooling the mixture to room temperature, the stirring was stopped to have the solid settled. The supernatant liquid was removed, the solid was repeatedly washed with anhydrous hexane and then dried at 60°C. under nitrogen flow, thus giving 390g of a light reddish powder.\\n\\nThe chemical and physical characteristics of the resulting reddish powder were as follows:\\n\\nTotal Titanium=1.5% (by weight)\\nMg-0.3% (by weight)\\nSiO=81.2% (by weight)\\nAl=1.2% (by weight)\\nCl=7.2% (by weight)\\nOBu=7.6% (by weight)\\nSurface Area (B.E.T.)=153 m/g\\nPore Volume (B.E.T.)=0.36 cm/g', type='catalyst_synthesis', reference=[]),\n",
       " ExperimentInfo(id='Example 5', text_of_example='In a 5 liter flask fitted with a mechanical stirrer and previously purged with nitrogen were fed 52.8 g (0.554 moles) of anhydrous MgCl, and 396 ml (1.163 moles) of Ti(OBu). This mixture was allowed to stir at 300 rpm and heated to 150°C. for about 12 hours in order to have the solids completely dissolved, thereby a clear liquid product was obtained. This resulting liquid was cooled down to 40°C. and under gently stirring at 150 rpm, it was diluted with 3200 ml of anhydrous hexane. Into this solution kept at 40° C. and under the same stirring, 300g of the silica support were added. This silica was previously dehydrated and treated with 23 ml (0.167 moles) of triethylaluminum diluted in anhydrous hexane, for 50 minutes and at room temperature. Once the addition of the silica is completed, the mixture was heated to 60° C. and kept at this temperature for 1 hour. To this mixture a solution of 100 ml of anhydrous hexane and 221 ml of SiCl (1.929 moles) was dropped over a period of time of 1 hour. At the end of the addition, stirring was continued for 3.5 hours at a temperature of 60°C. The temperature of the mixture was then brought to 65° C. and kept for additional 2 hours. After cooling the mixture to room temperature, the stirring was stopped to have the solid settled. The supernatant liquid was removed, the solid was repeatedly washed with anhydrous hexane and then dried at 60°C. under nitrogen flow thus giving 300 g of a light reddish powder.\\n\\nThe chemical and physical characteristics of the resulting reddish powder were as follows:\\n\\nTotal Titanium=1.7% (by weight)\\nMgF2.4% (by weight)\\nSiO=76.7% (by weight)\\nAl=0.8% (by weight)\\nCl=10.0% (by weight)\\nOBu=7.5% (by weight)\\nSurface Area (B.E.T.)=185 m/g\\nPore Volume (B.E.T.)=0.55 cm/g', type='catalyst_synthesis', reference=[]),\n",
       " ExperimentInfo(id='Example 6', text_of_example='In a 5 liter flask fitted with a mechanical stirrer and previously purged with nitrogen were fed 52.8 g (0.554 moles) of anhydrous MgCl, and 396 ml (1.163 moles) of Ti(OBu). This mixture was allowed to stir at 300 pm and heated to 150°C. for about 12 hours in order to have the solids completely dissolved, thereby a clear liquid product was obtained. This resulting liquid was cooled down to 40°C. and under gently stirring at 150 rpm, it was diluted with 3200 ml of anhydrous hexane. Into this solution kept at 40°C. and under the same stirring, 300g of the silica support were added. This silica was previously dehydrated and treated with 23 ml (0.167 moles) of triethylaluminum diluted in anhydrous hexane, for 50 minutes and at room temperature. Once the addition of the silica is completed, the mixture was heated to 60° C. and kept at this temperature for 1 hour. To this mixture a solution of 100 ml of anhydrous hexane and 221 ml of SiCl (1.929 moles) was dropped over a period of time of 1 hour. At the end of the addition, stirring was continued for 3.5 hours at a temperature of 60°C. The temperature of the mixture was then brought to 65° C. and kept for additional 2 hours. After cooling the mixture to room temperature, the stirring was stopped to have the solid settled. The supernatant liquid was removed, the solid was repeatedly washed with anhydrous hexane. The solid thus obtained was again suspended in 2200 ml of anhydrous hexane and then 30 g of DEAC (0.249 moles) in 200 ml of anhydrous hexane were added to the resulting suspension under gently stirring. Contact was maintained for 50 min at room temperature. Finally, the supernatant liquid was removed and the solid was dried at 60°C. under nitrogen flow thus giving 400 g of a brown-reddish powder.\\n\\nThe chemical and physical characteristics of the resulting reddish powder were as follows:\\n\\nPore Volume (B.E.T.)=0.53 cm/g\\nTotal Titanium=1.8% (by weight)\\nMg 2.7% (by weight)\\nSiO=75.5% (by weight)\\nAl=1.4% (by weight)\\nCl=12.0% (by weight)\\nOBu=5.6% (by weight)\\nSurface Area (B.E.T.)=180 m/g', type='catalyst_synthesis', reference=[]),\n",
       " ExperimentInfo(id='Example 7', text_of_example='In a 5 liter flask fitted with a mechanical stirrer and previously purged with nitrogen were fed 24 g (0.252 moles) of anhydrous MgCl, and 180 ml (0.528 moles) of Ti(OBu). This mixture was allowed to stir at 300 pm and heated to 150°C. for about 12 hours in order to have the solids completely dissolved, thereby a clear liquid product was obtained. This resulting liquid was cooled down to 40°C. and under gently stirring at 150 rpm, it was diluted with 3200 ml of anhydrous hexane. Into this solution kept at 40°C. and under the same stirring, 300g of the silica support were added. This silica was previously dehydrated and treated with 23 ml (0.167 moles) of triethylaluminum diluted in anhydrous hexane, for 50 minutes and at room temperature. Once the addition of the silica is completed, the mixture was heated to 60° C. and kept at this temperature for 1 hour. To this mixture a solution of 100 ml of anhydrous hexane and 100 ml of SiCl, (0.873 moles) was dropped over a period of time of 1 hour. At the end of the addition, stirring was continued for 3.5 hours at a temperature of 60°C. The temperature of the mixture was then brought to 65° C. and kept for additional 2 hours. After cooling the mixture to room temperature, the stirring was stopped to have the solid settled. The supernatant liquid was removed, the solid was repeatedly washed with anhydrous hexane and then dried at 60° C. under nitrogen flow thus giving 360 g of a reddish powder.\\n\\nThe chemical and physical characteristics of the resulting reddish powder were as follows:\\n\\nTotal Titanium=2.1% (by weight)\\nMg-1.5% (by weight)\\nSiO-78.3% (by weight)\\nAl=0.9% (by weight)\\nCl=8.7% (by weight)\\nOBu=7.6% (by weight)\\nSurface Area (B.E.T.)=193 m/g\\nPore Volume (B.E.T.)=0.62 cm/g', type='catalyst_synthesis', reference=[]),\n",
       " ExperimentInfo(id='Example 8', text_of_example='In a 5 liter flask fitted with a mechanical stirrer and previously purged with nitrogen were fed 24 g (0.252 moles) of anhydrous MgCl, and 180 ml (0.528 moles) of Ti(OBu). This mixture was allowed to stir at 300 rpm and heated to 150° C. for about 12 hours in order to have the solids completely dissolved, thereby a clear liquid product was obtained. This resulting liquid was cooled down to 40°C. and under gently stirring at 150 rpm, it was diluted with 3200 ml of anhydrous hexane. Into this solution kept at 40° C. and under the same stirring, 300g of the silica support were added. This silica was previously dehydrated and treated with 23 ml (0.167 moles) of triethylaluminum diluted in anhydrous hexane, for 50 minutes and at room temperature. Once the addition of the silica is completed, the mixture was heated to 60° C. and kept at this temperature for 1 hour. To this mixture a solution of 200 ml of anhydrous hexane and 184 ml of SiCl4 (1.606 moles) was dropped over a period of 1 hour. At the end of the addition, stirring was continued for 3.5 hours at a temperature of 60°C. The temperature of the mixture was then brought to 65° C. and kept for additional 2 hours. After cooling the mixture to room temperature, the stirring was stopped to have the solid settled. The supernatant liquid was removed, the solid was repeatedly washed with anhydrous hexane and then dried at 60°C. under nitrogen flow thus giving 350 g of a brown-reddish powder.\\n\\nThe chemical and physical characteristics of the resulting reddish powder were as follows:\\n\\nTotal Titanium=2.0% (by weight)\\nSiO=76.8% (by weight)\\nMg-1.4% (by weight)\\nAl=1.7% (by weight)\\nCl=10.3% (by weight)\\nOBu=6.7% (by weight)\\nSurface Area (B.E.T.)=202 m/g\\nPore Volume (B.E.T.)=0.48 cm/g.', type='catalyst_synthesis', reference=[]),\n",
       " ExperimentInfo(id='Example 9', text_of_example='In a 5 liter flask fitted with a mechanical stirrer and previously purged with nitrogen were fed 52.8 g (0.554 moles) of anhydrous MgCl, and 396 ml (1.163 moles) of Ti(OBu). This mixture was allowed to stir at 300 pm and heated to 150°C. for about 12 hours in order to have the solids completely dissolved, thereby a clear liquid product was obtained. This resulting liquid was cooled down to 40°C. and under gently stirring at 150 rpm, it was diluted with 3200 ml of anhydrous hexane. Into this solution kept at 40°C. and under the same stirring, 300g of the silica support were added. This silica was previously dehydrated and treated with 23 ml (0.167 moles) of triethylaluminum diluted in anhydrous hexane, for 50 utes and at room temperature. Once the addition of the silica is completed, the mixture was heated to 60° C. and kept at this temperature for 1 hour. To this mixture a solution of 200 ml of anhydrous hexane and 221 ml of SiCl (1.929 moles) was dropped over a period of 1 hour. At the end of the addition, stirring was continued for 3.5 hours at a temperature of 60°C. The temperature of the mixture was then brought to 65° C. and kept for additional 2 hours. After cooling the mixture to room temperature, the stirring was stopped to have the solid settled. The supernatant liquid was removed, and the solid was repeatedly washed with anhydrous hexane. The solid thus obtained was again suspended in 2200 ml of anhydrous hexane and then 30 g of DEAC (0.249 moles) in 200 ml of anhydrous hexane were added to the resulting suspension under gently stirring. Contact was maintained for 50 min at room temperature. The supernatant liquid was removed and the solid was once again suspended in 2200 ml of anhydrous hexane and then 30 g of Tn-HAL (0.106 moles) in 200 ml of anhydrous hexane were added to the resulting suspension under gently stirring. Contact was maintained for 50 min at room temperature. Finally, the supernatant liquid was removed and the solid was dried at 60°C. under nitrogen flow thus giving 340 g of a brown-reddish powder.\\n\\nThe chemical and physical characteristics of the resulting reddish powder were as follows:\\n\\nTotal Titanium=1.9% (by weight)\\nMgF2.9% (by weight)\\nSiO=74.1% (by weight)\\nAl=1.5% (by weight)\\nCl=12.6% (by weight)\\nOBu=6.0% (by weight)\\nPore Volume (B.E.T.)=0.20 cm/g\\nSurface Area (B.E.T.)=167 m/g', type='catalyst_synthesis', reference=[]),\n",
       " ExperimentInfo(id='Example 10', text_of_example='In a 5 liter flask fitted with a mechanical stirrer and previously purged with nitrogen were fed 24 g (0.252 moles) of anhydrous MgCl, and 180 ml (0.528 moles) of Ti(OBu). This mixture was allowed to stir at 300 rpm and heated to 150°C. for about 12 hours in order to have the solids completely dissolved, thereby a clear liquid product was obtained. This resulting liquid was cooled down to 40°C. and under gently stirring at 150 rpm, it was diluted with 3200 ml of anhydrous hexane. Into this solution kept at 40° C. and under the same stirring, 300g of the silica support were added. This silica was previously dehydrated and treated with 23 ml (0.167 moles) of triethylaluminum diluted in anhydrous hexane, for 50 minutes and at room temperature. Once the addition of the silica is completed, the mixture was heated to 60° C. and kept at this temperature for 1 hour. To this mixture a solution of 100 ml of anhydrous hexane and 100 ml of SiCl, (0.873 moles) was dropped over a period of time of 1 hour. At the end of the addition, stirring was continued for 3.5 hours at a temperature of 60°C. The temperature of the mixture was then brought to 65° C. and kept for additional 2 hours. After cooling the mixture to room temperature, the stirring was stopped to have the solid settled. The supernatant liquid was removed, and the solid was repeatedly washed with anhydrous hexane. The solid thus obtained was again suspended in 2200 ml of anhydrous hexane and then 60 g of DEAC (0.498 moles) in 200 ml of anhydrous hexane were added to the resulting suspension under gently stirring. Contact was maintained for 50 min at room temperature. Finally, the supernatant liquid was removed and the solid was dried at 60°C. under nitrogen flow thus giving 300 g of a brown-reddish powder.\\n\\nThe chemical and physical characteristics of the resulting reddish powder were as follows:\\n\\nTotal Titanium=2.0% (by weight)\\nMg1.3% (by weight)\\nSiO=76.3% (by weight)\\nAl=2.3% (by weight)\\nCl=10.8% (by weight)\\nOBu=6.3% (by weight)\\nSurface Area (B.E.T.)=200 m/g\\nPore Volume (B.E.T.)=0.45 cm/g', type='catalyst_synthesis', reference=[]),\n",
       " ExperimentInfo(id='Example 11', text_of_example='A 4-liter stainless steel autoclave, purged under nitrogen flow for 1 hour at 75° C. and then cooled to 30° C., was fed with 0.06 g of the solid catalyst component from the example 8,0.79g of TEAL mixed with 75 ml of anhydrous hexane, and 280 g of anhydrous propane. The temperature was raised to 60° C., and then 520 g of anhydrous propane were fed. The temperature was raised again to 80° C. and then 2 bars of hydrogen were fed simultaneously with 7 bars of ethylene. After that, the temperature was settled to 85°C. The polymerization was conducted in slurry liquid phase. The polymerization time was 2 hours, during which time the ethylene pressure was kept constant. After this period the reaction was stopped by venting off ethylene, hydrogen and propane and 55 g of polymer were obtained, which exhibited the following properties:\\n\\n2.4 g/10 min\\nMIFAMIE\\nPolymer Density\\n0.96 g/cm\\nBulk Density\\n0.46 g/cm', type='polymerization', reference=['Example 8']),\n",
       " ExperimentInfo(id='Example 12', text_of_example='A 4 liter stainless steel autoclave, purged under nitrogen flow for 1 hour at 75° C. and then cooled to 30° C., was fed with 0.06 g of the solid catalyst component from the example 8,0.78g of TEAL mixed with 75 ml of anhydrous hexane, and 280 g of anhydrous propane. The temperature was raised to 60° C., and then 520 g of anhydrous propane were fed. The temperature was raised again to 70° C., and then 290 ml of butene-1 were fed simultaneously with 2 bars of hydrogen and 5 bars of ethylene. After that, the temperature is settled to 75° C. The polymerization was conducted in slurry liquid phase. The polymerization time was 3 hours, during which time the ethylene pressure was kept constant. After this period the reaction was stopped by venting off ethylene, butene-1, hydrogen and propane and 240 g of polymer were obtained, which exhibited the following properties:\\n\\nMIE\\n0.91 g/10 min\\nMIFAMIE\\n26\\nFraction Soluble in Xylene\\n9.2%\\nComonomer content\\n8.7%\\nPolymer Density\\n0.917 g/cm\\nBulk Density\\n0.36 g/cm', type='polymerization', reference=['Example 8'])]"
      ]
     },
     "execution_count": 113,
     "metadata": {},
     "output_type": "execute_result"
    }
   ],
   "source": [
    "md_file_res.choices[0].message.parsed.experiments"
   ]
  },
  {
   "cell_type": "code",
   "execution_count": 110,
   "metadata": {},
   "outputs": [
    {
     "data": {
      "text/plain": [
       "[TableData(caption=None, headers=[], rows=[], reference=[]),\n",
       " TableData(caption='Table 1', headers=['EXAMPLE', '13', '14', '15', '16', '17', '18', '19', '20', '21', '22', '23'], rows=[['Catalyst used', 'Ex. 1', 'Ex. 2', 'Ex. 3', 'Ex. 4', 'Ex. S', 'Ex. 6', 'Ex. 7', 'Ex. 8', 'Ex. 9', 'Ex. 10', 'Ex. 10'], ['Ti(%)', '7.0', '1.4', '1.2', '1.5', '1.7', '1.8', '2.1', '2.0', '1.9', '2.0', '2.0'], ['Mg (%)', '2.0', 'O.S', 'O.3', 'O.3', '2.4', '2.7', '1.3', '1.5', '2.9', '1.5', '1.5'], ['Temperature (C.)', '88', '88', '88', '88', '88', '88', '88', '88', '88', '88', '75'], ['Ethylene partial pressure (bar)', '3', '11.8', '9', '10.9', '5', '7', '7', '7', '7', '7', '7'], ['Total pressure (bar)', '21', '22', '21', '21', '21', '21', '21', '21', '21', '21', '21'], ['Residence Time (h)', '4.43', '3.71', '5.32', '3.2O', '4.86', '3.92', '3.18', '2.89', '3.91', '3.70', '3.15'], ['Hafethylene (mole/mole)', 'O.10', 'O.098', 'O.O86', 'O.096', 'O.096', 'O.118', 'O.098', 'O.12', 'O.13', 'O.12', 'O.17'], ['Butenefethylene (mole/mole)', 'O.39', 'O41', 'O46', '0.44', 'O.35', 'O4O', 'O.39', 'O41', '0.37', 'O41', 'O45'], ['Catalytic yield (kg/g)', '3.0', '1.6', '1.7', '1.6', '4.3', '7.5', 'S.O', '7.5', '7.1', '7.1', '6.2'], ['Bulk Density (g/cm)', 'O.28', 'O.34', 'O.38', 'O.34', 'O.29', 'O.31', 'O.38', 'O.38', 'O.38', 'O.38', 'O3S'], ['MIE (g/10 min)', 'O.68', 'O.66', '0.72', 'O.74', 'O.64', 'O.68', 'O.69', 'O.67', 'O.69', 'O.65', '0.57'], ['MIF (g/10 min)', '20.4', '17.3', '2O6', '19.9', '23.3', '18.6', '19.1', '17.6', '18.2', '16.9', '15.2'], ['MFR - FE', '30', '26', '28', '27', '36', '27', '28', '26', '26', '26', '26'], ['Comonomer Content (%)', '8.8', '7.8', '8.7', '7.7', '9.4', '8.3', '8.4', '7.9', '8.2', '8.1', '8.8'], ['Fraction Soluble in Xylene (%)', '12.3', '8.9', '9.4', '7.1', '13.7', '9.4', '9.5', '7.8', '10.1', '8.O', '9.3'], ['Polymer Density (g/cm)', 'O.918', 'O.918', 'O.918', 'O.919', 'O.917', 'O.918', 'O.918', 'O.918', 'O.918', 'O.918', 'O.917'], ['Flowability (s/100g)', '', '14.4', '11.1', '13.3', '14.4', '17.9', '12.4', '11.9', '10.8', '12.7', '12.6'], ['Particle size distribution (wt %)', '', '', '', '', '', '', '', '', '', '', ''], ['<250 m', '2', '2', '1', '1', '2', '3', '<O.S', '1', '1', '1', '1'], ['250-420 m', '7', '7', '7', '2', '7', '5', '2', '2', '2', '2', '2'], ['420-840 m', '37', '49', '60', '35', '45', '28', '36', '35', '28', '39', '37'], ['>840 m', 'S4', '42', '32', '62', '46', '64', '62', '62', '69', '58', '60'], ['Haze (%)', '11.3', '', '', '', '', '', '11.6', '11.3', '11.3', '11.4', ''], ['Gloss (%)', '73.0', '', '', '', '', '', '79.5', '80.7', '79.3', '80.2', ''], ['Blocking (g/100 cm)', '', '22', '21', '15', '', '24', '24', '16', '30', '19', '24']], reference=['Examples 1', 'Examples 2', 'Examples 3', 'Examples 4', 'Examples 5', 'Examples 6', 'Examples 7', 'Examples 8', 'Examples 9', 'Examples 10'])]"
      ]
     },
     "execution_count": 110,
     "metadata": {},
     "output_type": "execute_result"
    }
   ],
   "source": [
    "md_file_res.choices[0].message.parsed.table_data"
   ]
  },
  {
   "cell_type": "code",
   "execution_count": 112,
   "metadata": {},
   "outputs": [
    {
     "data": {
      "text/plain": [
       "{'Example 1': (ExperimentInfo(id='Example 1', text_of_example='In a 5 liter flask fitted with a mechanical stirrer and previously purged with nitrogen were fed 44 g (0.462 moles) of anhydrous MgCl, and 330 ml (0.969 moles) of Ti(OBu). This mixture was allowed to stir at 300 rpm and heated to 150°C. for about 12 hours in order to have the solids completely dissolved, thereby a clear liquid product was obtained. This resulting liquid was cooled down to 40°C. and under gently stirring at 150 rpm, it was diluted with 3200 ml of anhydrous hexane. Into this solution kept at 40° C. and under the same stirring, 250g of the silica support were added. This silica was previously dehydrated and treated with 19 ml (0.139 moles) of triethylaluminum diluted in anhydrous hexane, for 50 minutes and at room temperature. Once the addition of the silica is completed, the mixture was heated to 60° C. and kept at this temperature for 1 hour. Into this mixture, kept at 60° C. and under gently stirring, a solution consisting of 100 ml of anhydrous hexane and 192 ml of PMHS (0.085 moles) was dropped into it over a period of time of 1.5 hours. At the end of the addition, stirring was continued for 2 hours at a temperature of 60° C. To this mixture a solution of 200 ml of anhydrous hexane and 184 ml of SiC1 (1.606 moles) was dropped over a period of time of 1 hour. At the end of the addition, stirring was continued for 3.5 hours at a temperature of 60°C. The temperature of the mixture was then brought to 65° C. and kept for additional 2 hours. After cooling the mixture to room temperature, the stirring was stopped to have the solid settled. The supernatant liquid was removed, the solid was repeatedly washed with anhydrous hexane and then dried at 60° C. under nitrogen flow thus giving 390 g of a reddish powder.\\n\\nThe chemical and physical characteristics of the resulting reddish powder were as follows:\\n\\nTotal Titanium-7.0% (by weight)\\nMg 2.0% (by weight)\\nSiO=75.9% (by weight)\\nAl=0.5% (by weight)\\nCl=10.9% (by weight)\\nOBu=4.1% (by weight)\\nSurface Area (B.E.T.)=200 m/g\\nPore Volume (B.E.T.)=0.45 cm/g', type='catalyst_synthesis', reference=[]),\n",
       "  [],\n",
       "  []),\n",
       " 'Example 2': (ExperimentInfo(id='Example 2', text_of_example='In a 5 liter flask fitted with a mechanical stirrer and previously purged with nitrogen were fed 5.28 g (0.055 moles) of anhydrous MgCl2 and 39.6 ml (0.116 moles) of Ti(OBu). This mixture was allowed to stir at 300 rpm and heated to 150°C. for about 12 hours in order to have the solids completely dissolved, thereby a clear liquid product was obtained. This resulting liquid was cooled down to 40°C. and under gently stirring at 150 rpm, it was diluted with 3200 ml of anhydrous hexane. Into this solution kept at 40° C. and under the same stirring, 300g of the silica support were added. This silica was previously dehydrated and treated with 23 ml (0.167 moles) of triethylaluminum diluted in anhydrous hexane, for 50 minutes and at room temperature. Once the addition of the silica is completed, the mixture was heated to 60° C. and kept at this temperature for 1 hour. Into this mixture, kept at 60° C. and under gently stirring, a solution consisting of 100 ml of anhydrous hexane and 23 ml of MHS (0.010 moles) was dropped into it over a period of time of 1.5 hours. At the end of the addition, stirring was continued for 2 hours at a temperature of 60°C. To this mixture a solution of 100 ml of anhydrous hexane and 22 ml of SiCl, (0.192 moles) was dropped over a period of 1 hour. At the end of the addition, stirring was continued for 3.5 hours at a temperature of 60°C. The temperature of the mixture was then brought to 65° C. and kept for additional 2 hours. After cooling the mixture to room temperature, the stirring was stopped to have the solid settled. The supernatant liquid was removed, the solid was repeatedly washed with anhydrous hexane and finally dried at 60° C. under nitrogen flow thus giving 360 g of a light reddish powder.\\n\\nThe chemical and physical characteristics of the resulting reddish powder were as follows:\\n\\nTotal Titanium=1.4% (by weight)\\nMg 0.5% (by weight)\\nSiO-81.0% (by weight)\\nAl=1.4% (by weight)\\nCl=8.4% (by weight)\\nOBu=6.3% (by weight)\\nSurface Area (B.E.T.)=150 m/g\\nPore Volume (B.E.T.)=0.35 cm/g', type='catalyst_synthesis', reference=[]),\n",
       "  [],\n",
       "  []),\n",
       " 'Example 3': (ExperimentInfo(id='Example 3', text_of_example='In a 5 liter flask fitted with a mechanical stirrer and previously purged with nitrogen were fed 5.28 g (0.055 moles) of anhydrous MgCl2 and 39.6 ml (0.116 moles) of Ti(OBu). This mixture was allowed to stir at 300 pm and heated to 150°C. for about 12 hours in order to have the solids completely dissolved, thereby a clear liquid product was obtained. This resulting liquid was cooled down to 40° C. and under gently stirring at 150 rpm, it was diluted with 3200 ml of anhydrous hexane. Into this solution kept at 40°C. and under the same stirring, 300g of the silica support were added. This silica was previously dehydrated and treated with 23 ml (0.167 moles) of triethylaluminum diluted in anhydrous hexane, for 50 minutes and at room temperature. Once the addition of the silica is completed, the mixture was heated to 60° C. and kept at this temperature for 1 hour. Into this mixture, kept at 60° C. and under gently stirring, a solution consisting of 100 ml of anhydrous hexane and 23 ml of MHS (0.010 moles) was dropped into it over a period of time of 1.5 hours. At the end of the addition, stirring was continued for 2 hours at a temperature of 60°C. To this mixture a solution of 100 ml of anhydrous hexane and 22 ml of SiCl, (0.192 moles) was dropped over a period of time of 1 hour. At the end of the addition, stirring was continued for 3.5 hours at a temperature of 60° C. The temperature of the mixture was then brought to 65° C. and kept for additional 2 hours. After cooling the mixture to room temperature, the stirring was stopped to have the solid settled. The supernatant liquid was removed, the solid was repeatedly washed with anhydrous hexane. The solid thus obtained was again suspended in 2200 ml of anhydrous hexane and then 31.4 g of DEAC (0.260 moles) in 200 ml of anhydrous hexane were added to the resulting suspension under gently stirring. Contact was maintained for 50 min at room temperature. Finally, the supernatant liquid was removed and the solid was dried at 60° C. under nitrogen flow thus giving 300 g of a brown-reddish powder.\\n\\nThe chemical and physical characteristics of the resulting reddish powder were as follows:\\n\\nTotal Titanium=1.2% (by weight)\\nMg 0.3% (by weight)\\nSiO-81.0% (by weight)\\nAl=1.8% (by weight)\\nCl=7.0% (by weight)\\nOBu=7.7% (by weight)\\nSurface Area (B.E.T.)=155 m/g\\nPore Volume (B.E.T.)=0.36 cm/g', type='catalyst_synthesis', reference=[]),\n",
       "  [],\n",
       "  []),\n",
       " 'Example 4': (ExperimentInfo(id='Example 4', text_of_example='In a 5 liter flask fitted with a mechanical stirrer and previously purged with nitrogen were fed 5.28 g (0.055 moles) of anhydrous MgCl2 and 39.6 ml (0.116 moles) of Ti(OBu). This mixture was allowed to stir at 300 rpm and heated to 150°C. for about 12 hours in order to have the solids completely dissolved, thereby a clear liquid product was obtained. This resulting liquid was cooled down to 40°C. and under gently stirring at 150 rpm, it was diluted with 3200 ml of anhydrous hexane. Into this solution kept at 40° C. and under the same stirring, 300g of the silica support were added. This silica was previously dehydrated and treated with 23 ml (0.167 moles) of triethylaluminum diluted in anhydrous hexane, for 50 minutes and at room temperature. Once the addition of the silica is completed, the mixture was heated to 60° C. and kept at this temperature for 1 hour. To this mixture a solution of 100 ml of anhydrous hexane and 22 ml of SiC1 (0.192 moles) was dropped over a period of time of 1 hour. At the end of the addition, stirring was continued for 3.5 hours at a temperature of 60°C. The temperature of the mixture was then brought to 65° C. and kept for additional 2 hours. After cooling the mixture to room temperature, the stirring was stopped to have the solid settled. The supernatant liquid was removed, the solid was repeatedly washed with anhydrous hexane and then dried at 60°C. under nitrogen flow, thus giving 390g of a light reddish powder.\\n\\nThe chemical and physical characteristics of the resulting reddish powder were as follows:\\n\\nTotal Titanium=1.5% (by weight)\\nMg-0.3% (by weight)\\nSiO=81.2% (by weight)\\nAl=1.2% (by weight)\\nCl=7.2% (by weight)\\nOBu=7.6% (by weight)\\nSurface Area (B.E.T.)=153 m/g\\nPore Volume (B.E.T.)=0.36 cm/g', type='catalyst_synthesis', reference=[]),\n",
       "  [],\n",
       "  []),\n",
       " 'Example 5': (ExperimentInfo(id='Example 5', text_of_example='In a 5 liter flask fitted with a mechanical stirrer and previously purged with nitrogen were fed 52.8 g (0.554 moles) of anhydrous MgCl, and 396 ml (1.163 moles) of Ti(OBu). This mixture was allowed to stir at 300 rpm and heated to 150°C. for about 12 hours in order to have the solids completely dissolved, thereby a clear liquid product was obtained. This resulting liquid was cooled down to 40°C. and under gently stirring at 150 rpm, it was diluted with 3200 ml of anhydrous hexane. Into this solution kept at 40° C. and under the same stirring, 300g of the silica support were added. This silica was previously dehydrated and treated with 23 ml (0.167 moles) of triethylaluminum diluted in anhydrous hexane, for 50 minutes and at room temperature. Once the addition of the silica is completed, the mixture was heated to 60° C. and kept at this temperature for 1 hour. To this mixture a solution of 100 ml of anhydrous hexane and 221 ml of SiCl (1.929 moles) was dropped over a period of time of 1 hour. At the end of the addition, stirring was continued for 3.5 hours at a temperature of 60°C. The temperature of the mixture was then brought to 65° C. and kept for additional 2 hours. After cooling the mixture to room temperature, the stirring was stopped to have the solid settled. The supernatant liquid was removed, the solid was repeatedly washed with anhydrous hexane and then dried at 60°C. under nitrogen flow thus giving 300 g of a light reddish powder.\\n\\nThe chemical and physical characteristics of the resulting reddish powder were as follows:\\n\\nTotal Titanium=1.7% (by weight)\\nMgF2.4% (by weight)\\nSiO=76.7% (by weight)\\nAl=0.8% (by weight)\\nCl=10.0% (by weight)\\nOBu=7.5% (by weight)\\nSurface Area (B.E.T.)=185 m/g\\nPore Volume (B.E.T.)=0.55 cm/g', type='catalyst_synthesis', reference=[]),\n",
       "  [],\n",
       "  []),\n",
       " 'Example 6': (ExperimentInfo(id='Example 6', text_of_example='In a 5 liter flask fitted with a mechanical stirrer and previously purged with nitrogen were fed 52.8 g (0.554 moles) of anhydrous MgCl, and 396 ml (1.163 moles) of Ti(OBu). This mixture was allowed to stir at 300 pm and heated to 150°C. for about 12 hours in order to have the solids completely dissolved, thereby a clear liquid product was obtained. This resulting liquid was cooled down to 40°C. and under gently stirring at 150 rpm, it was diluted with 3200 ml of anhydrous hexane. Into this solution kept at 40°C. and under the same stirring, 300g of the silica support were added. This silica was previously dehydrated and treated with 23 ml (0.167 moles) of triethylaluminum diluted in anhydrous hexane, for 50 minutes and at room temperature. Once the addition of the silica is completed, the mixture was heated to 60° C. and kept at this temperature for 1 hour. To this mixture a solution of 100 ml of anhydrous hexane and 221 ml of SiCl (1.929 moles) was dropped over a period of time of 1 hour. At the end of the addition, stirring was continued for 3.5 hours at a temperature of 60°C. The temperature of the mixture was then brought to 65° C. and kept for additional 2 hours. After cooling the mixture to room temperature, the stirring was stopped to have the solid settled. The supernatant liquid was removed, the solid was repeatedly washed with anhydrous hexane. The solid thus obtained was again suspended in 2200 ml of anhydrous hexane and then 30 g of DEAC (0.249 moles) in 200 ml of anhydrous hexane were added to the resulting suspension under gently stirring. Contact was maintained for 50 min at room temperature. Finally, the supernatant liquid was removed and the solid was dried at 60°C. under nitrogen flow thus giving 400 g of a brown-reddish powder.\\n\\nThe chemical and physical characteristics of the resulting reddish powder were as follows:\\n\\nPore Volume (B.E.T.)=0.53 cm/g\\nTotal Titanium=1.8% (by weight)\\nMg 2.7% (by weight)\\nSiO=75.5% (by weight)\\nAl=1.4% (by weight)\\nCl=12.0% (by weight)\\nOBu=5.6% (by weight)\\nSurface Area (B.E.T.)=180 m/g', type='catalyst_synthesis', reference=[]),\n",
       "  [],\n",
       "  []),\n",
       " 'Example 7': (ExperimentInfo(id='Example 7', text_of_example='In a 5 liter flask fitted with a mechanical stirrer and previously purged with nitrogen were fed 24 g (0.252 moles) of anhydrous MgCl, and 180 ml (0.528 moles) of Ti(OBu). This mixture was allowed to stir at 300 pm and heated to 150°C. for about 12 hours in order to have the solids completely dissolved, thereby a clear liquid product was obtained. This resulting liquid was cooled down to 40°C. and under gently stirring at 150 rpm, it was diluted with 3200 ml of anhydrous hexane. Into this solution kept at 40°C. and under the same stirring, 300g of the silica support were added. This silica was previously dehydrated and treated with 23 ml (0.167 moles) of triethylaluminum diluted in anhydrous hexane, for 50 minutes and at room temperature. Once the addition of the silica is completed, the mixture was heated to 60° C. and kept at this temperature for 1 hour. To this mixture a solution of 100 ml of anhydrous hexane and 100 ml of SiCl, (0.873 moles) was dropped over a period of time of 1 hour. At the end of the addition, stirring was continued for 3.5 hours at a temperature of 60°C. The temperature of the mixture was then brought to 65° C. and kept for additional 2 hours. After cooling the mixture to room temperature, the stirring was stopped to have the solid settled. The supernatant liquid was removed, the solid was repeatedly washed with anhydrous hexane and then dried at 60° C. under nitrogen flow thus giving 360 g of a reddish powder.\\n\\nThe chemical and physical characteristics of the resulting reddish powder were as follows:\\n\\nTotal Titanium=2.1% (by weight)\\nMg-1.5% (by weight)\\nSiO-78.3% (by weight)\\nAl=0.9% (by weight)\\nCl=8.7% (by weight)\\nOBu=7.6% (by weight)\\nSurface Area (B.E.T.)=193 m/g\\nPore Volume (B.E.T.)=0.62 cm/g', type='catalyst_synthesis', reference=[]),\n",
       "  [],\n",
       "  []),\n",
       " 'Example 8': (ExperimentInfo(id='Example 8', text_of_example='In a 5 liter flask fitted with a mechanical stirrer and previously purged with nitrogen were fed 24 g (0.252 moles) of anhydrous MgCl, and 180 ml (0.528 moles) of Ti(OBu). This mixture was allowed to stir at 300 rpm and heated to 150° C. for about 12 hours in order to have the solids completely dissolved, thereby a clear liquid product was obtained. This resulting liquid was cooled down to 40°C. and under gently stirring at 150 rpm, it was diluted with 3200 ml of anhydrous hexane. Into this solution kept at 40° C. and under the same stirring, 300g of the silica support were added. This silica was previously dehydrated and treated with 23 ml (0.167 moles) of triethylaluminum diluted in anhydrous hexane, for 50 minutes and at room temperature. Once the addition of the silica is completed, the mixture was heated to 60° C. and kept at this temperature for 1 hour. To this mixture a solution of 200 ml of anhydrous hexane and 184 ml of SiCl4 (1.606 moles) was dropped over a period of 1 hour. At the end of the addition, stirring was continued for 3.5 hours at a temperature of 60°C. The temperature of the mixture was then brought to 65° C. and kept for additional 2 hours. After cooling the mixture to room temperature, the stirring was stopped to have the solid settled. The supernatant liquid was removed, the solid was repeatedly washed with anhydrous hexane and then dried at 60°C. under nitrogen flow thus giving 350 g of a brown-reddish powder.\\n\\nThe chemical and physical characteristics of the resulting reddish powder were as follows:\\n\\nTotal Titanium=2.0% (by weight)\\nSiO=76.8% (by weight)\\nMg-1.4% (by weight)\\nAl=1.7% (by weight)\\nCl=10.3% (by weight)\\nOBu=6.7% (by weight)\\nSurface Area (B.E.T.)=202 m/g\\nPore Volume (B.E.T.)=0.48 cm/g.', type='catalyst_synthesis', reference=[]),\n",
       "  [ExperimentInfo(id='Example 11', text_of_example='A 4-liter stainless steel autoclave, purged under nitrogen flow for 1 hour at 75° C. and then cooled to 30° C., was fed with 0.06 g of the solid catalyst component from the example 8,0.79g of TEAL mixed with 75 ml of anhydrous hexane, and 280 g of anhydrous propane. The temperature was raised to 60° C., and then 520 g of anhydrous propane were fed. The temperature was raised again to 80° C. and then 2 bars of hydrogen were fed simultaneously with 7 bars of ethylene. After that, the temperature was settled to 85°C. The polymerization was conducted in slurry liquid phase. The polymerization time was 2 hours, during which time the ethylene pressure was kept constant. After this period the reaction was stopped by venting off ethylene, hydrogen and propane and 55 g of polymer were obtained, which exhibited the following properties:\\n\\n2.4 g/10 min\\nMIFAMIE\\nPolymer Density\\n0.96 g/cm\\nBulk Density\\n0.46 g/cm', type='polymerization', reference=['Example 8']),\n",
       "   ExperimentInfo(id='Example 12', text_of_example='A 4 liter stainless steel autoclave, purged under nitrogen flow for 1 hour at 75° C. and then cooled to 30° C., was fed with 0.06 g of the solid catalyst component from the example 8,0.78g of TEAL mixed with 75 ml of anhydrous hexane, and 280 g of anhydrous propane. The temperature was raised to 60° C., and then 520 g of anhydrous propane were fed. The temperature was raised again to 70° C., and then 290 ml of butene-1 were fed simultaneously with 2 bars of hydrogen and 5 bars of ethylene. After that, the temperature is settled to 75° C. The polymerization was conducted in slurry liquid phase. The polymerization time was 3 hours, during which time the ethylene pressure was kept constant. After this period the reaction was stopped by venting off ethylene, butene-1, hydrogen and propane and 240 g of polymer were obtained, which exhibited the following properties:\\n\\nMIE\\n0.91 g/10 min\\nMIFAMIE\\n26\\nFraction Soluble in Xylene\\n9.2%\\nComonomer content\\n8.7%\\nPolymer Density\\n0.917 g/cm\\nBulk Density\\n0.36 g/cm', type='polymerization', reference=['Example 8'])],\n",
       "  []),\n",
       " 'Example 9': (ExperimentInfo(id='Example 9', text_of_example='In a 5 liter flask fitted with a mechanical stirrer and previously purged with nitrogen were fed 52.8 g (0.554 moles) of anhydrous MgCl, and 396 ml (1.163 moles) of Ti(OBu). This mixture was allowed to stir at 300 pm and heated to 150°C. for about 12 hours in order to have the solids completely dissolved, thereby a clear liquid product was obtained. This resulting liquid was cooled down to 40°C. and under gently stirring at 150 rpm, it was diluted with 3200 ml of anhydrous hexane. Into this solution kept at 40°C. and under the same stirring, 300g of the silica support were added. This silica was previously dehydrated and treated with 23 ml (0.167 moles) of triethylaluminum diluted in anhydrous hexane, for 50 utes and at room temperature. Once the addition of the silica is completed, the mixture was heated to 60° C. and kept at this temperature for 1 hour. To this mixture a solution of 200 ml of anhydrous hexane and 221 ml of SiCl (1.929 moles) was dropped over a period of 1 hour. At the end of the addition, stirring was continued for 3.5 hours at a temperature of 60°C. The temperature of the mixture was then brought to 65° C. and kept for additional 2 hours. After cooling the mixture to room temperature, the stirring was stopped to have the solid settled. The supernatant liquid was removed, and the solid was repeatedly washed with anhydrous hexane. The solid thus obtained was again suspended in 2200 ml of anhydrous hexane and then 30 g of DEAC (0.249 moles) in 200 ml of anhydrous hexane were added to the resulting suspension under gently stirring. Contact was maintained for 50 min at room temperature. The supernatant liquid was removed and the solid was once again suspended in 2200 ml of anhydrous hexane and then 30 g of Tn-HAL (0.106 moles) in 200 ml of anhydrous hexane were added to the resulting suspension under gently stirring. Contact was maintained for 50 min at room temperature. Finally, the supernatant liquid was removed and the solid was dried at 60°C. under nitrogen flow thus giving 340 g of a brown-reddish powder.\\n\\nThe chemical and physical characteristics of the resulting reddish powder were as follows:\\n\\nTotal Titanium=1.9% (by weight)\\nMgF2.9% (by weight)\\nSiO=74.1% (by weight)\\nAl=1.5% (by weight)\\nCl=12.6% (by weight)\\nOBu=6.0% (by weight)\\nPore Volume (B.E.T.)=0.20 cm/g\\nSurface Area (B.E.T.)=167 m/g', type='catalyst_synthesis', reference=[]),\n",
       "  [],\n",
       "  []),\n",
       " 'Example 10': (ExperimentInfo(id='Example 10', text_of_example='In a 5 liter flask fitted with a mechanical stirrer and previously purged with nitrogen were fed 24 g (0.252 moles) of anhydrous MgCl, and 180 ml (0.528 moles) of Ti(OBu). This mixture was allowed to stir at 300 rpm and heated to 150°C. for about 12 hours in order to have the solids completely dissolved, thereby a clear liquid product was obtained. This resulting liquid was cooled down to 40°C. and under gently stirring at 150 rpm, it was diluted with 3200 ml of anhydrous hexane. Into this solution kept at 40° C. and under the same stirring, 300g of the silica support were added. This silica was previously dehydrated and treated with 23 ml (0.167 moles) of triethylaluminum diluted in anhydrous hexane, for 50 minutes and at room temperature. Once the addition of the silica is completed, the mixture was heated to 60° C. and kept at this temperature for 1 hour. To this mixture a solution of 100 ml of anhydrous hexane and 100 ml of SiCl, (0.873 moles) was dropped over a period of time of 1 hour. At the end of the addition, stirring was continued for 3.5 hours at a temperature of 60°C. The temperature of the mixture was then brought to 65° C. and kept for additional 2 hours. After cooling the mixture to room temperature, the stirring was stopped to have the solid settled. The supernatant liquid was removed, and the solid was repeatedly washed with anhydrous hexane. The solid thus obtained was again suspended in 2200 ml of anhydrous hexane and then 60 g of DEAC (0.498 moles) in 200 ml of anhydrous hexane were added to the resulting suspension under gently stirring. Contact was maintained for 50 min at room temperature. Finally, the supernatant liquid was removed and the solid was dried at 60°C. under nitrogen flow thus giving 300 g of a brown-reddish powder.\\n\\nThe chemical and physical characteristics of the resulting reddish powder were as follows:\\n\\nTotal Titanium=2.0% (by weight)\\nMg1.3% (by weight)\\nSiO=76.3% (by weight)\\nAl=2.3% (by weight)\\nCl=10.8% (by weight)\\nOBu=6.3% (by weight)\\nSurface Area (B.E.T.)=200 m/g\\nPore Volume (B.E.T.)=0.45 cm/g', type='catalyst_synthesis', reference=[]),\n",
       "  [],\n",
       "  [])}"
      ]
     },
     "execution_count": 112,
     "metadata": {},
     "output_type": "execute_result"
    }
   ],
   "source": [
    "\n",
    "parser = ExperimentParser(md_file_res.choices[0].message.parsed)\n",
    "parser.get_synthesis_with_related_and_tables()"
   ]
  },
  {
   "cell_type": "markdown",
   "metadata": {},
   "source": [
    "## Исходные данные в html формате "
   ]
  },
  {
   "cell_type": "code",
   "execution_count": 114,
   "metadata": {},
   "outputs": [
    {
     "name": "stderr",
     "output_type": "stream",
     "text": [
      "2025-03-30 22:58:43,375 - INFO - HTTP Request: POST https://api.openai.com/v1/chat/completions \"HTTP/1.1 200 OK\"\n"
     ]
    }
   ],
   "source": [
    "file_path = \"/home/anatoly_kayda/Desktop/mipt/mipt_thesis/patent_analysis_with_docling_preproceccing/results/US9352308.html\"\n",
    "def extract_text_from_html(file_path):\n",
    "    with open(file_path, 'r', encoding='utf-8') as file:\n",
    "        content = file.read()\n",
    "    return content\n",
    "html_file_res = extract_information(extract_text_from_html(file_path))"
   ]
  },
  {
   "cell_type": "code",
   "execution_count": 120,
   "metadata": {},
   "outputs": [
    {
     "data": {
      "text/plain": [
       "[ExperimentInfo(id='Example 1', text_of_example='In a 5 liter flask fitted with a mechanical stirrer and previously purged with nitrogen were fed 44 g (0.462 moles) of anhydrous MgCl, and 330 ml (0.969 moles) of Ti(OBu). This mixture was allowed to stir at 300 rpm and heated to 150° C. for about 12 hours in order to have the solids completely dissolved, thereby a clear liquid product was obtained. This resulting liquid was cooled down to 40°C. and under gently stirring at 150 rpm, it was diluted with 3200 ml of anhydrous hexane. Into this solution kept at 40° C. and under the same stirring, 250g of the silica support were added. This silica was previously dehydrated and treated with 19 ml (0.139 moles) of triethylaluminum diluted in anhydrous hexane, for 50 minutes and at room temperature. Once the addition of the silica is completed, the mixture was heated to 60° C. and kept at this temperature for 1 hour. Into this mixture, kept at 60° C. and under gently stirring, a solution consisting of 100 ml of anhydrous hexane and 192 ml of PMHS (0.085 moles) was dropped into it over a period of time of 1.5 hours. At the end of the addition, stirring was continued for 2 hours at a temperature of 60° C. To this mixture a solution of 200 ml of anhydrous hexane and 184 ml of SiC1 (1.606 moles) was dropped over a period of time of 1 hour. At the end of the addition, stirring was continued for 3.5 hours at a temperature of 60°C. The temperature of the mixture was then brought to 65° C. and kept for additional 2 hours. After cooling the mixture to room temperature, the stirring was stopped to have the solid settled. The supernatant liquid was removed, the Solid was repeatedly washed with anhydrous hexane and then dried at 60° C. under nitrogen flow thus giving 390 g of a reddish powder.', type='catalyst_synthesis', reference=[]),\n",
       " ExperimentInfo(id='Example 2', text_of_example='In a 5 liter flask fitted with a mechanical stirrer and previously purged with nitrogen were fed 5.28 g (0.055 moles) of anhydrous MgCl2 and 39.6 ml (0.116 moles) of Ti(OBu). This mixture was allowed to stir at 300 rpm and heated to 150° C. for about 12 hours in order to have the solids completely dissolved, thereby a clear liquid product was obtained. This resulting liquid was cooled down to 40°C. and under gently stirring at 150 rpm, it was diluted with 3200 ml of anhydrous hexane. Into this solution kept at 40° C. and under the same stirring, 300g of the silica support were added. This silica was previously dehydrated and treated with 23 ml (0.167 moles) of triethylaluminum diluted in anhydrous hexane, for 50 minutes and at room temperature. Once the addition of the silica is completed, the mixture was heated to 60° C. and kept at this temperature for 1 hour. Into this mixture, kept at 60° C. and under gently stirring, a solution consisting of 100 ml of anhydrous hexane and 23 ml of MHS (0.010 moles) was dropped into it over a period of time of 1.5 hours. At the end of the addition, stirring was continued for 2 hours at a temperature of 60°C. To this mixture a solution of 100 ml of anhydrous hexane and 22 ml of SiCl, (0.192 moles) was dropped over a period of 1 hour. At the end of the addition, stirring was continued for 3.5 hours at a temperature of 60°C. The temperature of the mixture was then brought to 65° C. and kept for additional 2 hours. After cooling the mixture to room temperature, the stirring was stopped to have the Solid settled. The Supernatant liquid was removed, the Solid was repeatedly washed with anhydrous hexane and finally dried at 60° C. under nitrogen flow thus giving 360 g of a light reddish powder.', type='catalyst_synthesis', reference=[]),\n",
       " ExperimentInfo(id='Example 3', text_of_example='In a 5 liter flask fitted with a mechanical stirrer and previously purged with nitrogen were fed 5.28 g (0.055 moles) of anhydrous MgCl2 and 39.6 ml (0.116 moles) of Ti(OBu). This mixture was allowed to stir at 300 pm and heated to 150° C. for about 12 hours in order to have the solids completely dissolved, thereby a clear liquid product was obtained. This resulting liquid was cooled down to 40° C. and under gently stirring at 150 rpm, it was diluted with 3200 ml of anhydrous hexane. Into this solution kept at 40°C. and under the same stirring, 300g of the silica support were added. This silica was previously dehydrated and treated with 23 ml (0.167 moles) of triethylaluminum diluted in anhydrous hexane, for 50 minutes and at room temperature. Once the addition of the silica is completed, the mixture was heated to 60° C. and kept at this temperature for 1 hour. Into this mixture, kept at 60° C. and under gently stirring, a solution consisting of 100 ml of anhydrous hexane and 23 ml of MHS (0.010 moles) was dropped into it over a period of time of 1.5 hours. At the end of the addition, stirring was continued for 2 hours at a temperature of 60°C. To this mixture a solution of 100 ml of anhydrous hexane and 22 ml of iCl, (0.192 moles) was dropped over a period of time of 1 hour. At the end of the addition, stirring was continued for 3.5 hours at a temperature of 60° C. The temperature of the mixture was then brought to 65° C. and kept for additional 2 hours. After cooling the mixture to room temperature, the stirring was stopped to have the Solid settled. The Supernatant liquid was removed, the Solid was repeatedly washed with anhydrous hexane. The solid thus obtained was again suspended in 2200 ml of anhydrous hexane and then 31.4 g of DEAC (0.260 moles) in 200 ml of anhydrous hexane were added to the resulting Suspension under gently stirring. Contact was maintained for 50 min at room temperature. Finally, the Supernatant liquid was removed and the Solid was dried at 60° C. under nitrogen flow thus giving 300 g of a brown-reddish powder.', type='catalyst_synthesis', reference=[]),\n",
       " ExperimentInfo(id='Example 4', text_of_example='In a 5 liter flask fitted with a mechanical stirrer and previously purged with nitrogen were fed 5.28 g (0.055 moles) of anhydrous MgCl2 and 39.6 ml (0.116 moles) of Ti(OBu). This mixture was allowed to stir at 300 rpm and heated to 150° C. for about 12 hours in order to have the solids completely dissolved, thereby a clear liquid product was obtained. This resulting liquid was cooled down to 40°C. and under gently stirring at 150 rpm, it was diluted with 3200 ml of anhydrous hexane. Into this solution kept at 40° C. and under the same stirring, 300g of the silica support were added. This silica was previously dehydrated and treated with 23 ml (0.167 moles) of triethylaluminum diluted in anhydrous hexane, for 50 minutes and at room temperature. Once the addition of the silica is completed, the mixture was heated to 60° C. and kept at this temperature for 1 hour. To this mixture a solution of 100 ml of anhydrous hexane and 22 ml of SiC1 (0.192 moles) was dropped over a period of time of 1 hour. At the end of the addition, stirring was continued for 3.5 hours at a temperature of 60°C. The temperature of the mixture was then brought to 65° C. and kept for additional 2 hours. After cooling the mixture to room temperature, the stirring was stopped to have the solid settled. The supernatant liquid was removed, the Solid was repeatedly washed with anhydrous hexane and then dried at 60°C. under nitrogen flow, thus giving 390g of a light reddish powder.', type='catalyst_synthesis', reference=[]),\n",
       " ExperimentInfo(id='Example 5', text_of_example='In a 5 liter flask fitted with a mechanical stirrer and previously purged with nitrogen were fed 52.8 g (0.554 moles) of anhydrous MgCl, and 396 ml (1.163 moles) of Ti(OBu). This mixture was allowed to stir at 300 rpm and heated to 150° C. for about 12 hours in order to have the solids completely dissolved, thereby a clear liquid product was obtained. This resulting liquid was cooled down to 40°C. and under gently stirring at 150 rpm, it was diluted with 3200 ml of anhydrous hexane. Into this solution kept at 40° C. and under the same stirring, 300g of the silica support were added. This silica was previously dehydrated and treated with 23 ml (0.167 moles) of triethylaluminum diluted in anhydrous hexane, for 50 minutes and at room temperature. Once the addition of the silica is completed, the mixture was heated to 60° C. and kept at this temperature for 1 hour. To this mixture a solution of 100 ml of anhydrous hexane and 221 ml of SiCl (1.929 moles) was dropped over a period of time of 1 hour. At the end of the addition, stirring was continued for 3.5 hours at a temperature of 60°C. The temperature of the mixture was then brought to 65° C. and kept for additional 2 hours. After cooling the mixture to room temperature, the stirring was stopped to have the solid settled. The supernatant liquid was removed, the Solid was repeatedly washed with anhydrous hexane and then dried at 60°C. under nitrogen flow thus giving 300 g of a light reddish powder.', type='catalyst_synthesis', reference=[]),\n",
       " ExperimentInfo(id='Example 6', text_of_example='In a 5 liter flask fitted with a mechanical stirrer and previously purged with nitrogen were fed 52.8 g (0.554 moles) of anhydrous MgCl, and 396 ml (1.163 moles) of Ti(OBu). This mixture was allowed to stir at 300 pm and heated to 150° C. for about 12 hours in order to have the solids completely dissolved, thereby a clear liquid product was obtained. This resulting liquid was cooled down to 40° C. and under gently stirring at 150 rpm, it was diluted with 3200 ml of anhydrous hexane. Into this solution kept at 40°C. and under the same stirring, 300g of the silica support were added. This silica was previously dehydrated and treated with 23 ml (0.167 moles) of triethylaluminum diluted in anhydrous hexane, for 50 minutes and at room temperature. Once the addition of the silica is completed, the mixture was heated to 60° C. and kept at this temperature for 1 hour. To this mixture a solution of 100 ml of anhydrous hexane and 221 ml of SiCl (1.929 moles) was dropped over a period of time of 1 hour. At the end of the addition, stirring was continued for 3.5 hours at a emperature of 60°C. The temperature of the mixture was then brought to 65° C. and kept for additional 2 hours. After cooling the mixture to room temperature, the stirring was stopped to have the solid settled. The supernatant liquid was removed, the solid was repeatedly washed with anhydrous hexane. The solid thus obtained was again suspended in 2200 ml of anhydrous hexane and then 30 g of DEAC (0.249 moles) in 200 ml of anhydrous hexane were added to the resulting Suspension under gently stirring. Contact was maintained for 50 min at room temperature. Finally, the supernatant liquid was removed and the solid was dried at 60°C. under nitrogen flow thus giving 400 g of a brown-reddish powder.', type='catalyst_synthesis', reference=[]),\n",
       " ExperimentInfo(id='Example 7', text_of_example='In a 5 liter flask fitted with a mechanical stirrer and previously purged with nitrogen were fed 24 g (0.252 moles) of anhydrous MgCl, and 180 ml (0.528 moles) of Ti(OBu). This mixture was allowed to stir at 300 pm and heated to 150° C. for about 12 hours in order to have the solids completely dissolved, thereby a clear liquid product was obtained. This resulting liquid was cooled down to 40° C. and under gently stirring at 150 rpm, it was diluted with 3200 ml of anhydrous hexane. Into this solution kept at 40°C. and under the same stirring, 300g of the silica support were added. This silica was previously dehydrated and treated with 23 ml (0.167 moles) of triethylaluminum diluted in anhydrous hexane, for 50 minutes and at room temperature. Once the addition of the silica is completed, the mixture was heated to 60° C. and kept at this temperature for 1 hour. To this mixture a solution of 100 ml of anhydrous hexane and 100 ml of SiCl, (0.873 moles) was dropped over a period of time of 1 hour. At the end of the addition, stirring was continued for 3.5 hours at a temperature of 60°C. The temperature of the mixture was then brought to 65° C. and kept for additional 2 hours. After cooling the mixture to room temperature, the stirring was stopped to have the solid settled. The supernatant liquid was removed, the solid was repeatedly washed with anhydrous hexane and then dried at 60° C. under nitrogen flow thus giving 360 g of a reddish powder.', type='catalyst_synthesis', reference=[]),\n",
       " ExperimentInfo(id='Example 8', text_of_example='In a 5 liter flask fitted with a mechanical stirrer and previously purged with nitrogen were fed 24 g (0.252 moles) of anhydrous MgCl, and 180 ml (0.528 moles) of Ti(OBu). This mixture was allowed to stir at 300 rpm and heated to 150° C. for about 12 hours in order to have the solids completely dissolved, thereby a clear liquid product was obtained. This resulting liquid was cooled down to 40°C. and under gently stirring at 150 rpm, it was diluted with 3200 ml of anhydrous hexane. Into this solution kept at 40° C. and under the same stirring, 300g of the silica support were added. This silica was previously dehydrated and treated with 23 ml (0.167 moles) of triethylaluminum diluted in anhydrous hexane, for 50 minutes and at room temperature. Once the addition of the silica is completed, the mixture was heated to 60° C. and kept at this temperature for 1 hour. To this mixture a solution of 100 ml of anhydrous hexane and 100 ml of SiCl (0.873 moles) was dropped over a period of time of 1 hour. At the end of the addition, stirring was continued for 3.5 hours at a temperature of 60°C. The temperature of the mixture was then brought to 65° C. and kept for additional 2 hours. After cooling the mixture to room temperature, the stirring was stopped to have the solid settled. The supernatant liquid was removed, the solid was repeatedly washed with anhydrous hexane. The solid thus obtained was again suspended in 2200 ml of anhydrous hexane and then 30 g of DEAC (0.249 moles) in 200 ml of anhydrous hexane were added to the resulting Suspension under gently stirring. Contact was maintained for 50 min at room temperature. Finally, the Supernatant liquid was removed and the solid was dried at 60°C. under nitrogen flow thus giving 350 g of a brown-reddish powder.', type='catalyst_synthesis', reference=[]),\n",
       " ExperimentInfo(id='Example 9', text_of_example='In a 5 liter flask fitted with a mechanical stirrer and previously purged with nitrogen were fed 52.8 g (0.554 moles) of anhydrous MgCl, and 396 ml (1.163 moles) of Ti(OBu). This mixture was allowed to stir at 300 pm and heated to 150° C. for about 12 hours in order to have the solids completely dissolved, thereby a clear liquid product was obtained. This resulting liquid was cooled down to 40°C. and under gently stirring at 150 rpm, it was diluted with 3200 ml of anhydrous hexane. Into this solution kept at 40° C. and under the same stirring, 300g of the silica support were added. This silica was previously dehydrated and treated with 23 ml (0.167 moles) of triethylaluminum diluted in anhydrous hexane, for 50 minutes and at room temperature. Once the addition of the silica is completed, the mixture was heated to 60° C. and kept at this temperature for 1 hour. To this mixture a solution of 100 ml of anhydrous hexane and 221 ml of SiCl (1.929 moles) was dropped over a period of time of 1 hour. At the end of the addition, stirring was continued for 3.5 hours at a temperature of 60°C. The temperature of the mixture was then brought to 65° C. and kept for additional 2 hours. After cooling the mixture to room temperature, the stirring was stopped to have the solid settled. The supernatant liquid was removed, the solid was repeatedly washed with anhydrous hexane. The solid thus obtained was again suspended in 2200 ml of anhydrous hexane and then 30 g of DEAC (0.249 moles) in 200 ml of anhydrous hexane were added to the resulting Suspension under gently stirring. Contact was maintained for 50 min at room temperature. The Supernatant liquid was removed and the solid was once again Suspended in 2200 ml of anhydrous hexane and then 30 g of Tn-HAL (0.106 moles) in 200 ml of anhydrous hexane were added to the resulting Suspension under gently stirring. Contact was maintained for 50 min at room temperature. Finally, the Supernatant liquid was removed and the solid was dried at 60°C. under nitrogen flow thus giving 340 g of a brown-reddish powder.', type='catalyst_synthesis', reference=[]),\n",
       " ExperimentInfo(id='Example 10', text_of_example='In a 5 liter flask fitted with a mechanical stirrer and previously purged with nitrogen were fed 24 g (0.252 moles) of anhydrous MgCl, and 180 ml (0.528 moles) of Ti(OBu). This mixture was allowed to stir at 300 rpm and heated to 150° C. for about 12 hours in order to have the solids completely dissolved, thereby a clear liquid product was obtained. This resulting liquid was cooled down to 40°C. and under gently stirring at 150 rpm, it was diluted with 3200 ml of anhydrous hexane. Into this solution kept at 40° C. and under the same stirring, 300g of the silica support were added. This silica was previously dehydrated and treated with 23 ml (0.167 moles) of triethylaluminum diluted in anhydrous hexane, for 50 minutes and at room temperature. Once the addition of the silica is completed, the mixture was heated to 60° C. and kept at this temperature for 1 hour. To this mixture a solution of 100 ml of anhydrous hexane and 100 ml of SiCl, (0.873 moles) was dropped over a period of time of 1 hour. At the end of the addition, stirring was continued for 3.5 hours at a temperature of 60°C. The temperature of the mixture was then brought to 65° C. and kept for additional 2 hours. After cooling the mixture to room temperature, the stirring was stopped to have the solid settled. The supernatant liquid was removed, the solid was repeatedly washed with anhydrous hexane. The solid thus obtained was again suspended in 2200 ml of anhydrous hexane and then 60 g of EAC (0.498 moles) in 200 ml of anhydrous hexane were added to the resulting Suspension under gently stirring. Contact was maintained for 50 min at room temperature. Finally, the Supernatant liquid was removed and the solid was dried at 60°C. under nitrogen flow thus giving 300 g of a brown-reddish powder.', type='catalyst_synthesis', reference=[]),\n",
       " ExperimentInfo(id='Example 11', text_of_example='A 4-liter stainless steel autoclave, purged under nitrogen flow for 1 hour at 75° C. and then cooled to 30° C., was fed with 0.06 g of the solid catalyst component from the example 8,0.79g of TEAL mixed with 75 ml of anhydrous hexane, and 280 g of anhydrous propane. The temperature was raised to 60° C., and then 520 g of anhydrous propane were fed. The temperature was raised again to 80° C. and then 2 bars of hydrogen were fed simultaneously with 7 bars of ethylene. After that, the temperature was settled to 85°C. The polymerization was conducted in slurry liquid phase. The polymerization time was 2 hours, during which time the ethylene pressure was kept constant. After this period the reaction was stopped by venting off ethylene, hydrogen and propane and 55 g of polymer were obtained, which exhibited the following properties: MIE: 2.4 g/10 min, MIF/MIE: 26, Polymer Density: 0.96 g/cm, Bulk Density: 0.46 g/cm.', type='polymerization', reference=['Example 8']),\n",
       " ExperimentInfo(id='Example 12', text_of_example='A 4 liter stainless steel autoclave, purged under nitrogen flow for 1 hour at 75° C. and then cooled to 30° C., was fed with 0.06 g of the solid catalyst component from the example 8,0.78g of TEAL mixed with 75 ml of anhydrous hexane, and 280 g of anhydrous propane. The temperature was raised to 60° C., and then 520 g of anhydrous propane were fed. The temperature was raised again to 70° C., and then 290 ml of butene-1 were fed simultaneously with 2 bars of hydrogen and 5 bars of ethylene. After that, the temperature is settled to 75° C. The polymerization was conducted in slurry liquid phase. The polymerization time was 3 hours, during which time the ethylene pressure was kept constant. After this period the reaction was stopped by venting off ethylene, butene-1, hydrogen and propane and 240 g of polymer were obtained, which exhibited the following properties: MIE: 0.91 g/10 min, MIF/MIE: 26, Fraction Soluble in Xylene: 9.2%, Comonomer content: 8.7%, Polymer Density: 0.917 g/cm, Bulk Density: 0.36 g/cm.', type='polymerization', reference=['Example 8'])]"
      ]
     },
     "execution_count": 120,
     "metadata": {},
     "output_type": "execute_result"
    }
   ],
   "source": [
    "html_file_res.choices[0].message.parsed.experiments"
   ]
  },
  {
   "cell_type": "code",
   "execution_count": 117,
   "metadata": {},
   "outputs": [
    {
     "data": {
      "text/plain": [
       "[TableData(caption='TABLE 1', headers=['EXAMPLE', '13', '14', '15', '16', '17', '18', '19', '20', '21', '22', '23'], rows=[['Catalyst used', 'Ex. 1', 'Ex. 2', 'Ex. 3', 'Ex. 4', 'Ex. S', 'Ex. 6', 'Ex. 7', 'Ex. 8', 'Ex. 9', 'Ex. 10', 'Ex. 10'], ['Ti(%)', '7.0', '1.4', '1.2', '1.5', '1.7', '1.8', '2.1', '2.0', '1.9', '2.0', '2.0'], ['Mg (%)', '2.0', 'O.S', 'O.3', 'O.3', '2.4', '2.7', '1.3', '1.5', '2.9', '1.5', '1.5'], ['Temperature (C.)', '88', '88', '88', '88', '88', '88', '88', '88', '88', '88', '75'], ['Ethylene partial pressure (bar)', '3', '11.8', '9', '10.9', '5', '7', '7', '7', '7', '7', '7'], ['Total pressure (bar)', '21', '22', '21', '21', '21', '21', '21', '21', '21', '21', '21'], ['Residence Time (h)', '4.43', '3.71', '5.32', '3.2O', '4.86', '3.92', '3.18', '2.89', '3.91', '3.70', '3.15'], ['Hafethylene (mole/mole)', 'O.10', 'O.098', 'O.O86', 'O.096', 'O.096', 'O.118', 'O.098', 'O.12', 'O.13', 'O.12', 'O.17'], ['Butenefethylene (mole/mole)', 'O.39', 'O41', 'O46', '0.44', 'O.35', 'O4O', 'O.39', 'O41', '0.37', 'O41', 'O45'], ['Catalytic yield (kg/g)', '3.0', '1.6', '1.7', '1.6', '4.3', '7.5', 'S.O', '7.5', '7.1', '7.1', '6.2'], ['Bulk Density (g/cm)', 'O.28', 'O.34', 'O.38', 'O.34', 'O.29', 'O.31', 'O.38', 'O.38', 'O.38', 'O.38', 'O3S'], ['MIE (g/10 min)', 'O.68', 'O.66', '0.72', 'O.74', 'O.64', 'O.68', 'O.69', 'O.67', 'O.69', 'O.65', '0.57'], ['MIF (g/10 min)', '20.4', '17.3', '2O6', '19.9', '23.3', '18.6', '19.1', '17.6', '18.2', '16.9', '15.2'], ['MFR - FE', '30', '26', '28', '27', '36', '27', '28', '26', '26', '26', '26'], ['Comonomer Content (%)', '8.8', '7.8', '8.7', '7.7', '9.4', '8.3', '8.4', '7.9', '8.2', '8.1', '8.8'], ['Fraction Soluble in Xylene (%)', '12.3', '8.9', '9.4', '7.1', '13.7', '9.4', '9.5', '7.8', '10.1', '8.O', '9.3'], ['Polymer Density (g/cm)', 'O.918', 'O.918', 'O.918', 'O.919', 'O.917', 'O.918', 'O.918', 'O.918', 'O.918', 'O.918', 'O.917'], ['Flowability (s/100g)', '', '14.4', '11.1', '13.3', '14.4', '17.9', '12.4', '11.9', '10.8', '12.7', '12.6'], ['Particle size distribution (wt %)', '', '', '', '', '', '', '', '', '', '', ''], ['<250 m', '2', '2', '1', '1', '2', '3', '<O.S', '1', '1', '1', '1'], ['250-420 m', '7', '7', '7', '2', '7', '5', '2', '2', '2', '2', '2'], ['420-840 m', '37', '49', '60', '35', '45', '28', '36', '35', '28', '39', '37'], ['>840 m', 'S4', '42', '32', '62', '46', '64', '62', '62', '69', '58', '60'], ['Haze (%)', '11.3', '', '', '', '', '', '11.6', '11.3', '11.3', '11.4', ''], ['Gloss (%)', '73.0', '', '', '', '', '', '79.5', '80.7', '79.3', '80.2', ''], ['Blocking (g/100 cm)', '', '22', '21', '15', '', '24', '24', '16', '30', '19', '24']], reference=['Example 1', 'Example 2', 'Example 3', 'Example 4', 'Example 5', 'Example 6', 'Example 7', 'Example 8', 'Example 9', 'Example 10'])]"
      ]
     },
     "execution_count": 117,
     "metadata": {},
     "output_type": "execute_result"
    }
   ],
   "source": [
    "html_file_res.choices[0].message.parsed.table_data"
   ]
  },
  {
   "cell_type": "markdown",
   "metadata": {},
   "source": [
    "## Вывод \n",
    "Не все таблицы были извлечены. Часть данных потеряна. Не зависимо от форматов LLM плохо могут терять часть табличных данных. "
   ]
  }
 ],
 "metadata": {
  "kernelspec": {
   "display_name": ".venv",
   "language": "python",
   "name": "python3"
  },
  "language_info": {
   "codemirror_mode": {
    "name": "ipython",
    "version": 3
   },
   "file_extension": ".py",
   "mimetype": "text/x-python",
   "name": "python",
   "nbconvert_exporter": "python",
   "pygments_lexer": "ipython3",
   "version": "3.10.12"
  }
 },
 "nbformat": 4,
 "nbformat_minor": 2
}
