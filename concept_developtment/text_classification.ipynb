{
 "cells": [
  {
   "cell_type": "code",
   "execution_count": 1,
   "metadata": {},
   "outputs": [],
   "source": [
    "import os\n",
    "import json\n",
    "import logging\n",
    "from pathlib import Path\n",
    "from PyPDF2 import PdfReader\n",
    "from pydantic import BaseModel, Field\n",
    "from langchain_openai import ChatOpenAI\n",
    "from langchain.prompts import ChatPromptTemplate\n",
    "from langchain.text_splitter import RecursiveCharacterTextSplitter\n",
    "from langchain.output_parsers import BooleanOutputParser\n",
    "from typing import Any, Dict, List, Optional, Tuple, Union\n",
    "import pandas as pd\n",
    "from types import SimpleNamespace"
   ]
  },
  {
   "cell_type": "code",
   "execution_count": 2,
   "metadata": {},
   "outputs": [],
   "source": [
    "# Configure logging\n",
    "logging.basicConfig(\n",
    "    level=logging.INFO,\n",
    "    format='%(asctime)s - %(levelname)s - %(message)s',\n",
    "    handlers=[logging.FileHandler('patent_analysis.log'), logging.StreamHandler()]\n",
    ")\n",
    "logger = logging.getLogger(__name__)\n"
   ]
  },
  {
   "cell_type": "code",
   "execution_count": 3,
   "metadata": {},
   "outputs": [],
   "source": [
    "from openai import OpenAI\n",
    "from math import exp\n",
    "import numpy as np\n",
    "from IPython.display import display, HTML\n",
    "import os\n",
    "\n",
    "client = OpenAI(api_key=os.environ.get(\"OPENAI_API_KEY\"))"
   ]
  },
  {
   "cell_type": "code",
   "execution_count": 4,
   "metadata": {},
   "outputs": [],
   "source": [
    "def get_completion(\n",
    "    messages: list[dict[str, str]],\n",
    "    model: str = \"gpt-4o-mini\",\n",
    "    max_tokens=500,\n",
    "    temperature=0,\n",
    "    stop=None,\n",
    "    seed=None,\n",
    "    tools=None,\n",
    "    logprobs=None,  # whether to return log probabilities of the output tokens or not. If true, returns the log probabilities of each output token returned in the content of message..\n",
    "    top_logprobs=None,\n",
    ") -> str:\n",
    "    \n",
    "    system_message = {\n",
    "        \"role\": \"system\",\n",
    "        \"content\": \"\"\"You are a highly experienced research chemist with a PhD and 20+ years of experience in chemistry and patent analysis. \n",
    "Your expertise includes:\n",
    "- Publishing numerous research papers\n",
    "- Reading thousands of chemical patents\n",
    "- Leading laboratory research teams\n",
    "- Writing detailed experimental procedures\n",
    "- Analyzing chemical documentation\n",
    "\n",
    "You are specifically trained to identify experimental data in chemical patents with extremely high accuracy.\"\"\"\n",
    "    }\n",
    "    \n",
    "    # Insert system message at the beginning of messages list\n",
    "    messages.insert(0, system_message)\n",
    "\n",
    "    params = {\n",
    "        \"model\": model,\n",
    "        \"messages\": messages,\n",
    "        \"max_tokens\": max_tokens,\n",
    "        \"temperature\": temperature,\n",
    "        \"stop\": stop,\n",
    "        \"seed\": seed,\n",
    "        \"logprobs\": logprobs,\n",
    "        \"top_logprobs\": top_logprobs,\n",
    "    }\n",
    "    if tools:\n",
    "        params[\"tools\"] = tools\n",
    "\n",
    "    completion = client.chat.completions.create(**params)\n",
    "    return completion"
   ]
  },
  {
   "cell_type": "code",
   "execution_count": 5,
   "metadata": {},
   "outputs": [],
   "source": [
    "def analyze_file(file_path: str) -> Tuple[str, str]:\n",
    "\n",
    "    results=[]\n",
    "    file_name = os.path.basename(file_path)\n",
    "    absolute_path = os.path.abspath(file_path)\n",
    "    CLASSIFICATION_PROMPT = \"\"\"\n",
    "You are analyzing a chemical patent about olefin polymerization catalysts. Check if this page contains EXPERIMENTAL DATA.\n",
    "\n",
    "PATENT SECTIONS:\n",
    "1. EXPERIMENTAL Sections (answer YES):\n",
    "   - \"EXAMPLES\"\n",
    "   - \"COMPARATIVE EXAMPLES\" \n",
    "   - \"WORKING EXAMPLES\"\n",
    "   - \"PREPARATION EXAMPLES\"\n",
    "   - \"POLYMERIZATION EXAMPLES\"\n",
    "   - \"TABLES\"\n",
    "\n",
    "2. NON-EXPERIMENTAL Sections (answer NO):\n",
    "   - \"TECHNICAL FIELD\"\n",
    "   - \"BACKGROUND ART\"\n",
    "   - \"CLAIMS\"\n",
    "   - \"ABSTRACT\"\n",
    "\n",
    "ANSWER YES IF YOU SEE:\n",
    "1. ANY part of experimental procedures (including continued from previous page):\n",
    "   - Beginning: \"The catalyst was prepared by mixing...\"\n",
    "   - Middle: \"...was stirred for 2h at 80°C...\"\n",
    "   - End: \"...yielding 5.2g of product\"\n",
    "   - Table parts (even incomplete)\n",
    "   - Continued analytical data\n",
    "\n",
    "2. Detailed procedures, like:\n",
    "   \"The catalyst was prepared by mixing...\"\n",
    "   \"Polymerization was carried out...\"\n",
    "   \"To a flask was added...\"\n",
    "   \"The mixture was stirred at...\"\n",
    "   \"Table №1\"\n",
    "\n",
    "3. ANY measurements:\n",
    "   Masses: \"5.2 g\", \"10 mg\", \"2.5 wt%\"\n",
    "   Volumes: \"100 ml\", \"50 μL\"\n",
    "   Temperatures: \"25°C\", \"80 °C\"\n",
    "   Times: \"2 h\", \"30 min\"\n",
    "   Pressures: \"5 bar\", \"0.5 MPa\"\n",
    "\n",
    "4. Results tables with ANY numbers\n",
    "\n",
    "ANSWER NO IF PAGE ONLY HAS:\n",
    "- General descriptions without procedures\n",
    "- Lists of compounds without quantities\n",
    "- Patent claims\n",
    "- Theoretical explanations\n",
    "\n",
    "CRITICAL RULES:\n",
    "1. Even PARTIAL experimental data makes the page experimental (YES)\n",
    "2. Beginning, middle, or end of procedures count as experimental\n",
    "3. Continued tables from previous pages count as experimental\n",
    "4. Look for procedure descriptions with measurements first!\n",
    "\n",
    "Answer ONLY \"YES\" or \"NO\"\n",
    "\n",
    "Analyze this text: {text}\"\"\"\n",
    "\n",
    "    with open(file_path, \"rb\") as f:\n",
    "        reader = PdfReader(f).pages\n",
    "        text = []\n",
    "        for page in reader:\n",
    "            text.append(page.extract_text())\n",
    "    \n",
    "    for i, page in enumerate(text):\n",
    "        print(f\"\\nHeadline: {page[:200]}\")\n",
    "        \n",
    "        # Check if page is empty or contains only whitespace\n",
    "        if not page.strip():\n",
    "            # Create mock response for empty pages\n",
    "            top_two_logprobs = [\n",
    "                SimpleNamespace(token=\"NO\", logprob=0.0),  # log(1.0) = 0.0 for 100% probability\n",
    "                SimpleNamespace(token=\"YES\", logprob=float('-inf'))  # -inf for 0% probability\n",
    "            ]\n",
    "        else:\n",
    "            API_RESPONSE = get_completion(\n",
    "                [{\"role\": \"user\", \"content\": CLASSIFICATION_PROMPT.format(text=page)}],\n",
    "                model=\"gpt-4o-mini\",\n",
    "                logprobs=True,\n",
    "                top_logprobs=2,\n",
    "                max_tokens=1,\n",
    "                temperature=0,\n",
    "            )\n",
    "            top_two_logprobs = API_RESPONSE.choices[0].logprobs.content[0].top_logprobs\n",
    "\n",
    "        html_content = \"\"\n",
    "        for j, logprob in enumerate(top_two_logprobs, start=1):\n",
    "            html_content += (\n",
    "                f\"<span style='color: cyan'>Output token {j}:</span> {logprob.token}, \"\n",
    "                f\"<span style='color: darkorange'>logprobs:</span> {logprob.logprob}, \"\n",
    "                f\"<span style='color: magenta'>linear probability:</span> {np.round(np.exp(logprob.logprob)*100,2)}%<br>\"\n",
    "            )\n",
    "        display(HTML(html_content))\n",
    "        print(\"\\n\")\n",
    "\n",
    "        results.append({\n",
    "                        'file_name': file_name,\n",
    "                        'file_path': absolute_path,\n",
    "                        'page_number': i+1,\n",
    "                        '1st_token': top_two_logprobs[0].token,\n",
    "                        '1st_logprob': np.round(np.exp(top_two_logprobs[0].logprob)*100,2),\n",
    "                        '2nd_token': top_two_logprobs[1].token,\n",
    "                        '2nd_logprob': np.round(np.exp(top_two_logprobs[1].logprob)*100,2),\n",
    "                        'text': page\n",
    "                    })\n",
    "\n",
    "    df = pd.DataFrame(results)\n",
    "    df.to_csv(f\"/home/anatoly_kayda/Desktop/mipt/kayda_thesis/output_ chunk_is_page/{file_name}_parsed.csv\")\n",
    "    return df"
   ]
  },
  {
   "cell_type": "markdown",
   "metadata": {},
   "source": [
    "# Анализ данных"
   ]
  },
  {
   "cell_type": "code",
   "execution_count": 6,
   "metadata": {},
   "outputs": [
    {
     "data": {
      "text/plain": [
       "{'US6617405': '/home/anatoly_kayda/Desktop/mipt/data/unioncarbide/US/US6617405.pdf',\n",
       " 'US6248831': '/home/anatoly_kayda/Desktop/mipt/data/unioncarbide/US/US6248831.pdf',\n",
       " 'US20060046928': '/home/anatoly_kayda/Desktop/mipt/data/novolen/US/US20060046928.pdf',\n",
       " 'US4843132': '/home/anatoly_kayda/Desktop/mipt/data/novolen/US/US4843132.pdf',\n",
       " 'US4148754': '/home/anatoly_kayda/Desktop/mipt/data/hoehst/US/US4148754.pdf',\n",
       " 'US4481301': '/home/anatoly_kayda/Desktop/mipt/data/mobiloil/US/US4481301.pdf',\n",
       " 'US4849389': '/home/anatoly_kayda/Desktop/mipt/data/mobiloil/US/US4849389.pdf',\n",
       " 'US4374753': '/home/anatoly_kayda/Desktop/mipt/data/chemplex/US/US4374753.pdf',\n",
       " 'US9352308': '/home/anatoly_kayda/Desktop/mipt/data/braskem/US/US9352308.pdf',\n",
       " 'US20060166812': '/home/anatoly_kayda/Desktop/mipt/data/braskem/US/US20060166812.pdf'}"
      ]
     },
     "execution_count": 6,
     "metadata": {},
     "output_type": "execute_result"
    }
   ],
   "source": [
    "patent_data = '/home/anatoly_kayda/Desktop/mipt/data'\n",
    "patent_list = '/home/anatoly_kayda/Desktop/mipt/kayda_thesis/best_10_patents.txt'\n",
    "best_10_patents = []\n",
    "with open(patent_list) as f:\n",
    "    for patent in f.read().splitlines() :\n",
    "        best_10_patents.append(patent+'.pdf')\n",
    "\n",
    "best_10_patents_paths = []\n",
    "for dirpaths, dirnames, filenames in os.walk(patent_data):\n",
    "    for filename in filenames:\n",
    "        if filename in best_10_patents:\n",
    "            best_10_patents_paths.append(dirpaths+\"/\"+filename)\n",
    "best_10_patents_paths = {os.path.splitext(os.path.basename(path))[0]: path for path in best_10_patents_paths}\n",
    "best_10_patents_paths"
   ]
  },
  {
   "cell_type": "code",
   "execution_count": 7,
   "metadata": {},
   "outputs": [
    {
     "name": "stdout",
     "output_type": "stream",
     "text": [
      "\n",
      "Headline: USOO6617405B1 \n",
      " (12) United States Patent (10) Patent No.: US 6,617,405 B1 \n",
      " Jorgensen (45) Date of Patent: Sep. 9, 2003 \n",
      " (54) PROCESS FOR THE PREPARATION OF 5,601,472 A 2/1997 Parker ...............\n"
     ]
    },
    {
     "name": "stderr",
     "output_type": "stream",
     "text": [
      "2025-03-17 20:43:53,611 - INFO - HTTP Request: POST https://api.openai.com/v1/chat/completions \"HTTP/1.1 200 OK\"\n"
     ]
    },
    {
     "data": {
      "text/html": [
       "<span style='color: cyan'>Output token 1:</span> NO, <span style='color: darkorange'>logprobs:</span> -1.9361264946837764e-07, <span style='color: magenta'>linear probability:</span> 100.0%<br><span style='color: cyan'>Output token 2:</span>  NO, <span style='color: darkorange'>logprobs:</span> -15.75, <span style='color: magenta'>linear probability:</span> 0.0%<br>"
      ],
      "text/plain": [
       "<IPython.core.display.HTML object>"
      ]
     },
     "metadata": {},
     "output_type": "display_data"
    },
    {
     "name": "stdout",
     "output_type": "stream",
     "text": [
      "\n",
      "\n",
      "\n",
      "Headline: US 6,617.405 B1 \n",
      " 1 \n",
      " PROCESS FOR THE PREPARATION OF \n",
      " POLYETHYLENE \n",
      " TECHNICAL FIELD \n",
      " This invention relates to a proceSS for the preparation of \n",
      " polyethylene with a focus on catalyst activation. \n",
      "\n"
     ]
    },
    {
     "name": "stderr",
     "output_type": "stream",
     "text": [
      "2025-03-17 20:43:54,554 - INFO - HTTP Request: POST https://api.openai.com/v1/chat/completions \"HTTP/1.1 200 OK\"\n"
     ]
    },
    {
     "data": {
      "text/html": [
       "<span style='color: cyan'>Output token 1:</span> NO, <span style='color: darkorange'>logprobs:</span> -3.128163257315464e-07, <span style='color: magenta'>linear probability:</span> 100.0%<br><span style='color: cyan'>Output token 2:</span>  NO, <span style='color: darkorange'>logprobs:</span> -15.375, <span style='color: magenta'>linear probability:</span> 0.0%<br>"
      ],
      "text/plain": [
       "<IPython.core.display.HTML object>"
      ]
     },
     "metadata": {},
     "output_type": "display_data"
    },
    {
     "name": "stdout",
     "output_type": "stream",
     "text": [
      "\n",
      "\n",
      "\n",
      "Headline: US 6,617.405 B1 \n",
      " 3 \n",
      " DISCLOSURE OF THE INVENTION \n",
      " An object of this invention, therefore, is to provide a proceSS for preparing polyethylene, which overcomes the \n",
      " deficiencies associated with Separ\n"
     ]
    },
    {
     "name": "stderr",
     "output_type": "stream",
     "text": [
      "2025-03-17 20:43:55,186 - INFO - HTTP Request: POST https://api.openai.com/v1/chat/completions \"HTTP/1.1 200 OK\"\n"
     ]
    },
    {
     "data": {
      "text/html": [
       "<span style='color: cyan'>Output token 1:</span> NO, <span style='color: darkorange'>logprobs:</span> -2.451116051815916e-05, <span style='color: magenta'>linear probability:</span> 100.0%<br><span style='color: cyan'>Output token 2:</span> YES, <span style='color: darkorange'>logprobs:</span> -10.625024795532227, <span style='color: magenta'>linear probability:</span> 0.0%<br>"
      ],
      "text/plain": [
       "<IPython.core.display.HTML object>"
      ]
     },
     "metadata": {},
     "output_type": "display_data"
    },
    {
     "name": "stdout",
     "output_type": "stream",
     "text": [
      "\n",
      "\n",
      "\n",
      "Headline: US 6,617.405 B1 \n",
      " S \n",
      " aluminum, tri-n-hexyl aluminum, dimethyl aluminum chloride, and tri-n-octyl aluminum. Particularly preferred \n",
      " activators are: a Sequential mixture of tri-n-hexylaluminum \n",
      " and d\n"
     ]
    },
    {
     "name": "stderr",
     "output_type": "stream",
     "text": [
      "2025-03-17 20:43:55,887 - INFO - HTTP Request: POST https://api.openai.com/v1/chat/completions \"HTTP/1.1 200 OK\"\n"
     ]
    },
    {
     "data": {
      "text/html": [
       "<span style='color: cyan'>Output token 1:</span> NO, <span style='color: darkorange'>logprobs:</span> -4.320199877838604e-07, <span style='color: magenta'>linear probability:</span> 100.0%<br><span style='color: cyan'>Output token 2:</span> YES, <span style='color: darkorange'>logprobs:</span> -15.25, <span style='color: magenta'>linear probability:</span> 0.0%<br>"
      ],
      "text/plain": [
       "<IPython.core.display.HTML object>"
      ]
     },
     "metadata": {},
     "output_type": "display_data"
    },
    {
     "name": "stdout",
     "output_type": "stream",
     "text": [
      "\n",
      "\n",
      "\n",
      "Headline: US 6,617.405 B1 \n",
      " 7 \n",
      " bottom of the residence time pot. The impeller promotes Some radial mixing, but mainly assures that the bottom Section of the residence time pot does not experience SuS pended so\n"
     ]
    },
    {
     "name": "stderr",
     "output_type": "stream",
     "text": [
      "2025-03-17 20:43:56,780 - INFO - HTTP Request: POST https://api.openai.com/v1/chat/completions \"HTTP/1.1 200 OK\"\n"
     ]
    },
    {
     "data": {
      "text/html": [
       "<span style='color: cyan'>Output token 1:</span> YES, <span style='color: darkorange'>logprobs:</span> -0.31326285004615784, <span style='color: magenta'>linear probability:</span> 73.11%<br><span style='color: cyan'>Output token 2:</span> NO, <span style='color: darkorange'>logprobs:</span> -1.3132628202438354, <span style='color: magenta'>linear probability:</span> 26.89%<br>"
      ],
      "text/plain": [
       "<IPython.core.display.HTML object>"
      ]
     },
     "metadata": {},
     "output_type": "display_data"
    },
    {
     "name": "stdout",
     "output_type": "stream",
     "text": [
      "\n",
      "\n",
      "\n",
      "Headline: US 6,617.405 B1 \n",
      " 9 \n",
      " in the range of about 10 to about 150 psig, and is preferably \n",
      " in the range of about >20 to about 120 psig. The balance of the total pressure is provided by alpha-olefin (if use\n"
     ]
    },
    {
     "name": "stderr",
     "output_type": "stream",
     "text": [
      "2025-03-17 20:43:57,470 - INFO - HTTP Request: POST https://api.openai.com/v1/chat/completions \"HTTP/1.1 200 OK\"\n"
     ]
    },
    {
     "data": {
      "text/html": [
       "<span style='color: cyan'>Output token 1:</span> YES, <span style='color: darkorange'>logprobs:</span> -0.0031791406217962503, <span style='color: magenta'>linear probability:</span> 99.68%<br><span style='color: cyan'>Output token 2:</span> NO, <span style='color: darkorange'>logprobs:</span> -5.75317907333374, <span style='color: magenta'>linear probability:</span> 0.32%<br>"
      ],
      "text/plain": [
       "<IPython.core.display.HTML object>"
      ]
     },
     "metadata": {},
     "output_type": "display_data"
    },
    {
     "name": "stdout",
     "output_type": "stream",
     "text": [
      "\n",
      "\n",
      "\n",
      "Headline: US 6,617.405 B1 \n",
      " 11 \n",
      " fashion over a larger range of polymer MFR (melt flow ratio), hexane extractables, and polymer bulk density. The Smaller reaction System is used illustratively to avoid experi \n",
      "\n"
     ]
    },
    {
     "name": "stderr",
     "output_type": "stream",
     "text": [
      "2025-03-17 20:43:58,114 - INFO - HTTP Request: POST https://api.openai.com/v1/chat/completions \"HTTP/1.1 200 OK\"\n"
     ]
    },
    {
     "data": {
      "text/html": [
       "<span style='color: cyan'>Output token 1:</span> YES, <span style='color: darkorange'>logprobs:</span> -2.1008713702030946e-06, <span style='color: magenta'>linear probability:</span> 100.0%<br><span style='color: cyan'>Output token 2:</span>  YES, <span style='color: darkorange'>logprobs:</span> -13.625001907348633, <span style='color: magenta'>linear probability:</span> 0.0%<br>"
      ],
      "text/plain": [
       "<IPython.core.display.HTML object>"
      ]
     },
     "metadata": {},
     "output_type": "display_data"
    },
    {
     "name": "stdout",
     "output_type": "stream",
     "text": [
      "\n",
      "\n",
      "\n",
      "Headline: US 6,617.405 B1 \n",
      " 13 \n",
      " TABLE II \n",
      " RESIN PROPERTIES 1. 2 3 4 \n",
      " Melt Index, I2 (dg/min) 1.12 1.07 O.90 1.08 \n",
      " Density (g/cm3) 91.95 91.82 91.85 91.90 \n",
      " MFR 26.2 26.O 26.O 24.9 \n",
      " Residual Al (ppm) 32 41 \n"
     ]
    },
    {
     "name": "stderr",
     "output_type": "stream",
     "text": [
      "2025-03-17 20:43:58,625 - INFO - HTTP Request: POST https://api.openai.com/v1/chat/completions \"HTTP/1.1 200 OK\"\n"
     ]
    },
    {
     "data": {
      "text/html": [
       "<span style='color: cyan'>Output token 1:</span> YES, <span style='color: darkorange'>logprobs:</span> -9.088346359931165e-07, <span style='color: magenta'>linear probability:</span> 100.0%<br><span style='color: cyan'>Output token 2:</span>  YES, <span style='color: darkorange'>logprobs:</span> -14.125000953674316, <span style='color: magenta'>linear probability:</span> 0.0%<br>"
      ],
      "text/plain": [
       "<IPython.core.display.HTML object>"
      ]
     },
     "metadata": {},
     "output_type": "display_data"
    },
    {
     "name": "stdout",
     "output_type": "stream",
     "text": [
      "\n",
      "\n",
      "\n",
      "Headline: US 6,617.405 B1 \n",
      " TABLE IV-continued TABLE VI(B)-continued \n",
      " Examples Comparative Examples \n",
      " RESIN PROPERTIES 5 6 7 8 9 S RESIN PROPERTIES 5 6 7 8 \n",
      " APS (inches) O17 O18 O17 O18 O18 Added Activator/ED\n"
     ]
    },
    {
     "name": "stderr",
     "output_type": "stream",
     "text": [
      "2025-03-17 20:43:59,247 - INFO - HTTP Request: POST https://api.openai.com/v1/chat/completions \"HTTP/1.1 200 OK\"\n"
     ]
    },
    {
     "data": {
      "text/html": [
       "<span style='color: cyan'>Output token 1:</span> YES, <span style='color: darkorange'>logprobs:</span> -1.5048530030981055e-06, <span style='color: magenta'>linear probability:</span> 100.0%<br><span style='color: cyan'>Output token 2:</span>  YES, <span style='color: darkorange'>logprobs:</span> -14.250001907348633, <span style='color: magenta'>linear probability:</span> 0.0%<br>"
      ],
      "text/plain": [
       "<IPython.core.display.HTML object>"
      ]
     },
     "metadata": {},
     "output_type": "display_data"
    },
    {
     "name": "stdout",
     "output_type": "stream",
     "text": [
      "\n",
      "\n",
      "\n",
      "Headline: US 6,617.405 B1 \n",
      " 17 \n",
      " aliphatic hydrocarbon radical having 1 to 14 carbon \n",
      " atoms, each X is independently chlorine, bromine, or \n",
      " iodine, and n is 1 to 3; and \n",
      " (iv) no additional activator is intro\n"
     ]
    },
    {
     "name": "stderr",
     "output_type": "stream",
     "text": [
      "2025-03-17 20:43:59,832 - INFO - HTTP Request: POST https://api.openai.com/v1/chat/completions \"HTTP/1.1 200 OK\"\n"
     ]
    },
    {
     "data": {
      "text/html": [
       "<span style='color: cyan'>Output token 1:</span> NO, <span style='color: darkorange'>logprobs:</span> -1.9361264946837764e-07, <span style='color: magenta'>linear probability:</span> 100.0%<br><span style='color: cyan'>Output token 2:</span>  NO, <span style='color: darkorange'>logprobs:</span> -16.0, <span style='color: magenta'>linear probability:</span> 0.0%<br>"
      ],
      "text/plain": [
       "<IPython.core.display.HTML object>"
      ]
     },
     "metadata": {},
     "output_type": "display_data"
    },
    {
     "name": "stdout",
     "output_type": "stream",
     "text": [
      "\n",
      "\n",
      "\n",
      "Headline: USOO6248831B1 \n",
      " (12) United States Patent (10) Patent No.: US 6,248,831 B1 \n",
      " Maheshwari et al. (45) Date of Patent: Jun. 19, 2001 \n",
      " (54) HIGH STRENGTH POLYETHYLENE FILM (56) References Cited \n",
      " (75) In\n"
     ]
    },
    {
     "name": "stderr",
     "output_type": "stream",
     "text": [
      "2025-03-17 20:44:01,028 - INFO - HTTP Request: POST https://api.openai.com/v1/chat/completions \"HTTP/1.1 200 OK\"\n"
     ]
    },
    {
     "data": {
      "text/html": [
       "<span style='color: cyan'>Output token 1:</span> NO, <span style='color: darkorange'>logprobs:</span> -3.128163257315464e-07, <span style='color: magenta'>linear probability:</span> 100.0%<br><span style='color: cyan'>Output token 2:</span>  NO, <span style='color: darkorange'>logprobs:</span> -15.25, <span style='color: magenta'>linear probability:</span> 0.0%<br>"
      ],
      "text/plain": [
       "<IPython.core.display.HTML object>"
      ]
     },
     "metadata": {},
     "output_type": "display_data"
    },
    {
     "name": "stdout",
     "output_type": "stream",
     "text": [
      "\n",
      "\n",
      "\n",
      "Headline: US 6,248,831 B1 \n",
      " 1 \n",
      " HIGH STRENGTH POLYETHYLENE FILM \n",
      " TECHNICAL FIELD \n",
      " This invention relates to a process for preparing an in Situ polyethylene blend, which can be converted into film having an im\n"
     ]
    },
    {
     "name": "stderr",
     "output_type": "stream",
     "text": [
      "2025-03-17 20:44:01,991 - INFO - HTTP Request: POST https://api.openai.com/v1/chat/completions \"HTTP/1.1 200 OK\"\n"
     ]
    },
    {
     "data": {
      "text/html": [
       "<span style='color: cyan'>Output token 1:</span> NO, <span style='color: darkorange'>logprobs:</span> -1.9361264946837764e-07, <span style='color: magenta'>linear probability:</span> 100.0%<br><span style='color: cyan'>Output token 2:</span>  NO, <span style='color: darkorange'>logprobs:</span> -15.875, <span style='color: magenta'>linear probability:</span> 0.0%<br>"
      ],
      "text/plain": [
       "<IPython.core.display.HTML object>"
      ]
     },
     "metadata": {},
     "output_type": "display_data"
    },
    {
     "name": "stdout",
     "output_type": "stream",
     "text": [
      "\n",
      "\n",
      "\n",
      "Headline: US 6,248,831 B1 \n",
      " 3 \n",
      " Strength, particularly in terms of dart drop. Other objects and \n",
      " advantages will become apparent hereinafter. \n",
      " According to the present invention Such a proceSS for the \n",
      " produ\n"
     ]
    },
    {
     "name": "stderr",
     "output_type": "stream",
     "text": [
      "2025-03-17 20:44:02,515 - INFO - HTTP Request: POST https://api.openai.com/v1/chat/completions \"HTTP/1.1 200 OK\"\n"
     ]
    },
    {
     "data": {
      "text/html": [
       "<span style='color: cyan'>Output token 1:</span> NO, <span style='color: darkorange'>logprobs:</span> -1.9361264946837764e-07, <span style='color: magenta'>linear probability:</span> 100.0%<br><span style='color: cyan'>Output token 2:</span>  NO, <span style='color: darkorange'>logprobs:</span> -15.625, <span style='color: magenta'>linear probability:</span> 0.0%<br>"
      ],
      "text/plain": [
       "<IPython.core.display.HTML object>"
      ]
     },
     "metadata": {},
     "output_type": "display_data"
    },
    {
     "name": "stdout",
     "output_type": "stream",
     "text": [
      "\n",
      "\n",
      "\n",
      "Headline: US 6,248,831 B1 \n",
      " S \n",
      " Sometimes, e.g., with high density polyethylene, the bubble \n",
      " looks like a cylindrical Semi-molten tube with a diameter approximately equal to the ring diameter before being blow\n"
     ]
    },
    {
     "name": "stderr",
     "output_type": "stream",
     "text": [
      "2025-03-17 20:44:03,098 - INFO - HTTP Request: POST https://api.openai.com/v1/chat/completions \"HTTP/1.1 200 OK\"\n"
     ]
    },
    {
     "data": {
      "text/html": [
       "<span style='color: cyan'>Output token 1:</span> NO, <span style='color: darkorange'>logprobs:</span> -4.320199877838604e-07, <span style='color: magenta'>linear probability:</span> 100.0%<br><span style='color: cyan'>Output token 2:</span> YES, <span style='color: darkorange'>logprobs:</span> -15.5, <span style='color: magenta'>linear probability:</span> 0.0%<br>"
      ],
      "text/plain": [
       "<IPython.core.display.HTML object>"
      ]
     },
     "metadata": {},
     "output_type": "display_data"
    },
    {
     "name": "stdout",
     "output_type": "stream",
     "text": [
      "\n",
      "\n",
      "\n",
      "Headline: US 6,248,831 B1 \n",
      " 7 \n",
      " interconnecting device using nitrogen or Second reactor recycle gas as a transfer medium. \n",
      " In the high molecular weight (HMW) reactor: \n",
      " Because of the low values, instead of me\n"
     ]
    },
    {
     "name": "stderr",
     "output_type": "stream",
     "text": [
      "2025-03-17 20:44:03,746 - INFO - HTTP Request: POST https://api.openai.com/v1/chat/completions \"HTTP/1.1 200 OK\"\n"
     ]
    },
    {
     "data": {
      "text/html": [
       "<span style='color: cyan'>Output token 1:</span> NO, <span style='color: darkorange'>logprobs:</span> -2.165027217415627e-05, <span style='color: magenta'>linear probability:</span> 100.0%<br><span style='color: cyan'>Output token 2:</span> YES, <span style='color: darkorange'>logprobs:</span> -10.750021934509277, <span style='color: magenta'>linear probability:</span> 0.0%<br>"
      ],
      "text/plain": [
       "<IPython.core.display.HTML object>"
      ]
     },
     "metadata": {},
     "output_type": "display_data"
    },
    {
     "name": "stdout",
     "output_type": "stream",
     "text": [
      "\n",
      "\n",
      "\n",
      "Headline: US 6,248,831 B1 \n",
      " the cocatalyst Solution. Optionally, the liquid cocatalyst can be fed directly to the fluidized bed. The partially activated catalyst precursor is preferably injected into the fluidi\n"
     ]
    },
    {
     "name": "stderr",
     "output_type": "stream",
     "text": [
      "2025-03-17 20:44:05,177 - INFO - HTTP Request: POST https://api.openai.com/v1/chat/completions \"HTTP/1.1 200 OK\"\n"
     ]
    },
    {
     "data": {
      "text/html": [
       "<span style='color: cyan'>Output token 1:</span> YES, <span style='color: darkorange'>logprobs:</span> -1.7432603272027336e-06, <span style='color: magenta'>linear probability:</span> 100.0%<br><span style='color: cyan'>Output token 2:</span> **, <span style='color: darkorange'>logprobs:</span> -14.250001907348633, <span style='color: magenta'>linear probability:</span> 0.0%<br>"
      ],
      "text/plain": [
       "<IPython.core.display.HTML object>"
      ]
     },
     "metadata": {},
     "output_type": "display_data"
    },
    {
     "name": "stdout",
     "output_type": "stream",
     "text": [
      "\n",
      "\n",
      "\n",
      "Headline: US 6,248,831 B1 \n",
      " 11 \n",
      " To a 10 gallon Stainless Steel reaction/filter vessel are charged 1,892 grams of magnesium/titanium alkoxide pre \n",
      " cursor powder together with 3.5 kilograms of hexane. Then, a s\n"
     ]
    },
    {
     "name": "stderr",
     "output_type": "stream",
     "text": [
      "2025-03-17 20:44:05,950 - INFO - HTTP Request: POST https://api.openai.com/v1/chat/completions \"HTTP/1.1 200 OK\"\n"
     ]
    },
    {
     "data": {
      "text/html": [
       "<span style='color: cyan'>Output token 1:</span> YES, <span style='color: darkorange'>logprobs:</span> -6.2729995988775045e-06, <span style='color: magenta'>linear probability:</span> 100.0%<br><span style='color: cyan'>Output token 2:</span> **, <span style='color: darkorange'>logprobs:</span> -12.250006675720215, <span style='color: magenta'>linear probability:</span> 0.0%<br>"
      ],
      "text/plain": [
       "<IPython.core.display.HTML object>"
      ]
     },
     "metadata": {},
     "output_type": "display_data"
    },
    {
     "name": "stdout",
     "output_type": "stream",
     "text": [
      "\n",
      "\n",
      "\n",
      "Headline: reaction \n",
      " conditions \n",
      " temperature(C.) pressure (psia) \n",
      " COOOle \n",
      " C2 partial pressure(psia) \n",
      " H2/C2 molar \n",
      " ratio \n",
      " C6/C2 \n",
      " molar ratio \n",
      " recycle isopentane \n",
      " (mol%) C2 feed (Ibs/hr) catalyst feed \n",
      " \n"
     ]
    },
    {
     "name": "stderr",
     "output_type": "stream",
     "text": [
      "2025-03-17 20:44:06,632 - INFO - HTTP Request: POST https://api.openai.com/v1/chat/completions \"HTTP/1.1 200 OK\"\n"
     ]
    },
    {
     "data": {
      "text/html": [
       "<span style='color: cyan'>Output token 1:</span> YES, <span style='color: darkorange'>logprobs:</span> -1.1472419600977446e-06, <span style='color: magenta'>linear probability:</span> 100.0%<br><span style='color: cyan'>Output token 2:</span>  YES, <span style='color: darkorange'>logprobs:</span> -14.000000953674316, <span style='color: magenta'>linear probability:</span> 0.0%<br>"
      ],
      "text/plain": [
       "<IPython.core.display.HTML object>"
      ]
     },
     "metadata": {},
     "output_type": "display_data"
    },
    {
     "name": "stdout",
     "output_type": "stream",
     "text": [
      "\n",
      "\n",
      "\n",
      "Headline: US 6,248,831 B1 \n",
      " 15 \n",
      " The SECs reveal that the examples 2 and 3 products have \n",
      " a broader molecular weight distribution than the example 1 \n",
      " product. It is noted that the broadening occurs in the hig\n"
     ]
    },
    {
     "name": "stderr",
     "output_type": "stream",
     "text": [
      "2025-03-17 20:44:08,635 - INFO - HTTP Request: POST https://api.openai.com/v1/chat/completions \"HTTP/1.1 200 OK\"\n"
     ]
    },
    {
     "data": {
      "text/html": [
       "<span style='color: cyan'>Output token 1:</span> YES, <span style='color: darkorange'>logprobs:</span> -1.0280383548888494e-06, <span style='color: magenta'>linear probability:</span> 100.0%<br><span style='color: cyan'>Output token 2:</span>  YES, <span style='color: darkorange'>logprobs:</span> -14.125000953674316, <span style='color: magenta'>linear probability:</span> 0.0%<br>"
      ],
      "text/plain": [
       "<IPython.core.display.HTML object>"
      ]
     },
     "metadata": {},
     "output_type": "display_data"
    },
    {
     "name": "stdout",
     "output_type": "stream",
     "text": [
      "\n",
      "\n",
      "\n",
      "Headline: 17 \n",
      " TABLE X-continued \n",
      " reaction \n",
      " conditions \n",
      " production rate \n",
      " for each reactor \n",
      " (Ibs/hr) bed weight (Ibs) \n",
      " fluidized bulk \n",
      " density \n",
      " (Ibs/cu ft) \n",
      " bed volume \n",
      " (cu ft) \n",
      " residence time \n",
      " (hrs)\n"
     ]
    },
    {
     "name": "stderr",
     "output_type": "stream",
     "text": [
      "2025-03-17 20:44:09,297 - INFO - HTTP Request: POST https://api.openai.com/v1/chat/completions \"HTTP/1.1 200 OK\"\n"
     ]
    },
    {
     "data": {
      "text/html": [
       "<span style='color: cyan'>Output token 1:</span> YES, <span style='color: darkorange'>logprobs:</span> -1.0280383548888494e-06, <span style='color: magenta'>linear probability:</span> 100.0%<br><span style='color: cyan'>Output token 2:</span>  YES, <span style='color: darkorange'>logprobs:</span> -14.125000953674316, <span style='color: magenta'>linear probability:</span> 0.0%<br>"
      ],
      "text/plain": [
       "<IPython.core.display.HTML object>"
      ]
     },
     "metadata": {},
     "output_type": "display_data"
    },
    {
     "name": "stdout",
     "output_type": "stream",
     "text": [
      "\n",
      "\n",
      "\n",
      "Headline: US 6,248,831 B1 \n",
      " TABLE XII-continued \n",
      " reaction first second \n",
      " conditions reactor reactor \n",
      " (wt %) \n",
      " fines less than O.21 O.53 \n",
      " 120 mesh (wt %) \n",
      " Notes to above Tables: \n",
      " 1. Resin properties for Sec\n"
     ]
    },
    {
     "name": "stderr",
     "output_type": "stream",
     "text": [
      "2025-03-17 20:44:10,177 - INFO - HTTP Request: POST https://api.openai.com/v1/chat/completions \"HTTP/1.1 200 OK\"\n"
     ]
    },
    {
     "data": {
      "text/html": [
       "<span style='color: cyan'>Output token 1:</span> NO, <span style='color: darkorange'>logprobs:</span> -0.004078639671206474, <span style='color: magenta'>linear probability:</span> 99.59%<br><span style='color: cyan'>Output token 2:</span> YES, <span style='color: darkorange'>logprobs:</span> -5.5040788650512695, <span style='color: magenta'>linear probability:</span> 0.41%<br>"
      ],
      "text/plain": [
       "<IPython.core.display.HTML object>"
      ]
     },
     "metadata": {},
     "output_type": "display_data"
    },
    {
     "name": "stdout",
     "output_type": "stream",
     "text": [
      "\n",
      "\n",
      "\n",
      "Headline: US 6,248,831 B1 \n",
      " 21 \n",
      " 8. The process defined in claim 7 wherein the blend has a melt index (I5) in the range of about 0.1 to about 0.6 grams per 10 minutes; a melt flow ratio (I 21.6/I 5) in the rang\n"
     ]
    },
    {
     "name": "stderr",
     "output_type": "stream",
     "text": [
      "2025-03-17 20:44:11,125 - INFO - HTTP Request: POST https://api.openai.com/v1/chat/completions \"HTTP/1.1 200 OK\"\n"
     ]
    },
    {
     "data": {
      "text/html": [
       "<span style='color: cyan'>Output token 1:</span> NO, <span style='color: darkorange'>logprobs:</span> -6.392202976712724e-06, <span style='color: magenta'>linear probability:</span> 100.0%<br><span style='color: cyan'>Output token 2:</span> YES, <span style='color: darkorange'>logprobs:</span> -12.000006675720215, <span style='color: magenta'>linear probability:</span> 0.0%<br>"
      ],
      "text/plain": [
       "<IPython.core.display.HTML object>"
      ]
     },
     "metadata": {},
     "output_type": "display_data"
    },
    {
     "name": "stdout",
     "output_type": "stream",
     "text": [
      "\n",
      "\n",
      "\n",
      "Headline: (19) United States US 20060046928A1 \n",
      " (12) Patent Application Publication (10) Pub. No.: US 2006/0046928A1 \n",
      " Klendworth et al. (43) Pub. Date: Mar. 2, 2006 \n",
      " (54) ZIEGLER-NATTA CATALYST AND METHOD (52\n"
     ]
    },
    {
     "name": "stderr",
     "output_type": "stream",
     "text": [
      "2025-03-17 20:44:12,141 - INFO - HTTP Request: POST https://api.openai.com/v1/chat/completions \"HTTP/1.1 200 OK\"\n"
     ]
    },
    {
     "data": {
      "text/html": [
       "<span style='color: cyan'>Output token 1:</span> NO, <span style='color: darkorange'>logprobs:</span> -1.9361264946837764e-07, <span style='color: magenta'>linear probability:</span> 100.0%<br><span style='color: cyan'>Output token 2:</span>  NO, <span style='color: darkorange'>logprobs:</span> -16.0, <span style='color: magenta'>linear probability:</span> 0.0%<br>"
      ],
      "text/plain": [
       "<IPython.core.display.HTML object>"
      ]
     },
     "metadata": {},
     "output_type": "display_data"
    },
    {
     "name": "stdout",
     "output_type": "stream",
     "text": [
      "\n",
      "\n",
      "\n",
      "Headline: Patent Application Publication Mar. 2, 2006 Sheet 1 of 3 US 2006/0046928A1 \n",
      " G.   \n"
     ]
    },
    {
     "name": "stderr",
     "output_type": "stream",
     "text": [
      "2025-03-17 20:44:12,654 - INFO - HTTP Request: POST https://api.openai.com/v1/chat/completions \"HTTP/1.1 200 OK\"\n"
     ]
    },
    {
     "data": {
      "text/html": [
       "<span style='color: cyan'>Output token 1:</span> NO, <span style='color: darkorange'>logprobs:</span> -2.165027217415627e-05, <span style='color: magenta'>linear probability:</span> 100.0%<br><span style='color: cyan'>Output token 2:</span> YES, <span style='color: darkorange'>logprobs:</span> -10.750021934509277, <span style='color: magenta'>linear probability:</span> 0.0%<br>"
      ],
      "text/plain": [
       "<IPython.core.display.HTML object>"
      ]
     },
     "metadata": {},
     "output_type": "display_data"
    },
    {
     "name": "stdout",
     "output_type": "stream",
     "text": [
      "\n",
      "\n",
      "\n",
      "Headline: Patent Application Publication Mar. 2, 2006 Sheet 2 of 3 US 2006/0046928A1 \n",
      " O. 2   \n"
     ]
    },
    {
     "name": "stderr",
     "output_type": "stream",
     "text": [
      "2025-03-17 20:44:13,476 - INFO - HTTP Request: POST https://api.openai.com/v1/chat/completions \"HTTP/1.1 200 OK\"\n"
     ]
    },
    {
     "data": {
      "text/html": [
       "<span style='color: cyan'>Output token 1:</span> NO, <span style='color: darkorange'>logprobs:</span> -4.572941179503687e-05, <span style='color: magenta'>linear probability:</span> 100.0%<br><span style='color: cyan'>Output token 2:</span> YES, <span style='color: darkorange'>logprobs:</span> -10.000045776367188, <span style='color: magenta'>linear probability:</span> 0.0%<br>"
      ],
      "text/plain": [
       "<IPython.core.display.HTML object>"
      ]
     },
     "metadata": {},
     "output_type": "display_data"
    },
    {
     "name": "stdout",
     "output_type": "stream",
     "text": [
      "\n",
      "\n",
      "\n",
      "Headline: US 2006/0046928A1 Mar. 2, 2006 Sheet 3 of 3 Patent Application Publication \n",
      " 3 O.   \n"
     ]
    },
    {
     "name": "stderr",
     "output_type": "stream",
     "text": [
      "2025-03-17 20:44:14,131 - INFO - HTTP Request: POST https://api.openai.com/v1/chat/completions \"HTTP/1.1 200 OK\"\n"
     ]
    },
    {
     "data": {
      "text/html": [
       "<span style='color: cyan'>Output token 1:</span> NO, <span style='color: darkorange'>logprobs:</span> -3.531315314830863e-06, <span style='color: magenta'>linear probability:</span> 100.0%<br><span style='color: cyan'>Output token 2:</span> YES, <span style='color: darkorange'>logprobs:</span> -12.625003814697266, <span style='color: magenta'>linear probability:</span> 0.0%<br>"
      ],
      "text/plain": [
       "<IPython.core.display.HTML object>"
      ]
     },
     "metadata": {},
     "output_type": "display_data"
    },
    {
     "name": "stdout",
     "output_type": "stream",
     "text": [
      "\n",
      "\n",
      "\n",
      "Headline: US 2006/0046928A1 \n",
      " ZEGLER-NATTA CATALYST AND METHOD FOR \n",
      " MAKING AND USING SAME \n",
      " FIELD OF THE INVENTION \n",
      " 0001. The present invention relates to catalysts, and par ticularly to Ziegler-Natta catalys\n"
     ]
    },
    {
     "name": "stderr",
     "output_type": "stream",
     "text": [
      "2025-03-17 20:44:14,784 - INFO - HTTP Request: POST https://api.openai.com/v1/chat/completions \"HTTP/1.1 200 OK\"\n"
     ]
    },
    {
     "data": {
      "text/html": [
       "<span style='color: cyan'>Output token 1:</span> NO, <span style='color: darkorange'>logprobs:</span> -0.0007101670489646494, <span style='color: magenta'>linear probability:</span> 99.93%<br><span style='color: cyan'>Output token 2:</span> YES, <span style='color: darkorange'>logprobs:</span> -7.2507100105285645, <span style='color: magenta'>linear probability:</span> 0.07%<br>"
      ],
      "text/plain": [
       "<IPython.core.display.HTML object>"
      ]
     },
     "metadata": {},
     "output_type": "display_data"
    },
    {
     "name": "stdout",
     "output_type": "stream",
     "text": [
      "\n",
      "\n",
      "\n",
      "Headline: US 2006/0046928A1 \n",
      " from about 0.5 wt % to about 3.0 wt % of the silica seeding agent is used relative to the magnesium-halide compound. \n",
      " Generally, a higher ratio of magnesium-halide to Silica \n",
      " See\n"
     ]
    },
    {
     "name": "stderr",
     "output_type": "stream",
     "text": [
      "2025-03-17 20:44:15,831 - INFO - HTTP Request: POST https://api.openai.com/v1/chat/completions \"HTTP/1.1 200 OK\"\n"
     ]
    },
    {
     "data": {
      "text/html": [
       "<span style='color: cyan'>Output token 1:</span> YES, <span style='color: darkorange'>logprobs:</span> -0.00029685118352063, <span style='color: magenta'>linear probability:</span> 99.97%<br><span style='color: cyan'>Output token 2:</span> NO, <span style='color: darkorange'>logprobs:</span> -8.125296592712402, <span style='color: magenta'>linear probability:</span> 0.03%<br>"
      ],
      "text/plain": [
       "<IPython.core.display.HTML object>"
      ]
     },
     "metadata": {},
     "output_type": "display_data"
    },
    {
     "name": "stdout",
     "output_type": "stream",
     "text": [
      "\n",
      "\n",
      "\n",
      "Headline: US 2006/0046928A1 \n",
      " include mono- and polyfunctional carboxylic acids, car boxylic anhydrides and carboxylic esters, and ketones, \n",
      " ethers, alcohols, lactones as well as organic phosphorus and \n",
      " Silic\n"
     ]
    },
    {
     "name": "stderr",
     "output_type": "stream",
     "text": [
      "2025-03-17 20:44:16,649 - INFO - HTTP Request: POST https://api.openai.com/v1/chat/completions \"HTTP/1.1 200 OK\"\n"
     ]
    },
    {
     "data": {
      "text/html": [
       "<span style='color: cyan'>Output token 1:</span> NO, <span style='color: darkorange'>logprobs:</span> -1.9361264946837764e-07, <span style='color: magenta'>linear probability:</span> 100.0%<br><span style='color: cyan'>Output token 2:</span>  NO, <span style='color: darkorange'>logprobs:</span> -16.0, <span style='color: magenta'>linear probability:</span> 0.0%<br>"
      ],
      "text/plain": [
       "<IPython.core.display.HTML object>"
      ]
     },
     "metadata": {},
     "output_type": "display_data"
    },
    {
     "name": "stdout",
     "output_type": "stream",
     "text": [
      "\n",
      "\n",
      "\n",
      "Headline: US 2006/0046928A1 \n",
      " sium hydroxide and iodomagnesium hydroxide. Among \n",
      " these compounds the magnesium dihalides corresponding to \n",
      " the formula MgX are preferred wherein X is a halogen. Especially pref\n"
     ]
    },
    {
     "name": "stderr",
     "output_type": "stream",
     "text": [
      "2025-03-17 20:44:17,531 - INFO - HTTP Request: POST https://api.openai.com/v1/chat/completions \"HTTP/1.1 200 OK\"\n"
     ]
    },
    {
     "data": {
      "text/html": [
       "<span style='color: cyan'>Output token 1:</span> NO, <span style='color: darkorange'>logprobs:</span> -1.9361264946837764e-07, <span style='color: magenta'>linear probability:</span> 100.0%<br><span style='color: cyan'>Output token 2:</span>  NO, <span style='color: darkorange'>logprobs:</span> -16.125, <span style='color: magenta'>linear probability:</span> 0.0%<br>"
      ],
      "text/plain": [
       "<IPython.core.display.HTML object>"
      ]
     },
     "metadata": {},
     "output_type": "display_data"
    },
    {
     "name": "stdout",
     "output_type": "stream",
     "text": [
      "\n",
      "\n",
      "\n",
      "Headline: US 2006/0046928A1 \n",
      " due to the difficulty in finding Such a Single Substance, most polypropylene catalysts employ two separate Substances for \n",
      " their internal and external electron donors. \n",
      " 0044 Pref\n"
     ]
    },
    {
     "name": "stderr",
     "output_type": "stream",
     "text": [
      "2025-03-17 20:44:18,241 - INFO - HTTP Request: POST https://api.openai.com/v1/chat/completions \"HTTP/1.1 200 OK\"\n"
     ]
    },
    {
     "data": {
      "text/html": [
       "<span style='color: cyan'>Output token 1:</span> YES, <span style='color: darkorange'>logprobs:</span> -2.339278580620885e-06, <span style='color: magenta'>linear probability:</span> 100.0%<br><span style='color: cyan'>Output token 2:</span> **, <span style='color: darkorange'>logprobs:</span> -13.500001907348633, <span style='color: magenta'>linear probability:</span> 0.0%<br>"
      ],
      "text/plain": [
       "<IPython.core.display.HTML object>"
      ]
     },
     "metadata": {},
     "output_type": "display_data"
    },
    {
     "name": "stdout",
     "output_type": "stream",
     "text": [
      "\n",
      "\n",
      "\n",
      "Headline: US 2006/0046928A1 \n",
      " 0056 Next, the solid catalyst Support particles were \n",
      " added slowly to a third flask containing 200 ml of neat TiCl, \n",
      " which had been pre-cooled to about 0° C. After the tem peratu\n"
     ]
    },
    {
     "name": "stderr",
     "output_type": "stream",
     "text": [
      "2025-03-17 20:44:19,103 - INFO - HTTP Request: POST https://api.openai.com/v1/chat/completions \"HTTP/1.1 200 OK\"\n"
     ]
    },
    {
     "data": {
      "text/html": [
       "<span style='color: cyan'>Output token 1:</span> YES, <span style='color: darkorange'>logprobs:</span> -1.981667537620524e-06, <span style='color: magenta'>linear probability:</span> 100.0%<br><span style='color: cyan'>Output token 2:</span>  YES, <span style='color: darkorange'>logprobs:</span> -13.875001907348633, <span style='color: magenta'>linear probability:</span> 0.0%<br>"
      ],
      "text/plain": [
       "<IPython.core.display.HTML object>"
      ]
     },
     "metadata": {},
     "output_type": "display_data"
    },
    {
     "name": "stdout",
     "output_type": "stream",
     "text": [
      "\n",
      "\n",
      "\n",
      "Headline: US 2006/0046928A1 \n",
      " 1133 at a temperature of 230 C. and under a load of 2.06 kg. Certain applications might require different molecular \n",
      " weights than those mentioned above and are contemplated to be \n"
     ]
    },
    {
     "name": "stderr",
     "output_type": "stream",
     "text": [
      "2025-03-17 20:44:19,924 - INFO - HTTP Request: POST https://api.openai.com/v1/chat/completions \"HTTP/1.1 200 OK\"\n"
     ]
    },
    {
     "data": {
      "text/html": [
       "<span style='color: cyan'>Output token 1:</span> NO, <span style='color: darkorange'>logprobs:</span> -3.128163257315464e-07, <span style='color: magenta'>linear probability:</span> 100.0%<br><span style='color: cyan'>Output token 2:</span> YES, <span style='color: darkorange'>logprobs:</span> -15.5, <span style='color: magenta'>linear probability:</span> 0.0%<br>"
      ],
      "text/plain": [
       "<IPython.core.display.HTML object>"
      ]
     },
     "metadata": {},
     "output_type": "display_data"
    },
    {
     "name": "stdout",
     "output_type": "stream",
     "text": [
      "\n",
      "\n",
      "\n",
      "Headline: US 2006/0046928A1 \n",
      " 17. The method of making a magnesium-halide Support \n",
      " according to claim 14, wherein the alkanol is Selected from the group consisting of ethanol, methanol and 2-ethyl-1- \n",
      " hexanol\n"
     ]
    },
    {
     "name": "stderr",
     "output_type": "stream",
     "text": [
      "2025-03-17 20:44:20,536 - INFO - HTTP Request: POST https://api.openai.com/v1/chat/completions \"HTTP/1.1 200 OK\"\n"
     ]
    },
    {
     "data": {
      "text/html": [
       "<span style='color: cyan'>Output token 1:</span> NO, <span style='color: darkorange'>logprobs:</span> -1.9361264946837764e-07, <span style='color: magenta'>linear probability:</span> 100.0%<br><span style='color: cyan'>Output token 2:</span>  NO, <span style='color: darkorange'>logprobs:</span> -15.75, <span style='color: magenta'>linear probability:</span> 0.0%<br>"
      ],
      "text/plain": [
       "<IPython.core.display.HTML object>"
      ]
     },
     "metadata": {},
     "output_type": "display_data"
    },
    {
     "name": "stdout",
     "output_type": "stream",
     "text": [
      "\n",
      "\n",
      "\n",
      "Headline: United States Patent (19) \n",
      " Werner et al. \n",
      " 54 PREPARATION OF HOMO- AND COPOLYMERS OF PROPENE USINGA \n",
      " ZEGLER-NATTA CATALYST SYSTEM \n",
      " Rainer A. Werner, Bad Durkheim; Ralf Zolk, Hessheim, both of Fed. \n"
     ]
    },
    {
     "name": "stderr",
     "output_type": "stream",
     "text": [
      "2025-03-17 20:44:23,802 - INFO - HTTP Request: POST https://api.openai.com/v1/chat/completions \"HTTP/1.1 200 OK\"\n"
     ]
    },
    {
     "data": {
      "text/html": [
       "<span style='color: cyan'>Output token 1:</span> NO, <span style='color: darkorange'>logprobs:</span> -1.9361264946837764e-07, <span style='color: magenta'>linear probability:</span> 100.0%<br><span style='color: cyan'>Output token 2:</span>  NO, <span style='color: darkorange'>logprobs:</span> -15.875, <span style='color: magenta'>linear probability:</span> 0.0%<br>"
      ],
      "text/plain": [
       "<IPython.core.display.HTML object>"
      ]
     },
     "metadata": {},
     "output_type": "display_data"
    },
    {
     "name": "stdout",
     "output_type": "stream",
     "text": [
      "\n",
      "\n",
      "\n",
      "Headline: 4,843,132 1. \n",
      " PREPARATION OF HOMO- AND COPOLYMERS \n",
      " OF PROPENE USINGAZEGLER-NATA \n",
      " CATALYST SYSTEM \n",
      " The present invention relates to a process for the preparation of homopolymers of propene and copo\n"
     ]
    },
    {
     "name": "stderr",
     "output_type": "stream",
     "text": [
      "2025-03-17 20:44:24,692 - INFO - HTTP Request: POST https://api.openai.com/v1/chat/completions \"HTTP/1.1 200 OK\"\n"
     ]
    },
    {
     "data": {
      "text/html": [
       "<span style='color: cyan'>Output token 1:</span> NO, <span style='color: darkorange'>logprobs:</span> -3.128163257315464e-07, <span style='color: magenta'>linear probability:</span> 100.0%<br><span style='color: cyan'>Output token 2:</span> YES, <span style='color: darkorange'>logprobs:</span> -15.875, <span style='color: magenta'>linear probability:</span> 0.0%<br>"
      ],
      "text/plain": [
       "<IPython.core.display.HTML object>"
      ]
     },
     "metadata": {},
     "output_type": "display_data"
    },
    {
     "name": "stdout",
     "output_type": "stream",
     "text": [
      "\n",
      "\n",
      "\n",
      "Headline: 4,843,132 3 \n",
      " where R is an aryl, alkylaryl or alkyl radical of not more than 16, preferably not more than 10, carbon atoms, in particular phenyl, tolyl or ethylphenyl, R2 is \n",
      " alkyl of not more than \n"
     ]
    },
    {
     "name": "stderr",
     "output_type": "stream",
     "text": [
      "2025-03-17 20:44:25,348 - INFO - HTTP Request: POST https://api.openai.com/v1/chat/completions \"HTTP/1.1 200 OK\"\n"
     ]
    },
    {
     "data": {
      "text/html": [
       "<span style='color: cyan'>Output token 1:</span> YES, <span style='color: darkorange'>logprobs:</span> -2.8325677703833207e-05, <span style='color: magenta'>linear probability:</span> 100.0%<br><span style='color: cyan'>Output token 2:</span> NO, <span style='color: darkorange'>logprobs:</span> -10.500028610229492, <span style='color: magenta'>linear probability:</span> 0.0%<br>"
      ],
      "text/plain": [
       "<IPython.core.display.HTML object>"
      ]
     },
     "metadata": {},
     "output_type": "display_data"
    },
    {
     "name": "stdout",
     "output_type": "stream",
     "text": [
      "\n",
      "\n",
      "\n",
      "Headline: 4,843,132 5 \n",
      " weight of the titanium tetrachloride being used per 10 parts by weight of the solid-phase intermediate obtained from the first stage, and finally (1.3) in a third stage, the solid-phase \n"
     ]
    },
    {
     "name": "stderr",
     "output_type": "stream",
     "text": [
      "2025-03-17 20:44:26,064 - INFO - HTTP Request: POST https://api.openai.com/v1/chat/completions \"HTTP/1.1 200 OK\"\n"
     ]
    },
    {
     "data": {
      "text/html": [
       "<span style='color: cyan'>Output token 1:</span> YES, <span style='color: darkorange'>logprobs:</span> -2.696889623621246e-06, <span style='color: magenta'>linear probability:</span> 100.0%<br><span style='color: cyan'>Output token 2:</span> NO, <span style='color: darkorange'>logprobs:</span> -13.25000286102295, <span style='color: magenta'>linear probability:</span> 0.0%<br>"
      ],
      "text/plain": [
       "<IPython.core.display.HTML object>"
      ]
     },
     "metadata": {},
     "output_type": "display_data"
    },
    {
     "name": "stdout",
     "output_type": "stream",
     "text": [
      "\n",
      "\n",
      "\n",
      "Headline: 4,843,132 7 \n",
      " resulting solid is then isolated by filtration and washed with n-heptane to give the carrier (III), \n",
      " (IV) titanium tetrachloride and (V) phthaloyl dichloride, in such a way that first (\n"
     ]
    },
    {
     "name": "stderr",
     "output_type": "stream",
     "text": [
      "2025-03-17 20:44:26,809 - INFO - HTTP Request: POST https://api.openai.com/v1/chat/completions \"HTTP/1.1 200 OK\"\n"
     ]
    },
    {
     "data": {
      "text/html": [
       "<span style='color: cyan'>Output token 1:</span> YES, <span style='color: darkorange'>logprobs:</span> -1.3856492842023727e-06, <span style='color: magenta'>linear probability:</span> 100.0%<br><span style='color: cyan'>Output token 2:</span>  YES, <span style='color: darkorange'>logprobs:</span> -14.000000953674316, <span style='color: magenta'>linear probability:</span> 0.0%<br>"
      ],
      "text/plain": [
       "<IPython.core.display.HTML object>"
      ]
     },
     "metadata": {},
     "output_type": "display_data"
    },
    {
     "name": "stdout",
     "output_type": "stream",
     "text": [
      "\n",
      "\n",
      "\n",
      "Headline: 4,843,132 \n",
      " resulting solid-phase intermediate is isolated by filtra tion, and finally (1.3) in a third stage, the solid-phase intermediate obtained in the second stage is extracted with n-heptane 10 \n"
     ]
    },
    {
     "name": "stderr",
     "output_type": "stream",
     "text": [
      "2025-03-17 20:44:27,500 - INFO - HTTP Request: POST https://api.openai.com/v1/chat/completions \"HTTP/1.1 200 OK\"\n"
     ]
    },
    {
     "data": {
      "text/html": [
       "<span style='color: cyan'>Output token 1:</span> YES, <span style='color: darkorange'>logprobs:</span> -1.1472419600977446e-06, <span style='color: magenta'>linear probability:</span> 100.0%<br><span style='color: cyan'>Output token 2:</span>  YES, <span style='color: darkorange'>logprobs:</span> -14.125000953674316, <span style='color: magenta'>linear probability:</span> 0.0%<br>"
      ],
      "text/plain": [
       "<IPython.core.display.HTML object>"
      ]
     },
     "metadata": {},
     "output_type": "display_data"
    },
    {
     "name": "stdout",
     "output_type": "stream",
     "text": [
      "\n",
      "\n",
      "\n",
      "Headline: 4,843,132 11 \n",
      " where X and Y together form oxygen or X and Y are each chlorine or C1-C10-alkoxy, in such a way \n",
      " that first \n",
      " either (a) (1.1.1.a) in a first substage, the magnesium chloride (I) \n",
      " and\n"
     ]
    },
    {
     "name": "stderr",
     "output_type": "stream",
     "text": [
      "2025-03-17 20:44:28,116 - INFO - HTTP Request: POST https://api.openai.com/v1/chat/completions \"HTTP/1.1 200 OK\"\n"
     ]
    },
    {
     "data": {
      "text/html": [
       "<span style='color: cyan'>Output token 1:</span> YES, <span style='color: darkorange'>logprobs:</span> -3.531315314830863e-06, <span style='color: magenta'>linear probability:</span> 100.0%<br><span style='color: cyan'>Output token 2:</span> NO, <span style='color: darkorange'>logprobs:</span> -12.750003814697266, <span style='color: magenta'>linear probability:</span> 0.0%<br>"
      ],
      "text/plain": [
       "<IPython.core.display.HTML object>"
      ]
     },
     "metadata": {},
     "output_type": "display_data"
    },
    {
     "name": "stdout",
     "output_type": "stream",
     "text": [
      "\n",
      "\n",
      "\n",
      "Headline: United States Patent (19) \n",
      " Strobel et al. \n",
      " (54) PROCESS FOR THE PREPARATION OFA CATALYST AND CATALYST USED IN OLEFN POLYMERZATION \n",
      " 75) Inventors: Wolfgang Strobel, Hofheim; Rainer Franke, Frankfurt\n"
     ]
    },
    {
     "name": "stderr",
     "output_type": "stream",
     "text": [
      "2025-03-17 20:44:29,417 - INFO - HTTP Request: POST https://api.openai.com/v1/chat/completions \"HTTP/1.1 200 OK\"\n"
     ]
    },
    {
     "data": {
      "text/html": [
       "<span style='color: cyan'>Output token 1:</span> NO, <span style='color: darkorange'>logprobs:</span> -3.128163257315464e-07, <span style='color: magenta'>linear probability:</span> 100.0%<br><span style='color: cyan'>Output token 2:</span>  NO, <span style='color: darkorange'>logprobs:</span> -15.125, <span style='color: magenta'>linear probability:</span> 0.0%<br>"
      ],
      "text/plain": [
       "<IPython.core.display.HTML object>"
      ]
     },
     "metadata": {},
     "output_type": "display_data"
    },
    {
     "name": "stdout",
     "output_type": "stream",
     "text": [
      "\n",
      "\n",
      "\n",
      "Headline: 4,148,754 1. \n",
      " PROCESS FOR THE PREPARATION OFA \n",
      " CATALYST AND CATALYST USED IN OLEFN \n",
      " POLYMERZATION \n",
      " The present invention relates to the preparation of a catalyst for the polymerization of ethylene\n"
     ]
    },
    {
     "name": "stderr",
     "output_type": "stream",
     "text": [
      "2025-03-17 20:44:31,982 - INFO - HTTP Request: POST https://api.openai.com/v1/chat/completions \"HTTP/1.1 200 OK\"\n"
     ]
    },
    {
     "data": {
      "text/html": [
       "<span style='color: cyan'>Output token 1:</span> NO, <span style='color: darkorange'>logprobs:</span> -0.00015872348740231246, <span style='color: magenta'>linear probability:</span> 99.98%<br><span style='color: cyan'>Output token 2:</span> YES, <span style='color: darkorange'>logprobs:</span> -8.750158309936523, <span style='color: magenta'>linear probability:</span> 0.02%<br>"
      ],
      "text/plain": [
       "<IPython.core.display.HTML object>"
      ]
     },
     "metadata": {},
     "output_type": "display_data"
    },
    {
     "name": "stdout",
     "output_type": "stream",
     "text": [
      "\n",
      "\n",
      "\n",
      "Headline: 4,148,754 3 Suitable halogen-containing magnesium-organic compounds are compounds of the formula RMgX, in which R is a hydrocarbon radical having from 1 to 20, preferably from 2 to 10 carbon atoms and\n"
     ]
    },
    {
     "name": "stderr",
     "output_type": "stream",
     "text": [
      "2025-03-17 20:44:32,644 - INFO - HTTP Request: POST https://api.openai.com/v1/chat/completions \"HTTP/1.1 200 OK\"\n"
     ]
    },
    {
     "data": {
      "text/html": [
       "<span style='color: cyan'>Output token 1:</span> NO, <span style='color: darkorange'>logprobs:</span> -0.25192990899086, <span style='color: magenta'>linear probability:</span> 77.73%<br><span style='color: cyan'>Output token 2:</span> YES, <span style='color: darkorange'>logprobs:</span> -1.5019298791885376, <span style='color: magenta'>linear probability:</span> 22.27%<br>"
      ],
      "text/plain": [
       "<IPython.core.display.HTML object>"
      ]
     },
     "metadata": {},
     "output_type": "display_data"
    },
    {
     "name": "stdout",
     "output_type": "stream",
     "text": [
      "\n",
      "\n",
      "\n",
      "Headline: 4,148,754 \n",
      " wherein R2 and R2 is hydrogen, an alkyl radical, an alkylene radical having a non-terminal double bond or a mononuclear aryl radical and a is 0 or 1, are used prefer ably. There may be men\n"
     ]
    },
    {
     "name": "stderr",
     "output_type": "stream",
     "text": [
      "2025-03-17 20:44:33,263 - INFO - HTTP Request: POST https://api.openai.com/v1/chat/completions \"HTTP/1.1 200 OK\"\n"
     ]
    },
    {
     "data": {
      "text/html": [
       "<span style='color: cyan'>Output token 1:</span> NO, <span style='color: darkorange'>logprobs:</span> -2.7729658540920354e-05, <span style='color: magenta'>linear probability:</span> 100.0%<br><span style='color: cyan'>Output token 2:</span> YES, <span style='color: darkorange'>logprobs:</span> -10.500027656555176, <span style='color: magenta'>linear probability:</span> 0.0%<br>"
      ],
      "text/plain": [
       "<IPython.core.display.HTML object>"
      ]
     },
     "metadata": {},
     "output_type": "display_data"
    },
    {
     "name": "stdout",
     "output_type": "stream",
     "text": [
      "\n",
      "\n",
      "\n",
      "Headline: 4,148,754 7 \n",
      " ous phase in a fluidized bed. The use of oxide carriers having a particle size of more than 30 Jum, which may be obtained for example by separating fine particles by sieving, prevents fi\n"
     ]
    },
    {
     "name": "stderr",
     "output_type": "stream",
     "text": [
      "2025-03-17 20:44:34,042 - INFO - HTTP Request: POST https://api.openai.com/v1/chat/completions \"HTTP/1.1 200 OK\"\n"
     ]
    },
    {
     "data": {
      "text/html": [
       "<span style='color: cyan'>Output token 1:</span> YES, <span style='color: darkorange'>logprobs:</span> -1.1472419600977446e-06, <span style='color: magenta'>linear probability:</span> 100.0%<br><span style='color: cyan'>Output token 2:</span>  YES, <span style='color: darkorange'>logprobs:</span> -14.125000953674316, <span style='color: magenta'>linear probability:</span> 0.0%<br>"
      ],
      "text/plain": [
       "<IPython.core.display.HTML object>"
      ]
     },
     "metadata": {},
     "output_type": "display_data"
    },
    {
     "name": "stdout",
     "output_type": "stream",
     "text": [
      "\n",
      "\n",
      "\n",
      "Headline: 4,148,754 \n",
      " weight below 50 m. 125,000 g of polyethylene per gram of titanium and 5,809 g of polyethylene per gram of the catalyst component A are obtained. \n",
      " COMPARATIVE EXAMPLE A \n",
      " The example demon\n"
     ]
    },
    {
     "name": "stderr",
     "output_type": "stream",
     "text": [
      "2025-03-17 20:44:34,816 - INFO - HTTP Request: POST https://api.openai.com/v1/chat/completions \"HTTP/1.1 200 OK\"\n"
     ]
    },
    {
     "data": {
      "text/html": [
       "<span style='color: cyan'>Output token 1:</span> YES, <span style='color: darkorange'>logprobs:</span> -1.2664456789934775e-06, <span style='color: magenta'>linear probability:</span> 100.0%<br><span style='color: cyan'>Output token 2:</span>  YES, <span style='color: darkorange'>logprobs:</span> -14.000000953674316, <span style='color: magenta'>linear probability:</span> 0.0%<br>"
      ],
      "text/plain": [
       "<IPython.core.display.HTML object>"
      ]
     },
     "metadata": {},
     "output_type": "display_data"
    },
    {
     "name": "stdout",
     "output_type": "stream",
     "text": [
      "\n",
      "\n",
      "\n",
      "Headline: 4,148,754 11 \n",
      " EXAMPLE 7 \n",
      " Into a 1 liter autoclave made from stainless steel there \n",
      " are introduced 500 ml of Diesel oil, and the air is dis placed by evacuating and by introducing nitrogen 5 \n",
      " under\n"
     ]
    },
    {
     "name": "stderr",
     "output_type": "stream",
     "text": [
      "2025-03-17 20:44:35,760 - INFO - HTTP Request: POST https://api.openai.com/v1/chat/completions \"HTTP/1.1 200 OK\"\n"
     ]
    },
    {
     "data": {
      "text/html": [
       "<span style='color: cyan'>Output token 1:</span> YES, <span style='color: darkorange'>logprobs:</span> -1.1472419600977446e-06, <span style='color: magenta'>linear probability:</span> 100.0%<br><span style='color: cyan'>Output token 2:</span>  YES, <span style='color: darkorange'>logprobs:</span> -14.000000953674316, <span style='color: magenta'>linear probability:</span> 0.0%<br>"
      ],
      "text/plain": [
       "<IPython.core.display.HTML object>"
      ]
     },
     "metadata": {},
     "output_type": "display_data"
    },
    {
     "name": "stdout",
     "output_type": "stream",
     "text": [
      "\n",
      "\n",
      "\n",
      "Headline: 4,148,754 3 polyethylene, per gram of the catalyst component A, 330 g. \n",
      " EXAMPLE 11 \n",
      " Ethylene is polymerized under the conditions de scribed in Example 4 in the presence of 0.62 g of the catalyst com\n"
     ]
    },
    {
     "name": "stderr",
     "output_type": "stream",
     "text": [
      "2025-03-17 20:44:36,583 - INFO - HTTP Request: POST https://api.openai.com/v1/chat/completions \"HTTP/1.1 200 OK\"\n"
     ]
    },
    {
     "data": {
      "text/html": [
       "<span style='color: cyan'>Output token 1:</span> YES, <span style='color: darkorange'>logprobs:</span> -2.339278580620885e-06, <span style='color: magenta'>linear probability:</span> 100.0%<br><span style='color: cyan'>Output token 2:</span>  YES, <span style='color: darkorange'>logprobs:</span> -13.625001907348633, <span style='color: magenta'>linear probability:</span> 0.0%<br>"
      ],
      "text/plain": [
       "<IPython.core.display.HTML object>"
      ]
     },
     "metadata": {},
     "output_type": "display_data"
    },
    {
     "name": "stdout",
     "output_type": "stream",
     "text": [
      "\n",
      "\n",
      "\n",
      "Headline: 4,148,754 5 ity of the powder 0.077 cm3-sec/g. Pergram of titanium there are obtained 12,700 g, per gram of the component A, 467 g, of polyethylene. \n",
      " EXAMPLE 19 \n",
      " A porous aluminum silicate (85.7% of\n"
     ]
    },
    {
     "name": "stderr",
     "output_type": "stream",
     "text": [
      "2025-03-17 20:44:37,481 - INFO - HTTP Request: POST https://api.openai.com/v1/chat/completions \"HTTP/1.1 200 OK\"\n"
     ]
    },
    {
     "data": {
      "text/html": [
       "<span style='color: cyan'>Output token 1:</span> YES, <span style='color: darkorange'>logprobs:</span> -1.1472419600977446e-06, <span style='color: magenta'>linear probability:</span> 100.0%<br><span style='color: cyan'>Output token 2:</span>  YES, <span style='color: darkorange'>logprobs:</span> -14.125000953674316, <span style='color: magenta'>linear probability:</span> 0.0%<br>"
      ],
      "text/plain": [
       "<IPython.core.display.HTML object>"
      ]
     },
     "metadata": {},
     "output_type": "display_data"
    },
    {
     "name": "stdout",
     "output_type": "stream",
     "text": [
      "\n",
      "\n",
      "\n",
      "Headline: 4,148,754 17 \n",
      " 14. A compound prepared according to the process as \n",
      " defined in claim 13. \n",
      " 15. A process as defined in claim 1, wherein R* and R6 are alkyl of from 1 to 16 carbon atoms. 16. A compoun\n"
     ]
    },
    {
     "name": "stderr",
     "output_type": "stream",
     "text": [
      "2025-03-17 20:44:38,152 - INFO - HTTP Request: POST https://api.openai.com/v1/chat/completions \"HTTP/1.1 200 OK\"\n"
     ]
    },
    {
     "data": {
      "text/html": [
       "<span style='color: cyan'>Output token 1:</span> NO, <span style='color: darkorange'>logprobs:</span> -6.704273118884885e-07, <span style='color: magenta'>linear probability:</span> 100.0%<br><span style='color: cyan'>Output token 2:</span> YES, <span style='color: darkorange'>logprobs:</span> -14.875000953674316, <span style='color: magenta'>linear probability:</span> 0.0%<br>"
      ],
      "text/plain": [
       "<IPython.core.display.HTML object>"
      ]
     },
     "metadata": {},
     "output_type": "display_data"
    },
    {
     "name": "stdout",
     "output_type": "stream",
     "text": [
      "\n",
      "\n",
      "\n",
      "Headline: United States Patent (19) \n",
      " Nowlin et al. \n",
      " 54 \n",
      " 75 \n",
      " (73) \n",
      " (21) \n",
      " 22 \n",
      " (63) \n",
      " 51 (52) \n",
      " (58) \n",
      " 56) HIGHILY ACTIVE CATALYST \n",
      " COMPOSITION FOR POLYMERIZNG \n",
      " ALPHA-OLEFNS \n",
      " Inventors: Thomas E. Nowlin,\n"
     ]
    },
    {
     "name": "stderr",
     "output_type": "stream",
     "text": [
      "2025-03-17 20:44:39,737 - INFO - HTTP Request: POST https://api.openai.com/v1/chat/completions \"HTTP/1.1 200 OK\"\n"
     ]
    },
    {
     "data": {
      "text/html": [
       "<span style='color: cyan'>Output token 1:</span> NO, <span style='color: darkorange'>logprobs:</span> -3.128163257315464e-07, <span style='color: magenta'>linear probability:</span> 100.0%<br><span style='color: cyan'>Output token 2:</span>  NO, <span style='color: darkorange'>logprobs:</span> -15.125, <span style='color: magenta'>linear probability:</span> 0.0%<br>"
      ],
      "text/plain": [
       "<IPython.core.display.HTML object>"
      ]
     },
     "metadata": {},
     "output_type": "display_data"
    },
    {
     "name": "stdout",
     "output_type": "stream",
     "text": [
      "\n",
      "\n",
      "\n",
      "Headline: U.S. Patent Nov. 6, 1984 Sheet 1 of 5 4,481,301 \n",
      " GAS RECYCLE \n",
      " INERT GAS \n",
      " GAS FEED \n",
      "   \n"
     ]
    },
    {
     "name": "stderr",
     "output_type": "stream",
     "text": [
      "2025-03-17 20:44:40,365 - INFO - HTTP Request: POST https://api.openai.com/v1/chat/completions \"HTTP/1.1 200 OK\"\n"
     ]
    },
    {
     "data": {
      "text/html": [
       "<span style='color: cyan'>Output token 1:</span> NO, <span style='color: darkorange'>logprobs:</span> -1.9361264946837764e-07, <span style='color: magenta'>linear probability:</span> 100.0%<br><span style='color: cyan'>Output token 2:</span>  NO, <span style='color: darkorange'>logprobs:</span> -15.75, <span style='color: magenta'>linear probability:</span> 0.0%<br>"
      ],
      "text/plain": [
       "<IPython.core.display.HTML object>"
      ]
     },
     "metadata": {},
     "output_type": "display_data"
    },
    {
     "name": "stdout",
     "output_type": "stream",
     "text": [
      "\n",
      "\n",
      "\n",
      "Headline: \n"
     ]
    },
    {
     "data": {
      "text/html": [
       "<span style='color: cyan'>Output token 1:</span> NO, <span style='color: darkorange'>logprobs:</span> 0.0, <span style='color: magenta'>linear probability:</span> 100.0%<br><span style='color: cyan'>Output token 2:</span> YES, <span style='color: darkorange'>logprobs:</span> -inf, <span style='color: magenta'>linear probability:</span> 0.0%<br>"
      ],
      "text/plain": [
       "<IPython.core.display.HTML object>"
      ]
     },
     "metadata": {},
     "output_type": "display_data"
    },
    {
     "name": "stdout",
     "output_type": "stream",
     "text": [
      "\n",
      "\n",
      "\n",
      "Headline: 4,481,301 Sheet 3 of 5 U.S. Patent Nov. 6, 1984 \n",
      " LSÅTVLVO Z'XE DE LSÅTVIVO y o Oi LV8 ZO/#70 SA Å LISNEC] \n",
      " MSNBC OO/SWWS)   \n"
     ]
    },
    {
     "name": "stderr",
     "output_type": "stream",
     "text": [
      "2025-03-17 20:44:41,010 - INFO - HTTP Request: POST https://api.openai.com/v1/chat/completions \"HTTP/1.1 200 OK\"\n"
     ]
    },
    {
     "data": {
      "text/html": [
       "<span style='color: cyan'>Output token 1:</span> NO, <span style='color: darkorange'>logprobs:</span> -1.9361264946837764e-07, <span style='color: magenta'>linear probability:</span> 100.0%<br><span style='color: cyan'>Output token 2:</span>  NO, <span style='color: darkorange'>logprobs:</span> -16.25, <span style='color: magenta'>linear probability:</span> 0.0%<br>"
      ],
      "text/plain": [
       "<IPython.core.display.HTML object>"
      ]
     },
     "metadata": {},
     "output_type": "display_data"
    },
    {
     "name": "stdout",
     "output_type": "stream",
     "text": [
      "\n",
      "\n",
      "\n",
      "Headline: U.S. Patent Nov. 6, 1984 Sheet 4 of 5 4,481,301 \n",
      " ON \n",
      " GN \n",
      " O N s 9 a. s \n",
      " V & al 3 s cos O g s \n",
      " N L. Q s cos 2 v C) \n",
      " C O) S \n",
      " OO/SWWOALISN3O s   \n"
     ]
    },
    {
     "name": "stderr",
     "output_type": "stream",
     "text": [
      "2025-03-17 20:44:51,154 - INFO - HTTP Request: POST https://api.openai.com/v1/chat/completions \"HTTP/1.1 200 OK\"\n"
     ]
    },
    {
     "data": {
      "text/html": [
       "<span style='color: cyan'>Output token 1:</span> NO, <span style='color: darkorange'>logprobs:</span> -3.128163257315464e-07, <span style='color: magenta'>linear probability:</span> 100.0%<br><span style='color: cyan'>Output token 2:</span>  NO, <span style='color: darkorange'>logprobs:</span> -15.25, <span style='color: magenta'>linear probability:</span> 0.0%<br>"
      ],
      "text/plain": [
       "<IPython.core.display.HTML object>"
      ]
     },
     "metadata": {},
     "output_type": "display_data"
    },
    {
     "name": "stdout",
     "output_type": "stream",
     "text": [
      "\n",
      "\n",
      "\n",
      "Headline: \n"
     ]
    },
    {
     "data": {
      "text/html": [
       "<span style='color: cyan'>Output token 1:</span> NO, <span style='color: darkorange'>logprobs:</span> 0.0, <span style='color: magenta'>linear probability:</span> 100.0%<br><span style='color: cyan'>Output token 2:</span> YES, <span style='color: darkorange'>logprobs:</span> -inf, <span style='color: magenta'>linear probability:</span> 0.0%<br>"
      ],
      "text/plain": [
       "<IPython.core.display.HTML object>"
      ]
     },
     "metadata": {},
     "output_type": "display_data"
    },
    {
     "name": "stdout",
     "output_type": "stream",
     "text": [
      "\n",
      "\n",
      "\n",
      "Headline: 4,481,301 \n",
      " HGHLY ACTIVE CATALYST COMPOSITION \n",
      " FOR POLYMERIZING ALEPHA-OLEFNS \n",
      " CROSS REFERENCE TO RELATED \n",
      " APPLICATION \n",
      " This application is a continuation-in-part of U.S. ap \n",
      " plication Ser. No. 3\n"
     ]
    },
    {
     "name": "stderr",
     "output_type": "stream",
     "text": [
      "2025-03-17 20:44:51,974 - INFO - HTTP Request: POST https://api.openai.com/v1/chat/completions \"HTTP/1.1 200 OK\"\n"
     ]
    },
    {
     "data": {
      "text/html": [
       "<span style='color: cyan'>Output token 1:</span> NO, <span style='color: darkorange'>logprobs:</span> -0.001170460251159966, <span style='color: magenta'>linear probability:</span> 99.88%<br><span style='color: cyan'>Output token 2:</span> YES, <span style='color: darkorange'>logprobs:</span> -6.751170635223389, <span style='color: magenta'>linear probability:</span> 0.12%<br>"
      ],
      "text/plain": [
       "<IPython.core.display.HTML object>"
      ]
     },
     "metadata": {},
     "output_type": "display_data"
    },
    {
     "name": "stdout",
     "output_type": "stream",
     "text": [
      "\n",
      "\n",
      "\n",
      "Headline: 4,481,301 3 (i) contacting a solid, porous carrier having reactive OH groups with a liquid in the absence of ball milling, said liquid containing at least one organomagnesium composition having the em\n"
     ]
    },
    {
     "name": "stderr",
     "output_type": "stream",
     "text": [
      "2025-03-17 20:44:52,690 - INFO - HTTP Request: POST https://api.openai.com/v1/chat/completions \"HTTP/1.1 200 OK\"\n"
     ]
    },
    {
     "data": {
      "text/html": [
       "<span style='color: cyan'>Output token 1:</span> NO, <span style='color: darkorange'>logprobs:</span> -4.320199877838604e-07, <span style='color: magenta'>linear probability:</span> 100.0%<br><span style='color: cyan'>Output token 2:</span> YES, <span style='color: darkorange'>logprobs:</span> -15.0, <span style='color: magenta'>linear probability:</span> 0.0%<br>"
      ],
      "text/plain": [
       "<IPython.core.display.HTML object>"
      ]
     },
     "metadata": {},
     "output_type": "display_data"
    },
    {
     "name": "stdout",
     "output_type": "stream",
     "text": [
      "\n",
      "\n",
      "\n",
      "Headline: 4,481,301 5 Chemically bound water, as represented by a pres ence of OH groups in the carrier, may be present when the carrier is contacted with water-reactive magnesium compounds in accordance with a\n"
     ]
    },
    {
     "name": "stderr",
     "output_type": "stream",
     "text": [
      "2025-03-17 20:44:53,513 - INFO - HTTP Request: POST https://api.openai.com/v1/chat/completions \"HTTP/1.1 200 OK\"\n"
     ]
    },
    {
     "data": {
      "text/html": [
       "<span style='color: cyan'>Output token 1:</span> NO, <span style='color: darkorange'>logprobs:</span> -1.9361264946837764e-07, <span style='color: magenta'>linear probability:</span> 100.0%<br><span style='color: cyan'>Output token 2:</span>  NO, <span style='color: darkorange'>logprobs:</span> -16.125, <span style='color: magenta'>linear probability:</span> 0.0%<br>"
      ],
      "text/plain": [
       "<IPython.core.display.HTML object>"
      ]
     },
     "metadata": {},
     "output_type": "display_data"
    },
    {
     "name": "stdout",
     "output_type": "stream",
     "text": [
      "\n",
      "\n",
      "\n",
      "Headline: 4,481,301 \n",
      " C2H5 \n",
      " O \n",
      " Although organomagnesium compounds of the for \n",
      " mula RMgX tend to be insoluble in non-Lewis base solvents such as hexane, these organomagnesium com pounds may be completely solu\n"
     ]
    },
    {
     "name": "stderr",
     "output_type": "stream",
     "text": [
      "2025-03-17 20:44:54,153 - INFO - HTTP Request: POST https://api.openai.com/v1/chat/completions \"HTTP/1.1 200 OK\"\n"
     ]
    },
    {
     "data": {
      "text/html": [
       "<span style='color: cyan'>Output token 1:</span> NO, <span style='color: darkorange'>logprobs:</span> -3.128163257315464e-07, <span style='color: magenta'>linear probability:</span> 100.0%<br><span style='color: cyan'>Output token 2:</span>  NO, <span style='color: darkorange'>logprobs:</span> -15.75, <span style='color: magenta'>linear probability:</span> 0.0%<br>"
      ],
      "text/plain": [
       "<IPython.core.display.HTML object>"
      ]
     },
     "metadata": {},
     "output_type": "display_data"
    },
    {
     "name": "stdout",
     "output_type": "stream",
     "text": [
      "\n",
      "\n",
      "\n",
      "Headline: 4,481,301 \n",
      " may, optionally, be in the form of a complex with one or more electron donating agents (i.e. Lewis bases). More particularly, when ethylmagnesium chloride is precipi tated from a hexane/te\n"
     ]
    },
    {
     "name": "stderr",
     "output_type": "stream",
     "text": [
      "2025-03-17 20:44:54,913 - INFO - HTTP Request: POST https://api.openai.com/v1/chat/completions \"HTTP/1.1 200 OK\"\n"
     ]
    },
    {
     "data": {
      "text/html": [
       "<span style='color: cyan'>Output token 1:</span> NO, <span style='color: darkorange'>logprobs:</span> -4.961759259458631e-06, <span style='color: magenta'>linear probability:</span> 100.0%<br><span style='color: cyan'>Output token 2:</span> YES, <span style='color: darkorange'>logprobs:</span> -12.250004768371582, <span style='color: magenta'>linear probability:</span> 0.0%<br>"
      ],
      "text/plain": [
       "<IPython.core.display.HTML object>"
      ]
     },
     "metadata": {},
     "output_type": "display_data"
    },
    {
     "name": "stdout",
     "output_type": "stream",
     "text": [
      "\n",
      "\n",
      "\n",
      "Headline: 4,481,301 11 \n",
      " alkoxide portion thereof is a C1-C6 alkoxide), or mix tures thereof. A preferred tetravalent titanium com pound is TiCl4. It may also be possible to replace some or all of the above-men\n"
     ]
    },
    {
     "name": "stderr",
     "output_type": "stream",
     "text": [
      "2025-03-17 20:44:55,622 - INFO - HTTP Request: POST https://api.openai.com/v1/chat/completions \"HTTP/1.1 200 OK\"\n"
     ]
    },
    {
     "data": {
      "text/html": [
       "<span style='color: cyan'>Output token 1:</span> NO, <span style='color: darkorange'>logprobs:</span> -7.505351095460355e-05, <span style='color: magenta'>linear probability:</span> 99.99%<br><span style='color: cyan'>Output token 2:</span> YES, <span style='color: darkorange'>logprobs:</span> -9.500075340270996, <span style='color: magenta'>linear probability:</span> 0.01%<br>"
      ],
      "text/plain": [
       "<IPython.core.display.HTML object>"
      ]
     },
     "metadata": {},
     "output_type": "display_data"
    },
    {
     "name": "stdout",
     "output_type": "stream",
     "text": [
      "\n",
      "\n",
      "\n",
      "Headline: 4,481,301 13 \n",
      " certain aspects of the present invention is felt to be sufficient to produce a linear low density polyethylene polymer which is an ethylene/1-hexene copolymer, e.g., having a density of\n"
     ]
    },
    {
     "name": "stderr",
     "output_type": "stream",
     "text": [
      "2025-03-17 20:44:56,419 - INFO - HTTP Request: POST https://api.openai.com/v1/chat/completions \"HTTP/1.1 200 OK\"\n"
     ]
    },
    {
     "data": {
      "text/html": [
       "<span style='color: cyan'>Output token 1:</span> NO, <span style='color: darkorange'>logprobs:</span> -1.7432603272027336e-06, <span style='color: magenta'>linear probability:</span> 100.0%<br><span style='color: cyan'>Output token 2:</span> YES, <span style='color: darkorange'>logprobs:</span> -13.375001907348633, <span style='color: magenta'>linear probability:</span> 0.0%<br>"
      ],
      "text/plain": [
       "<IPython.core.display.HTML object>"
      ]
     },
     "metadata": {},
     "output_type": "display_data"
    },
    {
     "name": "stdout",
     "output_type": "stream",
     "text": [
      "\n",
      "\n",
      "\n",
      "Headline: 4,481,301 15 \n",
      " fluidized bed through distribution plate 20. The com pressor 25 can also be placed upstream of the heat ex changer 26. The distribution plate 20 plays an important role in the operation\n"
     ]
    },
    {
     "name": "stderr",
     "output_type": "stream",
     "text": [
      "2025-03-17 20:44:56,956 - INFO - HTTP Request: POST https://api.openai.com/v1/chat/completions \"HTTP/1.1 200 OK\"\n"
     ]
    },
    {
     "data": {
      "text/html": [
       "<span style='color: cyan'>Output token 1:</span> NO, <span style='color: darkorange'>logprobs:</span> -2.45848218582978e-06, <span style='color: magenta'>linear probability:</span> 100.0%<br><span style='color: cyan'>Output token 2:</span> YES, <span style='color: darkorange'>logprobs:</span> -13.00000286102295, <span style='color: magenta'>linear probability:</span> 0.0%<br>"
      ],
      "text/plain": [
       "<IPython.core.display.HTML object>"
      ]
     },
     "metadata": {},
     "output_type": "display_data"
    },
    {
     "name": "stdout",
     "output_type": "stream",
     "text": [
      "\n",
      "\n",
      "\n",
      "Headline: 4,481,301 17 \n",
      " is then opened to deliver the product to an external recovery zone. Valve 38 is then closed to await the next product recovery operation. \n",
      " Finally, the fluidized bed reactor is equippe\n"
     ]
    },
    {
     "name": "stderr",
     "output_type": "stream",
     "text": [
      "2025-03-17 20:44:57,618 - INFO - HTTP Request: POST https://api.openai.com/v1/chat/completions \"HTTP/1.1 200 OK\"\n"
     ]
    },
    {
     "data": {
      "text/html": [
       "<span style='color: cyan'>Output token 1:</span> YES, <span style='color: darkorange'>logprobs:</span> -3.650518920039758e-06, <span style='color: magenta'>linear probability:</span> 100.0%<br><span style='color: cyan'>Output token 2:</span> **, <span style='color: darkorange'>logprobs:</span> -13.000003814697266, <span style='color: magenta'>linear probability:</span> 0.0%<br>"
      ],
      "text/plain": [
       "<IPython.core.display.HTML object>"
      ]
     },
     "metadata": {},
     "output_type": "display_data"
    },
    {
     "name": "stdout",
     "output_type": "stream",
     "text": [
      "\n",
      "\n",
      "\n",
      "Headline: 4,481,301 19 \n",
      " substantially in accordance with this Karol et al patent are referred to herein as \"comparative A' catalysts or simply as 'A' catalysts. The comparative A catalysts are felt to be subst\n"
     ]
    },
    {
     "name": "stderr",
     "output_type": "stream",
     "text": [
      "2025-03-17 20:44:58,253 - INFO - HTTP Request: POST https://api.openai.com/v1/chat/completions \"HTTP/1.1 200 OK\"\n"
     ]
    },
    {
     "data": {
      "text/html": [
       "<span style='color: cyan'>Output token 1:</span> YES, <span style='color: darkorange'>logprobs:</span> -1.3856492842023727e-06, <span style='color: magenta'>linear probability:</span> 100.0%<br><span style='color: cyan'>Output token 2:</span>  YES, <span style='color: darkorange'>logprobs:</span> -14.000000953674316, <span style='color: magenta'>linear probability:</span> 0.0%<br>"
      ],
      "text/plain": [
       "<IPython.core.display.HTML object>"
      ]
     },
     "metadata": {},
     "output_type": "display_data"
    },
    {
     "name": "stdout",
     "output_type": "stream",
     "text": [
      "\n",
      "\n",
      "\n",
      "Headline: 4,481,301 21 I2 melt index level over a range of magnesium loadings into Davison 952 silica dried at 200 C. \n",
      " If silica dried at 800 C, is used in place of silica dried at 200 C., the copolymerization\n"
     ]
    },
    {
     "name": "stderr",
     "output_type": "stream",
     "text": [
      "2025-03-17 20:44:59,136 - INFO - HTTP Request: POST https://api.openai.com/v1/chat/completions \"HTTP/1.1 200 OK\"\n"
     ]
    },
    {
     "data": {
      "text/html": [
       "<span style='color: cyan'>Output token 1:</span> YES, <span style='color: darkorange'>logprobs:</span> -7.822646693966817e-06, <span style='color: magenta'>linear probability:</span> 100.0%<br><span style='color: cyan'>Output token 2:</span> **, <span style='color: darkorange'>logprobs:</span> -12.125007629394531, <span style='color: magenta'>linear probability:</span> 0.0%<br>"
      ],
      "text/plain": [
       "<IPython.core.display.HTML object>"
      ]
     },
     "metadata": {},
     "output_type": "display_data"
    },
    {
     "name": "stdout",
     "output_type": "stream",
     "text": [
      "\n",
      "\n",
      "\n",
      "Headline: 4,481,301 23 The catalyst of Example 2 may generate about four times as much heat (per area of catalyst particle) as the Example 6 catalyst. This extra heat could result in se vere temperature gradien\n"
     ]
    },
    {
     "name": "stderr",
     "output_type": "stream",
     "text": [
      "2025-03-17 20:44:59,716 - INFO - HTTP Request: POST https://api.openai.com/v1/chat/completions \"HTTP/1.1 200 OK\"\n"
     ]
    },
    {
     "data": {
      "text/html": [
       "<span style='color: cyan'>Output token 1:</span> YES, <span style='color: darkorange'>logprobs:</span> -2.45848218582978e-06, <span style='color: magenta'>linear probability:</span> 100.0%<br><span style='color: cyan'>Output token 2:</span> **, <span style='color: darkorange'>logprobs:</span> -13.62500286102295, <span style='color: magenta'>linear probability:</span> 0.0%<br>"
      ],
      "text/plain": [
       "<IPython.core.display.HTML object>"
      ]
     },
     "metadata": {},
     "output_type": "display_data"
    },
    {
     "name": "stdout",
     "output_type": "stream",
     "text": [
      "\n",
      "\n",
      "\n",
      "Headline: 4,481,301 25 \n",
      " COMPARATIVE EXAMPLE B \n",
      " The catalyst of this Comparative Example was pre pared in accordance with Example 7 of the Yamaguchi \n",
      " et al U.S. Pat. No. 3,989,881. One will readily note the s\n"
     ]
    },
    {
     "name": "stderr",
     "output_type": "stream",
     "text": [
      "2025-03-17 20:45:00,294 - INFO - HTTP Request: POST https://api.openai.com/v1/chat/completions \"HTTP/1.1 200 OK\"\n"
     ]
    },
    {
     "data": {
      "text/html": [
       "<span style='color: cyan'>Output token 1:</span> YES, <span style='color: darkorange'>logprobs:</span> -1.4855663721391466e-05, <span style='color: magenta'>linear probability:</span> 100.0%<br><span style='color: cyan'>Output token 2:</span> **, <span style='color: darkorange'>logprobs:</span> -11.250015258789062, <span style='color: magenta'>linear probability:</span> 0.0%<br>"
      ],
      "text/plain": [
       "<IPython.core.display.HTML object>"
      ]
     },
     "metadata": {},
     "output_type": "display_data"
    },
    {
     "name": "stdout",
     "output_type": "stream",
     "text": [
      "\n",
      "\n",
      "\n",
      "Headline: 4,481,301 27 28 \n",
      " TABLE IX-continued \n",
      " COMPARISON OF EX.8 CATALYST WITH BAND C \n",
      " Run Identification Polymerization Conditions\" Product Obtained \n",
      " Catayst Cat. Wt. H2 Total P TEAL Al/Ti Hexene Density \n"
     ]
    },
    {
     "name": "stderr",
     "output_type": "stream",
     "text": [
      "2025-03-17 20:45:01,468 - INFO - HTTP Request: POST https://api.openai.com/v1/chat/completions \"HTTP/1.1 200 OK\"\n"
     ]
    },
    {
     "data": {
      "text/html": [
       "<span style='color: cyan'>Output token 1:</span> YES, <span style='color: darkorange'>logprobs:</span> -3.292907877039397e-06, <span style='color: magenta'>linear probability:</span> 100.0%<br><span style='color: cyan'>Output token 2:</span> **, <span style='color: darkorange'>logprobs:</span> -13.12500286102295, <span style='color: magenta'>linear probability:</span> 0.0%<br>"
      ],
      "text/plain": [
       "<IPython.core.display.HTML object>"
      ]
     },
     "metadata": {},
     "output_type": "display_data"
    },
    {
     "name": "stdout",
     "output_type": "stream",
     "text": [
      "\n",
      "\n",
      "\n",
      "Headline: 4,481,301 29 moles of said organomagnesium composition to the number of moles of OH groups on said silica being from about 1.1 to about 2.5, whereby said or ganomagnesium composition is reacted with s\n"
     ]
    },
    {
     "name": "stderr",
     "output_type": "stream",
     "text": [
      "2025-03-17 20:45:02,112 - INFO - HTTP Request: POST https://api.openai.com/v1/chat/completions \"HTTP/1.1 200 OK\"\n"
     ]
    },
    {
     "data": {
      "text/html": [
       "<span style='color: cyan'>Output token 1:</span> NO, <span style='color: darkorange'>logprobs:</span> -0.000553151941858232, <span style='color: magenta'>linear probability:</span> 99.94%<br><span style='color: cyan'>Output token 2:</span> YES, <span style='color: darkorange'>logprobs:</span> -7.500553131103516, <span style='color: magenta'>linear probability:</span> 0.06%<br>"
      ],
      "text/plain": [
       "<IPython.core.display.HTML object>"
      ]
     },
     "metadata": {},
     "output_type": "display_data"
    },
    {
     "name": "stdout",
     "output_type": "stream",
     "text": [
      "\n",
      "\n",
      "\n",
      "Headline: UNITED STATES PATENT AND TRADEMARK OFFICE \n",
      " CERTIFICATE OF CORRECTION \n",
      "PATENT NO. : 4,481,301 Page 1 of 2 \n",
      " DATED : November 6, 1984 \n",
      "INVENTOR(S) : T.E. NOWLIN, and K.P. WAGNER \n",
      " It is Certified that \n"
     ]
    },
    {
     "name": "stderr",
     "output_type": "stream",
     "text": [
      "2025-03-17 20:45:02,690 - INFO - HTTP Request: POST https://api.openai.com/v1/chat/completions \"HTTP/1.1 200 OK\"\n"
     ]
    },
    {
     "data": {
      "text/html": [
       "<span style='color: cyan'>Output token 1:</span> NO, <span style='color: darkorange'>logprobs:</span> -1.9361264946837764e-07, <span style='color: magenta'>linear probability:</span> 100.0%<br><span style='color: cyan'>Output token 2:</span>  NO, <span style='color: darkorange'>logprobs:</span> -16.0, <span style='color: magenta'>linear probability:</span> 0.0%<br>"
      ],
      "text/plain": [
       "<IPython.core.display.HTML object>"
      ]
     },
     "metadata": {},
     "output_type": "display_data"
    },
    {
     "name": "stdout",
     "output_type": "stream",
     "text": [
      "\n",
      "\n",
      "\n",
      "Headline: — \n",
      " UNITED STATES PATENT AND TRADEMARK OFFICE \n",
      " CERTIFICATE OF CORRECTION \n",
      "PATENT NO. \n",
      "DATED \n",
      "INVENTOR(S) : \n",
      " It is Certified that error appears in the above-identified patent and that said Letters Pa\n"
     ]
    },
    {
     "name": "stderr",
     "output_type": "stream",
     "text": [
      "2025-03-17 20:45:03,191 - INFO - HTTP Request: POST https://api.openai.com/v1/chat/completions \"HTTP/1.1 200 OK\"\n"
     ]
    },
    {
     "data": {
      "text/html": [
       "<span style='color: cyan'>Output token 1:</span> NO, <span style='color: darkorange'>logprobs:</span> -3.128163257315464e-07, <span style='color: magenta'>linear probability:</span> 100.0%<br><span style='color: cyan'>Output token 2:</span>  NO, <span style='color: darkorange'>logprobs:</span> -15.375, <span style='color: magenta'>linear probability:</span> 0.0%<br>"
      ],
      "text/plain": [
       "<IPython.core.display.HTML object>"
      ]
     },
     "metadata": {},
     "output_type": "display_data"
    },
    {
     "name": "stdout",
     "output_type": "stream",
     "text": [
      "\n",
      "\n",
      "\n",
      "Headline: United States Patent (19) \n",
      " Nowlin et al. \n",
      " 54 \n",
      " 75 \n",
      " 73) \n",
      " (21) \n",
      " 22) \n",
      " 51 (52) \n",
      " (58) \n",
      " 56) CATALYST COMPOSITION FOR \n",
      " POLYMERZNG ALPHA-OLEFIN \n",
      " POLYMERS OF NARROW MOLECULAR \n",
      " WEIGHT DISTRIBUTION \n",
      " \n"
     ]
    },
    {
     "name": "stderr",
     "output_type": "stream",
     "text": [
      "2025-03-17 20:45:04,527 - INFO - HTTP Request: POST https://api.openai.com/v1/chat/completions \"HTTP/1.1 200 OK\"\n"
     ]
    },
    {
     "data": {
      "text/html": [
       "<span style='color: cyan'>Output token 1:</span> NO, <span style='color: darkorange'>logprobs:</span> -5.512236498361744e-07, <span style='color: magenta'>linear probability:</span> 100.0%<br><span style='color: cyan'>Output token 2:</span>  NO, <span style='color: darkorange'>logprobs:</span> -14.750000953674316, <span style='color: magenta'>linear probability:</span> 0.0%<br>"
      ],
      "text/plain": [
       "<IPython.core.display.HTML object>"
      ]
     },
     "metadata": {},
     "output_type": "display_data"
    },
    {
     "name": "stdout",
     "output_type": "stream",
     "text": [
      "\n",
      "\n",
      "\n",
      "Headline: U.S. Patent Jul.18, 1989 Sheet 1 of 4 4,849,389 \n",
      " s N l \n",
      " f i \n",
      " s \n",
      " (SONWSOHL) (OHILWO W9I SWW.9) \n",
      " MINO?OOld   \n"
     ]
    },
    {
     "name": "stderr",
     "output_type": "stream",
     "text": [
      "2025-03-17 20:45:05,094 - INFO - HTTP Request: POST https://api.openai.com/v1/chat/completions \"HTTP/1.1 200 OK\"\n"
     ]
    },
    {
     "data": {
      "text/html": [
       "<span style='color: cyan'>Output token 1:</span> NO, <span style='color: darkorange'>logprobs:</span> -1.9361264946837764e-07, <span style='color: magenta'>linear probability:</span> 100.0%<br><span style='color: cyan'>Output token 2:</span>  NO, <span style='color: darkorange'>logprobs:</span> -16.125, <span style='color: magenta'>linear probability:</span> 0.0%<br>"
      ],
      "text/plain": [
       "<IPython.core.display.HTML object>"
      ]
     },
     "metadata": {},
     "output_type": "display_data"
    },
    {
     "name": "stdout",
     "output_type": "stream",
     "text": [
      "\n",
      "\n",
      "\n",
      "Headline: U.S. Patent Jul.18, 1989 Sheet 2 of 4 4,849,389 \n",
      " MFR vs -HEXENE CONTENT . 34 TEAL OR TMA AS COCATALYST - CATALYST OF EXAMPLE \n",
      " 30 u ul-F 28 u- - \n",
      " 2O 2 2.4 2.8 3.2 3.6 4.0 4.4 4.8 \n",
      " -HEXENE CONTENT I\n"
     ]
    },
    {
     "name": "stderr",
     "output_type": "stream",
     "text": [
      "2025-03-17 20:45:05,691 - INFO - HTTP Request: POST https://api.openai.com/v1/chat/completions \"HTTP/1.1 200 OK\"\n"
     ]
    },
    {
     "data": {
      "text/html": [
       "<span style='color: cyan'>Output token 1:</span> NO, <span style='color: darkorange'>logprobs:</span> -3.128163257315464e-07, <span style='color: magenta'>linear probability:</span> 100.0%<br><span style='color: cyan'>Output token 2:</span> YES, <span style='color: darkorange'>logprobs:</span> -15.75, <span style='color: magenta'>linear probability:</span> 0.0%<br>"
      ],
      "text/plain": [
       "<IPython.core.display.HTML object>"
      ]
     },
     "metadata": {},
     "output_type": "display_data"
    },
    {
     "name": "stdout",
     "output_type": "stream",
     "text": [
      "\n",
      "\n",
      "\n",
      "Headline: U.S. Patent Jul.18, 1989 Sheet 3 of 4 4,849,389 \n",
      " N 7 EFFECT OF DRYING TEMPERATURE \n",
      " PRODUCTIVITY WITH TEAL OR TMA \n",
      " 2 TEAL \n",
      " NTMA. \n",
      " DRY 90'C U DRY 55 DRYING TEMPERATURE FIG. \n",
      " CORRELATION BETWEEN MF\n"
     ]
    },
    {
     "name": "stderr",
     "output_type": "stream",
     "text": [
      "2025-03-17 20:45:06,180 - INFO - HTTP Request: POST https://api.openai.com/v1/chat/completions \"HTTP/1.1 200 OK\"\n"
     ]
    },
    {
     "data": {
      "text/html": [
       "<span style='color: cyan'>Output token 1:</span> NO, <span style='color: darkorange'>logprobs:</span> -7.107425062713446e-06, <span style='color: magenta'>linear probability:</span> 100.0%<br><span style='color: cyan'>Output token 2:</span> YES, <span style='color: darkorange'>logprobs:</span> -11.875006675720215, <span style='color: magenta'>linear probability:</span> 0.0%<br>"
      ],
      "text/plain": [
       "<IPython.core.display.HTML object>"
      ]
     },
     "metadata": {},
     "output_type": "display_data"
    },
    {
     "name": "stdout",
     "output_type": "stream",
     "text": [
      "\n",
      "\n",
      "\n",
      "Headline: U.S. Patent Jul.18, 1989 Sheet 4 of 4 4,849,389 \n",
      " CORRELATION BETWEEN MFR AND TMA CONCENTRATION \n",
      " FOR A COMPARATIVE CATALYST (EXAMPLE 15B) AND THE INVENTIVE CATALYST (EXAMPLE: SMILAR TO \n",
      " EXAMPLE I) \n",
      "\n"
     ]
    },
    {
     "name": "stderr",
     "output_type": "stream",
     "text": [
      "2025-03-17 20:45:06,713 - INFO - HTTP Request: POST https://api.openai.com/v1/chat/completions \"HTTP/1.1 200 OK\"\n"
     ]
    },
    {
     "data": {
      "text/html": [
       "<span style='color: cyan'>Output token 1:</span> NO, <span style='color: darkorange'>logprobs:</span> -9.627176768844947e-05, <span style='color: magenta'>linear probability:</span> 99.99%<br><span style='color: cyan'>Output token 2:</span> YES, <span style='color: darkorange'>logprobs:</span> -9.250096321105957, <span style='color: magenta'>linear probability:</span> 0.01%<br>"
      ],
      "text/plain": [
       "<IPython.core.display.HTML object>"
      ]
     },
     "metadata": {},
     "output_type": "display_data"
    },
    {
     "name": "stdout",
     "output_type": "stream",
     "text": [
      "\n",
      "\n",
      "\n",
      "Headline: 4,849,389 1. \n",
      " CATALYST COMPOSITION FOR \n",
      " POLYMERIZING ALPHAOLEFN POLYMERS \n",
      " OF NARROW MOLECULAR WEIGHT \n",
      " DISTRIBUTION \n",
      " BACKGROUND OF THE INVENTION \n",
      " 1. Field of the Invention \n",
      " The present invention\n"
     ]
    },
    {
     "name": "stderr",
     "output_type": "stream",
     "text": [
      "2025-03-17 20:45:07,742 - INFO - HTTP Request: POST https://api.openai.com/v1/chat/completions \"HTTP/1.1 200 OK\"\n"
     ]
    },
    {
     "data": {
      "text/html": [
       "<span style='color: cyan'>Output token 1:</span> NO, <span style='color: darkorange'>logprobs:</span> -3.128163257315464e-07, <span style='color: magenta'>linear probability:</span> 100.0%<br><span style='color: cyan'>Output token 2:</span>  NO, <span style='color: darkorange'>logprobs:</span> -15.25, <span style='color: magenta'>linear probability:</span> 0.0%<br>"
      ],
      "text/plain": [
       "<IPython.core.display.HTML object>"
      ]
     },
     "metadata": {},
     "output_type": "display_data"
    },
    {
     "name": "stdout",
     "output_type": "stream",
     "text": [
      "\n",
      "\n",
      "\n",
      "Headline: 4,849,389 3 \n",
      " as publication No. 0231102, disclose an alpha-olefin polymerization catalyst composition activated with trimethylaluminum which produces polymers having \n",
      " relatively low values of MRF an\n"
     ]
    },
    {
     "name": "stderr",
     "output_type": "stream",
     "text": [
      "2025-03-17 20:45:08,460 - INFO - HTTP Request: POST https://api.openai.com/v1/chat/completions \"HTTP/1.1 200 OK\"\n"
     ]
    },
    {
     "data": {
      "text/html": [
       "<span style='color: cyan'>Output token 1:</span> NO, <span style='color: darkorange'>logprobs:</span> -2.176947600673884e-05, <span style='color: magenta'>linear probability:</span> 100.0%<br><span style='color: cyan'>Output token 2:</span> YES, <span style='color: darkorange'>logprobs:</span> -10.750021934509277, <span style='color: magenta'>linear probability:</span> 0.0%<br>"
      ],
      "text/plain": [
       "<IPython.core.display.HTML object>"
      ]
     },
     "metadata": {},
     "output_type": "display_data"
    },
    {
     "name": "stdout",
     "output_type": "stream",
     "text": [
      "\n",
      "\n",
      "\n",
      "Headline: 4,849,389 5 \n",
      " into the solvent, preferably while stirring, and heating the mixture is about 25 to about 100 C., preferably about 40 to about 60° C. The slurry is then contacted with the aforementioned\n"
     ]
    },
    {
     "name": "stderr",
     "output_type": "stream",
     "text": [
      "2025-03-17 20:45:09,072 - INFO - HTTP Request: POST https://api.openai.com/v1/chat/completions \"HTTP/1.1 200 OK\"\n"
     ]
    },
    {
     "data": {
      "text/html": [
       "<span style='color: cyan'>Output token 1:</span> YES, <span style='color: darkorange'>logprobs:</span> -0.014164448715746403, <span style='color: magenta'>linear probability:</span> 98.59%<br><span style='color: cyan'>Output token 2:</span> NO, <span style='color: darkorange'>logprobs:</span> -4.264164447784424, <span style='color: magenta'>linear probability:</span> 1.41%<br>"
      ],
      "text/plain": [
       "<IPython.core.display.HTML object>"
      ]
     },
     "metadata": {},
     "output_type": "display_data"
    },
    {
     "name": "stdout",
     "output_type": "stream",
     "text": [
      "\n",
      "\n",
      "\n",
      "Headline: 4,849,389 7 \n",
      " injection molding products which are resistant to warp ing or shrinking. \n",
      " Suitable transition metal compounds used herein are compounds of metals of Groups IVA, VA, VIA or VIII of the P\n"
     ]
    },
    {
     "name": "stderr",
     "output_type": "stream",
     "text": [
      "2025-03-17 20:45:09,895 - INFO - HTTP Request: POST https://api.openai.com/v1/chat/completions \"HTTP/1.1 200 OK\"\n"
     ]
    },
    {
     "data": {
      "text/html": [
       "<span style='color: cyan'>Output token 1:</span> NO, <span style='color: darkorange'>logprobs:</span> -0.00015872348740231246, <span style='color: magenta'>linear probability:</span> 99.98%<br><span style='color: cyan'>Output token 2:</span> YES, <span style='color: darkorange'>logprobs:</span> -8.750158309936523, <span style='color: magenta'>linear probability:</span> 0.02%<br>"
      ],
      "text/plain": [
       "<IPython.core.display.HTML object>"
      ]
     },
     "metadata": {},
     "output_type": "display_data"
    },
    {
     "name": "stdout",
     "output_type": "stream",
     "text": [
      "\n",
      "\n",
      "\n",
      "Headline: 4,849,389 9 \n",
      " known to those skilled in the art, such MFR values are indicative of a relatively narrow molecular weight dis tribution of the polymer. As is also known to those skilled in the art, such\n"
     ]
    },
    {
     "name": "stderr",
     "output_type": "stream",
     "text": [
      "2025-03-17 20:45:10,721 - INFO - HTTP Request: POST https://api.openai.com/v1/chat/completions \"HTTP/1.1 200 OK\"\n"
     ]
    },
    {
     "data": {
      "text/html": [
       "<span style='color: cyan'>Output token 1:</span> YES, <span style='color: darkorange'>logprobs:</span> -4.36574100604048e-06, <span style='color: magenta'>linear probability:</span> 100.0%<br><span style='color: cyan'>Output token 2:</span> **, <span style='color: darkorange'>logprobs:</span> -12.750004768371582, <span style='color: magenta'>linear probability:</span> 0.0%<br>"
      ],
      "text/plain": [
       "<IPython.core.display.HTML object>"
      ]
     },
     "metadata": {},
     "output_type": "display_data"
    },
    {
     "name": "stdout",
     "output_type": "stream",
     "text": [
      "\n",
      "\n",
      "\n",
      "Headline: 4,849,389 11 \n",
      " heated to about 80° C. under purge of dry nitrogen, was filled with 400 mls of dry hexane, 200 mls of dry 1-hex ane and 3.0 mls of triethylaluminum (25 wt % in hex \n",
      " ane). The reactor w\n"
     ]
    },
    {
     "name": "stderr",
     "output_type": "stream",
     "text": [
      "2025-03-17 20:45:11,277 - INFO - HTTP Request: POST https://api.openai.com/v1/chat/completions \"HTTP/1.1 200 OK\"\n"
     ]
    },
    {
     "data": {
      "text/html": [
       "<span style='color: cyan'>Output token 1:</span> YES, <span style='color: darkorange'>logprobs:</span> -2.2200749754119897e-06, <span style='color: magenta'>linear probability:</span> 100.0%<br><span style='color: cyan'>Output token 2:</span>  YES, <span style='color: darkorange'>logprobs:</span> -13.750001907348633, <span style='color: magenta'>linear probability:</span> 0.0%<br>"
      ],
      "text/plain": [
       "<IPython.core.display.HTML object>"
      ]
     },
     "metadata": {},
     "output_type": "display_data"
    },
    {
     "name": "stdout",
     "output_type": "stream",
     "text": [
      "\n",
      "\n",
      "\n",
      "Headline: 4,849,389 13 catalyst precursor was injected with ethylene overpres \n",
      " sure. The temperature was maintained at 80 C. and 150-200 grams of copolymer was produced in 50-60 \n",
      " minutes. The effect of increa\n"
     ]
    },
    {
     "name": "stderr",
     "output_type": "stream",
     "text": [
      "2025-03-17 20:45:12,075 - INFO - HTTP Request: POST https://api.openai.com/v1/chat/completions \"HTTP/1.1 200 OK\"\n"
     ]
    },
    {
     "data": {
      "text/html": [
       "<span style='color: cyan'>Output token 1:</span> YES, <span style='color: darkorange'>logprobs:</span> -3.173704271830502e-06, <span style='color: magenta'>linear probability:</span> 100.0%<br><span style='color: cyan'>Output token 2:</span> **, <span style='color: darkorange'>logprobs:</span> -13.00000286102295, <span style='color: magenta'>linear probability:</span> 0.0%<br>"
      ],
      "text/plain": [
       "<IPython.core.display.HTML object>"
      ]
     },
     "metadata": {},
     "output_type": "display_data"
    },
    {
     "name": "stdout",
     "output_type": "stream",
     "text": [
      "\n",
      "\n",
      "\n",
      "Headline: 4,849,389 15 \n",
      " The data indicate that the productivity of this catalyst precursor is particularly sensitive to the drying condi \n",
      " tions. The precursor dried at 55 C. is about 25 percent more productiv\n"
     ]
    },
    {
     "name": "stderr",
     "output_type": "stream",
     "text": [
      "2025-03-17 20:45:12,689 - INFO - HTTP Request: POST https://api.openai.com/v1/chat/completions \"HTTP/1.1 200 OK\"\n"
     ]
    },
    {
     "data": {
      "text/html": [
       "<span style='color: cyan'>Output token 1:</span> NO, <span style='color: darkorange'>logprobs:</span> -4.56102097814437e-05, <span style='color: magenta'>linear probability:</span> 100.0%<br><span style='color: cyan'>Output token 2:</span> YES, <span style='color: darkorange'>logprobs:</span> -10.000045776367188, <span style='color: magenta'>linear probability:</span> 0.0%<br>"
      ],
      "text/plain": [
       "<IPython.core.display.HTML object>"
      ]
     },
     "metadata": {},
     "output_type": "display_data"
    },
    {
     "name": "stdout",
     "output_type": "stream",
     "text": [
      "\n",
      "\n",
      "\n",
      "Headline: 4,849,389 17 \n",
      " (iii) contacting the slurry of step (ii) with at least one transition metal compound soluble in the non-polar \n",
      " solvent; and (iv) combining the product of step (iii) with trimethyl \n",
      " al\n"
     ]
    },
    {
     "name": "stderr",
     "output_type": "stream",
     "text": [
      "2025-03-17 20:45:13,219 - INFO - HTTP Request: POST https://api.openai.com/v1/chat/completions \"HTTP/1.1 200 OK\"\n"
     ]
    },
    {
     "data": {
      "text/html": [
       "<span style='color: cyan'>Output token 1:</span> NO, <span style='color: darkorange'>logprobs:</span> -8.061054359131958e-06, <span style='color: magenta'>linear probability:</span> 100.0%<br><span style='color: cyan'>Output token 2:</span> YES, <span style='color: darkorange'>logprobs:</span> -11.750007629394531, <span style='color: magenta'>linear probability:</span> 0.0%<br>"
      ],
      "text/plain": [
       "<IPython.core.display.HTML object>"
      ]
     },
     "metadata": {},
     "output_type": "display_data"
    },
    {
     "name": "stdout",
     "output_type": "stream",
     "text": [
      "\n",
      "\n",
      "\n",
      "Headline: United States Patent (19) \n",
      " Pullukat et al. \n",
      " (54) \n",
      " (75) \n",
      " 73) \n",
      " 21) \n",
      " 22) \n",
      " (51) (52) (58) \n",
      " (56) POLYMERIZATION CATALYST AND \n",
      " METHOD \n",
      " Inventors: Thomas J. Pullukat, Hoffman Estates; Raymond E. Ho\n"
     ]
    },
    {
     "name": "stderr",
     "output_type": "stream",
     "text": [
      "2025-03-17 20:45:14,180 - INFO - HTTP Request: POST https://api.openai.com/v1/chat/completions \"HTTP/1.1 200 OK\"\n"
     ]
    },
    {
     "data": {
      "text/html": [
       "<span style='color: cyan'>Output token 1:</span> NO, <span style='color: darkorange'>logprobs:</span> -3.128163257315464e-07, <span style='color: magenta'>linear probability:</span> 100.0%<br><span style='color: cyan'>Output token 2:</span>  NO, <span style='color: darkorange'>logprobs:</span> -15.375, <span style='color: magenta'>linear probability:</span> 0.0%<br>"
      ],
      "text/plain": [
       "<IPython.core.display.HTML object>"
      ]
     },
     "metadata": {},
     "output_type": "display_data"
    },
    {
     "name": "stdout",
     "output_type": "stream",
     "text": [
      "\n",
      "\n",
      "\n",
      "Headline: ; 4,374,753 1 \n",
      " POLYMERIZATION CATALYST AND METHOD \n",
      " BACKGROUND OF THE INVENTION \n",
      " In this invention, the polymerization catalysts useful in polymerizing and copolymerizing 1-olefins are pre \n",
      " pared b\n"
     ]
    },
    {
     "name": "stderr",
     "output_type": "stream",
     "text": [
      "2025-03-17 20:45:14,808 - INFO - HTTP Request: POST https://api.openai.com/v1/chat/completions \"HTTP/1.1 200 OK\"\n"
     ]
    },
    {
     "data": {
      "text/html": [
       "<span style='color: cyan'>Output token 1:</span> NO, <span style='color: darkorange'>logprobs:</span> -3.128163257315464e-07, <span style='color: magenta'>linear probability:</span> 100.0%<br><span style='color: cyan'>Output token 2:</span>  NO, <span style='color: darkorange'>logprobs:</span> -15.25, <span style='color: magenta'>linear probability:</span> 0.0%<br>"
      ],
      "text/plain": [
       "<IPython.core.display.HTML object>"
      ]
     },
     "metadata": {},
     "output_type": "display_data"
    },
    {
     "name": "stdout",
     "output_type": "stream",
     "text": [
      "\n",
      "\n",
      "\n",
      "Headline: 4,374,753 3 rotational molding applications can be manufactured. The catalysts of this invention are stable, particulate, \n",
      " and easy flowing. . . . . - \n",
      " The alcohol modification allows the production\n"
     ]
    },
    {
     "name": "stderr",
     "output_type": "stream",
     "text": [
      "2025-03-17 20:45:15,384 - INFO - HTTP Request: POST https://api.openai.com/v1/chat/completions \"HTTP/1.1 200 OK\"\n"
     ]
    },
    {
     "data": {
      "text/html": [
       "<span style='color: cyan'>Output token 1:</span> NO, <span style='color: darkorange'>logprobs:</span> -3.128163257315464e-07, <span style='color: magenta'>linear probability:</span> 100.0%<br><span style='color: cyan'>Output token 2:</span>  NO, <span style='color: darkorange'>logprobs:</span> -15.75, <span style='color: magenta'>linear probability:</span> 0.0%<br>"
      ],
      "text/plain": [
       "<IPython.core.display.HTML object>"
      ]
     },
     "metadata": {},
     "output_type": "display_data"
    },
    {
     "name": "stdout",
     "output_type": "stream",
     "text": [
      "\n",
      "\n",
      "\n",
      "Headline: 4,374,753 \n",
      " RSixn \n",
      " where m is 1, 2 or 3, n is 3, 2 or 1, respectively, and the total of m--n=4, X is a group chemically reactive with the hydroxyl groups of the silica or alumina such as chloride, am\n"
     ]
    },
    {
     "name": "stderr",
     "output_type": "stream",
     "text": [
      "2025-03-17 20:45:16,038 - INFO - HTTP Request: POST https://api.openai.com/v1/chat/completions \"HTTP/1.1 200 OK\"\n"
     ]
    },
    {
     "data": {
      "text/html": [
       "<span style='color: cyan'>Output token 1:</span> NO, <span style='color: darkorange'>logprobs:</span> -1.1472419600977446e-06, <span style='color: magenta'>linear probability:</span> 100.0%<br><span style='color: cyan'>Output token 2:</span> YES, <span style='color: darkorange'>logprobs:</span> -13.875000953674316, <span style='color: magenta'>linear probability:</span> 0.0%<br>"
      ],
      "text/plain": [
       "<IPython.core.display.HTML object>"
      ]
     },
     "metadata": {},
     "output_type": "display_data"
    },
    {
     "name": "stdout",
     "output_type": "stream",
     "text": [
      "\n",
      "\n",
      "\n",
      "Headline: 4,374,753 7 \n",
      " atmospheric to 10,000 psi gauge. It is carried out prefer ably under the technically interesting pressure in the \n",
      " range of from 300-800 psi. The melt index of the polyethylene produced \n"
     ]
    },
    {
     "name": "stderr",
     "output_type": "stream",
     "text": [
      "2025-03-17 20:45:16,584 - INFO - HTTP Request: POST https://api.openai.com/v1/chat/completions \"HTTP/1.1 200 OK\"\n"
     ]
    },
    {
     "data": {
      "text/html": [
       "<span style='color: cyan'>Output token 1:</span> YES, <span style='color: darkorange'>logprobs:</span> -2.45848218582978e-06, <span style='color: magenta'>linear probability:</span> 100.0%<br><span style='color: cyan'>Output token 2:</span> **, <span style='color: darkorange'>logprobs:</span> -13.62500286102295, <span style='color: magenta'>linear probability:</span> 0.0%<br>"
      ],
      "text/plain": [
       "<IPython.core.display.HTML object>"
      ]
     },
     "metadata": {},
     "output_type": "display_data"
    },
    {
     "name": "stdout",
     "output_type": "stream",
     "text": [
      "\n",
      "\n",
      "\n",
      "Headline: 4,374,753 9 \n",
      " -continued \n",
      " Reactivity Melt \n",
      " g/g cat/hr index \n",
      " Catalyst 4190 . 1.4 \n",
      " EXAMPLE'S \n",
      " A catalyst was made in the same manner as described in Example 1 except that a different magnesium com\n"
     ]
    },
    {
     "name": "stderr",
     "output_type": "stream",
     "text": [
      "2025-03-17 20:45:17,162 - INFO - HTTP Request: POST https://api.openai.com/v1/chat/completions \"HTTP/1.1 200 OK\"\n"
     ]
    },
    {
     "data": {
      "text/html": [
       "<span style='color: cyan'>Output token 1:</span> YES, <span style='color: darkorange'>logprobs:</span> -1.981667537620524e-06, <span style='color: magenta'>linear probability:</span> 100.0%<br><span style='color: cyan'>Output token 2:</span>  YES, <span style='color: darkorange'>logprobs:</span> -13.875001907348633, <span style='color: magenta'>linear probability:</span> 0.0%<br>"
      ],
      "text/plain": [
       "<IPython.core.display.HTML object>"
      ]
     },
     "metadata": {},
     "output_type": "display_data"
    },
    {
     "name": "stdout",
     "output_type": "stream",
     "text": [
      "\n",
      "\n",
      "\n",
      "Headline: 4,374,753 \n",
      "stage, volatile materials were evaporated in a nitrogen 11 \n",
      "stream by immersing the flaskin a bath at 100° C. Upon cooling, 15 ml hexane and 3.9 ml of dibutyl magnesium triethylaluminum com\n"
     ]
    },
    {
     "name": "stderr",
     "output_type": "stream",
     "text": [
      "2025-03-17 20:45:17,886 - INFO - HTTP Request: POST https://api.openai.com/v1/chat/completions \"HTTP/1.1 200 OK\"\n"
     ]
    },
    {
     "data": {
      "text/html": [
       "<span style='color: cyan'>Output token 1:</span> YES, <span style='color: darkorange'>logprobs:</span> -1.3856492842023727e-06, <span style='color: magenta'>linear probability:</span> 100.0%<br><span style='color: cyan'>Output token 2:</span>  YES, <span style='color: darkorange'>logprobs:</span> -13.750000953674316, <span style='color: magenta'>linear probability:</span> 0.0%<br>"
      ],
      "text/plain": [
       "<IPython.core.display.HTML object>"
      ]
     },
     "metadata": {},
     "output_type": "display_data"
    },
    {
     "name": "stdout",
     "output_type": "stream",
     "text": [
      "\n",
      "\n",
      "\n",
      "Headline: 4,374,753 13 \n",
      " 3. The catalyst of claim 1 wherein said Group IIA compound or complex of (2) comprises an alkyl or aryl of magnesium or a magnesium complex. \n",
      " 4. The catalyst of claim 1 wherein said al\n"
     ]
    },
    {
     "name": "stderr",
     "output_type": "stream",
     "text": [
      "2025-03-17 20:45:18,462 - INFO - HTTP Request: POST https://api.openai.com/v1/chat/completions \"HTTP/1.1 200 OK\"\n"
     ]
    },
    {
     "data": {
      "text/html": [
       "<span style='color: cyan'>Output token 1:</span> NO, <span style='color: darkorange'>logprobs:</span> -1.9361264946837764e-07, <span style='color: magenta'>linear probability:</span> 100.0%<br><span style='color: cyan'>Output token 2:</span>  NO, <span style='color: darkorange'>logprobs:</span> -15.75, <span style='color: magenta'>linear probability:</span> 0.0%<br>"
      ],
      "text/plain": [
       "<IPython.core.display.HTML object>"
      ]
     },
     "metadata": {},
     "output_type": "display_data"
    },
    {
     "name": "stdout",
     "output_type": "stream",
     "text": [
      "\n",
      "\n",
      "\n",
      "Headline: (12) United States Patent \n",
      " Braganca et al. US0093.52308B2 \n",
      " US 9,352,308 B2 \n",
      " May 31, 2016 (10) Patent No.: \n",
      " (45) Date of Patent: \n",
      " (54) SOLID CATALYST COMPONENT FOR \n",
      " POLYMERIZATION AND \n",
      " COPOLYMER\n"
     ]
    },
    {
     "name": "stderr",
     "output_type": "stream",
     "text": [
      "2025-03-17 20:45:19,723 - INFO - HTTP Request: POST https://api.openai.com/v1/chat/completions \"HTTP/1.1 200 OK\"\n"
     ]
    },
    {
     "data": {
      "text/html": [
       "<span style='color: cyan'>Output token 1:</span> NO, <span style='color: darkorange'>logprobs:</span> -1.9361264946837764e-07, <span style='color: magenta'>linear probability:</span> 100.0%<br><span style='color: cyan'>Output token 2:</span>  NO, <span style='color: darkorange'>logprobs:</span> -15.875, <span style='color: magenta'>linear probability:</span> 0.0%<br>"
      ],
      "text/plain": [
       "<IPython.core.display.HTML object>"
      ]
     },
     "metadata": {},
     "output_type": "display_data"
    },
    {
     "name": "stdout",
     "output_type": "stream",
     "text": [
      "\n",
      "\n",
      "\n",
      "Headline: U.S. Patent May 31, 2016 Sheet 1 of 6 US 9,352,308 B2 \n",
      " FIGURE 1 \n",
      " Organometallic \n",
      " compound solution Silica-o- IMPREGNATION \n",
      " (a) \n",
      " Magnesium compound \n",
      " REACTON REMOVAL Supernatant Titanium compound \n"
     ]
    },
    {
     "name": "stderr",
     "output_type": "stream",
     "text": [
      "2025-03-17 20:45:20,451 - INFO - HTTP Request: POST https://api.openai.com/v1/chat/completions \"HTTP/1.1 200 OK\"\n"
     ]
    },
    {
     "data": {
      "text/html": [
       "<span style='color: cyan'>Output token 1:</span> NO, <span style='color: darkorange'>logprobs:</span> -1.9361264946837764e-07, <span style='color: magenta'>linear probability:</span> 100.0%<br><span style='color: cyan'>Output token 2:</span>  NO, <span style='color: darkorange'>logprobs:</span> -15.75, <span style='color: magenta'>linear probability:</span> 0.0%<br>"
      ],
      "text/plain": [
       "<IPython.core.display.HTML object>"
      ]
     },
     "metadata": {},
     "output_type": "display_data"
    },
    {
     "name": "stdout",
     "output_type": "stream",
     "text": [
      "\n",
      "\n",
      "\n",
      "Headline: U.S. Patent May 31, 2016 Sheet 2 of 6 US 9,352,308 B2 \n",
      " FIGURE 2 \n",
      "   \n"
     ]
    },
    {
     "name": "stderr",
     "output_type": "stream",
     "text": [
      "2025-03-17 20:45:21,040 - INFO - HTTP Request: POST https://api.openai.com/v1/chat/completions \"HTTP/1.1 200 OK\"\n"
     ]
    },
    {
     "data": {
      "text/html": [
       "<span style='color: cyan'>Output token 1:</span> NO, <span style='color: darkorange'>logprobs:</span> -1.9361264946837764e-07, <span style='color: magenta'>linear probability:</span> 100.0%<br><span style='color: cyan'>Output token 2:</span>  NO, <span style='color: darkorange'>logprobs:</span> -16.125, <span style='color: magenta'>linear probability:</span> 0.0%<br>"
      ],
      "text/plain": [
       "<IPython.core.display.HTML object>"
      ]
     },
     "metadata": {},
     "output_type": "display_data"
    },
    {
     "name": "stdout",
     "output_type": "stream",
     "text": [
      "\n",
      "\n",
      "\n",
      "Headline: US 9,352,308 B2 U.S. Patent \n",
      " 9/ | \n",
      " eoueoeye   \n"
     ]
    },
    {
     "name": "stderr",
     "output_type": "stream",
     "text": [
      "2025-03-17 20:45:21,772 - INFO - HTTP Request: POST https://api.openai.com/v1/chat/completions \"HTTP/1.1 200 OK\"\n"
     ]
    },
    {
     "data": {
      "text/html": [
       "<span style='color: cyan'>Output token 1:</span> NO, <span style='color: darkorange'>logprobs:</span> -1.2948405128554441e-05, <span style='color: magenta'>linear probability:</span> 100.0%<br><span style='color: cyan'>Output token 2:</span> YES, <span style='color: darkorange'>logprobs:</span> -11.37501335144043, <span style='color: magenta'>linear probability:</span> 0.0%<br>"
      ],
      "text/plain": [
       "<IPython.core.display.HTML object>"
      ]
     },
     "metadata": {},
     "output_type": "display_data"
    },
    {
     "name": "stdout",
     "output_type": "stream",
     "text": [
      "\n",
      "\n",
      "\n",
      "Headline: U.S. Patent May 31, 2016 Sheet 4 of 6 US 9,352,308 B2 \n",
      " FIGURE 4 \n",
      " .. \n",
      " O \n",
      " 44 4, 48 SO SO. 54 SO 58 \n",
      " Energy (ew \n"
     ]
    },
    {
     "name": "stderr",
     "output_type": "stream",
     "text": [
      "2025-03-17 20:45:22,531 - INFO - HTTP Request: POST https://api.openai.com/v1/chat/completions \"HTTP/1.1 200 OK\"\n"
     ]
    },
    {
     "data": {
      "text/html": [
       "<span style='color: cyan'>Output token 1:</span> NO, <span style='color: darkorange'>logprobs:</span> -3.128163257315464e-07, <span style='color: magenta'>linear probability:</span> 100.0%<br><span style='color: cyan'>Output token 2:</span>  NO, <span style='color: darkorange'>logprobs:</span> -15.5, <span style='color: magenta'>linear probability:</span> 0.0%<br>"
      ],
      "text/plain": [
       "<IPython.core.display.HTML object>"
      ]
     },
     "metadata": {},
     "output_type": "display_data"
    },
    {
     "name": "stdout",
     "output_type": "stream",
     "text": [
      "\n",
      "\n",
      "\n",
      "Headline: U.S. Patent May 31, 2016 Sheet 5 of 6 US 9,352,308 B2 \n",
      " FIGURES \n",
      " 9. - \n",
      " O \n",
      " 95 . ... 3 498 Energy (W) \n",
      " 4.94 EO 498 SO SO SO4 SOSO SO.8 SO \n",
      " Energy (ew)   \n"
     ]
    },
    {
     "name": "stderr",
     "output_type": "stream",
     "text": [
      "2025-03-17 20:45:23,364 - INFO - HTTP Request: POST https://api.openai.com/v1/chat/completions \"HTTP/1.1 200 OK\"\n"
     ]
    },
    {
     "data": {
      "text/html": [
       "<span style='color: cyan'>Output token 1:</span> NO, <span style='color: darkorange'>logprobs:</span> -3.128163257315464e-07, <span style='color: magenta'>linear probability:</span> 100.0%<br><span style='color: cyan'>Output token 2:</span>  NO, <span style='color: darkorange'>logprobs:</span> -15.25, <span style='color: magenta'>linear probability:</span> 0.0%<br>"
      ],
      "text/plain": [
       "<IPython.core.display.HTML object>"
      ]
     },
     "metadata": {},
     "output_type": "display_data"
    },
    {
     "name": "stdout",
     "output_type": "stream",
     "text": [
      "\n",
      "\n",
      "\n",
      "Headline: U.S. Patent May 31, 2016 Sheet 6 of 6 US 9,352,308 B2 \n",
      " FIGURE 6 \n",
      " 1966 968 9FO 9. 94 496 498 98) \n",
      " Energy (EW) \n"
     ]
    },
    {
     "name": "stderr",
     "output_type": "stream",
     "text": [
      "2025-03-17 20:45:24,035 - INFO - HTTP Request: POST https://api.openai.com/v1/chat/completions \"HTTP/1.1 200 OK\"\n"
     ]
    },
    {
     "data": {
      "text/html": [
       "<span style='color: cyan'>Output token 1:</span> NO, <span style='color: darkorange'>logprobs:</span> -1.9361264946837764e-07, <span style='color: magenta'>linear probability:</span> 100.0%<br><span style='color: cyan'>Output token 2:</span>  NO, <span style='color: darkorange'>logprobs:</span> -15.75, <span style='color: magenta'>linear probability:</span> 0.0%<br>"
      ],
      "text/plain": [
       "<IPython.core.display.HTML object>"
      ]
     },
     "metadata": {},
     "output_type": "display_data"
    },
    {
     "name": "stdout",
     "output_type": "stream",
     "text": [
      "\n",
      "\n",
      "\n",
      "Headline: US 9,352,308 B2 \n",
      " 1. \n",
      " SOLID CATALYST COMPONENT FOR \n",
      " POLYMERIZATION AND \n",
      " COPOLYMERIZATION OF ETHYLENE AND \n",
      " PROCESS FOR OBTAINING THE SAME \n",
      " This application is a Continuation-In-Part of application\n"
     ]
    },
    {
     "name": "stderr",
     "output_type": "stream",
     "text": [
      "2025-03-17 20:45:24,616 - INFO - HTTP Request: POST https://api.openai.com/v1/chat/completions \"HTTP/1.1 200 OK\"\n"
     ]
    },
    {
     "data": {
      "text/html": [
       "<span style='color: cyan'>Output token 1:</span> NO, <span style='color: darkorange'>logprobs:</span> -6.704273118884885e-07, <span style='color: magenta'>linear probability:</span> 100.0%<br><span style='color: cyan'>Output token 2:</span> YES, <span style='color: darkorange'>logprobs:</span> -14.500000953674316, <span style='color: magenta'>linear probability:</span> 0.0%<br>"
      ],
      "text/plain": [
       "<IPython.core.display.HTML object>"
      ]
     },
     "metadata": {},
     "output_type": "display_data"
    },
    {
     "name": "stdout",
     "output_type": "stream",
     "text": [
      "\n",
      "\n",
      "\n",
      "Headline: US 9,352,308 B2 \n",
      " 3 \n",
      " groups 1, 2, 12 or 13 of the periodic table. The process for \n",
      " producing the catalyst of the present invention comprises the \n",
      " steps of: \n",
      " (a) impregnating activated silica parti\n"
     ]
    },
    {
     "name": "stderr",
     "output_type": "stream",
     "text": [
      "2025-03-17 20:45:25,570 - INFO - HTTP Request: POST https://api.openai.com/v1/chat/completions \"HTTP/1.1 200 OK\"\n"
     ]
    },
    {
     "data": {
      "text/html": [
       "<span style='color: cyan'>Output token 1:</span> NO, <span style='color: darkorange'>logprobs:</span> -0.002476016292348504, <span style='color: magenta'>linear probability:</span> 99.75%<br><span style='color: cyan'>Output token 2:</span> YES, <span style='color: darkorange'>logprobs:</span> -6.002476215362549, <span style='color: magenta'>linear probability:</span> 0.25%<br>"
      ],
      "text/plain": [
       "<IPython.core.display.HTML object>"
      ]
     },
     "metadata": {},
     "output_type": "display_data"
    },
    {
     "name": "stdout",
     "output_type": "stream",
     "text": [
      "\n",
      "\n",
      "\n",
      "Headline: US 9,352,308 B2 \n",
      " 5 \n",
      " over a period from 1 to 20 hours. The amount of remaining \n",
      " OH on the silica surface after this treatment ranges from 0.1 to 2 mmoles OH per g of silica, preferably between 0.5 a\n"
     ]
    },
    {
     "name": "stderr",
     "output_type": "stream",
     "text": [
      "2025-03-17 20:45:26,176 - INFO - HTTP Request: POST https://api.openai.com/v1/chat/completions \"HTTP/1.1 200 OK\"\n"
     ]
    },
    {
     "data": {
      "text/html": [
       "<span style='color: cyan'>Output token 1:</span> YES, <span style='color: darkorange'>logprobs:</span> -4.842555426876061e-06, <span style='color: magenta'>linear probability:</span> 100.0%<br><span style='color: cyan'>Output token 2:</span> NO, <span style='color: darkorange'>logprobs:</span> -12.375004768371582, <span style='color: magenta'>linear probability:</span> 0.0%<br>"
      ],
      "text/plain": [
       "<IPython.core.display.HTML object>"
      ]
     },
     "metadata": {},
     "output_type": "display_data"
    },
    {
     "name": "stdout",
     "output_type": "stream",
     "text": [
      "\n",
      "\n",
      "\n",
      "Headline: US 9,352,308 B2 \n",
      " 7 \n",
      " Other silicon compounds useful as reducing agents in the \n",
      " practice of this invention are: silanes (SiH, in which m is a number equal to or higher than 1), alkyl-silanes or aryl \n"
     ]
    },
    {
     "name": "stderr",
     "output_type": "stream",
     "text": [
      "2025-03-17 20:45:26,843 - INFO - HTTP Request: POST https://api.openai.com/v1/chat/completions \"HTTP/1.1 200 OK\"\n"
     ]
    },
    {
     "data": {
      "text/html": [
       "<span style='color: cyan'>Output token 1:</span> YES, <span style='color: darkorange'>logprobs:</span> -0.023246292024850845, <span style='color: magenta'>linear probability:</span> 97.7%<br><span style='color: cyan'>Output token 2:</span> NO, <span style='color: darkorange'>logprobs:</span> -3.7732462882995605, <span style='color: magenta'>linear probability:</span> 2.3%<br>"
      ],
      "text/plain": [
       "<IPython.core.display.HTML object>"
      ]
     },
     "metadata": {},
     "output_type": "display_data"
    },
    {
     "name": "stdout",
     "output_type": "stream",
     "text": [
      "\n",
      "\n",
      "\n",
      "Headline: US 9,352,308 B2 \n",
      " The amount of organometallic compound of the groups 1, \n",
      " 2, 12 or 13 that remains fixed on the solid catalyst component may reach up to 5% by weight, expressed as the metal con \n",
      " ten\n"
     ]
    },
    {
     "name": "stderr",
     "output_type": "stream",
     "text": [
      "2025-03-17 20:45:27,504 - INFO - HTTP Request: POST https://api.openai.com/v1/chat/completions \"HTTP/1.1 200 OK\"\n"
     ]
    },
    {
     "data": {
      "text/html": [
       "<span style='color: cyan'>Output token 1:</span> YES, <span style='color: darkorange'>logprobs:</span> -2.45848218582978e-06, <span style='color: magenta'>linear probability:</span> 100.0%<br><span style='color: cyan'>Output token 2:</span> **, <span style='color: darkorange'>logprobs:</span> -13.87500286102295, <span style='color: magenta'>linear probability:</span> 0.0%<br>"
      ],
      "text/plain": [
       "<IPython.core.display.HTML object>"
      ]
     },
     "metadata": {},
     "output_type": "display_data"
    },
    {
     "name": "stdout",
     "output_type": "stream",
     "text": [
      "\n",
      "\n",
      "\n",
      "Headline: US 9,352,308 B2 \n",
      " 11 \n",
      " anhydrous MgCl, and 330 ml (0.969 moles) of Ti(OBu). \n",
      " This mixture was allowed to stir at 300 rpm and heated to 150° \n",
      " C. for about 12 hours in order to have the solids complet\n"
     ]
    },
    {
     "name": "stderr",
     "output_type": "stream",
     "text": [
      "2025-03-17 20:45:28,121 - INFO - HTTP Request: POST https://api.openai.com/v1/chat/completions \"HTTP/1.1 200 OK\"\n"
     ]
    },
    {
     "data": {
      "text/html": [
       "<span style='color: cyan'>Output token 1:</span> YES, <span style='color: darkorange'>logprobs:</span> -1.2664456789934775e-06, <span style='color: magenta'>linear probability:</span> 100.0%<br><span style='color: cyan'>Output token 2:</span>  YES, <span style='color: darkorange'>logprobs:</span> -14.000000953674316, <span style='color: magenta'>linear probability:</span> 0.0%<br>"
      ],
      "text/plain": [
       "<IPython.core.display.HTML object>"
      ]
     },
     "metadata": {},
     "output_type": "display_data"
    },
    {
     "name": "stdout",
     "output_type": "stream",
     "text": [
      "\n",
      "\n",
      "\n",
      "Headline: US 9,352,308 B2 \n",
      " 13 \n",
      " anhydrous MgCl2 and 39.6 ml (0.116 moles) of Ti(OBu). \n",
      " This mixture was allowed to stir at 300 rpm and heated to 150° \n",
      " C. for about 12 hours in order to have the solids comple\n"
     ]
    },
    {
     "name": "stderr",
     "output_type": "stream",
     "text": [
      "2025-03-17 20:45:28,776 - INFO - HTTP Request: POST https://api.openai.com/v1/chat/completions \"HTTP/1.1 200 OK\"\n"
     ]
    },
    {
     "data": {
      "text/html": [
       "<span style='color: cyan'>Output token 1:</span> YES, <span style='color: darkorange'>logprobs:</span> -1.1472419600977446e-06, <span style='color: magenta'>linear probability:</span> 100.0%<br><span style='color: cyan'>Output token 2:</span>  YES, <span style='color: darkorange'>logprobs:</span> -14.000000953674316, <span style='color: magenta'>linear probability:</span> 0.0%<br>"
      ],
      "text/plain": [
       "<IPython.core.display.HTML object>"
      ]
     },
     "metadata": {},
     "output_type": "display_data"
    },
    {
     "name": "stdout",
     "output_type": "stream",
     "text": [
      "\n",
      "\n",
      "\n",
      "Headline: US 9,352,308 B2 \n",
      " 15 \n",
      " addition, stirring was continued for 3.5 hours at a temperature of 60°C. The temperature of the mixture was then brought to \n",
      " 65° C. and kept for additional 2 hours. After cooli\n"
     ]
    },
    {
     "name": "stderr",
     "output_type": "stream",
     "text": [
      "2025-03-17 20:45:29,638 - INFO - HTTP Request: POST https://api.openai.com/v1/chat/completions \"HTTP/1.1 200 OK\"\n"
     ]
    },
    {
     "data": {
      "text/html": [
       "<span style='color: cyan'>Output token 1:</span> YES, <span style='color: darkorange'>logprobs:</span> -1.5048530030981055e-06, <span style='color: magenta'>linear probability:</span> 100.0%<br><span style='color: cyan'>Output token 2:</span>  YES, <span style='color: darkorange'>logprobs:</span> -13.750001907348633, <span style='color: magenta'>linear probability:</span> 0.0%<br>"
      ],
      "text/plain": [
       "<IPython.core.display.HTML object>"
      ]
     },
     "metadata": {},
     "output_type": "display_data"
    },
    {
     "name": "stdout",
     "output_type": "stream",
     "text": [
      "\n",
      "\n",
      "\n",
      "Headline: US 9,352,308 B2 \n",
      " 17 \n",
      " C. for about 12 hours in order to have the solids completely \n",
      " dissolved, thereby a clear liquid product was obtained. This \n",
      " resulting liquid was cooled down to 40°C. and under\n"
     ]
    },
    {
     "name": "stderr",
     "output_type": "stream",
     "text": [
      "2025-03-17 20:45:30,415 - INFO - HTTP Request: POST https://api.openai.com/v1/chat/completions \"HTTP/1.1 200 OK\"\n"
     ]
    },
    {
     "data": {
      "text/html": [
       "<span style='color: cyan'>Output token 1:</span> YES, <span style='color: darkorange'>logprobs:</span> -1.981667537620524e-06, <span style='color: magenta'>linear probability:</span> 100.0%<br><span style='color: cyan'>Output token 2:</span>  YES, <span style='color: darkorange'>logprobs:</span> -13.875001907348633, <span style='color: magenta'>linear probability:</span> 0.0%<br>"
      ],
      "text/plain": [
       "<IPython.core.display.HTML object>"
      ]
     },
     "metadata": {},
     "output_type": "display_data"
    },
    {
     "name": "stdout",
     "output_type": "stream",
     "text": [
      "\n",
      "\n",
      "\n",
      "Headline: US 9,352,308 B2 \n",
      " 19 \n",
      " MIE 0.91 g/10 min \n",
      " MIFAMIE 26 \n",
      " Fraction Soluble in Xylene 9.2% \n",
      " Comonomer content 8.7% Polymer Density 0.917 g/cm Bulk Density 0.36 g/cm \n",
      " Pilot Plant Tests \n",
      " A pilot plant c\n"
     ]
    },
    {
     "name": "stderr",
     "output_type": "stream",
     "text": [
      "2025-03-17 20:45:31,144 - INFO - HTTP Request: POST https://api.openai.com/v1/chat/completions \"HTTP/1.1 200 OK\"\n"
     ]
    },
    {
     "data": {
      "text/html": [
       "<span style='color: cyan'>Output token 1:</span> YES, <span style='color: darkorange'>logprobs:</span> -2.5776860184123507e-06, <span style='color: magenta'>linear probability:</span> 100.0%<br><span style='color: cyan'>Output token 2:</span> **, <span style='color: darkorange'>logprobs:</span> -13.75000286102295, <span style='color: magenta'>linear probability:</span> 0.0%<br>"
      ],
      "text/plain": [
       "<IPython.core.display.HTML object>"
      ]
     },
     "metadata": {},
     "output_type": "display_data"
    },
    {
     "name": "stdout",
     "output_type": "stream",
     "text": [
      "\n",
      "\n",
      "\n",
      "Headline: US 9,352,308 B2 \n",
      " 21 \n",
      " FIG.3 and an X-Ray Absorption Near Edge Structure spectra \n",
      " as shown in one or more of FIGS. 4, 5 and 6. 2. The catalyst composition of claim 1, wherein the product of the homop\n"
     ]
    },
    {
     "name": "stderr",
     "output_type": "stream",
     "text": [
      "2025-03-17 20:45:31,686 - INFO - HTTP Request: POST https://api.openai.com/v1/chat/completions \"HTTP/1.1 200 OK\"\n"
     ]
    },
    {
     "data": {
      "text/html": [
       "<span style='color: cyan'>Output token 1:</span> NO, <span style='color: darkorange'>logprobs:</span> -1.9361264946837764e-07, <span style='color: magenta'>linear probability:</span> 100.0%<br><span style='color: cyan'>Output token 2:</span>  NO, <span style='color: darkorange'>logprobs:</span> -16.0, <span style='color: magenta'>linear probability:</span> 0.0%<br>"
      ],
      "text/plain": [
       "<IPython.core.display.HTML object>"
      ]
     },
     "metadata": {},
     "output_type": "display_data"
    },
    {
     "name": "stdout",
     "output_type": "stream",
     "text": [
      "\n",
      "\n",
      "\n",
      "Headline: (19) United States US 2006O166812A1 \n",
      " (12) Patent Application Publication (10) Pub. No.: US 2006/0166812 A1 Braganca et al. (43) Pub. Date: Jul. 27, 2006 \n",
      " (54) SOLID CATALYST COMPONENT FOR \n",
      " POLYMERI\n"
     ]
    },
    {
     "name": "stderr",
     "output_type": "stream",
     "text": [
      "2025-03-17 20:45:32,866 - INFO - HTTP Request: POST https://api.openai.com/v1/chat/completions \"HTTP/1.1 200 OK\"\n"
     ]
    },
    {
     "data": {
      "text/html": [
       "<span style='color: cyan'>Output token 1:</span> NO, <span style='color: darkorange'>logprobs:</span> -1.9361264946837764e-07, <span style='color: magenta'>linear probability:</span> 100.0%<br><span style='color: cyan'>Output token 2:</span>  NO, <span style='color: darkorange'>logprobs:</span> -16.125, <span style='color: magenta'>linear probability:</span> 0.0%<br>"
      ],
      "text/plain": [
       "<IPython.core.display.HTML object>"
      ]
     },
     "metadata": {},
     "output_type": "display_data"
    },
    {
     "name": "stdout",
     "output_type": "stream",
     "text": [
      "\n",
      "\n",
      "\n",
      "Headline: Patent Application Publication Jul. 27, 2006 Sheet 1 of 2 US 2006/0166812 A1 \n",
      " FIGURE 1 \n",
      " Organometallic \n",
      " o Compound solution Silica-D- IMPREGNATION \n",
      " (a) Magnesium compound \n",
      " REACTION REMOVA Superna\n"
     ]
    },
    {
     "name": "stderr",
     "output_type": "stream",
     "text": [
      "2025-03-17 20:45:33,383 - INFO - HTTP Request: POST https://api.openai.com/v1/chat/completions \"HTTP/1.1 200 OK\"\n"
     ]
    },
    {
     "data": {
      "text/html": [
       "<span style='color: cyan'>Output token 1:</span> NO, <span style='color: darkorange'>logprobs:</span> -3.128163257315464e-07, <span style='color: magenta'>linear probability:</span> 100.0%<br><span style='color: cyan'>Output token 2:</span>  NO, <span style='color: darkorange'>logprobs:</span> -15.25, <span style='color: magenta'>linear probability:</span> 0.0%<br>"
      ],
      "text/plain": [
       "<IPython.core.display.HTML object>"
      ]
     },
     "metadata": {},
     "output_type": "display_data"
    },
    {
     "name": "stdout",
     "output_type": "stream",
     "text": [
      "\n",
      "\n",
      "\n",
      "Headline: Patent Application Publication Jul. 27, 2006 Sheet 2 of 2 US 2006/0166812 A1 \n",
      " FIGURE 2 \n",
      "   \n"
     ]
    },
    {
     "name": "stderr",
     "output_type": "stream",
     "text": [
      "2025-03-17 20:45:34,074 - INFO - HTTP Request: POST https://api.openai.com/v1/chat/completions \"HTTP/1.1 200 OK\"\n"
     ]
    },
    {
     "data": {
      "text/html": [
       "<span style='color: cyan'>Output token 1:</span> NO, <span style='color: darkorange'>logprobs:</span> -1.9361264946837764e-07, <span style='color: magenta'>linear probability:</span> 100.0%<br><span style='color: cyan'>Output token 2:</span>  NO, <span style='color: darkorange'>logprobs:</span> -16.0, <span style='color: magenta'>linear probability:</span> 0.0%<br>"
      ],
      "text/plain": [
       "<IPython.core.display.HTML object>"
      ]
     },
     "metadata": {},
     "output_type": "display_data"
    },
    {
     "name": "stdout",
     "output_type": "stream",
     "text": [
      "\n",
      "\n",
      "\n",
      "Headline: US 2006/0166812 A1 \n",
      " SOLID CATALYST COMPONENT FOR \n",
      " POLYMERIZATION AND COPOLYMERIZATION \n",
      " OF ETHYLENE, AND, PROCESS FOR OBTAINING \n",
      " THE SAME \n",
      " 0001. The present invention relates to a solid catalyst c\n"
     ]
    },
    {
     "name": "stderr",
     "output_type": "stream",
     "text": [
      "2025-03-17 20:45:34,884 - INFO - HTTP Request: POST https://api.openai.com/v1/chat/completions \"HTTP/1.1 200 OK\"\n"
     ]
    },
    {
     "data": {
      "text/html": [
       "<span style='color: cyan'>Output token 1:</span> NO, <span style='color: darkorange'>logprobs:</span> -0.00012368128227535635, <span style='color: magenta'>linear probability:</span> 99.99%<br><span style='color: cyan'>Output token 2:</span> YES, <span style='color: darkorange'>logprobs:</span> -9.000123977661133, <span style='color: magenta'>linear probability:</span> 0.01%<br>"
      ],
      "text/plain": [
       "<IPython.core.display.HTML object>"
      ]
     },
     "metadata": {},
     "output_type": "display_data"
    },
    {
     "name": "stdout",
     "output_type": "stream",
     "text": [
      "\n",
      "\n",
      "\n",
      "Headline: US 2006/0166812 A1 \n",
      " polyethylene with 0.919 g/ml of polymer density has a \n",
      " xylene soluble content of 12.5% by weight. \n",
      " SUMMARY OF THE INVENTION \n",
      " 0023 The present invention relates to a solid catal\n"
     ]
    },
    {
     "name": "stderr",
     "output_type": "stream",
     "text": [
      "2025-03-17 20:45:35,442 - INFO - HTTP Request: POST https://api.openai.com/v1/chat/completions \"HTTP/1.1 200 OK\"\n"
     ]
    },
    {
     "data": {
      "text/html": [
       "<span style='color: cyan'>Output token 1:</span> NO, <span style='color: darkorange'>logprobs:</span> -9.639096970204264e-05, <span style='color: magenta'>linear probability:</span> 99.99%<br><span style='color: cyan'>Output token 2:</span> YES, <span style='color: darkorange'>logprobs:</span> -9.250096321105957, <span style='color: magenta'>linear probability:</span> 0.01%<br>"
      ],
      "text/plain": [
       "<IPython.core.display.HTML object>"
      ]
     },
     "metadata": {},
     "output_type": "display_data"
    },
    {
     "name": "stdout",
     "output_type": "stream",
     "text": [
      "\n",
      "\n",
      "\n",
      "Headline: US 2006/0166812 A1 \n",
      " 0048 (e) optionally reacting the solid obtained in (d) with a reducing agent; \n",
      " 0049 (f) reacting the solid obtained in (d) or (e) with a halogenating agent; \n",
      " 0050 (g) treating t\n"
     ]
    },
    {
     "name": "stderr",
     "output_type": "stream",
     "text": [
      "2025-03-17 20:45:36,385 - INFO - HTTP Request: POST https://api.openai.com/v1/chat/completions \"HTTP/1.1 200 OK\"\n"
     ]
    },
    {
     "data": {
      "text/html": [
       "<span style='color: cyan'>Output token 1:</span> YES, <span style='color: darkorange'>logprobs:</span> -0.0004309076175559312, <span style='color: magenta'>linear probability:</span> 99.96%<br><span style='color: cyan'>Output token 2:</span> NO, <span style='color: darkorange'>logprobs:</span> -7.750431060791016, <span style='color: magenta'>linear probability:</span> 0.04%<br>"
      ],
      "text/plain": [
       "<IPython.core.display.HTML object>"
      ]
     },
     "metadata": {},
     "output_type": "display_data"
    },
    {
     "name": "stdout",
     "output_type": "stream",
     "text": [
      "\n",
      "\n",
      "\n",
      "Headline: US 2006/0166812 A1 \n",
      " 0064. In general, when preparing the solution of the step \n",
      " (c), titanium is used in Such an amount that the molar ratio Ti/Mg varies within the range of 0.3 to 4, and preferably \n"
     ]
    },
    {
     "name": "stderr",
     "output_type": "stream",
     "text": [
      "2025-03-17 20:45:36,877 - INFO - HTTP Request: POST https://api.openai.com/v1/chat/completions \"HTTP/1.1 200 OK\"\n"
     ]
    },
    {
     "data": {
      "text/html": [
       "<span style='color: cyan'>Output token 1:</span> YES, <span style='color: darkorange'>logprobs:</span> -0.0019300628919154406, <span style='color: magenta'>linear probability:</span> 99.81%<br><span style='color: cyan'>Output token 2:</span> NO, <span style='color: darkorange'>logprobs:</span> -6.251930236816406, <span style='color: magenta'>linear probability:</span> 0.19%<br>"
      ],
      "text/plain": [
       "<IPython.core.display.HTML object>"
      ]
     },
     "metadata": {},
     "output_type": "display_data"
    },
    {
     "name": "stdout",
     "output_type": "stream",
     "text": [
      "\n",
      "\n",
      "\n",
      "Headline: US 2006/0166812 A1 \n",
      " or more organometallic compounds of the groups 1, 2, 12 or 13 of the periodic table, preferably metal-alkyl compounds \n",
      " or metal-alkyl halide compounds belonging to these groups, \n"
     ]
    },
    {
     "name": "stderr",
     "output_type": "stream",
     "text": [
      "2025-03-17 20:45:37,769 - INFO - HTTP Request: POST https://api.openai.com/v1/chat/completions \"HTTP/1.1 200 OK\"\n"
     ]
    },
    {
     "data": {
      "text/html": [
       "<span style='color: cyan'>Output token 1:</span> NO, <span style='color: darkorange'>logprobs:</span> -1.2664456789934775e-06, <span style='color: magenta'>linear probability:</span> 100.0%<br><span style='color: cyan'>Output token 2:</span> YES, <span style='color: darkorange'>logprobs:</span> -13.750000953674316, <span style='color: magenta'>linear probability:</span> 0.0%<br>"
      ],
      "text/plain": [
       "<IPython.core.display.HTML object>"
      ]
     },
     "metadata": {},
     "output_type": "display_data"
    },
    {
     "name": "stdout",
     "output_type": "stream",
     "text": [
      "\n",
      "\n",
      "\n",
      "Headline: US 2006/0166812 A1 \n",
      " alpha-olefins having from 3 to 14 carbon atoms, having a \n",
      " content of units derived from ethylene greater than approxi mately 80% by weight. These products have improved \n",
      " propert\n"
     ]
    },
    {
     "name": "stderr",
     "output_type": "stream",
     "text": [
      "2025-03-17 20:45:38,615 - INFO - HTTP Request: POST https://api.openai.com/v1/chat/completions \"HTTP/1.1 200 OK\"\n"
     ]
    },
    {
     "data": {
      "text/html": [
       "<span style='color: cyan'>Output token 1:</span> YES, <span style='color: darkorange'>logprobs:</span> -7.584239938296378e-06, <span style='color: magenta'>linear probability:</span> 100.0%<br><span style='color: cyan'>Output token 2:</span> **, <span style='color: darkorange'>logprobs:</span> -12.000007629394531, <span style='color: magenta'>linear probability:</span> 0.0%<br>"
      ],
      "text/plain": [
       "<IPython.core.display.HTML object>"
      ]
     },
     "metadata": {},
     "output_type": "display_data"
    },
    {
     "name": "stdout",
     "output_type": "stream",
     "text": [
      "\n",
      "\n",
      "\n",
      "Headline: US 2006/0166812 A1 \n",
      " moles) of anhydrous MgCl2 and 39.6 ml (0.116 moles) of \n",
      " Ti(OBu). This mixture was allowed to stir at 300 rpm and \n",
      " heated to 150° C. for about 12 hours in order to have the \n",
      " sol\n"
     ]
    },
    {
     "name": "stderr",
     "output_type": "stream",
     "text": [
      "2025-03-17 20:45:39,383 - INFO - HTTP Request: POST https://api.openai.com/v1/chat/completions \"HTTP/1.1 200 OK\"\n"
     ]
    },
    {
     "data": {
      "text/html": [
       "<span style='color: cyan'>Output token 1:</span> YES, <span style='color: darkorange'>logprobs:</span> -2.45848218582978e-06, <span style='color: magenta'>linear probability:</span> 100.0%<br><span style='color: cyan'>Output token 2:</span>  YES, <span style='color: darkorange'>logprobs:</span> -13.50000286102295, <span style='color: magenta'>linear probability:</span> 0.0%<br>"
      ],
      "text/plain": [
       "<IPython.core.display.HTML object>"
      ]
     },
     "metadata": {},
     "output_type": "display_data"
    },
    {
     "name": "stdout",
     "output_type": "stream",
     "text": [
      "\n",
      "\n",
      "\n",
      "Headline: US 2006/0166812 A1 \n",
      " 0146 The chemical and physical characteristics of the resulting reddish powder were as follows: \n",
      " 0147 Total Titanium=1.5% (by weight) \n",
      " 0148 Mg=0.3% (by weight) \n",
      " 0149 SiO,-81.2%\n"
     ]
    },
    {
     "name": "stderr",
     "output_type": "stream",
     "text": [
      "2025-03-17 20:45:40,205 - INFO - HTTP Request: POST https://api.openai.com/v1/chat/completions \"HTTP/1.1 200 OK\"\n"
     ]
    },
    {
     "data": {
      "text/html": [
       "<span style='color: cyan'>Output token 1:</span> YES, <span style='color: darkorange'>logprobs:</span> -1.0280383548888494e-06, <span style='color: magenta'>linear probability:</span> 100.0%<br><span style='color: cyan'>Output token 2:</span>  YES, <span style='color: darkorange'>logprobs:</span> -14.250000953674316, <span style='color: magenta'>linear probability:</span> 0.0%<br>"
      ],
      "text/plain": [
       "<IPython.core.display.HTML object>"
      ]
     },
     "metadata": {},
     "output_type": "display_data"
    },
    {
     "name": "stdout",
     "output_type": "stream",
     "text": [
      "\n",
      "\n",
      "\n",
      "Headline: US 2006/0166812 A1 \n",
      " room temperature, the stirring was stopped to have the Solid \n",
      " settled. The Supernatant liquid was removed, the Solid was \n",
      " repeatedly washed with anhydrous hexane and then dried \n"
     ]
    },
    {
     "name": "stderr",
     "output_type": "stream",
     "text": [
      "2025-03-17 20:45:41,021 - INFO - HTTP Request: POST https://api.openai.com/v1/chat/completions \"HTTP/1.1 200 OK\"\n"
     ]
    },
    {
     "data": {
      "text/html": [
       "<span style='color: cyan'>Output token 1:</span> YES, <span style='color: darkorange'>logprobs:</span> -1.2664456789934775e-06, <span style='color: magenta'>linear probability:</span> 100.0%<br><span style='color: cyan'>Output token 2:</span>  YES, <span style='color: darkorange'>logprobs:</span> -14.000000953674316, <span style='color: magenta'>linear probability:</span> 0.0%<br>"
      ],
      "text/plain": [
       "<IPython.core.display.HTML object>"
      ]
     },
     "metadata": {},
     "output_type": "display_data"
    },
    {
     "name": "stdout",
     "output_type": "stream",
     "text": [
      "\n",
      "\n",
      "\n",
      "Headline: US 2006/0166812 A1 \n",
      " obtained. This resulting liquid was cooled down to 40° C. \n",
      " and under gently stirring at 150 rpm, it was diluted with \n",
      " 3200 ml of anhydrous hexane. Into this solution kept at 40°\n"
     ]
    },
    {
     "name": "stderr",
     "output_type": "stream",
     "text": [
      "2025-03-17 20:45:41,676 - INFO - HTTP Request: POST https://api.openai.com/v1/chat/completions \"HTTP/1.1 200 OK\"\n"
     ]
    },
    {
     "data": {
      "text/html": [
       "<span style='color: cyan'>Output token 1:</span> YES, <span style='color: darkorange'>logprobs:</span> -1.3856492842023727e-06, <span style='color: magenta'>linear probability:</span> 100.0%<br><span style='color: cyan'>Output token 2:</span>  YES, <span style='color: darkorange'>logprobs:</span> -13.875000953674316, <span style='color: magenta'>linear probability:</span> 0.0%<br>"
      ],
      "text/plain": [
       "<IPython.core.display.HTML object>"
      ]
     },
     "metadata": {},
     "output_type": "display_data"
    },
    {
     "name": "stdout",
     "output_type": "stream",
     "text": [
      "\n",
      "\n",
      "\n",
      "Headline: US 2006/0166812 A1 \n",
      " 11 \n",
      " 0221) The polymerization catalyst is introduced as a dry \n",
      " powder by a catalyst feeder into reactor 1 in a site within the \n",
      " reaction Zone 3, close to the distributing plate \n"
     ]
    },
    {
     "name": "stderr",
     "output_type": "stream",
     "text": [
      "2025-03-17 20:45:42,345 - INFO - HTTP Request: POST https://api.openai.com/v1/chat/completions \"HTTP/1.1 200 OK\"\n"
     ]
    },
    {
     "data": {
      "text/html": [
       "<span style='color: cyan'>Output token 1:</span> YES, <span style='color: darkorange'>logprobs:</span> -1.3856492842023727e-06, <span style='color: magenta'>linear probability:</span> 100.0%<br><span style='color: cyan'>Output token 2:</span>  YES, <span style='color: darkorange'>logprobs:</span> -13.875000953674316, <span style='color: magenta'>linear probability:</span> 0.0%<br>"
      ],
      "text/plain": [
       "<IPython.core.display.HTML object>"
      ]
     },
     "metadata": {},
     "output_type": "display_data"
    },
    {
     "name": "stdout",
     "output_type": "stream",
     "text": [
      "\n",
      "\n",
      "\n",
      "Headline: US 2006/0166812 A1 \n",
      " 2. A process for obtaining a solid catalyst component \n",
      " according to claim 1, wherein the activated particulate silica \n",
      " used in step (a) is a microspheroidal, porous silica. \n",
      " 3.\n"
     ]
    },
    {
     "name": "stderr",
     "output_type": "stream",
     "text": [
      "2025-03-17 20:45:42,877 - INFO - HTTP Request: POST https://api.openai.com/v1/chat/completions \"HTTP/1.1 200 OK\"\n"
     ]
    },
    {
     "data": {
      "text/html": [
       "<span style='color: cyan'>Output token 1:</span> NO, <span style='color: darkorange'>logprobs:</span> -7.896309739408025e-07, <span style='color: magenta'>linear probability:</span> 100.0%<br><span style='color: cyan'>Output token 2:</span> YES, <span style='color: darkorange'>logprobs:</span> -14.500000953674316, <span style='color: magenta'>linear probability:</span> 0.0%<br>"
      ],
      "text/plain": [
       "<IPython.core.display.HTML object>"
      ]
     },
     "metadata": {},
     "output_type": "display_data"
    },
    {
     "name": "stdout",
     "output_type": "stream",
     "text": [
      "\n",
      "\n",
      "\n",
      "Headline: US 2006/0166812 A1 \n",
      " 26. A solid catalyst component according to claim 24, \n",
      " wherein the Solid catalyst has an average particle size \n",
      " ranging from 10 to 120 um. 27. A solid catalyst component accordi\n"
     ]
    },
    {
     "name": "stderr",
     "output_type": "stream",
     "text": [
      "2025-03-17 20:45:43,640 - INFO - HTTP Request: POST https://api.openai.com/v1/chat/completions \"HTTP/1.1 200 OK\"\n"
     ]
    },
    {
     "data": {
      "text/html": [
       "<span style='color: cyan'>Output token 1:</span> NO, <span style='color: darkorange'>logprobs:</span> -1.9361264946837764e-07, <span style='color: magenta'>linear probability:</span> 100.0%<br><span style='color: cyan'>Output token 2:</span>  NO, <span style='color: darkorange'>logprobs:</span> -16.25, <span style='color: magenta'>linear probability:</span> 0.0%<br>"
      ],
      "text/plain": [
       "<IPython.core.display.HTML object>"
      ]
     },
     "metadata": {},
     "output_type": "display_data"
    },
    {
     "name": "stdout",
     "output_type": "stream",
     "text": [
      "\n",
      "\n"
     ]
    }
   ],
   "source": [
    "for patent_name, patent_path in best_10_patents_paths.items():\n",
    "    analyze_file(patent_path)"
   ]
  },
  {
   "cell_type": "code",
   "execution_count": 8,
   "metadata": {},
   "outputs": [
    {
     "name": "stdout",
     "output_type": "stream",
     "text": [
      "<class 'pandas.core.frame.DataFrame'>\n",
      "Index: 130 entries, 0 to 9\n",
      "Data columns (total 8 columns):\n",
      " #   Column       Non-Null Count  Dtype  \n",
      "---  ------       --------------  -----  \n",
      " 0   file_name    130 non-null    object \n",
      " 1   file_path    130 non-null    object \n",
      " 2   page_number  130 non-null    int64  \n",
      " 3   1st_token    130 non-null    object \n",
      " 4   1st_logprob  130 non-null    float64\n",
      " 5   2nd_token    130 non-null    object \n",
      " 6   2nd_logprob  130 non-null    float64\n",
      " 7   text         128 non-null    object \n",
      "dtypes: float64(2), int64(1), object(5)\n",
      "memory usage: 9.1+ KB\n"
     ]
    }
   ],
   "source": [
    "import os\n",
    "preprocessed_csv_files = '/home/anatoly_kayda/Desktop/mipt/kayda_thesis/output_ chunk_is_page'\n",
    "preprocessed_csv_files = pd.concat([pd.read_csv(preprocessed_csv_files+'/'+file, index_col=0) for file in os.listdir(preprocessed_csv_files)])\n",
    "preprocessed_csv_files.info()"
   ]
  },
  {
   "cell_type": "code",
   "execution_count": 9,
   "metadata": {},
   "outputs": [],
   "source": [
    "preprocessed_csv_files['file_name'] = preprocessed_csv_files['file_name'].str.replace('.pdf', '')\n"
   ]
  },
  {
   "cell_type": "code",
   "execution_count": 10,
   "metadata": {},
   "outputs": [
    {
     "name": "stdout",
     "output_type": "stream",
     "text": [
      "<class 'pandas.core.frame.DataFrame'>\n",
      "RangeIndex: 131 entries, 0 to 130\n",
      "Data columns (total 4 columns):\n",
      " #   Column           Non-Null Count  Dtype \n",
      "---  ------           --------------  ----- \n",
      " 0   patent_number    131 non-null    object\n",
      " 1   patent_path      131 non-null    object\n",
      " 2   page_number      131 non-null    int64 \n",
      " 3   is_exp_by_human  131 non-null    bool  \n",
      "dtypes: bool(1), int64(1), object(2)\n",
      "memory usage: 3.3+ KB\n"
     ]
    }
   ],
   "source": [
    "human_analysis_results = pd.read_csv('/home/anatoly_kayda/Desktop/mipt/kayda_thesis/patent_analysis_results.csv')\n",
    "human_analysis_results.info()"
   ]
  },
  {
   "cell_type": "code",
   "execution_count": 11,
   "metadata": {},
   "outputs": [
    {
     "name": "stdout",
     "output_type": "stream",
     "text": [
      "Merged DataFrame info:\n",
      "<class 'pandas.core.frame.DataFrame'>\n",
      "RangeIndex: 131 entries, 0 to 130\n",
      "Data columns (total 11 columns):\n",
      " #   Column           Non-Null Count  Dtype  \n",
      "---  ------           --------------  -----  \n",
      " 0   file_name        131 non-null    object \n",
      " 1   file_path        131 non-null    object \n",
      " 2   page_number      131 non-null    int64  \n",
      " 3   1st_token        131 non-null    object \n",
      " 4   1st_logprob      131 non-null    float64\n",
      " 5   2nd_token        131 non-null    object \n",
      " 6   2nd_logprob      131 non-null    float64\n",
      " 7   text             129 non-null    object \n",
      " 8   patent_number    131 non-null    object \n",
      " 9   patent_path      131 non-null    object \n",
      " 10  is_exp_by_human  131 non-null    bool   \n",
      "dtypes: bool(1), float64(2), int64(1), object(7)\n",
      "memory usage: 10.5+ KB\n"
     ]
    }
   ],
   "source": [
    "import os\n",
    "\n",
    "# Read preprocessed files\n",
    "preprocessed_csv_files = '/home/anatoly_kayda/Desktop/mipt/kayda_thesis/output_ chunk_is_page'\n",
    "preprocessed_df = pd.concat([pd.read_csv(preprocessed_csv_files+'/'+file, index_col=0) \n",
    "                           for file in os.listdir(preprocessed_csv_files)])\n",
    "preprocessed_df['file_name'] = preprocessed_df['file_name'].str.replace('.pdf', '')\n",
    "\n",
    "# Read human analysis results (assuming it exists)\n",
    "human_analysis_results = pd.read_csv('/home/anatoly_kayda/Desktop/mipt/kayda_thesis/patent_analysis_results.csv')  # adjust path as needed\n",
    "\n",
    "# Merge using column positions (first three columns)\n",
    "merged_df = pd.merge(\n",
    "    preprocessed_df,\n",
    "    human_analysis_results,\n",
    "    left_on=preprocessed_df.columns[:3].tolist(),\n",
    "    right_on=human_analysis_results.columns[:3].tolist(),\n",
    "    how='right'\n",
    ")\n",
    "\n",
    "# Display info about the merged DataFrame\n",
    "print(\"Merged DataFrame info:\")\n",
    "merged_df.info()"
   ]
  },
  {
   "cell_type": "code",
   "execution_count": 12,
   "metadata": {},
   "outputs": [
    {
     "data": {
      "text/plain": [
       "array(['NO', 'YES'], dtype=object)"
      ]
     },
     "execution_count": 12,
     "metadata": {},
     "output_type": "execute_result"
    }
   ],
   "source": [
    "merged_df['1st_token'].unique()"
   ]
  },
  {
   "cell_type": "code",
   "execution_count": 13,
   "metadata": {},
   "outputs": [
    {
     "name": "stderr",
     "output_type": "stream",
     "text": [
      "/tmp/ipykernel_533713/2327049784.py:1: FutureWarning: ChainedAssignmentError: behaviour will change in pandas 3.0!\n",
      "You are setting values through chained assignment. Currently this works in certain cases, but when using Copy-on-Write (which will become the default behaviour in pandas 3.0) this will never work to update the original DataFrame or Series, because the intermediate object on which we are setting values will behave as a copy.\n",
      "A typical example is when you are setting values in a column of a DataFrame, like:\n",
      "\n",
      "df[\"col\"][row_indexer] = value\n",
      "\n",
      "Use `df.loc[row_indexer, \"col\"] = values` instead, to perform the assignment in a single step and ensure this keeps updating the original `df`.\n",
      "\n",
      "See the caveats in the documentation: https://pandas.pydata.org/pandas-docs/stable/user_guide/indexing.html#returning-a-view-versus-a-copy\n",
      "\n",
      "  merged_df['is_exp_by_human'].iloc[5] = False\n",
      "/tmp/ipykernel_533713/2327049784.py:1: SettingWithCopyWarning: \n",
      "A value is trying to be set on a copy of a slice from a DataFrame\n",
      "\n",
      "See the caveats in the documentation: https://pandas.pydata.org/pandas-docs/stable/user_guide/indexing.html#returning-a-view-versus-a-copy\n",
      "  merged_df['is_exp_by_human'].iloc[5] = False\n"
     ]
    },
    {
     "data": {
      "application/vnd.microsoft.datawrangler.viewer.v0+json": {
       "columns": [
        {
         "name": "index",
         "rawType": "int64",
         "type": "integer"
        },
        {
         "name": "file_name",
         "rawType": "object",
         "type": "string"
        },
        {
         "name": "file_path",
         "rawType": "object",
         "type": "string"
        },
        {
         "name": "page_number",
         "rawType": "int64",
         "type": "integer"
        },
        {
         "name": "1st_token",
         "rawType": "object",
         "type": "string"
        },
        {
         "name": "1st_logprob",
         "rawType": "float64",
         "type": "float"
        },
        {
         "name": "2nd_token",
         "rawType": "object",
         "type": "string"
        },
        {
         "name": "2nd_logprob",
         "rawType": "float64",
         "type": "float"
        },
        {
         "name": "text",
         "rawType": "object",
         "type": "unknown"
        },
        {
         "name": "patent_number",
         "rawType": "object",
         "type": "string"
        },
        {
         "name": "patent_path",
         "rawType": "object",
         "type": "string"
        },
        {
         "name": "is_exp_by_human",
         "rawType": "bool",
         "type": "boolean"
        }
       ],
       "conversionMethod": "pd.DataFrame",
       "ref": "ecb33d7c-be4a-4595-99a1-30b0bba3ca0d",
       "rows": [
        [
         "0",
         "US6617405",
         "/home/anatoly_kayda/Desktop/mipt/data/unioncarbide/US/US6617405.pdf",
         "1",
         "NO",
         "100.0",
         " NO",
         "0.0",
         "USOO6617405B1 \n (12) United States Patent (10) Patent No.: US 6,617,405 B1 \n Jorgensen (45) Date of Patent: Sep. 9, 2003 \n (54) PROCESS FOR THE PREPARATION OF 5,601,472 A 2/1997 Parker ........................ 446/475 \n POLYETHYLENE FOREIGN PATENT DOCUMENTS \n (75) Inventor: Robert James Jorgensen, Belle Mead, EP 417996 3/1991 \n NJ (US) EP 35O170 3/1994 \n EP 635521 1/1995 \n (73) Assignee: Union Carbide Chemicals & Plastics EP T71820 5/1997 \n Technology Corporation, Danbury, CT EP O 771 820 A1 * 5/1997 \n (US) EP T83OO7 7/1997 \n - * cited by examiner (*) Notice: Subject to any disclaimer, the term of this patent is extended or adjusted under 35 Primary Examiner Robert D. Harlan \n U.S.C. 154(b) by O. davs. (b) by 0 days (57) ABSTRACT \n (21) Appl. No.: 09/353,207 A process of polymerizing ethylene or ethylene and one or \n more comonomers in one or more fluidized bed reactors (22) Filed: Jul. 14, 1999 with a catalyst System comprising (i) a Supported or unsup \n (51) Int. Cl.\" .......................... C08F 4/44; CO8F 210/02; ported magnesium/titanium based precursor in Slurry form, B01J 31/14 said precursor containing an electron donor; and (ii) an \n (52) U.S. Cl. ................................ 526/123.1; 526/1242; activator containing aluminum in an amount Sufficient to 526/153; 526/160; 526/348.6; 526/352; essentially complete the activation of the precursor is dis \n 502/104; 502/106; 502/132 closed. In the process, the precursor and the activator are \n (58) Field of Search ........................... 526/123.1, 124.2, mixed prior to introduction into the reactor in at least one 526/153, 160,352, 348.6; 502/104, 106, mixing procedure, and then the mixture is contacted again 115, 132 with additional activator to essentially complete activation \n of the precursor. In the method, the atomic ratio of aluminum \n (56) References Cited to titanium is in the range of about 1:1 to about 15:1 and the \n mole ratio of activator to electron donor is about 1:1 to about \n U.S. PATENT DOCUMENTS 2:1, and no additional activator is introduced into the reactor \n 4,482,687. A 11/1984 Noshay et al......... 526/125 ($ \n 4,508,842 A 4/1985 Beran et al. ......... ... 502/112 \n 5,290,745 A 3/1994 Jorgensen et al. .......... 502/109 6 Claims, No Drawings   ",
         "US6617405",
         "/home/anatoly_kayda/Desktop/mipt/data/unioncarbide/US/US6617405.pdf",
         "False"
        ],
        [
         "1",
         "US6617405",
         "/home/anatoly_kayda/Desktop/mipt/data/unioncarbide/US/US6617405.pdf",
         "2",
         "NO",
         "100.0",
         " NO",
         "0.0",
         "US 6,617.405 B1 \n 1 \n PROCESS FOR THE PREPARATION OF \n POLYETHYLENE \n TECHNICAL FIELD \n This invention relates to a proceSS for the preparation of \n polyethylene with a focus on catalyst activation. \n BACKGROUND INFORMATION \n Polyethylene has long been prepared with Ziegler-Natta \n catalyst Systems, which typically include a catalyst precur \n Sor made up of transition metal(s) and an electron donor, and a cocatalyst. In order to obtain the high level of catalyst activity essential to commercial polymerization processes, it \n is necessary to provide for essentially complete activation of \n the precursor. It should be noted, however, that catalyst \n activity in these Systems is also affected by a number of \n other variables including the method of catalyst manufacture \n or formation, the use of internal electron donors, the chemi \n cal composition of the internal electron donor, and the total \n amount of internal electron donor. \n Once the basic catalyst is formed, it is necessary to \n remove internal electron donor from the vicinity of the active site and (if necessary) chlorinate and/or reduce the \n valence site of the active metal. Electron donor (ED) is complexed or reacted away from the active Site by either activator compound (defined as an Al compound which is capable of reducing TiCl, to Ti\" valency; such compounds \n can be generically described as RAIX, wherein X is a halogen, typically Cl; n ranges from 1 to 3 with preferred \n values ranging from 1.5 to 3; and R is preferably CH, CH5, \n iCHo, nC. Ho, nCH, or nGHz) or by a Lewis acid (typically RMX, wherein n+m=the valency of M; R is an alkyl or alkoxy or aryloxy group; X is a halogen; and M=B, \n Al, or Si). The formula of a non-activator Lewis Acid can be RBX, wherein X=0 to 2. It is desirable to supply sufficient \n activator or Lewis acid to remove at least 90 percent and preferably close to 100 percent of the ED compound from \n the active site. Due to chemical equilibria, it may be nec essary to add a greater than Stoichiometric amount of \n activator compound to electron donor to fully activate the catalyst. Activation can be accomplished by partial activa \n tion before introduction of the precursor into the reactor and \n completion of the activation in the reactor by means of the cocatalyst, or full activation prior to introduction of the \n precursor into the reactor. \n The disadvantages of partial activation lie in the require ment for additional proceSS StepS and equipment to provide \n the partially activated precursor followed by final activation \n in the reactor, which requires excessive amounts of activator compound, i.e., cocatalyst (typically, aluminum alkyl \n compounds), to be added to the reactor So that an adequate \n concentration of activator compound is present at the active \n polymerization site. AS noted above, the function of this activator compound is to extract electron donor compound \n from the potential active site and to activate the active site either by alkylation (if the active site is already at the correct Valence State) or by reduction and alkylation if the active site valence state requires reduction, for example, from Ti\" to Ti\". In addition to being wasteful, this excess activator compound can cause operational problems or detriment to \n the final product. \n Typical preactivated catalysts are described in U.S. Pat. \n Nos. 4,482,687; 4,508,842; and 5,290,745. Preactivated catalysts of the prior art can be formulated with sufficient activator compound to fully activate the precursor compo 15 \n 25 \n 35 \n 40 \n 45 \n 50 \n 55 \n 60 \n 65 2 \n Sition; however, putting large amounts of activator com pound directly onto these catalysts can also result in \n deactivation, catalysts which are hazardous to handle due to pyrophoricity, or catalysts which have poor flow properties. \n Some of these disadvantages can be addressed by dispersing the catalyst in a carrier Such as an inert hydrocarbon; however, the disadvantage of needing multiple operations to produce the catalyst and the inability to adjust the final \n catalyst composition to account for variations in monomer \n quality are Serious limitations for commercial operation. A \n further limitation for commercial operation is the need to dilute the catalyst sufficiently with the inert hydrocarbon to \n prevent deactivation of the catalyst due to high concentra tion of activator compound in the catalyst Slurry. \n The use of excess amounts of cocatalyst in Ziegler-Natta catalyzed polymerizations is Standard practice in the art. \n Typical Al/Ti molar ratios used in prior art processes are \n usually greater than 20:1, and many are in the 50:1 to 100:1 range. In the description of these processes, lower values are \n mentioned, but clearly are not preferred. In other prior art, \n very low levels of added aluminum alkyl ranging from 0.1:1 to about 10:1 are Suggested, but the catalyst Systems \n involved here are devoid of electron donor type compounds, \n and So are not relevant to the processes under discussion in this specification. A typical non-ED System is described in \n U.S. Pat. No. 5,077,358. \n Prepolymerization Systems are also mentioned in the prior \n art. Typical examples of this kind of catalyst System are \n mentioned in U.S. Pat. Nos. 5,077,358 and 4,990,479. These \n Systems also do not use internal electron donors, and addi tion of extra aluminum alkyl activator component can lead to catalyst productivity increases to Such an extent that \n Severe operational instabilities are observed. These catalysts are typically activated in the prepolymer preparation with \n low amounts of an aluminum alkyl activator compound and \n frequently with the use of an external electron donor. While “free” aluminum alkyl may be removed from the prepoly \n mer prior to use in the main polymerization reactor, the prepolymer catalysts are fully activated in the reactor with \n large exceSS amounts of cocatalyst. \n European Patent Application 783 007 discloses a process for production of polyethylene using reduced amounts of \n aluminum alkyl feed; however, this disclosure focuses exclusively on the use of external addition of additional activator compound, i.e., Separate activator and catalyst \n feeds, and overall Al/Timolar ratios, which are at the lower \n end of the higher ratios recited above for electron donor bearing catalysts. Operating in this mode introduces other Specific problems, Such as the need for exceptionally precise \n control of cocatalyst feed rates to avoid reaction runaway and agglomerate formation. A further disadvantage of \n “starved” activator feed is that the hydrogen response of the catalyst, i.e. the relative hydrogen:ethylene mole ratio \n required to achieve a given molecular weight at otherwise \n constant reaction conditions, is dramatically effected requir ing larger amounts of hydrogen to achieve the same given \n molecular weight or melt index. \n Although good polymerization activity is achievable by \n adding external activator compound, the fact that catalyst \n and activator compound are added Separately requires exces \n Sive amounts of activator compound to keep the required \n amount of activator compound at the desired level at the active polymerization site. ExceSS activator compound also \n can cause formation of oils, can over-activate Some Sites \n thus forming highly branched materials which are \n undesirable, and can, in the extreme, actually cause catalyst activity decreases. ",
         "US6617405",
         "/home/anatoly_kayda/Desktop/mipt/data/unioncarbide/US/US6617405.pdf",
         "False"
        ],
        [
         "2",
         "US6617405",
         "/home/anatoly_kayda/Desktop/mipt/data/unioncarbide/US/US6617405.pdf",
         "3",
         "NO",
         "100.0",
         "YES",
         "0.0",
         "US 6,617.405 B1 \n 3 \n DISCLOSURE OF THE INVENTION \n An object of this invention, therefore, is to provide a proceSS for preparing polyethylene, which overcomes the \n deficiencies associated with Separate and/or excessive addi tion of cocatalyst aluminum alkyl. Other objects and advan \n tages will become apparent hereinafter. \n According to the present invention, Such a process has been discovered. The process entails contacting ethylene per \n Se or ethylene and one or more comonomers in one or more fluidized bed reactors, under polymerization conditions, with a catalyst System comprising (i) a Supported or unsup ported magnesium/titanium based precursor in Slurry form, \n said precursor containing an electron donor; and (ii) an \n activator in an amount Sufficient to complete the activation of the precursor. The invention lies in an improvement to this process comprising \n (A) mixing the precursor and the activator prior to intro \n duction into the reactor in two or three Steps, the last Step being a topping-off Step in which activation is completed; \n (B) maintaining the mixture from Step (A) in Slurry form; \n and \n (C) introducing the mixture from Step (B) into the reactor with the following provisos: \n (I) the atomic ratio of aluminum to titanium is in the range of about 1:1 to about 15:1 and the mole ratio \n of activator to electron donor is about 1:1 to about \n 2:1; (II) the activator is one compound or a sequential \n mixture of two different compounds, (III) each activator compound has the formula Al(R) Xs wherein each R is independently a saturated aliphatic hydrocarbon radical having 1 to 14 carbon \n atoms, each X is independently chlorine, bromine, or \n iodine, and n is 1 to 3, (IV) the activation of the precursor is essentially com pleted prior to the introduction of the precursor into \n the reactor; and \n (V) no additional activator is introduced into the reactor (S). \n DESCRIPTION OF THE PREFERRED \n EMBODIMENT(S) \n The gaseous materials used in the process can be intro \n duced into the reactors via a recycle gas. The recycle gas is defined as a mixture of gases including ethylene per Se or ethylene and one or more alpha-olefins, preferably one or \n two alpha-olefins, as comonomers and, optionally, one or more inert gases Such as nitrogen (to make up the desired reactor pressure), inert hydrocarbons, and hydrogen. The alpha-olefins can be, for example, propylene, 1-butene, \n 1-hexene, 4-methyl-1-pentene, and 1-octene. The alpha \n olefins usually have no more than 12 carbon atoms, and preferably, 3 to 8 carbon atoms. The recycle gas can also be \n referred to as the inlet gas or cycle gas. \n The catalyst system can be exemplified by one where the \n precursor is formed by Spray drying and used in Slurry form. \n Such a catalyst precursor, for example, contains titanium, \n magnesium, and an electron donor, and, optionally, an \n aluminum halide. The precursor is introduced into a hydro \n carbon medium Such as mineral oil to provide a slurry. This \n spray dried catalyst is described in U.S. Pat. No. 5,290,745. \n Other processes are described in U.S. Pat. Nos. 5,601,742 and 4,482,687. In whichever manner the catalyst precursor is produced, the precursor is preferably Suspended in an 15 \n 25 \n 35 \n 40 \n 45 \n 50 \n 55 \n 60 \n 65 4 \n inert, high Viscosity fluid, e.g., a moderately high Viscosity \n mineral oil, to allow efficient blending of the activator compound. \n A typical magnesium/titanium based catalyst System can \n be described as follows: \n The precursor can have the formula MgTiOR).X(ED), wherein R is an aliphatic or aromatic hydrocarbon radical \n having 1 to 14 carbon atoms or COR' wherein R' is an aliphatic or aromatic hydrocarbon radical having 1 to 14 \n carbon atoms; each OR group is the same or different; X is independently chlorine, bromine or iodine, ED is an electron \n donor; d is 0.5 to 56; e is 0, 1, or 2; f is 2 to 116; and g is 1.5d+2. It is prepared from a titanium compound, a magne \n Sium compound, and an electron donor. Titanium compounds, which are useful in preparing these precursors, \n have the formula Ti(OR), X, wherein R, X, and e are as defined above, h is an integer from 1 to 4, and e--h is 3 or 4. Some specific examples of titanium compounds are TiCl, \n TiCl, Ti(OCH) Br; Ti(OCH)Cl; and Ti(OCOCH) Cls. TiCl and TiCl, are preferred compounds. The magne sium compounds include magnesium halides Such as MgCl, MgBr, and Mg2. Anhydrous MgCl2 is a preferred com \n pound. About 0.5 to about 56, and preferably about 1 to about 10, moles of the magnesium compounds are used per \n mole of titanium compound. \n The electron donor is an organic Lewis base, liquid at temperatures in the range of about 0 degrees C. to about 200 \n degrees C., in which the magnesium and titanium com \n pounds are Soluble. The electron donor can be an alkyl ester of an aliphatic or aromatic carboxylic acid, an aliphatic \n ketone, an aliphatic amine, an aliphatic alcohol, an alkyl or \n cycloalkyl ether, or mixtures thereof, each electron donor \n having 2 to 20 carbon atoms. Among these electron donors, the preferred are alkyl and cycloalkyl ethers having 2 to 20 \n carbon atoms, dialkyl, diaryl, and alkylaryl ketones having \n 3 to 20 carbon atoms, and alkyl, alkoxy, and alkylalkoxy esters of alkyl and aryl carboxylic acids having 2 to 20 \n carbon atoms. The most preferred electron donor is tetrahy \n drofuran. Other examples of Suitable electron donors are methyl formate, ethyl acetate, butyl acetate, ethyl ether, \n dioxane, di-n-propyl ether, dibutyl ether, ethanol, 1-butanol, ethyl formate, methyl acetate, ethyl anisate, ethylene \n carbonate, tetrahydropyran, and ethyl propionate. Alcohol \n containing electron donors which react with the transition metal halide compounds are not preferred. \n While an excess of electron donor is used initially to provide the reaction product of titanium compound and \n electron donor, the reaction product finally contains about 1 \n to about 20 moles of electron donor per mole of titanium compound and preferably about 1 to about 10 moles of \n electron donor per mole of titanium compound. \n The activators that can be used in the invention are \n compounds of the formula RAIX. Compounds of the \n formula RBX, (where n is 0 to 2) are typical Lewis acids, which are not activator compounds, but are useful in the \n instant invention. The activator/Lewis acid compounds are added preferably in the same inert diluent as the catalyst precursor. The precursor activator used in the pre-activation \n can be one compound or a mixture of two different com pounds. Each compound can have the formula (R)AIX, wherein each R is independently a Saturated aliphatic hydro \n carbon radical having 1 to 14 carbon atoms; each X is a halogen, preferably independently chlorine, bromine, or \n iodine, and n is 1 to 3. Examples of the R radical are methyl, ethyl, n-butyl, isobutyl, n-hexyl and n-octyl. Preferred acti \n vators include diethyl aluminum chloride, triethyl ",
         "US6617405",
         "/home/anatoly_kayda/Desktop/mipt/data/unioncarbide/US/US6617405.pdf",
         "False"
        ],
        [
         "3",
         "US6617405",
         "/home/anatoly_kayda/Desktop/mipt/data/unioncarbide/US/US6617405.pdf",
         "4",
         "NO",
         "100.0",
         "YES",
         "0.0",
         "US 6,617.405 B1 \n S \n aluminum, tri-n-hexyl aluminum, dimethyl aluminum chloride, and tri-n-octyl aluminum. Particularly preferred \n activators are: a Sequential mixture of tri-n-hexylaluminum \n and diethylaluminum chloride; a Sequential mixture of tri ethylaluminum and diethylaluminum chloride; a Sequential \n mixture of diethylaluminum chloride and tri-n- heXylaluminum; a Sequential mixture of diethylaluminum \n chloride and triethylaluminum; and either diethyl aluminum \n chloride or tri-n-hexyl aluminum. \n In the Sequential mixture, it is preferred to have the first \n precursor activator (Activator 1) of the formula AlR and the Second precursor activator (Activator 2) of formula Al(R) \n Xs, wherein R, X, and n are the same as above. Preferred mole ratioS of Activator 2 to Activator 1 range from about \n 1:1 to about 6:1. \n The activators can also be represented by the formulas RA1 or RAIX wherein each R is independently alkyl, cycloalkyl, aryl, or hydrogen; at least one R is hydrocarbyl, \n and two or three R radicals can be joined to form a heterocyclic structure. Each R, which is a hydrocarbyl \n radical, can have 1 to 20 carbon atoms, and preferably has 1 to 10 carbon atoms. X is a halogen, preferably chlorine, \n bromine, or iodine. \n Examples of hydrocarbyl aluminum activators, in addi \n tion to those mentioned above, are as follows: tri isobutylaluminum, di-isobutyl-aluminum hydride, dihexyla \n luminum hydride, di-isobutyl-hexylaluminum, isobutyl diheXylaluminum, trimethylaluminum, tripropylaluminum, \n trii Sopropylaluminum, tri-n-butyl aluminum, tridecylaluminum, tridodecylaluminum, tribenzylaluminum, \n trip he nylaluminum, trinaphthylaluminum, tritolylaluminum, isoprenylaluminum, dibutylaluminum \n chloride, diisobutylaluminum chloride, and ethylaluminum SeSquichloride. \n Essentially complete activation of the precursor is carried \n out prior to the introduction of the precursor into the reactor. Depending on Specific chemical equilibria, the total amount \n of activator can range from about 1 mole of activator per \n mole of electron donor to about 2 moles of activator per mole of electron donor. This ratio also applies to each \n activator when two activators are used, but the total amount \n of activator(s) will not be in excess of this ratio. It will be \n understood that after this activation, no additional activators \n are added to the reactor(s). \n In a preferred mode (Sometimes referred to as an in-line reduction System), the precursor is introduced into a hydro \n carbon Solvent slurry feed tank; the Slurry then passes to a \n Static mixer immediately downstream of an activator injec \n tion port where the slurry is mixed with the activator; then the mixture passes to a Second Static mixer immediately \n downstream of a Second activator injection port where it is \n mixed with the Second activator. The Second activator is \n optional, but preferred. The mixture then passes to another \n mixer, preferably of the same kind, where it is topped-off \n with a Small amount of activator Sufficient to complete \n activation of the precursor, i.e., an amount Sufficient to alkylate the active site and promote polymerization. A Small \n additional amount may also be included to counteract impu rities found in the polymerization System; however, this \n amount is inclusive in the overall Al:Ti atomic ratio, i.e., \n about 1:1 to about 15:1, preferably about 1:1 to about 10:1, \n and is not in excess of that ratio. \n The static mixer element is preferably mounted vertically \n to prevent Solids accumulation in the mixer. It makes no \n difference which direction the flow is going, however. A 32 \n element Static mixer in 72 inch tube size is highly efficacious. 15 \n 25 \n 35 \n 40 \n 45 \n 50 \n 55 \n 60 \n 65 6 \n The 32 element mixer (overall length is 24.75 inch) will have a relatively low pressure drop while Still providing \n intimate mixing of the fluid elements. The Static mixer element is preferably located downstream of the injection point of alkyl reducing agent to the precursor Slurry. There \n is no requirement that the mixer element be within a certain minimum distance of the mix point; however, any distance from a few inches to a few feet may be acceptable depending \n on the overall System layout and dimensions. The Static mixer element may be jacketed or not. In any case, the \n System should, at a minimum, be insulated to prevent heat loSS to the environment. Acceptable mixing can be provided \n by a 2 foot (32 element) Kenics TM static mixer. This low energy mixer functions by constantly dividing the flow and \n reversing flow directions in a circular pattern in the direction \n of the flow in the tube associated with the mixer. Depending on the activator used, Some reaction time may be required \n for the reaction of the activator with the catalyst precursor. \n This is conveniently done using a residence time Zone, \n which can consist either of an additional length of slurry feed pipe or an essentially plug flow holding vessel. A \n residence time Zone can be used for both activators, for only one or for neither, depending entirely on the rate of reaction between activator and catalyst precursor. See discussion of \n residence time pots below. The entire mixture, after the topping-off Step, is then introduced into the reactor, usually \n at the same time as the flow of ethylene is initiated. \n It is noted that due to the high viscosity of the slurry, heat transfer is relatively poor (the Reynolds number is in the 1 to 10 range). Degradation can begin to occur at temperatures \n higher than 60 degrees C. Thus, activation is normally \n effected at temperatures in the range of about 10 to about 60 degrees C., preferably about 30 to about 45 degrees C. In any \n case, good mixing is needed to maintain constant tempera \n tures and allow for completion of the reaction in view of the prevalent low mass transfer coefficients in high Viscosity Systems. Intense high energy input mixing, mixing by injec \n tion into a flowing Stream, and mixing by diffusion are not \n recommended. \n To assure a uniform final catalyst precursor, it is important \n that the flow through the mixing devices be as close to plug \n flow as possible. In addition, Some of the reactions require \n finite amounts of time to proceed to completion So it is also necessary to provide residence time in the System. Although \n this can be accomplished by use of long loops of pipe or tubing, the risk of catalyst precursor Settling out during \n unavoidable outages in catalyst feed and the high preSSure \n drop that this will cause makes this highly impractical. \n Instead, the process of the invention is preferably carried out utilizing residence time pots designed to promote plug flow while retaining the catalyst Slurry in Suspension. \n The design of the residence time pot is such that it will promote uniform (or close to uniform) residence times as well as constant temperature. Since plug flow is desired, designs which promote back mixing are definitely not pre \n ferred. Although Some back mixing will naturally occur in tubing lines (due to Velocity gradients-a natural consequence of being totally in laminar flow), this is of relatively minor \n impact. Axial mixing in the residence time pots is minimized by maintaining a high aspect ratio a preferred L/D (length \n to diameter ratio) of about 10 to about 15). This results in a low velocity in the residence time pot and minimal back mixing due to Velocity gradients in laminar flow. \n Some homogenization of the slurry occurs at the transi \n tion Section from the residence time pot to the Smaller diameter feed lines. Additional radial mixing is preferably \n provided by Small impellers, which are located near the ",
         "US6617405",
         "/home/anatoly_kayda/Desktop/mipt/data/unioncarbide/US/US6617405.pdf",
         "False"
        ],
        [
         "4",
         "US6617405",
         "/home/anatoly_kayda/Desktop/mipt/data/unioncarbide/US/US6617405.pdf",
         "5",
         "YES",
         "73.11",
         "NO",
         "26.89",
         "US 6,617.405 B1 \n 7 \n bottom of the residence time pot. The impeller promotes Some radial mixing, but mainly assures that the bottom Section of the residence time pot does not experience SuS pended solid buildup. \n After activator has been added to the catalyst precursor Slurry in one or two steps, additional activator is added as a last step prior to entry into the reactor. Preferably, this \n addition occurs within 30 minutes and preferably within less than 15 minutes of actual injection of the catalyst precursor \n Slurry into the reactor. The activator can be in Solution in an inert Solvent (Such as a high Viscosity fluid carrier or a lower Viscosity Solvent) or added as pure component. It is essential \n that a mixer, preferably an additional Static mixer element, be located immediately downstream of the addition point of \n the additional activator. It is also important to keep the Slurry flowing to assure that no plugs form in the catalyst feed line. \n Additional activator is fed to provide for sufficient activation of the catalyst plus a Small additional amount to Scavenge \n impurities in the polymerization reactor. The total amount of \n this additional “topping off activator can be about 0.1 to \n about 75 percent by mol of the total amount of the activator \n used for the activation of the precursor. Addition of all of the activator to the catalyst precursor eliminates mass transfer problems, which would prevent the activator from reaching the catalyst precursor if Separate addition to the reactor was \n practiced. This practice leads to extremely efficient utiliza tion of activator and improved polymer product properties. \n After completion of the mixing of activator with catalyst \n precursor, direct injection into the reactor occurs. Means of feeding a slurry to a gas phase reactor are well known and described in the art (see European Patent Application 635 521, for example). \n The hydrocarbon used for the formation of the slurry can \n be any essentially air and moisture free aliphatic or aromatic hydrocarbon which is unreactive with the catalyst precursor, \n the precursor activator compounds, and the cocatalyst. In \n practice, Since many of the final polymer products find end \n uses in food packaging, aromatic hydrocarbons would not be a preferred slurry solvent. The hydrocarbon slurry solvent is \n typically chosen from hydrogenated “mineral oils” or naph \n thenic oils of relatively high Viscosity to minimize Settling of \n catalyst Solids in feed tubes and the like, although, with appropriate engineering design, lower Viscosity Solvents \n Such as isopentane, hexane, and heptane can be used as Slurry Solvents. These are not particularly preferred due to \n the additional complexity introduced by use of a lower Viscosity and more easily Settled slurry as catalyst. The \n viscosity of the hydrocarbon slurry solvent, however, is sufficiently low so that the slurry can be conveniently pumped through the pre-activation apparatus and eventually \n into the polymerization reactor. Preferred Solvents are ali phatic hydrocarbons with viscosity greater than about 50 centipoises (cps), particularly greater than about 100 cps and \n less than about 5,000 cps. Particularly preferred solvents are \n napthenic mineral oils typified by materials Such as the Kaydol series of food grade mineral oils supplied by Witco \n under the trademark Kaydol(R) 350 and 550. \n It is preferred not to use a Support. However, in those \n cases where it is desired to Support the precursor, Silica is the preferred Support. Other Suitable Supports are inorganic \n oxides Such as aluminum phosphate, alumina, Silica/alumina mixtures, Silica modified with an organoaluminum com pound Such as triethylaluminum, and Silica modified with diethyl Zinc. A typical Support is a Solid, particulate, porous \n material essentially inert to the polymerization. It is used as a dry powder having an average particle Size of about 10 to \n about 250 microns and preferably about 30 to about 100 15 \n 25 \n 35 \n 40 \n 45 \n 50 \n 55 \n 60 \n 65 8 \n microns, a Surface area of at least 200 Square meters per gram and preferably at least about 250 Square meters per \n gram; and a pore Size of at least about 100 angstroms and preferably at least about 200 angstroms. Generally, the \n amount of support used is that which will provide about 0.1 \n to about 1.0 millimole of titanium per gram of Support and \n preferably about 0.4 to about 0.9 millimole of titanium per gram of Support. Impregnation of the above mentioned catalyst precursor into a Silica Support can be accomplished \n by mixing the precursor and Silica gel in the electron donor \n solvent or other solvent followed by solvent removal under reduced pressure. The resultant Solid catalyst is then con verted into a free flowing Slurry with an aliphatic hydrocar \n bon as described above Such that it is pumpable as a liquid into the process. Catalyst precursorS Such as those described \n in U.S. Pat. No. 5,290,745 and European Patent Application 771 820 are particularly useful in the process of subject \n invention when placed into a hydrocarbon Slurry in the \n unactivated State. \n The polymerization is conducted in the gas phase using a \n continuous fluidized bed process. \n Melt index is determined under ASTM D-1238, Condition E. It is measured at 190° C. and 2.16 kilograms and reported as grams per 10 minutes or decigrams per minute. Flow \n index is determined under ASTM D-1238, Condition F. It is \n measured at 190° C. and 10 times the weight used in determining the melt index, and reported as grams per 10 \n minutes or decigrams per minute. Melt flow ratio is the ratio \n of flow index to melt index. The product, as removed from \n the reactor, can have a melt indeX in the range of about 0.02 to about 300 grams per 10 minutes, and preferably has a melt \n index in the range of about >0.04 to about 50 grams per 10 \n minutes. The melt flow ratio is in the range of about 20 to about 50, and is preferably in the range of about 20 to about 30. The density of the polymer is normally at least 0.900 \n gram per cubic centimeter, and is preferably in the range of \n 0.915 to 0.960 gram per cubic centimeter. The bulk density \n can be in the range of about 18 to about 32 pounds per cubic foot, and is preferably greater than 22 pounds per cubic foot. \n The molecular weight distribution of the polymer is reflected \n in an Mw/Mn of about 3 to about 7. Mw is the weight average molecular weight, Mn is the number average \n molecular weight; and the Mw/Mn ratio can be referred to as the polydispersity index, which is a measure of the \n breadth of the molecular weight distribution. Mw/Mn can \n also be related to MFR, with lower values of MFR indicated \n lower values of Mw/Mn and a narrower molecular weight \n distribution. \n The transition metal based catalyst System including the activated precursor, ethylene, and, optionally, alpha-olefin \n and hydrogen are continuously fed into the reactor, and the \n final product is continuously removed from the reactor. \n In the reactor: \n The mole ratio of alpha-olefin (if used) to ethylene can be in the range of about 0.01:1 to about 0.8:1, and is preferably \n in the range of about 0.02:1 to about 0.35:1. The mole ratio of hydrogen (if used) to ethylene can be in the range of about \n 0.001:1 to about 2:1, and is preferably in the range of about 0.01 to about 0.5:1. Preferred operating temperatures vary \n depending on the density desired, i.e., lower temperatures \n for lower densities and higher temperatures for higher \n densities. \n The pressure, i.e., the total pressure in the reactor, can be in the range of about 200 to about 500 psig (pounds per Square inch gauge) and is preferably in the range of about \n 280 to about 450 psig. The ethylene partial pressure can be ",
         "US6617405",
         "/home/anatoly_kayda/Desktop/mipt/data/unioncarbide/US/US6617405.pdf",
         "False"
        ],
        [
         "5",
         "US6617405",
         "/home/anatoly_kayda/Desktop/mipt/data/unioncarbide/US/US6617405.pdf",
         "6",
         "YES",
         "99.68",
         "NO",
         "0.32",
         "US 6,617.405 B1 \n 9 \n in the range of about 10 to about 150 psig, and is preferably \n in the range of about >20 to about 120 psig. The balance of the total pressure is provided by alpha-olefin (if used) and an \n inert gas Such as nitrogen. Other inert hydrocarbons, Such as an induced condensing agent e.g., isopentane, hexane also \n contribute to the overall preSSure in the reactor according to their vapor pressure under the temperature and pressure \n experienced in the reactor. A typical fluidized bed reactor \n can be described as follows: \n The bed is usually made up of the same granular resin that \n is to be produced in the reactor. Thus, during the course of the polymerization, the bed comprises formed polymer particles, growing polymer particles, and catalyst particles \n fluidized by polymerization and modifying gaseous compo \n nents introduced at a flow rate or Velocity Sufficient to cause the particles to Separate and act as a fluid. The fluidizing gas \n is made up of the initial feed, make-up feed, and cycle \n (recycle) gas, i.e., comonomers and, if desired, modifiers and/or an inert carrier gas. \n The essential parts of the reaction System are the vessel, \n the bed, the gas distribution plate, inlet and outlet piping, a compressor, cycle gas cooler, and a product discharge SyS \n tem. In the vessel, above the bed, there is a velocity \n reduction Zone, and, in the bed, a reaction Zone. Both are above the gas distribution plate. \n A typical fluidized bed reactor is further described in U.S. \n Pat. No. 4,482,687. \n The gaseous feed Streams of ethylene, other gaseous alpha-olefins (if used), and hydrogen (if used) are preferably fed to the reactor recycle line as well as liquid alpha-olefins (if used). The activated catalyst precursor is preferably \n injected into the fluidized bed as a Solid or a mineral oil Slurry. The product composition can be varied by changing \n the molar ratioS of the comonomers introduced into the \n fluidized bed. The product is continuously discharged in \n granular or particulate form from the reactor as the bed level builds up with polymerization. The production rate is con \n trolled by adjusting the catalyst feed rate and/or the ethylene partial pressures. \n The hydrogen:ethylene mole ratio can be adjusted to control average molecular weights. The alpha-olefins (other than ethylene) can be present in a total amount of up to 15 percent by weight of the copolymer and, if used, are pref \n erably included in the copolymer in a total amount of about 1 to about 10 percent by weight based on the weight of the copolymer. \n The residence time of the mixture of reactants including gaseous and liquid reactants, catalyst, and resin in the \n fluidized bed can be in the range of about 1 to about 12 hours and is preferably in the range of about 2 to about 5 hours. \n The reactor can be run in the condensing mode, if desired. \n The condensing mode is described in U.S. Pat. Nos. 4,543, \n 399; 4,588,790; and 5,352,749. \n The resin can be extruded in a conventional extruder \n adapted for that purpose. Extruders and processes for extru \n Sion are described in U.S. Pat. Nos. 4,814, 135; 4,857,600; \n 5,076,988; and 5,153,382. Examples of various extruders, which can be used in forming film are a single Screw type \n Such as one modified with a blown film die and air ring and continuous take off equipment, a blown film extruder, and a Slot cast extruder. A typical Single Screw type extruder can be described as one having a hopper at its upstream end and \n a die at its downstream end. The hopper feeds into a barrel, \n which contains a Screw. At the downstream end, between the \n end of the Screw and the die, is a Screen pack and a breaker plate. The screw portion of the extruder is considered to be 15 \n 25 \n 35 \n 40 \n 45 \n 50 \n 55 \n 60 \n 65 10 \n divided up into three Sections, the feed Section, the com pression Section, and the metering Section, and multiple \n heating Zones from the rear heating Zone to the front heating \n Zone, the multiple Sections and Zones running from upstream \n to downstream. If it has more than one barrel, the barrels are \n connected in Series. The length to diameter ratio of each barrel is in the range of about 16:1 to about 30:1. The extrusion can take place at temperatures in the range of \n about 160 to about 270 degrees C., and is preferably carried \n out at temperatures in the range of about 180 to about 240 degrees C. \n The advantages of the invention are found in that molecu \n lar weight distribution can be narrowed and hexane extract \n ables can be decreased without a decrease in hydrogen response and catalyst activity; there is no rapid increase in \n reaction rate, which can result in sheeting, chunking, and cessation of operation; reduction of the cocatalyst, i.e., activator, requirement; improved proceSS control; the pre \n cursor is leSS Sensitive to over-reduction; catalyst fines are all active So they are less likely to Segregate and migrate to \n the reactor wall to form sheets, facilitates activator change where different products are desired; the process allows for \n complete activation even where the activator has very low (or nil) vapor pressure Such as tri-n-hexyl aluminum; the \n process allows the use of leSS expensive activatorS Such as triethylaluminum and triusobutylaluminum; eliminates the \n need for Separate cocatalyst feed; although the proceSS is \n primarily focused on higher molecular weight (and lower levels of low molecular weight species), narrow molecular weight distribution products for fabrication into film, the process has broader application to higher melt indeX products, typically resins used in injection molding, elimi \n nates other forms of catalyst premixing, often a unit opera tion; and allows for quick changes of catalyst by changing \n relative flow rates of precursor and activator. \n Conventional additives, which can be introduced into the resin product, are exemplified by antioxidants, ultraViolet absorbers, pigments, dyes, nucleating agents, fillers, Slip \n agents, fire retardants, plasticizers, processing aids, \n lubricants, Stabilizers, Smoke inhibitors, Viscosity control agents, and crosslinking agents, catalysts, and boosters, \n tackifiers, and anti-blocking agents. Aside from the fillers, \n the additives can be present in the blend in amounts of about 0.1 to about 10 parts by weight of additive for each 100 parts \n by weight of polymer blend. Fillers can be added in amounts up to 200 parts by weight and more for each 100 parts by \n weight of the blend. \n Patents, patent applications, and other publications men \n tioned in this specification are incorporated by reference \n herein. \n Molecular weights are weight average molecular weights \n unless otherwise noted. \n The invention is illustrated by the following examples. \n EXAMPLES 1 to 4 \n Examples 1 to 4 are embodiments of the invention. In these examples, a Small polymerization reaction System, as \n described in U.S. Pat. No. 5,290,745 and references con \n tained therein, is used. Instead of manipulating the activator/ \n electron donor ratioS in an in-line fashion as indicated in the \n discussion of the preferred mode, the partially activated precursors are prepared in a batch fashion due to the extreme difficulty encountered in metering activator compound flows \n which would be at rates of about 1 to 3 cubic centimeters per \n hour. These results are illustrative of the effect of the \n invention in manipulating polymer properties in an in-line ",
         "US6617405",
         "/home/anatoly_kayda/Desktop/mipt/data/unioncarbide/US/US6617405.pdf",
         "False"
        ],
        [
         "6",
         "US6617405",
         "/home/anatoly_kayda/Desktop/mipt/data/unioncarbide/US/US6617405.pdf",
         "7",
         "YES",
         "100.0",
         " YES",
         "0.0",
         "US 6,617.405 B1 \n 11 \n fashion over a larger range of polymer MFR (melt flow ratio), hexane extractables, and polymer bulk density. The Smaller reaction System is used illustratively to avoid experi \n mentation in large commercial equipment, which can result in large amounts of off-specification polymer during the \n experiment. The results described below, however, are directly Scalable to large Scale commercial reaction Systems. \n Note: ratioS are mole ratioS unless otherwise Stated. \n Catalyst Precursor Preparation \n A titanium trichloride containing catalyst precursor is \n prepared in a 1900 liter vessel equipped with pressure and temperature controls and a turbine agitator. A nitrogen \n atmosphere (less than 5 ppm H2O) is maintained at all times. 1480 liters of anhydrous tetrahydrofuran (THF, the internal \n electron donor) containing less than 40 ppm H2O are added to the vessel. The THF is heated to a temperature of 50 degrees C., and 1.7 kilograms of granular magnesium metal \n (70.9 gram atoms) are added, followed by 27.2 kilograms of titanium tetrachloride (137 mols). The magnesium metal has a particle size in the range of from 0.1 to 4 millimeters. The \n titanium tetrachloride is added over a period of about \n one-half hour. \n The mixture is continuously agitated. The exotherm \n resulting from the addition of titanium tetrachloride causes the temperature of the mixture to rise to approximately 72 \n degrees C. Over a period of about three hours. The tempera \n ture is held at about 70 degrees C. by heating for approxi \n mately another four hours. At the end of this time, 61.7 kilograms of magnesium dichloride (540 moles) are added and heating is continued at 70 degrees C. for another eight \n hours. The mixture (solution) is then filtered through a 100 micron filter to remove undissolved magnesium dichloride and unreacted magnesium (less than 0.5 percent by weight). \n 100 kilograms of fumed Silica having a particle Size in the \n range of from 0.1 to 1 microns are added to the mixture prepared above over a period of about two hours. The \n mixture is stirred by means of a turbine agitator during this \n time and for Several hours thereafter to thoroughly disperse \n the Silica in the Solution. The temperature of the mixture is held at 70 degrees C. throughout this period and a nitrogen \n atmosphere is maintained at all times. \n The resulting Slurry is spray dried using an 8-foot diam \n eter closed cycle spray dryer equipped with a rotary atom izer. The rotary atomizer is adjusted to give catalyst particles \n with a D50 of 18 microns. The scrubber section of the spray dryer is maintained at approximately minus 4 degrees C. \n Nitrogen gas is introduced into the Spray dryer at an inlet \n temperature of 165 degrees C. and is circulated at a rate of approximately 1700 kilograms per hour. The catalyst Slurry \n is fed to the Spray dryer at a temperature of about 35 degrees \n C. and a rate of 90 to 95 kilograms per hour, or sufficient to yield an outlet gas temperature of approximately 125 \n degrees C. The atomization pressure is slightly above atmo Spheric. Discrete Spray dried catalyst precursor particles are \n formed. \n The Spray dried catalyst precursor contains 2.5 weight percent Ti, 6.3 weight percent Mg, and 25 to 29 weight \n percent THF. The particles have a D50 of 14 microns and a span (D90-D10)/D50 ranging from 0.75 to 1.25 as deter mined by means of a Leeds and Northrup Microtrac(R) particle size analyzer using a dodecane Solvent, The discrete \n catalyst precursor particles are mixed with mineral oil under \n a nitrogen atmosphere in a 400 liter vessel equipped with a turbine agitator to form a slurry containing approximately 28 \n weight percent of the Solid catalyst precursor. 15 \n 25 \n 35 \n 40 \n 45 \n 50 \n 55 \n 60 \n 65 12 \n To partially activate the catalyst Slurry, a 50 weight \n percent solution of tri-n-hexylaluminum (TnHAI) in mineral \n oil is added to the slurry followed by mixing for approxi \n mately 72 hour. The TnHAI solution is employed in an \n amount sufficient to provide 0.20 mole of TnHAI per mole of THF in the catalyst. Sequentially, then a 30 weight \n percent solution of diethylaluminum chloride (DEAC) in \n mineral oil is added and the mixture is mixed and held for \n approximately 1 hour. The DEAC is employed in an amount \n sufficient to provide 0.45 mole of DEAC per mole of THF \n in the catalyst. The mole ratio of total activator (TnHAI plus \n DEAC) to THF is 0.65:1. \n Ethylene is copolymerized with 1-butene in a fluidized \n bed reactor as described in U.S. Pat. No. 4,349,648. Each polymerization is continuously conducted after equilibrium \n is reached under conditions set forth in Table I. Polymer \n ization is initiated in the reactor by continuously feeding the \n above preactivated catalyst precursor into a fluidized bed of \n polyethylene granules together with ethylene, 1-hexene, and \n hydrogen. In example 1, an activator (in this case, a \n cocatalyst) is dissolved in isopentane (iC5) and fed to reactor Separately from the preactivated catalyst. \n Example 1 is repeated in examples 2 to 4 with the \n exception that the activator is now admixed with the catalyst \n in a final Step prior to addition to the reactor. Preactivated \n catalyst and triethylaluminum activator are mixed in-line for \n approximately 1 to 1.5 minutes. No external activator is fed \n to the reactor. The reaction conditions are set forth in Table \n I. The MFR and the bulk density are shown in Table II. It \n will be noted that the MFR and bulk density of the blend \n change with changes in the total activator/electron donor \n mole ratio with little change in other polymer properties or \n reaction conditions. Although the change in MFR is Small, \n changes of this kind can have significant effects on end use \n properties as indicated in U.S. Pat. No. 4,349,648, men \n tioned above. The change in Settled bulk density is greater with the highest bulk density (example 4) occurring at the \n lowest total activator/electron donor mole ratio. \n TABLE I \n Example \n REACTION 1. \n CONDITIONS Control 2 3 4 \n Temperature ( C.) 88 88 88 88 \n Pressure (psia) 350 350 350 350 \n Comonomer Type 1-butene 1-butene 1-butene 1-buteme \n C2 Partial Pressure 90 90 90 90 (psia) \n H2/C2 Mole Ratio O.130 O.125 O.125 O.18O \n C4/C2 Mole Ratio 340 340 350 360 \n Recycle iC5 Mole % 6.O 5.8 5.6 5.5 \n Cocatalyst Type TEAL TEAL TEAL TEAL \n Drum Avg. Prod. Rate 26 24 2O 2O \n (Ibs/hr) \n Heat Balance Prod Rate 26 24 23 21 \n (Ibs/hr) \n SGV (ft/sec) 1.7 1.7 1.7 1.7 \n Bed Weight (Ibs) 8O 8O 8O 8O \n Reactor Residence time 3.1 3.3 4.0 4.0 \n (hrs) Catalyst Carrier 3 pph iC5 3 pph iC5 3 pph iC5 3 pph iC5 \n (C5 or N2) O O O O 3 pph N2 3 pph N2 3 pph N2 3 pph N2 \n Precontacting Residence O 1.3 1.3 1.3 \n time (min) ",
         "US6617405",
         "/home/anatoly_kayda/Desktop/mipt/data/unioncarbide/US/US6617405.pdf",
         "True"
        ],
        [
         "7",
         "US6617405",
         "/home/anatoly_kayda/Desktop/mipt/data/unioncarbide/US/US6617405.pdf",
         "8",
         "YES",
         "100.0",
         " YES",
         "0.0",
         "US 6,617.405 B1 \n 13 \n TABLE II \n RESIN PROPERTIES 1. 2 3 4 \n Melt Index, I2 (dg/min) 1.12 1.07 O.90 1.08 \n Density (g/cm3) 91.95 91.82 91.85 91.90 \n MFR 26.2 26.O 26.O 24.9 \n Residual Al (ppm) 32 41 24 12 \n Residual Ti (ppm) 1.12 1.35 1.43 1.47 \n Total AlfT 50 53 3O 14 \n Added AlfTi 45.4 48.6 24.7 9.5 \n Total Activator/ED 6.8 7.2 4.0 1.9 \n Added Activator/ED 6.1 6.5 3.3 1.3 \n Settled Bulk Density 22.7 23.8 25.5 27.7 \n Average particle size (APS) O32 O2O O2O O19 \n (inches) \n Fines < 120 mesh, (wt %) 1. 1. 1. 1. \n EXAMPLES 5 to 9 \n Examples 5 to 9 are also embodimets of the invention. Catalyst is prepared as in Example 1. The Same reaction \n System is used. In these examples, however, 1-hexene is used as comonomer and trimethylaluminum as activator. In the control (example 5), the activator (cocatalyst) is fed Separately to the fluidized bed as a Solution in isopentane. 15 14 \n U.S. Pat. No. 5,068,489 is used in Comparative Examples 1, \n 3, 5, and 6. In the examples using a Silica impregnated \n catalyst, the catalyst is introduced to the reactor as a dry \n powder. In Comparative Examples 2, 4, 7, and 8, the catalyst \n is fed to the reactor as a slurry. In these examples, the \n activator (cocatalyst) is fed separately to the polymerizing \n bed. The spray dried slurry fed catalyst of Comparative \n Examples 2, 4, 7, and 8 is normally of higher productivity \n and hence lower residual titanium level than the Silica \n impregnated catalyst. This is illustrated by comparing Com \n parative Examples 1 and 2. Note, that despite Similar reac \n tion conditions, much higher residual titanium levels are \n observed at these low activator:Timolar ratios, even though \n the activator:ED molar ratios are much higher than those in Examples 1 to 9 illustrating the invention; also note the \n substantially lower residual titanium for the catalysts of the \n invention. Thus, a much more efficacious use of cocatalyst \n activator is achieved by the process of the invention, as well \n 0 as achieving the same results in terms of reduced MFR i.e., \n narrower molecular weight distribution (MWD) and lower hexane extractables. Both catalyst productivity and activa \n tor utilization effectiveneSS are improved through addition of \n the activator directly with the activated catalyst precursor composition in a hydrocarbon slurry. \n TABLE III \n Example \n REACTION 5 \n CONDITIONS Control 6 7 8 9 \n Temperature (C.) 88 88 88 88 88 \n Pressure (Psia) 350 350 350 350 350 \n Comonomer Type Hexene Hexene Hexene Hexene Hexene \n C2 Partial Pressure (Psia) 90 90 90 90 90 \n H2/C2 Mole Ratio O.12O O.120 O.130 O.130 O140 \n C6/C2 Mole Ratio O.1OO O.1OO O.1OO O.1OO O.1OO \n Recycle iC5 Mole % 6.O 5.9 6.O 6.O 6.O \n Cocatalyst Type TMA TMA TMA TMA TMA \n Drum Avg. Prod. Rate 22 2O 2O 2O 2O \n (1b/hr) \n Heat Balance Prod Rate 23 21 2O 2O 19 \n (1b/hr) \n SGV (ft/sec) 1.7 1.7 1.7 1.7 1.7 \n Bed Weight (Ibs) 8O 8O 8O 8O 8O \n Reactor Residence time 3.6 4.0 4.0 4.0 4.0 \n (hrs) Catalyst Carrier (N2 or 3 pph iC5/ 3 pph iC5/ 3 pph iC5/ 3 pph iC5/ 3 pph iC5/ iC5) 3 pph N2 3 pph N2 3 pph N2 3 pph N2 3 pph N2 \n Precontacting Residence O 1.3 1.3 1.3 1.3 \n time (min) \n Examples 6 to 9 utilize activator mixed directly with the \n preactivated catalyst in-line prior to introduction to the TABLE IV reactor. Since all of these examples use trimethylaluminum as activator, the effect of the invention on MFR is more 55 - Examples \n difficult to ascertain Since this particular activator normally \n gives low MFR values under any set of circumstances. The \n effect on bulk density, however, is still clear as is the relatively high catalyst productivity observed, even at very \n low Al/Tilevels. Variables and results can be found in Tables \n III and IV. \n COMPARATIVE EXAMPLES 1 to 8 \n Comparative Examples 1 to 8 variables and results are given in Tables V and VI. Catalyst, prepared as in Example \n 1 is used in Comparative Examples 2, 4, 7, and 8. An \n impregnated version of the basic catalyst as described in 60 \n 65 RESIN PROPERTIES 5 6 7 8 9 \n Melt Index, I2 (dg/min) 0.51 O.47 O46 O.43 O.37 \n Density (g/cm3) 9249 .9248 .925O 9246 9242 \n MFR 25.2 25.8 25.2 25.7 25.6 \n Residual Al (ppm) 21 22 15 11 5 \n Residual Ti (ppm) 1.54 155 1.53 1.61 1.64 \n Total AlfT 24 25 17 12 5 \n Added AlfTi 19.2 20.1 12.4 7.2 0.5 \n as Cocatalyst \n Total Activator/ED 3.2 3.4 2.3 1.6 O.7 \n Added Activator/ED 2.6 2.7 1.7 1.O O1 \n Settled Bulk Density 27.1 27.3 27.4 27.6 28.5 ",
         "US6617405",
         "/home/anatoly_kayda/Desktop/mipt/data/unioncarbide/US/US6617405.pdf",
         "True"
        ],
        [
         "8",
         "US6617405",
         "/home/anatoly_kayda/Desktop/mipt/data/unioncarbide/US/US6617405.pdf",
         "9",
         "YES",
         "100.0",
         " YES",
         "0.0",
         "US 6,617.405 B1 \n TABLE IV-continued TABLE VI(B)-continued \n Examples Comparative Examples \n RESIN PROPERTIES 5 6 7 8 9 S RESIN PROPERTIES 5 6 7 8 \n APS (inches) O17 O18 O17 O18 O18 Added Activator/ED 2.8 4.3 2.6 2.6 \n Fines < 120 mesh, 4 4 5 4 4 Settled Bulk Density 25.0 24.O 24.5 24.5 \n (wt %) APS (inches) O26 O28 O18 O18 \n TABLE V \n Comparative Example \n 1. 2 3 4 5 6 7 8 \n CATALYST \n INFORMATION \n Catalyst Type Supported Spray Supported Spray Supported Supported Spray Spray \n Dried Dried Dried Dried \n Activator Ratios 45/20 45/20 45/20 45/20 40/30 40/30 40/30 40/30 \n Activator 1 to ED THAL: THAL: THAL: THAL: THAL: THAL: THAL: THAL: \n mole ratio O.2 O.2 O.2 O.2 O.3 O.3 O.3 O.3 \n Activator 2 to ED DEAC: DEAC: DEAC: DEAC: DEAC: DEAC: DEAC: DEAC: \n mole ratio O.45 O.45 O.45 O.45 O.40 O40 O.40 O40 \n REACTION Control \n CONDITIONS \n Temperature ( C.) 87 87 87 87 88 88 88 88 \n Pressure (psia) 350 350 350 350 350 350 350 350 \n Comonomer Type Hexene Hexene Hexene Hexene Hexene Hexene Hexene Hexene \n C2 Partial Pressure 95 130 130 130 1OO 1OO 1OO 1OO (psia) \n H2/C2 Mole Ratio O.130 O.120 O.166 O.183 O.187 O.185 O.160 O-160 \n C6/C2 MoleRatio 140 125 .112 125 0.157 O.150 O.150 O.150 \n Cocatalyst Feed Location Bed Bed Bed Bed \n Cocatalyst Type TEAL TEAL TMA TMA \n Activator Feed Location Into Into Into Into \n Bed Bed Bed Bed \n Activator Type TEAL TEAL TEAL TEAL \n 40 What is claimed is: \n TABLE VI(A) 1. A process comprising contacting ethylene or ethylene \n and one or more comonomers in one or more fluidized bed \n Comparative reactors, under polymerization conditions, with a catalyst Examples System comprising (i) a Supported or unsupported RESIN PROPERTIES 1. 2 3 4 45 magnesium/titanium based precursor in slurry form, said \n Melt Index, I2 (dg/min) O.90 O.90 1.OO 1.OO precursor containing an electron donor; and (ii) an activator \n Density (g/cm3) 91.75 916.1 9162 9168 containing aluminum in an amount Sufficient to essentially \n MFR 29.0 28.3 26.7 26.5 complete the activation of the precursor, the method com Residual Ti (ppm) 3.10 1.14 3.03 2.29 rising: \n Added AlfTi 41.O 36.O 33.O 18.0 prising: as Activator A) mixing the precursor and a portion of the activator Total Activator/ED 6.8 5.3 5.5 3.0 prior to introduction into the reactor in at least one Added Activator/ED 6.1 4.7 4.9 2.3 mixing procedure to prepare a partially activated pre \n Settled Bulk Density 19.O 20.3 23.2 25.3 CUSO \n APS (inch O34 O26 O28 O19 r (inches) B) mixing the partially activated precursor with the \n 55 remainder of the activator to essentially complete the activation of the precursor and to prepare an essentially \n TABLE VI(B) completely activated precursor, \n C) maintaining the mixture from (A) in slurry form; and \n Steve D) introducing the mixture from (B) into the reactor with \n RESIN PROPERTIES 5 6 7 8 60 the following provisos. (i) the atomic ratio of aluminum to titanium is in the Melt Index, 12 (dg?min) O.93 O.82 O.79 O.77 range of about 1:1 to about 15:1, and the mole ratio Density (g/cm3) 9170 .9210 91.82 91.81 of activator to electron donor is about 1:1 to about \n MFR 25.7 25.3 25.7 25.8 2:1: \n Residual Ti (ppm) 3.50 3.65 240 2.40 - Added AlfTi 19.O 29.0 2O.O 2O.O (ii) the activator is one compound or a mixture of two \n as Activator 65 different compounds, \n Total Activator/ED 3.5 5.0 3.3 3.3 (iii) each activator compound has the formula Al(R) Xs, wherein each R is independently a saturated ",
         "US6617405",
         "/home/anatoly_kayda/Desktop/mipt/data/unioncarbide/US/US6617405.pdf",
         "True"
        ],
        [
         "9",
         "US6617405",
         "/home/anatoly_kayda/Desktop/mipt/data/unioncarbide/US/US6617405.pdf",
         "10",
         "NO",
         "100.0",
         " NO",
         "0.0",
         "US 6,617.405 B1 \n 17 \n aliphatic hydrocarbon radical having 1 to 14 carbon \n atoms, each X is independently chlorine, bromine, or \n iodine, and n is 1 to 3; and \n (iv) no additional activator is introduced into the reactor(s). 2. The proceSS as claimed in claim 1 wherein, in each activator, R is Selected from the group consisting of methyl, ethyl, n-butyl, isobutyl, n-hexyl, and n-octyl. \n 3. The proceSS as claimed in claim 1 wherein each activator is Selected from the group consisting of tri-ethyl 10 \n aluminum, tri-n-butyl aluminum, tri-n-hexyl aluminum, tri-n octyl aluminum, triisobutyl aluminum, tri-methyl \n aluminum, diethyl aluminum chloride dimethyl aluminum \n chloride, and diuSobutyl aluminum chloride. \n 4. The proceSS as claimed in claim 1 wherein two mixing 15 procedures are carried out in procedure (A), and the activa 18 \n tor is a Sequential mixture Selected from the group consisting of a mixture of tri-n-hexylaluminum and diethylaluminum \n chloride; a mixture of triethylaluminum and diethylalumi \n num chloride; and a mixture of trimethylaluminum and dimethylaluminum chloride. \n 5. The process as claimed in claim 1 wherein the activator has the formula RA1 or RAIX wherein each R is indepen dently alkyl, cycloalkyl, aryl, or hydrogen; at least one R is \n hydrocarbyl, each hydrocarbyl has 1 to 20 carbon atoms; \n two or three R radicals can be joined to form a heterocyclic \n Structure; and X is chlorine, bromine, or iodine. \n 6. The process as claimed in claim 1 wherein the atomic \n ratio of aluminum to titanium is in the range of about 1:1 to \n about 10:1. ",
         "US6617405",
         "/home/anatoly_kayda/Desktop/mipt/data/unioncarbide/US/US6617405.pdf",
         "False"
        ],
        [
         "10",
         "US6248831",
         "/home/anatoly_kayda/Desktop/mipt/data/unioncarbide/US/US6248831.pdf",
         "1",
         "NO",
         "100.0",
         " NO",
         "0.0",
         "USOO6248831B1 \n (12) United States Patent (10) Patent No.: US 6,248,831 B1 \n Maheshwari et al. (45) Date of Patent: Jun. 19, 2001 \n (54) HIGH STRENGTH POLYETHYLENE FILM (56) References Cited \n (75) Inventors: Vinayak Maheshwari, Dunbar, WV U.S. PATENT DOCUMENTS \n (US); Robert Charles Job, Bound 5,047,468 9/1991 Lee et al. ............................... 52.5/53 \n Brook, NJ (US); William A. Hoffman, 5,122,494 6/1992 Job ....... ... 502/125 \n III, Ridgewood, NJ (US); William 5,371,157 12/1994 Job .............. ... 526/124 \n James Michie, Jr., Raritan, NJ (US) 5,405,901 4/1995 Daniell et al. ...... ... 525/53 5,503,914 * 4/1996 Michie, Jr. et al. ................. 428/220 \n (73) Assignee: Union Carbide Chemicals & Plastics * cited by examiner Technology Corporation, Danbury, CT (US) Primary Examiner Nathan M. Nutter (74) Attorney, Agent, or Firm-Saul R. Bresch \n (*) Notice: Subject to any disclaimer, the term of this (57) ABSTRACT patent is extended or adjusted under 35 U.S.C. 154(b) by 0 days. A proceSS for production of a polyethylene blend in Situ comprising contacting ethylene and at least one alpha-olefin \n (21) Appl. No.: 09/455,234 with a magnesium/titanium based catalyst System including a partially activated precursor and a cocatalyst in each of two \n fluidized bed reactors connected in Series, one of the pro VisoS being that the precursor is formed by contacting an (22) Filed: Dec. 6, 1999 \n (51) Int. Cl. ............................... C08F8/00; CO8L 23/00 alkylaluminum halide with a Solid reaction product prepared \n from a magnesium alkoxide, a titanium tetraalkoxide, and a (52) U.S. Cl. ............................................. 525/191; 525/240 Solubility enhancing agent. \n (58) Field of Search ...................................... 525/191, 240 11 Claims, No Drawings   ",
         "US6248831",
         "/home/anatoly_kayda/Desktop/mipt/data/unioncarbide/US/US6248831.pdf",
         "False"
        ],
        [
         "11",
         "US6248831",
         "/home/anatoly_kayda/Desktop/mipt/data/unioncarbide/US/US6248831.pdf",
         "2",
         "NO",
         "100.0",
         " NO",
         "0.0",
         "US 6,248,831 B1 \n 1 \n HIGH STRENGTH POLYETHYLENE FILM \n TECHNICAL FIELD \n This invention relates to a process for preparing an in Situ polyethylene blend, which can be converted into film having an improved balance of high Strength and exemplary extru \n Sion characteristics. \n BACKGROUND INFORMATION \n There has been a rapid growth in the market for linear low density polyethylene (LLDPE), particularly resin made under mild operating conditions, typically at preSSures of 100 to 300 psi and reaction temperatures of less than 100 C. This low pressure proceSS provides a broad range of LLDPE products for blown and cast film, injection molding, rotational molding, blow molding, pipe, tubing, and wire and cable applications. LLDPE has essentially a linear \n backbone with only short chain branches, about 2 to 6 carbon atoms in length. In LLDPE, the length and frequency of branching, and, consequently, the density, is controlled by \n the type and amount of comonomer used in the polymer ization. Although the majority of the LLDPE resins on the market today have a narrow molecular weight distribution, LLDPE resins with a broad molecular weight distribution are available for a number of non-film applications. LLDPE resins designed for commodity type applications \n typically incorporate 1-butene as the comonomer. The use of a higher molecular weight alpha-olefin comonomer pro duces resins with Significant Strength advantages relative to those of ethylene/1-butene copolymers. The predominant \n higher alpha-olefin comonomers in commercial use are 1-hexene, 4-methyl-1-pentene, and 1-octene. The bulk of the LLDPE is used in film products where the excellent physical properties and drawdown characteristics of LLDPE film makes this film well Suited for a broad Spectrum of appli cations. Fabrication of LLDPE film is generally effected by the blown film and Slot casting processes. The resulting film is characterized by excellent tensile Strength, high ultimate elongation, good impact Strength, and excellent puncture \n resistance. \n These properties together with toughneSS are enhanced when the polyethylene is of high molecular weight. However, as the molecular weight of the polyethylene increases, the processability of the resin usually decreases. By providing a blend of polymers, the properties character \n istic of high molecular weight resins can be retained and processability, particularly the extrudability (from the lower molecular weight component) can be improved. \n The blending of these polymerS is Successfully achieved \n in a Staged reactor proceSS Similar to those described in U.S. Pat. Nos. 5,047,468 and 5,149,738. Briefly, the process is one for the in Situ blending of polymers wherein a higher density ethylene copolymer is prepared in a high melt indeX reactor and a lower density ethylene copolymer is prepared \n in a low melt indeX reactor. The process typically comprises continuously contacting, under polymerization conditions, a \n mixture of ethylene and one or more alpha-olefins with a catalyst System in two gas phase, fluidized bed reactors connected in Series, said catalyst System comprising: (i) a Supported magnesium/titanium based catalyst precursor; (ii) an aluminum containing activator compound; and (iii) a hydrocarbyl aluminum cocatalyst, the polymerization con ditions being Such that an ethylene copolymer having a melt \n index in the range of about 0.1 to about 1000 grams per 10 \n minutes is formed in the high melt indeX reactor and an ethylene copolymer having a melt indeX in the range of \n about 0.001 to about 1 gram per 10 minutes is formed in the low melt indeX reactor, each copolymer having a density of \n about 0.860 to about 0.965 gram per cubic centimeter and a melt flow ratio in the range of about 22 to about 70, with the provisoS that: 1O \n 15 \n 25 \n 35 \n 40 \n 45 \n 50 \n 55 \n 60 \n 65 2 \n (a) the mixture of ethylene copolymer matrix and active \n catalyst formed in the first reactor in the Series is \n transferred to the Second reactor in the Series, \n (b) other than the active catalyst referred to in proviso (a) and the cocatalyst referred to in proviso (e), no addi \n tional catalyst is introduced into the Second reactor; \n (c) in the high melt index reactor: (1) the alpha-olefin is present in a ratio of about 0.02 to about 3.5 moles of alpha-olefin per mole of ethylene; \n and \n (2) hydrogen is present in a ratio of about 0.05 to about 3 moles of hydrogen per mole of combined ethylene and alpha-olefin; \n (d) in the low melt index reactor: (1) the alpha-olefin is present in a ratio of about 0.02 to about 3.5 moles of alpha-olefin per mole of ethylene; \n and \n (2) hydrogen is, optionally, present in a ratio of about \n 0.0001 to about 0.5 mole of hydrogen per mole of combined ethylene and alpha-olefin; and \n (e) additional hydrocarbyl aluminum cocatalyst is intro \n duced into the Second reactor in an amount Sufficient to \n restore the level of activity of the catalyst transferred \n from the first reactor to about the initial level of activity \n in the first reactor. \n While the in situ blends prepared as above and the films produced therefrom are found to have the advantageous \n characteristics heretofore mentioned, the commercial appli cation of these granular bimodal polymerS is limited by unacceptable levels of gels in contrast to competitive bimo dal resins produced from Slurry or Solution processes. Par \n ticle size distribution and flow characteristics Studies indi \n cate that the gas phase resins having an average particle size (APS) of about 400 to about 600 microns exhibit significant compositional, molecular, and rheological heterogeneities. When Such a granular resin is compounded, for example, \n with a conventional twin Screw mixer in a single pass, and the resulting pellets are fabricated into film, the film exhibits a high level of gels ranging in size from less than about 100 microns to greater than about 500 microns. These gels adversely effect the aesthetic appearance of the product. The gel characteristics of a film product are usually designated by a subjective scale of Film Appearance Rating (FAR) varying from minus 50 (very poor; these films have a large number of large gels) to plus 50 (very good; these films have a Small amount of, or essentially no, gels). The FAR of the Single pass film product mentioned above is generally in the \n range of about minus 50 to about minus 10/0. For commer cial acceptability, the FAR should be plus 20 or better. Several patents have Successfully addressed the gel prob \n lem. One such patent is U.S. Pat. No. 5,405,901. Unfortunately, this patent, for example, Suffers from other \n deficiencies. The extrusion line Speed of the product resin, which is a measure of bubble strength and stability, is found to be in the neighborhood of 90 feet per minute, and the dart drop Strength, while high for one mil film, is not achievable \n on 0.5 mil film due to low bubble stability. Meanwhile, in the realm of high and medium density, high molecular weight film applications, industry is Seeking resins with minimum \n extrusion line Speeds of about 210 feet per minute and thus films with higher bubble strength and stability together with higher dart drop Strength in the narrower gauges. \n DISCLOSURE OF THE INVENTION \n An object of this invention, therefore, is to provide a process for preparing an in Situ blend, which, can be extruded into a film at high line Speeds, the film having the bubble strength and stability, which translates into high ",
         "US6248831",
         "/home/anatoly_kayda/Desktop/mipt/data/unioncarbide/US/US6248831.pdf",
         "False"
        ],
        [
         "12",
         "US6248831",
         "/home/anatoly_kayda/Desktop/mipt/data/unioncarbide/US/US6248831.pdf",
         "3",
         "NO",
         "100.0",
         " NO",
         "0.0",
         "US 6,248,831 B1 \n 3 \n Strength, particularly in terms of dart drop. Other objects and \n advantages will become apparent hereinafter. \n According to the present invention Such a proceSS for the \n production of a polyethylene blend in Situ has been discov \n ered. The proceSS comprises contacting ethylene and at least \n one alpha-olefin comonomer having 3 to 8 carbon atoms with a magnesium/titanium based catalyst System including \n a partially activated precursor and a cocatalyst in each of two \n fluidized bed reactors connected in Series, in the gas phase, under polymerization conditions, with the provisoS that: \n (a) the precursor is formed by contacting an alkylalumi \n num halide with a Solid reaction product prepared from \n a magnesium alkoxide, a titanium tetraalkoxide, and a Solubility enhancing agent; \n (b) the mixture of ethylene copolymer matrix and active \n catalyst formed in the first reactor in the Series is \n transferred to the Second reactor in the Series, \n (c) other than the active catalyst referred to in proviso (b) \n and the cocatalyst referred to in proviso (f), no addi \n tional catalyst is introduced into the Second reactor; \n (d) in the first reactor in which a low melt index copoly \n mer is made: \n (1) alpha-olefin is present in a ratio of about 0.005 to \n about 0.4 mole of alpha-olefin per mole of ethylene; \n (2) hydrogen is, optionally, present in a ratio of about \n 0.0001 to about 0.3 mole of hydrogen per mole of \n ethylene, and \n (3) the ethylene partial pressure is in the range of about \n 10 to about 100 pounds per Square inch; and \n (e) in the Second reactor in which a high melt index copolymer is made: \n (1) alpha-olefinis, optionally, present in a ratio of about \n 0.005 to about 0.6 mole of alpha-olefin per mole of ethylene, \n (2) hydrogen is, optionally, present in a ratio of about \n 1.0 to about 3.0 moles of hydrogen per mole of ethylene, and \n (3) the ethylene partial pressure is in the range of about \n 50 to about 120 pounds per Square inch, and \n (f) additional hydrocarbyl aluminum cocatalyst is intro \n duced into the Second reactor in an amount Sufficient to \n restore the level of activity of the catalyst transferred \n from the first reactor to about the initial level of activity \n in the first reactor. \n DESCRIPTION OF THE PREFERRED \n EMBODIMENT(S) \n AS noted, the blend is produced in two staged reactors \n connected in Series wherein a mixture of resin and activated \n catalyst precursor is transferred from the first reactor to the \n Second reactor in which another copolymer is prepared and \n blends in situ with the copolymer from the first reactor. It \n will be understood by those skilled in the art that the transfer is effected without exposing the mixture to the atmosphere. \n The copolymers produced in each of the reactors are copolymers of ethylene and at least one alpha-olefin \n comonomer having 3 to 8 carbon atoms, preferably one or two alpha-olefin comonomers. The alpha-olefins can be, for example, propylene, 1-butene, 1-hexene, 4-methyl-1- \n pentene, and 1-octene. 15 \n 25 \n 35 \n 40 \n 45 \n 50 \n 55 \n 60 \n 65 4 \n Preferred comonomer combinations: \n first reactor second reactor \n 1-hexene 1-hexene \n 1-butene 1-hexene \n 1-butene 1-butene \n 1-hexene 1-butene \n The 1-hexene/1-hexene combination is found to give the best film properties; however, the 1-hexene/1-butene com bination is found to provide acceptable properties while Still meeting FDA Specifications since a terpolymer increases the \n FDA allowable comonomer content, e.g., for a 1-hexene copolymer, the maximum allowable comonomer content is 10 percent by weight whereas for a 1-hexene/1-butene terpolymer, the maximum allowable comonomer content is 15 percent by weight. For FDA purposes, the 1-hexene/1- \n hexene combination is considered a copolymer and the 1-hexene/1-butene combination is considered a terpolymer. \n It will be understood that the in situ blend can be \n characterized as a bimodal resin. The properties of bimodal resins are Strongly dependent on the proportion of the high \n molecular weight component, i.e., the low melt indeX com ponent. For a Staged reactor System, the proportion of the high molecular weight component is controlled via the relative production rate in each reactor. The relative produc \n tion rate in each reactor can, in turn, be controlled by a computer application program, which monitors the produc \n tion rate in the reactors (measured by heat balance) and then manipulates the ethylene partial preSSure in each reactor and \n catalyst feed rate in order to meet the production rate, the production rate Split, and catalyst productivity requirements. \n It will be further understood that there may be a second alpha-olefin comonomer in each reactor coming from a vent recovery System, for example. In this case, recovered liquids \n containing both comonomers are fed into the first reactor and there is carryover from the first reactor to the Second reactor due to the Solubility of the comonomer in the resin. This could account for a terpolymer in each reactor. The molar ratio of C6 to C4 (or other combination of higher alpha-olefin to lower alpha-olefin) is preferably no less than \n about 5:1 in the first reactor. Any molar ratio is Satisfactory in the Second reactor. In any case, the overall molar ratioS of alpha-olefin to ethylene in each reactor do not change. \n High speed extrusion bubble stability is an important \n factor in blown film extrusion processes. A blown film extrusion proceSS is one in which molten polymer is forced through an annular die to form a continuous cylindrical tube. \n Outside the die, the tube is blown out to a larger diameter than the die diameter, cooled by an air ring, and then flattened before wind-up. The ratio of the final diameter of the cylindrical tube to the diameter of the annulus is called the blow-up ratio (BUR). The combination of the extrusion rate, BUR, and the speed with which the tube is drawn out determines the final film thickness. The ability to produce thinner films at higher rates of extrusion is governed by many factors including the molecular and Theological char acteristics of the molten polymer, dependence of properties on temperature, and the design of the air ring. \n The entire cylindrical tube between the die and the collapsing frame (where the tube is flattened) is called the “bubble.” This is a cylindrical bubble in contrast to tradi tionally familiar spherical bubbles in which air, or some other gas, is enveloped by a thin liquid film. Here, air is used \n to blow a thin molten polymer film. The bubble looks conical from the outside because of a change in the diameter until the solidification at the frost-line height (FLH). ",
         "US6248831",
         "/home/anatoly_kayda/Desktop/mipt/data/unioncarbide/US/US6248831.pdf",
         "False"
        ],
        [
         "13",
         "US6248831",
         "/home/anatoly_kayda/Desktop/mipt/data/unioncarbide/US/US6248831.pdf",
         "4",
         "NO",
         "100.0",
         "YES",
         "0.0",
         "US 6,248,831 B1 \n S \n Sometimes, e.g., with high density polyethylene, the bubble \n looks like a cylindrical Semi-molten tube with a diameter approximately equal to the ring diameter before being blown \n out into a larger diameter. Past the FLH, however, the shape does not change from a circular cylindrical tube of constant \n diameter. Note that between the die and the FLH the bubble \n is always Semi-molten. \n One would like to produce a final film with close tolerance in film thickneSS under Stable conditions of operation. That is, the shape of the bubble remains the same without any change over time. The highest extrusion rate and the highest wind-up speed that can be used without changing the shape of the bubble provides the operating constraints for a given resin in a given System (extruder, air ring, cooling air temperature, etc.). For example, at a given extrusion rate, if one can increase the wind-up speed to make thinner film without losing the shape of the bubble, then the resin is said to have good high Speed extrusion bubble Stability. \n Often, the bubble stability within a given extrusion sys \n tem is directly related to the molecular characteristics which influence the behavior of the bubble. For example, it is easier to Stretch chewing gum into a very thin thread without breakage than a rubber band. A rubber band stiffens as it is Stretched and, beyond a certain point, it will break. However, the stiffening of the rubber band also gives it better stability \n since it will be less sensitive to external disturbances. This \n is not the case with the chewing gum Since it deforms very \n easily and is very sensitive to disturbances. In the blown film concept, one would like to have rubber band behavior as the bubble is being blown and stretched rather than a chewing gum behavior. In this invention, the combination of a particular precursor, in Situ blending, ethylene partial \n preSSure, and other defined parameters has been found to provide better high speed extrusion bubble stability, i.e., the film can be drawn at higher wind-up speeds to produce \n thinner films. \n The magnesium/titanium based catalyst System can be \n exemplified by the catalyst system described in U.S. Pat. No. 5,122,494. This System includes a precursor, an activator, and a cocatalyst. The precursor can be Supported or unsup ported. The precursor (prior to activation) is formed by contacting a magnesium alkoxide, a titanium tetraalkoxide, and Small amount of a Solubility enhancing agent which can be a species Such as carbon dioxide, triethylborate, a bromide, or a phenolic compound Selected from the group consisting of phenol and a phenol Substituted with an alkyl, an alkoxy, a halogen, or a dialkylamino group and can be \n isolated as a solid either by removal of solvent (as described in U.S. Pat. No. 5,106,806) or by precipitation as a halide complex (as described in U.S. Pat. No. 5,066,737). The reaction product can be represented essentially by the for mula MgTiOOR):X wherein each R is independently an alkyl group having 1 to 4 carbon atoms, preferably ethyl, and \n each X is independently a halide anion or a monovalent anion of a phenolic compound. X is preferably chloride or an anion of ortho-cresol or 2,6-di-t-butyl-4-methylphenol. The precursor is partially activated by contacting with an alkylaluminum halide. The alkylaluminum halide is an acti Vator compound and can be represented by the formula \n RATY, wherein R is an alkyl group having 1 to 8 carbon atoms, Y is a halogen Such as chlorine, bromine, or iodine, preferably chlorine; and n is 1 or 2. More detail can be found in U.S. Patent application Ser. No. 09/395,924 filed on Sep. 14, 1999, particularly examples 5 and 7. \n Preferred activators include alkylaluminum mono- and \n dichlorides wherein each alkyl radical has 1 to 6 carbon atoms. Examples of preferred activators are diethylalumi num chloride (DEAC) and ethylaluminum dichloride (EADC). Other conventional activators can also be used if desired. The molar ratio of activator to titanium can be in the 15 \n 25 \n 35 \n 40 \n 45 \n 50 \n 55 \n 60 \n 65 6 \n range of about 1:1 to about 150:1 and is preferably in the range of about 10:1 to about 30:1. The cocatalyst, generally a hydrocarbyl aluminum cocatalyst, can be represented by the formula R.Al, (RAIO), or RAIX wherein each R is independently alkyl, cycloalkyl, aryl, or hydrogen; at least one R is hydrocarbyl, and two or three R radicals can be joined to form a heterocyclic Structure. Each R, which is a hydrocarbyl radical, can have 1 to 20 carbon atoms, and preferably has 1 to 10 carbon atoms. X is a halogen, preferably chlorine, bromine, or iodine. Examples of hydrocarbyl aluminum compounds are as follows: triisobutylaluminum, tri-n-hexylaluminum, di-isobutyl-aluminum hydride, dihexylaluminum dihydride, di-isobutyl-hexylaluminum, isobutyl diheXylaluminum, trimethyl-aluminum, triethylaluminum, tripropylaluminum, \n trii Sopropylaluminum, tri-n-butyl aluminum, trioctylaluminum, tridecylaluminum, tridodecylaluminum, \n tribe in Zyl aluminum, trip he nylaluminum, trinaphthylaluminum, tritolylaluminum, dibutylaluminum \n chloride, diethylaluminum chloride, and ethylaluminum Ses quichloride. The cocatalyst is preferably added Separately \n neat or as a Solution in an inert Solvent, Such as isopentane, to the polymerization reactor at the Same time as the flow of ethylene is initiated. The cocatalyst compounds can also be \n used as the activators referred to above. \n As noted in U.S. Pat. No. 5,122,494, selectivity control agents can be used in the polymerization proceSS if desired, preferably when the primary olefin is propylene. \n AS noted above, the precursor can be prepared as a granular Solid or as a Solution. In those cases where it is desired to Support the Soluble precursor, Silica is the pre ferred Support. Other Suitable Supports are inorganic oxides \n Such as aluminum phosphate, alumina, Silica/alumina mixtures, Silica modified with an organoaluminum com pound Such as triethylaluminum, and Silica modified with diethyl Zinc. A typical Support is a Solid, particulate, porous \n material essentially inert to the polymerization. It is used as a dry powder having an average particle size of about 10 to \n about 250 microns and preferably about 30 to about 100 microns, a Surface area of at least 200 Square meters per gram and preferably at least about 250 Square meters per gram; and a pore Size of at least about 100 angstroms and preferably at least about 200 angstroms. Generally, the \n amount of support used is that which will provide about 0.1 to about 1.0 millimole of titanium per gram of Support and preferably about 0.4 to about 0.9 millimole of titanium per gram of Support. Impregnation of the above mentioned Soluble catalyst precursor into a Silica Support can be accom plished by mixing the precursor Solution and Silica gel in the \n electron donor solvent or other solvent followed by solvent removal under reduced preSSure. When a Support is not desired, the Soluble catalyst precursor can be used in liquid \n form. \n The entire catalyst System, which includes a partially activated precursor and the cocatalyst, is added to the first reactor. The catalyst is admixed with the copolymer pro \n duced in the first reactor, and the mixture is transferred to the Second reactor. Insofar as the catalyst is concerned, only cocatalyst is added to the Second reactor from an outside \n SOCC. \n The polymerization in each reactor is, preferably, con ducted in the gas phase using a continuous fluidized process. \n A typical fluidized bed reactor is described in U.S. Pat. No. \n 4,482,687. A relatively low melt index (or high molecular weight) copolymer is prepared in the first reactor. The first reactor is generally Smaller in size than the Second reactor because only a portion of the final product is made in the first reactor. The mixture of polymer and an active catalyst is usually \n transferred from the first reactor to the Second reactor via an ",
         "US6248831",
         "/home/anatoly_kayda/Desktop/mipt/data/unioncarbide/US/US6248831.pdf",
         "False"
        ],
        [
         "14",
         "US6248831",
         "/home/anatoly_kayda/Desktop/mipt/data/unioncarbide/US/US6248831.pdf",
         "5",
         "NO",
         "100.0",
         "YES",
         "0.0",
         "US 6,248,831 B1 \n 7 \n interconnecting device using nitrogen or Second reactor recycle gas as a transfer medium. \n In the high molecular weight (HMW) reactor: \n Because of the low values, instead of melt index, flow \n indeX is determined and those values are used in this \n specification. The flow index (I 21.6) can be in the range of about 0.20 to about 5.0 grams per 10 minutes, and is preferably in the range of about 0.25 to about 4 grams per 10 minutes. The molecular weight of this polymer is, generally, in the range of about 250,000 to about 600,000. The density of the copolymer can be in the range of 0.890 to 0.940 gram per cubic centimeter, and is preferably in the range of 0.900 to 0.935 gram per cubic centimeter. The melt flow ratio (I 21.6/I 2.16) of the polymer can be in the range of about 20 to about 65, and is preferably about 22 to about \n 50. \n Melt index (I 2.16) is determined under ASTM D-1238, Condition E. It is measured at 190° C. and 2.16 kilograms and reported as grams per 10 minutes. Melt index (I 5) can also be determined under ASTM D-1238, Condition P. It is measured at 190° C. and 5 kilograms and reported as grams per 10 minutes. Flow index (I 21.6) is determined under ASTM D-1238, Condition F. It is measured at 190° C. and 21.6 kilograms and reported as grams per 10 minutes. Melt \n flow ratio is the ratio of flow index (I 21.6) to melt index (I 2.16 or I 5). \n In the low molecular weight (LMW) reactor: \n A relatively high melt index (I 2.16) (or low molecular weight) copolymer is prepared in this reactor. The high melt index can be in the range of about 80 to about 1000 grams per 10 minutes, and is preferably in the range of about 150 to about 900 grams per 10 minutes. The molecular weight of the high melt indeX copolymer is, generally, in the range of about 15,000 to about 35,000. The density of the copolymer prepared in this reactor can be in the range of 0.925 to 0.970 gram per cubic centimeter, and is preferably in the range of \n 0.928 to 0.965 gram per cubic centimeter. The melt flow ratio (I 21.6/I 2.16) of this copolymer can be in the range of about 20 to about 65, and is preferably about 22 to about 50. \n The blend or final product, as removed from the second reactor, can have a melt index (I5) in the range of about 0.01 to about 2.0 grams per 10 minutes, and preferably has a melt index in the range of about 0.05 to about 1.0 grams per 10 minutes. The melt flow ratio (I 21.6/I 5) is in the range of about 20 to about 45, and is preferably in the range of about 22 to about 42. The average molecular weight of the final product is, generally, in the range of about 200,000 to about \n 350,000. The density of the blend can be in the range of 0.915 to 0.958 gram per cubic centimeter, and is preferably in the range of 0.920 to 0.955 gram per cubic centimeter. \n The blend has a broad molecular weight distribution \n which can be characterized as bimodal. The broad molecular \n weight distribution is reflected in an Mw/Mn ratio of about 18 to about 32, preferably about 20 to about 30. Mw is the weight average molecular weight, Mn is the number average \n molecular weight; and the Mw/Mn ratio can be referred to as the polydispersity index (PDI), which can be viewed as a measure of the breadth of the molecular weight distribution. \n The weight ratio of copolymer prepared in the high molecular weight reactor to copolymer prepared in the low \n molecular weight reactor can be in the range of about 0.8:1 to about 2.3:1, and is preferably in the range of about 0.9:1 to about 1.9:1. The optimum weight ratio is about 1.2:1 to about 1.5:1. This is also known as the split. The magnesium/titanium based catalyst System, ethylene, alpha-olefin, and hydrogen are continuously fed into the first reactor; the polymer/catalyst mixture is continuously trans \n ferred from the first reactor to the Second reactor; ethylene, alpha-olefin, and hydrogen, as well as cocatalyst are con 15 \n 25 \n 35 \n 40 \n 45 \n 50 \n 55 \n 60 \n 65 8 \n tinuously fed to the Second reactor. The final product is continuously removed from the Second reactor. \n In the low melt index, as reflected in flow index reactor, i.e., the first reactor: The mole ratio of alpha-olefin to ethylene can be in the range of about 0.005:1 to about 0.4:1, and is preferably in the range of about 0.02:1 to about 0.26:1. The mole ratio of hydrogen to ethylene can be in the range \n of about 0.0001:1 to about 0.3:1, and is preferably in the range of about 0.001:1 to about 0.18:1. The operating temperature is generally in the range of about 60° C. to about 100° C. Preferred operating temperatures vary depending on \n the density desired, i.e., lower temperatures for lower den Sities and higher temperatures for higher densities. \n In the high melt indeX reactor, i.e., the Second reactor: The mole ratio of alpha-olefin (optional) to ethylene can \n be in the range of about 0.005:1 to about 0.6:1, and is preferably in the range of about 0.01:1 to about 0.42:1. The mole ratio of hydrogen to ethylene can be in the range of \n about 1.0:1 to about 3:1, and is preferably in the range of about 1.3:1 to about 2.2:1. The operating temperature is generally in the range of about 70° C. to about 110° C. As mentioned above, the temperature is preferably varied with the desired density. \n The total reactor pressure in the Second reactor is usually higher than that used in the first reactor because of higher ethylene partial pressures and high hydrogen/ethylene \n requirements. The pressure, i.e., the total pressure in each \n reactor, can be in the range of about 200 to about 450 psig and is preferably in the range of about 280 to about 400 psig. The ethylene partial pressure in the first reactor can be in the range of about 10 to about 100 psi and is preferably in the range of about 20 to about 60 psi. The ethylene partial \n preSSure in the Second reactor can be in the range of about 50 to about 120 psi and is preferably in the range of about 60 to about 110 psi. The upper limit of ethylene partial preSSure in the first reactor and the ethylene partial preSSure \n in the Second reactor are Set according to the amount of copolymer it is desired to produce in each of these reactors, \n i.e., to achieve the Split mentioned above. It is noted that increasing the ethylene partial pressure in the first reactor \n leads to an increase in ethylene partial pressure in the Second reactor. Generally, the ethylene partial preSSure roughly \n doubles in the second reactor over the first reactor. The \n balance of the total preSSure is provided by alpha-olefin \n other than ethylene and an inert gas Such as nitrogen. \n A typical fluidized bed reactor can be described as fol \n lows: \n The bed is usually made up of the same granular resin that is to be produced in the reactor. Thus, during the course of the polymerization, the bed comprises formed polymer particles, growing polymer particles, and catalyst particles \n fluidized by polymerization and modifying gaseous compo \n nents introduced at a flow rate or Velocity Sufficient to cause the particles to Separate and act as a fluid. The fluidizing gas is made up of the initial feed, make-up feed, and cycle (recycle) gas, i.e., comonomers and, if desired, modifiers and/or an inert carrier gas. \n The essential parts of the reaction System are the vessels, an interreactor transfer System; a vent recovery System; and, \n in each vessel: a bed, a gas distribution plate, inlet and outlet piping, a compressor, a cycle gas cooler, and a product \n discharge System. In each vessel, above the bed, there is a Velocity reduction Zone, and, in the bed, a reaction Zone. Both are above the gas distribution plate. \n A typical fluidized bed reactor is also described in U.S. \n Pat. No. 4,482,687. \n The gaseous feed Streams of ethylene, other gaseous alpha-olefins, and hydrogen, when used, are preferably fed \n to the reactor recycle line as well as liquid alpha-olefins and ",
         "US6248831",
         "/home/anatoly_kayda/Desktop/mipt/data/unioncarbide/US/US6248831.pdf",
         "False"
        ],
        [
         "15",
         "US6248831",
         "/home/anatoly_kayda/Desktop/mipt/data/unioncarbide/US/US6248831.pdf",
         "6",
         "YES",
         "100.0",
         "**",
         "0.0",
         "US 6,248,831 B1 \n the cocatalyst Solution. Optionally, the liquid cocatalyst can be fed directly to the fluidized bed. The partially activated catalyst precursor is preferably injected into the fluidized \n bed as a Solid or a mineral oil slurry. The cocatalyst completes the activation. The product composition can be \n varied by changing the molar ratioS of the comonomers introduced into the fluidized bed. The product is continu ously discharged in granular or particulate form from the \n reactor as the bed level builds up with polymerization. The production rate is controlled by adjusting the catalyst feed \n rate. \n The hydrogen:ethylene molar ratio can be adjusted to control average molecular weights. The alpha-olefins (other than ethylene) can be present in a total amount of up to 15 percent by weight of the copolymer and, if used, are pref \n erably included in the copolymer in a total amount of about 1 to about 10 percent by weight based on the weight of the copolymer. \n Several Steps can be taken, in addition to temperature control, to prevent agglomeration. The product discharge \n line between the reactor and the product pot is often plugged up with chunks between intervals of product drops. A continuous purge flow of nitrogen or reactor gas in the line prevents the plugging problem. Also, coating the reactor \n Surface with a low Surface energy material is shown to be beneficial to slow down the rate of fouling build up. In addition, control of the electrostatic level in the bed prevents Static induced particle agglomeration. Static can be adjusted \n to a Satisfactory level by controlled use of reaction rate, avoidance of quick change of gas composition, Selective use of Static-neutralizing chemicals and Surface passivation with aluminum alkyls. \n It is preferred to control the Static in the reactor System during Start-up. If the Static is not controlled, Static induced layers of catalyst rich fines can form on the reactor Surfaces. These fines may, in turn, induce localized hot spots and the formation of chunkS. Reactor Surface passivation with an aluminum alkyl minimizes the formation of fines layers. This passivation is accomplished by first building up the \n aluminum alkyl concentration in the Start-up bed to about 300 to 1000 ppm based on the weight of the bed, and then fluidizing the bed with purified nitrogen or ethylene for \n Several hours. At the end of this passivation period, the reactor is purged while maintaining the circulation, the \n reaction conditions are established, and the reaction is kicked off by feeding catalyst into the system. If static still persists, additional purges or Selective use of Static neutral izing chemicals may become necessary to reduce the level of \n Static. \n The residence time of the mixture of reactants including gaseous and liquid reactants, catalyst, and resin in each \n fluidized bed can be in the range of about 1 to about 12 hours and is preferably in the range of about 2 to about 5 hours. \n The resin blend can be extruded into film in a conven \n tional extruder adapted for that purpose. Extruders and processes for extrusion are described in U.S. Pat. No. 4,814,135; 4,857,600; 5,076,988; and 5,153,382. Examples of various extruders, which can be used in forming the film are a single Screw type Such as one modified with a blown film die and air ring and continuous take off equipment, a blown film extruder, and a slot cast extruder. A typical Single Screw type extruder can be described as one having a hopper at its upstream end and a die at its downstream end. The hopper feeds into a barrel, which contains a Screw. The barrel can be smooth, but is preferably grooved. At the \n downstream end, between the end of the Screw and the die, is a Screen pack and a breaker plate. The Screw portion of the \n extruder is considered to be divided up into three Sections, the feed Section, the compression Section, and the metering Section, and multiple heating Zones from the rear heating 15 \n 25 \n 35 \n 40 \n 45 \n 50 \n 55 \n 60 \n 65 10 \n Zone to the front heating Zone, the multiple Sections and Zones running from upstream to downstream. If it has more \n than one barrel, the barrels are connected in Series. The length to diameter ratio of each barrel is in the range of about 16:1 to about 30:1. The extrusion can take place at tempera tures in the range of about 160 to about 270 degrees C. and is preferably carried out attemperatures in the range of about 180 to about 240 degrees C. \n The advantages of the invention are found in the high extrusion speed of the resin blend; the high bubble strength; and the high bubble stability. Thus, the blend can be extruded to thinner gauges at higher extrusion Speeds, par ticularly gauges of 0.5 mill or leSS. \n In order to maintain a constant production rate, increases in ethylene partial preSSure are accompanied by decreases in the amount of catalyst fed. Consequently, catalyst produc tivity is increased, an additional advantage of the process. \n Conventional additives, which can be introduced into the blend, are exemplified by antioxidants, ultraViolet absorbers, antistatic agents, pigments, dyes, nucleating agents, fillers, Slip agents, fire retardants, plasticizers, processing aids, \n lubricants, Stabilizers, Smoke inhibitors, Viscosity control agents, and crosslinking agents, catalysts, and boosters, \n tackifiers, and anti-blocking agents. Aside from the fillers, the additives can be present in the blend in amounts of about 0.1 to about 10 parts by weight of additive for each 100 parts by weight of polymer blend. Fillers can be added in amounts up to 200 parts by weight and more for each 100 parts by weight of the blend. \n Patents and patent application mentioned in this Specifi cation are incorporated by reference herein. \n Molecular weights are weight average molecular weights \n unless otherwise noted. \n The invention is illustrated by the following examples. \n EXAMPLES 1 to 6 \n The catalyst precursor used in example 1 is manufactured in two steps. In the first step, 390 gallons of tetrahydrofuran (THF) is added to a solution preparation vessel to which BHT (butylated hydroxytoluene) is added as an inhibitor to prevent peroxide formation. Then, 62.5 pounds of aluminum \n reduced titanium trichloride TiCl, or one part TiCl to 3 parts AlCl (by weight) and 150 pounds of magnesium \n chloride (MgCl) are added. The mixture is heated to a temperature of 65 to 75 degrees C., and held for a period of \n 4 hours to dissolve. The Solution is filtered to remove \n insolubles. Then, 220 pounds of Silica are charged to the \n vessel. The silica is slurried with the solution and the slurry is pumped to a jacketed holding tank maintained at a temperature of 35 degrees C. \n The Second Step involves Spray drying the above slurry. This is accomplished by continuously feeding the slurry to a spray dryer. Hot nitrogen is circulated through the drying chamber, and the THF is evaporated leaving the TiCl/Mg Cl/THF/silica complex as a solid powder. The solids are then dropped into a slurry tank pre-loaded with dry mineral \n oil. The slurry tank is then rolled for several hours to produce the catalyst used in example 1. It is Similar to the \n catalysts described in U.S. Pat. Nos. 4,376,062 and 4.293, \n 673. \n A magnesium/titanium alkoxide precursor, which is a Solid reaction product, is prepared according to illustrative \n embodiment II from U.S. Pat. No. 5,124,298 carried out on a Scale Sufficient to obtain 300 pounds of granular material. Analysis (average of two runs): 12.3 percent Mg, 7.55 percent Ti, 60.3 percent OEt, 0.93 percent o-cresol (Cl= 11.5 percent by charge balance). \n The activated precursor used in examples 2, 3, 5, and 6 is prepared as follows: ",
         "US6248831",
         "/home/anatoly_kayda/Desktop/mipt/data/unioncarbide/US/US6248831.pdf",
         "True"
        ],
        [
         "16",
         "US6248831",
         "/home/anatoly_kayda/Desktop/mipt/data/unioncarbide/US/US6248831.pdf",
         "7",
         "YES",
         "100.0",
         "**",
         "0.0",
         "US 6,248,831 B1 \n 11 \n To a 10 gallon Stainless Steel reaction/filter vessel are charged 1,892 grams of magnesium/titanium alkoxide pre \n cursor powder together with 3.5 kilograms of hexane. Then, a solution of 3.9 kilograms of SiCl, and 713 grams of TiCl in 6.6 kilograms of toluene is charged at Such a rate (15 to 20 minutes) as to keep the reaction temperature between 25 and 30 degrees C. The slurry is then stirred for 30 minutes and filtered through an internal filter plate. The solids are washed by re-slurrying in 15 kilograms of a 50/50 (by weight) mixture of hexane and toluene, and are then isolated by filtration. In like manner, the solids are washed twice with hexane and dried under moving nitrogen. The yield is 2,472 grams of yellow powder. Analysis: 10.7 weight percent Mg, 9.82 weight percent Ti; and 36.2 weight percent Cl. \n The vessel is recharged with 1,302 grams of the yellow powder and 5 kilograms of hexane. Then, 7.291 grams of 25 weight percent ethylaluminum dichloride in toluene are added at Such a rate (15 minutes) as to keep the temperature between 25 and 30 degrees C. Then, 1,175 grams of 1 Molar BC1 in heptane are added all at once. After stirring for 30 minutes at 25 degrees C., the slurry is filtered. The solids are washed once with 50/50 (by weight) hexane/toluene, then twice with hexane and dried overnight under moving nitro gen as above. The yield is 1068 grams of dark brown powder. Analysis: 10.7 weight percent Mg; 9.62 weight percent Ti; 2.38 weight percent Al; and 56.7 weight percent Cl. A polymerization Sample is prepared by Slurrying 1.0 \n kilogram of the powder in 2.57 kilograms of mineral oil. \n Example 1 is a comparative example and examples 2, 3, \n 5, and 6 represent high density and medium density embodi ments of the invention. Example 4 compares the examples \n 2 and 3 resins with the example 1 resin. \n EXAMPLE 1. \n About 85 pounds of polyethylene having a melt index of 1.0 gram per 10 minutes and a density of 0.920 gram per cubic centimeter made with the example 1 catalyst are charged to a first reactor as a Seedbed. About 120 pounds of polyethylene having a flow index of 0.5 gram per 10 minutes \n and a density of 0.940 gram per cubic centimeter made with the example 1 catalyst are charged to a Second reactor as a \n seed bed. Comonomers are ethylene and 1-hexene. Both reactors are then purged with high purity nitrogen at 80 \n degrees C. for Several hours until the moisture content is below 10 ppm. Then, about 1500 cubic centimeters of 5 weight percent triethylaluminum (TEAL) in isopentane is \n charged to each reactor and circulated for a period of 4 hours. TEAL acts as a moisture Scavenger. The reactors are then given 2 high preSSure purges with nitrogen, and the \n conditions set forth in Table I are established in each reactor: \n TABLE I \n reactor first reactor second reactor \n temperature (C.) 85 110 \n pressure (psia) 3OO 345 \n C2 partial pressure 25 70 (psi) \n H2/C2 molar ratio O.O4 18O \n C6, C2 molar ratio 0.027 O.OO75 \n isopentane (mol%) 12 \n gas velocity (ft/sec) 1.75 1.70 \n Approximately 225 cubic centimeters per hour of 5 weight percent TEAL in isopentane are fed to the first \n reactor and 130 cubic centimeters per hour of 5 weight percent TEAL in isopentane are fed to the Second reactor to Serve as cocatalyst. Then, the example 1 catalyst feed is \n initiated at the rate of 7.5 cubic centimeters per hour using a slurry catalyst feeder. The ethylene partial pressure in the 15 \n 25 \n 35 \n 40 \n 45 \n 50 \n 55 \n 60 \n 65 12 \n first reactor is manipulated to result in a production rate of 30 pounds per hour of resin. The H2/C2 molar ratio and C6/C2 molar ratio are manipulated in the first reactor to result in a resin with a flow index of 0.25 to 0.50 decigram per minute and a density of 0.927 to 0.930 gram per cubic centimeter. The Split in the resin exiting the Second reactor, i.e., the final product, is 60/40 (weight percent), i.e., 60 percent high molecular weight resin and 40 percent low molecular weight resin. This is accomplished by manipu lating the production rate of resin in the Second reactor, which is, in turn, accomplished by adjusting the ethylene partial pressure. The melt index of the final product is about 800 grams per 10 minutes and the density is about 0.963 per cubic centimeter. At a total production rate of 50 pounds per hour (HMW+LMW), a total of 1100 pounds of resin are produced. The bulk resin properties are set forth in Table II as follows. The bimodal product properties are given in the \n Second reactor column. \n TABLE II \n reactor \n flow index (g/10 min) average flow index (g/10 min) density (g/cc) average density \n melt flow ratio first reactor \n O.25 to OSO \n O.43 \n O.928 to O.932 \n O.9298 second reactor \n 6.50 to 10.0 \n 6.7 \n 0.946 to 0.950 \n O.9476 \n 21.5 \n Note: In all of the Tables, melt flow ratios are ratios of I21 \n to I5. \n EXAMPLE 2 \n The reactor conditions are set forth in Table III as follows: \n reactor TABLE III \n first reactor second reactor \n temperature (C.) 8O 1OO \n pressure (psia) 3OO 345 \n C2 partial pressure 38 70 (psi) \n H2/C2 molar ratio O.O2 18O \n C6, C2 molar ratio O.O21 O.OO75 \n isopentane (mol%) 1O \n gas velocity (ft/sec) 1.75 1.70 \n production rate 25 18 \n (Ibs/hr) \n The Table IV results are approximately the same as recited above for example 1. Thus, the low molecular weight made in the Second reactor has a melt index of 800 grams per 10 minutes and a density of 0.960 gram per cubic centimeter. Approximately 600 pounds of resin are produced. The Split \n is 58.5/41.5. The bulk resin properties are set forth in Table IV as follows. The bimodal product properties are given in \n the Second reactor column. \n TABLE IV \n reactor first reactor second reactor \n O.25 to OSO \n O.47 6.50 to 10.0 \n 6.95 flow index (g/10 min) average flow index (g/10 min) \n density (g/cc) O.928 to O.932 \n average density O.9288 \n melt flow ratio 0.946 to 0.950 \n O.946 \n 26.23 \n More detail with respect to example 2 conditions and properties is given in Table V. ",
         "US6248831",
         "/home/anatoly_kayda/Desktop/mipt/data/unioncarbide/US/US6248831.pdf",
         "True"
        ],
        [
         "17",
         "US6248831",
         "/home/anatoly_kayda/Desktop/mipt/data/unioncarbide/US/US6248831.pdf",
         "8",
         "YES",
         "100.0",
         " YES",
         "0.0",
         "reaction \n conditions \n temperature(C.) pressure (psia) \n COOOle \n C2 partial pressure(psia) \n H2/C2 molar \n ratio \n C6/C2 \n molar ratio \n recycle isopentane \n (mol%) C2 feed (Ibs/hr) catalyst feed \n rate (cc/hr) \n 5% TEAL feed \n rate (cc/hr) total production \n rate (Ibs/hr) production rate \n for each reactor \n (Ibs/hr) titanium split \n (%) SGV (ft/sec) \n fluidized bulk \n density \n (Ibs/cu ft) bed weight (Ibs) \n residence time \n (hrs) catalyst carrier \n low index \n (g/10 min) \n melt index-I5 \n (g/10 min) density(g/cc) \n melt flow ratio \n residual Al (ppm) \n residual \n titanium (ppm) \n AlfT molar ratio \n settled bulk \n density \n (Ibs/cu ft) average particle \n size(inch) \n fines less than \n 120 mesh (wt %) \n The reactor conditions are set forth in Table VI as follows: \n reactor \n temperature (C.) pressure (psia) \n C2 partial pressure (psi) \n H2/C2 molar ratio \n C6, C2 molar ratio isopentane (mol%) gas velocity (ft/sec) \n production rate \n (Ibs/hr) 13 \n TABLE V \n first \n reactor \n 8O \n 3OO \n 1-hexene \n 38 \n O.O2 \n O.O21 \n 1O \n 25 \n 58.3 \n 1.75 \n 15.3 \n 85 \n 3.400 \n isopentane and nitrogen \n O.47 \n O.9288 \n 270 \n 17.5 \n 28 \n 18.5 \n O.OS \n EXAMPLE 3 \n TABLE VI \n first reactor \n 70 \n 3OO \n 51 \n 0.055 \n O.O16 \n 14 \n 1.7 \n 3O US 6,248,831 B1 \n second \n reactor \n 1OO \n 345 \n 1-hexene \n 70 \n 1.8 \n 21 \n 130 \n 43 \n 18 \n 1.7 \n 13 \n 12O \n 2.791 \n 6.95 \n O.265 \n O.946 \n 26.23 \n 250 \n 10.2 \n 40 \n 20.5 \n O.047 \n second reactor \n 1OO \n 400 \n 94 \n 1.65 \n O.OOSO \n 1.65 \n 2O \n The bulk resin properties are set forth in Table VII as follows. The bimodal product properties are given in the \n Second reactor column. 1O \n 15 \n 25 \n 35 \n 40 \n 45 \n 50 \n 55 \n 60 \n 65 TABLE VII \n reactor first reactor second reactor \n flow index (g/10 min) O.25 to OSO 6.50 to 10.0 \n average flow index O.39 7.01 (g/10 min) \n density (g/cc) O.928 to O.932 0.946 to 0.950 \n average density 0.9297 O.947 \n melt flow ratio 28 \n More detail with respect to the conditions and properties for example 3 are given in Table VIII \n TABLE VIII \n reaction first second \n conditions reactor reactor \n temperature(C.) 70 1OO \n pressure (psia) 3OO 400 \n COOOC 1-hexene 1-hexene \n C2 partial pressure(psia) 51 94 \n H2/C2 molarratio 0.055 1.6 \n C6, C2molar ratio O.O16 O.OOS \n recycle isopentane 14.1 2 \n (mol%) \n C2 feed (1bs/hr) 24 24 \n catalyst feed rate (cc/hr) 9 \n 5% TEAL feed rate (cc/hr) 330 150 otal production 50 \n rate (Ibs/hr) \n production rate for each 3O 2O \n reactor(Ibs/hr) itanium split (%) 58.4 \n SGV (ft/sec) 1.7 1.65 \n bed weight (Ibs) 8O 12O \n residence time(hrs) 2.667 2.400 ap blowback nitrogen nitrogen \n catalyst carrier isopentane and nitrogen \n low index(g/10 min) O.39 7.01 \n density(g/cc) 0.9297 O.947 \n residual Al (ppm) 18O 150 \n residual 7.7 4.5 itanium(ppm) \n AlfTimolar ratio 28 40 \n settled bulk density(Ibs/cu ft) 22.8 26 \n average particle size(inch) O.O35 O.O31 \n ines less than 120 mesh 1.OO 1.50 \n (wt %) \n Approximately 1500 pounds of resin are produced in each of examples 1 to 3. \n EXAMPLE 4. \n Although the reactor conditions used in the examples are Somewhat different, the gas composition is adjusted So as to make products with Similar bulk properties. The product evaluations of the resins produced in examples 2 and 3, \n however, result in films, which are Superior to the film produced from the resin of example 1. \n Samples of the three resins are submitted for Size Exclu sion Chromatography (SEC) analysis. The SEC is per \n formed with a WatersTM 150° C. analyzer with trichloroben Zene as Solvent at 140 degrees C. With a broad molecular weight distribution Standard and broad molecular weight \n distribution calibration method. \n Example 1: Mn=13,848 \n Mw-283,537 \n PDI-20.47 \n Examples 2 and 3: Mn=12,179 \n Mw-333,221 \n PDI-27.36 ",
         "US6248831",
         "/home/anatoly_kayda/Desktop/mipt/data/unioncarbide/US/US6248831.pdf",
         "True"
        ],
        [
         "18",
         "US6248831",
         "/home/anatoly_kayda/Desktop/mipt/data/unioncarbide/US/US6248831.pdf",
         "9",
         "YES",
         "100.0",
         " YES",
         "0.0",
         "US 6,248,831 B1 \n 15 \n The SECs reveal that the examples 2 and 3 products have \n a broader molecular weight distribution than the example 1 \n product. It is noted that the broadening occurs in the high \n molecular weight component. This is considered to be very \n beneficial for bubble stability. \n The resin Samples from examples 1 to 3 are compounded \n on a LCM-100 line (Long Continuous Mixer/Gear Pump Pelletizing System (LCM-100 G) from Kobe Steel, Ltd. The \n mixer is fitted with EL-2 type rotors from Same manufac \n turer. Granular resin and additives are fed at room tempera \n ture under controlled oxygen level at feed and vent ports. \n The unit is typically run at 220 rpm, 10 to 40 percent gate \n opening and mixer barrel temperature control). Precautions are taken to eliminate the possibility of tailoring (oxidative degradation) during the compounding step. The com \n pounded resin Samples are then extruded in a 50 millimeter \n Alpine TM film extruder having an 80 millimeter die and a 1.0 \n millimeter die gap, and evaluated. \n The example 1 resin Sample runs at a maximum line Speed \n of 105 feet per minute. The bubble is not stable at higher line Speeds and collapses. The dart impact Strength of this Sample \n is measured at 240 grams on a 1 mil film. The film cannot be down gauged to 0.5 mill because of inferior bubble stability. These results verify that the precautions taken to avoid tailoring are adequate. \n The examples 2 and 3 resin Samples demonstrate signifi cantly improved film properties. These samples run at a \n maximum line Speed of 240 feet per minute. This represents \n a 130 percent increase in bubble stability. The dart impact Strength of these Samples is measured at 290 grams on a 1 \n mil film. The film is Strong enough to be down gauged to 0.5 \n mil, and the dart impact Strength at 0.5 mil is measured at 305 grams. Both Samples result in Similar product proper \n ties. \n The Film Appearance Rating (FAR) is also very good, \n ranging from plus 20 to plus 40, for the examples 2 and 3 resin samples and for the MDHMW (medium density, high molecular weight) resin Samples of example 5. Tensile Strength, Elmendorf tear, and percent elongation are also improved. \n EXAMPLE 5 \n The catalyst of examples 2 and 3 is also used to produce two medium density high molecular weight film products. \n The reactor conditions and proceSS control methodology are \n Similar to that used above for examples 2 and 3 except that adjustments are made in order to produce medium density \n resins as opposed to high density resins, and the results are \n Similar also. \n The two MDHMW resin samples also demonstrate sig nificantly improved film properties. These samples exhibit \n maximum line Speeds greater than 325 feet per Second representing a greater than 210 percent increase in line Speed \n over the example 1 resin Sample. The dart impact Strength of \n these samples at 0.8 and 0.35 mil are 470 grams and 376 grams, respectively, resulting in a normalized dart impact \n strength of 599 and 1069 grams, respectively, at 1 mil. \n EXAMPLE 6 \n The following are the conditions and properties for four \n runs in which MDHMW resins are made. The catalyst is the Same as the one used in examples 2, 3, and 5. See Tables IX, \n X, XI, and XII. 1O \n 15 \n 25 \n 35 \n 40 \n 45 \n 50 \n 55 \n 60 \n 65 reaction \n conditions \n temperature(C.) pressure (psia) \n COOOCS \n C2 partial pressure(psia) \n H2/C2 molar \n ratio \n C4/C2 \n molar ratio \n C6/C2 \n molar ratio \n catalyst feed \n rate (cc/hr) \n 5% TEAL feed \n rate (cc/hr) production rate \n for each reactor \n (Ibs/hr) bed weight (Ibs) \n fluidized bulk \n density \n (Ibs/cu ft) \n bed volume \n (cu ft) \n residence time \n S \n (Ibs/hr?cu ft) split (energy \n balance) split (Tibalance) \n low index \n (g/10 min) \n melt index-I5 \n (g/10 min) density(g/cc) \n melt flow ratio \n residual Al (ppm) \n residual \n titanium(ppm) \n AlfTimolar ratio \n bulk density \n (Ibs/cu ft) average particle \n size(inch) \n C6 extractables \n (wt %) \n fines less than \n 120 mesh (wt %) \n reaction \n conditions \n temperature(C.) pressure (psia) \n COOOCS \n C2 partial pressure(psia) \n H2/C2 molar \n ratio \n C4/C2 \n molar ratio \n C6/C2 \n molar ratio \n catalyst feed \n rate (cc/hr) \n 5% TEAL feed \n rate (cc/hr) 16 \n TABLE IX \n first \n reactor \n 70.1 \n 333 \n 1-buteme \n 1-hexene \n 36.1 \n O.042 \n O.047 \n 123 \n 25.1 \n 84.5 \n 15.3 \n 5.5 \n 3.4 \n 4.5 \n O.60 \n 0.57 \n 2.84 \n O.91.65 \n 85.O \n 2.84 \n 53.6 \n 18.7 \n O.76 \n TABLE X \n first \n reactor \n 1-buteme \n 1-hexene \n 23.3 \n O.OO1 \n O.OO1 \n O.065 \n 3 \n 128 second \n reactor \n 84.9 \n 376 \n 1-butene \n 1-hexene \n 85.O \n 1.79 \n O.O85 \n 84 \n 16.8 \n 118.0 \n 12.8 \n 9.2 \n 2.8 \n 18 \n O.40 \n O.43 \n 12.6 \n O.49 \n O.9316 \n 25.6 \n 91.4 \n 1.61 \n 101.2 \n 21.5 \n 0.027 \n 3.80 \n second \n reactor \n 85.O \n 38O \n 1-butene \n 1-hexene \n 91.1 \n 1.78 \n O.O89 \n 85 ",
         "US6248831",
         "/home/anatoly_kayda/Desktop/mipt/data/unioncarbide/US/US6248831.pdf",
         "True"
        ],
        [
         "19",
         "US6248831",
         "/home/anatoly_kayda/Desktop/mipt/data/unioncarbide/US/US6248831.pdf",
         "10",
         "YES",
         "100.0",
         " YES",
         "0.0",
         "17 \n TABLE X-continued \n reaction \n conditions \n production rate \n for each reactor \n (Ibs/hr) bed weight (Ibs) \n fluidized bulk \n density \n (Ibs/cu ft) \n bed volume \n (cu ft) \n residence time \n (hrs) \n STY \n (Ibs/hr?cu ft) split (energy \n b \n S alance) plit (Tibalance) \n ow index \n (g/10 min) \n melt index-I5 \n (g/10 min) density(g/cc) \n melt flow ratio \n residual Al \n (ppm) \n residual \n titanium(ppm) \n AlfT molar ratio \n bulk density \n (Ibs/cu ft) average particle \n size(inch) \n C6 extractables \n (wt %) \n fines less than \n 120 mesh (wt %) \n reaction \n conditions \n temperature(C.) pressure (psia) \n COOOCS \n C2 partial pressure(psia) \n H2/C2 molar \n ratio \n C4/C2 \n molar ratio \n C6/C2 \n molar ratio \n catalyst feed \n rate (cc/hr) \n 5% TEAL feed \n rate (cc/hr) production rate \n for each reactor \n (Ibs/hr) bed weight (Ibs) \n fluidized bulk \n density \n (Ibs/cu ft) \n bed volume \n (cu ft) \n residence time \n (hrs) \n STY \n (Ibs/hr?cu ft) split (energy \n balance) split (Tibalance) first \n reactor \n 25.1 \n 846 \n 14.9 \n 5.7 \n 3.4 \n 4.4 \n 0.57 \n O.61 \n 1.06 \n O.9105 \n 81.2 \n 2.50 \n 57.4 \n 18.6 \n O.35 \n TABLE XI \n first \n reactor \n 7O.O \n 344 \n 1-buteme \n 1-hexene \n 22.8 \n 119 \n 26.0 \n 84.3 \n 14.8 \n 5.7 \n 3.2 \n 4.6 \n O.54 \n 0.52 US 6,248,831 B1 \n second \n reactor \n 19.4 \n 117.8 \n 13.2 \n 8.9 \n 2.6 \n 2.2 \n O.43 \n O.39 \n 3.7 \n O.13 \n 0.9287 \n 28.3 \n 98.8 \n 1.53 \n 115.6 \n 21.1 \n 0.027 \n 0.52 \n second \n reactor \n 84.9 \n 386 \n 1-buteme \n 1-hexene \n 88.5 \n 1.79 \n 81 \n 21.8 \n 117.8 \n 12.7 \n 9.3 \n 2.5 \n 2.4 \n O.48 1O \n 15 \n 25 \n 35 \n 40 \n 45 \n 50 \n 55 \n 60 \n 65 18 \n TABLE XI-continued \n reaction \n conditions \n flow index \n (g/10 min) \n melt index-I5 \n (g/10 min) density(g/cc) \n melt flow ratio \n residual Al (ppm) \n residual \n titanium(ppm) \n AlfTimolar ratio \n bulk density \n (Ibs/cu ft) average particle \n size (inch) \n C6 extractables \n (wt %) \n fines less than \n 120 mesh (wt %) \n reaction \n conditions \n temperature(C.) pressure (psia) \n COOOCS \n C2 partial pressure(psia) \n H2/C2 molar \n ratio \n C4/C2 \n molar ratio \n C6/C2 \n molar ratio \n catalyst feed \n rate (cc/hr) \n 5% TEAL feed \n rate (cc/hr) production rate \n for each reactor \n (Ibs/hr) bed weight (Ibs) \n fluidized bulk \n density \n (Ibs/cu ft) \n bed volume \n (cu ft) \n residence time \n (hrs) \n STY \n (Ibs/hr?cu ft) split (energy \n balance) split (Tibalance) \n low index \n (g/10 min) \n melt index-I5 \n (g/10 min) density(g/cc) \n melt flow ratio \n residual Al (ppm) \n residual \n titanium(ppm) \n AlfTimolar ratio \n bulk density \n (Ibs/cu ft) average particle \n size(inch) \n C6 extractables first \n reactor \n 2.55 \n O.9087 \n 97.8 \n 3.18 \n 56.2 \n 17.8 \n O.14 \n TABLE XII \n first \n reactor \n 70.1 \n 337 \n 1-buteme \n 1-hexene \n 23.2 \n O.O15 \n O.OO2 \n O.O59 \n 3 \n 119 \n 26.6 \n 84.4 \n 14.5 \n 5.8 \n 3.2 \n 4.6 \n O.56 \n O.56 \n 3.51 \n 0.9097 \n 90.0 \n 2.99 \n 53.8 \n 18.0 second \n reactor \n 8.6 \n O.24 \n O.9282 \n 36.0 \n 85.8 \n 1.64 \n 92.8 \n 21.1 \n 0.027 \n O.56 \n second \n reactor \n 85.O \n 383 \n 1-butene \n 1-hexene \n 82.7 \n 1.79 \n O.147 \n 85 \n 20.7 \n 117.9 \n 12.3 \n 9.6 \n 2.5 \n 2.2 \n 0.44 \n 0.44 \n 9.4 \n 0.25 \n 0.9255 \n 36.8 \n 92.4 \n 1.68 \n 98.0 \n 20.6 \n 0.027 \n 4.57 ",
         "US6248831",
         "/home/anatoly_kayda/Desktop/mipt/data/unioncarbide/US/US6248831.pdf",
         "True"
        ],
        [
         "20",
         "US6248831",
         "/home/anatoly_kayda/Desktop/mipt/data/unioncarbide/US/US6248831.pdf",
         "11",
         "NO",
         "99.59",
         "YES",
         "0.41",
         "US 6,248,831 B1 \n TABLE XII-continued \n reaction first second \n conditions reactor reactor \n (wt %) \n fines less than O.21 O.53 \n 120 mesh (wt %) \n Notes to above Tables: \n 1. Resin properties for Second reactor: These are theo retical values based on the assumption that the Second reactor copolymer is produced independently. In Some cases the bimodal resin properties are given, i.e., the properties of \n the resin blend. 2. Density is measured by producing a plaque in accor dance with ASTM D-1928, procedure C, and then testing as is via ASTM D-1505. The density is reported in gram per \n cubic centimeter. 3. production rate (lbS/hr)=the average resin production rate per hour based on a heat balance calculation (approximately equal to drum average production rate). 4.5% TEAL=5 weight percent triethylaluminum and 95 weight percent isopentane. \n 5. titanium split (%)=residual ppm Ti in Second reactor resin divided by residual ppm Ti in first reactor resin. This is an indirect measure of polymer Split. 6. SGV (ft/sec)=Superficial gas velocity in the bed. \n 7. The fluidized and settled bulk densities of each of the resins (not the blend) is given in pounds per cubic foot. 8. tap blowback=nitrogen is used to purge (blowback) the taps to avoid tap pluggage problems. 9. STY (Ibs/hr/cu ft)=Space/time/yield. This is equal to the resin production rate divided by the bed volume. 10. Split (energy balance)=production rate in first reactor \n divided by the total production rate. The instantaneous production rate in each reactor is calculated by a heat \n balance on the reactor. \n 12. Dart Drop is determined under ASTM D-1709, pro \n cedure A. \n 13. Line Speed is the take off speed from an Alpine TM film \n line equipped with a 100 millimeter die and a 1 millimeter die gap. The film is produced in stalk mode with a 4:1 BUR (blow-up ratio) and a 6 to 8 times die diameter frost line height at about 45 kilograms output rate per hour. \n What is claimed is: \n 1. A process for production of a polyethylene blend in Situ comprising contacting ethylene and at least one alpha-olefin \n comonomer having 3 to 8 carbon atoms with a magnesium/ titanium based catalyst System including a partially activated precursor and a cocatalyst in each of two fluidized bed reactors connected in Series, in the gas phase, under poly merization conditions, with the provisoS that: (a) the precursor is formed by contacting an alkylalumi \n num halide with a Solid reaction product prepared from \n a magnesium alkoxide, a titanium tetraalkoxide, and a Solubility enhancing agent; \n (b) the mixture of ethylene copolymer matrix and active \n catalyst formed in the first reactor in the Series is \n transferred to the Second reactor in the Series, \n (c) other than the active catalyst referred to in proviso (b) and the cocatalyst referred to in proviso (f), no addi \n tional catalyst is introduced into the Second reactor; \n (d) in the first reactor in which a low melt index copoly \n mer is made: \n (1) alpha-olefin is present in a ratio of about 0.005 to about 0.4 mole of alpha-olefin per mole of ethylene; (2) hydrogen is, optionally, present in a ratio of about \n 0.0001 to about 0.3 mole of hydrogen per mole of ethylene, and 15 \n 25 \n 35 \n 40 \n 45 \n 50 \n 55 \n 60 \n 65 20 \n (3) the ethylene partial pressure is in the range of about \n 10 to about 100 pounds per Square inch; and \n (e) in the Second reactor in which a high melt index copolymer is made: (1) alpha-olefinis, optionally, present in a ratio of about \n 0.005 to about 0.6 mole of alpha-olefin per mole of ethylene; \n (2) hydrogen is, optionally, present in a ratio of about \n 1.0 to about 3.0 moles of hydrogen per mole of ethylene, and \n (3) the ethylene partial pressure is in the range of about \n 50 to about 120 pounds per Square inch; and \n (f) additional hydrocarbyl aluminum cocatalyst is intro \n duced into the Second reactor in an amount Sufficient to \n restore the level of activity of the catalyst transferred \n from the first reactor to about the initial level of activity \n in the first reactor. \n 2. The process defined in claim 1 wherein the alkylalu minum halide can be represented by the formula RATY, wherein R is an alkyl group having 1 to 8 carbon atoms, Y is a halogen; and n is 1 or 2. 3. The process defined in claim 1 wherein the solubility enhancing agent is carbon dioxide, triethylborate, a bromide, or a phenolic compound Selected from the group consisting \n of phenol and a phenol Substituted with an alkyl, an alkoxy, a halogen, or a dialkylamino group. \n 4. The process defined in claim 1 wherein the polymer formed in the first reactor has a flow index (I 21.6) in the range of about 0.20 to about 5.0 grams per 10 minutes and a density in the range of about 0.890 to about 0.940 gram per \n cubic centimeter and the polymer formed in the Second reactor has a melt index (I 2.16) in the range of about 80 to about 1000 grams per 10 minutes and a density in the range \n of about 0.925 to about 0.970 gram per cubic centimeter, the weight ratio of first reactor polymer to Second reactor polymer being in the range of about 0.8:1 to about 2.3:1. 5. The process defined in claim 1 wherein the alkylalu minum halide is represented by the formula RATY, wherein R is an alkyl group having 1 to 8 carbon atoms, Y is a halogen, and n is 1 or 2 and the reaction product is represented by the formula MgTi(OR)x- wherein each R is independently an alkyl group having 1 to 4 carbon atoms \n and each X is independently a halide or a monovalent anion of a phenolic compound. \n 6. The process defined in claim 1 wherein the blend has a melt index (I 5) in the range of about 0.01 to about 2.0 grams per 10 minutes; a melt flow ratio (I 21.6/I 5) in the range of about 20 to about 45; and a density in the range of 0.915 to 0.958 gram per cubic centimeter. 7. The process defined in claim 1 wherein a high density polyethylene blend is produced under the following condi \n tions: \n in the first reactor: \n (1) the alpha-olefin is 1-hexene and/or 1-butene and is \n present in a ratio of about 0.01 to about 0.04 mole of alpha-olefin per mole of ethylene; \n (2) hydrogen is present in a ratio of about 0.01 to about 0.1 mole of hydrogen per mole of ethylene; and (3) the ethylene partial pressure is in the range of about \n 25 to about 70 pounds per Square inch; and \n in the Second reactor: \n (1) the alpha-olefin is 1-hexene and/or 1-butene and is, optionally, present in a ratio of about 0.005 to about 0.05 mole of alpha-olefin per mole of ethylene; \n (2) hydrogen is present in a ratio of about 1.3 to about 2.2 moles of hydrogen per mole of ethylene; and (3) the ethylene partial pressure is in the range of about \n 50 to about 120 pounds per square inch. ",
         "US6248831",
         "/home/anatoly_kayda/Desktop/mipt/data/unioncarbide/US/US6248831.pdf",
         "True"
        ],
        [
         "21",
         "US6248831",
         "/home/anatoly_kayda/Desktop/mipt/data/unioncarbide/US/US6248831.pdf",
         "12",
         "NO",
         "100.0",
         "YES",
         "0.0",
         "US 6,248,831 B1 \n 21 \n 8. The process defined in claim 7 wherein the blend has a melt index (I5) in the range of about 0.1 to about 0.6 grams per 10 minutes; a melt flow ratio (I 21.6/I 5) in the range of about 23 to about 30; and a density in the range of 0.940 to 0.955 gram per cubic centimeter. 9. The process defined in claim 1 wherein a medium density polyethylene blend is produced under the following \n conditions: \n in the first reactor: \n (1) the alpha-olefin is 1-hexene and/or 1-butene and is present in a ratio of about 0.03 to about 0.08 mole of alpha-olefin per mole of ethylene; \n (2) hydrogen is present in a ratio of about 0.0009 to about 0.06 mole of hydrogen per mole of ethylene; \n and \n (3) the ethylene partial pressure is in the range of about \n 20 to about 60 pounds per Square inch; and \n in the Second reactor: \n (1) the alpha-olefin is 1-hexene and/or 1-butene and is \n present in a ratio of about 0.05 to about 0.2 mole of alpha-olefin per mole of ethylene; \n (2) hydrogen is present in a ratio of about 1.3 to about 2.2 moles of hydrogen per mole of ethylene; and (3) the ethylene partial pressure is in the range of about \n 50 to about 120 pounds per square inch. \n 10. The process defined in claim 9 wherein the blend has a melt index (I5) in the range of about 0.1 to about 0.6 grams per 10 minutes; a melt flow ratio (I 21.6/I 5) in the range of about 23 to about 40; and a density in the range of 0.918 to 0.940 gram per cubic centimeter. 11. A process for the production of a polyethylene blend \n in Situ wherein the polymer formed in a first reactor is comprised of a copolymer of ethylene and 1-hexene and has \n a flow index (I 21.6) in the range of about 0.2 to about 5.0 grams per 10 minutes and a density in the range of about \n 0.890 to about 0.940 gram per cubic centimeter and the polymer formed in a Second reactor is comprised of a copolymer of ethylene and 1-butene or 1-hexene and has a melt index (I 2.16) in the range of about 80 to about 1000 grams per 10 minutes and a density in the range of about \n 0.925 to about 0.970 gram per cubic centimeter, the weight ratio of first reactor polymer to Second reactor polymer being in the range of about 0.8:1 to about 2.3:1, \n comprising contacting ethylene and the aforementioned alpha-olefins with a magnesium/titanium based catalyst \n System including a partially activated precursor and a \n cocatalyst in each of two fluidized bed reactors con 15 \n 25 \n 35 \n 40 \n 45 22 \n nected in Series, in the gas phase, under polymerization \n conditions, with the provisoS that: (a) the precursor is formed by contacting an alkylalu \n minum halide with a Solid reaction product wherein the alkylaluminum halide is represented by the for \n mula RATY, wherein R is an alkyl group having \n 1 to 8 carbon atoms, Y is a halogen, and n is 1 or 2 and the reaction product is represented by the for mula MgTi(OR)sX wherein each R is indepen dently an alkyl group having 1 to 4 carbon atoms and \n each X is independently a halide or a monovalent anion of a phenolic compound; \n (b) the mixture of ethylene copolymer matrix and \n active catalyst formed in the first reactor in the Series \n is transferred to the Second reactor in the Series, (c) other than the active catalyst referred to in proviso (b) and the cocatalyst referred to in proviso (f), no \n additional catalyst is introduced into the Second \n reactor, \n (d) in the first reactor in which a low melt index copolymer is made: (1) alpha-olefin is present in a ratio of about 0.005 to about 0.4 mole of alpha-olefin per mole of ethyl \n ene, (2) hydrogen is, optionally, present in a ratio of about \n 0.0001 to about 0.3 mole of hydrogen per mole of ethylene, and (3) the ethylene partial pressure is in the range of \n about 10 to about 100 pounds per Square inch; and \n (e) in the Second reactor in which a high melt index copolymer is made: (1) alpha-olefin is, optionally, present in a ratio of \n about 0.005 to about 0.6 mole of alpha-olefin per mole of ethylene; (2) hydrogen, optional, is present in a ratio of about \n 1.0 to about 3.0 moles of hydrogen per mole of ethylene, and (3) the ethylene partial pressure is in the range of \n about 50 to about 120 pounds per Square inch; and (f) additional hydrocarbyl aluminum cocatalyst is intro \n duced into the Second reactor in an amount Sufficient \n to restore the level of activity of the catalyst trans \n ferred from the first reactor to about the initial level \n of activity in the first reactor. \n k k k k k ",
         "US6248831",
         "/home/anatoly_kayda/Desktop/mipt/data/unioncarbide/US/US6248831.pdf",
         "False"
        ],
        [
         "22",
         "US20060046928",
         "/home/anatoly_kayda/Desktop/mipt/data/novolen/US/US20060046928.pdf",
         "1",
         "NO",
         "100.0",
         " NO",
         "0.0",
         "(19) United States US 20060046928A1 \n (12) Patent Application Publication (10) Pub. No.: US 2006/0046928A1 \n Klendworth et al. (43) Pub. Date: Mar. 2, 2006 \n (54) ZIEGLER-NATTA CATALYST AND METHOD (52) U.S. C. . 502/103; 502/115; 502/116; FOR MAKING AND USING SAME 502/118 \n (76) Inventors: Douglas D. Klendworth, West Chester, OH (US); Frank Wolf Spaether, \n Wachenheim (DE) \n Correspondence Address: \n DILWORTH & BARRESE, LLP \n 333 EARLE OVINGTON BLVD. \n UNIONDALE, NY 11553 (US) \n (21) Appl. No.: 10/925,618 \n (22) Filed: Aug. 25, 2004 \n Publication Classification \n (51) Int. Cl. \n B0LJ 31/00 (2006.01) (57) ABSTRACT \n A method for making magnesium-halide Supports of a Specified particle shape, average diameter and particle diam \n eter distribution comprises providing a non-aqueous Solu tion of a magnesium-halide containing Silica particles dis \n persed therein, and crystallizing the magnesium-halide \n about the Silica particles to provide the magnesium-halide \n Support, wherein the magnesium-halide Support has an approximately Spherical shape, an average particle diameter \n from about 2 to about 120 microns, and a particle diameter \n distribution from about 1 to about 200, are provided. The invention further provides methods for making catalysts and using Same in polymerization reactions. Catalyst Supports \n and catalysts are also provided. ",
         "US20060046928",
         "/home/anatoly_kayda/Desktop/mipt/data/novolen/US/US20060046928.pdf",
         "False"
        ],
        [
         "23",
         "US20060046928",
         "/home/anatoly_kayda/Desktop/mipt/data/novolen/US/US20060046928.pdf",
         "2",
         "NO",
         "100.0",
         "YES",
         "0.0",
         "Patent Application Publication Mar. 2, 2006 Sheet 1 of 3 US 2006/0046928A1 \n G.   ",
         "US20060046928",
         "/home/anatoly_kayda/Desktop/mipt/data/novolen/US/US20060046928.pdf",
         "False"
        ],
        [
         "24",
         "US20060046928",
         "/home/anatoly_kayda/Desktop/mipt/data/novolen/US/US20060046928.pdf",
         "3",
         "NO",
         "100.0",
         "YES",
         "0.0",
         "Patent Application Publication Mar. 2, 2006 Sheet 2 of 3 US 2006/0046928A1 \n O. 2   ",
         "US20060046928",
         "/home/anatoly_kayda/Desktop/mipt/data/novolen/US/US20060046928.pdf",
         "False"
        ],
        [
         "25",
         "US20060046928",
         "/home/anatoly_kayda/Desktop/mipt/data/novolen/US/US20060046928.pdf",
         "4",
         "NO",
         "100.0",
         "YES",
         "0.0",
         "US 2006/0046928A1 Mar. 2, 2006 Sheet 3 of 3 Patent Application Publication \n 3 O.   ",
         "US20060046928",
         "/home/anatoly_kayda/Desktop/mipt/data/novolen/US/US20060046928.pdf",
         "False"
        ],
        [
         "26",
         "US20060046928",
         "/home/anatoly_kayda/Desktop/mipt/data/novolen/US/US20060046928.pdf",
         "5",
         "NO",
         "99.93",
         "YES",
         "0.07",
         "US 2006/0046928A1 \n ZEGLER-NATTA CATALYST AND METHOD FOR \n MAKING AND USING SAME \n FIELD OF THE INVENTION \n 0001. The present invention relates to catalysts, and par ticularly to Ziegler-Natta catalysts and to a method for making and using catalysts in polymerization reactions. \n BACKGROUND OF THE INVENTION \n 0002 Ziegler-Natta catalysts are advantageously used in \n olefin polymerization reactions to produce Stereoregulated \n linear polymers. It is known that Ziegler-Natta catalysts may \n be formed by coating a Silica Support material with a magnesium-halide compound, a transition metal compound, electron donor compound(s) and an organo-aluminum \n cocatalyst. The transition metal is an active catalytic ingre dient and the magnesium-halide compound may also be \n thought of as being active to the extent that it acts as a Synergist to increase the overall catalytic productivity of the \n transition metal. The electron donor compounds and organo \n aluminum cocatalyst are important because they enable the Ziegler-Natta catalyst to catalyze polymerization of isotactic \n polymers. The Silica material is inactive and does not increase polymerization reaction rates. \n 0003. It is known that silica-based Ziegler-Natta catalysts may be produced from high-porosity Silica particles in the \n diameter range of about 10-100 microns, which may be coated with 1 or more relatively thin layers of a magnesium halide compound to form a catalyst Support, which may be \n treated with a transition metal to form a catalyst. However, this type of catalyst generally comprises a high ratio of \n inactive Silica relative to the active ingredients. Further, the catalyst Supports may need to be mechanically treated to produce generally Spherical, or spheroidal, catalyst Supports \n of the appropriate diameter and particle diameter distribu tion, which will form catalyst particles of the appropriate \n diameter and particle diameter distribution and, thus, will facilitate efficient polymerization reactions. \n 0004 U.S. Pat. Nos. 4,293,673 and 4,376,062, both to Hamer et al., disclose methods for forming Silica based catalysts with very Small Silica particles, no larger than about \n 0.05 micron, which are mixed in a slurry to form solid agglomerations comprising a number of Silica particles \n mixed with active ingredients. While Hamer utilizes silica particles which are very Small, the resulting catalysts Still \n comprise at least 10 wt % inert silica material. This is \n undesirable because the higher the relative amount of inert Silica material the lower the Overall activity of the catalyst, and the higher the amount of catalyst residues in a polymer \n formed therewith. Thus, the production costs of the polymer, per weight unit of catalyst, is higher for catalysts containing \n relatively large amounts of inert material. Further, higher amounts of catalyst residues may detrimentally affect poly mer processing and/or the physical properties of products \n made with the polymer. \n 0005 Thus, there is a need for an efficient and reliable method for producing catalyst Support materials, and ulti mately catalysts, which comprise a relatively Small percent \n age of inactive materials, and which have a relatively Smooth spherical or spheroidal shape and Suitable average \n particle diameter and particle diameter distribution. Mar. 2, 2006 \n SUMMARY OF THE INVENTION \n 0006 The invention comprises a method for making magnesium-halide Supports of a Specified particle shape, \n average diameter and particle diameter distribution, which comprises providing a non-aqueous Solution of a magne \n sium-halide containing Silica particles dispersed therein, and crystallizing the magnesium-halide about the Silica particles \n to provide the magnesium-halide Support, wherein the Sup port has an approximately spherical shape, an average \n particle diameter from about 10 to about 120 microns, and a particle diameter distribution from about 10 to about 150 \n microns. The invention further comprises methods for mak ing catalysts and using Same in polymerization reactions. \n The invention further comprises catalyst Supports and cata lysts. \n 0007 Catalysts of the invention may include transition metal compounds, organo-aluminum co-catalysts and/or \n electron donors and may be useful for the polymerization of olefins to provide polymers having good morphology and \n bulk density. \n BRIEF DESCRIPTION OF THE DRAWINGS \n 0008 FIG. 1 is a photomicrograph of particles of 100% MgCl2 at 50x magnification; \n 0009 FIG. 2 is a photomicrograph of particles of 90% \n MgCl, and 10% CAB-O-SILE silica at 50x magnification; and \n 0010 FIG. 3 is a photomicrograph of particles of 98% MgCl, and 2% CAB-O-SILO silica at 50x magnification. \n DETAILED DESCRIPTION OF PREFERRED \n EMBODIMENTS \n 0011. The present invention generally concerns Ziegler Natta catalysts and processes for making and using Same, \n which may include coating a Silica Support material, acting as a Seeding agent, with a magnesium compound to form a \n Solid catalyst Support. The catalyst Support may be reacted \n with a transition metal, an internal electron donor, an organo-aluminum co-catalyst and an external electron donor \n to form a catalyst Suitable for, for example, various poly \n merization reactions. \n 0012. In a preferred process, a Silica Seeding agent is \n dispersed in a non-polar, non-ionic oil, for example, mineral \n oil, paraffin oil or Silicone oil, in a mixing apparatus Such as a simple paddle Stirrer operating at a few hundred rpms or \n a Ultra-Turrax(RT 50 Homogenizer with stirring speeds up to 10,000 rpms. Preferably, the ratio of silica seeding agent \n to oil is in the range of about 0.25 grams per liter to about 25.0 grams per liter, more preferably about 1.0 gram per liter \n to about 10.0 grams per liter. The Silica Seeding agent is \n described in more detail below. \n 0013 Anhydrous magnesium halide compound can be \n added to the dispersion of silica in oil, followed by addition \n of an alkanol Solvent Such as anhydrous ethanol, methanol, or 2-ethyl-1-hexanol. Alternatively, anhydrous ethanol, \n methanol or 2-ethyl-1-hexanol can be added to an anhydrous \n (i.e., less than about 0.5 wt % HO) magnesium-halide compound to form a Soluble complex, as described below. \n About 0.01 wt % to about 10.0 wt %, more preferably from \n about 0.1 wt % to about 5.0 wt %, and still more preferably ",
         "US20060046928",
         "/home/anatoly_kayda/Desktop/mipt/data/novolen/US/US20060046928.pdf",
         "False"
        ],
        [
         "27",
         "US20060046928",
         "/home/anatoly_kayda/Desktop/mipt/data/novolen/US/US20060046928.pdf",
         "6",
         "YES",
         "99.97",
         "NO",
         "0.03",
         "US 2006/0046928A1 \n from about 0.5 wt % to about 3.0 wt % of the silica seeding agent is used relative to the magnesium-halide compound. \n Generally, a higher ratio of magnesium-halide to Silica \n Seeding agent in the mixture results in a higher ratio of magnesium-halide to Silica in the catalyst Support formed and, consequently, a larger catalyst Support is expected to \n form because more magnesium-halide crystalizes onto the Silica Seeding agent. \n 0.014. The solvent is added in amounts from about 2 to 20 times, preferably about 6 times, the molar ratio of the magnesium-halide compound to facilitate the liquefying of \n the magnesium-halide compound at a lower temperature. \n U.S. Pat. No. 4,421,674 to Invernizzi et al. teaches, for \n example, that when the mole ratio of ethanol (“EtOH') to MgCl, is 102, the complex liquefies at 60° C.; at a mole ratio of EtOH to MgCl2 of 7.75 the complex liquefies at 80° C.; \n at a mole ratio of EtOH to MgCl, of 6.51 the complex liquefies at 90° C.; and at a mole ratio of EtOH to MgCl, of 5.43 the complex liquefies at 100° C. The mixture is initially translucent due to the Suspension of the magnesium-halide \n compound and the Silica Seeding agent. The mixture is \n heated to about 60° C. to about 140°C., preferably about 80° \n C. to about 120° C., until the solvent begins to reflux and the magnesium-halide compound goes into Solution, whereupon \n the mixture becomes transparent, and the temperature is \n maintained at the reflux temperature for about 0.25 hours to about 3.0 hours, preferably about 1.0 hour to about 2.0 hours, preferably with continuous stirring. It is possible to \n form the mixture without either the oil or the Solvent, or by mixing the ingredients in a different order, but the above \n described mixing operation has been shown to result in a well-dispersed mixture. \n 0015 The clear mixture, which includes a MgCl2.xEtOH complex (where X is an integer from 1-20), is rapidly transferred to a Second mixing apparatus containing a pre \n chilled hydrocarbon Solvent, Such as heptane, hexane, cyclo hexane, or other aliphatic or cycloaliphatic hydrocarbon \n which is miscible in the oil and which will not freeze at the \n temperatures necessary for the Solidification of the MgCl2.xEtOH complex. The hydrocarbon solvent is pre \n chilled, for example, to between ice (0° C.) and dry ice/ isopropanol temperatures (i.e., about -70° C. to -90° C.). The rapid temperature decrease causes almost all of the magnesium-halide compound to precipitate out of Solution \n and crystallize onto the Silica Seeding agent, thus coating the Silica Seeding agent to form a catalyst Support. The catalyst \n Support particles preferably include less than 10 wt % Silica, \n preferably no more than 5 wt % silica, and more preferably \n no more than 3 wt % Silica. \n 0016. After about 0.5 to 2 hours, preferably about 1 hour, \n the mixture is allowed to warm to room temperature and it is filtered. Approximately Spherical and/or Spheroidal Solid \n catalyst Support particles, each comprising at least one Silica Seeding agent with magnesium-halide crystals attached \n thereto, are collected and washed Several times with more hydrocarbon Solvent, until the hydrocarbon Solvent appears \n to be colorless, and are dried (e.g., vacuum dried) in a rotary evaporator at about 40 C. to 80 C., preferably at about 60 \n C., for 1 to 3 hours, preferably for about 2 hours. The term “approximately Spherical' or “approximately Spheroidal' \n means that all points on the Surface of the particle are within \n the range of radius r to 2r wherein r is the minimum radial \n distance between the center of the particle and the closest Mar. 2, 2006 \n point thereto on the Surface of the particle. The magnesium halide compound may alternately be crystallized onto the \n Silica Seeding agent with known Spray drying techniqueS or \n by gradually evaporating the Solvent in which it was origi \n nally dissolved. \n 0017 Next, the catalyst support is slowly added to about \n 10 to 50 moles of a transition metal compound for each mole of magnesium in the magnesium-halide compound at about \n -30 to 50 C., and the temperature of this mixture is raised \n to about 20 to 80°C., preferably about 30-60° C. An internal electron donor is added and the temperature is raised, generally with stirring, to about 80 to 130 C., preferably \n 100-110° C., and is kept at that level for about 1 to 3 hours, preferably about 2 hours. \n 0018. The internal electron donor compound, in general, \n is used in an amount from about 0.05 to about 2.0 moles, \n preferably about 0.1 to about 0.5 mole, for each mole of magnesium in the magnesium-halide compound. \n 0019. The result is a mixture comprising solid catalyst \n particles and unreacted transition metal compound and inter \n nal electron donor compound. \n 0020. The solid catalyst particles are filtered out and, \n preferably, extracted for about 1 to 3 hours, preferably about \n 2 hours, at about 110 to 140 C., more preferably about 125 C. with a mixture of transition metal compound (about 5 to 30 wt %, preferably about 10 wt %), and an inert solvent, Such as a C-C alkylbenzene, preferably ethylbenzene \n (about 70 to 85 wt %, preferably about 90 wt %) in a known “Soxhlet” extraction type arrangement. This extraction treat ment enhances catalyst activity and Stereospecificity. Alter \n natively, the Solid catalyst may receive any number of other \n known extraction treatments, which may, but need not, include a transition metal treatment. Alternatively, the cata lyst could simply be boiled in a Solution comprising a \n transition metal compound with or without an inert Solvent, \n i.e., a Solvent which will not react with the transition metal \n compound. U.S. Pat. No. 4,745,164 to Schweier et al. and \n U.S. Pat. No. 6,034,023 to Kersting et al., which are incor porated by reference herein, teach examples of extraction \n methods which may be utilized in the present invention. \n 0021. The Solid catalyst may be recovered by filtration, \n washed with an inert Solvent, Such as heptane, hexane, cyclohexane or other aliphatic or cycloaliphatic hydrocar \n bon, dried by draining off transition metal compound and \n Solvent, washed a Second time with the inert Solvent, and \n dried. \n 0022. The solid catalyst Support particles and/or catalyst \n particles preferably comprise about 0.01 wt % to about 10 wt \n % silica, more preferably about 0.1 wt % to about 5 wt % \n Silica. \n 0023 The solid catalyst Support particles and/or catalyst particles preferably have a weight percent ratio of Silica to \n magnesium-halide compound in the range of about 1:20 to \n 1:3, preferably from about 1:10 to 1:4. \n 0024. The catalyst may preferably be treated with an organo-aluminum co-catalyst and an external electron donor or other Stereoregulating agent to form a Ziegler-Natta \n catalyst, which may be used, for example, in polymerization \n reactions. Examples of external electron donor compounds \n which may be used in the catalytic System of the invention ",
         "US20060046928",
         "/home/anatoly_kayda/Desktop/mipt/data/novolen/US/US20060046928.pdf",
         "False"
        ],
        [
         "28",
         "US20060046928",
         "/home/anatoly_kayda/Desktop/mipt/data/novolen/US/US20060046928.pdf",
         "7",
         "NO",
         "100.0",
         " NO",
         "0.0",
         "US 2006/0046928A1 \n include mono- and polyfunctional carboxylic acids, car boxylic anhydrides and carboxylic esters, and ketones, \n ethers, alcohols, lactones as well as organic phosphorus and \n Silicon compounds. Also, a mixture of two or more external \n electron donor compounds can be used. The external elec \n tron donor compound and the internal electron donor com pound used in the preparation of the Solid catalyst compo \n nent may be the same or different. Preferred external electron donor compounds are disclosed below. \n 0.025 In such cases the organo-aluminum co-catalyst and \n the external electron donor may be contacted with the Solid catalyst Separately, in any order, or together, preferably at a \n temperature from about 0 to 200 C., more preferably from \n about 20 to 90° C., and preferably at a pressure of about 1 \n to 100 bar, more preferably from about 1 to 40 bar. \n 0.026 Preferably, the organo-aluminum co-catalyst is \n added in Such an amount that the molar ratio of the alumi \n num co-catalyst to the transition metal in the Solid catalyst \n is from about 10:1 to about 800:1, more preferably from \n about 20:1 to about 200:1. \n 0027. The external electron donor is used with the cata lyst in amounts ranging from about 1 to 100 moles, prefer \n ably 10 to 30 moles, for each mole of transition metal in the catalyst. Generally, it is highly preferred that an external \n electron donor, with or without the organo-aluminum co \n catalyst, be used in order to maintain a high level of Stereospecificity in polymers produced with the catalysts of \n the invention. \n 0028. A preferred silica seeding agent is a microspheroi \n dal silica (SiO2), for example, a fumed Silica Such as CAB-O-SIL(R-5 (Cabot Corporation; Midland, Mich.). Other Silica Seeding agents may include, for example, Aero \n sile) fumed silica, available from USA Midwest Degussa Corporation, 3500 Embassy Parkway Ste. 100, Akron Ohio \n 4.4333. \n 0029. The silica seeding agent is characterized by its relatively Small average particle diameter, i.e., preferably \n about 0.005-10 microns, more preferably about 0.001-5.0 microns, most preferably from about 0.01 microns to about 1.0 micron. The Silica Seeding agent has low porosity \n because of its lack of, or Small quantity of, pores. That is, it \n has a porosity of less than about 0.5 cc/gram as measured by nitrogen adsorption, which indicates that the Silica particles \n have relatively Smooth Surfaces. The Silica Seeding agent particles have relatively uniform spherical or spheroidal shape, i.e., approximately Spherical shape, and preferably \n having a radius which does not vary by more than about 20% from the center to any point on the Surface of the particle. The particles of the Silica Seeding agent have a relatively \n small particle diameter distribution, such that 50% of the Silica particles have particle diameters ranging from about \n 0.05 microns to about 0.5 microns. \n 0030 The small particle diameter of the silica seeding agent is significant because the resulting catalyst will ulti mately comprise a relatively Small percentage, i.e., less than \n 10 wt %, of inert silica material as compared to the total weight of the catalyst Support. Thus, the catalyst will operate \n more efficiently because a relatively larger portion of the \n Solid catalyst will comprise active catalytic material, i.e., the transition metal and the magnesium-halide Synergist. In preferred catalyst Supports the Silica component will be leSS Mar. 2, 2006 \n than 10 wt % of the total catalyst Support weight, more \n preferably about 0.1 wt % to about 5 wt %, and yet more \n preferably about 0.5 wt % to about 3.0 wt % of the catalyst Support formed by the above-described processes. Since the Silica Seeding agent provides a Surface upon which the magnesium-halide compound will crystallize, the Smooth \n approximately spherical shape and Small particle diameter \n distribution of the Silica Seeding agent will result in catalyst Support particles, and ultimately catalyst particles, with a \n relatively Smooth approximately spherical shape and Small \n particle diameter distribution. These qualities will contribute to an efficient polymerization process with a relatively Small \n amount of fines in polymers produced in reactions con \n ducted with the catalysts of the invention. This is an advan tage over other catalysts which, for example, may need to undergo various complex and expensive processes in order to acquire an approximately Spherical shape and/or accept \n able particle diameter and particle diameter distribution. \n 0031. The diameters of the catalyst support particles will \n range from about 5-150 microns, more preferably from \n about 20-60 microns, most preferably from about 20-40 microns. The particle size distribution of the catalyst Support particles is Such that 50% of the catalyst Support particles \n have particle diameters ranging from about 20 microns to \n about 60 microns. \n 0032. The catalyst particles will have diameters which are about 20%-50% smaller. For example, a support particle \n with a 70 micron diameter may result in a catalyst particle \n with a 50-60 micron diameter. The reason for this reduction \n in Size is as follows. It is generally known that ethanol dissolves the MgCl2 by first Swelling the structure of the solid MgCl. (MgCl2 has a layered structure. Ethanol occu pies the interstitial spaces between the MgCl2 layers.) AS \n more alcohol is added and/or the material is heated, this Structure continues to Swell or expand until the MgCl, layers Segregate and the MgCloEtOH complex becomes a liquid. \n When this complex is reacted with TiCl, the removal of \n ethanol causes the Structure and thus the particle to Shrink or diminish in size. Thus, the catalyst Supports and catalysts of \n the invention are notable for having relatively thick layers of active ingredients, referring to both the Synergistic magne \n sium-halide layer and active transition metal layer, on rela tively Small Silica particles. Again, this results in the overall percentage of inactive Silica delivered to a polymerization \n reactor to be lower than in other known processes. Conse quently, overall efficiency in the polymerization reactor will be higher. \n 0033 Preferably, catalyst Support particles and catalyst \n particles of the invention will each include one Silica Seed particle, or a Small group of Silica Seed particles comprising \n less than 10% of the total catalyst Support weight. In contrast \n to the present invention, other known catalysts typically comprise relatively large Silica particles or agglomerations \n of a number of very Small Silica particles within each catalyst Support particle Such that there is a relatively larger \n amount (e.g., up to 50 wt %) of inert Silica in the catalyst particle. \n 0034. The magnesium compound is an inorganic solid \n magnesium-halide compound containing at least one halo \n gen atom, Such as magnesium chloride, magnesium bromide \n and magnesium iodide, as well as mixed halogen oxides or hydroxides like chloromagnesium hydroxide, bromomagne ",
         "US20060046928",
         "/home/anatoly_kayda/Desktop/mipt/data/novolen/US/US20060046928.pdf",
         "False"
        ],
        [
         "29",
         "US20060046928",
         "/home/anatoly_kayda/Desktop/mipt/data/novolen/US/US20060046928.pdf",
         "8",
         "NO",
         "100.0",
         " NO",
         "0.0",
         "US 2006/0046928A1 \n sium hydroxide and iodomagnesium hydroxide. Among \n these compounds the magnesium dihalides corresponding to \n the formula MgX are preferred wherein X is a halogen. Especially preferred is magnesium chloride (MgCl). Pref \n erably, the inorganic Solid magnesium-halide compound is \n in a Substantially anhydrous condition. \n 0.035 Transition metal compounds for treating the cata \n lyst Support are preferably titanium or Vanadium com \n pounds. Titanium compounds useful in preparing the Solid \n catalyst component include the halogenides of tri- or tet \n ravalent titanium. Titanium alkoxy halogenide compounds \n and mixtures of two or more titanium compounds are also contemplated. Examples of Suitable titanium compounds \n include TiBr, TiBri, TiCl, TiCl, Ti(OCH)Cl. Ti(OCH3)Cls, Ti(O-iso-CH2)C1, Ti(O-n-CHg)Cls, \n Ti(OCH)Br, Ti(O-n-CH-)Br, Ti(OCH) Cl, \n Ti(OCH3)Cl., Ti(O-n-CH3)2Cl2, Ti(OCH3)Br, \n Ti(OCH) Cl, Ti(OCH) Cl, Ti(O-n-CHo). Cl, Ti(OCH), Br, Ti(OCH), Ti(OCH), or Ti(O-n-CHo). \n Preferred titanium compounds include those wherein the \n halogen is chlorine. Also preferred are those titanium halo \n genides that in addition to the titanium contain only halogen, \n and of these the titanium chlorides, and in particular titanium \n tetrachloride, are preferred. \n 0.036 Vanadium compounds useful in the preparation of \n the Solid catalytic component of the catalytic System \n described herein include the Vanadium halogenides, the \n Vanadium oxyhalogenides, the Vanadium alkoxides and \n Vanadium acetylacetonate. Preferred Vanadium compounds \n are those having oxidation Stages 3 to 5. \n 0037. The function of the internal and external electron \n donors, e.g., Lewis bases, is two-fold. One function is to block “coordinately unsaturated' Sites on the magnesium \n compound So that the active site, the transition metal com \n pound, will not attach to those Sites. The other function is to \n reduce the “coordinately unsaturated” environment around \n the bound active site in order to improve its Stereospecificity. \n Both results are the Same, i.e. the electron donors improve the isotacticity or Stereoregularity of polymers produced \n with the catalyst. The reason for this is that a “coordinately \n unsaturated' Site has a lower energy barrier for binding \n propylene in various configurations, i.e., it can bond to \n propylene in multiple ways, leading to a reduction in poly \n mer isotacticity and Subsequently lower polymer crystallin \n ity. Lower polymer crystallinity results in lower polymer melting points and increased hydrocarbon (e.g., xylene, \n decalin, or heptane) Solubles. A “coordinatively Saturated” Site will predominately bond to the active site in only one way. As a result, a coordinatively Saturated Site produces \n uniform or isotactic polypropylene. \n 0.038 Internal electron donor compounds which may be used in the preparation of the Solid catalytic component \n include, at least, mono or polyfunctional carboxylic acids, carboxylic anhydrides, or carboxylic esters, and also \n ketones, ethers, alcohols, lactones or organophosphorous or organosilicon compounds. \n 0.039 Preferred internal electron donor compounds included carboxylic acid derivatives and, in particular, phthalic acid derivatives having the general formula (I): Mar. 2, 2006 \n (I) \n wherein X and Y each represent a chlorine or bromine atom or a C-Co alkoxy group, or X and Y taken together represent an oxygen atom forming an anhydride function. \n Particularly preferred internal electron donor compounds are \n phthalic esters of formula (I) wherein X and Y each are a C-Cs alkoxy group, such as a methoxy, ethoxy, n-propyloxy, isopropyloxy, n-butyloxy, Sec-butyloxy, or tert-butyloxy \n group. Examples of preferred phthalic esters include diethyl phthalate, di-n-butyl phthalate, di-isobutyl phthalate, di-n- pentyl phthalate, di-n-hexyl phthalate, di-n-heptyl phthalate, \n di-n-octyl phthalate or di-2-ethylhexyl phthalate. \n 0040. Further examples of preferred internal electron \n donor compounds include diesters of 3- or 4-membered, optionally Substituted cycloalkane 1,2-dicarboxylic acids, as \n well as monoesters of Substituted benzophenone 2-carboxy \n lic acids or Substituted benzophenone 3-carboxylic acids. AS hydroxy compounds in the esterfication reaction for synthe \n sis of these esters, alkanols Such as C-C or Cs-C7 cycloal kanols (optionally Substituted with one or more C-C alkyl groups), as well as C-Co phenols, can be used. A particu larly preferred internal electron donor is di-alkyl carboxylic \n acid ester. \n 0041. A further group of suitable internal electron donor compounds are the non-Substituted and Substituted (C-Co alkyl)-1,3-propane diethers and derivatives of the group of \n Succinates. \n 0042. Also, mixtures of two or more internal electron donor compounds may be used in the preparation of the Solid catalytic component of the invention. \n 0043. Examples of external electron donor compounds \n which may be used in the catalytic System of the invention include mono- and polyfunctional carboxylic acids, car \n boxylic anhydrides and carboxylic esters, and ketones, \n ethers, alcohols, lactones as well as organic phosphorus and \n Silicon compounds. Also, a mixture of two or more external electron donor compounds can be used. The external elec \n tron donor compound and the internal electron donor com pound used in the preparation of the Solid catalyst compo \n nent may be the same or different. However, it is generally \n preferred that the internal and external electron donors be \n different because the desired internal electron donor is one \n which will block sites that lead to “coordinative unsatura \n tion” or that transform “coordinatively unsaturated” sites \n into “coordinatively Saturated' Sites. And yet these internal \n electron donors do not react with TiCl. In the case of \n external electron donors, the desired molecule is one that \n will have the same affect on “coordinative Saturation', but will not react with the aluminum alkyl cocatalyst. A mol \n ecule that yields “coordinative unsaturation” yet does not \n react with either TiCl, and AlR would be ideal. However, ",
         "US20060046928",
         "/home/anatoly_kayda/Desktop/mipt/data/novolen/US/US20060046928.pdf",
         "False"
        ],
        [
         "30",
         "US20060046928",
         "/home/anatoly_kayda/Desktop/mipt/data/novolen/US/US20060046928.pdf",
         "9",
         "YES",
         "100.0",
         "**",
         "0.0",
         "US 2006/0046928A1 \n due to the difficulty in finding Such a Single Substance, most polypropylene catalysts employ two separate Substances for \n their internal and external electron donors. \n 0044 Preferred external electron donor compounds include the organosilicon compounds of the general formula \n (II): \n R\"Si(OR), (II) \n 0045 wherein each R' may be the same or different and represents a C-Coalkyl group, a 5- to 7-membered cyclic \n alkyl group optionally Substituted with C-C alkyl, a C-C1s aryl group or a Co-C1s aryl-C-Cio alkyl group; and each R may be the same or different and represents a C-Coalkyl group; and n is an integer equal to 1, 2 or 3. \n 0046 Preferred compounds of formula (II) are diisopro pyldimethoxysilane, isobutylisopropyl-dimethoxysilane, \n disobutyldimethoxysilane, dicyclopentyl-dimethoxysilane, cyclohexylmethyldimethoxysilane, dicyclohexyldimethoX \n ySilane, isopropyl-tert-butyldimethoxysilane, isopropyl-Sec \n butyldimethoxysilane, and isobutyl-Sec-butyldimethoxysi \n lane. \n 0047. Other stereoregulating agents which may be sub \n Stituted for the external electron donor include alcohols, phenols, ketones, aldehydes, carboxylic acids, organic or \n inorganic acid esters, ethers, acid amides and acid anhy \n drides, and nitrogen-containing electron donors Such as \n ammonia, amines, \n 0.048 nitriles and isocyanates. Specific examples include \n alcohols having 1 to 18 carbon atoms which may have an alkyl group Such as methanol, ethanol, propanol, pentanol, \n hexanol, octanol, 2-ethylhexanol, dodecanol, octadecyl \n alcohol, benzyl alcohol, phenylethyl alcohol, cumyl alcohol and isopropylbenzyl alcohol; phenols having 6 to 25 carbon \n atoms Such as phenol, creSol, Xylenol, ethylphenol, propy lphenol, cumylphenol, nonylphenol and naphthol, ketones \n having 3 to 15 carbon atoms Such as acetone, methyl ethyl ketone, methyl isobutyl ketone, acetophenone and ben \n Zophenone; aldehydes having 2 to 15 carbon atoms Such as acetaldehyde, propionaldehyde, octylaldehyde, benzalde \n hyde, tolualdehyde and naphthaldehyde; organic acid esters \n having 2 to 30 carbon atoms Such as methyl formate, ethyl acetate, Vinyl acetate, propyl acetate, octyl acetate, cyclo hexyl acetate, ethyl propionate, methylbutyrate, ethyl Val \n erate, ethyl Stearate, methyl chloroacetate, ethyl dichloroac etate, methyl methacrylate, ethylcrotonate, dibutyl maleate, diethylbutylmalonate, diethyl dibutylmalonate, ethyl cyclo hexanecarboxylate, diethyl 12-cyclohexane-dicarboxylate, \n di-2-ethylhexyl 12-cyclohexanedicarboxylate, methylben \n Zoate, ethylbenzoate, propylbenzoate, butylbenzoate, octyl \n benzoate, cyclohexyl benzoate, phenyl benzoate, benzyl \n benzoate, methyl toluate, ethyl toluate, amyl toluate, ethyl ethylbenzoate, methyl anisate, ethyl anisate, ethyl ethoxy \n benzoate, dimethyl phthalate, diethyl phthalate, dibutyl phthalate, dioctyl phthalate, gamma-butyrolactone, delta \n Valerolactone, coumarin, phthalide and ethylene carbonate; inorganic acid esterS Such as ethyl Silicate, butyl Silicate, Vinyltriethoxysilane, phenyltriethoxysilane and diphenyldi \n ethoxysilane; acid halides having 2 to 15 carbon atoms Such \n as acetyl chloride, benzoyl chloride, tolyl chloride, anisoyl \n chloride and phthaloyl dichloride; ethers having 2 to 20 carbon atoms Such as methyl ether, ethyl ether, isopropyl \n ether, butyl ether, amyl ether, tetrahydrofuran, anisole and Mar. 2, 2006 \n diphenyl ether; acid amides Such as acetamide, benzamide and toluamide; acid anhydrides Such as benzoic anhydride and phthalic anhydride, amines Such as methylamine, ethy lamine, diethylamine, tributylamine, piperidine, tribenzy \n lamine, aniline, pyridine, picoline and tetramethylethylene \n diamine; and nitriles Such as acetonitrile, benzonitrile and \n tolunitrile. \n 0049 Polymerization is initiated by formation of a metal \n carbon bond (Ti-C). The function of the aluminum alkyl is to alkylate the TiCl. This can be accomplished in a variety \n of ways: by addition of aluminum alkyl to the reactor Separate from the catalyst, by premixing the aluminum alkyl \n with the catalyst prior to addition to the reactor, or by \n premixing of the aluminum alkyl and external electron donor prior to mixing with the catalyst. \n 0050 Examples of Suitable organo-aluminum co-cata \n lysts include aluminum trialkyls (AIR) and derivatives thereof wherein an alkyl group is Substituted by an alkoxy \n group or a halogen atom, e.g. chlorine or bromine atom. The alkyl groups may be the same or different. The alkyl groups \n may be linear or branched chain alkyl groups. Preferred trialkylaluminum compounds are those wherein the alkyl \n groups each have 1 to 8 C-atoms, Such as trimethylalumi num, triethylaluminum, tri-isobutylaluminum, trioctylalu \n minum or methyldiethyl aluminum. \n 0051. The equipment used in the processes of the inven \n tion are well known in the art and, generally, may be \n substituted for by those familiar with catalysts and their production. Reactor Systems can include high pressure, \n Stainless Steel vessels, low preSSure, glass vessels, CSTR \n vessels, loop reactors, Vertical Stirred-bed gas phase reac \n tors, horizontal Stirred-bed gas phase reactors, Vertical, \n fluid-bed gas phase reactors, and the like. \n 0052 The catalysts of the present invention were tested for polymerization performance using a 2-liter, jacketed, \n stainless steel reactor available from Pressure Products \n Industries, Inc., 900 Louis Drive, Warminster, Pa. 18974. Liquid propylene was metered in using a high preSSure Site-glass. Hydrogen was added by measuring the preSSure \n differential across a 300 ml vessel. \n 0053 A test sample of a preferred catalyst of the inven \n tion was prepared and tested as follows: \n Catalyst Preparation Procedure \n 0054) 50 milligrams of CAB-O-SIL(R) was dispersed in \n about 250 ml of mineral oil in a flask by stirring. Subse quently, 10 grams of anhydrous MgCl, followed by 6 equivalents of anhydrous ethanol (per equivalent of magne \n sium) was added. The mixture was heated until the ethanol began to reflux. The mixture was maintained at this tem perature for about 1 hour with continuous Stirring. \n 0055. The contents of the flask were then rapidly trans ferred to a Second flask containing 1 liter of heptane pre chilled to dry icefisopropanol temperatures. After an hour \n the temperature of the contents of the Second flask were \n allowed to warm to room temperature and were then filtered. Approximately Spherical Solid catalyst Support particles \n were collected and washed Several times with heptane, until the Washings appeared to be colorleSS, and then Vacuum dried in a rotary evaporator at 60° C. for about 2 hours. ",
         "US20060046928",
         "/home/anatoly_kayda/Desktop/mipt/data/novolen/US/US20060046928.pdf",
         "True"
        ],
        [
         "31",
         "US20060046928",
         "/home/anatoly_kayda/Desktop/mipt/data/novolen/US/US20060046928.pdf",
         "10",
         "YES",
         "100.0",
         " YES",
         "0.0",
         "US 2006/0046928A1 \n 0056 Next, the solid catalyst Support particles were \n added slowly to a third flask containing 200 ml of neat TiCl, \n which had been pre-cooled to about 0° C. After the tem perature was raised to about 50-60 C., 1.5 ml of di-n- butylphthalate, a di-alkylcarboxylic acid ester, as an internal \n electron donor, was added. The contents of the third flask were heated to 100-110° C. and held at that temperature for \n about 2 hours. \n 0057 The heat was removed, and solid catalyst particles \n and liquid from the third flask were transferred to a Soxlet extractor. The liquid, which comprised unreacted TiCl, and \n internal electron donor compound, was removed by filtering through a porous Sintered glass filter that is part of the \n reaction vessel. The remaining Solid catalyst particles were \n then extracted for about two hours at 125 C. with a mixture \n of 90% ethylbenzene and 10% TiCl. This TiCl, treatment greatly enhances the performance of the catalyst. \n 0.058 At the conclusion of the extraction, the Solid cata lyst particles were dried by draining off residual TiCland ethylbenzene, Washing with heptane, and vacuum drying. \n The polymerization productivity of the catalyst was then \n tested using the general polymerization procedure described \n below. \n Polymerization Testing Procedure \n 0059) A quantity of 4 ml of 25 wt % triethylaluminum \n (TEAl) was added to a leg of a two-leg stainless Steel injector, along with 2 ml of a 0.1 molar Solution of cyclo hexylmethyl dimethoxysilane, as an external electron donor. \n The aluminum alkyl activates the catalyst by replacing one \n of the chlorides on the titanium with an alkyl group. There after, alkylation can propagate continued insertion of pro pylene groups during a polymerization reaction. The exter \n nal electron donor is important for controlling the nature of the propylene insertion, but it is not necessary for Starting or maintaining propylene insertion. \n 0060 20 Milligrams of a mixture containing 2 parts anhydrous MgCl2 and 1 part of the experimental catalyst \n prepared above was added to another leg of the injector. The experimental catalyst was diluted in this manner to facilitate \n more accurate measurement of Small quantities of catalyst \n tested in this example. The injector was then attached to the \n reactor So that the contents of the injector legs could be charged to the reactor under inert atmospheric conditions. \n 0061 A polymerization reaction vessel comprising a 2-li \n ter, Stainless Steel, jacketed pressure vessel, was purged of \n moisture and oxygen by heating to at least 100° C. while a \n Slow bleed of dry nitrogen was maintained through the \n vessel. The TEAl and external electron donor were added to \n the reactor by flushing the appropriate injector leg with \n 600-800 ml of propylene. The catalyst was then added in a \n similar fashion by flushing the other leg of the injector with 200-400 ml of liquid propylene. 100 delta-psig (as measured \n across a 300 ml vessel) of hydrogen was added to the reactor. \n The vessel was sealed and heated to about 70° C. Once the \n temperature was at about 70° C., the polymerization reaction \n was allowed to continue for one hour. The polymerization reaction was then Stopped by venting the residual propylene. \n The polymerization reaction vessel was opened and polymer \n was removed. \n 0.062 Catalyst productivity was measured by dividing the grams of polymer produced by the milligrams of active \n catalyst initially charged to the reactor. Mar. 2, 2006 \n 0063. The catalysts of the invention may be advanta geously used in the polymerization of alk-1-enes. Suitable \n alk-1-enes include linear or branches C-Co alkenes, in particular linear C-C alk-1-enes Such as ethylene, propy \n lene, but-1-ene, pent-1-ene, hex-1-ene, hept-1-ene, Oct-1- \n ene non-1-ene, dec-1-ene or 4-methylpent-1-ene. Mixtures \n of these alk-1-enes may be polymerized as well. \n 0064. The catalysts of the invention are, in particular, excellent catalytic Systems for use in the production of propylene polymers, both homopolymers of propylene as \n well as copolymers of propylene and one or more further \n alk-1-enes having up to 10 carbon atoms. \n 0065. The term copolymers as used herein also refers to copolymers wherein the further alk-1-ene having up to 10 carbon atoms is incorporated randomly. In these copolymers \n the comonomer content is generally less than about 15% by weight. The copolymerS may also be in the form of So-called block or impact copolymers, which comprise at least a \n matrix of a propylene homopolymer or propylene random \n copolymer containing less than 15% by weight of a further \n alk-1-ene having up to 10 carbon atoms and a Soft phase of a propylene copolymer containing about 15% to about 80% \n by weight of further alk-1-enes having up to 10 C-atoms. \n Also mixtures of comonomers are contemplated, resulting in, e.g., terpolymers of propylene. \n 0066. The production of the propylene polymers may be \n carried out in any common reactor Suitable for the polymer \n ization of alk-1-enes, either batchwise or, preferably, con tinuously, i.e., in Solution (bulk phase), as Suspension poly merization or as gas phase polymerization. Examples of \n Suitable reactors include continuously operated Stirred reac \n tors, loop reactors, fluid bed reactors, or horizontal or \n vertical stirred powder bed reactors. It will be understood that the polymerization may be carried out in a Series of consecutively coupled reactors. The reaction time depends \n on the chosen reaction conditions. In general the reaction time is from about 0.2 hours to about 10 hours, usually from \n about 0.5 hours to 5.0 hours. \n 0067. In general the polymerization is carried out at a \n temperature in the range of from about 20° C. to about 150 C., preferably from about 50° C. to about 120° C., and more preferably from about 60° C. to about 90° C., and a pressure \n in the range of from about 1 bar to about 100 bar, preferably \n from about 15 bar to about 40 bar, and more preferably from \n about 20 bar to 35 bar. \n 0068 The molecular weight of the so produced polymers \n may be controlled and adjusted over a wide range by adding \n polymer chain transfer or termination inducing agents as commonly used in the art of polymerization, Such as hydro \n gen. In addition an inert Solvent, Such as toluene or hexane, or an inert gas, Such as nitrogen or argon, and Smaller amounts of a powdered polymer, e.g., polypropylene pow \n der, may be added. \n 0069. The weight, i.e., (average molecular weights) of the propylene polymers produced by using the catalytic System \n of the invention, in general, are in the range of from about 10,000 g/mole to 1,000,000 g/mole and the melt flow rates \n are in the range of from about 0.1 to about 100 g/10 min, \n preferably from about 0.5 to about 50 g/10 min. The melt flow rate corresponds to the amount which is pressed within \n 10 minutes from a test instrument in accordance with ISO ",
         "US20060046928",
         "/home/anatoly_kayda/Desktop/mipt/data/novolen/US/US20060046928.pdf",
         "True"
        ],
        [
         "32",
         "US20060046928",
         "/home/anatoly_kayda/Desktop/mipt/data/novolen/US/US20060046928.pdf",
         "11",
         "NO",
         "100.0",
         "YES",
         "0.0",
         "US 2006/0046928A1 \n 1133 at a temperature of 230 C. and under a load of 2.06 kg. Certain applications might require different molecular \n weights than those mentioned above and are contemplated to be included among the polymers which are produced with \n the catalysts of the invention. \n 0070 The catalytic systems of the invention enable the polymerization of alk-1-enes to produce polymers having a good morphology and a high bulk density when compared \n with the prior art catalytic Systems. In addition, the catalytic \n Systems of the invention have an increased productivity. \n 0071. Due to their good mechanical properties the poly merS obtainable by using the Solid catalytic component of \n the present invention, and in particular the propylene homopolymerS or the copolymers of propylene with one or \n more further alk-1-enes having up to 10 carbon atoms, can be used advantageously for the production of fibers or moldings, and especially for the production of films. \n 0.072 Ziegler-Natta catalysts are the subject of continued improvements, because their properties Such as activity/ productivity, morphology, and Stereospecificity Strongly \n effect the polymerization process. \n 0073 While the invention has been described with ref erence to preferred embodiments, it will be understood by \n those skilled in the art that various changes may be made and \n equivalents may be substituted for elements thereof without departing from the Scope of the invention. \n 0074 Thus, it is intended that the invention not be limited to the particular embodiments disclosed herein, but that the \n invention will include all embodiments falling within the Scope of the appended claims. \n 1. A method for making a magnesium-halide Support of a \n Specified particle shape, average diameter and particle diam \n eter distribution, which comprises: \n a) providing a non-aqueous Solution of a magnesium halide compound containing Silica particles dispersed \n therein, Said Silica particles having an average particle \n diameter of less than 1.0 micron; and \n b) crystallizing the magnesium-halide about the Silica particles to provide the magnesium-halide Support, \n wherein the magnesium-halide Support has an approxi mately Spherical shape, an average particle diameter \n from about 5 to about 150 microns, and a particle \n diameter distribution from about 1 to about 200. \n 2. The method for making a magnesium-halide Support \n according to claim 1, wherein the magnesium-halide Support \n has an average particle diameter from about 10 to about 100 \n microns, and a particle diameter distribution from about 5 to \n about 150. \n 3. The method for making a magnesium-halide Support \n according to claim 2, wherein the magnesium-halide Support \n has an average particle diameter from about 20 to about 80 \n microns, and a particle diameter distribution from about 10 \n to about 100. \n 4. The method for making a magnesium-halide Support \n according to claim 1, wherein the Silica particles have an approximately Spherical shape, with a radius which does not \n vary by more than 20% from the center of the particle to any point on the particle Surface. Mar. 2, 2006 \n 5. The method for making a magnesium-halide Support \n according to claim 4, wherein the Silica particles are fumed \n Silica. \n 6. The method for making a magnesium-halide Support \n according to claim 5, wherein 50% of the silica particles \n have diameters of from about 0.05 to about 0.5 microns. \n 7. The method for making a magnesium-halide Support \n according to claim 1, wherein the weight of the magnesium \n halide is about 10 wt % to about 90 wt % of the magnesium halide Support. \n 8. The method for making a magnesium-halide Support \n according to claim 7, wherein the weight of the magnesium \n halide is about 20 wt % to about 80 wt % of the magnesium halide Support. \n 9. The method for making a magnesium-halide Support \n according to claim 1, wherein the weight of the magnesium \n halide is about 30 wt % to about 70 wt % of the magnesium halide Support. \n 10. The method for making a magnesium-halide Support \n according to claim 1, wherein the crystallizing Step com prises cooling the magnesium-halide Solution from a tem \n perature above the melting point of the magnesium halide compound to a temperature below the melting point of the magnesium halide compound. \n 11. The method for making a magnesium-halide Support \n according to claim 1, wherein the non-aqueous Solution of Step (a) includes an anhydrous alcohol and the crystallizing Step compriseS removing the alcohol from the non-aqueous \n Solution. \n 12. The method for making a magnesium-halide Support \n according to claim 1, wherein the weight of the Silica particle is less than about 10 wt % of the magnesium-halide \n Support. \n 13. The method for making a magnesium-halide Support \n according to claim 19, wherein the weight of the Silica particle is less than about 5 wt % of the magnesium-halide \n Support. \n 14. The method of making a magnesium-halide Support \n according to claim 1, wherein the step (a) of providing a non-aqueous Solution of a magnesium halide containing \n Silica particles dispersed therein comprises: \n dispersing the Silica particles in a non-polar, non-ionic oil \n to form a Silica-oil dispersion, \n adding the magnesium halide compound to the Silica-oil dispersion, \n adding an anhydrous alkanol Solvent to the Silica-oil dispersion to provide a mixture containing dissolved magnesium-halide compound and Silica-oil dispersion. \n 15. The method of making a magnesium-halide Support \n according to claim 14 wherein the Step of crystallizing the magnesium halide onto the Silica particles comprises: \n combining the mixture containing the dissolved magne \n Sium-halide compound and Silica-oil dispersion with a hydrocarbon solvent chilled to a predetermined tem perature to cause the magnesium-halide compound to \n precipitate and crystallize onto the Silica particles. \n 16. The method of making a magnesium-halide Support \n according to claim 14 wherein the non-polar, non-ionic oil is Selected from the group consisting of mineral oil, paraffin \n oil and Silicone oil. ",
         "US20060046928",
         "/home/anatoly_kayda/Desktop/mipt/data/novolen/US/US20060046928.pdf",
         "False"
        ],
        [
         "33",
         "US20060046928",
         "/home/anatoly_kayda/Desktop/mipt/data/novolen/US/US20060046928.pdf",
         "12",
         "NO",
         "100.0",
         " NO",
         "0.0",
         "US 2006/0046928A1 \n 17. The method of making a magnesium-halide Support \n according to claim 14, wherein the alkanol is Selected from the group consisting of ethanol, methanol and 2-ethyl-1- \n hexanol. \n 18. The method of making a magnesium-halide Support \n according to claim 14, wherein the magnesium-halide com pound is Selected from the group consisting of magnesium \n chloride, magnesium bromide, magnesium iodine, chloro magnesium hydroxide, bromomagnesium hydroxide and \n iodomagnesium hydroxide. \n 19. The method of making a magnesium-halide Support \n according to claim 15, wherein the hydrocarbon Solvent is Selected from the group consisting of heptane, hexane and cyclohexane. \n 20. The method of making a magnesium-halide Support \n according to claim 19 wherein the hydrocarbon solvent is \n chilled to a temperature ranging from about -90° C. to about \n O° C. \n 21. A method for making a catalyst of a specified particle \n shape, average diameter and particle diameter distribution, which comprises: \n a) providing a non-aqueous Solution of a magnesium \n halide containing Silica particles dispersed therein, Said \n Silica particles having an average particle diameter of \n less than 1.0 micron; \n b) crystallizing the magnesium-halide about the Silica particles to provide a magnesium-halide Support; and \n c) treating the magnesium-halide Support with a transition \n metal and an internal electron donor to form a catalyst, wherein the catalyst has an approximately spherical \n shape, an average particle diameter from about 2 to \n about 120 microns, and a particle diameter distribution \n from about 1 to about 200. \n 22. The method for making a catalyst according to claim 21, further comprising treating the catalyst with an alumi num co-catalyst. \n 23. The method for making a catalyst according to claim 21, further comprising treating the catalyst with an external \n electron donor. \n 24. The method for making a catalyst according to claim 21, further comprising treating the catalyst by extracting the \n catalyst with a transition metal. 25. The method for making a catalyst according to claim \n 21, further comprising treating the catalyst with an alumi \n num co-catalyst, an external electron donor and extracting \n the catalyst with a transition metal. 26. The method for making a catalyst according to claim \n 21 wherein the internal electron donor is selected from the \n groups consisting of diethyl phthalate, di-n-butyl phthalate, di-isobutyl phthalate, di-n-pentyl phthalate, di-n-hexyl \n phthalate, di-n-heptyl phthalate, di-n-octyl phthalate and di-2-ethylhexyl phthalate. \n 27. The method of claim 25 wherein the external election \n donor is Selected from the group consisting of: \n diisopropyldimethoxysilane, isobutylisopropyl dimethoxysilane, diisobutyldimethoxysilane, dicyclo Mar. 2, 2006 \n pentyl-dimethoxysilane, cyclohexylmethyldimethoX ySilane, dicyclohexyldimethoxysilane, isopropyl-tert \n butyldimethoxysilane, isopropyl-Sec \n butyldimethoxysilane, and isobutyl-Sec \n butyldimethoxysilane. \n 28. A method for the polymerization of an olefin, com prising the Steps of \n a) providing a catalyst, in accordance with a method including the Steps of: \n i) providing a non-aqueous Solution of a magnesium \n halide containing Silica particles dispersed therein, Said Silica particles having an average particle diam \n eter of less than 1.0 micron; \n ii) crystallizing the magnesium-halide about the Silica particles to provide a magnesium-halide Support, \n iii) treating the magnesium-halide Support with a tran \n Sition metal and an internal electron donor to form a catalyst, \n iv) treating the catalyst with an aluminum co-catalyst \n and an external electron donor, wherein the resulting catalyst has an approximately spherical shape, an \n average particle diameter from about 2 to about 120 \n microns, and a particle diameter distribution from \n about 1 to about 200; and \n b) contacting the olefin with the catalyst under polymer \n ization reaction conditions. \n 29. A magnesium-halide Support comprising: Silica par \n ticles coated with a magnesium-halide, wherein the magne sium-halide Support has an approximately Spherical shape, \n an average particle diameter from about 2 to about 120 \n microns, and a particle diameter distribution from about 1 to about 200, Said Silica particles having an average particle \n diameter of less than 1.0 micron. \n 30. The magnesium-halide Support according to claim 29, \n wherein the weight of the Silica particles is less than about 10 wt % of the weight of the magnesium-halide support. \n 31. The magnesium-halide Support according to claim 30, \n wherein the weight of the Silica particles is less than about 5 wt % of the weight of the magnesium-halide Support. 32. A catalyst comprising: \n Silica particles coated with magnesium-halide, an internal \n electron donor and a transition metal, wherein the catalyst has an approximately Spherical shape, an aver \n age particle diameter from about 2 to about 120 \n microns, and a particle diameter distribution from about 1 to about 200, Said Silica particles having an \n average particle diameter of less than 1.0 micron. 33. The catalyst according to claim 32, wherein the weight \n of the silica particles is less than about 10 wt % of the weight of the catalyst. \n 34. The catalyst according to claim 33, wherein the weight \n of the silica particles is less than about 5 wt % of the weight of the catalyst. ",
         "US20060046928",
         "/home/anatoly_kayda/Desktop/mipt/data/novolen/US/US20060046928.pdf",
         "False"
        ],
        [
         "34",
         "US4843132",
         "/home/anatoly_kayda/Desktop/mipt/data/novolen/US/US4843132.pdf",
         "1",
         "NO",
         "100.0",
         " NO",
         "0.0",
         "United States Patent (19) \n Werner et al. \n 54 PREPARATION OF HOMO- AND COPOLYMERS OF PROPENE USINGA \n ZEGLER-NATTA CATALYST SYSTEM \n Rainer A. Werner, Bad Durkheim; Ralf Zolk, Hessheim, both of Fed. Rep. of Germany (75) Inventors: \n 73) Assignee: BASF Aktiengesellschaft, Ludwigshafen, Fed. Rep. of Germany \n (21) Appl. No.: 176,861 \n 22 Filed: Apr. 1, 1988 \n (30) Foreign Application Priority Data \n Apr. 8, 1987 (DE) Fed. Rep. of Germany ....... 3711919 \n (51l Int. Cl* ............................................... C08F 4/64 52 U.S. Cl. .................................... 526/125; 526/351; 502/120 \n 58) Field of Search ................................ 526/125, 351 \n (56) References Cited \n U.S. PATENT DOCUMENTS \n 4,113,933 9/1978 Schweier et al. ............... 526/125 X \n 4,399,054 8/1983 Ferraris et al. .... 4,431,571 2/1984 Karayannis ........ \n 4,467,044 8/1984 Band .......... 52.6/125 X \n 4,579,919 4/1986 Staiger et al........... 52.6/124 X \n FOREIGN PATENT DOCUMENTS \n 543049 3/1985 Australia . \n 14523 8/1980 European Pat. Off. . 17895. 10/1980 European Pat. Off. . 45977 2/1982 European Pat. Off... 144021 6/1985 European Pat. Off. . 526/125 X \n - - - - 526/125 X 4,843,132 \n Jun. 27, 1989 11 Patent Number: \n (45) Date of Patent: \n 0171200 2/1986 European Pat. Off. . 0206172 12/1986 European Pat. Off. . 2049709 12/1980 United Kingdom . 2101609 1/1983 United Kingdom . 2101611 1/1983 United Kingdom . 2143834 2/1985 United Kingdom . \n Primary Examiner-Patrick P. Garvin Attorney, Agent, or Firm-Keil & Weinkauf \n 57 ABSTRACT \n Polymers of propene are prepared using a Ziegler-Natta catalyst system consisting of (1) a titanium component \n which contains titanium, magnesium, chlorine and a benzenecarboxylic acid derivative on a carrier, (2) an aluminum component and (3) a silane component. The process employs a titanium component (1) which is \n obtained by a method in which (1.1) first a solid-phase intermediate is prepared from () magnesium chloride, \n (II) an alkanol, (III) a carrier which in turn consists of a finely divided inorganic oxide carrier material which has been pretreated with an alkylchlorosilane, (IV) \n titanium tetrachloride and (V) a phthalic acid deriva tive, in such a way that (1.1.1) first (I) is reacted with \n (II), (1.1.2) then the carrier (III) is introduced into the substance resulting from (1.1.1), (1.1.3) thereafter the solid-phase substance resulting from (1.1.2) is reacted with (IV) in a liquid hydrocarbon, with the proviso that \n (V) is also introduced in (1.1.1) or (1.1.2) or (1.1.3), the (1.2) the solid-phase substance resulting from (1.1) is \n extracted with titanium tetrachloride, and finally the solid-phase substance resulting from (1.2) is extracted with a liquid hydrocarbon. \n 1 Claim, No Drawings   ",
         "US4843132",
         "/home/anatoly_kayda/Desktop/mipt/data/novolen/US/US4843132.pdf",
         "False"
        ],
        [
         "35",
         "US4843132",
         "/home/anatoly_kayda/Desktop/mipt/data/novolen/US/US4843132.pdf",
         "2",
         "NO",
         "100.0",
         "YES",
         "0.0",
         "4,843,132 1. \n PREPARATION OF HOMO- AND COPOLYMERS \n OF PROPENE USINGAZEGLER-NATA \n CATALYST SYSTEM \n The present invention relates to a process for the preparation of homopolymers of propene and copoly \n mers of propene with minor amounts of other C2-C12-a. monoolefins, in particular C2-C6-a-monoolefins, by polymerization, in particular dry-phase polymerization, \n of the monomer or monomers at from 20' to 160 C, in particular from 50 to 120° C., and under from 1 to 100 in particular from 20 to 70, bar using a Ziegler-Natta catalyst system consisting of \n (1) a titanium component which contains titanium, magnesium, chlorine and a benzenecarboxylic acid de \n rivative on a carrier, (2) an aluminum component of the formula \n AR3, \n where R is alkyl of not more than 8, in particular not \n more than 4, carbon atoms, and (3) a silane component of the formula \n RSi(OR)4-, \n where R1 is an aryl, alkylaryl or alkyl radical of not more than 16, preferably not more than 10, carbon atoms, in particular phenyl, tolyl or ethylphenyl, R2 is alkyl of not more than 15, preferably not more than 8, in particular not more than 4, carbon atoms and n is from 0 to 3, preferably from 0 to 2, in particular 1 to 2, with the provisos that the atomic ratio of titanium from the titanium component (1) to aluminum from the alumi num component (2) is from 1:10 to 1:800, in particular \n from 1:20 to 1:200, and the molar ratio of aluminum component (2) to silane component (3) is from 1:0.03 to 1:08, in particular from 1:0.05 to 1:0.5. Polymerization processes of this type are known; their special feature compared with other similar pro cesses is the special embodiment of the catalyst system, and the processes disclosed in European Laid-Open application Nos. 17,895 and 144,021, European Pat. No. \n 45,977, Australian Pat. No. 543,049 and British Pat. No. 2,143,834 may be mentioned as prototypes for the pres \n ent case. \n The special embodiments of the catalyst systems are produced in order to achieve certain aims, such as the following: \n The catalyst system should be easy to prepare and give an increased yield of polymer having a very large \n isotactic fraction. In addition, particularly because of the thermodynamics of the procedure, easy molecular weight regulation, in particular with hydrogen, is of great importance. \n The catalyst system should moreover produce poly mers having special morphological properties, for ex \n ample uniform particle size and/or smaller fractions of very fine particles and/or a high bulk density. In addi tion to these parameters which are important for con trolling the polymerization systems, working up the \n polymers and/or processing the latter, a low halogen content in the polymer is of importance, particularly with regard to corrosion problems; this can be achieved by increasing the polymer yield and/or by means of a catalyst system which contains very little halogen. \n Some of these aims can be achieved by the prior art only by means of very expensive processes, as is the 2 \n case, for example, with the process according to U.S. \n Pat. No. 4,399,054, or when other aims are neglected. For example, British Pat. No. 2,049,709 discloses a process in which a magnesium halide, a titanium halide and an electron donor are applied to a metal oxide car rier. However, the polymer obtained has a compara \n 10 \n 15 \n 20 \n 25 \n 30 \n 35 \n 45 \n 50 \n 55 \n 60 \n 65 tively low isotacticity. \n European Laid-Open application Nos. 14,523 and \n 171,200 and British Pat. Nos. 2,101,609 and 2,101,611 describe catalyst systems whose titanium component is \n obtained by treating a solid, inorganic oxide with an organic magnesium compound, a Lewis base and tita \n nium tetrachloride, it being necessary in addition to use a halogenating agent which is not titanium tetrachloride and/or an organic compound of the metals boron, alu \n minum, silicon or tin or a boron trihalide or a halogen containing alcohol. Despite an expensive and tedious preparation procedure, the productivity of the corre sponding catalyst system is unsatisfactory. \n U.S. Pat. No. 4,467,044 discloses a catalyst system which contains, as a titanium component, a silica car rier, a magnesium halide and/or manganese halide, a \n titanium halide and an electron donor. In order to ob tain catalyst systems having relatively high productiv \n ity, additional treatment with an organometallic com pound of a metal of groups I to III of the periodic table is indispensable here. However, the productivity and stereospecificity of the catalysts prepared in this manner \n are, in absolute terms, low. The known processes are thus unsatisfactory, in par ticular with regard to high isotacticity and good mor phology coupled with good productivity. It is an object of the present invention to provide a titanium component which, compared with the prior art processes, has high productivity and is at the same time capable of giving polymers having high isotacticity and good morphology. \n We have found that this object is achieved by a cata lyst system which contains a titanium component (1) prepared in three stages in a particular manner from (I) magnesium chloride, (II) a certain alkanol, (III) a cer tain carrier comprising finely divided inorganic oxide carrier material which has been pretreated with an al kylchlorosilane, (IV) titanium tetrachloride and (V) a specially selected phthalic acid derivative. The present invention accordingly relates to a pro cess for the preparation of homopolymers of propene and copolymers of propene with minor amounts of other C2-C12-a-monoolefins, in particular C2-C6-a- monoolefins, by polymerization, in particular dry-phase polymerization, of the monomer or monomers at from 20 to 160 C., in particular from 50 to 120° C., under from 1 to 100, in particular from 20 to 70, bar using a Ziegler-Natta catalyst consisting of \n (1) a titanium component which contains titanium, magnesium, chlorine and a benzenecarboxylic acid de \n rivative on a carrier, (2) an aluminum component of the formula \n AR3, \n where R is alkyl of not more than 8, in particular not \n more than 4, carbon atoms, \n and \n (3) a silane component of the formula ",
         "US4843132",
         "/home/anatoly_kayda/Desktop/mipt/data/novolen/US/US4843132.pdf",
         "False"
        ],
        [
         "36",
         "US4843132",
         "/home/anatoly_kayda/Desktop/mipt/data/novolen/US/US4843132.pdf",
         "3",
         "YES",
         "100.0",
         "NO",
         "0.0",
         "4,843,132 3 \n where R is an aryl, alkylaryl or alkyl radical of not more than 16, preferably not more than 10, carbon atoms, in particular phenyl, tolyl or ethylphenyl, R2 is \n alkyl of not more than 15, preferably not more than 8, in \n particular not more than 4, carbon atoms and n is from 0 to 3, preferably from 0 to 2, in particular 1 or 2, \n with the provisos that the atomic ratio of titanium from the titanium component (1) to aluminum from the alu minum component (2) is from 1:10 to 1:800, in particular \n from 1:20 to 1:200, and the molar ratio of aluminum component (2) to silane component (3) is from 1:0.03 to 1:0.8, in particular from 1:0.05 to 1:0.5. In the novel process, the titanium component (1) used \n is one which is obtained by a method in which first (1.1) in a first stage, a solid-phase intermediate is prepared from (I) finely divided magnesium chloride, (II) a C1-C8 alkanol, preferably a C2-C6-alkanol, in particular a \n C2-C4-alkanol, (III) a carrier consisting of a finely divided, porous, inorganic oxide carrier material which has a particle diameter of from 1 to 1,000 um, in particular from 10 to 400 um, a pore volume of from 0.3 to 3, in particular from 1 to 2.5, cm/g and a surface area of from 100 to 1,000, in particular from 200 to 400, m2/g, is of the formula SiO2.a Al2O3, where a is from 0 to 2, in particu lar from 0 to 0.5, and has been pretreated with an alkyl chlorosilane of the formula R3mSiCl4-m, where R3 is C1-C10-alkyl, preferably C1-C4-alkyl and m is from 1 to \n 3, preferably 2 or 3, in particular 3, in such a way that \n either (A) the carrier material and the alkylchlorosilane are combined once or several times, in particular twice, in a liquid inert hydrocarbon, in particular an alkane, with constant thorough mixing at from 20' to 160° C., in particular from 60 to 120° C., a total of from 1 to 50, in particular from 3 to 20, molar parts of the alkylchlorosi lane being used per 10 molar parts of the carrier mate rial, and a total of from 20 to 200, in particular from 40 to 120, molar parts of the hydrocarbon being used per 10 molar parts of the alkylchlorosilane, and the com \n bined substances are kept at from 20' to 160 C., in particular from 60 to 120 C., for a total of from 0.1 to 5, in particular from 0.4 to 2, hours, and the resulting solid is then isolated as the carrier (III), or (B) the carrier material and the alkylchlorosilane are combined with constant thorough mixing at from 20 to 140 C., in particular from 40 to 100 C., from 5 to 50, in particular from 10 to 40, molar parts of the alkyl chlorosilane being used per 10 molar parts of the carrier material, and the combined substances are kept at a temperature in the stated range for from 0.1 to 5, in particular from 0.4 to 2, hours, and the resulting solid is then isolated as the carrier (III), (IV) titanium tetrachloride and (V) a phthalic acid derivative of the formula \n CO-X \n CO-Y \n where X and Y together form oxygen or X and Y are each chlorine or C1-C10-alkoxy, preferably C2-C8 alkoxy, in particular chlorine, in such a way that first either (a) 5 \n 10 \n 15 \n 20 \n 25 \n 30 \n 35 \n 45 \n SO \n 55 \n 60 \n 65 4. \n (1.1.1.a) in a first substage, the magnesium chloride (I) \n and the alkanol (II) are combined in a liquid inert hy drocarbon, in particular an alkane, with constant thor ough mixing at from 0 to 140 C., in particular from 40 to 120° C., from 20 to 1,000, in particular from 50 to 400, parts by weight of the hydrocarbon being used per 10 parts by weight of the magnesium chloride (I) and from \n 10 to 80, in particular from 20 to 60, molar parts of the alkanol (II) being used per 10 molar parts of the magne \n sium chloride (I), and the combined substances are kept at from 20' to 140 C., in particular from 40 to 120° C., for from 0.1 to 6, in particular from 0.2 to 2, hours, after \n which \n (1.1.2.a) in a second substage, the carrier (III) is intro duced into the reaction mixture resulting from the first Substage, with constant thorough mixing at from 0 to 140 C., in particular from 40 to 120° C., from 20 to 100, in particular from 30 to 60, parts by weight of the carrier (III) being used per 10 parts by weight of the magnesium chloride (I), \n or (b) (1.1.1.b) in a first substage, the magnesium chloride \n (I) and the alkanol (II) are combined with constant thorough mixing at from 0 to 140 C., in particular from 40 to 120° C., from 100 to 1,000, in particular from 150 to 500 molar parts of the alkanol (II) being used per 10 molar parts of the magnesium chloride (I), and the combined substances are kept at from 20' to 140°C., in particular from 40 to 120° C., for from 0.1 to 6, in particular from 0.2 to 2, hours, after which (1.1.2.b) in a second substage, the carrier (III) is intro duced into the reaction mixture resulting from the first substage with constant thorough mixing at from 0 to 140 C., in particular from 40 to 120° C., from 20 to 100, in particular from 30 to 60, parts by weight of the carrier (III) being used per 10 parts by weight of the magnesium chloride (I), and the entire mixture is evapo rated to dryness with recovery of a solid-phase reaction product, and thereafter (1.1.3) in a third substage, the solid-phase reaction product obtained in the second substage and the tita nium tetrachloride (IV) are combined in a liquid inert hydrocarbon, in particular an alkane, with constant thorough mixing at from -20 to 40 C., in particular from 10 to 30' C., from 20 to 300, preferably from 30 to 200, in particular from 50 to 150, molar parts of the titanium tetrachloride (IV) being used per 100 molar parts of the alcohol (II), and from 10 to 100, preferably from 10 to 80, in particular from 15 to 60, parts by weight of the hydrocarbon being used per 10 parts by \n weight of the carrier (III), and the combined substances are kept at from 10 to 150 C., in particular from 30 to 120 C., for from 0.1 to 4, in particular from 0.2 to 2.5, hours, and the resulting solid-phase intermediate is iso lated with removal of the liquid phase, with the proviso that the phthalic acid derivative (V) is introduced in the course of one or more of the substages (1.1.1) to (1.1.3), from 1 to 100, preferably from 5 to 60, in particular from 10 to 40, molar parts of the phthalic acid derivative being used per 100 molar parts of the magnesium chlo ride (I), then (1.2) in a second stage, the solid-phase intermediate obtained from the first stage is subjected to a single stage or multi-stage or continuous extraction with tita nium tetrachloride at from 100 to 150° C., in particular from 115 to 135° C., for from 0.2 to 5, in particular from 0.4 to 3, hours, a total of from 10 to 1,000, prefera bly from 20 to 800, in particular from 40 to 300, parts by ",
         "US4843132",
         "/home/anatoly_kayda/Desktop/mipt/data/novolen/US/US4843132.pdf",
         "False"
        ],
        [
         "37",
         "US4843132",
         "/home/anatoly_kayda/Desktop/mipt/data/novolen/US/US4843132.pdf",
         "4",
         "YES",
         "100.0",
         "NO",
         "0.0",
         "4,843,132 5 \n weight of the titanium tetrachloride being used per 10 parts by weight of the solid-phase intermediate obtained from the first stage, and finally (1.3) in a third stage, the solid-phase intermediate obtained in the second stage is extracted with a liquid inert hydrocarbon, in particular an alkane, until the solid contains from 0.01 to 30, preferably from 0.03 to 20, in particular from 0.05 to 10, 7% by weight of free titanium tetrachloride, and the titanium component (1) \n is obtained in this manner. Regarding the novel process, the following may be stated specifically: Provided that the defining feature is taken into ac count, the polymerization process as such can be car ried out in virtually all relevant conventional techno logical embodiments, for example as a batchwise, cyclic or, in particular, continuous process, either as a suspen sion polymerization processor, in particular, a dryphase polymerization process. The stated technological em bodiments, i.e. the technological variants of the poly merization of a-monoolefins by the Ziegler-Natta method, are well known from the literature and in prac tice and therefore require no further description. For the sake of completeness, it may be stated that, in the novel process, it is also possible to regulate the molecular weights of the polymers by the relevant con ventional measures, for example using regulators such as, in particular, hydrogen. Regarding the composition of the novel catalysts, the following may be stated specifically: (1) The liquid inert hydrocarbon to be used for the preparation of the titanium component may be a hydro \n carbon of the type usually combined with titanium com ponents for catalyst systems of the Ziegler-Natta type \n without causing damage to the catalyst system or its titanium component. Examples of suitable hydrocar bons are pentanes, hexanes, heptanes, gasolines and cyclohexane. \n The finely divided magnesium chloride (I) likewise to be used may be a relevant conventional one. It should be essentially anhydrous, i.e. its water content should not exceed 1% by weight of the total amount of magne \n sium chloride. \n The alkanois (II) to be used for the preparation of the titanium component (1) may be conventional ones; they should advantageously have relatively high purities. Examples of suitable alkanols are ethanol, n-propyl alcohol, isopropyl alcohol, n-butyl alcohol, isobutyl alcohol and tert-butyl alcohol, n-butanol being particu larly suitable. The carrier (III) furthermore to be used generally contains, as a base material, an aluminosilicate or, in particular, silica; it is important that it has the required properties; it has been found that the relevant conven tional commercial carrier materials which meet the stated specification are suitable. Alkylchlorosilanes suit able for the preparation of the carrier are monoalkyltri chlorosilanes, dialkyldichlorosilanes and trialkyl mono chlorosilanes, trialkylmonochlorosilanes being particu larly suitable and trimethylchlorosilane being preferred. \n The titanium tetrachloride (IV) likewise to be used for the preparation of the titanium component (1) should be one which is conventionally used in Ziegler Natta catalyst systems. \n Furthermore, the phthalic acid derivative (V) defined above can be a commercial one; it should advanta geously be very pure. It has been found that phthaloyl dichloride is very particularly suitable for the purpose 10 \n 15 \n 20 \n 25 \n 30 \n 35 \n 45 \n 50 \n 55 \n 65 6 \n according to the invention; however, phthalic anhy dride and the dialkyl phthalates, in particular di-n-butyl \n phthalate, are also suitable. The alkane to be used for the preparation of the tita nium component (1) in stage (1.3) may likewise be a \n conventional one; it should advantageously have a rela tively high purity. \n The preparation of the titanium component (1) is \n simple and can be carried out by the skilled worker without explanations. Regarding stages (1.1), (1.2) and (1.3), it is merely necessary to state that the isolation of the particular resulting solid is advantageously carried \n out by filtration under suction, which in stage (1.1) should advantageously be followed by washing with a liquid, inert hydrocarbon until the latter no longer ab \n sorbs any titanium tetrachloride. It has been found that it may also be advantageous if the solid-phase reaction \n product obtained in the second substance (1.1.2.a) is isolated before being used in the third substage (1.1.3), for example by evaporation to dryness. \n (2) Suitable aluminum components (2) of the stated \n formula are the relevant conventional ones of this for \n mula; they are sufficiently well known from the litera \n ture and in practice to require no further discussion. An outstanding member is, for example, triethylaluminum. (3) The silane component (3) which completes the catalyst system is, in particular, a trialkoxy(alkyl)aryl \n or dialkoxydi(alkyl)arylsilane of the stated formula. Outstanding members are triethoxytolyl-, triethoxy(e- thylphenyl)-, dimethoxyditolyl- and dimethoxydi(ethyl phenyl)silane; other examples are trimethoxytolyl-, trimethoxy(ethylpheny)- and trimethoxyphenylsilane, triethoxyphenylsilane, dimethoxydiphenylsilane, and diethoxyditolyl-, diethoxydi(ethylphenyl)- and diethox ydiphenylsilane. \n The novel process permits homo- and copolymers, for example of the binary or ternary type, including \n block copolymers, of propene with minor amounts of \n other C2-C12-a-monoolefins to be prepared in an ad vantageous manner, particularly suitable a-monoolefins as comonomers be polymerized being ethene, but-1-ene, 4-methylpent-1-ene and hex-1-ene; other suitable exam \n ples are n-oct-1-ene, n-dec-1-ene. and n-dodec-1-ene. \n EXAMPLE 1. \n Preparation of the titanium component (1) \n The process is carried out as follows: first (1.1) in a first stage, a solid-phase intermediate is prepared from (I) finely divided magnesium chloride, \n (II) n-butanol, (III) a carrier consisting of a finely divided, porous, inorganic oxide carrier material which has a particle \n diameter of from 20 to 45 um, a pore volume of 1.75 cm/g and a surface area of 320 m2/g, is of the formula SiO2 and has been pretreated with trimethylchlorosi \n lane in such a way that the carrier material and the alkylchlorosilane are combined twice in n-heptane with constant through mixing by means of stirring at 65 C., \n in each case 4.2 molar parts, i.e. a total of 8.4 molar parts, of the alkylchlorosilane being used per 10 molar \n parts of the carrier material, and in each case 50 molar parts, i.e. a total of 100 molar parts, of the hydrocarbon being used per 10 molar parts of the alkylchlorosilane, \n and the combined substances are kept in each case for 0.5 hour, i.e. for a total of 1 hour, at 85 C., and the ",
         "US4843132",
         "/home/anatoly_kayda/Desktop/mipt/data/novolen/US/US4843132.pdf",
         "True"
        ],
        [
         "38",
         "US4843132",
         "/home/anatoly_kayda/Desktop/mipt/data/novolen/US/US4843132.pdf",
         "5",
         "YES",
         "100.0",
         " YES",
         "0.0",
         "4,843,132 7 \n resulting solid is then isolated by filtration and washed with n-heptane to give the carrier (III), \n (IV) titanium tetrachloride and (V) phthaloyl dichloride, in such a way that first (1.1.1.a) in a first substage, the magnesium chloride (I) and the n-butanol (II) are combined in n-heptane with constant thorough mixing by means of stirring at from 40' to 50° C., 90 parts by weight of the n-heptane being used per 10 parts by weight of the magnesium chloride (I) and 60 molar parts of the n-butanol (II) being used per 10 molar parts of the magnesium chloride (I), and the combined substances are kept at the boiling point of the n-heptane (about 98 C.) for 0.5 hour, after which (1.1.2.a) in a second substage, the carrier (III) is intro duced into the reaction mixture resulting from the first substage with constant thorough mixing by means of stirring at from 65 to 75° C., 40 parts by weight of the carrier (III) being used per 10 parts by weight of the magnesium chloride (I), and the entire mixture is left for 10 minutes at the stated temperature and then evapo rated to dryness under reduced pressure, thereafter (1.1.3) in a third substage, the solid-phase reaction product obtained in the second substage and the tita nium chloride (IV) are combined in n-heptane with constant thorough mixing by means of stirring at 25 C., 120 molar parts of the titanium tetrachloride (IV) being used per 100 molar parts of the n-butanol (II) and 20 parts by weight of the n-heptane being used per 10 parts \n by weight of the carrier (III), after which the phthaloyl dichloride (V) is introduced, 27 molar parts of the phthaloyl dichloride (V) being used per 100 molar parts of the magnesium chloride (I), the combined substances are kept at 100° C. for 0.25 hour while stirring, and the resulting solid-phase intermediate is isolated by filtra tion under suction with removal of the liquid phase, \n then \n (1.2) in a second stage, the solid-phase intermediate obtained in the first stage is subjected to a two-phase \n extraction with titanium tetrachloride at 125° C. for 0.5 hour in each stage, in each case 70 parts by weight, i.e. a total of 140 parts by weight, of the titanium tetrachlo ride being used per 10 parts by weight of the solid-phase \n intermediate obtained from the first stage, after which the resulting solid-phase intermediate is isolated by means of filtration, and finally (1.3) in a third stage, the solid-phase intermediate obtained in the second stage is extracted with n-heptane until the solid contains 3.8% by weight of free titanium tetrachloride, and the titanium component (1) is ob tained in this manner. \n Polymerization \n A steel autoclave having a volume of 10 l and equipped with a stirrer is charged with 50 g of polypro pene powder, 20 millimoles of triethylaluminum (in the form of a one molar solution in n-heptane) as the alumi num component (2), 2 millimoles of triethoxy-p-tolylsi lane (in the form of a one molar solution in n-heptane) as the silane component (3), 5 liters (S.T.P.) of hydrogen and finally 0.18 millimole, calculated as titanium, of the titanium component (1) described above, at 30° C. The reactor temperature is brought to 70° C. in the course of 10 minutes and the reactor pressure is brought to 28 bar in this time by forcing in gaseous propene. The actual polymerization is carried out with con \n stant stirring at 70° C. and under 28 bar for 2 hours, monomer consumed being replaced continuously with fresh monomer. 5 \n 10 \n 15 \n 20 \n 25 \n 30 \n 35 \n 45 \n 50 \n 55 \n 60 \n 65 8 \n The productivity of the catalyst component (1), the \n heptane-soluble fraction (as a measure of the isotac ticity) and the particle size distribution of the resulting \n polymer are summarized in the Table below. \n EXAMPLE 2 \n Preparation of the titanium component (1) \n The process is carried out as follows: first (1.1) in a first stage, a solid-phase intermediate is prepared from \n (I) finely divided magnesium chloride, \n (II) n-butanol, (III) a carrier consisting of a finely divided, porous, inorganic oxide carrier material which has a particle \n diameter of from 20 to 45 um, a pore volume of 1.75 cm/g and a surface area of 320 m2/g, is of the formula SiO2 and has been pretreated with trimethylchlorosi \n lane in such a way that the carrier material and the alkylchlorosilane are combined with constant thorough mixing by means of stirring at 57 C., 24 molar parts of the alkylchlorosilane being used per 10 molar parts of \n the carrier material, and the combined substances are kept at the stated temperature for 1 hour, after which \n the resulting solid is isolated by filtration and washed with n-heptane to give the carrier (III), \n (IV) titanium tetrachloride and (V) phthaloyl dichloride, in such a way that first (1.1.1.b) in a first substage, the magnesium chloride \n (I) and the n-butanol (II) are combined with constant thorough mixing by means of stirring at from 25 to 30 \n C., 200 molar parts of the n-butanol (II) being used per 10 molar parts of the magnesium chloride (I), and the \n combined substances are kept at 118° C. for 0.5 hour, after which \n (1.1.2.b) in a second substage, the phthaloyl dichlo \n ride \n (V) is first introduced into the reaction mixture result ing from the first substage with constant thorough mix ing by means of stirring at from 75 to 80 C., 30 molar parts of the phthaloyl dichloride (V) being used per 100 molar parts of the magnesium chloride (I), and then the carrier (III) is introduced, 40 parts by weight of the carrier (III) being used per 10 parts by weight of the \n magnesium chloride (I), and the entire mixture is left for 10 minutes at the stated temperature and then evapo rated to dryness under reduced pressure with recovery of a solid-phase reaction product, thereafter (1.1.3) in a third substage, the solid-phase intermedi \n ate obtained in the second substage and the titanium tetrachloride (IV) are combined in n-heptane with con stant thorough mixing by means of stirring at 25 C., 140 \n molar parts of the titanium tetrachloride (IV) being used per 100 molar parts of the n-butanol (II), and 50 parts by weight of the n-heptane being used per 10 parts by weight of the carrier (III), the combined substances are kept at 100° C. for 0.5 hour while stirring, and the resulting solid-phase intermediate is isolated by filtra tion under suction with removal of the liquid phase, then \n (1.2) in a second stage, the solid-phase intermediate obtained from the first stage is subjected to a two-stage \n extraction with titanium tetrachloride at 125 C. for 0.5 hour in each stage, in each case 70 parts by weight, i.e. a total of 140 parts by weight, of the titanium tetrachlo ride being used per 10 parts by weight of the solid-phase intermediate obtained in the first stage, after which the ",
         "US4843132",
         "/home/anatoly_kayda/Desktop/mipt/data/novolen/US/US4843132.pdf",
         "True"
        ],
        [
         "39",
         "US4843132",
         "/home/anatoly_kayda/Desktop/mipt/data/novolen/US/US4843132.pdf",
         "6",
         "YES",
         "100.0",
         " YES",
         "0.0",
         "4,843,132 \n resulting solid-phase intermediate is isolated by filtra tion, and finally (1.3) in a third stage, the solid-phase intermediate obtained in the second stage is extracted with n-heptane 10 \n that the atomic ratio of titanium from the titanium com \n ponent (1) to aluminum from the aluminum component \n (2) is from 1:10 to 1:800, and the molar ratio of alumi num component (2) to silane component (3) is from \n until the solid contains 4.2% by weight of free titanium 5 1:0.03 to 1:0.8, wherein the titanium component tetrachloride, and the titanium component (1) is ob \n tained in this manner. Polymerization This is carried out as described in Example 1; the polymerization result obtained here is likewise shown in \n the Table below. \n COMPARATIVE EXPERIMENT \n Preparation of the titanium component The procedure described in Example 1 of U.S. Pat. No. 4,467,044 is followed using, as a carrier, the carrier material defined in Example 1 of the present invention. The titanium component obtained contains 4.3% by weight of titanium. \n Polymerization \n A steel autoclave having a volume of 10 l and equipped with a stirrer is charged with 50 g of polypro pene powder, 24 millinoles of triethylaluminum (in the \n form of a one molar solution in n-heptane) as the alumi num component, 1.08 g of methyl p-toluate, 60 mg of the titanium component and 5 liters (S.T.P.) of hydro gen at 30° C. The further procedure is carried out as described in Example 1 of the present invention. The polymerization result obtained is once again \n shown in the Table below. \n As shown in the Table, the catalyst component from the Comparative Experiment has a substantially lower productivity and stereospecificity than the catalyst components from the Examples according to the inven tion. Furthermore, the particle size distribution has shifted to a range of undesirably large particles. 10 \n 15 \n 20 \n 25 \n 30 \n 35 (1) used is one which is obtained by a method in \n which first \n (1.1) in a first stage, a solid-phase intermediate is prepared from (I) finely divided magnesium chloride, \n (II) a C1-C3-alkanol, (III) a carrier consisting of a finely divided, porous, inorganic oxide carrier material which has a parti cle diameter of from 1 to 1,000 um, a pore volume of from 0.3 to 3 cm/g and a surface area of from 100 to 1,000 m2/g, is of the formula SiO2.a Al2O3, where a is from 0 to 2, and has been pretreated with an alkylchlorosilane of the formula RSiCl4-m, where R is C1-C10-alkyl and m is from 1 to 3, in such a way that \n either (A) the carrier material and the alkylchlorosilane are \n combined once or several times, in a liquid inert hydrocarbon with constant thorough mixing at \n from 20 to 160 C., a total of from 1 to 50 molar parts of the alkylchlorosilane being used per 10 \n molar parts of the carrier material, and a total of from 20 to 200 molar parts of the hydrocarbon being used per 10 molar parts of the alkylchlorosi \n lane, and the combined substances are kept at from 20 to 160 C., for a total of from 0.1 to 5 hours, and the resulting solid is then isolated as the carrier \n (III), or (B) the carrier material and the alkylchlorosilane are combined with constant thorough mixing at from 20 to 140 C., from 5 to 50 molar parts of the \n Heptane-soluble \n Productivity fractions Particle size distribution (mm) \n (g of PP/g of cat.) (% by weight) , (0.25 0.25-0.5 0.5-1 1-2 >2 \n Example 1 6,810 2.8 5.4 16. 69.5 8.7 0.3 \n Example 2 7,300 2.3 1.7 6.3 73.2 18.4 0.4 \n Comparative 3,600 22.4 2.2 4.7 18.2 66.4 8.5 Experiment \n We claim: 1. A process for the preparation of homopolymers of propene and copolymers of propene with minor amounts of other C2-C12-a-monoolefins by polymeriza tion of the monomer or monomers at from 20' to 160 C. and under from 1 to 100 bar using a Ziegler-Natta catalyst system consisting of \n (1) a titanium component which contains titanium, magnesium, chlorine and a benzenecarboxylic acid \n derivative on a carrier, (2) an aluminum component of the formula \n AllR3, \n where R is alkyl of not more than 8 carbon atoms, and (3) a silane component of the formula \n RSi(OR)4-, \n where R is an aryl, alkylaryl or alkyl radical of not more than 16 carbon atoms, R2 is alkyl of not more than 15 carbon atoms and n is from 0 to 3, with the provisos 50 \n 55 \n 65 alkylchlorosilane being used per 10 molar parts of \n the carrier material, and the combined substances are kept at a temperature in the stated range for from 0.1 to 5 hours, and the resulting solid is then isolated as the carrier (III), (IV) titanium tetrachloride and (V) a phthalic acid derivative of the formula \n CO-X \n CO-Y \n CO-X \n CO-Y ",
         "US4843132",
         "/home/anatoly_kayda/Desktop/mipt/data/novolen/US/US4843132.pdf",
         "True"
        ],
        [
         "40",
         "US4843132",
         "/home/anatoly_kayda/Desktop/mipt/data/novolen/US/US4843132.pdf",
         "7",
         "YES",
         "100.0",
         "NO",
         "0.0",
         "4,843,132 11 \n where X and Y together form oxygen or X and Y are each chlorine or C1-C10-alkoxy, in such a way \n that first \n either (a) (1.1.1.a) in a first substage, the magnesium chloride (I) \n and the alkanol (II) are combined in a liquid inert hydrocarbon with constant thorough mixing at \n from 0 to 140°C., from 20 to 1,000 parts by weight of the hydrocarbon being used per 10 parts by \n weight of the magnesium chloride (I) and from 10 \n to 80 molar parts of the alkanol (II) being used per 10 molar parts of the magnesium chloride (I), and \n the combined substances are kept at from 20 to \n 140 C., for from 0.1 to 6 hours, after which \n (1.1.2.a) in a second substage, the carrier (III) is intro \n duced into the reaction mixture resulting from the first substage, with constant thorough mixing at \n from 0 to 140 C., from 20 to 100 parts by weight \n of the carrier (III) being used per 10 parts by weight of the magnesium chloride (I), \n or (b) (1.1.1.b) in a first substage, the magnesium chloride \n (I) and the alkanol (II) are combined with constant thorough mixing at from 0 to 140 C., from 100 to \n 1,000 molar parts of the alkanol (II) being used per \n 10 molar parts of the magnesium chloride (I), and \n the combined substances are kept at from 20 to \n 140 C. for from 0.1 to 6 hours, after which \n (1.1.2.b) in a second substage, the carrier (III) is intro \n duced into the reaction mixture resulting from the first substage with constant thorough mixing at \n from 0 to 140 C., from 20 to 100 parts by weight of the carrier (III) being used per 10 parts by weight of the magnesium chloride (I), and the en 5 \n O \n 15 \n 20 \n 25 \n 30 \n 35 \n 45 \n 50 \n 55 \n 60 \n 65 12 \n tire mixture is evaporated to dryness with recovery of a solid-phase reaction product, \n and thereafter \n (1.1.3) in a third substage, the solid-phase reaction product obtained in the second substage and the \n titanium tetrachloride (IV) are combined in a liquid inert hydrocarbon with constant thorough mixing \n at from -20 to 40° C., from 20 to 300 molar parts \n of the titanium tetrachloride \n (IV) being used per 100 molar parts of the alcohol (II), and from 10 to 100 parts by weight of the hydrocarbon being used per 10 parts by weight of \n the carrier (III), and the combined substances are kept at from 10 to 150 C., for from 0.1 to 4 hours, and the resulting solid-phase intermediate is iso lated with removal of the liquid phase, with the proviso that the phthalic acid derivative (V) is \n introduced in the course of one or more of the \n substages (1.1.1) to (1.1.3), from 1 to 100 molar parts of the phthalic acid derivative being used per 100 molar parts of the magnesium chloride (I), then (1.2) in a second stage, the solid-phase intermediate obtained from the first stage is subjected to a sin glestage or multi-stage or continuous extraction \n with titanium tetrachloride at from 100 to 150 C., \n for from 0.2 to 5 hours, a total of from 10 to 1,000 parts by weight of the titanium tetrachloride being used per 10 parts by weight of the solid-phase inter \n mediate obtained from the first stage, and finally (1.3) in a third stage, the solid-phase intermediate obtained in the second stage is extracted with a liquid inert hydrocarbon until the solid contains \n from 0.01 to 30% by weight of free titanium tetra chloride, and the titanium component (1) is ob \n tained in this manner. \n : k s 2 ",
         "US4843132",
         "/home/anatoly_kayda/Desktop/mipt/data/novolen/US/US4843132.pdf",
         "False"
        ],
        [
         "41",
         "US4148754",
         "/home/anatoly_kayda/Desktop/mipt/data/hoehst/US/US4148754.pdf",
         "1",
         "NO",
         "100.0",
         " NO",
         "0.0",
         "United States Patent (19) \n Strobel et al. \n (54) PROCESS FOR THE PREPARATION OFA CATALYST AND CATALYST USED IN OLEFN POLYMERZATION \n 75) Inventors: Wolfgang Strobel, Hofheim; Rainer Franke, Frankfurt am Main, both of Fed. Rep. of Germany \n Hoechst Aktiengesellschaft, \n Frankfurt am Main, Fed. Rep. of Germany \n (21) Appl. No.: 744,310 \n 22 Filed: Nov. 23, 1976 \n (30) Foreign Application Priority Data \n Nov. 27, 1976 (DE Fed. Rep. of Germany ....... 2553179 \n 51) Int. Cl.’............................ C08F 4/02; C08F 4/64 52 U.S. C. ................................ 252/429 C; 252/428; 252/430; 526/129; 526/151; 526/156 \n 58 Field of Search ................... 252/429 C, 428, 430, \n 252/441 73) Assignee: 11 4,148,754 \n 45 Apr. 10, 1979 \n (56) References Cited \n U.S. PATENT DOCUMENTS \n 3,202,645 8/1965 Yancey ................................. 252/.441 \n 3,787,384 1/1974 Stevens ............................ 252/429 C \n Primary Examiner-Winston A. Douglas Assistant Examiner-P. E. Konopka Attorney, Agent, or Firm-Curtis, Morris & Safford \n 57 ABSTRACT \n When reacting the reaction product of silicon dioxide and/or a metal oxide and a Grignard compound with a soluble titanium compound, there is obtained a catalyst for the polymerization of 1-olefins, which gives a very high yield and allows a good control of the molecular weight by means of hydrogen without making neces sary a separation of the excess of metallo-organic com pounds and/or the excess of titanium compounds from the catalyst carrier. \n 30 Claims, No Drawings ",
         "US4148754",
         "/home/anatoly_kayda/Desktop/mipt/data/hoehst/US/US4148754.pdf",
         "False"
        ],
        [
         "42",
         "US4148754",
         "/home/anatoly_kayda/Desktop/mipt/data/hoehst/US/US4148754.pdf",
         "2",
         "NO",
         "99.98",
         "YES",
         "0.02",
         "4,148,754 1. \n PROCESS FOR THE PREPARATION OFA \n CATALYST AND CATALYST USED IN OLEFN \n POLYMERZATION \n The present invention relates to the preparation of a catalyst for the polymerization of ethylene and higher \n 1-olefins. \n A process for the preparation of a catalyst for use in the polymerization of olefins has been described, in which organic alkali metal compounds are allowed to act on the hydroxyl groups of finely dispersed metal \n oxides, for example silicon dioxide, and the reaction product is reacted subsequently with a metal halide selected from group VIIa of the Periodic system, espe cially manganese hexachloride (cf. U.S. Pat. No. 3,205,177). The solid obtained gives a catalyst suitable for use in the olefin polymerization when combined with a metallo-organic compound the metal of which is selected from one of groups I to III of the periodic system. These catalysts, however, have a low activity and produce only 1.4 kg of polyethylene per gram of manganese in 3 hours at a polymerization temperature \n of 95 C. and under an ethylene pressure of 98 atmo spheres. \n A further process comprises impregnating a solid \n carrier, for example calcium carbonate, with an alumi num-organic compound and treating it subsequently \n with an excess of titanium tetrachloride, whereby re \n duced titanium trichloride forms a sediment on the \n carrier (cf. British Pat. No. 927,969). Thereafter the excess of titanium tetrachloride must be removed. The \n polymerization activity of the catalysts thus obtained, \n however, is likewise so low that the residual catalyst must be removed from the polyolefin produced. Furthermore, there are known catalysts used in the polymerization of olefins, which are obtained by treat ing an oxide, hydroxide, carbonate or sulfate of magne sium or calcium with an aluminum-organic compound and subsequently reacting the compound obtained with \n a mixture of halides of titanium and vanadium (cf. Ger man Auslegeschrift No. 2,140,326). In the preparation of these catalysts the aluminum-organic compound and \n the transition metal compound of titanium and vana 10 \n 15 \n 20 \n 25 \n 30 \n 35 \n dium are used in an amount such that the separation of 45 an excess of these compounds may be dispensed with, but on the other hand, active catalysts for the polyolefin polymerization cannot be obtained when using as transi tion metal compounds solely titanium compounds. A catalyst, for example, which had been prepared by re acting magnesium oxide with aluminum triethyl and by subsequently treating the product obtained with tita nium tetrachloride yielded per hour only 19.5g of poly ethylene per 1 gram of titanium under an ethylene pres sure of 39 atmospheres. A secondary treatment of the polyethylene obtained was necessary for removing the \n residual catalyst because of the discoloration of poly ethylene. \n Finally a process for the preparation of supported \n catalysts has been disclosed, in which an excess of a metallo-organic magnesium or aluminum compound is \n allowed to act on silicon dioxide, aluminum oxide or a \n mixture consisting of silicon dioxide and aluminum oxide having superficial hydroxyl groups and the reac \n tion product is reacted, after the excess of said organo metallic compound has been removed by washing, with an excess of a halogen compound of a transition metal selected from one of groups IVa, Va or VIa of the 50 \n 55 \n 65 2 \n periodical system, and the excess of the transition metal compound is removed by washing with a solvent. By washing out the metallo-organic compounds of magne \n sium or aluminum and the transition metals there are formed highly diluted solutions, which must be decom posed subsequently. As a consquence thereof, undesired \n waste products are obtained, which are contained in the waste water (cf. German Offenlegungsschrift No. \n 2,109,273). It has now been found that a catalyst suitable for use in the polymerization of 1-olefins can be obtained by starting from the reaction product of silicon dioxide and/or a metal oxide with a Grignard compound as a carrier and a soluble titanium compound, which cata lyst gives high yields and allows a good control of the molecular weight by means of hydrogen without mak ing a separation of the excess of metallo-organic com pounds and/or of titanium compounds from the carrier \n necessary. The present invention consequently provides a pro cess for the preparation of a catalyst by reacting the reaction product of silicon dioxide and/or aluminum oxide and 1. a halogen-containing magnesium-organic compound and 2. a halogen compound of a transition metal (component A) with a metallo-organic compound (component B), which comprises reacting a silicon di oxide and/or aluminum oxide having a hydroxyl con tent of from 0.5 to 50 mmols/g first with a magnesium compound of the formula RMgX, in which R is a hy droxarbon radical having from 1 to 20 carbon atoms and X is chlorine, bromine or iodine, in the presence of a diluent, in an amount of from 0.05 to 1 mol of magne sium compound per mol of hydroxyl groups of the carrier and reacting thereafter the solid reaction prod uct in suspension with a halogen-containing titanium (IV) compound of the formula TiX(OR))4-, in which n is an integer of from 1 to 4, X is chlorine or bromine and R is a hydrocarbon radical having of from 1 to 12 \n carbon atoms, in an amount of from 0.01 to 1 mol of titanium compound per mol of hydroxyl groups of the carrier, to obtain the component A. Suitable carriers are porous oxides or mixed oxides of silicon and/or aluminum having a specific surface of from 50 to 1000 m2/g, preferably from 100 to 800, espe cially from 150 to 650 and a pore volume in the range of from 0.2 to 2 ml/g, preferably of from 0.4 to 2, espe cially of from 0.6 to 1.7 ml/g. The particle size is in the range of from 1 to 500 am, preferably from 10 to 200 um, especially of from 20 to 100 um. The number of hydroxyl groups depends on the specific surface and the temperature of the preliminary treatment and is in the range of from 0.5 to 50 mmols preferably of from 1 to 20 mmols, especially of from 1.5 to 10 mmols, hydroxyl groups per gram of carrier. Several of these oxides are prepared especially for being used as a carrier of sup ported catalysts. They are commercial products. Prior to the reaction of the hydroxyl groups of the carrier with the halogen-containing magnesium-organic compounds the absorbed water must be removed by drying at a temperature of from 120 to 800° C., prefera bly of from 200 to 500 C. The number of hydroxyl groups (mmol of hydroxyl groups per gram of carrier) may be modified by said treatment at high temperature, whereby it is reduced with an increasing temperature. After drying the carrier is kept under an inert gas atmosphere, for example nitrogen or argon, with the \n exclusion of air or water. ",
         "US4148754",
         "/home/anatoly_kayda/Desktop/mipt/data/hoehst/US/US4148754.pdf",
         "False"
        ],
        [
         "43",
         "US4148754",
         "/home/anatoly_kayda/Desktop/mipt/data/hoehst/US/US4148754.pdf",
         "3",
         "NO",
         "77.73",
         "YES",
         "22.27",
         "4,148,754 3 Suitable halogen-containing magnesium-organic compounds are compounds of the formula RMgX, in which R is a hydrocarbon radical having from 1 to 20, preferably from 2 to 10 carbon atoms and X is chlorine, bromine or iodine. These compounds are known as Grignard compounds and may be prepared, for example by reaction of metallic magnesium with a halogenhy drocarbon having from 1 to 20, preferably from 2 to 10 carbon atoms, for example an alkyl, -cycloalkyl-or aryl halide, in the presence of a nucleophilic solvent, for example an ether (cf. Organikum, VEB Deutscher Ver lag der Wissenschaften, Berlin, 1964, page 466). These compounds may also be prepared in a hydrocarbon in \n the absence of an ether. Preferred magnesium com pounds are ethyl magnesium chloride, n-propyl magne sium chloride, i-propyl magnesium iodide, n-butyl mag nesium chloride, t-butyl magnesium chloride, phenyl and magnesium bromide. n-Propyl magnesium chloride and n-butyl magnesium chloride are particularly prefer \n able. The Grignard compound reacts in known manner with the hydroxyl groups placed at the surface of the carrier at a temperature below 100° C. while splitting off hydrocarbon, with the addition of -Mgx to the oxygen of the hydroxyl group according to the follow ing equation: \n - - \n -o-it-oh -- RMgX -o-i-o-Mex -- R-H \n -O -O \n Consequently one mol of magnesium alkyl chloride is chemically bound per mole of hydroxyl groups of the carrier. The number of hydroxyl groups of the carrier may, consequently, be determined by volumetric or chromatographic analysis of the hydrocarbon formed or by retitration of the excess of Grignard compound. The reaction of the solid carrier with the Grignard compound may be carried out in the following way: The solid carrier is suspended in an inert diluent, the dissolved Grignard compound is added at a tempera ture of from -20° to 150° C., preferably of from 0 to 120° C., especially of from 20' to 100° C., and allowed to act on the suspension for a period of from 0.5 to 20, preferably from 0.5 to 10, especially from 0.5 to 2, hours. The proportion of Grignard compound and solid carrier is chosen such that from 0.05 to 1, preferably from 0.1 to 0.95, mol of alkyl magnesium halide is used per mole of hydroxyl groups of the carrier. The magne sium compound is applied on the carrier quantitatively in said process. The reaction is completed when no more magnesium can be detected in the supernatant \n solution after the solid carrier has settled. \n Suitable diluents are all solvents inert with regard to Grignard compounds, for example saturated hydrocar bons or ethers, for example pentane, hexane, heptane, diethyl ether, tetrahydrofurane, or mixture of both types of compounds. After completion of the above reaction the diluent is separated by filtration and drying or directly by distilla tion, at a temperature of from 50 to 200 C., if it con tains an ether. The separation of the diluent is necessary for removing the ether, which has been used for the preparation of the Grignard compound and formed a complex with said compound, owing to the fact that the ether also reacts with the titanium compound while forming a complex and deactivates the catalyst. O \n 15 \n 20 \n 25 \n 30 \n 35 \n 45 \n 50 \n 55 \n 60 \n 65 4. \n The separated diluent may be reused after having \n been recovered. The solid carrier impregnated with the Grignard compound is thereafter suspended again in an inert dispersing agent, preferably in an inert hydrocarbon. A dispersing agent conventionally used for the polymeri zation under low pressure according to Ziegler is \n chosen preferably. When not an ether but a saturated hydrocarbon is used for the preparation of the Grignard compound, the \n diluent need not be separated and the titanium(IV) com pound may be directly added to the reaction mixture. Suitable inert dispersing agents are aliphatic or cycloali phatic hydrocarbons, for example pentane, hexane, heptane, cyclohexane, methylcyclohexane as well as \n aromatic hydrocarbons, for example benzene, toluene, \n xylene, and furthermore benzine or Diesel oil fractions, which have been carefully purified of oxygen, sulfur compounds and moisture, may be used. To the suspension obtained there is added subse quently a halogen-containing titanium(IV) compound, at a temperature of from 20 to 140 C., preferably of from 30 to 130 C, especially of from 40 to 120° C. and the mixture is stirred at this temperature until a titanium compound can no longer be detected in the suernatant solution, generally within a period of from 2 to 20 \n hours. The halogen-containing titanium(IV) compound is a compound of the formula TiXn (OR)4-, wherein n is an integer of from 1 to 4 and X is chlorine or bromine and R is a hydrocarbon radical, preferably an alkyl, aryl or aralkyl radical having from 1 to 12, preferably from 1 to 8 carbon atoms, especially a straight chain or branched alkyl radical having from 1 to 8 carbon atoms, for example TiCl4, TiCl3, (O-n-C3H7), TiCl2(O-n- C3H7)2, TiCl(O-n-C3H7)3, TiCl2(O-1-C3H)2, TiCl3(O-i- C3H7), TiCl3(O-CH2C6H5), TiCl2(O-CH2C6H5)2, TiCl 3(O-i-C4H9) and TiCl2(O-i-C4H9)2. Titanium tetrachloride, TiCl2(O-i-C3H)2 and TiCl 3(O-i-C3H7) are used preferably. The proportion between the titanium compound and \n the solid carrier is chosen such that of from 0.01 to 1, preferably of from 0.05 to 1, especially of from 0.1 to 1, mol of titanium compound is used per 1 mole of hy droxyl groups of the solid carrier. The proportion of, Grignard compound to the tita \n nium compound is chosen such that the atomic ratio of magnesium to titanium in the catalyst component A is in the range of from 0.01 to 10, preferably of from 0.05 to 5, especially of from 0.1 to 2. The catalyst component A thus obtained is used ei ther directly in the form of the suspension or after re \n moval of the diluent and drying. Suitable compounds for the component B are organic \n compounds of the metals selected from one of the main groups I, II and III of the periodic system. Aluminum organic compounds are preferably used as component \n B. Suitable aluminum-organic compounds are the reac tion products of aluminum-trialkyls or aluminum dial kyl hydrides, containing alkyl radicals having from 1 to \n 16 carbon atoms, with dienes having from 4 to 20 car bon atoms. The reaction products of aluminum trialkyls or aluminum-dialkyl hydrides, the alkyl radicals of \n which have from 4 to 8 carbon atoms, for example phellandrene of a diene of the formula ",
         "US4148754",
         "/home/anatoly_kayda/Desktop/mipt/data/hoehst/US/US4148754.pdf",
         "False"
        ],
        [
         "44",
         "US4148754",
         "/home/anatoly_kayda/Desktop/mipt/data/hoehst/US/US4148754.pdf",
         "4",
         "NO",
         "100.0",
         "YES",
         "0.0",
         "4,148,754 \n wherein R2 and R2 is hydrogen, an alkyl radical, an alkylene radical having a non-terminal double bond or a mononuclear aryl radical and a is 0 or 1, are used prefer ably. There may be mentioned, by way of example, 1,4-butadiene, isoprene, 2-phenyl butadiene, 1,4-pen tadiene, 1,3-pentadiene and myrcene. The reaction products of Al(i-C4H9)3 or Al(i-C4H9)2H with isoprene are used preferably. They comprise, for example, com pounds of the formula \n R3 \n Z-A-R-Y-Z \n wherein Y means the groups \n R3 R4 R4 \n -Al-, - Al- crA 1-, o / N A. N / R4 \n Z is hydrogen, the isobutyl group, the dihydroisoprenyl group or an oligomer of this group, R is the isobutyl radical, R4 is the tetrahydroisoprenylene radical and n is an integer of from d1 to 20, the compounds of the for \n mula \n Al-R-Y-R \n wherein Y, R3 and Rand n are defined as above. The ratio between C5 and C4 radicals in the reaction prod ucts of A1(i-C4H9)3 or A1(i-C4H9)2H with isoprene may generally be in the range of from 0.25 to 10, preferably 1 to 4. A compound of this type being commercially available under the name \"aluminum isoprenyl' is used particularly preferable. Further suitable compounds for component B are chlorine-containing aluminum-organic compounds, for example dialkyl aluminum monochlorides of the for mula R52AlCl or alkyl aluminum sesqui-chlorides of the formula R53Al2Cl3, wherein R5 is a hydrocarbon radical having from 1 to 16 carbon atoms, preferably an alkyl radical having from 1 to 16, especially from 2 to 12 carbon atoms. There may be mentioned, by way of example (C2H5)2AlCl, (i-C4H9)2AlCl, (C2H5)3Al2Cl3. Especially suitable compounds for the component B are aluminum trialkyls of the formula AllR3 or alumi num dialkyl hydrides of the formula AllR2H, wherein R5 is a hydrocarbon radical having from 1 to 16 carbon atoms, preferably an alkyl radical having from 1 to 16, especially from 2 to 4 carbon atoms, for example Al(C2H5)3, Al(C2H5)2H Al(C3H7)2H, Al(i-C4H9)3, Al(i- C4H9)2H. The conversion of the titanium(IV) compound of component A into the polymerization active compound having a lower valency is advantageously performed during the polymerization by the metallo-organic com pound (component B) at a temperature of from 20' to 150° C., preferably of from 60' to 140 C. Component A may also be treated with a metallo organic compound prior to polymerizing and be used subsequently in the polymerization at a temperature of 10 \n 15 \n 20 \n 25 \n 30 \n 35 \n 45 \n 50 \n 55 \n 60 \n 65 6 \n from -30 to 150° C., preferably of from 0 to 100° C., with a molar ratio between metallo-organic compound and titanium compound of from 0.2:1 to 3:1, preferably from 0.5:1 to 2:1. If a chlorine-containing metallo organic compound is used it is advisable to wash the reaction product obtained with fresh dispersing agent. Thereafter it is activated with a further metallo-organic compound at a temperature of from 20 to 150 C. When using the catalyst according to the invention at least one 1-olefin of the formula R6-CH=CH2, wherein R6 is hydrogen or a straight chain or branched alkyl radical having from 1 to 10, preferably from 1 to 8, carbon atoms, is polymerized. Examples of such olefins are ethylene, propylene, butene-1, hexene-1, 4-methyl-pentene-1, octene-1. Ethylene is preferably \n polymerized alone or as a mixture consisting of at least 70% by weight of ethylene and at most 30% by weight \n of a further 1-olefin of the above formula. Ethylene is especially polymerized either alone or as a mixture of at least 92% by weight of ethylene and at most 8% by \n weight of a further 1-olefin of the above formula. The molecular weight of the polymer is controlled in known manner, preferably by using hydrogen. The polymerization may be carried out in solution, in suspension or in the gaseous phase, continuously or \n discontinuously, at a temperature of from 20 to 150 C., \n preferably of from 60 to 140 C., under a pressure of from 0.5 to 50 bars. It is carried out preferably under the technically interesting pressure in the range of from 1 to \n 40 bars. \n Thereby the titanium compound is used in a concen \n tration of from 0.005 to 1.5, preferably of from 0.05 to 1, mmol per liter of dispersing agent or reactor volume. The metallo-organic compound is used in a concentra \n tion of from 0.5 to 10 mmols, preferably of from 2 to 6 mmols, per liter of dispersing agent or reactor volume. Higher concentrations are also possible principally. The polymerization in suspension or solution is car \n ried out in a conventional inert solvent for low pressure processes according to Ziegler, which have been de \n scribed above. \n The process according to the invention has the ad vantage that excessive metal compounds do not have to be removed from the catalyst component A by washing, owing to the fact that both the halogen-containing mag nesium-organic compound used and the halogen-con taining titanium(IV) compound react completely with the carrier. Consequently, no washing liquids are formed from which the metal compounds must be sepa rated prior to the secondary treatment. As a conse quence thereof there are formed no metal-containing waste water or slurries. During the polymerization of ethylene and higher 1-olefins the catalyst according to the invention gives high catalyst yields under low pres \n sure, for example of from 1 to 7 bars, such that the magnesium/titanium and aluminum compound may \n completely remain in the polymer; a discoloration of the polyolefin or corrosion phenomena on the processing machines do not occur. Thus expensive operations such as a decomposition of the catalyst and a removal of the catalyst may be dispensed with. Carrying out the poly merization under a higher pressure permits use of a still smaller quantity of catalyst, as the catalyst yield is highly improved with an increasing polymerization \n pressure. The catalyst according to the invention is especially suitable for the polymerization of ethylene in the gase ",
         "US4148754",
         "/home/anatoly_kayda/Desktop/mipt/data/hoehst/US/US4148754.pdf",
         "False"
        ],
        [
         "45",
         "US4148754",
         "/home/anatoly_kayda/Desktop/mipt/data/hoehst/US/US4148754.pdf",
         "5",
         "YES",
         "100.0",
         " YES",
         "0.0",
         "4,148,754 7 \n ous phase in a fluidized bed. The use of oxide carriers having a particle size of more than 30 Jum, which may be obtained for example by separating fine particles by sieving, prevents finely divided catalysts or polymer \n parts from being carried out of the fluidized bed and forming deposits in exterior zones of the reactor. The catalyst according to the invention permits prep aration of a polymer, the powder in bulk of which has a high air permeability and thus may directly be used in the processing by injection molding or extrusion with out previous granulation. A good air permeability of the powder in bulk in the extruder feeding zone prevents an incorporation of air into the molten polymer, which \n would cause a formation of bubbles in the finished part. The porous silicon dioxide having one or more sur face OH groups is designated as \"silicic acid' in the examples. For determining the number of hydroxyl groups of \n the carrier 10.0 g of the dried silicic acid are reacted under an argon atmosphere while refluxing and stirring with a solution of 500 mmols of n-propyl magnesium chloride in 500 ml of diethyl ether, for a period of 4 hours. After settling of the silicic acid magnesium is retitrated in the supernatant solution by way of com plexometry. The titanium content of component A is determined colorimetrically by using hydrogen peroxide (cf. G. O. \n Muller, Praktikum der quantitativen chemischen Ana lyse, 4th edition, (1957), page 243). For the polymerization in suspension there is used a hydrated Diesel oil fraction having a boiling range of \n from 140 to 200 C. \n The melt index of the polymer is determined accord ing to DIN (German Industrial Standard) 53,735, at 190° C., by using a load of 5 kg for is and of 15 kg for i15. The reduced specific viscosity (RSV) is determined with a solution of decahydronaphthalene at 135 C. at a \n concentration of 1 g/b 1. The bulk density is determined by weighing 100 cm of polyethylene powder. The air permeability is determined in the following manner: 100 cm3 of polyethylene powder are placed in a graduated cylinder, which has an inner diameter of 3 cm and a fritted glass bottom, and air suctioned through the powder at a rate of flow of 4 l/h; the pressure de crease occuring in the powder in bulk is determined. The air permeability is then determined in the following \n nanner: \n height of the package X flow velocity air permeability (L) = diameter of the cylinder X pressure loss. \n In the present invention L is 0.023/A p - 1, whereby A p is millimeters of the water column and 1 mm water column corresponds to the pressure loss of the glass frit. The diamension of L is (cm . . sec/g). All solvents are distilled under an inert gas atmo sphere having a purity of at least 99.995% in a circula tion apparatus while passing over benzophenone potas sium and are withdrawn under an inert gas atmosphere. The preparation of the catalyst and the polymerization of ethylene are carried out under an argon atmosphere or under an atmosphere of purified nitrogen while care fully excluding air and humidity. The following examples illustrate the invention. \n EXAMPLE 1 \n A silicic acid having a specific surface of about 300 m2/g, a pore volume of 1.65 cm/g, and an average 10 \n 15 \n 20 \n 25 \n 30 \n 35 \n 45 \n 50 \n 55 \n 65 8 \n particle size of 70 um is dried for 6 hours in a fluidized bed at 460 C. under an argon atmosphere and kept under an argon atmosphere. The number of hydroxyl groups is 1.7 mmols of hydroxy groups per 1 g of silicic \n acid. \n 107 g of this silicic acid are suspended in 500 ml of nheptane under an argon atmosphere, 343 ml of a solu tion of 172 mmols of n-propyl magnesium chloride (1.6 mnols of magnesium per 1 g of silicic acid) in diethyl \n ether are added and the mixture is heated for 4 hours to \n 50° C. The solvent is withdrawn thereafter in a rotary evaporator and the solid product is dried for 2 hours at 120° C. under 0.5 torr. Thereafter the solid product is suspended in 500 ml of n-heptane under an argon atmo \n sphere, 20.3 g of titanium tetrachloride (1.0 mmol of titanium per 1 g of silicic acid) are added and the mix ture is stirred for 7 hours at 90° C. Heptane is thereafter withdrawn at 120° C. in the rotary evaporator under atmospheric pressure. 128 g of a flowable powder is \n obtained. \n The titanium analysis reveals 39.8 mg of titanium per 1 g of the component A. The atomic ratio of magnesi \n um/titanium is 1.6:1. \n 500 ml of Diesel oil are introduced into a 1 liter auto \n clave provided with a flat blade agitator, the air is dis placed by evacuating and introducing nitrogen under \n pressure three times and the autoclave is heated to 85 C. 1.14 g of aluminum triethyl and 0.12 g of the catalyst component A are added. Hydrogen is then introduced until a pressure of 2 bars is attained and ethylene is \n introduced in an amount sufficient to maintain a total \n pressure of 5.9 bars. After 2 hours of polymerization at 85 C. the polyethylene powder is separated from the \n dispersing agent by filtration and dried for 15 hours at 95° C. in vacuo. 115 g of polyethylene are obtained having an is value of 9.3 and a bulk density of 330g/1. The yield of polyethylene was 24,000 g per 1 g of titanium or 958g per 1 g of the catalyst component A. \n EXAMPLE 2 \n Ethylene is polymerized in the presence of 0.22 g of the catalyst component A described in Example 1 under the same conditions as in Example 1, but by using in stead of aluminum triethyl 1.98 g of aluminum triisobu tyl. After 2 hours there are obtained 145g of polyethyl ene having a melt index is of 7.9 and a bulk density of 350 g/1. The RSV value is 1.84 g dl/g. There are ob tained per 1 gram of titanium 16,600 g of polyethylene and per gram of the catalyst component A, 659g. \n EXAMPLE 3 \n Polymerization of ethylene in the gaseous phase. 2 kg of polyethylene (is = 10.8, bulk density 410 g/l) are introduced into a lying 80 liter reactor provided with a scraping stirrer. The reactor is liberated from air by evacuating several times and by flushing for several hours with an ethylene-hydrogen mixture and is heated thereafter to 90° C. 17.1 g of aluminum triethyl and 2.41 g of the catalyst component A prepared according to Example 1 are added. 2 kg of ethylene/hour and hydro \n gen are introduced for a period of 6 hours until the hydrogen portion is 20% by volume. The polymeriza tion temperature is 95 C. The pressure mounts to 10.7 \n bars in the course of the reaction. There are obtained 14 \n kg of polyethylene having a melt index is of 0.95 and a bulk density of 435 g/l. A sieve analysis reveals a fine portion of 0.2% by weight below 100 pum and 0% by ",
         "US4148754",
         "/home/anatoly_kayda/Desktop/mipt/data/hoehst/US/US4148754.pdf",
         "True"
        ],
        [
         "46",
         "US4148754",
         "/home/anatoly_kayda/Desktop/mipt/data/hoehst/US/US4148754.pdf",
         "6",
         "YES",
         "100.0",
         " YES",
         "0.0",
         "4,148,754 \n weight below 50 m. 125,000 g of polyethylene per gram of titanium and 5,809 g of polyethylene per gram of the catalyst component A are obtained. \n COMPARATIVE EXAMPLE A \n The example demonstrates that the catalytic activity is not improved when using an excess of titanium tetra chloride under the conditions indicated in Example 1, while washing several times the excess of titanium com ponent. \n 10.0 g of the silicic acid treated previously with the Grignard compound according to Example 1 are sus pended in 50 ml of n-heptane per gram of silicic acid) for a period of 6 hoursat 90° C. while stirring under an argon atmosphere. The insoluble solid matter is washed eight times by decanting and stirring with each 80 ml of n-heptane until 10 ml of the supernatant solution con tains less than 0.001 mmol of titanium compound. Hep tane is then withdrawn in the rotary evaporator at 120 C. There are obtained 9.7 g of a flowable powder, which contains 40.1 mg of titanium per gram. Ethylene is polymerized with Ol. 12 g of the powder \n obtained under the same conditions as in Example 1. There are obtained 80 g of polyethylene having a melt index is of 5.7 and a bulk density of 295 g/l. There are obtained 16,600 g of polyethylene per gram of titanium and 666 g per gram of the catalyst component A. \n COMPARATIVE EXAMPLE B \n The example demonstrates that the activity of the catalyst is not improved when using an excess of the Grignard and titanium compound during the catalyst preparation and when removing the excess of magne sium and titanium compounds by washing several times. 6.6 g of the dried silicic acid according to Example 1 are suspended in 25 ml of n-heptane, 66 ml of a solution of 33 mmols of n-propyl magnesium chloride (5 mmols per 1 gram of silicic acid) in diethyl ether are added and the mixture is refluxed for 4 hours. The insoluble solid \n matter is washed three times, each with 80 ml of diethyl ether, and two times, each with 80 ml of n-heptane, by decanting and stirring until no more magnesium can be \n detected in the separated solution. The solvent is then removed in the rotary evaporator under 1 torr at 150 \n C, \n The pulverulent solid is suspended in 50 ml of n-hep \n tane, mixed with 7.9 g of titanium tetrachloride (6.3 mmols per 1 gram of silicic acid) and stirred for 7 hours at 90° C. The insoluble solid is then washed five times, each time with 80 ml of n-heptane, by decanting and \n stirring, until less than 0.001 mmol of titanium com pound are contained in the supernatant solution. Hep tane is then withdrawn at 120° C. in the rotary evapora tor. There are obtained 5.8 g of a flowable powder, which contain 27.6 mg of titanium per gram. The atomic ratio between magnesium and titanium is 2.6:1. Under the same conditions as in Example 1 ethylene is polymerized while using 0.31 g of the catalyst compo nent A. There are obtained 166 g of polyethylene hav ing a melt index is of 4.0 and is of 21.6. The bulk density is 310 g/l. Per gram of titanium there are obtained 19,400 g of polyethylene and per gram of the catalyst component A, 535 g. \n EXAMPLE 4 \n 7.2 g of the silicic acid dried according to Example 1, which has been reacted with n-propyl magnesium chlo ride, are suspended in 50 ml of n-heptane. 1.73 g of 10 \n 15 \n 25 \n 30 \n 35 \n 45 \n 50 \n 55 \n 65 10 \n titanium tetrachloride (1.27 mmols per 1 g of silicic acid) are added and the reaction mixture is heated for 7 hours at 90° C. while stirring. Heptane is withdrawn in the rotary evaporator and the residue is dried for 2 hours at 120° C. under atmospheric pressure and for 0.5 hour at 80° C. under 0.5 torr. 8.3 g of catalyst compo nent A are obtained. The titanium analysis reveals 45.8 mg of titanium per 1 g of the component A. The mag \n nesium/titanium atomic ratio is 1.3:1. \n 500 ml of Diesel oil are introduced into a 1 liter auto \n clave provided with a flat blade agitator, the air is dis placed by evacuating and introducing nitrogen under \n pressure several times and the contents of the autoclave are heated to 85 C.; 10 mmols of a solution of aluminum isoprenyl (reaction product of isoprene and aluminum triisobutyl having an aluminum content of 15 to 16% by weight and a C5/C4 of 2.5:1 after hydrolysis) are added. 0.25 g of catalyst component A are then added. Hydro \n gen is introduced until a pressure of 2 bars is attained and ethylene is added in an amount sufficient to main tain a total pressure of 5.9 bars. After 2 hours the poly ethylene powder is separated from the dispersing agent \n by filtration and dried for 15 hours at 95 C. in vacuo. There are obtained 237 g of polyethylene having a melt index is of 5.2 and is of 28.1. The RSV value is 1.8 dl/g. The bulk density is 360 g/l, the air permeability 0.0058 cm3-sec/g. The sieve analysis reveals a portion of fine particles having a diameter of less than 100 um of 0.5% by weight. There are obtained20,700 g of polyethylene per gram of titanium and 948g per gram of the catalyst component A. \n EXAMPLE 5 \n Polymerization of ethylene in the gaseous phase. Ethylene is polymerized in the gaseous phase in the presence of 2.09 g of the catalyst component A pre pared according to Example 4 under the conditions of Example 3. After 6 hours the pressure set up is 9.8 bars. There are obtained 14,000 g of polyethylene having a melt index is of 0.78 and a bulk density of 395 g/l. The portion of fine particles having a diameter below 100 um is 0.4% by weight. There are obtained 125,000 g of polyethylene per gram of titanium and 6.698g of poly ethylene per gram of the catalyst component A. \n EXAMPLE 6 \n 8.6 g of the dried silicic acid according to Example 1 are suspended in 50 ml of diethyl ether, 13.7 ml of a solution of 6.8 mmols (0.79 mmol per 1 gram of silicic acid) of n-propyl magnesium chloride in diethyl ether \n are added and the mixture is refluxed for 3 hours. The solvent is withdrawn in the rotary evaporator and the residue is dried for 2 hours at 150 C. under 1.5 torrs. The dried free flowing powder is suspended in 50 ml of n-heptane, mixed with 1.65 g of titanium tetrachloride (1.0 mmol per 1 gram of silicic acid) and heated for 7 hours at 90° C. while stirring. The solvent is then with drawn at 120 C. in the rotary evaporator and the resi due is dried for 0.5 hour at 80° C. under 1 torr. 9.6 g of the free flowing catalyst component A is obtained, which contains 40.1 mg of titanium per gram. The atomic ratio of magnesium/titanium is 0.8:1. Ethyleneis polymerized undertheconditions of Example 1 in the presence of 0.37 g of the component A. 215 g of polyethylene are obtained having a melt index is of 1.7 and ils of 9.5. The bulk density is 348 g/1. Per gram of titanium there are obtained 14,500 g, per gram of the component A, 581 g of polyethylene. ",
         "US4148754",
         "/home/anatoly_kayda/Desktop/mipt/data/hoehst/US/US4148754.pdf",
         "True"
        ],
        [
         "47",
         "US4148754",
         "/home/anatoly_kayda/Desktop/mipt/data/hoehst/US/US4148754.pdf",
         "7",
         "YES",
         "100.0",
         " YES",
         "0.0",
         "4,148,754 11 \n EXAMPLE 7 \n Into a 1 liter autoclave made from stainless steel there \n are introduced 500 ml of Diesel oil, and the air is dis placed by evacuating and by introducing nitrogen 5 \n under pressure three times. Thereafter the autoclave is heated to 85 C. 1.14 g of aluminum triethyl and 0.12 g of the catalyst component A prepared according to Example 6 are added. Hydrogen is introduced until a pressure of 5 bars is attained and ethylene is introduced 10 in an amount sufficient to maintain a total pressure of 16.7 bars. After 2 hours of polymerization at 85 C. the polyethylene powder is separated by filtration from the dispersing agent and dried for 15 hours at 95 C. in vacuo. 203 g of polyethylene are obtained having a melt 15 index is of 1.1 and a bulk density of 430 g/l. The air permeability of the polyethylene powder is 0.012 cm3.- sec/g. The sieve analysis reveals a portion of fine parti cles having a diameter below 100 um of less than 0.1% by weight. Per gram of titanium there are obtained 20 42,200 g of polyethylene, per gram of the catalyst com \n ponent A, 1,692 g. \n EXAMPLE 8 \n The catalyst is prepared in analogous manner to Ex- 25 ample 6, but by reacting 7.9 g of the dried silicic acid with 6.3 ml of a solution of 3.2 mmols of n-propyl mag nesium chloride (0.4 mmols per 1 gram of silicic acid) in diethyl ether. Thereafter the product obtained is re acted with 1.5g of titanium tetrachloride (1.0 mmol per 30 1 gram of silicic acid). There are obtained 9.0 g of a flowable catalyst component A which contains 39.9 mg of titanium per gram. The atomic ratio of magnesium/- \n titanium is 0.41:1. Ethylene is polymerized in the presence of 0.44 g of 35 \n the powder obtained under the same conditions as in Example 1. There are obtained 182 g of polyethylene powder having a melt index is of 1.7 and is of 12.9. The bulk density is 285 g/l. Per gram of titanium there ob tained 10,400 g of polyethylene, per gram of the catalyst 40 component A, 414 g. \n EXAMPLE 9 \n Ethylene is polymerized under the same conditions as in Example 2 in the presence of 0.54 g of the catalyst 45 component A prepared according to Example 8. There are obtained 193g of polyethylene having a melt index is of 0.44 and i15 of 3.6. The RSV value is 2.88 gl/g, the bulk density about 305 dl. Per gram of titanium there are obtained 9,000 g of polyethylene, per gram of the com- 50 ponent A, 357 g. \n COMPARATIVE EXAMPLE C \n The Example demonstrates that the catalysts ob tained are not very active, when using a silicic acid 55 which has not been treated preliminarily with the Grignard compound. Moreover, the sensitivity to hy drogen of the catalyst is so low that the polyethylene formed has such a high molecular weight that it is un suitable for processing by injection molding or extru- 60 \n S1O. 8.7 g of the dried silicic acid according to Example 1 are suspended in 50 ml of n-heptane and 1.65 g of tita nium tetrachloride (1 mmol per 1 g of silicic acid) are added. The mixture is heated at 90° C. while stirring 65 under an argon atmosphere for a period of 7 hours. Heptane is then withdrawn in a rotary evaporator at 120 C. and the residue is dried for 0.5 hour at 80 C. 12 \n under 2 torrs. 9.3 g of a powder having a titanium con tent of 47.4 mg per gram are obtained. Ethylene is poly merized in the presence of 1.05 g of the powder ob tained under the same conditions as in Example 2. There are obtained 84 g of polyethylene having a bulk density \n of 378 g/l. A melt index is or i15 cannot be measured. The RSV is 14.5 dl/g. There are obtained 1,700 g of polyethylene per gram of titanium and 80 g per gram of the catalyst component A. \n COMPARATIVE EXAMPLE D \n Comparative Example C is repeated by suspending \n 10.1 g of the dried silicic acid according to Example 1 in 86 g (50 ml) of titanium tetrachloride (44.8 mmols per 1 gram of silicic acid) and by stirring the suspension for 4 hours at 120° C. in an argon stream to remove hydrogen chloride. The product obtained is washed seven times, each time with 80 ml of n-hexane, until 10 ml of the supernatant solution contain less than 0.001 mmol of titanium compound. At the end the solvent is distilled off at 100 C. under atmospheric pressure and the resi due is dried for 0.5 hour at 80° C. and under a pressure of 0.5 torr. 10.8g of a free flowing powder are obtained having a titanium content of 35.5 mg per gram. Ethylene is polymerized in the presence of 1.45 g of \n the powder obtained under the conditions described in Example 2. There are obtained 130 g of polyethylene having a bulk density of 394 g/l. A melt index is or i15 \n cannot be measured. The RSV is 17.2 dll/g. There are obtained 2,500 g of polyethylene per gram of titanium and 90 g per gram of the catalyst component A. \n COMPARATIVE EXAMPLE E \n Comparative Example C is repeated by suspending 9.8g of the dried silicic acid according to Example 1 in 50 ml of n-heptane, adding 18.6 g (10 mmols per 1 gram of silicic acid) of titanium tetrachloride and stirring the mixture for 7 hours at 90° C. The product obtained is washed five times with each time 80 ml of heptane until 10 ml of the supernatant solution contains less than 0.001 mmol of titanium compounds. At the end heptane is withdrawn in the rotary evaporator at 120° C. and the residue is dried for 0.5 hour at 80 C. under a pressure of 0.7 torr. 10.2 g of a free flowing powder are obtained having a titanium content of 37.7 mg per gram. Ethylene is polymerized under the conditions of Ex ample 2 in the presence of 1.21 g of said powder. There are obtained 118 g of polyethylene having a bulk den sity of 292 dll/g. A melt index is and is cannot be mea sured. The RSV is 12.2 dll/g. Per gram of titanium there are obtained 2,600 g, per gram of the catalyst compo nent A 98 g of polyethylene. \n EXAMPLE 10 \n 8.2 g of the dried silicic acid, which has been reacted with n-propyl magnesium chloride according to Exam ple 1 are suspended in 70 ml of n-heptane and 1.60 g (1.0 mmol per 1 g of silicic acid) of TiCl3(OiC3H7) are added. The mixture is stirred for 6 hours at 90° C. The solvent is withdrawn in the rotary evaporator at 120° C. and the residue is dried for 0.5 hour at 80 C. under 2 torrs. 9.26 g of a free flowing powder are obtained having a titanium content of 39.4 mg per gram. Ethyl ene is polymerized under the conditions described in Example 2 in the presence of 0.44 g of the powder obtained. There are obtained 145 g of polyethylene having a melt index is of 0.50 and a bulk density of 380 g/l. Per gram of titanium there are obtained 8,400 g of ",
         "US4148754",
         "/home/anatoly_kayda/Desktop/mipt/data/hoehst/US/US4148754.pdf",
         "True"
        ],
        [
         "48",
         "US4148754",
         "/home/anatoly_kayda/Desktop/mipt/data/hoehst/US/US4148754.pdf",
         "8",
         "YES",
         "100.0",
         " YES",
         "0.0",
         "4,148,754 3 polyethylene, per gram of the catalyst component A, 330 g. \n EXAMPLE 11 \n Ethylene is polymerized under the conditions de scribed in Example 4 in the presence of 0.62 g of the catalyst component A prepared according to Example \n 10. There are obtained 186 g of polyethylene having a melt index is of 0.70, i15 of 4.57 and a bulk density of 367 g/l. Per gram of titanium there are obtained 7,600 g of 10 polyethylene, per gram of component A, 300 g. \n EXAMPLE 12 \n Polymerization of ethylene in the gaseous phase. Ethylene is polymerized under the conditions of Ex ample 3 in the presence of 2.4 g of the catalyst compo ment A prepared according to Example 10. After 6 hours the pressure is 20.7 bars. There are obtained 14 kg of polyethylene having a melt index is of 0.33 and a bulk density of 465 g/1. The polyethylene powder has a portion of fine particles having a diameter of less than 100 um of 0.1% by weight. Per gram of titanium there are obtained 127,000 g, per gram of the catalyst compo nent A, 5,833 g of polyethylene. \n EXAMPLE 13 \n 110 g of the dried silicic acid which has been reacted with n-propyl magnesium chloride according to Exam ple 1 are suspended in 700 ml of n-heptane and 26 g (1 mmol of titanium per 1 gram of silicic acid charged with magnesium) of TiCl2(OiC3H7)2 are added. The mixture is stirred for 6 hours at 90° C. The solvent is withdrawn \n in the rotary evaporator at 120° C. and the residue is \n dried for 2 hours at 80 C. under 1 torr. There are ob tained 124 g of a dry free flowing powder having a titanium content of 39.1 mg per gram. Ethylene is polymerized under the conditions of Ex ample 2 in the presence of 0.35 g of the powder ob tained. There are obtained 130g of polyethylene having a melt index is of 2.1, is of 15.8 and a bulk density of 390 g/1. The density is 0.960 g/cm3. Per gram of titanium there are obtained 9,500 g of polyethylene, per gram of the component A, 371 g of polyethylene. \n EXAMPLE 14 \n Copolymerization of ethylene and butene-1. \n 100 liters of Diesel oil are placed in a 100 liter vessel, the contents of the vessel are heated to 85 C. and the air is displaced by flushing with nitrogen. 45.6 g of alumi num triethyl and 12.25 g of the catalyst component A prepared according to Example 13 are added. 5 kg of ethylene are introduced for a period of 6 hours and a quantity of hydrogen such that the hydrogen part in the gaseous phase is 15% by volume is introduced. Butene-1 is moreover introduced at a rate of 50 g/h. The pressure mounts to 5.2 bars in the course of the polymerization. The suspension is separated from the dispersing agent by a pressure filter and the polymer is dried in a fluid ized bed dryer. There are obtained 28.5 kg of polyethyl ene having an RSV of 2.8 dl/g and a density of 0.946 g/cm3. The bulk density is 450 g/l. Pergram of titanium there are obtained 59,500 g of copolymer based on eth ylene and butene-1, per gram of the catalyst component A, 2,326 gram of copolymer. \n EXAMPLE 1.5 \n Ethylene is polymerized under the conditions of Ex ample 4 in the presence of 0.56 g of the catalyst compo 15 \n 20 \n 25 \n 30 \n 35 \n 40 \n 45 \n 50 \n 55 \n 65 14 \n nent A prepared according to Example 13. There are obtained 135 g of polyethylene having a melt index is of 2.3 and a bulk density of 345 g/l. Per gram of titanium there are obtained 6,200 g, per gram of the component A, 241 g of polyethylene. \n EXAMPLE 16 \n 6.2 g of the dried silicic acid according to Example 1 are suspended in 50 ml of a solution of 9.1 mmols of t-butyl magnesium chloride (1.47 mmols per 1 gram of \n silicic acid) in diethyl ether and refluxed for one hour while stirring. The solvent is withdrawn in a rotary evaporator and the residue is dried for 2 hours at 120° C. under 0.3 torr. The dried solid is suspended in 50 ml of n-heptane, 1.17 g (1 mmol of titanium per 1 gram of \n silicic acid) of titanium-tetrachloride are added and the mixture is stirred for 6 hours at 90° C. Heptane is with drawn in a rotary evaporator and the solid is dried for 2 hours at 120° C. under atmospheric pressure and for 0.5 hour at 80 C. under a pressure of 0.4 torr. There are obtained 7.7 g of a dry free flowing powder having a titanium content of 38.5 mg per gram. The atomic ratio of magnesium and titanium is 1.5:1. Ethylene is polymerized under the conditions of Ex ample 2 in the presence of 0.42 g of the powder pre pared. There are obtained 212 g of polyethylene having a melt index is of 0.26 and is of 1.7. The bulk density is 364 g/l. Per gram of titanium there are obtained 1,300 g of polyethylene, per gram of the component A, 504 g of polyethylene. \n EXAMPLE 17 \n A porous silicic acid having a specific surface of about 300 m2/g, a pore volume of 1.65 cm/g and an average particle size of 50 um is dried for 4 hours in a fluidized bed in an argon flow, at 350° C. and thereafter allowed to stand under an argon atmosphere. The silicic acid contains thereafter 1.9 mmols of hydroxyl groups per gram. 9.94 g of the silicic acid obtained are sus pended in 30 ml of diethyl ether. 49 ml of a solution of 18.2 mmols (1.83 mmols of magnesium per 1 g of silicic acid) of phenyl magnesium bromide in diethyl ether are added and the mixture is heated while refluxing. The solvent is withdrawn in the rotary evaporator and the \n solid matter is dried for 2 hours at 120° C. under 0.3 \n torr. The pretreated silicic acid is suspended in 50 ml of n-heptane and 1.89 g of titanium tetrachloride (1.0 mmol per 1 g of silicic acid) are added. The mixture is stirred for 4 hours at 90° C., the solvent is withdrawn \n and the residue is dried for one hour at 80 C. under 0.8 \n torr. There are obtained 12.6 g of a flowable powder having a titanium content of 36.8 mg per gram. The atomic ratio of magnesium/titanium is 1.8:1. Ethylene is polymerized under the conditions of Ex ample 2 in the presence of 0.45 g of the powder pre pared. There are obtained 175 g of polyethylene having a melt index is of 1.73 and its of 12.6. The bulk density is 355 g/l, the air permeability of the powder 0.0058 cm-sec/g. Per gram of titanium there are obtained 10,600 g of polyethylene, per gram of the component A, 390 g of polyethylene. \n EXAMPLE 18 \n Ethylene is polymerized under the conditions of Ex ample 4 by means of 0.48g of the catalyst component A prepared according to Example 17. There are obtained 224 g of polyethylene having a melt index is of 2.1 and i15 of 12.9. The bulk density is 340 g/1, the air permeabil ",
         "US4148754",
         "/home/anatoly_kayda/Desktop/mipt/data/hoehst/US/US4148754.pdf",
         "True"
        ],
        [
         "49",
         "US4148754",
         "/home/anatoly_kayda/Desktop/mipt/data/hoehst/US/US4148754.pdf",
         "9",
         "YES",
         "100.0",
         " YES",
         "0.0",
         "4,148,754 5 ity of the powder 0.077 cm3-sec/g. Pergram of titanium there are obtained 12,700 g, per gram of the component A, 467 g, of polyethylene. \n EXAMPLE 19 \n A porous aluminum silicate (85.7% of SiO2 and 14.2% of Al2O3) having a specific surface of about 550 m2/g, a pore volume of 0.71 cm/g and an average \n particle size of 135 um is dried in a fluidized bed in an argon flow for 4 hours, at 460\" C. and kept under an argon atmosphere. Thereafter it contains 3.0 mmols of hydroxyl groups per gram. 600 g of the silicate obtained are suspended in 3 liters of diethyl ether, 1.3 liters of a solution of 1.79 mols (2.98 mmols per 1 g of silicate) of n-propyl magnesium chlo ride in diethyl ether are added and the mixture is re fluxed for one hour while stirring. After settling of the solid matter no magnesium can be detected in the super natant solution. The solvent is withdrawn in the rotary evaporator and the residue is dried for 2 hours at 120° C. under 0.5 torr. The carrier pretreated is suspended in 5 liters of cyclohexane, 182 g of titanium tetrachloride (1.6 mmols of titanium per 1 g of silicic acid) are added in 2 hours and the mixture is stirred for 6 hours at 100 \n C. The solvent is withdrawn at 120° C. and the residue is \n dried for one hour at 90° C. under a pressure of 0.5 torr. There are obtained 880 g of a flowable powder having a titanium content of 51.2 mg per gram. The atomic ratio between magnesium and titanium is 1.86:1. Ethylene is polymerized under the conditions of Ex ample 2 in the presence of 0.23g of said catalyst compo nent A. There are obtained 169 g of polyethylene hav ing a melt index is of 0.85 and a bulk density of 315 g/l. Per gram of titanium there are obtained 14,400 g, per gram of the component A, 735 g, of polyethylene \n EXAMPLE 20 \n Polymerization of ethylene in the gaseous phase. 2 kg of polyethylene (is = 10.8, bulk density 410 g/l) are placed in a lying 80 liter reactor, which is provided with a scraping stirrer. The reactor is liberated from air by evacuating several times and by flushing for several hours with an ethylene/hydrogen mixture and heated thereafter to 90° C. 17.1 g aluminum triethyl and 2.8g of the catalyst component A prepared according to Exam ple 19 are thereafter placed in the reactor. Ethylene is introduced into the reactor at a rate of 2 kg/hour for a period of 6 hours and hydrogen is introduced until the hydrogen portion is 20% by volume. The polymeriza tion temperature is 105 C. The pressure mounts in the course of the polymerization to 9.8 bars. 14 kg of poly ethylene are obtained having a melt index is of 0.98 and a bulk density of 415 g/l. Per gram of titanium there are obtained 83,700 g of polyethylene, per gram of the component A, 5,000 g of polyethylene. \n What is claimed is: 1. In a process for the preparation of a catalyst by reacting the reaction product of silicon dioxide, alumi num oxide, or a mixture thereof, and (a) a halogen-con taining magnesium-organic compound and (b) a halo gen compound of a transition metal, with an aluminum organic compound, the improvement which comprises (1) reacting silicon dioxide, aluminum oxide, or a mixture thereof, having a content of hydroxyl groups of from 0.5 to 50 mmols/g, in the presence of a diluent, with a magnesium-organic compound of the formula RMgX, wherein R is hydrocarbon 10 \n 15 \n 20 \n 25 \n 30 \n 35 \n 45 \n 50 \n 55 \n 60 \n 65 16 \n of from 1 to 20 carbon atoms and X is chlorine, \n bromine or iodine, in an amount of from 0.1 to 0.95 mol of said magnesium-organic compound per mol of hydroxyl groups of the silicon dioxide, alumi \n num oxide or mixture thereof; (2) reacting the solid reaction product of step (1) in suspension with a halogen-containing titanium compound of the formula TiXOR)4-n, wherein n is an integer of from 1 to 4, X is chlorine or bromine and R1 is hydrocarbon of from 1 to 12 carbon \n atoms, in an amount of from 0.01 to 1 mol of said titanium compound per mol of hydroxyl groups of \n the silicon dioxide, aluminum oxide or mixture \n thereof, and in an amount such that the atomic ratio of magnesium to titanium in the reaction product is in the range of from 0.1 to 10; and (3) reacting the product of step (2) with a sufficient amount of an aluminum-organic compound which is a compound of the formula AIR36 or AIR26H, R6 being hydrocarbon of from 1 to 16 carbon atoms, a compound of the formula R25A1C) or R35Al2Cl3, Rs being hydrocarbon of from 1 to 16 carbon atoms, or a product of the reaction of an aluminum trialkyl or an aluminum dialkyl hydride, wherein said alkyl is of from 1 to 16 carbon atoms, with a diene of from 4 to 20 carbon atoms to pro duce a catalyst which is active in polymerizing a \n 1-olefin. 2. The process as defined in claim 1 wherein the prod uct of step (2) and the aluminum-organic compound are reacted during polymerization and the product of step \n (2) is present in an amount of from 0.005 to 1.5 mmols per liter of reactor volume or an inert solvent dispersing agent and the aluminum-organic compound is present in \n an amount of from 0.5 to 10 mmols per liter of said reactor volume or said inert solvent dispersing agent. 3. The process as defined in claim 2 wherein the prod uct of step (2) and the aluminum-organic compound are reacted before polymerization and the product of step (2) is reacted in a molar ratio to the aluminum-organic compound of from 1:0.2 to 1:3. 4. A compound prepared according to the process as \n defined in claim 1. \n 5. A process as defined in claim 1, wherein said silicon dioxide, aluminum oxide, or mixture thereof, has a con tent of hydroxyl of from 1 to 20 mmols/g. 6. A compound prepared according to the process as \n defined in claim 5. \n 7. The process as defined in claim 1, wherein R is hydrocarbon of from 2 to 10 carbon atoms. 8. A compound prepared according to the process as \n defined in claim 7. \n 9. The process as defined in claim 1, wherein said magnesium compound is added at a temperature of from \n -20 to 150° C. and reacts with the silicon dioxide, aluminum oxide, or mixture thereof, for a period of from 0.5 to 20 hours; and the product of such reaction is reacted with said halogen-containing titanium com pound at a temperature of from 20 to 140° C. 10. A compound prepared according to the process as \n defined in claim 9. \n 11. The process as defined in claim 1, wherein R1 is alkyl of up to 12 carbon atoms, aryl of up to 12 carbon atoms or aralkyl of up to 12 carbon atoms. 12. A compound prepared according to the process as \n defined in claim 11. \n 13. The process as defined in claim 1, wherein R1 is straight or branched alkyl of from 1 to 8 carbon atoms. ",
         "US4148754",
         "/home/anatoly_kayda/Desktop/mipt/data/hoehst/US/US4148754.pdf",
         "True"
        ]
       ],
       "shape": {
        "columns": 11,
        "rows": 131
       }
      },
      "text/html": [
       "<div>\n",
       "<style scoped>\n",
       "    .dataframe tbody tr th:only-of-type {\n",
       "        vertical-align: middle;\n",
       "    }\n",
       "\n",
       "    .dataframe tbody tr th {\n",
       "        vertical-align: top;\n",
       "    }\n",
       "\n",
       "    .dataframe thead th {\n",
       "        text-align: right;\n",
       "    }\n",
       "</style>\n",
       "<table border=\"1\" class=\"dataframe\">\n",
       "  <thead>\n",
       "    <tr style=\"text-align: right;\">\n",
       "      <th></th>\n",
       "      <th>file_name</th>\n",
       "      <th>file_path</th>\n",
       "      <th>page_number</th>\n",
       "      <th>1st_token</th>\n",
       "      <th>1st_logprob</th>\n",
       "      <th>2nd_token</th>\n",
       "      <th>2nd_logprob</th>\n",
       "      <th>text</th>\n",
       "      <th>patent_number</th>\n",
       "      <th>patent_path</th>\n",
       "      <th>is_exp_by_human</th>\n",
       "    </tr>\n",
       "  </thead>\n",
       "  <tbody>\n",
       "    <tr>\n",
       "      <th>0</th>\n",
       "      <td>US6617405</td>\n",
       "      <td>/home/anatoly_kayda/Desktop/mipt/data/unioncar...</td>\n",
       "      <td>1</td>\n",
       "      <td>NO</td>\n",
       "      <td>100.00</td>\n",
       "      <td>NO</td>\n",
       "      <td>0.00</td>\n",
       "      <td>USOO6617405B1 \\n (12) United States Patent (10...</td>\n",
       "      <td>US6617405</td>\n",
       "      <td>/home/anatoly_kayda/Desktop/mipt/data/unioncar...</td>\n",
       "      <td>False</td>\n",
       "    </tr>\n",
       "    <tr>\n",
       "      <th>1</th>\n",
       "      <td>US6617405</td>\n",
       "      <td>/home/anatoly_kayda/Desktop/mipt/data/unioncar...</td>\n",
       "      <td>2</td>\n",
       "      <td>NO</td>\n",
       "      <td>100.00</td>\n",
       "      <td>NO</td>\n",
       "      <td>0.00</td>\n",
       "      <td>US 6,617.405 B1 \\n 1 \\n PROCESS FOR THE PREPAR...</td>\n",
       "      <td>US6617405</td>\n",
       "      <td>/home/anatoly_kayda/Desktop/mipt/data/unioncar...</td>\n",
       "      <td>False</td>\n",
       "    </tr>\n",
       "    <tr>\n",
       "      <th>2</th>\n",
       "      <td>US6617405</td>\n",
       "      <td>/home/anatoly_kayda/Desktop/mipt/data/unioncar...</td>\n",
       "      <td>3</td>\n",
       "      <td>NO</td>\n",
       "      <td>100.00</td>\n",
       "      <td>YES</td>\n",
       "      <td>0.00</td>\n",
       "      <td>US 6,617.405 B1 \\n 3 \\n DISCLOSURE OF THE INVE...</td>\n",
       "      <td>US6617405</td>\n",
       "      <td>/home/anatoly_kayda/Desktop/mipt/data/unioncar...</td>\n",
       "      <td>False</td>\n",
       "    </tr>\n",
       "    <tr>\n",
       "      <th>3</th>\n",
       "      <td>US6617405</td>\n",
       "      <td>/home/anatoly_kayda/Desktop/mipt/data/unioncar...</td>\n",
       "      <td>4</td>\n",
       "      <td>NO</td>\n",
       "      <td>100.00</td>\n",
       "      <td>YES</td>\n",
       "      <td>0.00</td>\n",
       "      <td>US 6,617.405 B1 \\n S \\n aluminum, tri-n-hexyl ...</td>\n",
       "      <td>US6617405</td>\n",
       "      <td>/home/anatoly_kayda/Desktop/mipt/data/unioncar...</td>\n",
       "      <td>False</td>\n",
       "    </tr>\n",
       "    <tr>\n",
       "      <th>4</th>\n",
       "      <td>US6617405</td>\n",
       "      <td>/home/anatoly_kayda/Desktop/mipt/data/unioncar...</td>\n",
       "      <td>5</td>\n",
       "      <td>YES</td>\n",
       "      <td>73.11</td>\n",
       "      <td>NO</td>\n",
       "      <td>26.89</td>\n",
       "      <td>US 6,617.405 B1 \\n 7 \\n bottom of the residenc...</td>\n",
       "      <td>US6617405</td>\n",
       "      <td>/home/anatoly_kayda/Desktop/mipt/data/unioncar...</td>\n",
       "      <td>False</td>\n",
       "    </tr>\n",
       "    <tr>\n",
       "      <th>...</th>\n",
       "      <td>...</td>\n",
       "      <td>...</td>\n",
       "      <td>...</td>\n",
       "      <td>...</td>\n",
       "      <td>...</td>\n",
       "      <td>...</td>\n",
       "      <td>...</td>\n",
       "      <td>...</td>\n",
       "      <td>...</td>\n",
       "      <td>...</td>\n",
       "      <td>...</td>\n",
       "    </tr>\n",
       "    <tr>\n",
       "      <th>126</th>\n",
       "      <td>US20060166812</td>\n",
       "      <td>/home/anatoly_kayda/Desktop/mipt/data/braskem/...</td>\n",
       "      <td>13</td>\n",
       "      <td>YES</td>\n",
       "      <td>100.00</td>\n",
       "      <td>YES</td>\n",
       "      <td>0.00</td>\n",
       "      <td>US 2006/0166812 A1 \\n obtained. This resulting...</td>\n",
       "      <td>US20060166812</td>\n",
       "      <td>/home/anatoly_kayda/Desktop/mipt/data/braskem/...</td>\n",
       "      <td>True</td>\n",
       "    </tr>\n",
       "    <tr>\n",
       "      <th>127</th>\n",
       "      <td>US20060166812</td>\n",
       "      <td>/home/anatoly_kayda/Desktop/mipt/data/braskem/...</td>\n",
       "      <td>14</td>\n",
       "      <td>YES</td>\n",
       "      <td>100.00</td>\n",
       "      <td>YES</td>\n",
       "      <td>0.00</td>\n",
       "      <td>US 2006/0166812 A1 \\n 11 \\n 0221) The polymeri...</td>\n",
       "      <td>US20060166812</td>\n",
       "      <td>/home/anatoly_kayda/Desktop/mipt/data/braskem/...</td>\n",
       "      <td>True</td>\n",
       "    </tr>\n",
       "    <tr>\n",
       "      <th>128</th>\n",
       "      <td>US20060166812</td>\n",
       "      <td>/home/anatoly_kayda/Desktop/mipt/data/braskem/...</td>\n",
       "      <td>15</td>\n",
       "      <td>NO</td>\n",
       "      <td>100.00</td>\n",
       "      <td>YES</td>\n",
       "      <td>0.00</td>\n",
       "      <td>US 2006/0166812 A1 \\n 2. A process for obtaini...</td>\n",
       "      <td>US20060166812</td>\n",
       "      <td>/home/anatoly_kayda/Desktop/mipt/data/braskem/...</td>\n",
       "      <td>False</td>\n",
       "    </tr>\n",
       "    <tr>\n",
       "      <th>129</th>\n",
       "      <td>US20060166812</td>\n",
       "      <td>/home/anatoly_kayda/Desktop/mipt/data/braskem/...</td>\n",
       "      <td>16</td>\n",
       "      <td>NO</td>\n",
       "      <td>100.00</td>\n",
       "      <td>NO</td>\n",
       "      <td>0.00</td>\n",
       "      <td>US 2006/0166812 A1 \\n 26. A solid catalyst com...</td>\n",
       "      <td>US20060166812</td>\n",
       "      <td>/home/anatoly_kayda/Desktop/mipt/data/braskem/...</td>\n",
       "      <td>False</td>\n",
       "    </tr>\n",
       "    <tr>\n",
       "      <th>130</th>\n",
       "      <td>US20060166812</td>\n",
       "      <td>/home/anatoly_kayda/Desktop/mipt/data/braskem/...</td>\n",
       "      <td>16</td>\n",
       "      <td>NO</td>\n",
       "      <td>100.00</td>\n",
       "      <td>NO</td>\n",
       "      <td>0.00</td>\n",
       "      <td>US 2006/0166812 A1 \\n 26. A solid catalyst com...</td>\n",
       "      <td>US20060166812</td>\n",
       "      <td>/home/anatoly_kayda/Desktop/mipt/data/braskem/...</td>\n",
       "      <td>False</td>\n",
       "    </tr>\n",
       "  </tbody>\n",
       "</table>\n",
       "<p>131 rows × 11 columns</p>\n",
       "</div>"
      ],
      "text/plain": [
       "         file_name                                          file_path  \\\n",
       "0        US6617405  /home/anatoly_kayda/Desktop/mipt/data/unioncar...   \n",
       "1        US6617405  /home/anatoly_kayda/Desktop/mipt/data/unioncar...   \n",
       "2        US6617405  /home/anatoly_kayda/Desktop/mipt/data/unioncar...   \n",
       "3        US6617405  /home/anatoly_kayda/Desktop/mipt/data/unioncar...   \n",
       "4        US6617405  /home/anatoly_kayda/Desktop/mipt/data/unioncar...   \n",
       "..             ...                                                ...   \n",
       "126  US20060166812  /home/anatoly_kayda/Desktop/mipt/data/braskem/...   \n",
       "127  US20060166812  /home/anatoly_kayda/Desktop/mipt/data/braskem/...   \n",
       "128  US20060166812  /home/anatoly_kayda/Desktop/mipt/data/braskem/...   \n",
       "129  US20060166812  /home/anatoly_kayda/Desktop/mipt/data/braskem/...   \n",
       "130  US20060166812  /home/anatoly_kayda/Desktop/mipt/data/braskem/...   \n",
       "\n",
       "     page_number 1st_token  1st_logprob 2nd_token  2nd_logprob  \\\n",
       "0              1        NO       100.00        NO         0.00   \n",
       "1              2        NO       100.00        NO         0.00   \n",
       "2              3        NO       100.00       YES         0.00   \n",
       "3              4        NO       100.00       YES         0.00   \n",
       "4              5       YES        73.11        NO        26.89   \n",
       "..           ...       ...          ...       ...          ...   \n",
       "126           13       YES       100.00       YES         0.00   \n",
       "127           14       YES       100.00       YES         0.00   \n",
       "128           15        NO       100.00       YES         0.00   \n",
       "129           16        NO       100.00        NO         0.00   \n",
       "130           16        NO       100.00        NO         0.00   \n",
       "\n",
       "                                                  text  patent_number  \\\n",
       "0    USOO6617405B1 \\n (12) United States Patent (10...      US6617405   \n",
       "1    US 6,617.405 B1 \\n 1 \\n PROCESS FOR THE PREPAR...      US6617405   \n",
       "2    US 6,617.405 B1 \\n 3 \\n DISCLOSURE OF THE INVE...      US6617405   \n",
       "3    US 6,617.405 B1 \\n S \\n aluminum, tri-n-hexyl ...      US6617405   \n",
       "4    US 6,617.405 B1 \\n 7 \\n bottom of the residenc...      US6617405   \n",
       "..                                                 ...            ...   \n",
       "126  US 2006/0166812 A1 \\n obtained. This resulting...  US20060166812   \n",
       "127  US 2006/0166812 A1 \\n 11 \\n 0221) The polymeri...  US20060166812   \n",
       "128  US 2006/0166812 A1 \\n 2. A process for obtaini...  US20060166812   \n",
       "129  US 2006/0166812 A1 \\n 26. A solid catalyst com...  US20060166812   \n",
       "130  US 2006/0166812 A1 \\n 26. A solid catalyst com...  US20060166812   \n",
       "\n",
       "                                           patent_path  is_exp_by_human  \n",
       "0    /home/anatoly_kayda/Desktop/mipt/data/unioncar...            False  \n",
       "1    /home/anatoly_kayda/Desktop/mipt/data/unioncar...            False  \n",
       "2    /home/anatoly_kayda/Desktop/mipt/data/unioncar...            False  \n",
       "3    /home/anatoly_kayda/Desktop/mipt/data/unioncar...            False  \n",
       "4    /home/anatoly_kayda/Desktop/mipt/data/unioncar...            False  \n",
       "..                                                 ...              ...  \n",
       "126  /home/anatoly_kayda/Desktop/mipt/data/braskem/...             True  \n",
       "127  /home/anatoly_kayda/Desktop/mipt/data/braskem/...             True  \n",
       "128  /home/anatoly_kayda/Desktop/mipt/data/braskem/...            False  \n",
       "129  /home/anatoly_kayda/Desktop/mipt/data/braskem/...            False  \n",
       "130  /home/anatoly_kayda/Desktop/mipt/data/braskem/...            False  \n",
       "\n",
       "[131 rows x 11 columns]"
      ]
     },
     "execution_count": 13,
     "metadata": {},
     "output_type": "execute_result"
    }
   ],
   "source": [
    "merged_df['is_exp_by_human'].iloc[5] = False\n",
    "merged_df"
   ]
  },
  {
   "cell_type": "markdown",
   "metadata": {},
   "source": [
    "# Результаты классификации"
   ]
  },
  {
   "cell_type": "code",
   "execution_count": 14,
   "metadata": {},
   "outputs": [
    {
     "name": "stdout",
     "output_type": "stream",
     "text": [
      "Accuracy: 0.916\n",
      "Precision: 0.808\n",
      "Recall: 0.977\n",
      "F1-score: 0.884\n"
     ]
    },
    {
     "data": {
      "image/png": "[encoded data removed]",
      "text/plain": [
       "<Figure size 800x600 with 2 Axes>"
      ]
     },
     "metadata": {},
     "output_type": "display_data"
    }
   ],
   "source": [
    "from sklearn.metrics import accuracy_score, precision_score, recall_score, f1_score, confusion_matrix\n",
    "import seaborn as sns\n",
    "import matplotlib.pyplot as plt\n",
    "\n",
    "# Convert 'YES'/'NO' to True/False in 1st_token column\n",
    "merged_df['1st_token'] = merged_df['1st_token'].map({'YES': True, 'NO': False})\n",
    "\n",
    "# Calculate metrics\n",
    "accuracy = accuracy_score(merged_df['is_exp_by_human'], merged_df['1st_token'])\n",
    "precision = precision_score(merged_df['is_exp_by_human'], merged_df['1st_token'])\n",
    "recall = recall_score(merged_df['is_exp_by_human'], merged_df['1st_token'])\n",
    "f1 = f1_score(merged_df['is_exp_by_human'], merged_df['1st_token'])\n",
    "\n",
    "print(f\"Accuracy: {accuracy:.3f}\")\n",
    "print(f\"Precision: {precision:.3f}\")\n",
    "print(f\"Recall: {recall:.3f}\")\n",
    "print(f\"F1-score: {f1:.3f}\")\n",
    "\n",
    "# Create confusion matrix\n",
    "cm = confusion_matrix(merged_df['is_exp_by_human'], merged_df['1st_token'])\n",
    "plt.figure(figsize=(8,6))\n",
    "sns.heatmap(cm, annot=True, fmt='d', cmap='Blues',\n",
    "            xticklabels=['Non-Experimental', 'Experimental'],\n",
    "            yticklabels=['Non-Experimental', 'Experimental'])\n",
    "plt.title('Confusion Matrix')\n",
    "plt.xlabel('Predicted')\n",
    "plt.ylabel('Actual')\n",
    "plt.show()"
   ]
  },
  {
   "cell_type": "code",
   "execution_count": 15,
   "metadata": {},
   "outputs": [
    {
     "name": "stdout",
     "output_type": "stream",
     "text": [
      "Rows where model and human disagree:\n",
      "         file_name  page_number  1st_token  is_exp_by_human                                                                                                                                                                                                                                                                                                                                                                                                                                                                                                                                                                                                                                                                                                                                                                                                                                                                                                                                                                                                                                                                                                                                                                                                                                                                                                                                                                                                                                                                                                                                                                                                                                                                                                                                                                                                                                                                                                                                                                                                                                                                                                                                                                                                                                                                                                                                                                                                                                                                                                                                                                                                                                                                                                                                                                                                                                                                                                                                                                                                                                                                                                                                                                                                                                                                                                                                                                                                                                                                                                                                                                                                                                                                                                                                                                                                                                                                                                                                                                                                                                                                                                                                                                                                                                                                                                                                                                                                                                                                                                                                                                                                                                                                                                                                                                                                                                                                                                                                                                                                                                                                                                                                                                                                                                                                                                                                                                                                                                                                                                                                                                                                                                                                                                                                                                                                                                                                                                                                                                                                                                                                                                                                                                                                                                                                                                                                                                                                                                                                                                                                                                                                                                                                                                                                                                                                                                                                                                                                                                                                                                                                                                                                                                                                                                                                                                                                                                                                                                                                                                                                                                                                                                                                                                                                                                                                                                                                                                                                                                                                                                                                                                                                                                                                                  text\n",
      "4        US6617405            5       True            False  US 6,617.405 B1 \\n 7 \\n bottom of the residence time pot. The impeller promotes Some radial mixing, but mainly assures that the bottom Section of the residence time pot does not experience SuS pended solid buildup. \\n After activator has been added to the catalyst precursor Slurry in one or two steps, additional activator is added as a last step prior to entry into the reactor. Preferably, this \\n addition occurs within 30 minutes and preferably within less than 15 minutes of actual injection of the catalyst precursor \\n Slurry into the reactor. The activator can be in Solution in an inert Solvent (Such as a high Viscosity fluid carrier or a lower Viscosity Solvent) or added as pure component. It is essential \\n that a mixer, preferably an additional Static mixer element, be located immediately downstream of the addition point of \\n the additional activator. It is also important to keep the Slurry flowing to assure that no plugs form in the catalyst feed line. \\n Additional activator is fed to provide for sufficient activation of the catalyst plus a Small additional amount to Scavenge \\n impurities in the polymerization reactor. The total amount of \\n this additional “topping off activator can be about 0.1 to \\n about 75 percent by mol of the total amount of the activator \\n used for the activation of the precursor. Addition of all of the activator to the catalyst precursor eliminates mass transfer problems, which would prevent the activator from reaching the catalyst precursor if Separate addition to the reactor was \\n practiced. This practice leads to extremely efficient utiliza tion of activator and improved polymer product properties. \\n After completion of the mixing of activator with catalyst \\n precursor, direct injection into the reactor occurs. Means of feeding a slurry to a gas phase reactor are well known and described in the art (see European Patent Application 635 521, for example). \\n The hydrocarbon used for the formation of the slurry can \\n be any essentially air and moisture free aliphatic or aromatic hydrocarbon which is unreactive with the catalyst precursor, \\n the precursor activator compounds, and the cocatalyst. In \\n practice, Since many of the final polymer products find end \\n uses in food packaging, aromatic hydrocarbons would not be a preferred slurry solvent. The hydrocarbon slurry solvent is \\n typically chosen from hydrogenated “mineral oils” or naph \\n thenic oils of relatively high Viscosity to minimize Settling of \\n catalyst Solids in feed tubes and the like, although, with appropriate engineering design, lower Viscosity Solvents \\n Such as isopentane, hexane, and heptane can be used as Slurry Solvents. These are not particularly preferred due to \\n the additional complexity introduced by use of a lower Viscosity and more easily Settled slurry as catalyst. The \\n viscosity of the hydrocarbon slurry solvent, however, is sufficiently low so that the slurry can be conveniently pumped through the pre-activation apparatus and eventually \\n into the polymerization reactor. Preferred Solvents are ali phatic hydrocarbons with viscosity greater than about 50 centipoises (cps), particularly greater than about 100 cps and \\n less than about 5,000 cps. Particularly preferred solvents are \\n napthenic mineral oils typified by materials Such as the Kaydol series of food grade mineral oils supplied by Witco \\n under the trademark Kaydol(R) 350 and 550. \\n It is preferred not to use a Support. However, in those \\n cases where it is desired to Support the precursor, Silica is the preferred Support. Other Suitable Supports are inorganic \\n oxides Such as aluminum phosphate, alumina, Silica/alumina mixtures, Silica modified with an organoaluminum com pound Such as triethylaluminum, and Silica modified with diethyl Zinc. A typical Support is a Solid, particulate, porous \\n material essentially inert to the polymerization. It is used as a dry powder having an average particle Size of about 10 to \\n about 250 microns and preferably about 30 to about 100 15 \\n 25 \\n 35 \\n 40 \\n 45 \\n 50 \\n 55 \\n 60 \\n 65 8 \\n microns, a Surface area of at least 200 Square meters per gram and preferably at least about 250 Square meters per \\n gram; and a pore Size of at least about 100 angstroms and preferably at least about 200 angstroms. Generally, the \\n amount of support used is that which will provide about 0.1 \\n to about 1.0 millimole of titanium per gram of Support and \\n preferably about 0.4 to about 0.9 millimole of titanium per gram of Support. Impregnation of the above mentioned catalyst precursor into a Silica Support can be accomplished \\n by mixing the precursor and Silica gel in the electron donor \\n solvent or other solvent followed by solvent removal under reduced pressure. The resultant Solid catalyst is then con verted into a free flowing Slurry with an aliphatic hydrocar \\n bon as described above Such that it is pumpable as a liquid into the process. Catalyst precursorS Such as those described \\n in U.S. Pat. No. 5,290,745 and European Patent Application 771 820 are particularly useful in the process of subject \\n invention when placed into a hydrocarbon Slurry in the \\n unactivated State. \\n The polymerization is conducted in the gas phase using a \\n continuous fluidized bed process. \\n Melt index is determined under ASTM D-1238, Condition E. It is measured at 190° C. and 2.16 kilograms and reported as grams per 10 minutes or decigrams per minute. Flow \\n index is determined under ASTM D-1238, Condition F. It is \\n measured at 190° C. and 10 times the weight used in determining the melt index, and reported as grams per 10 \\n minutes or decigrams per minute. Melt flow ratio is the ratio \\n of flow index to melt index. The product, as removed from \\n the reactor, can have a melt indeX in the range of about 0.02 to about 300 grams per 10 minutes, and preferably has a melt \\n index in the range of about >0.04 to about 50 grams per 10 \\n minutes. The melt flow ratio is in the range of about 20 to about 50, and is preferably in the range of about 20 to about 30. The density of the polymer is normally at least 0.900 \\n gram per cubic centimeter, and is preferably in the range of \\n 0.915 to 0.960 gram per cubic centimeter. The bulk density \\n can be in the range of about 18 to about 32 pounds per cubic foot, and is preferably greater than 22 pounds per cubic foot. \\n The molecular weight distribution of the polymer is reflected \\n in an Mw/Mn of about 3 to about 7. Mw is the weight average molecular weight, Mn is the number average \\n molecular weight; and the Mw/Mn ratio can be referred to as the polydispersity index, which is a measure of the \\n breadth of the molecular weight distribution. Mw/Mn can \\n also be related to MFR, with lower values of MFR indicated \\n lower values of Mw/Mn and a narrower molecular weight \\n distribution. \\n The transition metal based catalyst System including the activated precursor, ethylene, and, optionally, alpha-olefin \\n and hydrogen are continuously fed into the reactor, and the \\n final product is continuously removed from the reactor. \\n In the reactor: \\n The mole ratio of alpha-olefin (if used) to ethylene can be in the range of about 0.01:1 to about 0.8:1, and is preferably \\n in the range of about 0.02:1 to about 0.35:1. The mole ratio of hydrogen (if used) to ethylene can be in the range of about \\n 0.001:1 to about 2:1, and is preferably in the range of about 0.01 to about 0.5:1. Preferred operating temperatures vary \\n depending on the density desired, i.e., lower temperatures \\n for lower densities and higher temperatures for higher \\n densities. \\n The pressure, i.e., the total pressure in the reactor, can be in the range of about 200 to about 500 psig (pounds per Square inch gauge) and is preferably in the range of about \\n 280 to about 450 psig. The ethylene partial pressure can be \n",
      "5        US6617405            6       True            False                                                                                                                                                                                                                                                                                                     US 6,617.405 B1 \\n 9 \\n in the range of about 10 to about 150 psig, and is preferably \\n in the range of about >20 to about 120 psig. The balance of the total pressure is provided by alpha-olefin (if used) and an \\n inert gas Such as nitrogen. Other inert hydrocarbons, Such as an induced condensing agent e.g., isopentane, hexane also \\n contribute to the overall preSSure in the reactor according to their vapor pressure under the temperature and pressure \\n experienced in the reactor. A typical fluidized bed reactor \\n can be described as follows: \\n The bed is usually made up of the same granular resin that \\n is to be produced in the reactor. Thus, during the course of the polymerization, the bed comprises formed polymer particles, growing polymer particles, and catalyst particles \\n fluidized by polymerization and modifying gaseous compo \\n nents introduced at a flow rate or Velocity Sufficient to cause the particles to Separate and act as a fluid. The fluidizing gas \\n is made up of the initial feed, make-up feed, and cycle \\n (recycle) gas, i.e., comonomers and, if desired, modifiers and/or an inert carrier gas. \\n The essential parts of the reaction System are the vessel, \\n the bed, the gas distribution plate, inlet and outlet piping, a compressor, cycle gas cooler, and a product discharge SyS \\n tem. In the vessel, above the bed, there is a velocity \\n reduction Zone, and, in the bed, a reaction Zone. Both are above the gas distribution plate. \\n A typical fluidized bed reactor is further described in U.S. \\n Pat. No. 4,482,687. \\n The gaseous feed Streams of ethylene, other gaseous alpha-olefins (if used), and hydrogen (if used) are preferably fed to the reactor recycle line as well as liquid alpha-olefins (if used). The activated catalyst precursor is preferably \\n injected into the fluidized bed as a Solid or a mineral oil Slurry. The product composition can be varied by changing \\n the molar ratioS of the comonomers introduced into the \\n fluidized bed. The product is continuously discharged in \\n granular or particulate form from the reactor as the bed level builds up with polymerization. The production rate is con \\n trolled by adjusting the catalyst feed rate and/or the ethylene partial pressures. \\n The hydrogen:ethylene mole ratio can be adjusted to control average molecular weights. The alpha-olefins (other than ethylene) can be present in a total amount of up to 15 percent by weight of the copolymer and, if used, are pref \\n erably included in the copolymer in a total amount of about 1 to about 10 percent by weight based on the weight of the copolymer. \\n The residence time of the mixture of reactants including gaseous and liquid reactants, catalyst, and resin in the \\n fluidized bed can be in the range of about 1 to about 12 hours and is preferably in the range of about 2 to about 5 hours. \\n The reactor can be run in the condensing mode, if desired. \\n The condensing mode is described in U.S. Pat. Nos. 4,543, \\n 399; 4,588,790; and 5,352,749. \\n The resin can be extruded in a conventional extruder \\n adapted for that purpose. Extruders and processes for extru \\n Sion are described in U.S. Pat. Nos. 4,814, 135; 4,857,600; \\n 5,076,988; and 5,153,382. Examples of various extruders, which can be used in forming film are a single Screw type \\n Such as one modified with a blown film die and air ring and continuous take off equipment, a blown film extruder, and a Slot cast extruder. A typical Single Screw type extruder can be described as one having a hopper at its upstream end and \\n a die at its downstream end. The hopper feeds into a barrel, \\n which contains a Screw. At the downstream end, between the \\n end of the Screw and the die, is a Screen pack and a breaker plate. The screw portion of the extruder is considered to be 15 \\n 25 \\n 35 \\n 40 \\n 45 \\n 50 \\n 55 \\n 60 \\n 65 10 \\n divided up into three Sections, the feed Section, the com pression Section, and the metering Section, and multiple \\n heating Zones from the rear heating Zone to the front heating \\n Zone, the multiple Sections and Zones running from upstream \\n to downstream. If it has more than one barrel, the barrels are \\n connected in Series. The length to diameter ratio of each barrel is in the range of about 16:1 to about 30:1. The extrusion can take place at temperatures in the range of \\n about 160 to about 270 degrees C., and is preferably carried \\n out at temperatures in the range of about 180 to about 240 degrees C. \\n The advantages of the invention are found in that molecu \\n lar weight distribution can be narrowed and hexane extract \\n ables can be decreased without a decrease in hydrogen response and catalyst activity; there is no rapid increase in \\n reaction rate, which can result in sheeting, chunking, and cessation of operation; reduction of the cocatalyst, i.e., activator, requirement; improved proceSS control; the pre \\n cursor is leSS Sensitive to over-reduction; catalyst fines are all active So they are less likely to Segregate and migrate to \\n the reactor wall to form sheets, facilitates activator change where different products are desired; the process allows for \\n complete activation even where the activator has very low (or nil) vapor pressure Such as tri-n-hexyl aluminum; the \\n process allows the use of leSS expensive activatorS Such as triethylaluminum and triusobutylaluminum; eliminates the \\n need for Separate cocatalyst feed; although the proceSS is \\n primarily focused on higher molecular weight (and lower levels of low molecular weight species), narrow molecular weight distribution products for fabrication into film, the process has broader application to higher melt indeX products, typically resins used in injection molding, elimi \\n nates other forms of catalyst premixing, often a unit opera tion; and allows for quick changes of catalyst by changing \\n relative flow rates of precursor and activator. \\n Conventional additives, which can be introduced into the resin product, are exemplified by antioxidants, ultraViolet absorbers, pigments, dyes, nucleating agents, fillers, Slip \\n agents, fire retardants, plasticizers, processing aids, \\n lubricants, Stabilizers, Smoke inhibitors, Viscosity control agents, and crosslinking agents, catalysts, and boosters, \\n tackifiers, and anti-blocking agents. Aside from the fillers, \\n the additives can be present in the blend in amounts of about 0.1 to about 10 parts by weight of additive for each 100 parts \\n by weight of polymer blend. Fillers can be added in amounts up to 200 parts by weight and more for each 100 parts by \\n weight of the blend. \\n Patents, patent applications, and other publications men \\n tioned in this specification are incorporated by reference \\n herein. \\n Molecular weights are weight average molecular weights \\n unless otherwise noted. \\n The invention is illustrated by the following examples. \\n EXAMPLES 1 to 4 \\n Examples 1 to 4 are embodiments of the invention. In these examples, a Small polymerization reaction System, as \\n described in U.S. Pat. No. 5,290,745 and references con \\n tained therein, is used. Instead of manipulating the activator/ \\n electron donor ratioS in an in-line fashion as indicated in the \\n discussion of the preferred mode, the partially activated precursors are prepared in a batch fashion due to the extreme difficulty encountered in metering activator compound flows \\n which would be at rates of about 1 to 3 cubic centimeters per \\n hour. These results are illustrative of the effect of the \\n invention in manipulating polymer properties in an in-line \n",
      "20       US6248831           11      False             True                                                                                                                                                                                                                                                                                                                                                                                                                                                                                                                                                                                                                                                                                                                                                                                                                                                                                                                                                                                                                                                                                                                                     US 6,248,831 B1 \\n TABLE XII-continued \\n reaction first second \\n conditions reactor reactor \\n (wt %) \\n fines less than O.21 O.53 \\n 120 mesh (wt %) \\n Notes to above Tables: \\n 1. Resin properties for Second reactor: These are theo retical values based on the assumption that the Second reactor copolymer is produced independently. In Some cases the bimodal resin properties are given, i.e., the properties of \\n the resin blend. 2. Density is measured by producing a plaque in accor dance with ASTM D-1928, procedure C, and then testing as is via ASTM D-1505. The density is reported in gram per \\n cubic centimeter. 3. production rate (lbS/hr)=the average resin production rate per hour based on a heat balance calculation (approximately equal to drum average production rate). 4.5% TEAL=5 weight percent triethylaluminum and 95 weight percent isopentane. \\n 5. titanium split (%)=residual ppm Ti in Second reactor resin divided by residual ppm Ti in first reactor resin. This is an indirect measure of polymer Split. 6. SGV (ft/sec)=Superficial gas velocity in the bed. \\n 7. The fluidized and settled bulk densities of each of the resins (not the blend) is given in pounds per cubic foot. 8. tap blowback=nitrogen is used to purge (blowback) the taps to avoid tap pluggage problems. 9. STY (Ibs/hr/cu ft)=Space/time/yield. This is equal to the resin production rate divided by the bed volume. 10. Split (energy balance)=production rate in first reactor \\n divided by the total production rate. The instantaneous production rate in each reactor is calculated by a heat \\n balance on the reactor. \\n 12. Dart Drop is determined under ASTM D-1709, pro \\n cedure A. \\n 13. Line Speed is the take off speed from an Alpine TM film \\n line equipped with a 100 millimeter die and a 1 millimeter die gap. The film is produced in stalk mode with a 4:1 BUR (blow-up ratio) and a 6 to 8 times die diameter frost line height at about 45 kilograms output rate per hour. \\n What is claimed is: \\n 1. A process for production of a polyethylene blend in Situ comprising contacting ethylene and at least one alpha-olefin \\n comonomer having 3 to 8 carbon atoms with a magnesium/ titanium based catalyst System including a partially activated precursor and a cocatalyst in each of two fluidized bed reactors connected in Series, in the gas phase, under poly merization conditions, with the provisoS that: (a) the precursor is formed by contacting an alkylalumi \\n num halide with a Solid reaction product prepared from \\n a magnesium alkoxide, a titanium tetraalkoxide, and a Solubility enhancing agent; \\n (b) the mixture of ethylene copolymer matrix and active \\n catalyst formed in the first reactor in the Series is \\n transferred to the Second reactor in the Series, \\n (c) other than the active catalyst referred to in proviso (b) and the cocatalyst referred to in proviso (f), no addi \\n tional catalyst is introduced into the Second reactor; \\n (d) in the first reactor in which a low melt index copoly \\n mer is made: \\n (1) alpha-olefin is present in a ratio of about 0.005 to about 0.4 mole of alpha-olefin per mole of ethylene; (2) hydrogen is, optionally, present in a ratio of about \\n 0.0001 to about 0.3 mole of hydrogen per mole of ethylene, and 15 \\n 25 \\n 35 \\n 40 \\n 45 \\n 50 \\n 55 \\n 60 \\n 65 20 \\n (3) the ethylene partial pressure is in the range of about \\n 10 to about 100 pounds per Square inch; and \\n (e) in the Second reactor in which a high melt index copolymer is made: (1) alpha-olefinis, optionally, present in a ratio of about \\n 0.005 to about 0.6 mole of alpha-olefin per mole of ethylene; \\n (2) hydrogen is, optionally, present in a ratio of about \\n 1.0 to about 3.0 moles of hydrogen per mole of ethylene, and \\n (3) the ethylene partial pressure is in the range of about \\n 50 to about 120 pounds per Square inch; and \\n (f) additional hydrocarbyl aluminum cocatalyst is intro \\n duced into the Second reactor in an amount Sufficient to \\n restore the level of activity of the catalyst transferred \\n from the first reactor to about the initial level of activity \\n in the first reactor. \\n 2. The process defined in claim 1 wherein the alkylalu minum halide can be represented by the formula RATY, wherein R is an alkyl group having 1 to 8 carbon atoms, Y is a halogen; and n is 1 or 2. 3. The process defined in claim 1 wherein the solubility enhancing agent is carbon dioxide, triethylborate, a bromide, or a phenolic compound Selected from the group consisting \\n of phenol and a phenol Substituted with an alkyl, an alkoxy, a halogen, or a dialkylamino group. \\n 4. The process defined in claim 1 wherein the polymer formed in the first reactor has a flow index (I 21.6) in the range of about 0.20 to about 5.0 grams per 10 minutes and a density in the range of about 0.890 to about 0.940 gram per \\n cubic centimeter and the polymer formed in the Second reactor has a melt index (I 2.16) in the range of about 80 to about 1000 grams per 10 minutes and a density in the range \\n of about 0.925 to about 0.970 gram per cubic centimeter, the weight ratio of first reactor polymer to Second reactor polymer being in the range of about 0.8:1 to about 2.3:1. 5. The process defined in claim 1 wherein the alkylalu minum halide is represented by the formula RATY, wherein R is an alkyl group having 1 to 8 carbon atoms, Y is a halogen, and n is 1 or 2 and the reaction product is represented by the formula MgTi(OR)x- wherein each R is independently an alkyl group having 1 to 4 carbon atoms \\n and each X is independently a halide or a monovalent anion of a phenolic compound. \\n 6. The process defined in claim 1 wherein the blend has a melt index (I 5) in the range of about 0.01 to about 2.0 grams per 10 minutes; a melt flow ratio (I 21.6/I 5) in the range of about 20 to about 45; and a density in the range of 0.915 to 0.958 gram per cubic centimeter. 7. The process defined in claim 1 wherein a high density polyethylene blend is produced under the following condi \\n tions: \\n in the first reactor: \\n (1) the alpha-olefin is 1-hexene and/or 1-butene and is \\n present in a ratio of about 0.01 to about 0.04 mole of alpha-olefin per mole of ethylene; \\n (2) hydrogen is present in a ratio of about 0.01 to about 0.1 mole of hydrogen per mole of ethylene; and (3) the ethylene partial pressure is in the range of about \\n 25 to about 70 pounds per Square inch; and \\n in the Second reactor: \\n (1) the alpha-olefin is 1-hexene and/or 1-butene and is, optionally, present in a ratio of about 0.005 to about 0.05 mole of alpha-olefin per mole of ethylene; \\n (2) hydrogen is present in a ratio of about 1.3 to about 2.2 moles of hydrogen per mole of ethylene; and (3) the ethylene partial pressure is in the range of about \\n 50 to about 120 pounds per square inch. \n",
      "27   US20060046928            6       True            False                                                                                                                                                                                                                                                                                                                                                                                                                                                                                                                                                                                                                                                                                                                                                                                                                    US 2006/0046928A1 \\n from about 0.5 wt % to about 3.0 wt % of the silica seeding agent is used relative to the magnesium-halide compound. \\n Generally, a higher ratio of magnesium-halide to Silica \\n Seeding agent in the mixture results in a higher ratio of magnesium-halide to Silica in the catalyst Support formed and, consequently, a larger catalyst Support is expected to \\n form because more magnesium-halide crystalizes onto the Silica Seeding agent. \\n 0.014. The solvent is added in amounts from about 2 to 20 times, preferably about 6 times, the molar ratio of the magnesium-halide compound to facilitate the liquefying of \\n the magnesium-halide compound at a lower temperature. \\n U.S. Pat. No. 4,421,674 to Invernizzi et al. teaches, for \\n example, that when the mole ratio of ethanol (“EtOH') to MgCl, is 102, the complex liquefies at 60° C.; at a mole ratio of EtOH to MgCl2 of 7.75 the complex liquefies at 80° C.; \\n at a mole ratio of EtOH to MgCl, of 6.51 the complex liquefies at 90° C.; and at a mole ratio of EtOH to MgCl, of 5.43 the complex liquefies at 100° C. The mixture is initially translucent due to the Suspension of the magnesium-halide \\n compound and the Silica Seeding agent. The mixture is \\n heated to about 60° C. to about 140°C., preferably about 80° \\n C. to about 120° C., until the solvent begins to reflux and the magnesium-halide compound goes into Solution, whereupon \\n the mixture becomes transparent, and the temperature is \\n maintained at the reflux temperature for about 0.25 hours to about 3.0 hours, preferably about 1.0 hour to about 2.0 hours, preferably with continuous stirring. It is possible to \\n form the mixture without either the oil or the Solvent, or by mixing the ingredients in a different order, but the above \\n described mixing operation has been shown to result in a well-dispersed mixture. \\n 0015 The clear mixture, which includes a MgCl2.xEtOH complex (where X is an integer from 1-20), is rapidly transferred to a Second mixing apparatus containing a pre \\n chilled hydrocarbon Solvent, Such as heptane, hexane, cyclo hexane, or other aliphatic or cycloaliphatic hydrocarbon \\n which is miscible in the oil and which will not freeze at the \\n temperatures necessary for the Solidification of the MgCl2.xEtOH complex. The hydrocarbon solvent is pre \\n chilled, for example, to between ice (0° C.) and dry ice/ isopropanol temperatures (i.e., about -70° C. to -90° C.). The rapid temperature decrease causes almost all of the magnesium-halide compound to precipitate out of Solution \\n and crystallize onto the Silica Seeding agent, thus coating the Silica Seeding agent to form a catalyst Support. The catalyst \\n Support particles preferably include less than 10 wt % Silica, \\n preferably no more than 5 wt % silica, and more preferably \\n no more than 3 wt % Silica. \\n 0016. After about 0.5 to 2 hours, preferably about 1 hour, \\n the mixture is allowed to warm to room temperature and it is filtered. Approximately Spherical and/or Spheroidal Solid \\n catalyst Support particles, each comprising at least one Silica Seeding agent with magnesium-halide crystals attached \\n thereto, are collected and washed Several times with more hydrocarbon Solvent, until the hydrocarbon Solvent appears \\n to be colorless, and are dried (e.g., vacuum dried) in a rotary evaporator at about 40 C. to 80 C., preferably at about 60 \\n C., for 1 to 3 hours, preferably for about 2 hours. The term “approximately Spherical' or “approximately Spheroidal' \\n means that all points on the Surface of the particle are within \\n the range of radius r to 2r wherein r is the minimum radial \\n distance between the center of the particle and the closest Mar. 2, 2006 \\n point thereto on the Surface of the particle. The magnesium halide compound may alternately be crystallized onto the \\n Silica Seeding agent with known Spray drying techniqueS or \\n by gradually evaporating the Solvent in which it was origi \\n nally dissolved. \\n 0017 Next, the catalyst support is slowly added to about \\n 10 to 50 moles of a transition metal compound for each mole of magnesium in the magnesium-halide compound at about \\n -30 to 50 C., and the temperature of this mixture is raised \\n to about 20 to 80°C., preferably about 30-60° C. An internal electron donor is added and the temperature is raised, generally with stirring, to about 80 to 130 C., preferably \\n 100-110° C., and is kept at that level for about 1 to 3 hours, preferably about 2 hours. \\n 0018. The internal electron donor compound, in general, \\n is used in an amount from about 0.05 to about 2.0 moles, \\n preferably about 0.1 to about 0.5 mole, for each mole of magnesium in the magnesium-halide compound. \\n 0019. The result is a mixture comprising solid catalyst \\n particles and unreacted transition metal compound and inter \\n nal electron donor compound. \\n 0020. The solid catalyst particles are filtered out and, \\n preferably, extracted for about 1 to 3 hours, preferably about \\n 2 hours, at about 110 to 140 C., more preferably about 125 C. with a mixture of transition metal compound (about 5 to 30 wt %, preferably about 10 wt %), and an inert solvent, Such as a C-C alkylbenzene, preferably ethylbenzene \\n (about 70 to 85 wt %, preferably about 90 wt %) in a known “Soxhlet” extraction type arrangement. This extraction treat ment enhances catalyst activity and Stereospecificity. Alter \\n natively, the Solid catalyst may receive any number of other \\n known extraction treatments, which may, but need not, include a transition metal treatment. Alternatively, the cata lyst could simply be boiled in a Solution comprising a \\n transition metal compound with or without an inert Solvent, \\n i.e., a Solvent which will not react with the transition metal \\n compound. U.S. Pat. No. 4,745,164 to Schweier et al. and \\n U.S. Pat. No. 6,034,023 to Kersting et al., which are incor porated by reference herein, teach examples of extraction \\n methods which may be utilized in the present invention. \\n 0021. The Solid catalyst may be recovered by filtration, \\n washed with an inert Solvent, Such as heptane, hexane, cyclohexane or other aliphatic or cycloaliphatic hydrocar \\n bon, dried by draining off transition metal compound and \\n Solvent, washed a Second time with the inert Solvent, and \\n dried. \\n 0022. The solid catalyst Support particles and/or catalyst \\n particles preferably comprise about 0.01 wt % to about 10 wt \\n % silica, more preferably about 0.1 wt % to about 5 wt % \\n Silica. \\n 0023 The solid catalyst Support particles and/or catalyst particles preferably have a weight percent ratio of Silica to \\n magnesium-halide compound in the range of about 1:20 to \\n 1:3, preferably from about 1:10 to 1:4. \\n 0024. The catalyst may preferably be treated with an organo-aluminum co-catalyst and an external electron donor or other Stereoregulating agent to form a Ziegler-Natta \\n catalyst, which may be used, for example, in polymerization \\n reactions. Examples of external electron donor compounds \\n which may be used in the catalytic System of the invention \n",
      "36       US4843132            3       True            False                                                                                                                                                                                                                                                                                                                                                                                                                                                                                                                                                                                                                                                                                                                                                                                                                                                                                                                                                                                                                                                                                                                                                         4,843,132 3 \\n where R is an aryl, alkylaryl or alkyl radical of not more than 16, preferably not more than 10, carbon atoms, in particular phenyl, tolyl or ethylphenyl, R2 is \\n alkyl of not more than 15, preferably not more than 8, in \\n particular not more than 4, carbon atoms and n is from 0 to 3, preferably from 0 to 2, in particular 1 or 2, \\n with the provisos that the atomic ratio of titanium from the titanium component (1) to aluminum from the alu minum component (2) is from 1:10 to 1:800, in particular \\n from 1:20 to 1:200, and the molar ratio of aluminum component (2) to silane component (3) is from 1:0.03 to 1:0.8, in particular from 1:0.05 to 1:0.5. In the novel process, the titanium component (1) used \\n is one which is obtained by a method in which first (1.1) in a first stage, a solid-phase intermediate is prepared from (I) finely divided magnesium chloride, (II) a C1-C8 alkanol, preferably a C2-C6-alkanol, in particular a \\n C2-C4-alkanol, (III) a carrier consisting of a finely divided, porous, inorganic oxide carrier material which has a particle diameter of from 1 to 1,000 um, in particular from 10 to 400 um, a pore volume of from 0.3 to 3, in particular from 1 to 2.5, cm/g and a surface area of from 100 to 1,000, in particular from 200 to 400, m2/g, is of the formula SiO2.a Al2O3, where a is from 0 to 2, in particu lar from 0 to 0.5, and has been pretreated with an alkyl chlorosilane of the formula R3mSiCl4-m, where R3 is C1-C10-alkyl, preferably C1-C4-alkyl and m is from 1 to \\n 3, preferably 2 or 3, in particular 3, in such a way that \\n either (A) the carrier material and the alkylchlorosilane are combined once or several times, in particular twice, in a liquid inert hydrocarbon, in particular an alkane, with constant thorough mixing at from 20' to 160° C., in particular from 60 to 120° C., a total of from 1 to 50, in particular from 3 to 20, molar parts of the alkylchlorosi lane being used per 10 molar parts of the carrier mate rial, and a total of from 20 to 200, in particular from 40 to 120, molar parts of the hydrocarbon being used per 10 molar parts of the alkylchlorosilane, and the com \\n bined substances are kept at from 20' to 160 C., in particular from 60 to 120 C., for a total of from 0.1 to 5, in particular from 0.4 to 2, hours, and the resulting solid is then isolated as the carrier (III), or (B) the carrier material and the alkylchlorosilane are combined with constant thorough mixing at from 20 to 140 C., in particular from 40 to 100 C., from 5 to 50, in particular from 10 to 40, molar parts of the alkyl chlorosilane being used per 10 molar parts of the carrier material, and the combined substances are kept at a temperature in the stated range for from 0.1 to 5, in particular from 0.4 to 2, hours, and the resulting solid is then isolated as the carrier (III), (IV) titanium tetrachloride and (V) a phthalic acid derivative of the formula \\n CO-X \\n CO-Y \\n where X and Y together form oxygen or X and Y are each chlorine or C1-C10-alkoxy, preferably C2-C8 alkoxy, in particular chlorine, in such a way that first either (a) 5 \\n 10 \\n 15 \\n 20 \\n 25 \\n 30 \\n 35 \\n 45 \\n SO \\n 55 \\n 60 \\n 65 4. \\n (1.1.1.a) in a first substage, the magnesium chloride (I) \\n and the alkanol (II) are combined in a liquid inert hy drocarbon, in particular an alkane, with constant thor ough mixing at from 0 to 140 C., in particular from 40 to 120° C., from 20 to 1,000, in particular from 50 to 400, parts by weight of the hydrocarbon being used per 10 parts by weight of the magnesium chloride (I) and from \\n 10 to 80, in particular from 20 to 60, molar parts of the alkanol (II) being used per 10 molar parts of the magne \\n sium chloride (I), and the combined substances are kept at from 20' to 140 C., in particular from 40 to 120° C., for from 0.1 to 6, in particular from 0.2 to 2, hours, after \\n which \\n (1.1.2.a) in a second substage, the carrier (III) is intro duced into the reaction mixture resulting from the first Substage, with constant thorough mixing at from 0 to 140 C., in particular from 40 to 120° C., from 20 to 100, in particular from 30 to 60, parts by weight of the carrier (III) being used per 10 parts by weight of the magnesium chloride (I), \\n or (b) (1.1.1.b) in a first substage, the magnesium chloride \\n (I) and the alkanol (II) are combined with constant thorough mixing at from 0 to 140 C., in particular from 40 to 120° C., from 100 to 1,000, in particular from 150 to 500 molar parts of the alkanol (II) being used per 10 molar parts of the magnesium chloride (I), and the combined substances are kept at from 20' to 140°C., in particular from 40 to 120° C., for from 0.1 to 6, in particular from 0.2 to 2, hours, after which (1.1.2.b) in a second substage, the carrier (III) is intro duced into the reaction mixture resulting from the first substage with constant thorough mixing at from 0 to 140 C., in particular from 40 to 120° C., from 20 to 100, in particular from 30 to 60, parts by weight of the carrier (III) being used per 10 parts by weight of the magnesium chloride (I), and the entire mixture is evapo rated to dryness with recovery of a solid-phase reaction product, and thereafter (1.1.3) in a third substage, the solid-phase reaction product obtained in the second substage and the tita nium tetrachloride (IV) are combined in a liquid inert hydrocarbon, in particular an alkane, with constant thorough mixing at from -20 to 40 C., in particular from 10 to 30' C., from 20 to 300, preferably from 30 to 200, in particular from 50 to 150, molar parts of the titanium tetrachloride (IV) being used per 100 molar parts of the alcohol (II), and from 10 to 100, preferably from 10 to 80, in particular from 15 to 60, parts by weight of the hydrocarbon being used per 10 parts by \\n weight of the carrier (III), and the combined substances are kept at from 10 to 150 C., in particular from 30 to 120 C., for from 0.1 to 4, in particular from 0.2 to 2.5, hours, and the resulting solid-phase intermediate is iso lated with removal of the liquid phase, with the proviso that the phthalic acid derivative (V) is introduced in the course of one or more of the substages (1.1.1) to (1.1.3), from 1 to 100, preferably from 5 to 60, in particular from 10 to 40, molar parts of the phthalic acid derivative being used per 100 molar parts of the magnesium chlo ride (I), then (1.2) in a second stage, the solid-phase intermediate obtained from the first stage is subjected to a single stage or multi-stage or continuous extraction with tita nium tetrachloride at from 100 to 150° C., in particular from 115 to 135° C., for from 0.2 to 5, in particular from 0.4 to 3, hours, a total of from 10 to 1,000, prefera bly from 20 to 800, in particular from 40 to 300, parts by \n",
      "40       US4843132            7       True            False                                                                                                                                                                                                                                                                                                                                                                                                                                                                                                                                                                                                                                                                                                                                                                                                                                                                                                                                                                                                                                                                                                                                                                                                                                                                                                                                                                                                                                                                                                                                                                                                                                                                                                                                                                                                                                                                                                                                                                                                                                                                                                                                                                                                                                                                                                                                                                                                                                                                                                                                                                                                                                                                                                                                                                                                                                                                                                                                                                                                                                                                                                                                                                                                                                                                                                                                                                                                                                                                                                                                                                                                                                                                                                                                                                                                                                                                                                                                                                                                                                                                                                                                                                                                                                                                                                                                                                                                                                                                                                                                                                                                                                4,843,132 11 \\n where X and Y together form oxygen or X and Y are each chlorine or C1-C10-alkoxy, in such a way \\n that first \\n either (a) (1.1.1.a) in a first substage, the magnesium chloride (I) \\n and the alkanol (II) are combined in a liquid inert hydrocarbon with constant thorough mixing at \\n from 0 to 140°C., from 20 to 1,000 parts by weight of the hydrocarbon being used per 10 parts by \\n weight of the magnesium chloride (I) and from 10 \\n to 80 molar parts of the alkanol (II) being used per 10 molar parts of the magnesium chloride (I), and \\n the combined substances are kept at from 20 to \\n 140 C., for from 0.1 to 6 hours, after which \\n (1.1.2.a) in a second substage, the carrier (III) is intro \\n duced into the reaction mixture resulting from the first substage, with constant thorough mixing at \\n from 0 to 140 C., from 20 to 100 parts by weight \\n of the carrier (III) being used per 10 parts by weight of the magnesium chloride (I), \\n or (b) (1.1.1.b) in a first substage, the magnesium chloride \\n (I) and the alkanol (II) are combined with constant thorough mixing at from 0 to 140 C., from 100 to \\n 1,000 molar parts of the alkanol (II) being used per \\n 10 molar parts of the magnesium chloride (I), and \\n the combined substances are kept at from 20 to \\n 140 C. for from 0.1 to 6 hours, after which \\n (1.1.2.b) in a second substage, the carrier (III) is intro \\n duced into the reaction mixture resulting from the first substage with constant thorough mixing at \\n from 0 to 140 C., from 20 to 100 parts by weight of the carrier (III) being used per 10 parts by weight of the magnesium chloride (I), and the en 5 \\n O \\n 15 \\n 20 \\n 25 \\n 30 \\n 35 \\n 45 \\n 50 \\n 55 \\n 60 \\n 65 12 \\n tire mixture is evaporated to dryness with recovery of a solid-phase reaction product, \\n and thereafter \\n (1.1.3) in a third substage, the solid-phase reaction product obtained in the second substage and the \\n titanium tetrachloride (IV) are combined in a liquid inert hydrocarbon with constant thorough mixing \\n at from -20 to 40° C., from 20 to 300 molar parts \\n of the titanium tetrachloride \\n (IV) being used per 100 molar parts of the alcohol (II), and from 10 to 100 parts by weight of the hydrocarbon being used per 10 parts by weight of \\n the carrier (III), and the combined substances are kept at from 10 to 150 C., for from 0.1 to 4 hours, and the resulting solid-phase intermediate is iso lated with removal of the liquid phase, with the proviso that the phthalic acid derivative (V) is \\n introduced in the course of one or more of the \\n substages (1.1.1) to (1.1.3), from 1 to 100 molar parts of the phthalic acid derivative being used per 100 molar parts of the magnesium chloride (I), then (1.2) in a second stage, the solid-phase intermediate obtained from the first stage is subjected to a sin glestage or multi-stage or continuous extraction \\n with titanium tetrachloride at from 100 to 150 C., \\n for from 0.2 to 5 hours, a total of from 10 to 1,000 parts by weight of the titanium tetrachloride being used per 10 parts by weight of the solid-phase inter \\n mediate obtained from the first stage, and finally (1.3) in a third stage, the solid-phase intermediate obtained in the second stage is extracted with a liquid inert hydrocarbon until the solid contains \\n from 0.01 to 30% by weight of free titanium tetra chloride, and the titanium component (1) is ob \\n tained in this manner. \\n : k s 2 \n",
      "81       US4849389            8       True            False                                                                                                                                                                                                                                                                                                                                                                                                                                                                                                                                                                                                                                                                                                                                                                                                                                          4,849,389 5 \\n into the solvent, preferably while stirring, and heating the mixture is about 25 to about 100 C., preferably about 40 to about 60° C. The slurry is then contacted with the aforementioned organomagnesium composi \\n tion, while the heating is continued at the aforemen tioned temperature. The organomagnesium composition has the empirical \\n formula Rin Mg R\", where R and R' are the same or different C4-C12 alkyl groups, preferably C4-C10 alkyl groups, more preferably C4-C8 unsubstituted alkyl groups, and most preferably both R and R' are n-butyl groups, and m and n are each 0, 1 or 2, providing that m-n is equal to the valence of Mg. Suitable non-polar solvents are materials in which all of the reactants used herein, i.e., the organomagnesium composition, the compound of formula (II) and the transition metal compounds are at least partially soluble and which are liquid at reaction temperatures. Preferred non-polar solvents are alkanes, such as hexane, n-hep tane, octane, nonane, and decane, although a variety of other materials including cycloalkanes, such as cyclo \\n hexane, aromatics, such as benzene and ethylbenzene can be employed. The most preferred non-polar solvent \\n is hexane. Prior to use, the non-polar solvent should be purified, such as by percolation through silica gel and \\n /or molecular sieves, to remove traces of water, oxy gen, polar compounds, and other materials capable of adversely affecting catalyst activity. \\n In the most preferred embodiment of the synthesis of this catalyst it is important to add only such an amount of the organomagnesium composition that will be deposited-physically or chemically--onto the support since any excess of the organomagnesium composition \\n in the solution may react with other synthesis chemi cals, and precipitate outside of the support. The carrier drying temperature affects the number of sites on the carrier available for the organomagnesium composi tion-the higher the drying temperature the lower the \\n number of sites. Thus, the exact molar ratio of the or ganomagnesium composition to the hydroxyl groups \\n will vary and must be determined on a case-by-case basis to assure that only so much of the ogranomag nesium composition is added to the solution as will be deposited onto the support without leaving any excess of the organomagnesium composition in the solution. \\n Furthermore, it is believed that the molar amout of the organomagnesium composition deposited onto the sup port is greater than the molar content of the hydroxyl groups on the support. Thus, the molar ratios given below are intended to serve only as an approximate guideline and the exact amount of the organomag nesium composition in this embodiment must be con trolled by the functional limitation discussed above, i.e., it must not be greater than that which can be deposited onto the support. If greater than the amount is added to the solvent, the excess may react with the compound of formula (II), thereby forming a precipitate outside of the support which is detrimental in the synthesis of our catalyst and must be avoided. The amount of the or ganomagnesium composition which is not greater than that deposited onto the support can be determined in any conventional manner, e.g., by adding the or ganomagnesium composition to the slurry of the carrier in the solvent, while stirring the slurry, until the or ganomagnesium composition is detected as a solution in \\n the solvent. \\n For example, for the silica carrier heated at about 200 to about 850 C., the amount of the organomag O \\n 15 \\n 20 \\n 25 \\n 30 \\n 35 \\n 45 \\n 50 \\n 55 \\n 60 \\n 65 6 \\n nesium composition added to the slurry is such that the molar ratio of Mg to the hydroxyl groups (OH) on the \\n solid carrier is about 1:1 to about 6:1, preferably about 2:1 to about 4:1, more preferably about 2.5:1 to about 3.5:1 and most preferably about 3:1, depending upon the \\n temperature at which the carrier material was dried. The organomagnesium composition dissolves in the \\n non-polar solvent to form a solution. \\n It is also possible to add such an amount of the or ganomagnesium composition which is in excess of that \\n which will be deposited onto the support and then re move, e.g., by filtration and washing, any excess of the organomagnesium composition. However, this alterna \\n tive is less desirable than the most preferred embodi \\n ment described above. \\n After the addition of the organomagnesium composi tion to the slurry is completed, the slurry is contacted \\n with at least one compound of the formula (II) \\n R'-OH (II) \\n where R' is a C1-C10 alkyl group or a C1-C10 haloge nated alkyl group, preferably R' is a C1-C10 alkyl \\n group, more preferably a C1-C4 normal alkyl group or a C1-C4 halogenated normal alkyl group, and most preferably R' is an ethyl group. Thus, the compound of \\n formula (II) is preferably an alcohol and most prefera bly ethanol. The amount of the compound of formula (II) used in this synthesis step is sufficient to convert substantially all of the magnesium alkyl (Mg-R or \\n MgR) groups on the carrier to magnesium alkoxy \\n (MgO R') groups. In a preferred embodiment, the \\n amount of the formula (II) compound added is such that substantially no excess thereof is present in the non polar solvent after substantially all of the magnesium alkyl groups are converted to the magnesium alkoxy \\n groups on the carrier to prevent the reaction of the \\n formula (II) compound with the transition metal com pound outside of the carrier. This synthesis step is con ducted at about 25 to about 65° C., preferably at about 30 to about 55 C., and most preferably at about 30 to \\n about 40 C. \\n After the addition of the formula (II) compound is completed, the slurry is contacted with at least one transition metal compound soluble in the non-polar solvent. This synthesis step is conducted at about 25 to about 65° C., preferably at about 30 to about 55 C., and most preferably at about 30 to about 40° C. In a preferred embodiment, the amount of the transition metal compound added is not greater than that which \\n can be deposited onto the carrier. The exact molar ratio \\n of Mg to the transition metal and of the transition metal to the hydroxyl groups of the carrier will therefore vary (depending, e.g., on the carrier drying temperature) and \\n must be determined on a case-by-case basis. For exam \\n ple, for the silica carrier heated at about 200 to 850 C., the amount of the transition metal compound is such that the molar ratio of the transition metal, derived from the transition metal compound, to the hydroxyl groups of the carrier is about 1 to about 2.0, preferably about 1.5 to about 2.0 and the molar ratio of Mg to the transi tion metal is about 1 to about 3, preferably about 2 to about 3. We found that these molar ratios produce a catalyst composition which produces resins having \\n relatively low melt flow ratio (MFR) values of about 20 \\n to about 35. As is known to those skilled in the art, such resins can be utilized to produce high strength films and \n",
      "105      US9352308           10       True            False                            US 9,352,308 B2 \\n 5 \\n over a period from 1 to 20 hours. The amount of remaining \\n OH on the silica surface after this treatment ranges from 0.1 to 2 mmoles OH per g of silica, preferably between 0.5 and \\n 1.5 mmoles OH per g of silica. The impregnation is preferably carried out by Suspending \\n 10 to 20 parts by weight of silica for each 100 parts by volume of a solution of an organometallic compound of the groups 1, \\n 2, 12 or 13, in aliphatic hydrocarbons, and maintaining the \\n Solution with stirring at a temperature which ranges from \\n room temperature to the boiling point of the solution of the organometallic compound of the groups 1, 2, 12 or 13, in aliphatic hydrocarbons, preferably at room temperature, over \\n a period from 30 to 120 minutes, preferably between 50 and \\n 60 minutes. \\n The organometallic compounds of groups 1, 2, 12 or 13 of \\n the periodic table suitable for use in step (a) are alkyl com pounds and alkyl halide compounds of metals belonging to \\n these groups, and preferably aluminum, magnesium, lithium and Zinc compounds. Specific examples of these compounds \\n are trimethylaluminum, triethylaluminum (TEAL), methyla \\n luminum dichloride, methylaluminum sesquichloride, isobu tylaluminum dichloride, isobutylaluminum sesquichloride, \\n ethylaluminum dichloride (EADC), diethylaluminum chlo \\n ride (DEAC), ethylaluminum sesquichloride (EASC), tri-n- \\n hexylaluminum (Tn-HAL), tri-n-octylaluminum (TnOAL). butyl ethylmagnesium (BEM), butyl octylmagnesium \\n (BOMAG), methylmagnesium chloride and ethylmagnesium \\n chloride. They can be used concentrated or preferably dis \\n Solved in the above organic solvent or in a different organic Solvent chosen from aliphatic hydrocarbons. \\n Specific aliphatic hydrocarbons used as solvents for the \\n above mentioned solution can have between 4 and 50 car \\n bons, preferably between 6 and 20 carbons. Specific examples of these aliphatic hydrocarbons used as solvents are \\n hexane, heptane, octane, isoparaffin, and the more preferably \\n hexane and heptane. In step (a) of the process, the impregnation step using the \\n Solution of organometallic compound of the groups 1, 2, 12 or \\n 13, in aliphatic hydrocarbons, is carried out by using an amount of organometallic compound, ranging from 0.1 to 1 \\n mmole of the organometallic solution per mmole of OH on \\n the silica surface, preferably 0.3 to 0.7 mmoles of the orga \\n nometallic solution per mmole of OH on the silica surface. At the end of the impregnation treatment, the silica can be removed (step b) from the Suspension by usual methods such as settling and siphoning, filtration or centrifugation. The \\n operating temperature of this step can vary from room tem perature to the boiling point of the aliphatic hydrocarbonused \\n as the solvent, preferably at room temperature. The wet silica \\n is directly used in the next step. \\n According to the present invention, in step (c) of the pro \\n cess, a liquid component from the reaction between at least one magnesium compound, chosen from magnesium halides \\n and magnesium alkoxides and at least one titanium com \\n pound, chosen from titanium alkoxides and titanium halogen alkoxides, is prepared. Generally, it is necessary to heat the \\n mixture of these compounds, at a temperature in the range of \\n about 100° C. to about 200° C., preferably between 140° C. \\n and 160° C., over a period of time from 1 to 100 hours, preferably between 10 and 30 hours. The mixture comprising said compounds has to be prepared under turbulent stirring \\n and underinert conditions. After the formation of the product obtained from the reaction between these compounds, which is noted by the disappearance of the Solid Suspension, the \\n temperature of the obtained liquid product can be reduced to ambient temperature without precipitation of any solid. This \\n liquid component is diluted in an inert organic solvent to form 10 \\n 15 \\n 25 \\n 30 \\n 35 \\n 40 \\n 45 \\n 50 \\n 55 \\n 60 \\n 65 6 \\n a clear Solution. Specific organic Solvents used for the above mentioned solution can be aliphatic hydrocarbons having \\n between 4 and 50 carbons, preferably between 6 and 20 carbons. Specific examples of these aliphatic hydrocarbons \\n used as organic solvents are: hexane, heptane, octane, isopar \\n affin, most preferably hexane and heptane. \\n The magnesium compounds Suitable for the purpose of the \\n invention are those having the formulae MgX or Mg (OR), \\n wherein R represents a linear or branched alkyl group, con \\n taining from 1 to 10 carbons and X represents a halogenatom \\n and preferably a chlorine atom. Specific examples of magne \\n sium compounds are magnesium dichloride, magnesium \\n diethylate, magnesium di-n-butylate, magnesium diisopro \\n pylate and magnesium diisobutylate. \\n The amount of magnesium compound used in the above \\n preparation corresponds to the amount ranging from 0.0024 \\n to 0.24 g of magnesium per g of silica, preferably between \\n 0.0042 and 0.042 g of magnesium per g of silica. \\n The titanium compounds most Suited for the purpose are \\n alkoxides and chloroalkoxides, containing from 1 to 4 car \\n bons in the alkoxide portion. Specific examples of these com pounds are: titanium tetra-n-propylate, titanium tetra-n-buty \\n late, titanium tetra-1-propylate, titanium tetra-1-butylate and \\n the corresponding titanium mono- or di-chloroalkoxides. \\n The amount of titanium compound used in the above preparation corresponds to an amount ranging from 0.01 to 1 \\n g of titanium per g of silica, preferably between 0.0175 and \\n 0.175 g of titanium per g of silica. In general, when preparing the solution of the step (c), \\n titanium is used in Such an amount that the molar ratio Ti/Mg varies within the range of 0.3 to 4, and preferably within the range of 0.5 to 2. \\n In step (d) the silica obtained in step (b) is suspended in an inert organic solvent, such as a hydrocarbon Solvent of the aliphatic type, preferably the same used in the previous steps \\n and the dissolved product prepared in step (c) is added to the Suspension. The impregnation is carried out by Suspending \\n 100 parts by weight of silica, obtained on step (b), for each 5 to 200 parts by volume of the component prepared on step (c) \\n and after dilution in the inert organic solvent. The Suspension is maintained under stirring at a temperature that ranges from \\n room temperature to the boiling point of the mixture, prefer \\n ably at 60°C., over a period of time from 30 to 180 minutes, preferably between 50 and 60 minutes. In this way a solid component Suspended in an inert organic solvent is obtained. \\n Optionally the solid component obtained in step (d) can be \\n Submitted to reducing conditions in a step (e). Said result is obtained, for example, by using reducing agents, such as Na-alkyls, Li-alkyls, Zn-alkyls, Mg-alkyls and correspond \\n ing aryl-derivatives, Grignard compounds of the type RMgX. \\n wherein R represents a linear or branched alkyl group, con taining from 1 to 10 carbons or aryl-derivatives and X repre sents a halogenatom and preferably a chlorine atom, Al-alkyl \\n halide compounds or by using reducing agents such as silicon compounds. Particularly effective silicone compounds are \\n the polymethylhydrosiloxanes in which the monomer unit \\n has the general formula HSiR-O I, wherein R is H. halogen, alkyl with 1 to 10 carbon atoms, aryl with 6 to 10 \\n carbon atoms, alkoxyl with 1 to 10 carbon atoms, aryloxyl \\n with 6 to 10 carbon atoms or carboxyl with 1 to 10 carbon atoms, and n is a degree of polymerization that ranges \\n between 5 and 100. Specific examples of such polymethyl \\n hydrosiloxanes (PMHS) include the compounds: (CH)SiO \\n (CH)HSiO, Si(CH), (CHHSiO) (CHHSiO), HSi O SiH OSiRI, phenylhydropolysiloxanes in which the hydrogen atoms can be partially replaced by methyl groups. \n",
      "106      US9352308           11       True            False                                                                                                                                                                                                                                                 US 9,352,308 B2 \\n 7 \\n Other silicon compounds useful as reducing agents in the \\n practice of this invention are: silanes (SiH, in which m is a number equal to or higher than 1), alkyl-silanes or aryl \\n silanes (RSiH, in which Risalkyl oraryland X is a number varying from 1 to 3) and alkoxy-silanes or aryloxy-silanes \\n (RO, SiH, in which R is alkyl or aryl and x is a number \\n varying from 1 to 3). \\n The reducing agent chosen from the above examples, pref \\n erably polymethylhydrosiloxanes (PMHS), is added to the \\n solid obtained in the step (d), dissolved preferably in the same \\n inert organic solvent used for the reaction Suspension. This \\n addition is carried out slowly over a period of time from 30 to \\n 180 minutes, preferably between 50 and 80 minutes and the Solid Suspension is maintained under stirring at a temperature \\n ranging from room temperature to the boiling point of the \\n aliphatic hydrocarbon used as solvent, preferably at 60° C. \\n The amount of reducing agent that can be used in step (e) \\n corresponds to the amount ranging from 0 to 2 moles per mole \\n of titanium, preferably between 0 and 0.1 mole per mole of \\n titanium. It has been observed, in the experiments, that the \\n quantity used of this reducing agent can control the amount of \\n titanium fixed on silica at the final catalyst. In the next step of the process according to the present \\n invention, the Suspension obtained in (d) or (e), which is still under stirring, is put in contact and interacted with one or more halogenating agents. \\n Halogenating agents useful in the practice of the present \\n invention can be either liquid or gaseous materials, pure or preferably dissolved in an inert organic solvent. Representa \\n tive but non-exhaustive examples of halogenating agents use \\n ful in the present invention are methylaluminum dichloride, methylaluminum sesquichloride, isobutylaluminum dichlo \\n ride, isobutylaluminum sesquichloride, ethylaluminum \\n dichloride (EADC), diethylaluminum chloride (DEAC), ethylaluminum sesquichloride (EASC), SiCl, SnCl4, HCl, \\n Cl, HSiCl, aluminum chloride, ethylboron dichloride, boron chloride, diethylboron chloride, HCC1, PC1, POCl, acetyl chlorides, thionyl chloride, sulfur chloride, methyl \\n trichlorosilane, dimethyl dichlorosilane, TiCl, VC1, CC1, t-butyl chloride, n-butyl chloride, chloroform, 1,1,1-trichlo \\n roethane, 1.1.2-trichloroethane, 1,2-dichloroethane and \\n dichloromethane. \\n The preferred halogenating agents are chlorinating agents \\n and of these SiCl, SnCl4, HCl, Cl, HSiCl, methyl trichlo rosilane, dimethyl dichlorosilane, t-butyl chloride, n-butyl \\n chloride, chloroform, 1,1,1-trichloroethane, 1,1,2-trichloro \\n ethane, 1,2-dichloroethane and dichloromethane are pre ferred, most preferably SiCl The amount of halogenating agent used in the step (f) of the process corresponds to the amount ranging from 0.5 to 3 moles of halogenating agent per mole of titanium, preferably \\n between 1 and 1.8 moles of halogenating agent per mole of \\n titanium. \\n The time necessary for halogenating Ti-alkoxide and optionally Mg-alkoxide varies from 0.5 hour to 5 hours, pref \\n erably from 1.5 hours to 2.5 hours. The temperature of the Solid Suspension halogenation ranges from room temperature \\n to the boiling point of the aliphatic hydrocarbon used as \\n solvent, preferably at 60° C. According to the present invention, in step (g) of the pro \\n cess, the Solid obtained in (f) is kept under higher temperature \\n that depends on the inert organic solvent used. \\n The time necessary for this thermal treatment of the solid obtained in step (f) ranges from 0.5 hour to 5 hours, preferably from 3 to 5 hours. The ideal temperature for this purpose \\n depends on the organic solvent used and it can be conducted 5 \\n 10 \\n 15 \\n 25 \\n 30 \\n 35 \\n 40 \\n 45 \\n 50 \\n 55 \\n 60 \\n 65 8 \\n from 60° C. to 120° C., preferably from 60°C. to 75°C., when hexane is used as the organic solvent. \\n At the step (h) after the thermal treatment, the solid can be separated from the Suspension, for example by settling and \\n siphoning, filtration or centrifugation, washed with an inert \\n organic solvent, preferably hexane, and then dried. The wash ing temperature can vary from room temperature to the boil \\n ing point of the aliphatic hydrocarbon used as solvent, pref erably at room temperature. \\n Optionally, the solid obtained in (h) is washed with a solu tion of organometallic compounds of the groups 1, 2, 12 or 13. \\n More specifically, in the optional step (i) the solid obtained in \\n step (h) is suspended in an inert organic solvent such as \\n hexane or heptane, and it is put in contact with one or more organometallic compounds of the groups 1, 2, 12 or 13 of the periodic table, preferably metal-alkyl compounds or metal \\n alkylhalide compounds belonging to these groups, in special \\n aluminum, magnesium, lithium and Zinc compounds. Spe cific examples of these compounds are methylaluminum \\n dichloride, methylaluminum sesquichloride, isobutylalumi \\n num dichloride, isobutylaluminum sesquichloride, ethylalu \\n minum dichloride (EADC), diethylaluminum chloride (DEAC), ethylaluminum sesquichloride (EASC), tri-n-hexy \\n laluminum (Tn-HAL), tri-n-octylaluminum (TnOAL). They \\n can be used concentrated or preferably dissolved in the above organic solvent or in a different organic solvent chosen from aliphatic hydrocarbons. The process is carried out at a tem perature ranging from room temperature to the boiling point \\n of the organic solvent used as solvent, preferably at room temperature, for a period of time that can vary from 10 min \\n utes to 24 hours, preferably from 40 minutes to 5 hours. When using more than one organometallic compound in \\n the step (i), the different compounds can be fed in the same \\n Solution or in individual Solutions, at the same time or in Subsequent additions. \\n The amount of the metal-alkyl halide compound of the groups 1, 2, 12 or 13 or metal-alkyl compound of the groups \\n 1, 2, 12 or 13, used in the step (i) of the process corresponds \\n to the amount ranging from 0 to 3 g of the corresponding metal-alkyl halide compound of the groups 1, 2, 12 or 13 or \\n metal-alkyl compound of the groups 1, 2, 12 or 13, per g of \\n dry catalyst component obtained, preferably between 0.05 and 1 g of the corresponding metal-alkylhalide compound of \\n the groups 1, 2, 12 or 13 or metal-alkyl compound of the groups 1, 2, 12 or 13, per g of dry catalyst component \\n obtained. \\n The use of inert organic solvents, most specifically ali phatic hydrocarbons, in all process steps of the present inven \\n tion brings another important feature to the Solid catalyst \\n component characteristics. The Solid catalyst component \\n obtained is completely free of residual polar solvents, such as \\n ethanol, and their derivatives in its final composition. \\n The titanium amount that remains fixed on the Solid cata \\n lyst component may reach up to 10% by weight, expressed as \\n the Timetal content, and it is preferably comprised between 0.5 and 2% by weight. \\n The magnesium amount that remains fixed on the Solid catalyst component may reach up to 6% by weight, expressed \\n as the Mg metal content, and it is preferably comprised \\n between 0.3 and 3.0% by weight. \\n The chlorine amount that remains fixed on the solid cata \\n lyst component may reach up to 20% by weight, expressed as \\n the C1 contents, and it is preferably between 5 and 12% by weight. \\n The alkoxy amount that remains fixed on the Solid catalyst component may reach up to 20% by weight and it is prefer \\n ably between 3 and 8% by weight. \n",
      "119  US20060166812            6       True            False                                                                                                                                                                                                                                                                                                                                                                                                                                                                                                                                                                                                                                                                                                                                                                                                                                                                                                                                                                                                                                                                                                                            US 2006/0166812 A1 \\n 0048 (e) optionally reacting the solid obtained in (d) with a reducing agent; \\n 0049 (f) reacting the solid obtained in (d) or (e) with a halogenating agent; \\n 0050 (g) treating thermally the solid obtained in (f); \\n 0051 (h) washing the solid obtained in (g) with an inert organic solvent; \\n 0052 (i) optionally, washing the solid obtained in (h) \\n with a solution of one or more organometallic com pounds of the groups 1, 2, 12 or 13 of the periodic table. \\n 0053. In step (a) of the process according to the present \\n invention, the preferable silica for this purpose is a micro spheroidal, porous silica having an average particle size \\n (diameter) ranging from 10 to 120 um, preferably between \\n 40 and 70 um, a SiO contents of >90% by weight, a surface area ranging from 250 to 500 m/g, preferably between 300 and 400 m/g, a pore volume ranging from 1.0 to 2.0 ml/g, preferably between 1.5 and 1.8 ml/g, and an average pore \\n diameter ranging from 10 to 40 nm, preferably between 20 \\n and 30 nm. This silica should be submitted to an activation \\n treatment before being impregnated, which can be carried out by heating the silica in an inert atmosphere, at a temperature ranging from 100 to 750° C., over a period from \\n 1 to 20 hours. The amount of remained OH on silica surface \\n after this treatment ranges from 0.1 to 2 mmoles OH per g \\n of silica, preferably between 0.5 and 1.5 mmoles OH per g \\n of silica. \\n 0054 The impregnation is preferably carried out by sus pending 10 to 20 parts by weight of silica for each 100 parts \\n by Volume of solution of organometallic compound of the groups 1, 2, 12 or 13, in aliphatic hydrocarbons, and \\n maintained under stirring at a temperature which ranges \\n from room temperature to the boiling point of the solution of organometallic compound of the groups 1, 2, 12 or 13, in aliphatic hydrocarbons, preferably at room temperature, \\n over a period from 30 to 120 minutes, preferably between 50 \\n and 60 minutes. \\n 0.055 The organometallic compounds of groups 1, 2, 12 \\n or 13 of the periodic table suitable for use in the step (a) are alkyl compounds and alkyl halide compounds of metals \\n belonging to these groups, and preferably aluminum, mag \\n nesium, lithium and Zinc compounds. Specific examples of these compounds are trimethylaluminum, triethylaluminum \\n (TEAL), methylaluminum dichloride, methylaluminum ses quichloride, isobutylaluminum dichloride, isobutylalumi \\n num sesquichloride, ethylaluminum dichloride (EADC), diethylaluminum chloride (DEAC), ethylaluminum ses \\n quichloride (EASC), tri-n-hexylaluminum (Tn-HAL), tri-n- \\n octylaluminum (TnOAL), butyl ethylmagnesium (BEM), butyl octylmagnesium (BOMAG), methylmagnesium chlo \\n ride and ethylmagnesium chloride. They can be used con \\n centrated or preferably dissolved in the above organic sol \\n vent or in a different organic solvent chosen from aliphatic hydrocarbons. \\n 0056 Specific aliphatic hydrocarbons used as solvents \\n for the above mentioned solution can have between 4 and 50 \\n carbons, preferably between 6 and 20 carbons. Specific examples of these aliphatic hydrocarbons used as solvents \\n are hexane, heptane, octane, isoparaffin, and the most pref \\n erably are hexane and heptane. Jul. 27, 2006 \\n 0057. In step (a) of the process, the impregnation step using the Solution of organometallic compound of the \\n groups 1, 2, 12 or 13, in aliphatic hydrocarbons, is carried out by using an amount of organometallic compound, rang \\n ing from 0.1 to 1 mmole of the organometallic Solution per \\n mmole of OH on the silica surface, preferably 0.3 to 0.7 mmoles of the organometallic solution per mmole of OH on \\n the silica Surface. \\n 0058 At the end of the impregnation treatment, the silica can be removed (b) from the suspension by usual methods Such as settling and siphoning, filtration or centrifugation. \\n The operating temperature of this step can vary from room temperature to the boiling point of the aliphatic hydrocarbon \\n used as solvent, preferably at room temperature. The wet \\n silica is directly used in the next step. \\n 0059. According to the present invention, in step (c) of the process, a liquid component from the reaction between at least one magnesium compound, chosen from magnesium \\n halides and magnesium alkoxides and at least one titanium \\n compound, chosen from titanium alkoxides and titanium halogen alkoxides, is prepared. Generally, it is necessary to \\n heat the mixture of these compounds, at a temperature in the \\n range of about 100° C. to about 200° C., preferably between \\n 140° C. and 160° C., over a period of time from 1 to 100 \\n hours, preferably between 10 and 30 hours. The mixture comprising said compounds has to be prepared under tur \\n bulent stirring and under inert conditions. After the forma \\n tion of the product obtained from the reaction between these compounds, which is noted by the disappearance of the Solid Suspension, the temperature of the obtained liquid product \\n can be reduced to ambient temperature without precipitation \\n of any solid. This liquid component is diluted in an inert organic solvent to form a clear Solution. Specific organic \\n solvents used for the above mentioned solution can be \\n aliphatic hydrocarbons having between 4 and 50 carbons, \\n preferably between 6 and 20 carbons. Specific examples of \\n these aliphatic hydrocarbons used as organic solvents are: \\n hexane, heptane, octane, isoparaffin, most preferably hexane and heptane. \\n 0060. The magnesium compounds suitable for the pur \\n pose of the invention are those having the formulae MgX or Mg(OR), wherein R represents a linear or branched alkyl group, containing from 1 to 10 carbons and X represents a halogen atom and preferably a chlorine atom. Specific examples of magnesium compounds are magnesium dichlo ride, magnesium diethylate, magnesium di-n-butylate, mag \\n nesium diisopropylate and magnesium diisobutylate. \\n 0061 The amount of magnesium compound used in the above preparation corresponds to the amount ranging from \\n 0.0024 to 0.24 g of magnesium per g of silica, preferably \\n between 0.0042 and 0.042 g of magnesium per g of silica. \\n 0062) The titanium compounds most suited for the pur \\n pose are alkoxides and chloroalkoxides, containing from 1 to 4 carbons in the alkoxide portion. Specific examples of these compounds are: titanium tetra-n-propylate, titanium \\n tetra-n-butylate, titanium tetra-i-propylate, titanium tetra-i- \\n butylate and the corresponding titanium mono- or di-chlo \\n roalkoxides. \\n 0063. The amount of titanium compound used in the above preparation corresponds to an amount ranging from \\n 0.01 to 1 g of titanium per g of silica, preferably between \\n 0.0175 and 0.175 g of titanium per g of silica. \n",
      "120  US20060166812            7       True            False                                                                                                                                                                                                                                                                                                                                                                                                                                                                                                                                                                                                                                                                                                                                                                                                                                                                                                      US 2006/0166812 A1 \\n 0064. In general, when preparing the solution of the step \\n (c), titanium is used in Such an amount that the molar ratio Ti/Mg varies within the range of 0.3 to 4, and preferably \\n within the range of 0.5 to 2. \\n 0065. In step (d) the silica obtained on step (b) is sus pended in an inert organic solvent, Such as a hydrocarbon \\n solvent of the aliphatic type, preferably the same used in the previous steps and the dissolved product prepared on Step (c) \\n is added to the Suspension. The impregnation is carried out by Suspending 100 parts by weight of silica, obtained on step \\n (b), for each 5 to 200 parts by volume of the component \\n prepared on Step (c) and after dilution in the inert organic \\n Solvent. The Suspension is maintained under stirring at a temperature that ranges from room temperature to the boil \\n ing point of the mixture, preferably at 60° C., over a period \\n of time from 30 to 180 minutes, preferably between 50 and 60 minutes. In this way a solid component Suspended in an \\n inert organic solvent is obtained. \\n 0066. Optionally the solid component obtained in step (d) \\n can be submitted to reducing conditions in a step (e). Said result is obtained, for example, by using reducing agents, Such as Na-alkyls, Li-alkyls, Zn-alkyls, Mg-alkyls and cor responding aryl-derivatives, Grignard compounds of the \\n type RMgX, wherein R represents a linear or branched alkyl group, containing from 1 to 10 carbons or aryl-derivatives \\n and X represents a halogen atom and preferably a chlorine atom, Al-alkyl halide compounds or by using reducing \\n agents such as silicon compounds. Particularly effective silicone compounds are the polymethylhydrosiloxanes in \\n which the monomer unit has the general formula HSiR O— wherein R is H. halogen, alkyl with I to 10 carbon \\n atoms, aryl with 6 to 10 carbon atoms, alkoxyl with 1 to 10 \\n carbon atoms, aryloxyl with 6 to 10 carbon atoms or carboxyl wit 1 to 10 carbon atoms, and n is a degree of polymerization that ranges between 5 and 100. Specific examples of such polymethylhydrosiloxanes (PMHS) \\n include the compounds: (CH)SiO (CH)HSiO— \\n Si(CH), wherein in varies from 1 to 35, (CHHSiO), (CHHSiO), HSi-O-SiHOSiFH, phenylhydropolysi \\n loxanes in which the hydrogen atoms can be partially replaced by methyl groups. \\n 0067. Other silicon compounds useful as reducing agents \\n in the practice of this invention are: silanes (SiH, in which m is a number equal to or higher than 1), alkyl-silanes \\n or aryl-silanes (RSiH, in which R is alkyl or aryl and X is a number varying from 1 to 3) and alkoxy-silanes or aryloxy-silanes (ROSiRI, in which R is alkyl or aryland \\n X is a number varying from 1 to 3). \\n 0068 The reducing agent chosen from the above examples, preferably polymethylhydrosiloxanes (PMHS), is \\n added to the solid obtained in the step (d), dissolved pref erably in the same inert organic solvent used for the reaction Suspension. This addition is carried out slowly over a period \\n of time from 30 to 180 minutes, preferably between 50 and \\n 80 minutes and the Solid Suspension is maintained under stirring at a temperature ranging from room temperature to \\n the boiling point of the aliphatic hydrocarbon used as \\n solvent, preferably at 60° C. \\n 0069. The amount of reducing agent that can be used in step (e) corresponds to the amount ranging from 0 to 2 moles \\n per mole of titanium, preferably between 0 and 0.1 mole per \\n mole of titanium. It has been observed, in the experiments, Jul. 27, 2006 \\n that the quantity used of this reducing agent can control the \\n amount of titanium fixed on silica at the final catalyst. \\n 0070. In the next step of the process according to the \\n present invention, the Suspension obtained in (d) or (e), \\n which is still under stirring, is put in contact and interacted with one or more halogenating agents. \\n 0071 Halogenating agents useful in the practice of the \\n present invention can be either liquid or gaseous materials, \\n pure or preferably dissolved in an inert organic solvent. Representative but non-exhaustive examples of halogenat \\n ing agents useful in the present invention are methylalumi num dichloride, methylaluminum sesquichloride, isobutyla \\n luminum dichloride, isobutylaluminum sesquichloride, \\n ethylaluminum dichloride (EADC), diethylaluminum chlo \\n ride (DEAC), ethylaluminum sesquichloride (EASC), SiCl, \\n SnCl4, HCl, Cl, HSiCl, aluminum chloride, ethylboron dichloride, boron chloride, diethylboron chloride, HCC1, PCls, POCl, acetyl chlorides, thionyl chloride, sulfur chlo \\n ride, methyl trichlorosilane, dimethyl dichlorosilane, TiCl, \\n VC1, CC1, t-butyl chloride, n-butyl chloride, chloroform, \\n 1,1,1-trichloroethane, 1,1,2-trichloroethane, 1,2-dichloroet \\n hane and dichloromethane. \\n 0072 The preferred halogenating agents are chlorinating \\n agents and of these SiCl, SnCl4, HCl, Cl, HSiCl, methyl \\n trichlorosilane, dimethyl dichlorosilane, t-butyl chloride, \\n n-butyl chloride, chloroform, 1,1,1-trichloroethane, 1,1,2- \\n trichloroethane, 1,2-dichloroethane and dichloromethane are preferred, most preferably SiCla. \\n 0073. The amount of halogenating agent used in the step (e of the process corresponds to the amount ranging from 0.5 \\n to 3 moles of halogenating agent per mole of titanium, \\n preferably between 1 and 1.8 moles of halogenating agent \\n per mole of titanium. \\n 0074 The time necessary for halogenating Ti-alkoxide \\n and optionally Mg-alkoxide varies from 0.5 hour to 5 hours, \\n preferably from 1.5 hours to 2.5 hours. The temperature of the Solid Suspension halogenation ranges from room tem perature to the boiling point of the aliphatic hydrocarbon \\n used as solvent, preferably at 60° C. \\n 0075 According to the present invention, in step (g) of \\n the process, the solid obtained in (f) is kept under higher temperature that depends on the inert organic solvent used. \\n 0076. The time necessary for this thermal treatment of the \\n solid obtained in step (f) ranges from 0.5 hour to 5 hours, preferably from 3 to 5 hours. The ideal temperature for this \\n purpose depends on the organic solvent used and it can be \\n conducted from 60° C. to 120° C., preferably from 60° C. to \\n 75° C., when hexane is used as the organic solvent. \\n 0077. At the step (h) after the thermal treatment, the solid can be separated from the Suspension, for example by \\n settling and siphoning, filtration or centrifugation, washed \\n with an inert organic solvent, preferably hexane, and then dried. The washing temperature can vary from room tem perature to the boiling point of the aliphatic hydrocarbon \\n used as solvent, preferably at room temperature. \\n 0078. Optionally, the solid obtained in (h) is washed with a solution of organometallic compounds of the groups 1, 2, \\n 12 or 13. More specifically, in the optional step (i) the solid \\n obtained in step (h) is suspended in an inert organic solvent \\n Such as hexane or heptane, and it is put in contact with one \n",
      "\n",
      "Total disagreements: 11\n"
     ]
    }
   ],
   "source": [
    "# Find disagreements between model and human labels\n",
    "disagreements = merged_df[merged_df['1st_token'] != merged_df['is_exp_by_human']]\n",
    "\n",
    "# Display results with relevant columns\n",
    "print(\"Rows where model and human disagree:\")\n",
    "print(disagreements[['file_name', 'page_number', '1st_token', 'is_exp_by_human', 'text']].to_string())\n",
    "print(f\"\\nTotal disagreements: {len(disagreements)}\")"
   ]
  },
  {
   "cell_type": "markdown",
   "metadata": {},
   "source": [
    "# Chunk size is 1000"
   ]
  },
  {
   "cell_type": "code",
   "execution_count": 16,
   "metadata": {},
   "outputs": [],
   "source": [
    "def analyze_file_chunk(file_path: str) -> Tuple[str, str]:\n",
    "\n",
    "    results=[]\n",
    "    file_name = os.path.basename(file_path)\n",
    "    absolute_path = os.path.abspath(file_path)\n",
    "    CLASSIFICATION_PROMPT = \"\"\"\n",
    "You are analyzing a chemical patent about olefin polymerization catalysts. Check if this page contains EXPERIMENTAL DATA.\n",
    "\n",
    "PATENT SECTIONS:\n",
    "1. EXPERIMENTAL Sections (answer YES):\n",
    "   - \"EXAMPLES\"\n",
    "   - \"COMPARATIVE EXAMPLES\" \n",
    "   - \"WORKING EXAMPLES\"\n",
    "   - \"PREPARATION EXAMPLES\"\n",
    "   - \"POLYMERIZATION EXAMPLES\"\n",
    "   - \"TABLES\"\n",
    "\n",
    "2. NON-EXPERIMENTAL Sections (answer NO):\n",
    "   - \"TECHNICAL FIELD\"\n",
    "   - \"BACKGROUND ART\"\n",
    "   - \"CLAIMS\"\n",
    "   - \"ABSTRACT\"\n",
    "\n",
    "ANSWER YES IF YOU SEE:\n",
    "1. ANY part of experimental procedures (including continued from previous page):\n",
    "   - Beginning: \"The catalyst was prepared by mixing...\"\n",
    "   - Middle: \"...was stirred for 2h at 80°C...\"\n",
    "   - End: \"...yielding 5.2g of product\"\n",
    "   - Table parts (even incomplete)\n",
    "   - Continued analytical data\n",
    "\n",
    "2. Detailed procedures, like:\n",
    "   \"The catalyst was prepared by mixing...\"\n",
    "   \"Polymerization was carried out...\"\n",
    "   \"To a flask was added...\"\n",
    "   \"The mixture was stirred at...\"\n",
    "   \"Table №1\"\n",
    "\n",
    "3. ANY measurements:\n",
    "   Masses: \"5.2 g\", \"10 mg\", \"2.5 wt%\"\n",
    "   Volumes: \"100 ml\", \"50 μL\"\n",
    "   Temperatures: \"25°C\", \"80 °C\"\n",
    "   Times: \"2 h\", \"30 min\"\n",
    "   Pressures: \"5 bar\", \"0.5 MPa\"\n",
    "\n",
    "4. Results tables with ANY numbers\n",
    "\n",
    "ANSWER NO IF PAGE ONLY HAS:\n",
    "- General descriptions without procedures\n",
    "- Lists of compounds without quantities\n",
    "- Patent claims\n",
    "- Theoretical explanations\n",
    "\n",
    "CRITICAL RULES:\n",
    "1. Even PARTIAL experimental data makes the page experimental (YES)\n",
    "2. Beginning, middle, or end of procedures count as experimental\n",
    "3. Continued tables from previous pages count as experimental\n",
    "4. Look for procedure descriptions with measurements first!\n",
    "\n",
    "Answer ONLY \"YES\" or \"NO\"\n",
    "\n",
    "Analyze this text: {text}\"\"\"\n",
    "\n",
    " # Initialize text splitter\n",
    "    text_splitter = RecursiveCharacterTextSplitter(\n",
    "        chunk_size=1000,\n",
    "        chunk_overlap=0,\n",
    "        length_function=len,\n",
    "        separators=[\"\\n\\n\", \"\\n\", \" \", \"\"]\n",
    "    )\n",
    "\n",
    "\n",
    "    with open(file_path, \"rb\") as f:\n",
    "        reader = PdfReader(f).pages\n",
    "        text = []\n",
    "        for page in reader:\n",
    "            text.append(page.extract_text())\n",
    "    \n",
    "    for i, page in enumerate(text):\n",
    "        print(f\"\\nHeadline: {page[:200]}\")\n",
    "        \n",
    "        # Check if page is empty or contains only whitespace\n",
    "        if not page.strip():\n",
    "            top_two_logprobs = [\n",
    "                SimpleNamespace(token=\"NO\", logprob=0.0),\n",
    "                SimpleNamespace(token=\"YES\", logprob=float('-inf'))\n",
    "            ]\n",
    "        else:\n",
    "            # Split page into chunks using LangChain\n",
    "            chunks = text_splitter.split_text(page)\n",
    "            chunk_responses = []\n",
    "            \n",
    "            # Analyze each chunk\n",
    "            for chunk in chunks:\n",
    "                chunk_response = get_completion(\n",
    "                    [{\"role\": \"user\", \"content\": CLASSIFICATION_PROMPT.format(text=chunk)}],\n",
    "                    model=\"gpt-4o-mini\",\n",
    "                    logprobs=True,\n",
    "                    top_logprobs=2,\n",
    "                    max_tokens=1,\n",
    "                    temperature=0,\n",
    "                )\n",
    "                chunk_responses.append(chunk_response.choices[0].logprobs.content[0].top_logprobs)\n",
    "        final_decision = \"YES\" if any(\n",
    "                response[0].token == \"YES\" for response in chunk_responses\n",
    "            ) else \"NO\"   \n",
    "\n",
    "\n",
    "\n",
    "        results.append({\n",
    "                            'file_name': file_name,\n",
    "                            'file_path': absolute_path,\n",
    "                            'page_number': i+1,\n",
    "                            'chunk_based_analysis': final_decision,\n",
    "                            'text': page\n",
    "                        })\n",
    "\n",
    "    df = pd.DataFrame(results)\n",
    "    df.to_csv(f\"/home/anatoly_kayda/Desktop/mipt/kayda_thesis/output_chunk_is_1000/{file_name}_parsed.csv\")\n",
    "    return df\n"
   ]
  },
  {
   "cell_type": "code",
   "execution_count": 17,
   "metadata": {},
   "outputs": [
    {
     "name": "stdout",
     "output_type": "stream",
     "text": [
      "\n",
      "Headline: USOO6617405B1 \n",
      " (12) United States Patent (10) Patent No.: US 6,617,405 B1 \n",
      " Jorgensen (45) Date of Patent: Sep. 9, 2003 \n",
      " (54) PROCESS FOR THE PREPARATION OF 5,601,472 A 2/1997 Parker ...............\n"
     ]
    },
    {
     "name": "stderr",
     "output_type": "stream",
     "text": [
      "2025-03-17 20:45:46,857 - INFO - HTTP Request: POST https://api.openai.com/v1/chat/completions \"HTTP/1.1 200 OK\"\n",
      "2025-03-17 20:45:47,472 - INFO - HTTP Request: POST https://api.openai.com/v1/chat/completions \"HTTP/1.1 200 OK\"\n",
      "2025-03-17 20:45:48,178 - INFO - HTTP Request: POST https://api.openai.com/v1/chat/completions \"HTTP/1.1 200 OK\"\n"
     ]
    },
    {
     "name": "stdout",
     "output_type": "stream",
     "text": [
      "\n",
      "Headline: US 6,617.405 B1 \n",
      " 1 \n",
      " PROCESS FOR THE PREPARATION OF \n",
      " POLYETHYLENE \n",
      " TECHNICAL FIELD \n",
      " This invention relates to a proceSS for the preparation of \n",
      " polyethylene with a focus on catalyst activation. \n",
      "\n"
     ]
    },
    {
     "name": "stderr",
     "output_type": "stream",
     "text": [
      "2025-03-17 20:45:48,802 - INFO - HTTP Request: POST https://api.openai.com/v1/chat/completions \"HTTP/1.1 200 OK\"\n",
      "2025-03-17 20:45:50,365 - INFO - HTTP Request: POST https://api.openai.com/v1/chat/completions \"HTTP/1.1 200 OK\"\n",
      "2025-03-17 20:45:50,904 - INFO - HTTP Request: POST https://api.openai.com/v1/chat/completions \"HTTP/1.1 200 OK\"\n",
      "2025-03-17 20:45:51,405 - INFO - HTTP Request: POST https://api.openai.com/v1/chat/completions \"HTTP/1.1 200 OK\"\n",
      "2025-03-17 20:45:52,175 - INFO - HTTP Request: POST https://api.openai.com/v1/chat/completions \"HTTP/1.1 200 OK\"\n",
      "2025-03-17 20:45:53,053 - INFO - HTTP Request: POST https://api.openai.com/v1/chat/completions \"HTTP/1.1 200 OK\"\n",
      "2025-03-17 20:45:53,621 - INFO - HTTP Request: POST https://api.openai.com/v1/chat/completions \"HTTP/1.1 200 OK\"\n",
      "2025-03-17 20:45:54,262 - INFO - HTTP Request: POST https://api.openai.com/v1/chat/completions \"HTTP/1.1 200 OK\"\n"
     ]
    },
    {
     "name": "stdout",
     "output_type": "stream",
     "text": [
      "\n",
      "Headline: US 6,617.405 B1 \n",
      " 3 \n",
      " DISCLOSURE OF THE INVENTION \n",
      " An object of this invention, therefore, is to provide a proceSS for preparing polyethylene, which overcomes the \n",
      " deficiencies associated with Separ\n"
     ]
    },
    {
     "name": "stderr",
     "output_type": "stream",
     "text": [
      "2025-03-17 20:45:54,948 - INFO - HTTP Request: POST https://api.openai.com/v1/chat/completions \"HTTP/1.1 200 OK\"\n",
      "2025-03-17 20:45:55,602 - INFO - HTTP Request: POST https://api.openai.com/v1/chat/completions \"HTTP/1.1 200 OK\"\n",
      "2025-03-17 20:45:56,232 - INFO - HTTP Request: POST https://api.openai.com/v1/chat/completions \"HTTP/1.1 200 OK\"\n",
      "2025-03-17 20:45:56,802 - INFO - HTTP Request: POST https://api.openai.com/v1/chat/completions \"HTTP/1.1 200 OK\"\n",
      "2025-03-17 20:45:57,603 - INFO - HTTP Request: POST https://api.openai.com/v1/chat/completions \"HTTP/1.1 200 OK\"\n",
      "2025-03-17 20:45:58,224 - INFO - HTTP Request: POST https://api.openai.com/v1/chat/completions \"HTTP/1.1 200 OK\"\n",
      "2025-03-17 20:45:58,741 - INFO - HTTP Request: POST https://api.openai.com/v1/chat/completions \"HTTP/1.1 200 OK\"\n",
      "2025-03-17 20:46:02,114 - INFO - HTTP Request: POST https://api.openai.com/v1/chat/completions \"HTTP/1.1 200 OK\"\n"
     ]
    },
    {
     "name": "stdout",
     "output_type": "stream",
     "text": [
      "\n",
      "Headline: US 6,617.405 B1 \n",
      " S \n",
      " aluminum, tri-n-hexyl aluminum, dimethyl aluminum chloride, and tri-n-octyl aluminum. Particularly preferred \n",
      " activators are: a Sequential mixture of tri-n-hexylaluminum \n",
      " and d\n"
     ]
    },
    {
     "name": "stderr",
     "output_type": "stream",
     "text": [
      "2025-03-17 20:46:02,856 - INFO - HTTP Request: POST https://api.openai.com/v1/chat/completions \"HTTP/1.1 200 OK\"\n",
      "2025-03-17 20:46:03,597 - INFO - HTTP Request: POST https://api.openai.com/v1/chat/completions \"HTTP/1.1 200 OK\"\n",
      "2025-03-17 20:46:04,259 - INFO - HTTP Request: POST https://api.openai.com/v1/chat/completions \"HTTP/1.1 200 OK\"\n",
      "2025-03-17 20:46:04,788 - INFO - HTTP Request: POST https://api.openai.com/v1/chat/completions \"HTTP/1.1 200 OK\"\n",
      "2025-03-17 20:46:05,512 - INFO - HTTP Request: POST https://api.openai.com/v1/chat/completions \"HTTP/1.1 200 OK\"\n",
      "2025-03-17 20:46:06,180 - INFO - HTTP Request: POST https://api.openai.com/v1/chat/completions \"HTTP/1.1 200 OK\"\n",
      "2025-03-17 20:46:06,790 - INFO - HTTP Request: POST https://api.openai.com/v1/chat/completions \"HTTP/1.1 200 OK\"\n",
      "2025-03-17 20:46:07,839 - INFO - HTTP Request: POST https://api.openai.com/v1/chat/completions \"HTTP/1.1 200 OK\"\n",
      "2025-03-17 20:46:08,332 - INFO - HTTP Request: POST https://api.openai.com/v1/chat/completions \"HTTP/1.1 200 OK\"\n"
     ]
    },
    {
     "name": "stdout",
     "output_type": "stream",
     "text": [
      "\n",
      "Headline: US 6,617.405 B1 \n",
      " 7 \n",
      " bottom of the residence time pot. The impeller promotes Some radial mixing, but mainly assures that the bottom Section of the residence time pot does not experience SuS pended so\n"
     ]
    },
    {
     "name": "stderr",
     "output_type": "stream",
     "text": [
      "2025-03-17 20:46:08,878 - INFO - HTTP Request: POST https://api.openai.com/v1/chat/completions \"HTTP/1.1 200 OK\"\n",
      "2025-03-17 20:46:09,465 - INFO - HTTP Request: POST https://api.openai.com/v1/chat/completions \"HTTP/1.1 200 OK\"\n",
      "2025-03-17 20:46:10,102 - INFO - HTTP Request: POST https://api.openai.com/v1/chat/completions \"HTTP/1.1 200 OK\"\n",
      "2025-03-17 20:46:10,819 - INFO - HTTP Request: POST https://api.openai.com/v1/chat/completions \"HTTP/1.1 200 OK\"\n",
      "2025-03-17 20:46:11,331 - INFO - HTTP Request: POST https://api.openai.com/v1/chat/completions \"HTTP/1.1 200 OK\"\n",
      "2025-03-17 20:46:11,960 - INFO - HTTP Request: POST https://api.openai.com/v1/chat/completions \"HTTP/1.1 200 OK\"\n",
      "2025-03-17 20:46:12,969 - INFO - HTTP Request: POST https://api.openai.com/v1/chat/completions \"HTTP/1.1 200 OK\"\n",
      "2025-03-17 20:46:13,685 - INFO - HTTP Request: POST https://api.openai.com/v1/chat/completions \"HTTP/1.1 200 OK\"\n",
      "2025-03-17 20:46:14,607 - INFO - HTTP Request: POST https://api.openai.com/v1/chat/completions \"HTTP/1.1 200 OK\"\n"
     ]
    },
    {
     "name": "stdout",
     "output_type": "stream",
     "text": [
      "\n",
      "Headline: US 6,617.405 B1 \n",
      " 9 \n",
      " in the range of about 10 to about 150 psig, and is preferably \n",
      " in the range of about >20 to about 120 psig. The balance of the total pressure is provided by alpha-olefin (if use\n"
     ]
    },
    {
     "name": "stderr",
     "output_type": "stream",
     "text": [
      "2025-03-17 20:46:15,118 - INFO - HTTP Request: POST https://api.openai.com/v1/chat/completions \"HTTP/1.1 200 OK\"\n",
      "2025-03-17 20:46:15,900 - INFO - HTTP Request: POST https://api.openai.com/v1/chat/completions \"HTTP/1.1 200 OK\"\n",
      "2025-03-17 20:46:16,539 - INFO - HTTP Request: POST https://api.openai.com/v1/chat/completions \"HTTP/1.1 200 OK\"\n",
      "2025-03-17 20:46:17,347 - INFO - HTTP Request: POST https://api.openai.com/v1/chat/completions \"HTTP/1.1 200 OK\"\n",
      "2025-03-17 20:46:17,986 - INFO - HTTP Request: POST https://api.openai.com/v1/chat/completions \"HTTP/1.1 200 OK\"\n",
      "2025-03-17 20:46:18,470 - INFO - HTTP Request: POST https://api.openai.com/v1/chat/completions \"HTTP/1.1 200 OK\"\n",
      "2025-03-17 20:46:19,107 - INFO - HTTP Request: POST https://api.openai.com/v1/chat/completions \"HTTP/1.1 200 OK\"\n",
      "2025-03-17 20:46:19,783 - INFO - HTTP Request: POST https://api.openai.com/v1/chat/completions \"HTTP/1.1 200 OK\"\n"
     ]
    },
    {
     "name": "stdout",
     "output_type": "stream",
     "text": [
      "\n",
      "Headline: US 6,617.405 B1 \n",
      " 11 \n",
      " fashion over a larger range of polymer MFR (melt flow ratio), hexane extractables, and polymer bulk density. The Smaller reaction System is used illustratively to avoid experi \n",
      "\n"
     ]
    },
    {
     "name": "stderr",
     "output_type": "stream",
     "text": [
      "2025-03-17 20:46:20,345 - INFO - HTTP Request: POST https://api.openai.com/v1/chat/completions \"HTTP/1.1 200 OK\"\n",
      "2025-03-17 20:46:21,178 - INFO - HTTP Request: POST https://api.openai.com/v1/chat/completions \"HTTP/1.1 200 OK\"\n",
      "2025-03-17 20:46:21,846 - INFO - HTTP Request: POST https://api.openai.com/v1/chat/completions \"HTTP/1.1 200 OK\"\n",
      "2025-03-17 20:46:22,459 - INFO - HTTP Request: POST https://api.openai.com/v1/chat/completions \"HTTP/1.1 200 OK\"\n",
      "2025-03-17 20:46:23,009 - INFO - HTTP Request: POST https://api.openai.com/v1/chat/completions \"HTTP/1.1 200 OK\"\n",
      "2025-03-17 20:46:23,531 - INFO - HTTP Request: POST https://api.openai.com/v1/chat/completions \"HTTP/1.1 200 OK\"\n",
      "2025-03-17 20:46:24,333 - INFO - HTTP Request: POST https://api.openai.com/v1/chat/completions \"HTTP/1.1 200 OK\"\n"
     ]
    },
    {
     "name": "stdout",
     "output_type": "stream",
     "text": [
      "\n",
      "Headline: US 6,617.405 B1 \n",
      " 13 \n",
      " TABLE II \n",
      " RESIN PROPERTIES 1. 2 3 4 \n",
      " Melt Index, I2 (dg/min) 1.12 1.07 O.90 1.08 \n",
      " Density (g/cm3) 91.95 91.82 91.85 91.90 \n",
      " MFR 26.2 26.O 26.O 24.9 \n",
      " Residual Al (ppm) 32 41 \n"
     ]
    },
    {
     "name": "stderr",
     "output_type": "stream",
     "text": [
      "2025-03-17 20:46:24,894 - INFO - HTTP Request: POST https://api.openai.com/v1/chat/completions \"HTTP/1.1 200 OK\"\n",
      "2025-03-17 20:46:25,647 - INFO - HTTP Request: POST https://api.openai.com/v1/chat/completions \"HTTP/1.1 200 OK\"\n",
      "2025-03-17 20:46:26,206 - INFO - HTTP Request: POST https://api.openai.com/v1/chat/completions \"HTTP/1.1 200 OK\"\n",
      "2025-03-17 20:46:26,802 - INFO - HTTP Request: POST https://api.openai.com/v1/chat/completions \"HTTP/1.1 200 OK\"\n",
      "2025-03-17 20:46:27,432 - INFO - HTTP Request: POST https://api.openai.com/v1/chat/completions \"HTTP/1.1 200 OK\"\n"
     ]
    },
    {
     "name": "stdout",
     "output_type": "stream",
     "text": [
      "\n",
      "Headline: US 6,617.405 B1 \n",
      " TABLE IV-continued TABLE VI(B)-continued \n",
      " Examples Comparative Examples \n",
      " RESIN PROPERTIES 5 6 7 8 9 S RESIN PROPERTIES 5 6 7 8 \n",
      " APS (inches) O17 O18 O17 O18 O18 Added Activator/ED\n"
     ]
    },
    {
     "name": "stderr",
     "output_type": "stream",
     "text": [
      "2025-03-17 20:46:28,125 - INFO - HTTP Request: POST https://api.openai.com/v1/chat/completions \"HTTP/1.1 200 OK\"\n",
      "2025-03-17 20:46:28,683 - INFO - HTTP Request: POST https://api.openai.com/v1/chat/completions \"HTTP/1.1 200 OK\"\n",
      "2025-03-17 20:46:29,319 - INFO - HTTP Request: POST https://api.openai.com/v1/chat/completions \"HTTP/1.1 200 OK\"\n",
      "2025-03-17 20:46:29,864 - INFO - HTTP Request: POST https://api.openai.com/v1/chat/completions \"HTTP/1.1 200 OK\"\n"
     ]
    },
    {
     "name": "stdout",
     "output_type": "stream",
     "text": [
      "\n",
      "Headline: US 6,617.405 B1 \n",
      " 17 \n",
      " aliphatic hydrocarbon radical having 1 to 14 carbon \n",
      " atoms, each X is independently chlorine, bromine, or \n",
      " iodine, and n is 1 to 3; and \n",
      " (iv) no additional activator is intro\n"
     ]
    },
    {
     "name": "stderr",
     "output_type": "stream",
     "text": [
      "2025-03-17 20:46:30,604 - INFO - HTTP Request: POST https://api.openai.com/v1/chat/completions \"HTTP/1.1 200 OK\"\n",
      "2025-03-17 20:46:31,354 - INFO - HTTP Request: POST https://api.openai.com/v1/chat/completions \"HTTP/1.1 200 OK\"\n"
     ]
    },
    {
     "name": "stdout",
     "output_type": "stream",
     "text": [
      "\n",
      "Headline: USOO6248831B1 \n",
      " (12) United States Patent (10) Patent No.: US 6,248,831 B1 \n",
      " Maheshwari et al. (45) Date of Patent: Jun. 19, 2001 \n",
      " (54) HIGH STRENGTH POLYETHYLENE FILM (56) References Cited \n",
      " (75) In\n"
     ]
    },
    {
     "name": "stderr",
     "output_type": "stream",
     "text": [
      "2025-03-17 20:46:32,735 - INFO - HTTP Request: POST https://api.openai.com/v1/chat/completions \"HTTP/1.1 200 OK\"\n",
      "2025-03-17 20:46:33,346 - INFO - HTTP Request: POST https://api.openai.com/v1/chat/completions \"HTTP/1.1 200 OK\"\n"
     ]
    },
    {
     "name": "stdout",
     "output_type": "stream",
     "text": [
      "\n",
      "Headline: US 6,248,831 B1 \n",
      " 1 \n",
      " HIGH STRENGTH POLYETHYLENE FILM \n",
      " TECHNICAL FIELD \n",
      " This invention relates to a process for preparing an in Situ polyethylene blend, which can be converted into film having an im\n"
     ]
    },
    {
     "name": "stderr",
     "output_type": "stream",
     "text": [
      "2025-03-17 20:46:34,063 - INFO - HTTP Request: POST https://api.openai.com/v1/chat/completions \"HTTP/1.1 200 OK\"\n",
      "2025-03-17 20:46:34,821 - INFO - HTTP Request: POST https://api.openai.com/v1/chat/completions \"HTTP/1.1 200 OK\"\n",
      "2025-03-17 20:46:35,435 - INFO - HTTP Request: POST https://api.openai.com/v1/chat/completions \"HTTP/1.1 200 OK\"\n",
      "2025-03-17 20:46:36,213 - INFO - HTTP Request: POST https://api.openai.com/v1/chat/completions \"HTTP/1.1 200 OK\"\n",
      "2025-03-17 20:46:36,827 - INFO - HTTP Request: POST https://api.openai.com/v1/chat/completions \"HTTP/1.1 200 OK\"\n",
      "2025-03-17 20:46:37,338 - INFO - HTTP Request: POST https://api.openai.com/v1/chat/completions \"HTTP/1.1 200 OK\"\n",
      "2025-03-17 20:46:37,894 - INFO - HTTP Request: POST https://api.openai.com/v1/chat/completions \"HTTP/1.1 200 OK\"\n",
      "2025-03-17 20:46:38,399 - INFO - HTTP Request: POST https://api.openai.com/v1/chat/completions \"HTTP/1.1 200 OK\"\n",
      "2025-03-17 20:46:39,178 - INFO - HTTP Request: POST https://api.openai.com/v1/chat/completions \"HTTP/1.1 200 OK\"\n"
     ]
    },
    {
     "name": "stdout",
     "output_type": "stream",
     "text": [
      "\n",
      "Headline: US 6,248,831 B1 \n",
      " 3 \n",
      " Strength, particularly in terms of dart drop. Other objects and \n",
      " advantages will become apparent hereinafter. \n",
      " According to the present invention Such a proceSS for the \n",
      " produ\n"
     ]
    },
    {
     "name": "stderr",
     "output_type": "stream",
     "text": [
      "2025-03-17 20:46:40,207 - INFO - HTTP Request: POST https://api.openai.com/v1/chat/completions \"HTTP/1.1 200 OK\"\n",
      "2025-03-17 20:46:40,762 - INFO - HTTP Request: POST https://api.openai.com/v1/chat/completions \"HTTP/1.1 200 OK\"\n",
      "2025-03-17 20:46:41,253 - INFO - HTTP Request: POST https://api.openai.com/v1/chat/completions \"HTTP/1.1 200 OK\"\n",
      "2025-03-17 20:46:42,025 - INFO - HTTP Request: POST https://api.openai.com/v1/chat/completions \"HTTP/1.1 200 OK\"\n",
      "2025-03-17 20:46:42,761 - INFO - HTTP Request: POST https://api.openai.com/v1/chat/completions \"HTTP/1.1 200 OK\"\n",
      "2025-03-17 20:46:43,267 - INFO - HTTP Request: POST https://api.openai.com/v1/chat/completions \"HTTP/1.1 200 OK\"\n",
      "2025-03-17 20:46:44,014 - INFO - HTTP Request: POST https://api.openai.com/v1/chat/completions \"HTTP/1.1 200 OK\"\n",
      "2025-03-17 20:46:44,507 - INFO - HTTP Request: POST https://api.openai.com/v1/chat/completions \"HTTP/1.1 200 OK\"\n"
     ]
    },
    {
     "name": "stdout",
     "output_type": "stream",
     "text": [
      "\n",
      "Headline: US 6,248,831 B1 \n",
      " S \n",
      " Sometimes, e.g., with high density polyethylene, the bubble \n",
      " looks like a cylindrical Semi-molten tube with a diameter approximately equal to the ring diameter before being blow\n"
     ]
    },
    {
     "name": "stderr",
     "output_type": "stream",
     "text": [
      "2025-03-17 20:46:45,020 - INFO - HTTP Request: POST https://api.openai.com/v1/chat/completions \"HTTP/1.1 200 OK\"\n",
      "2025-03-17 20:46:45,505 - INFO - HTTP Request: POST https://api.openai.com/v1/chat/completions \"HTTP/1.1 200 OK\"\n",
      "2025-03-17 20:46:46,050 - INFO - HTTP Request: POST https://api.openai.com/v1/chat/completions \"HTTP/1.1 200 OK\"\n",
      "2025-03-17 20:46:46,579 - INFO - HTTP Request: POST https://api.openai.com/v1/chat/completions \"HTTP/1.1 200 OK\"\n",
      "2025-03-17 20:46:47,110 - INFO - HTTP Request: POST https://api.openai.com/v1/chat/completions \"HTTP/1.1 200 OK\"\n",
      "2025-03-17 20:46:47,704 - INFO - HTTP Request: POST https://api.openai.com/v1/chat/completions \"HTTP/1.1 200 OK\"\n",
      "2025-03-17 20:46:48,393 - INFO - HTTP Request: POST https://api.openai.com/v1/chat/completions \"HTTP/1.1 200 OK\"\n",
      "2025-03-17 20:46:49,115 - INFO - HTTP Request: POST https://api.openai.com/v1/chat/completions \"HTTP/1.1 200 OK\"\n",
      "2025-03-17 20:46:49,592 - INFO - HTTP Request: POST https://api.openai.com/v1/chat/completions \"HTTP/1.1 200 OK\"\n",
      "2025-03-17 20:46:50,200 - INFO - HTTP Request: POST https://api.openai.com/v1/chat/completions \"HTTP/1.1 200 OK\"\n"
     ]
    },
    {
     "name": "stdout",
     "output_type": "stream",
     "text": [
      "\n",
      "Headline: US 6,248,831 B1 \n",
      " 7 \n",
      " interconnecting device using nitrogen or Second reactor recycle gas as a transfer medium. \n",
      " In the high molecular weight (HMW) reactor: \n",
      " Because of the low values, instead of me\n"
     ]
    },
    {
     "name": "stderr",
     "output_type": "stream",
     "text": [
      "2025-03-17 20:46:51,039 - INFO - HTTP Request: POST https://api.openai.com/v1/chat/completions \"HTTP/1.1 200 OK\"\n",
      "2025-03-17 20:46:51,675 - INFO - HTTP Request: POST https://api.openai.com/v1/chat/completions \"HTTP/1.1 200 OK\"\n",
      "2025-03-17 20:46:52,392 - INFO - HTTP Request: POST https://api.openai.com/v1/chat/completions \"HTTP/1.1 200 OK\"\n",
      "2025-03-17 20:46:52,932 - INFO - HTTP Request: POST https://api.openai.com/v1/chat/completions \"HTTP/1.1 200 OK\"\n",
      "2025-03-17 20:46:53,435 - INFO - HTTP Request: POST https://api.openai.com/v1/chat/completions \"HTTP/1.1 200 OK\"\n",
      "2025-03-17 20:46:53,963 - INFO - HTTP Request: POST https://api.openai.com/v1/chat/completions \"HTTP/1.1 200 OK\"\n",
      "2025-03-17 20:46:54,544 - INFO - HTTP Request: POST https://api.openai.com/v1/chat/completions \"HTTP/1.1 200 OK\"\n",
      "2025-03-17 20:46:55,168 - INFO - HTTP Request: POST https://api.openai.com/v1/chat/completions \"HTTP/1.1 200 OK\"\n",
      "2025-03-17 20:46:55,751 - INFO - HTTP Request: POST https://api.openai.com/v1/chat/completions \"HTTP/1.1 200 OK\"\n",
      "2025-03-17 20:46:56,488 - INFO - HTTP Request: POST https://api.openai.com/v1/chat/completions \"HTTP/1.1 200 OK\"\n"
     ]
    },
    {
     "name": "stdout",
     "output_type": "stream",
     "text": [
      "\n",
      "Headline: US 6,248,831 B1 \n",
      " the cocatalyst Solution. Optionally, the liquid cocatalyst can be fed directly to the fluidized bed. The partially activated catalyst precursor is preferably injected into the fluidi\n"
     ]
    },
    {
     "name": "stderr",
     "output_type": "stream",
     "text": [
      "2025-03-17 20:46:57,022 - INFO - HTTP Request: POST https://api.openai.com/v1/chat/completions \"HTTP/1.1 200 OK\"\n",
      "2025-03-17 20:46:57,614 - INFO - HTTP Request: POST https://api.openai.com/v1/chat/completions \"HTTP/1.1 200 OK\"\n",
      "2025-03-17 20:46:58,178 - INFO - HTTP Request: POST https://api.openai.com/v1/chat/completions \"HTTP/1.1 200 OK\"\n",
      "2025-03-17 20:46:58,892 - INFO - HTTP Request: POST https://api.openai.com/v1/chat/completions \"HTTP/1.1 200 OK\"\n",
      "2025-03-17 20:46:59,662 - INFO - HTTP Request: POST https://api.openai.com/v1/chat/completions \"HTTP/1.1 200 OK\"\n",
      "2025-03-17 20:47:00,380 - INFO - HTTP Request: POST https://api.openai.com/v1/chat/completions \"HTTP/1.1 200 OK\"\n",
      "2025-03-17 20:47:00,993 - INFO - HTTP Request: POST https://api.openai.com/v1/chat/completions \"HTTP/1.1 200 OK\"\n",
      "2025-03-17 20:47:01,725 - INFO - HTTP Request: POST https://api.openai.com/v1/chat/completions \"HTTP/1.1 200 OK\"\n",
      "2025-03-17 20:47:02,397 - INFO - HTTP Request: POST https://api.openai.com/v1/chat/completions \"HTTP/1.1 200 OK\"\n"
     ]
    },
    {
     "name": "stdout",
     "output_type": "stream",
     "text": [
      "\n",
      "Headline: US 6,248,831 B1 \n",
      " 11 \n",
      " To a 10 gallon Stainless Steel reaction/filter vessel are charged 1,892 grams of magnesium/titanium alkoxide pre \n",
      " cursor powder together with 3.5 kilograms of hexane. Then, a s\n"
     ]
    },
    {
     "name": "stderr",
     "output_type": "stream",
     "text": [
      "2025-03-17 20:47:03,109 - INFO - HTTP Request: POST https://api.openai.com/v1/chat/completions \"HTTP/1.1 200 OK\"\n",
      "2025-03-17 20:47:04,066 - INFO - HTTP Request: POST https://api.openai.com/v1/chat/completions \"HTTP/1.1 200 OK\"\n",
      "2025-03-17 20:47:04,746 - INFO - HTTP Request: POST https://api.openai.com/v1/chat/completions \"HTTP/1.1 200 OK\"\n",
      "2025-03-17 20:47:05,499 - INFO - HTTP Request: POST https://api.openai.com/v1/chat/completions \"HTTP/1.1 200 OK\"\n",
      "2025-03-17 20:47:06,004 - INFO - HTTP Request: POST https://api.openai.com/v1/chat/completions \"HTTP/1.1 200 OK\"\n",
      "2025-03-17 20:47:06,551 - INFO - HTTP Request: POST https://api.openai.com/v1/chat/completions \"HTTP/1.1 200 OK\"\n",
      "2025-03-17 20:47:07,134 - INFO - HTTP Request: POST https://api.openai.com/v1/chat/completions \"HTTP/1.1 200 OK\"\n",
      "2025-03-17 20:47:07,638 - INFO - HTTP Request: POST https://api.openai.com/v1/chat/completions \"HTTP/1.1 200 OK\"\n"
     ]
    },
    {
     "name": "stdout",
     "output_type": "stream",
     "text": [
      "\n",
      "Headline: reaction \n",
      " conditions \n",
      " temperature(C.) pressure (psia) \n",
      " COOOle \n",
      " C2 partial pressure(psia) \n",
      " H2/C2 molar \n",
      " ratio \n",
      " C6/C2 \n",
      " molar ratio \n",
      " recycle isopentane \n",
      " (mol%) C2 feed (Ibs/hr) catalyst feed \n",
      " \n"
     ]
    },
    {
     "name": "stderr",
     "output_type": "stream",
     "text": [
      "2025-03-17 20:47:08,161 - INFO - HTTP Request: POST https://api.openai.com/v1/chat/completions \"HTTP/1.1 200 OK\"\n",
      "2025-03-17 20:47:08,919 - INFO - HTTP Request: POST https://api.openai.com/v1/chat/completions \"HTTP/1.1 200 OK\"\n",
      "2025-03-17 20:47:09,412 - INFO - HTTP Request: POST https://api.openai.com/v1/chat/completions \"HTTP/1.1 200 OK\"\n",
      "2025-03-17 20:47:10,007 - INFO - HTTP Request: POST https://api.openai.com/v1/chat/completions \"HTTP/1.1 200 OK\"\n"
     ]
    },
    {
     "name": "stdout",
     "output_type": "stream",
     "text": [
      "\n",
      "Headline: US 6,248,831 B1 \n",
      " 15 \n",
      " The SECs reveal that the examples 2 and 3 products have \n",
      " a broader molecular weight distribution than the example 1 \n",
      " product. It is noted that the broadening occurs in the hig\n"
     ]
    },
    {
     "name": "stderr",
     "output_type": "stream",
     "text": [
      "2025-03-17 20:47:10,618 - INFO - HTTP Request: POST https://api.openai.com/v1/chat/completions \"HTTP/1.1 200 OK\"\n",
      "2025-03-17 20:47:11,177 - INFO - HTTP Request: POST https://api.openai.com/v1/chat/completions \"HTTP/1.1 200 OK\"\n",
      "2025-03-17 20:47:11,729 - INFO - HTTP Request: POST https://api.openai.com/v1/chat/completions \"HTTP/1.1 200 OK\"\n",
      "2025-03-17 20:47:12,307 - INFO - HTTP Request: POST https://api.openai.com/v1/chat/completions \"HTTP/1.1 200 OK\"\n",
      "2025-03-17 20:47:12,974 - INFO - HTTP Request: POST https://api.openai.com/v1/chat/completions \"HTTP/1.1 200 OK\"\n"
     ]
    },
    {
     "name": "stdout",
     "output_type": "stream",
     "text": [
      "\n",
      "Headline: 17 \n",
      " TABLE X-continued \n",
      " reaction \n",
      " conditions \n",
      " production rate \n",
      " for each reactor \n",
      " (Ibs/hr) bed weight (Ibs) \n",
      " fluidized bulk \n",
      " density \n",
      " (Ibs/cu ft) \n",
      " bed volume \n",
      " (cu ft) \n",
      " residence time \n",
      " (hrs)\n"
     ]
    },
    {
     "name": "stderr",
     "output_type": "stream",
     "text": [
      "2025-03-17 20:47:13,487 - INFO - HTTP Request: POST https://api.openai.com/v1/chat/completions \"HTTP/1.1 200 OK\"\n",
      "2025-03-17 20:47:14,175 - INFO - HTTP Request: POST https://api.openai.com/v1/chat/completions \"HTTP/1.1 200 OK\"\n",
      "2025-03-17 20:47:14,921 - INFO - HTTP Request: POST https://api.openai.com/v1/chat/completions \"HTTP/1.1 200 OK\"\n",
      "2025-03-17 20:47:15,636 - INFO - HTTP Request: POST https://api.openai.com/v1/chat/completions \"HTTP/1.1 200 OK\"\n"
     ]
    },
    {
     "name": "stdout",
     "output_type": "stream",
     "text": [
      "\n",
      "Headline: US 6,248,831 B1 \n",
      " TABLE XII-continued \n",
      " reaction first second \n",
      " conditions reactor reactor \n",
      " (wt %) \n",
      " fines less than O.21 O.53 \n",
      " 120 mesh (wt %) \n",
      " Notes to above Tables: \n",
      " 1. Resin properties for Sec\n"
     ]
    },
    {
     "name": "stderr",
     "output_type": "stream",
     "text": [
      "2025-03-17 20:47:16,251 - INFO - HTTP Request: POST https://api.openai.com/v1/chat/completions \"HTTP/1.1 200 OK\"\n",
      "2025-03-17 20:47:16,767 - INFO - HTTP Request: POST https://api.openai.com/v1/chat/completions \"HTTP/1.1 200 OK\"\n",
      "2025-03-17 20:47:17,377 - INFO - HTTP Request: POST https://api.openai.com/v1/chat/completions \"HTTP/1.1 200 OK\"\n",
      "2025-03-17 20:47:17,906 - INFO - HTTP Request: POST https://api.openai.com/v1/chat/completions \"HTTP/1.1 200 OK\"\n",
      "2025-03-17 20:47:18,784 - INFO - HTTP Request: POST https://api.openai.com/v1/chat/completions \"HTTP/1.1 200 OK\"\n",
      "2025-03-17 20:47:19,489 - INFO - HTTP Request: POST https://api.openai.com/v1/chat/completions \"HTTP/1.1 200 OK\"\n",
      "2025-03-17 20:47:20,015 - INFO - HTTP Request: POST https://api.openai.com/v1/chat/completions \"HTTP/1.1 200 OK\"\n",
      "2025-03-17 20:47:20,729 - INFO - HTTP Request: POST https://api.openai.com/v1/chat/completions \"HTTP/1.1 200 OK\"\n"
     ]
    },
    {
     "name": "stdout",
     "output_type": "stream",
     "text": [
      "\n",
      "Headline: US 6,248,831 B1 \n",
      " 21 \n",
      " 8. The process defined in claim 7 wherein the blend has a melt index (I5) in the range of about 0.1 to about 0.6 grams per 10 minutes; a melt flow ratio (I 21.6/I 5) in the rang\n"
     ]
    },
    {
     "name": "stderr",
     "output_type": "stream",
     "text": [
      "2025-03-17 20:47:21,678 - INFO - HTTP Request: POST https://api.openai.com/v1/chat/completions \"HTTP/1.1 200 OK\"\n",
      "2025-03-17 20:47:22,218 - INFO - HTTP Request: POST https://api.openai.com/v1/chat/completions \"HTTP/1.1 200 OK\"\n",
      "2025-03-17 20:47:25,406 - INFO - HTTP Request: POST https://api.openai.com/v1/chat/completions \"HTTP/1.1 200 OK\"\n",
      "2025-03-17 20:47:25,994 - INFO - HTTP Request: POST https://api.openai.com/v1/chat/completions \"HTTP/1.1 200 OK\"\n",
      "2025-03-17 20:47:26,547 - INFO - HTTP Request: POST https://api.openai.com/v1/chat/completions \"HTTP/1.1 200 OK\"\n"
     ]
    },
    {
     "name": "stdout",
     "output_type": "stream",
     "text": [
      "\n",
      "Headline: (19) United States US 20060046928A1 \n",
      " (12) Patent Application Publication (10) Pub. No.: US 2006/0046928A1 \n",
      " Klendworth et al. (43) Pub. Date: Mar. 2, 2006 \n",
      " (54) ZIEGLER-NATTA CATALYST AND METHOD (52\n"
     ]
    },
    {
     "name": "stderr",
     "output_type": "stream",
     "text": [
      "2025-03-17 20:47:27,718 - INFO - HTTP Request: POST https://api.openai.com/v1/chat/completions \"HTTP/1.1 200 OK\"\n",
      "2025-03-17 20:47:28,232 - INFO - HTTP Request: POST https://api.openai.com/v1/chat/completions \"HTTP/1.1 200 OK\"\n"
     ]
    },
    {
     "name": "stdout",
     "output_type": "stream",
     "text": [
      "\n",
      "Headline: Patent Application Publication Mar. 2, 2006 Sheet 1 of 3 US 2006/0046928A1 \n",
      " G.   \n"
     ]
    },
    {
     "name": "stderr",
     "output_type": "stream",
     "text": [
      "2025-03-17 20:47:28,846 - INFO - HTTP Request: POST https://api.openai.com/v1/chat/completions \"HTTP/1.1 200 OK\"\n"
     ]
    },
    {
     "name": "stdout",
     "output_type": "stream",
     "text": [
      "\n",
      "Headline: Patent Application Publication Mar. 2, 2006 Sheet 2 of 3 US 2006/0046928A1 \n",
      " O. 2   \n"
     ]
    },
    {
     "name": "stderr",
     "output_type": "stream",
     "text": [
      "2025-03-17 20:47:29,460 - INFO - HTTP Request: POST https://api.openai.com/v1/chat/completions \"HTTP/1.1 200 OK\"\n"
     ]
    },
    {
     "name": "stdout",
     "output_type": "stream",
     "text": [
      "\n",
      "Headline: US 2006/0046928A1 Mar. 2, 2006 Sheet 3 of 3 Patent Application Publication \n",
      " 3 O.   \n"
     ]
    },
    {
     "name": "stderr",
     "output_type": "stream",
     "text": [
      "2025-03-17 20:47:30,016 - INFO - HTTP Request: POST https://api.openai.com/v1/chat/completions \"HTTP/1.1 200 OK\"\n"
     ]
    },
    {
     "name": "stdout",
     "output_type": "stream",
     "text": [
      "\n",
      "Headline: US 2006/0046928A1 \n",
      " ZEGLER-NATTA CATALYST AND METHOD FOR \n",
      " MAKING AND USING SAME \n",
      " FIELD OF THE INVENTION \n",
      " 0001. The present invention relates to catalysts, and par ticularly to Ziegler-Natta catalys\n"
     ]
    },
    {
     "name": "stderr",
     "output_type": "stream",
     "text": [
      "2025-03-17 20:47:30,717 - INFO - HTTP Request: POST https://api.openai.com/v1/chat/completions \"HTTP/1.1 200 OK\"\n",
      "2025-03-17 20:47:31,508 - INFO - HTTP Request: POST https://api.openai.com/v1/chat/completions \"HTTP/1.1 200 OK\"\n",
      "2025-03-17 20:47:32,236 - INFO - HTTP Request: POST https://api.openai.com/v1/chat/completions \"HTTP/1.1 200 OK\"\n",
      "2025-03-17 20:47:32,730 - INFO - HTTP Request: POST https://api.openai.com/v1/chat/completions \"HTTP/1.1 200 OK\"\n",
      "2025-03-17 20:47:33,563 - INFO - HTTP Request: POST https://api.openai.com/v1/chat/completions \"HTTP/1.1 200 OK\"\n",
      "2025-03-17 20:47:34,218 - INFO - HTTP Request: POST https://api.openai.com/v1/chat/completions \"HTTP/1.1 200 OK\"\n",
      "2025-03-17 20:47:34,983 - INFO - HTTP Request: POST https://api.openai.com/v1/chat/completions \"HTTP/1.1 200 OK\"\n"
     ]
    },
    {
     "name": "stdout",
     "output_type": "stream",
     "text": [
      "\n",
      "Headline: US 2006/0046928A1 \n",
      " from about 0.5 wt % to about 3.0 wt % of the silica seeding agent is used relative to the magnesium-halide compound. \n",
      " Generally, a higher ratio of magnesium-halide to Silica \n",
      " See\n"
     ]
    },
    {
     "name": "stderr",
     "output_type": "stream",
     "text": [
      "2025-03-17 20:47:35,605 - INFO - HTTP Request: POST https://api.openai.com/v1/chat/completions \"HTTP/1.1 200 OK\"\n",
      "2025-03-17 20:47:36,174 - INFO - HTTP Request: POST https://api.openai.com/v1/chat/completions \"HTTP/1.1 200 OK\"\n",
      "2025-03-17 20:47:36,832 - INFO - HTTP Request: POST https://api.openai.com/v1/chat/completions \"HTTP/1.1 200 OK\"\n",
      "2025-03-17 20:47:37,450 - INFO - HTTP Request: POST https://api.openai.com/v1/chat/completions \"HTTP/1.1 200 OK\"\n",
      "2025-03-17 20:47:38,010 - INFO - HTTP Request: POST https://api.openai.com/v1/chat/completions \"HTTP/1.1 200 OK\"\n",
      "2025-03-17 20:47:38,640 - INFO - HTTP Request: POST https://api.openai.com/v1/chat/completions \"HTTP/1.1 200 OK\"\n",
      "2025-03-17 20:47:39,652 - INFO - HTTP Request: POST https://api.openai.com/v1/chat/completions \"HTTP/1.1 200 OK\"\n",
      "2025-03-17 20:47:40,518 - INFO - HTTP Request: POST https://api.openai.com/v1/chat/completions \"HTTP/1.1 200 OK\"\n"
     ]
    },
    {
     "name": "stdout",
     "output_type": "stream",
     "text": [
      "\n",
      "Headline: US 2006/0046928A1 \n",
      " include mono- and polyfunctional carboxylic acids, car boxylic anhydrides and carboxylic esters, and ketones, \n",
      " ethers, alcohols, lactones as well as organic phosphorus and \n",
      " Silic\n"
     ]
    },
    {
     "name": "stderr",
     "output_type": "stream",
     "text": [
      "2025-03-17 20:47:41,178 - INFO - HTTP Request: POST https://api.openai.com/v1/chat/completions \"HTTP/1.1 200 OK\"\n",
      "2025-03-17 20:47:41,952 - INFO - HTTP Request: POST https://api.openai.com/v1/chat/completions \"HTTP/1.1 200 OK\"\n",
      "2025-03-17 20:47:42,917 - INFO - HTTP Request: POST https://api.openai.com/v1/chat/completions \"HTTP/1.1 200 OK\"\n",
      "2025-03-17 20:47:43,508 - INFO - HTTP Request: POST https://api.openai.com/v1/chat/completions \"HTTP/1.1 200 OK\"\n",
      "2025-03-17 20:47:44,005 - INFO - HTTP Request: POST https://api.openai.com/v1/chat/completions \"HTTP/1.1 200 OK\"\n",
      "2025-03-17 20:47:44,527 - INFO - HTTP Request: POST https://api.openai.com/v1/chat/completions \"HTTP/1.1 200 OK\"\n",
      "2025-03-17 20:47:45,212 - INFO - HTTP Request: POST https://api.openai.com/v1/chat/completions \"HTTP/1.1 200 OK\"\n",
      "2025-03-17 20:47:45,758 - INFO - HTTP Request: POST https://api.openai.com/v1/chat/completions \"HTTP/1.1 200 OK\"\n"
     ]
    },
    {
     "name": "stdout",
     "output_type": "stream",
     "text": [
      "\n",
      "Headline: US 2006/0046928A1 \n",
      " sium hydroxide and iodomagnesium hydroxide. Among \n",
      " these compounds the magnesium dihalides corresponding to \n",
      " the formula MgX are preferred wherein X is a halogen. Especially pref\n"
     ]
    },
    {
     "name": "stderr",
     "output_type": "stream",
     "text": [
      "2025-03-17 20:47:46,561 - INFO - HTTP Request: POST https://api.openai.com/v1/chat/completions \"HTTP/1.1 200 OK\"\n",
      "2025-03-17 20:47:47,280 - INFO - HTTP Request: POST https://api.openai.com/v1/chat/completions \"HTTP/1.1 200 OK\"\n",
      "2025-03-17 20:47:47,885 - INFO - HTTP Request: POST https://api.openai.com/v1/chat/completions \"HTTP/1.1 200 OK\"\n",
      "2025-03-17 20:47:48,608 - INFO - HTTP Request: POST https://api.openai.com/v1/chat/completions \"HTTP/1.1 200 OK\"\n",
      "2025-03-17 20:47:49,325 - INFO - HTTP Request: POST https://api.openai.com/v1/chat/completions \"HTTP/1.1 200 OK\"\n",
      "2025-03-17 20:47:50,218 - INFO - HTTP Request: POST https://api.openai.com/v1/chat/completions \"HTTP/1.1 200 OK\"\n",
      "2025-03-17 20:47:50,950 - INFO - HTTP Request: POST https://api.openai.com/v1/chat/completions \"HTTP/1.1 200 OK\"\n"
     ]
    },
    {
     "name": "stdout",
     "output_type": "stream",
     "text": [
      "\n",
      "Headline: US 2006/0046928A1 \n",
      " due to the difficulty in finding Such a Single Substance, most polypropylene catalysts employ two separate Substances for \n",
      " their internal and external electron donors. \n",
      " 0044 Pref\n"
     ]
    },
    {
     "name": "stderr",
     "output_type": "stream",
     "text": [
      "2025-03-17 20:47:51,434 - INFO - HTTP Request: POST https://api.openai.com/v1/chat/completions \"HTTP/1.1 200 OK\"\n",
      "2025-03-17 20:47:52,295 - INFO - HTTP Request: POST https://api.openai.com/v1/chat/completions \"HTTP/1.1 200 OK\"\n",
      "2025-03-17 20:47:53,040 - INFO - HTTP Request: POST https://api.openai.com/v1/chat/completions \"HTTP/1.1 200 OK\"\n",
      "2025-03-17 20:47:53,851 - INFO - HTTP Request: POST https://api.openai.com/v1/chat/completions \"HTTP/1.1 200 OK\"\n",
      "2025-03-17 20:47:54,540 - INFO - HTTP Request: POST https://api.openai.com/v1/chat/completions \"HTTP/1.1 200 OK\"\n",
      "2025-03-17 20:47:55,267 - INFO - HTTP Request: POST https://api.openai.com/v1/chat/completions \"HTTP/1.1 200 OK\"\n",
      "2025-03-17 20:47:55,878 - INFO - HTTP Request: POST https://api.openai.com/v1/chat/completions \"HTTP/1.1 200 OK\"\n"
     ]
    },
    {
     "name": "stdout",
     "output_type": "stream",
     "text": [
      "\n",
      "Headline: US 2006/0046928A1 \n",
      " 0056 Next, the solid catalyst Support particles were \n",
      " added slowly to a third flask containing 200 ml of neat TiCl, \n",
      " which had been pre-cooled to about 0° C. After the tem peratu\n"
     ]
    },
    {
     "name": "stderr",
     "output_type": "stream",
     "text": [
      "2025-03-17 20:47:56,425 - INFO - HTTP Request: POST https://api.openai.com/v1/chat/completions \"HTTP/1.1 200 OK\"\n",
      "2025-03-17 20:47:57,004 - INFO - HTTP Request: POST https://api.openai.com/v1/chat/completions \"HTTP/1.1 200 OK\"\n",
      "2025-03-17 20:47:57,703 - INFO - HTTP Request: POST https://api.openai.com/v1/chat/completions \"HTTP/1.1 200 OK\"\n",
      "2025-03-17 20:47:58,232 - INFO - HTTP Request: POST https://api.openai.com/v1/chat/completions \"HTTP/1.1 200 OK\"\n",
      "2025-03-17 20:47:58,950 - INFO - HTTP Request: POST https://api.openai.com/v1/chat/completions \"HTTP/1.1 200 OK\"\n",
      "2025-03-17 20:47:59,463 - INFO - HTTP Request: POST https://api.openai.com/v1/chat/completions \"HTTP/1.1 200 OK\"\n",
      "2025-03-17 20:48:00,207 - INFO - HTTP Request: POST https://api.openai.com/v1/chat/completions \"HTTP/1.1 200 OK\"\n",
      "2025-03-17 20:48:00,794 - INFO - HTTP Request: POST https://api.openai.com/v1/chat/completions \"HTTP/1.1 200 OK\"\n"
     ]
    },
    {
     "name": "stdout",
     "output_type": "stream",
     "text": [
      "\n",
      "Headline: US 2006/0046928A1 \n",
      " 1133 at a temperature of 230 C. and under a load of 2.06 kg. Certain applications might require different molecular \n",
      " weights than those mentioned above and are contemplated to be \n"
     ]
    },
    {
     "name": "stderr",
     "output_type": "stream",
     "text": [
      "2025-03-17 20:48:01,305 - INFO - HTTP Request: POST https://api.openai.com/v1/chat/completions \"HTTP/1.1 200 OK\"\n",
      "2025-03-17 20:48:02,125 - INFO - HTTP Request: POST https://api.openai.com/v1/chat/completions \"HTTP/1.1 200 OK\"\n",
      "2025-03-17 20:48:02,675 - INFO - HTTP Request: POST https://api.openai.com/v1/chat/completions \"HTTP/1.1 200 OK\"\n",
      "2025-03-17 20:48:03,395 - INFO - HTTP Request: POST https://api.openai.com/v1/chat/completions \"HTTP/1.1 200 OK\"\n",
      "2025-03-17 20:48:03,860 - INFO - HTTP Request: POST https://api.openai.com/v1/chat/completions \"HTTP/1.1 200 OK\"\n",
      "2025-03-17 20:48:05,037 - INFO - HTTP Request: POST https://api.openai.com/v1/chat/completions \"HTTP/1.1 200 OK\"\n",
      "2025-03-17 20:48:05,796 - INFO - HTTP Request: POST https://api.openai.com/v1/chat/completions \"HTTP/1.1 200 OK\"\n"
     ]
    },
    {
     "name": "stdout",
     "output_type": "stream",
     "text": [
      "\n",
      "Headline: US 2006/0046928A1 \n",
      " 17. The method of making a magnesium-halide Support \n",
      " according to claim 14, wherein the alkanol is Selected from the group consisting of ethanol, methanol and 2-ethyl-1- \n",
      " hexanol\n"
     ]
    },
    {
     "name": "stderr",
     "output_type": "stream",
     "text": [
      "2025-03-17 20:48:06,394 - INFO - HTTP Request: POST https://api.openai.com/v1/chat/completions \"HTTP/1.1 200 OK\"\n",
      "2025-03-17 20:48:07,049 - INFO - HTTP Request: POST https://api.openai.com/v1/chat/completions \"HTTP/1.1 200 OK\"\n",
      "2025-03-17 20:48:07,652 - INFO - HTTP Request: POST https://api.openai.com/v1/chat/completions \"HTTP/1.1 200 OK\"\n",
      "2025-03-17 20:48:08,232 - INFO - HTTP Request: POST https://api.openai.com/v1/chat/completions \"HTTP/1.1 200 OK\"\n",
      "2025-03-17 20:48:08,935 - INFO - HTTP Request: POST https://api.openai.com/v1/chat/completions \"HTTP/1.1 200 OK\"\n",
      "2025-03-17 20:48:12,979 - INFO - HTTP Request: POST https://api.openai.com/v1/chat/completions \"HTTP/1.1 200 OK\"\n"
     ]
    },
    {
     "name": "stdout",
     "output_type": "stream",
     "text": [
      "\n",
      "Headline: United States Patent (19) \n",
      " Werner et al. \n",
      " 54 PREPARATION OF HOMO- AND COPOLYMERS OF PROPENE USINGA \n",
      " ZEGLER-NATTA CATALYST SYSTEM \n",
      " Rainer A. Werner, Bad Durkheim; Ralf Zolk, Hessheim, both of Fed. \n"
     ]
    },
    {
     "name": "stderr",
     "output_type": "stream",
     "text": [
      "2025-03-17 20:48:13,720 - INFO - HTTP Request: POST https://api.openai.com/v1/chat/completions \"HTTP/1.1 200 OK\"\n",
      "2025-03-17 20:48:14,435 - INFO - HTTP Request: POST https://api.openai.com/v1/chat/completions \"HTTP/1.1 200 OK\"\n",
      "2025-03-17 20:48:14,917 - INFO - HTTP Request: POST https://api.openai.com/v1/chat/completions \"HTTP/1.1 200 OK\"\n"
     ]
    },
    {
     "name": "stdout",
     "output_type": "stream",
     "text": [
      "\n",
      "Headline: 4,843,132 1. \n",
      " PREPARATION OF HOMO- AND COPOLYMERS \n",
      " OF PROPENE USINGAZEGLER-NATA \n",
      " CATALYST SYSTEM \n",
      " The present invention relates to a process for the preparation of homopolymers of propene and copo\n"
     ]
    },
    {
     "name": "stderr",
     "output_type": "stream",
     "text": [
      "2025-03-17 20:48:15,520 - INFO - HTTP Request: POST https://api.openai.com/v1/chat/completions \"HTTP/1.1 200 OK\"\n",
      "2025-03-17 20:48:16,153 - INFO - HTTP Request: POST https://api.openai.com/v1/chat/completions \"HTTP/1.1 200 OK\"\n",
      "2025-03-17 20:48:16,659 - INFO - HTTP Request: POST https://api.openai.com/v1/chat/completions \"HTTP/1.1 200 OK\"\n",
      "2025-03-17 20:48:17,280 - INFO - HTTP Request: POST https://api.openai.com/v1/chat/completions \"HTTP/1.1 200 OK\"\n",
      "2025-03-17 20:48:18,099 - INFO - HTTP Request: POST https://api.openai.com/v1/chat/completions \"HTTP/1.1 200 OK\"\n",
      "2025-03-17 20:48:18,818 - INFO - HTTP Request: POST https://api.openai.com/v1/chat/completions \"HTTP/1.1 200 OK\"\n",
      "2025-03-17 20:48:19,505 - INFO - HTTP Request: POST https://api.openai.com/v1/chat/completions \"HTTP/1.1 200 OK\"\n",
      "2025-03-17 20:48:19,977 - INFO - HTTP Request: POST https://api.openai.com/v1/chat/completions \"HTTP/1.1 200 OK\"\n"
     ]
    },
    {
     "name": "stdout",
     "output_type": "stream",
     "text": [
      "\n",
      "Headline: 4,843,132 3 \n",
      " where R is an aryl, alkylaryl or alkyl radical of not more than 16, preferably not more than 10, carbon atoms, in particular phenyl, tolyl or ethylphenyl, R2 is \n",
      " alkyl of not more than \n"
     ]
    },
    {
     "name": "stderr",
     "output_type": "stream",
     "text": [
      "2025-03-17 20:48:25,269 - INFO - HTTP Request: POST https://api.openai.com/v1/chat/completions \"HTTP/1.1 200 OK\"\n",
      "2025-03-17 20:48:27,496 - INFO - HTTP Request: POST https://api.openai.com/v1/chat/completions \"HTTP/1.1 200 OK\"\n",
      "2025-03-17 20:48:28,041 - INFO - HTTP Request: POST https://api.openai.com/v1/chat/completions \"HTTP/1.1 200 OK\"\n",
      "2025-03-17 20:48:28,805 - INFO - HTTP Request: POST https://api.openai.com/v1/chat/completions \"HTTP/1.1 200 OK\"\n",
      "2025-03-17 20:48:29,539 - INFO - HTTP Request: POST https://api.openai.com/v1/chat/completions \"HTTP/1.1 200 OK\"\n",
      "2025-03-17 20:48:30,171 - INFO - HTTP Request: POST https://api.openai.com/v1/chat/completions \"HTTP/1.1 200 OK\"\n",
      "2025-03-17 20:48:30,680 - INFO - HTTP Request: POST https://api.openai.com/v1/chat/completions \"HTTP/1.1 200 OK\"\n",
      "2025-03-17 20:48:31,218 - INFO - HTTP Request: POST https://api.openai.com/v1/chat/completions \"HTTP/1.1 200 OK\"\n",
      "2025-03-17 20:48:32,742 - INFO - HTTP Request: POST https://api.openai.com/v1/chat/completions \"HTTP/1.1 200 OK\"\n"
     ]
    },
    {
     "name": "stdout",
     "output_type": "stream",
     "text": [
      "\n",
      "Headline: 4,843,132 5 \n",
      " weight of the titanium tetrachloride being used per 10 parts by weight of the solid-phase intermediate obtained from the first stage, and finally (1.3) in a third stage, the solid-phase \n"
     ]
    },
    {
     "name": "stderr",
     "output_type": "stream",
     "text": [
      "2025-03-17 20:48:33,326 - INFO - HTTP Request: POST https://api.openai.com/v1/chat/completions \"HTTP/1.1 200 OK\"\n",
      "2025-03-17 20:48:33,820 - INFO - HTTP Request: POST https://api.openai.com/v1/chat/completions \"HTTP/1.1 200 OK\"\n",
      "2025-03-17 20:48:34,329 - INFO - HTTP Request: POST https://api.openai.com/v1/chat/completions \"HTTP/1.1 200 OK\"\n",
      "2025-03-17 20:48:35,182 - INFO - HTTP Request: POST https://api.openai.com/v1/chat/completions \"HTTP/1.1 200 OK\"\n",
      "2025-03-17 20:48:35,829 - INFO - HTTP Request: POST https://api.openai.com/v1/chat/completions \"HTTP/1.1 200 OK\"\n",
      "2025-03-17 20:48:36,303 - INFO - HTTP Request: POST https://api.openai.com/v1/chat/completions \"HTTP/1.1 200 OK\"\n",
      "2025-03-17 20:48:36,977 - INFO - HTTP Request: POST https://api.openai.com/v1/chat/completions \"HTTP/1.1 200 OK\"\n",
      "2025-03-17 20:48:37,759 - INFO - HTTP Request: POST https://api.openai.com/v1/chat/completions \"HTTP/1.1 200 OK\"\n",
      "2025-03-17 20:48:38,363 - INFO - HTTP Request: POST https://api.openai.com/v1/chat/completions \"HTTP/1.1 200 OK\"\n",
      "2025-03-17 20:48:38,863 - INFO - HTTP Request: POST https://api.openai.com/v1/chat/completions \"HTTP/1.1 200 OK\"\n"
     ]
    },
    {
     "name": "stdout",
     "output_type": "stream",
     "text": [
      "\n",
      "Headline: 4,843,132 7 \n",
      " resulting solid is then isolated by filtration and washed with n-heptane to give the carrier (III), \n",
      " (IV) titanium tetrachloride and (V) phthaloyl dichloride, in such a way that first (\n"
     ]
    },
    {
     "name": "stderr",
     "output_type": "stream",
     "text": [
      "2025-03-17 20:48:39,451 - INFO - HTTP Request: POST https://api.openai.com/v1/chat/completions \"HTTP/1.1 200 OK\"\n",
      "2025-03-17 20:48:40,012 - INFO - HTTP Request: POST https://api.openai.com/v1/chat/completions \"HTTP/1.1 200 OK\"\n",
      "2025-03-17 20:48:40,627 - INFO - HTTP Request: POST https://api.openai.com/v1/chat/completions \"HTTP/1.1 200 OK\"\n",
      "2025-03-17 20:48:41,215 - INFO - HTTP Request: POST https://api.openai.com/v1/chat/completions \"HTTP/1.1 200 OK\"\n",
      "2025-03-17 20:48:41,915 - INFO - HTTP Request: POST https://api.openai.com/v1/chat/completions \"HTTP/1.1 200 OK\"\n",
      "2025-03-17 20:48:42,519 - INFO - HTTP Request: POST https://api.openai.com/v1/chat/completions \"HTTP/1.1 200 OK\"\n",
      "2025-03-17 20:48:43,085 - INFO - HTTP Request: POST https://api.openai.com/v1/chat/completions \"HTTP/1.1 200 OK\"\n",
      "2025-03-17 20:48:43,645 - INFO - HTTP Request: POST https://api.openai.com/v1/chat/completions \"HTTP/1.1 200 OK\"\n",
      "2025-03-17 20:48:44,363 - INFO - HTTP Request: POST https://api.openai.com/v1/chat/completions \"HTTP/1.1 200 OK\"\n",
      "2025-03-17 20:48:45,110 - INFO - HTTP Request: POST https://api.openai.com/v1/chat/completions \"HTTP/1.1 200 OK\"\n"
     ]
    },
    {
     "name": "stdout",
     "output_type": "stream",
     "text": [
      "\n",
      "Headline: 4,843,132 \n",
      " resulting solid-phase intermediate is isolated by filtra tion, and finally (1.3) in a third stage, the solid-phase intermediate obtained in the second stage is extracted with n-heptane 10 \n"
     ]
    },
    {
     "name": "stderr",
     "output_type": "stream",
     "text": [
      "2025-03-17 20:48:45,821 - INFO - HTTP Request: POST https://api.openai.com/v1/chat/completions \"HTTP/1.1 200 OK\"\n",
      "2025-03-17 20:48:46,507 - INFO - HTTP Request: POST https://api.openai.com/v1/chat/completions \"HTTP/1.1 200 OK\"\n",
      "2025-03-17 20:48:47,077 - INFO - HTTP Request: POST https://api.openai.com/v1/chat/completions \"HTTP/1.1 200 OK\"\n",
      "2025-03-17 20:48:47,761 - INFO - HTTP Request: POST https://api.openai.com/v1/chat/completions \"HTTP/1.1 200 OK\"\n",
      "2025-03-17 20:48:48,704 - INFO - HTTP Request: POST https://api.openai.com/v1/chat/completions \"HTTP/1.1 200 OK\"\n",
      "2025-03-17 20:48:49,175 - INFO - HTTP Request: POST https://api.openai.com/v1/chat/completions \"HTTP/1.1 200 OK\"\n"
     ]
    },
    {
     "name": "stdout",
     "output_type": "stream",
     "text": [
      "\n",
      "Headline: 4,843,132 11 \n",
      " where X and Y together form oxygen or X and Y are each chlorine or C1-C10-alkoxy, in such a way \n",
      " that first \n",
      " either (a) (1.1.1.a) in a first substage, the magnesium chloride (I) \n",
      " and\n"
     ]
    },
    {
     "name": "stderr",
     "output_type": "stream",
     "text": [
      "2025-03-17 20:48:49,796 - INFO - HTTP Request: POST https://api.openai.com/v1/chat/completions \"HTTP/1.1 200 OK\"\n",
      "2025-03-17 20:48:50,341 - INFO - HTTP Request: POST https://api.openai.com/v1/chat/completions \"HTTP/1.1 200 OK\"\n",
      "2025-03-17 20:48:50,811 - INFO - HTTP Request: POST https://api.openai.com/v1/chat/completions \"HTTP/1.1 200 OK\"\n",
      "2025-03-17 20:48:51,400 - INFO - HTTP Request: POST https://api.openai.com/v1/chat/completions \"HTTP/1.1 200 OK\"\n"
     ]
    },
    {
     "name": "stdout",
     "output_type": "stream",
     "text": [
      "\n",
      "Headline: United States Patent (19) \n",
      " Strobel et al. \n",
      " (54) PROCESS FOR THE PREPARATION OFA CATALYST AND CATALYST USED IN OLEFN POLYMERZATION \n",
      " 75) Inventors: Wolfgang Strobel, Hofheim; Rainer Franke, Frankfurt\n"
     ]
    },
    {
     "name": "stderr",
     "output_type": "stream",
     "text": [
      "2025-03-17 20:48:52,648 - INFO - HTTP Request: POST https://api.openai.com/v1/chat/completions \"HTTP/1.1 200 OK\"\n",
      "2025-03-17 20:48:53,348 - INFO - HTTP Request: POST https://api.openai.com/v1/chat/completions \"HTTP/1.1 200 OK\"\n"
     ]
    },
    {
     "name": "stdout",
     "output_type": "stream",
     "text": [
      "\n",
      "Headline: 4,148,754 1. \n",
      " PROCESS FOR THE PREPARATION OFA \n",
      " CATALYST AND CATALYST USED IN OLEFN \n",
      " POLYMERZATION \n",
      " The present invention relates to the preparation of a catalyst for the polymerization of ethylene\n"
     ]
    },
    {
     "name": "stderr",
     "output_type": "stream",
     "text": [
      "2025-03-17 20:48:54,046 - INFO - HTTP Request: POST https://api.openai.com/v1/chat/completions \"HTTP/1.1 200 OK\"\n",
      "2025-03-17 20:48:54,649 - INFO - HTTP Request: POST https://api.openai.com/v1/chat/completions \"HTTP/1.1 200 OK\"\n",
      "2025-03-17 20:48:55,335 - INFO - HTTP Request: POST https://api.openai.com/v1/chat/completions \"HTTP/1.1 200 OK\"\n",
      "2025-03-17 20:48:55,834 - INFO - HTTP Request: POST https://api.openai.com/v1/chat/completions \"HTTP/1.1 200 OK\"\n",
      "2025-03-17 20:48:56,396 - INFO - HTTP Request: POST https://api.openai.com/v1/chat/completions \"HTTP/1.1 200 OK\"\n",
      "2025-03-17 20:48:56,975 - INFO - HTTP Request: POST https://api.openai.com/v1/chat/completions \"HTTP/1.1 200 OK\"\n",
      "2025-03-17 20:48:57,488 - INFO - HTTP Request: POST https://api.openai.com/v1/chat/completions \"HTTP/1.1 200 OK\"\n",
      "2025-03-17 20:48:58,197 - INFO - HTTP Request: POST https://api.openai.com/v1/chat/completions \"HTTP/1.1 200 OK\"\n",
      "2025-03-17 20:48:58,755 - INFO - HTTP Request: POST https://api.openai.com/v1/chat/completions \"HTTP/1.1 200 OK\"\n",
      "2025-03-17 20:48:59,296 - INFO - HTTP Request: POST https://api.openai.com/v1/chat/completions \"HTTP/1.1 200 OK\"\n",
      "2025-03-17 20:48:59,897 - INFO - HTTP Request: POST https://api.openai.com/v1/chat/completions \"HTTP/1.1 200 OK\"\n"
     ]
    },
    {
     "name": "stdout",
     "output_type": "stream",
     "text": [
      "\n",
      "Headline: 4,148,754 3 Suitable halogen-containing magnesium-organic compounds are compounds of the formula RMgX, in which R is a hydrocarbon radical having from 1 to 20, preferably from 2 to 10 carbon atoms and\n"
     ]
    },
    {
     "name": "stderr",
     "output_type": "stream",
     "text": [
      "2025-03-17 20:49:00,600 - INFO - HTTP Request: POST https://api.openai.com/v1/chat/completions \"HTTP/1.1 200 OK\"\n",
      "2025-03-17 20:49:01,367 - INFO - HTTP Request: POST https://api.openai.com/v1/chat/completions \"HTTP/1.1 200 OK\"\n",
      "2025-03-17 20:49:02,436 - INFO - HTTP Request: POST https://api.openai.com/v1/chat/completions \"HTTP/1.1 200 OK\"\n",
      "2025-03-17 20:49:02,899 - INFO - HTTP Request: POST https://api.openai.com/v1/chat/completions \"HTTP/1.1 200 OK\"\n",
      "2025-03-17 20:49:04,115 - INFO - HTTP Request: POST https://api.openai.com/v1/chat/completions \"HTTP/1.1 200 OK\"\n",
      "2025-03-17 20:49:04,714 - INFO - HTTP Request: POST https://api.openai.com/v1/chat/completions \"HTTP/1.1 200 OK\"\n",
      "2025-03-17 20:49:05,332 - INFO - HTTP Request: POST https://api.openai.com/v1/chat/completions \"HTTP/1.1 200 OK\"\n",
      "2025-03-17 20:49:06,021 - INFO - HTTP Request: POST https://api.openai.com/v1/chat/completions \"HTTP/1.1 200 OK\"\n",
      "2025-03-17 20:49:06,692 - INFO - HTTP Request: POST https://api.openai.com/v1/chat/completions \"HTTP/1.1 200 OK\"\n"
     ]
    },
    {
     "name": "stdout",
     "output_type": "stream",
     "text": [
      "\n",
      "Headline: 4,148,754 \n",
      " wherein R2 and R2 is hydrogen, an alkyl radical, an alkylene radical having a non-terminal double bond or a mononuclear aryl radical and a is 0 or 1, are used prefer ably. There may be men\n"
     ]
    },
    {
     "name": "stderr",
     "output_type": "stream",
     "text": [
      "2025-03-17 20:49:07,660 - INFO - HTTP Request: POST https://api.openai.com/v1/chat/completions \"HTTP/1.1 200 OK\"\n",
      "2025-03-17 20:49:08,376 - INFO - HTTP Request: POST https://api.openai.com/v1/chat/completions \"HTTP/1.1 200 OK\"\n",
      "2025-03-17 20:49:08,994 - INFO - HTTP Request: POST https://api.openai.com/v1/chat/completions \"HTTP/1.1 200 OK\"\n",
      "2025-03-17 20:49:09,714 - INFO - HTTP Request: POST https://api.openai.com/v1/chat/completions \"HTTP/1.1 200 OK\"\n",
      "2025-03-17 20:49:10,538 - INFO - HTTP Request: POST https://api.openai.com/v1/chat/completions \"HTTP/1.1 200 OK\"\n",
      "2025-03-17 20:49:11,416 - INFO - HTTP Request: POST https://api.openai.com/v1/chat/completions \"HTTP/1.1 200 OK\"\n",
      "2025-03-17 20:49:11,944 - INFO - HTTP Request: POST https://api.openai.com/v1/chat/completions \"HTTP/1.1 200 OK\"\n",
      "2025-03-17 20:49:12,459 - INFO - HTTP Request: POST https://api.openai.com/v1/chat/completions \"HTTP/1.1 200 OK\"\n"
     ]
    },
    {
     "name": "stdout",
     "output_type": "stream",
     "text": [
      "\n",
      "Headline: 4,148,754 7 \n",
      " ous phase in a fluidized bed. The use of oxide carriers having a particle size of more than 30 Jum, which may be obtained for example by separating fine particles by sieving, prevents fi\n"
     ]
    },
    {
     "name": "stderr",
     "output_type": "stream",
     "text": [
      "2025-03-17 20:49:12,957 - INFO - HTTP Request: POST https://api.openai.com/v1/chat/completions \"HTTP/1.1 200 OK\"\n",
      "2025-03-17 20:49:13,542 - INFO - HTTP Request: POST https://api.openai.com/v1/chat/completions \"HTTP/1.1 200 OK\"\n",
      "2025-03-17 20:49:14,195 - INFO - HTTP Request: POST https://api.openai.com/v1/chat/completions \"HTTP/1.1 200 OK\"\n",
      "2025-03-17 20:49:14,996 - INFO - HTTP Request: POST https://api.openai.com/v1/chat/completions \"HTTP/1.1 200 OK\"\n",
      "2025-03-17 20:49:15,546 - INFO - HTTP Request: POST https://api.openai.com/v1/chat/completions \"HTTP/1.1 200 OK\"\n",
      "2025-03-17 20:49:16,165 - INFO - HTTP Request: POST https://api.openai.com/v1/chat/completions \"HTTP/1.1 200 OK\"\n",
      "2025-03-17 20:49:16,727 - INFO - HTTP Request: POST https://api.openai.com/v1/chat/completions \"HTTP/1.1 200 OK\"\n",
      "2025-03-17 20:49:17,207 - INFO - HTTP Request: POST https://api.openai.com/v1/chat/completions \"HTTP/1.1 200 OK\"\n"
     ]
    },
    {
     "name": "stdout",
     "output_type": "stream",
     "text": [
      "\n",
      "Headline: 4,148,754 \n",
      " weight below 50 m. 125,000 g of polyethylene per gram of titanium and 5,809 g of polyethylene per gram of the catalyst component A are obtained. \n",
      " COMPARATIVE EXAMPLE A \n",
      " The example demon\n"
     ]
    },
    {
     "name": "stderr",
     "output_type": "stream",
     "text": [
      "2025-03-17 20:49:17,701 - INFO - HTTP Request: POST https://api.openai.com/v1/chat/completions \"HTTP/1.1 200 OK\"\n",
      "2025-03-17 20:49:18,293 - INFO - HTTP Request: POST https://api.openai.com/v1/chat/completions \"HTTP/1.1 200 OK\"\n",
      "2025-03-17 20:49:18,835 - INFO - HTTP Request: POST https://api.openai.com/v1/chat/completions \"HTTP/1.1 200 OK\"\n",
      "2025-03-17 20:49:19,354 - INFO - HTTP Request: POST https://api.openai.com/v1/chat/completions \"HTTP/1.1 200 OK\"\n",
      "2025-03-17 20:49:20,001 - INFO - HTTP Request: POST https://api.openai.com/v1/chat/completions \"HTTP/1.1 200 OK\"\n",
      "2025-03-17 20:49:20,594 - INFO - HTTP Request: POST https://api.openai.com/v1/chat/completions \"HTTP/1.1 200 OK\"\n",
      "2025-03-17 20:49:21,154 - INFO - HTTP Request: POST https://api.openai.com/v1/chat/completions \"HTTP/1.1 200 OK\"\n",
      "2025-03-17 20:49:21,661 - INFO - HTTP Request: POST https://api.openai.com/v1/chat/completions \"HTTP/1.1 200 OK\"\n",
      "2025-03-17 20:49:22,916 - INFO - HTTP Request: POST https://api.openai.com/v1/chat/completions \"HTTP/1.1 200 OK\"\n"
     ]
    },
    {
     "name": "stdout",
     "output_type": "stream",
     "text": [
      "\n",
      "Headline: 4,148,754 11 \n",
      " EXAMPLE 7 \n",
      " Into a 1 liter autoclave made from stainless steel there \n",
      " are introduced 500 ml of Diesel oil, and the air is dis placed by evacuating and by introducing nitrogen 5 \n",
      " under\n"
     ]
    },
    {
     "name": "stderr",
     "output_type": "stream",
     "text": [
      "2025-03-17 20:49:23,531 - INFO - HTTP Request: POST https://api.openai.com/v1/chat/completions \"HTTP/1.1 200 OK\"\n",
      "2025-03-17 20:49:24,024 - INFO - HTTP Request: POST https://api.openai.com/v1/chat/completions \"HTTP/1.1 200 OK\"\n",
      "2025-03-17 20:49:24,964 - INFO - HTTP Request: POST https://api.openai.com/v1/chat/completions \"HTTP/1.1 200 OK\"\n",
      "2025-03-17 20:49:26,061 - INFO - HTTP Request: POST https://api.openai.com/v1/chat/completions \"HTTP/1.1 200 OK\"\n",
      "2025-03-17 20:49:26,726 - INFO - HTTP Request: POST https://api.openai.com/v1/chat/completions \"HTTP/1.1 200 OK\"\n",
      "2025-03-17 20:49:27,239 - INFO - HTTP Request: POST https://api.openai.com/v1/chat/completions \"HTTP/1.1 200 OK\"\n",
      "2025-03-17 20:49:27,833 - INFO - HTTP Request: POST https://api.openai.com/v1/chat/completions \"HTTP/1.1 200 OK\"\n",
      "2025-03-17 20:49:28,453 - INFO - HTTP Request: POST https://api.openai.com/v1/chat/completions \"HTTP/1.1 200 OK\"\n",
      "2025-03-17 20:49:28,941 - INFO - HTTP Request: POST https://api.openai.com/v1/chat/completions \"HTTP/1.1 200 OK\"\n",
      "2025-03-17 20:49:29,433 - INFO - HTTP Request: POST https://api.openai.com/v1/chat/completions \"HTTP/1.1 200 OK\"\n"
     ]
    },
    {
     "name": "stdout",
     "output_type": "stream",
     "text": [
      "\n",
      "Headline: 4,148,754 3 polyethylene, per gram of the catalyst component A, 330 g. \n",
      " EXAMPLE 11 \n",
      " Ethylene is polymerized under the conditions de scribed in Example 4 in the presence of 0.62 g of the catalyst com\n"
     ]
    },
    {
     "name": "stderr",
     "output_type": "stream",
     "text": [
      "2025-03-17 20:49:29,977 - INFO - HTTP Request: POST https://api.openai.com/v1/chat/completions \"HTTP/1.1 200 OK\"\n",
      "2025-03-17 20:49:30,533 - INFO - HTTP Request: POST https://api.openai.com/v1/chat/completions \"HTTP/1.1 200 OK\"\n",
      "2025-03-17 20:49:31,026 - INFO - HTTP Request: POST https://api.openai.com/v1/chat/completions \"HTTP/1.1 200 OK\"\n",
      "2025-03-17 20:49:31,756 - INFO - HTTP Request: POST https://api.openai.com/v1/chat/completions \"HTTP/1.1 200 OK\"\n",
      "2025-03-17 20:49:32,439 - INFO - HTTP Request: POST https://api.openai.com/v1/chat/completions \"HTTP/1.1 200 OK\"\n",
      "2025-03-17 20:49:33,054 - INFO - HTTP Request: POST https://api.openai.com/v1/chat/completions \"HTTP/1.1 200 OK\"\n",
      "2025-03-17 20:49:33,594 - INFO - HTTP Request: POST https://api.openai.com/v1/chat/completions \"HTTP/1.1 200 OK\"\n",
      "2025-03-17 20:49:34,180 - INFO - HTTP Request: POST https://api.openai.com/v1/chat/completions \"HTTP/1.1 200 OK\"\n"
     ]
    },
    {
     "name": "stdout",
     "output_type": "stream",
     "text": [
      "\n",
      "Headline: 4,148,754 5 ity of the powder 0.077 cm3-sec/g. Pergram of titanium there are obtained 12,700 g, per gram of the component A, 467 g, of polyethylene. \n",
      " EXAMPLE 19 \n",
      " A porous aluminum silicate (85.7% of\n"
     ]
    },
    {
     "name": "stderr",
     "output_type": "stream",
     "text": [
      "2025-03-17 20:49:34,675 - INFO - HTTP Request: POST https://api.openai.com/v1/chat/completions \"HTTP/1.1 200 OK\"\n",
      "2025-03-17 20:49:35,204 - INFO - HTTP Request: POST https://api.openai.com/v1/chat/completions \"HTTP/1.1 200 OK\"\n",
      "2025-03-17 20:49:35,769 - INFO - HTTP Request: POST https://api.openai.com/v1/chat/completions \"HTTP/1.1 200 OK\"\n",
      "2025-03-17 20:49:36,433 - INFO - HTTP Request: POST https://api.openai.com/v1/chat/completions \"HTTP/1.1 200 OK\"\n",
      "2025-03-17 20:49:37,148 - INFO - HTTP Request: POST https://api.openai.com/v1/chat/completions \"HTTP/1.1 200 OK\"\n",
      "2025-03-17 20:49:37,766 - INFO - HTTP Request: POST https://api.openai.com/v1/chat/completions \"HTTP/1.1 200 OK\"\n",
      "2025-03-17 20:49:38,316 - INFO - HTTP Request: POST https://api.openai.com/v1/chat/completions \"HTTP/1.1 200 OK\"\n",
      "2025-03-17 20:49:39,037 - INFO - HTTP Request: POST https://api.openai.com/v1/chat/completions \"HTTP/1.1 200 OK\"\n",
      "2025-03-17 20:49:39,882 - INFO - HTTP Request: POST https://api.openai.com/v1/chat/completions \"HTTP/1.1 200 OK\"\n"
     ]
    },
    {
     "name": "stdout",
     "output_type": "stream",
     "text": [
      "\n",
      "Headline: 4,148,754 17 \n",
      " 14. A compound prepared according to the process as \n",
      " defined in claim 13. \n",
      " 15. A process as defined in claim 1, wherein R* and R6 are alkyl of from 1 to 16 carbon atoms. 16. A compoun\n"
     ]
    },
    {
     "name": "stderr",
     "output_type": "stream",
     "text": [
      "2025-03-17 20:49:40,790 - INFO - HTTP Request: POST https://api.openai.com/v1/chat/completions \"HTTP/1.1 200 OK\"\n",
      "2025-03-17 20:49:41,434 - INFO - HTTP Request: POST https://api.openai.com/v1/chat/completions \"HTTP/1.1 200 OK\"\n",
      "2025-03-17 20:49:42,164 - INFO - HTTP Request: POST https://api.openai.com/v1/chat/completions \"HTTP/1.1 200 OK\"\n"
     ]
    },
    {
     "name": "stdout",
     "output_type": "stream",
     "text": [
      "\n",
      "Headline: United States Patent (19) \n",
      " Nowlin et al. \n",
      " 54 \n",
      " 75 \n",
      " (73) \n",
      " (21) \n",
      " 22 \n",
      " (63) \n",
      " 51 (52) \n",
      " (58) \n",
      " 56) HIGHILY ACTIVE CATALYST \n",
      " COMPOSITION FOR POLYMERIZNG \n",
      " ALPHA-OLEFNS \n",
      " Inventors: Thomas E. Nowlin,\n"
     ]
    },
    {
     "name": "stderr",
     "output_type": "stream",
     "text": [
      "2025-03-17 20:49:43,499 - INFO - HTTP Request: POST https://api.openai.com/v1/chat/completions \"HTTP/1.1 200 OK\"\n",
      "2025-03-17 20:49:44,070 - INFO - HTTP Request: POST https://api.openai.com/v1/chat/completions \"HTTP/1.1 200 OK\"\n"
     ]
    },
    {
     "name": "stdout",
     "output_type": "stream",
     "text": [
      "\n",
      "Headline: U.S. Patent Nov. 6, 1984 Sheet 1 of 5 4,481,301 \n",
      " GAS RECYCLE \n",
      " INERT GAS \n",
      " GAS FEED \n",
      "   \n"
     ]
    },
    {
     "name": "stderr",
     "output_type": "stream",
     "text": [
      "2025-03-17 20:49:44,625 - INFO - HTTP Request: POST https://api.openai.com/v1/chat/completions \"HTTP/1.1 200 OK\"\n"
     ]
    },
    {
     "name": "stdout",
     "output_type": "stream",
     "text": [
      "\n",
      "Headline: \n",
      "\n",
      "Headline: 4,481,301 Sheet 3 of 5 U.S. Patent Nov. 6, 1984 \n",
      " LSÅTVLVO Z'XE DE LSÅTVIVO y o Oi LV8 ZO/#70 SA Å LISNEC] \n",
      " MSNBC OO/SWWS)   \n"
     ]
    },
    {
     "name": "stderr",
     "output_type": "stream",
     "text": [
      "2025-03-17 20:49:45,239 - INFO - HTTP Request: POST https://api.openai.com/v1/chat/completions \"HTTP/1.1 200 OK\"\n"
     ]
    },
    {
     "name": "stdout",
     "output_type": "stream",
     "text": [
      "\n",
      "Headline: U.S. Patent Nov. 6, 1984 Sheet 4 of 5 4,481,301 \n",
      " ON \n",
      " GN \n",
      " O N s 9 a. s \n",
      " V & al 3 s cos O g s \n",
      " N L. Q s cos 2 v C) \n",
      " C O) S \n",
      " OO/SWWOALISN3O s   \n"
     ]
    },
    {
     "name": "stderr",
     "output_type": "stream",
     "text": [
      "2025-03-17 20:49:45,852 - INFO - HTTP Request: POST https://api.openai.com/v1/chat/completions \"HTTP/1.1 200 OK\"\n"
     ]
    },
    {
     "name": "stdout",
     "output_type": "stream",
     "text": [
      "\n",
      "Headline: \n",
      "\n",
      "Headline: 4,481,301 \n",
      " HGHLY ACTIVE CATALYST COMPOSITION \n",
      " FOR POLYMERIZING ALEPHA-OLEFNS \n",
      " CROSS REFERENCE TO RELATED \n",
      " APPLICATION \n",
      " This application is a continuation-in-part of U.S. ap \n",
      " plication Ser. No. 3\n"
     ]
    },
    {
     "name": "stderr",
     "output_type": "stream",
     "text": [
      "2025-03-17 20:49:46,559 - INFO - HTTP Request: POST https://api.openai.com/v1/chat/completions \"HTTP/1.1 200 OK\"\n",
      "2025-03-17 20:49:47,589 - INFO - HTTP Request: POST https://api.openai.com/v1/chat/completions \"HTTP/1.1 200 OK\"\n",
      "2025-03-17 20:49:48,084 - INFO - HTTP Request: POST https://api.openai.com/v1/chat/completions \"HTTP/1.1 200 OK\"\n",
      "2025-03-17 20:49:48,597 - INFO - HTTP Request: POST https://api.openai.com/v1/chat/completions \"HTTP/1.1 200 OK\"\n",
      "2025-03-17 20:49:49,118 - INFO - HTTP Request: POST https://api.openai.com/v1/chat/completions \"HTTP/1.1 200 OK\"\n",
      "2025-03-17 20:49:49,950 - INFO - HTTP Request: POST https://api.openai.com/v1/chat/completions \"HTTP/1.1 200 OK\"\n",
      "2025-03-17 20:49:50,480 - INFO - HTTP Request: POST https://api.openai.com/v1/chat/completions \"HTTP/1.1 200 OK\"\n",
      "2025-03-17 20:49:51,347 - INFO - HTTP Request: POST https://api.openai.com/v1/chat/completions \"HTTP/1.1 200 OK\"\n"
     ]
    },
    {
     "name": "stdout",
     "output_type": "stream",
     "text": [
      "\n",
      "Headline: 4,481,301 3 (i) contacting a solid, porous carrier having reactive OH groups with a liquid in the absence of ball milling, said liquid containing at least one organomagnesium composition having the em\n"
     ]
    },
    {
     "name": "stderr",
     "output_type": "stream",
     "text": [
      "2025-03-17 20:49:52,071 - INFO - HTTP Request: POST https://api.openai.com/v1/chat/completions \"HTTP/1.1 200 OK\"\n",
      "2025-03-17 20:49:52,604 - INFO - HTTP Request: POST https://api.openai.com/v1/chat/completions \"HTTP/1.1 200 OK\"\n",
      "2025-03-17 20:49:53,197 - INFO - HTTP Request: POST https://api.openai.com/v1/chat/completions \"HTTP/1.1 200 OK\"\n",
      "2025-03-17 20:49:53,842 - INFO - HTTP Request: POST https://api.openai.com/v1/chat/completions \"HTTP/1.1 200 OK\"\n",
      "2025-03-17 20:49:54,331 - INFO - HTTP Request: POST https://api.openai.com/v1/chat/completions \"HTTP/1.1 200 OK\"\n",
      "2025-03-17 20:49:54,810 - INFO - HTTP Request: POST https://api.openai.com/v1/chat/completions \"HTTP/1.1 200 OK\"\n",
      "2025-03-17 20:49:55,480 - INFO - HTTP Request: POST https://api.openai.com/v1/chat/completions \"HTTP/1.1 200 OK\"\n",
      "2025-03-17 20:49:56,032 - INFO - HTTP Request: POST https://api.openai.com/v1/chat/completions \"HTTP/1.1 200 OK\"\n"
     ]
    },
    {
     "name": "stdout",
     "output_type": "stream",
     "text": [
      "\n",
      "Headline: 4,481,301 5 Chemically bound water, as represented by a pres ence of OH groups in the carrier, may be present when the carrier is contacted with water-reactive magnesium compounds in accordance with a\n"
     ]
    },
    {
     "name": "stderr",
     "output_type": "stream",
     "text": [
      "2025-03-17 20:49:56,754 - INFO - HTTP Request: POST https://api.openai.com/v1/chat/completions \"HTTP/1.1 200 OK\"\n",
      "2025-03-17 20:49:57,286 - INFO - HTTP Request: POST https://api.openai.com/v1/chat/completions \"HTTP/1.1 200 OK\"\n",
      "2025-03-17 20:49:58,009 - INFO - HTTP Request: POST https://api.openai.com/v1/chat/completions \"HTTP/1.1 200 OK\"\n",
      "2025-03-17 20:49:58,608 - INFO - HTTP Request: POST https://api.openai.com/v1/chat/completions \"HTTP/1.1 200 OK\"\n",
      "2025-03-17 20:49:59,349 - INFO - HTTP Request: POST https://api.openai.com/v1/chat/completions \"HTTP/1.1 200 OK\"\n",
      "2025-03-17 20:50:00,124 - INFO - HTTP Request: POST https://api.openai.com/v1/chat/completions \"HTTP/1.1 200 OK\"\n",
      "2025-03-17 20:50:00,924 - INFO - HTTP Request: POST https://api.openai.com/v1/chat/completions \"HTTP/1.1 200 OK\"\n",
      "2025-03-17 20:50:01,656 - INFO - HTTP Request: POST https://api.openai.com/v1/chat/completions \"HTTP/1.1 200 OK\"\n"
     ]
    },
    {
     "name": "stdout",
     "output_type": "stream",
     "text": [
      "\n",
      "Headline: 4,481,301 \n",
      " C2H5 \n",
      " O \n",
      " Although organomagnesium compounds of the for \n",
      " mula RMgX tend to be insoluble in non-Lewis base solvents such as hexane, these organomagnesium com pounds may be completely solu\n"
     ]
    },
    {
     "name": "stderr",
     "output_type": "stream",
     "text": [
      "2025-03-17 20:50:02,442 - INFO - HTTP Request: POST https://api.openai.com/v1/chat/completions \"HTTP/1.1 200 OK\"\n",
      "2025-03-17 20:50:03,043 - INFO - HTTP Request: POST https://api.openai.com/v1/chat/completions \"HTTP/1.1 200 OK\"\n",
      "2025-03-17 20:50:03,767 - INFO - HTTP Request: POST https://api.openai.com/v1/chat/completions \"HTTP/1.1 200 OK\"\n",
      "2025-03-17 20:50:04,288 - INFO - HTTP Request: POST https://api.openai.com/v1/chat/completions \"HTTP/1.1 200 OK\"\n",
      "2025-03-17 20:50:05,237 - INFO - HTTP Request: POST https://api.openai.com/v1/chat/completions \"HTTP/1.1 200 OK\"\n",
      "2025-03-17 20:50:06,078 - INFO - HTTP Request: POST https://api.openai.com/v1/chat/completions \"HTTP/1.1 200 OK\"\n",
      "2025-03-17 20:50:06,615 - INFO - HTTP Request: POST https://api.openai.com/v1/chat/completions \"HTTP/1.1 200 OK\"\n",
      "2025-03-17 20:50:07,191 - INFO - HTTP Request: POST https://api.openai.com/v1/chat/completions \"HTTP/1.1 200 OK\"\n",
      "2025-03-17 20:50:07,657 - INFO - HTTP Request: POST https://api.openai.com/v1/chat/completions \"HTTP/1.1 200 OK\"\n"
     ]
    },
    {
     "name": "stdout",
     "output_type": "stream",
     "text": [
      "\n",
      "Headline: 4,481,301 \n",
      " may, optionally, be in the form of a complex with one or more electron donating agents (i.e. Lewis bases). More particularly, when ethylmagnesium chloride is precipi tated from a hexane/te\n"
     ]
    },
    {
     "name": "stderr",
     "output_type": "stream",
     "text": [
      "2025-03-17 20:50:08,339 - INFO - HTTP Request: POST https://api.openai.com/v1/chat/completions \"HTTP/1.1 200 OK\"\n",
      "2025-03-17 20:50:08,868 - INFO - HTTP Request: POST https://api.openai.com/v1/chat/completions \"HTTP/1.1 200 OK\"\n",
      "2025-03-17 20:50:09,494 - INFO - HTTP Request: POST https://api.openai.com/v1/chat/completions \"HTTP/1.1 200 OK\"\n",
      "2025-03-17 20:50:10,242 - INFO - HTTP Request: POST https://api.openai.com/v1/chat/completions \"HTTP/1.1 200 OK\"\n",
      "2025-03-17 20:50:11,044 - INFO - HTTP Request: POST https://api.openai.com/v1/chat/completions \"HTTP/1.1 200 OK\"\n",
      "2025-03-17 20:50:11,645 - INFO - HTTP Request: POST https://api.openai.com/v1/chat/completions \"HTTP/1.1 200 OK\"\n",
      "2025-03-17 20:50:12,130 - INFO - HTTP Request: POST https://api.openai.com/v1/chat/completions \"HTTP/1.1 200 OK\"\n",
      "2025-03-17 20:50:12,802 - INFO - HTTP Request: POST https://api.openai.com/v1/chat/completions \"HTTP/1.1 200 OK\"\n",
      "2025-03-17 20:50:13,330 - INFO - HTTP Request: POST https://api.openai.com/v1/chat/completions \"HTTP/1.1 200 OK\"\n",
      "2025-03-17 20:50:13,920 - INFO - HTTP Request: POST https://api.openai.com/v1/chat/completions \"HTTP/1.1 200 OK\"\n",
      "2025-03-17 20:50:15,035 - INFO - HTTP Request: POST https://api.openai.com/v1/chat/completions \"HTTP/1.1 200 OK\"\n",
      "2025-03-17 20:50:15,555 - INFO - HTTP Request: POST https://api.openai.com/v1/chat/completions \"HTTP/1.1 200 OK\"\n"
     ]
    },
    {
     "name": "stdout",
     "output_type": "stream",
     "text": [
      "\n",
      "Headline: 4,481,301 11 \n",
      " alkoxide portion thereof is a C1-C6 alkoxide), or mix tures thereof. A preferred tetravalent titanium com pound is TiCl4. It may also be possible to replace some or all of the above-men\n"
     ]
    },
    {
     "name": "stderr",
     "output_type": "stream",
     "text": [
      "2025-03-17 20:50:16,163 - INFO - HTTP Request: POST https://api.openai.com/v1/chat/completions \"HTTP/1.1 200 OK\"\n",
      "2025-03-17 20:50:16,704 - INFO - HTTP Request: POST https://api.openai.com/v1/chat/completions \"HTTP/1.1 200 OK\"\n",
      "2025-03-17 20:50:17,276 - INFO - HTTP Request: POST https://api.openai.com/v1/chat/completions \"HTTP/1.1 200 OK\"\n",
      "2025-03-17 20:50:17,883 - INFO - HTTP Request: POST https://api.openai.com/v1/chat/completions \"HTTP/1.1 200 OK\"\n",
      "2025-03-17 20:50:18,572 - INFO - HTTP Request: POST https://api.openai.com/v1/chat/completions \"HTTP/1.1 200 OK\"\n",
      "2025-03-17 20:50:19,077 - INFO - HTTP Request: POST https://api.openai.com/v1/chat/completions \"HTTP/1.1 200 OK\"\n",
      "2025-03-17 20:50:19,570 - INFO - HTTP Request: POST https://api.openai.com/v1/chat/completions \"HTTP/1.1 200 OK\"\n",
      "2025-03-17 20:50:20,057 - INFO - HTTP Request: POST https://api.openai.com/v1/chat/completions \"HTTP/1.1 200 OK\"\n",
      "2025-03-17 20:50:20,602 - INFO - HTTP Request: POST https://api.openai.com/v1/chat/completions \"HTTP/1.1 200 OK\"\n"
     ]
    },
    {
     "name": "stdout",
     "output_type": "stream",
     "text": [
      "\n",
      "Headline: 4,481,301 13 \n",
      " certain aspects of the present invention is felt to be sufficient to produce a linear low density polyethylene polymer which is an ethylene/1-hexene copolymer, e.g., having a density of\n"
     ]
    },
    {
     "name": "stderr",
     "output_type": "stream",
     "text": [
      "2025-03-17 20:50:21,185 - INFO - HTTP Request: POST https://api.openai.com/v1/chat/completions \"HTTP/1.1 200 OK\"\n",
      "2025-03-17 20:50:21,902 - INFO - HTTP Request: POST https://api.openai.com/v1/chat/completions \"HTTP/1.1 200 OK\"\n",
      "2025-03-17 20:50:22,437 - INFO - HTTP Request: POST https://api.openai.com/v1/chat/completions \"HTTP/1.1 200 OK\"\n",
      "2025-03-17 20:50:23,021 - INFO - HTTP Request: POST https://api.openai.com/v1/chat/completions \"HTTP/1.1 200 OK\"\n",
      "2025-03-17 20:50:23,488 - INFO - HTTP Request: POST https://api.openai.com/v1/chat/completions \"HTTP/1.1 200 OK\"\n",
      "2025-03-17 20:50:24,003 - INFO - HTTP Request: POST https://api.openai.com/v1/chat/completions \"HTTP/1.1 200 OK\"\n",
      "2025-03-17 20:50:24,709 - INFO - HTTP Request: POST https://api.openai.com/v1/chat/completions \"HTTP/1.1 200 OK\"\n",
      "2025-03-17 20:50:25,275 - INFO - HTTP Request: POST https://api.openai.com/v1/chat/completions \"HTTP/1.1 200 OK\"\n",
      "2025-03-17 20:50:26,437 - INFO - HTTP Request: POST https://api.openai.com/v1/chat/completions \"HTTP/1.1 200 OK\"\n",
      "2025-03-17 20:50:26,900 - INFO - HTTP Request: POST https://api.openai.com/v1/chat/completions \"HTTP/1.1 200 OK\"\n",
      "2025-03-17 20:50:27,738 - INFO - HTTP Request: POST https://api.openai.com/v1/chat/completions \"HTTP/1.1 200 OK\"\n",
      "2025-03-17 20:50:28,290 - INFO - HTTP Request: POST https://api.openai.com/v1/chat/completions \"HTTP/1.1 200 OK\"\n",
      "2025-03-17 20:50:28,859 - INFO - HTTP Request: POST https://api.openai.com/v1/chat/completions \"HTTP/1.1 200 OK\"\n"
     ]
    },
    {
     "name": "stdout",
     "output_type": "stream",
     "text": [
      "\n",
      "Headline: 4,481,301 15 \n",
      " fluidized bed through distribution plate 20. The com pressor 25 can also be placed upstream of the heat ex changer 26. The distribution plate 20 plays an important role in the operation\n"
     ]
    },
    {
     "name": "stderr",
     "output_type": "stream",
     "text": [
      "2025-03-17 20:50:29,583 - INFO - HTTP Request: POST https://api.openai.com/v1/chat/completions \"HTTP/1.1 200 OK\"\n",
      "2025-03-17 20:50:30,101 - INFO - HTTP Request: POST https://api.openai.com/v1/chat/completions \"HTTP/1.1 200 OK\"\n",
      "2025-03-17 20:50:30,600 - INFO - HTTP Request: POST https://api.openai.com/v1/chat/completions \"HTTP/1.1 200 OK\"\n",
      "2025-03-17 20:50:31,120 - INFO - HTTP Request: POST https://api.openai.com/v1/chat/completions \"HTTP/1.1 200 OK\"\n",
      "2025-03-17 20:50:31,595 - INFO - HTTP Request: POST https://api.openai.com/v1/chat/completions \"HTTP/1.1 200 OK\"\n",
      "2025-03-17 20:50:32,143 - INFO - HTTP Request: POST https://api.openai.com/v1/chat/completions \"HTTP/1.1 200 OK\"\n",
      "2025-03-17 20:50:32,839 - INFO - HTTP Request: POST https://api.openai.com/v1/chat/completions \"HTTP/1.1 200 OK\"\n",
      "2025-03-17 20:50:33,323 - INFO - HTTP Request: POST https://api.openai.com/v1/chat/completions \"HTTP/1.1 200 OK\"\n",
      "2025-03-17 20:50:33,888 - INFO - HTTP Request: POST https://api.openai.com/v1/chat/completions \"HTTP/1.1 200 OK\"\n",
      "2025-03-17 20:50:34,602 - INFO - HTTP Request: POST https://api.openai.com/v1/chat/completions \"HTTP/1.1 200 OK\"\n",
      "2025-03-17 20:50:35,081 - INFO - HTTP Request: POST https://api.openai.com/v1/chat/completions \"HTTP/1.1 200 OK\"\n",
      "2025-03-17 20:50:35,831 - INFO - HTTP Request: POST https://api.openai.com/v1/chat/completions \"HTTP/1.1 200 OK\"\n"
     ]
    },
    {
     "name": "stdout",
     "output_type": "stream",
     "text": [
      "\n",
      "Headline: 4,481,301 17 \n",
      " is then opened to deliver the product to an external recovery zone. Valve 38 is then closed to await the next product recovery operation. \n",
      " Finally, the fluidized bed reactor is equippe\n"
     ]
    },
    {
     "name": "stderr",
     "output_type": "stream",
     "text": [
      "2025-03-17 20:50:36,343 - INFO - HTTP Request: POST https://api.openai.com/v1/chat/completions \"HTTP/1.1 200 OK\"\n",
      "2025-03-17 20:50:36,840 - INFO - HTTP Request: POST https://api.openai.com/v1/chat/completions \"HTTP/1.1 200 OK\"\n",
      "2025-03-17 20:50:37,464 - INFO - HTTP Request: POST https://api.openai.com/v1/chat/completions \"HTTP/1.1 200 OK\"\n",
      "2025-03-17 20:50:38,083 - INFO - HTTP Request: POST https://api.openai.com/v1/chat/completions \"HTTP/1.1 200 OK\"\n",
      "2025-03-17 20:50:38,699 - INFO - HTTP Request: POST https://api.openai.com/v1/chat/completions \"HTTP/1.1 200 OK\"\n",
      "2025-03-17 20:50:39,259 - INFO - HTTP Request: POST https://api.openai.com/v1/chat/completions \"HTTP/1.1 200 OK\"\n",
      "2025-03-17 20:50:39,825 - INFO - HTTP Request: POST https://api.openai.com/v1/chat/completions \"HTTP/1.1 200 OK\"\n",
      "2025-03-17 20:50:41,054 - INFO - HTTP Request: POST https://api.openai.com/v1/chat/completions \"HTTP/1.1 200 OK\"\n",
      "2025-03-17 20:50:41,562 - INFO - HTTP Request: POST https://api.openai.com/v1/chat/completions \"HTTP/1.1 200 OK\"\n"
     ]
    },
    {
     "name": "stdout",
     "output_type": "stream",
     "text": [
      "\n",
      "Headline: 4,481,301 19 \n",
      " substantially in accordance with this Karol et al patent are referred to herein as \"comparative A' catalysts or simply as 'A' catalysts. The comparative A catalysts are felt to be subst\n"
     ]
    },
    {
     "name": "stderr",
     "output_type": "stream",
     "text": [
      "2025-03-17 20:50:42,329 - INFO - HTTP Request: POST https://api.openai.com/v1/chat/completions \"HTTP/1.1 200 OK\"\n",
      "2025-03-17 20:50:43,082 - INFO - HTTP Request: POST https://api.openai.com/v1/chat/completions \"HTTP/1.1 200 OK\"\n",
      "2025-03-17 20:50:43,728 - INFO - HTTP Request: POST https://api.openai.com/v1/chat/completions \"HTTP/1.1 200 OK\"\n",
      "2025-03-17 20:50:44,491 - INFO - HTTP Request: POST https://api.openai.com/v1/chat/completions \"HTTP/1.1 200 OK\"\n",
      "2025-03-17 20:50:45,127 - INFO - HTTP Request: POST https://api.openai.com/v1/chat/completions \"HTTP/1.1 200 OK\"\n",
      "2025-03-17 20:50:45,628 - INFO - HTTP Request: POST https://api.openai.com/v1/chat/completions \"HTTP/1.1 200 OK\"\n",
      "2025-03-17 20:50:46,173 - INFO - HTTP Request: POST https://api.openai.com/v1/chat/completions \"HTTP/1.1 200 OK\"\n"
     ]
    },
    {
     "name": "stdout",
     "output_type": "stream",
     "text": [
      "\n",
      "Headline: 4,481,301 21 I2 melt index level over a range of magnesium loadings into Davison 952 silica dried at 200 C. \n",
      " If silica dried at 800 C, is used in place of silica dried at 200 C., the copolymerization\n"
     ]
    },
    {
     "name": "stderr",
     "output_type": "stream",
     "text": [
      "2025-03-17 20:50:46,961 - INFO - HTTP Request: POST https://api.openai.com/v1/chat/completions \"HTTP/1.1 200 OK\"\n",
      "2025-03-17 20:50:47,493 - INFO - HTTP Request: POST https://api.openai.com/v1/chat/completions \"HTTP/1.1 200 OK\"\n",
      "2025-03-17 20:50:48,050 - INFO - HTTP Request: POST https://api.openai.com/v1/chat/completions \"HTTP/1.1 200 OK\"\n",
      "2025-03-17 20:50:48,781 - INFO - HTTP Request: POST https://api.openai.com/v1/chat/completions \"HTTP/1.1 200 OK\"\n",
      "2025-03-17 20:50:49,555 - INFO - HTTP Request: POST https://api.openai.com/v1/chat/completions \"HTTP/1.1 200 OK\"\n",
      "2025-03-17 20:50:50,110 - INFO - HTTP Request: POST https://api.openai.com/v1/chat/completions \"HTTP/1.1 200 OK\"\n",
      "2025-03-17 20:50:50,579 - INFO - HTTP Request: POST https://api.openai.com/v1/chat/completions \"HTTP/1.1 200 OK\"\n"
     ]
    },
    {
     "name": "stdout",
     "output_type": "stream",
     "text": [
      "\n",
      "Headline: 4,481,301 23 The catalyst of Example 2 may generate about four times as much heat (per area of catalyst particle) as the Example 6 catalyst. This extra heat could result in se vere temperature gradien\n"
     ]
    },
    {
     "name": "stderr",
     "output_type": "stream",
     "text": [
      "2025-03-17 20:50:51,707 - INFO - HTTP Request: POST https://api.openai.com/v1/chat/completions \"HTTP/1.1 200 OK\"\n",
      "2025-03-17 20:50:52,338 - INFO - HTTP Request: POST https://api.openai.com/v1/chat/completions \"HTTP/1.1 200 OK\"\n",
      "2025-03-17 20:50:52,935 - INFO - HTTP Request: POST https://api.openai.com/v1/chat/completions \"HTTP/1.1 200 OK\"\n",
      "2025-03-17 20:50:53,419 - INFO - HTTP Request: POST https://api.openai.com/v1/chat/completions \"HTTP/1.1 200 OK\"\n",
      "2025-03-17 20:50:54,163 - INFO - HTTP Request: POST https://api.openai.com/v1/chat/completions \"HTTP/1.1 200 OK\"\n",
      "2025-03-17 20:50:54,882 - INFO - HTTP Request: POST https://api.openai.com/v1/chat/completions \"HTTP/1.1 200 OK\"\n",
      "2025-03-17 20:50:55,394 - INFO - HTTP Request: POST https://api.openai.com/v1/chat/completions \"HTTP/1.1 200 OK\"\n"
     ]
    },
    {
     "name": "stdout",
     "output_type": "stream",
     "text": [
      "\n",
      "Headline: 4,481,301 25 \n",
      " COMPARATIVE EXAMPLE B \n",
      " The catalyst of this Comparative Example was pre pared in accordance with Example 7 of the Yamaguchi \n",
      " et al U.S. Pat. No. 3,989,881. One will readily note the s\n"
     ]
    },
    {
     "name": "stderr",
     "output_type": "stream",
     "text": [
      "2025-03-17 20:50:56,110 - INFO - HTTP Request: POST https://api.openai.com/v1/chat/completions \"HTTP/1.1 200 OK\"\n",
      "2025-03-17 20:50:56,617 - INFO - HTTP Request: POST https://api.openai.com/v1/chat/completions \"HTTP/1.1 200 OK\"\n",
      "2025-03-17 20:50:57,454 - INFO - HTTP Request: POST https://api.openai.com/v1/chat/completions \"HTTP/1.1 200 OK\"\n",
      "2025-03-17 20:50:58,213 - INFO - HTTP Request: POST https://api.openai.com/v1/chat/completions \"HTTP/1.1 200 OK\"\n",
      "2025-03-17 20:50:58,980 - INFO - HTTP Request: POST https://api.openai.com/v1/chat/completions \"HTTP/1.1 200 OK\"\n",
      "2025-03-17 20:50:59,688 - INFO - HTTP Request: POST https://api.openai.com/v1/chat/completions \"HTTP/1.1 200 OK\"\n",
      "2025-03-17 20:51:00,486 - INFO - HTTP Request: POST https://api.openai.com/v1/chat/completions \"HTTP/1.1 200 OK\"\n"
     ]
    },
    {
     "name": "stdout",
     "output_type": "stream",
     "text": [
      "\n",
      "Headline: 4,481,301 27 28 \n",
      " TABLE IX-continued \n",
      " COMPARISON OF EX.8 CATALYST WITH BAND C \n",
      " Run Identification Polymerization Conditions\" Product Obtained \n",
      " Catayst Cat. Wt. H2 Total P TEAL Al/Ti Hexene Density \n"
     ]
    },
    {
     "name": "stderr",
     "output_type": "stream",
     "text": [
      "2025-03-17 20:51:00,965 - INFO - HTTP Request: POST https://api.openai.com/v1/chat/completions \"HTTP/1.1 200 OK\"\n",
      "2025-03-17 20:51:02,080 - INFO - HTTP Request: POST https://api.openai.com/v1/chat/completions \"HTTP/1.1 200 OK\"\n",
      "2025-03-17 20:51:02,765 - INFO - HTTP Request: POST https://api.openai.com/v1/chat/completions \"HTTP/1.1 200 OK\"\n",
      "2025-03-17 20:51:03,278 - INFO - HTTP Request: POST https://api.openai.com/v1/chat/completions \"HTTP/1.1 200 OK\"\n",
      "2025-03-17 20:51:03,782 - INFO - HTTP Request: POST https://api.openai.com/v1/chat/completions \"HTTP/1.1 200 OK\"\n",
      "2025-03-17 20:51:04,295 - INFO - HTTP Request: POST https://api.openai.com/v1/chat/completions \"HTTP/1.1 200 OK\"\n"
     ]
    },
    {
     "name": "stdout",
     "output_type": "stream",
     "text": [
      "\n",
      "Headline: 4,481,301 29 moles of said organomagnesium composition to the number of moles of OH groups on said silica being from about 1.1 to about 2.5, whereby said or ganomagnesium composition is reacted with s\n"
     ]
    },
    {
     "name": "stderr",
     "output_type": "stream",
     "text": [
      "2025-03-17 20:51:05,067 - INFO - HTTP Request: POST https://api.openai.com/v1/chat/completions \"HTTP/1.1 200 OK\"\n",
      "2025-03-17 20:51:05,634 - INFO - HTTP Request: POST https://api.openai.com/v1/chat/completions \"HTTP/1.1 200 OK\"\n",
      "2025-03-17 20:51:06,205 - INFO - HTTP Request: POST https://api.openai.com/v1/chat/completions \"HTTP/1.1 200 OK\"\n",
      "2025-03-17 20:51:06,768 - INFO - HTTP Request: POST https://api.openai.com/v1/chat/completions \"HTTP/1.1 200 OK\"\n",
      "2025-03-17 20:51:07,429 - INFO - HTTP Request: POST https://api.openai.com/v1/chat/completions \"HTTP/1.1 200 OK\"\n",
      "2025-03-17 20:51:07,974 - INFO - HTTP Request: POST https://api.openai.com/v1/chat/completions \"HTTP/1.1 200 OK\"\n",
      "2025-03-17 20:51:08,688 - INFO - HTTP Request: POST https://api.openai.com/v1/chat/completions \"HTTP/1.1 200 OK\"\n",
      "2025-03-17 20:51:09,231 - INFO - HTTP Request: POST https://api.openai.com/v1/chat/completions \"HTTP/1.1 200 OK\"\n",
      "2025-03-17 20:51:09,834 - INFO - HTTP Request: POST https://api.openai.com/v1/chat/completions \"HTTP/1.1 200 OK\"\n"
     ]
    },
    {
     "name": "stdout",
     "output_type": "stream",
     "text": [
      "\n",
      "Headline: UNITED STATES PATENT AND TRADEMARK OFFICE \n",
      " CERTIFICATE OF CORRECTION \n",
      "PATENT NO. : 4,481,301 Page 1 of 2 \n",
      " DATED : November 6, 1984 \n",
      "INVENTOR(S) : T.E. NOWLIN, and K.P. WAGNER \n",
      " It is Certified that \n"
     ]
    },
    {
     "name": "stderr",
     "output_type": "stream",
     "text": [
      "2025-03-17 20:51:10,445 - INFO - HTTP Request: POST https://api.openai.com/v1/chat/completions \"HTTP/1.1 200 OK\"\n",
      "2025-03-17 20:51:11,005 - INFO - HTTP Request: POST https://api.openai.com/v1/chat/completions \"HTTP/1.1 200 OK\"\n"
     ]
    },
    {
     "name": "stdout",
     "output_type": "stream",
     "text": [
      "\n",
      "Headline: — \n",
      " UNITED STATES PATENT AND TRADEMARK OFFICE \n",
      " CERTIFICATE OF CORRECTION \n",
      "PATENT NO. \n",
      "DATED \n",
      "INVENTOR(S) : \n",
      " It is Certified that error appears in the above-identified patent and that said Letters Pa\n"
     ]
    },
    {
     "name": "stderr",
     "output_type": "stream",
     "text": [
      "2025-03-17 20:51:11,566 - INFO - HTTP Request: POST https://api.openai.com/v1/chat/completions \"HTTP/1.1 200 OK\"\n",
      "2025-03-17 20:51:12,247 - INFO - HTTP Request: POST https://api.openai.com/v1/chat/completions \"HTTP/1.1 200 OK\"\n"
     ]
    },
    {
     "name": "stdout",
     "output_type": "stream",
     "text": [
      "\n",
      "Headline: United States Patent (19) \n",
      " Nowlin et al. \n",
      " 54 \n",
      " 75 \n",
      " 73) \n",
      " (21) \n",
      " 22) \n",
      " 51 (52) \n",
      " (58) \n",
      " 56) CATALYST COMPOSITION FOR \n",
      " POLYMERZNG ALPHA-OLEFIN \n",
      " POLYMERS OF NARROW MOLECULAR \n",
      " WEIGHT DISTRIBUTION \n",
      " \n"
     ]
    },
    {
     "name": "stderr",
     "output_type": "stream",
     "text": [
      "2025-03-17 20:51:13,355 - INFO - HTTP Request: POST https://api.openai.com/v1/chat/completions \"HTTP/1.1 200 OK\"\n",
      "2025-03-17 20:51:14,033 - INFO - HTTP Request: POST https://api.openai.com/v1/chat/completions \"HTTP/1.1 200 OK\"\n",
      "2025-03-17 20:51:14,526 - INFO - HTTP Request: POST https://api.openai.com/v1/chat/completions \"HTTP/1.1 200 OK\"\n"
     ]
    },
    {
     "name": "stdout",
     "output_type": "stream",
     "text": [
      "\n",
      "Headline: U.S. Patent Jul.18, 1989 Sheet 1 of 4 4,849,389 \n",
      " s N l \n",
      " f i \n",
      " s \n",
      " (SONWSOHL) (OHILWO W9I SWW.9) \n",
      " MINO?OOld   \n"
     ]
    },
    {
     "name": "stderr",
     "output_type": "stream",
     "text": [
      "2025-03-17 20:51:15,176 - INFO - HTTP Request: POST https://api.openai.com/v1/chat/completions \"HTTP/1.1 200 OK\"\n"
     ]
    },
    {
     "name": "stdout",
     "output_type": "stream",
     "text": [
      "\n",
      "Headline: U.S. Patent Jul.18, 1989 Sheet 2 of 4 4,849,389 \n",
      " MFR vs -HEXENE CONTENT . 34 TEAL OR TMA AS COCATALYST - CATALYST OF EXAMPLE \n",
      " 30 u ul-F 28 u- - \n",
      " 2O 2 2.4 2.8 3.2 3.6 4.0 4.4 4.8 \n",
      " -HEXENE CONTENT I\n"
     ]
    },
    {
     "name": "stderr",
     "output_type": "stream",
     "text": [
      "2025-03-17 20:51:15,806 - INFO - HTTP Request: POST https://api.openai.com/v1/chat/completions \"HTTP/1.1 200 OK\"\n"
     ]
    },
    {
     "name": "stdout",
     "output_type": "stream",
     "text": [
      "\n",
      "Headline: U.S. Patent Jul.18, 1989 Sheet 3 of 4 4,849,389 \n",
      " N 7 EFFECT OF DRYING TEMPERATURE \n",
      " PRODUCTIVITY WITH TEAL OR TMA \n",
      " 2 TEAL \n",
      " NTMA. \n",
      " DRY 90'C U DRY 55 DRYING TEMPERATURE FIG. \n",
      " CORRELATION BETWEEN MF\n"
     ]
    },
    {
     "name": "stderr",
     "output_type": "stream",
     "text": [
      "2025-03-17 20:51:16,294 - INFO - HTTP Request: POST https://api.openai.com/v1/chat/completions \"HTTP/1.1 200 OK\"\n"
     ]
    },
    {
     "name": "stdout",
     "output_type": "stream",
     "text": [
      "\n",
      "Headline: U.S. Patent Jul.18, 1989 Sheet 4 of 4 4,849,389 \n",
      " CORRELATION BETWEEN MFR AND TMA CONCENTRATION \n",
      " FOR A COMPARATIVE CATALYST (EXAMPLE 15B) AND THE INVENTIVE CATALYST (EXAMPLE: SMILAR TO \n",
      " EXAMPLE I) \n",
      "\n"
     ]
    },
    {
     "name": "stderr",
     "output_type": "stream",
     "text": [
      "2025-03-17 20:51:16,821 - INFO - HTTP Request: POST https://api.openai.com/v1/chat/completions \"HTTP/1.1 200 OK\"\n"
     ]
    },
    {
     "name": "stdout",
     "output_type": "stream",
     "text": [
      "\n",
      "Headline: 4,849,389 1. \n",
      " CATALYST COMPOSITION FOR \n",
      " POLYMERIZING ALPHAOLEFN POLYMERS \n",
      " OF NARROW MOLECULAR WEIGHT \n",
      " DISTRIBUTION \n",
      " BACKGROUND OF THE INVENTION \n",
      " 1. Field of the Invention \n",
      " The present invention\n"
     ]
    },
    {
     "name": "stderr",
     "output_type": "stream",
     "text": [
      "2025-03-17 20:51:17,734 - INFO - HTTP Request: POST https://api.openai.com/v1/chat/completions \"HTTP/1.1 200 OK\"\n",
      "2025-03-17 20:51:18,470 - INFO - HTTP Request: POST https://api.openai.com/v1/chat/completions \"HTTP/1.1 200 OK\"\n",
      "2025-03-17 20:51:19,358 - INFO - HTTP Request: POST https://api.openai.com/v1/chat/completions \"HTTP/1.1 200 OK\"\n",
      "2025-03-17 20:51:19,944 - INFO - HTTP Request: POST https://api.openai.com/v1/chat/completions \"HTTP/1.1 200 OK\"\n",
      "2025-03-17 20:51:20,477 - INFO - HTTP Request: POST https://api.openai.com/v1/chat/completions \"HTTP/1.1 200 OK\"\n",
      "2025-03-17 20:51:21,171 - INFO - HTTP Request: POST https://api.openai.com/v1/chat/completions \"HTTP/1.1 200 OK\"\n",
      "2025-03-17 20:51:21,695 - INFO - HTTP Request: POST https://api.openai.com/v1/chat/completions \"HTTP/1.1 200 OK\"\n",
      "2025-03-17 20:51:22,152 - INFO - HTTP Request: POST https://api.openai.com/v1/chat/completions \"HTTP/1.1 200 OK\"\n"
     ]
    },
    {
     "name": "stdout",
     "output_type": "stream",
     "text": [
      "\n",
      "Headline: 4,849,389 3 \n",
      " as publication No. 0231102, disclose an alpha-olefin polymerization catalyst composition activated with trimethylaluminum which produces polymers having \n",
      " relatively low values of MRF an\n"
     ]
    },
    {
     "name": "stderr",
     "output_type": "stream",
     "text": [
      "2025-03-17 20:51:22,826 - INFO - HTTP Request: POST https://api.openai.com/v1/chat/completions \"HTTP/1.1 200 OK\"\n",
      "2025-03-17 20:51:23,522 - INFO - HTTP Request: POST https://api.openai.com/v1/chat/completions \"HTTP/1.1 200 OK\"\n",
      "2025-03-17 20:51:24,172 - INFO - HTTP Request: POST https://api.openai.com/v1/chat/completions \"HTTP/1.1 200 OK\"\n",
      "2025-03-17 20:51:25,044 - INFO - HTTP Request: POST https://api.openai.com/v1/chat/completions \"HTTP/1.1 200 OK\"\n",
      "2025-03-17 20:51:25,707 - INFO - HTTP Request: POST https://api.openai.com/v1/chat/completions \"HTTP/1.1 200 OK\"\n",
      "2025-03-17 20:51:26,324 - INFO - HTTP Request: POST https://api.openai.com/v1/chat/completions \"HTTP/1.1 200 OK\"\n",
      "2025-03-17 20:51:26,934 - INFO - HTTP Request: POST https://api.openai.com/v1/chat/completions \"HTTP/1.1 200 OK\"\n"
     ]
    },
    {
     "name": "stdout",
     "output_type": "stream",
     "text": [
      "\n",
      "Headline: 4,849,389 5 \n",
      " into the solvent, preferably while stirring, and heating the mixture is about 25 to about 100 C., preferably about 40 to about 60° C. The slurry is then contacted with the aforementioned\n"
     ]
    },
    {
     "name": "stderr",
     "output_type": "stream",
     "text": [
      "2025-03-17 20:51:27,504 - INFO - HTTP Request: POST https://api.openai.com/v1/chat/completions \"HTTP/1.1 200 OK\"\n",
      "2025-03-17 20:51:28,161 - INFO - HTTP Request: POST https://api.openai.com/v1/chat/completions \"HTTP/1.1 200 OK\"\n",
      "2025-03-17 20:51:28,985 - INFO - HTTP Request: POST https://api.openai.com/v1/chat/completions \"HTTP/1.1 200 OK\"\n",
      "2025-03-17 20:51:29,491 - INFO - HTTP Request: POST https://api.openai.com/v1/chat/completions \"HTTP/1.1 200 OK\"\n",
      "2025-03-17 20:51:32,977 - INFO - HTTP Request: POST https://api.openai.com/v1/chat/completions \"HTTP/1.1 200 OK\"\n",
      "2025-03-17 20:51:33,466 - INFO - HTTP Request: POST https://api.openai.com/v1/chat/completions \"HTTP/1.1 200 OK\"\n",
      "2025-03-17 20:51:34,209 - INFO - HTTP Request: POST https://api.openai.com/v1/chat/completions \"HTTP/1.1 200 OK\"\n",
      "2025-03-17 20:51:35,101 - INFO - HTTP Request: POST https://api.openai.com/v1/chat/completions \"HTTP/1.1 200 OK\"\n",
      "2025-03-17 20:51:36,231 - INFO - HTTP Request: POST https://api.openai.com/v1/chat/completions \"HTTP/1.1 200 OK\"\n",
      "2025-03-17 20:51:36,967 - INFO - HTTP Request: POST https://api.openai.com/v1/chat/completions \"HTTP/1.1 200 OK\"\n"
     ]
    },
    {
     "name": "stdout",
     "output_type": "stream",
     "text": [
      "\n",
      "Headline: 4,849,389 7 \n",
      " injection molding products which are resistant to warp ing or shrinking. \n",
      " Suitable transition metal compounds used herein are compounds of metals of Groups IVA, VA, VIA or VIII of the P\n"
     ]
    },
    {
     "name": "stderr",
     "output_type": "stream",
     "text": [
      "2025-03-17 20:51:37,607 - INFO - HTTP Request: POST https://api.openai.com/v1/chat/completions \"HTTP/1.1 200 OK\"\n",
      "2025-03-17 20:51:38,173 - INFO - HTTP Request: POST https://api.openai.com/v1/chat/completions \"HTTP/1.1 200 OK\"\n",
      "2025-03-17 20:51:38,689 - INFO - HTTP Request: POST https://api.openai.com/v1/chat/completions \"HTTP/1.1 200 OK\"\n",
      "2025-03-17 20:51:39,534 - INFO - HTTP Request: POST https://api.openai.com/v1/chat/completions \"HTTP/1.1 200 OK\"\n",
      "2025-03-17 20:51:40,234 - INFO - HTTP Request: POST https://api.openai.com/v1/chat/completions \"HTTP/1.1 200 OK\"\n",
      "2025-03-17 20:51:40,809 - INFO - HTTP Request: POST https://api.openai.com/v1/chat/completions \"HTTP/1.1 200 OK\"\n",
      "2025-03-17 20:51:41,373 - INFO - HTTP Request: POST https://api.openai.com/v1/chat/completions \"HTTP/1.1 200 OK\"\n",
      "2025-03-17 20:51:42,135 - INFO - HTTP Request: POST https://api.openai.com/v1/chat/completions \"HTTP/1.1 200 OK\"\n",
      "2025-03-17 20:51:42,671 - INFO - HTTP Request: POST https://api.openai.com/v1/chat/completions \"HTTP/1.1 200 OK\"\n"
     ]
    },
    {
     "name": "stdout",
     "output_type": "stream",
     "text": [
      "\n",
      "Headline: 4,849,389 9 \n",
      " known to those skilled in the art, such MFR values are indicative of a relatively narrow molecular weight dis tribution of the polymer. As is also known to those skilled in the art, such\n"
     ]
    },
    {
     "name": "stderr",
     "output_type": "stream",
     "text": [
      "2025-03-17 20:51:43,178 - INFO - HTTP Request: POST https://api.openai.com/v1/chat/completions \"HTTP/1.1 200 OK\"\n",
      "2025-03-17 20:51:43,668 - INFO - HTTP Request: POST https://api.openai.com/v1/chat/completions \"HTTP/1.1 200 OK\"\n",
      "2025-03-17 20:51:44,289 - INFO - HTTP Request: POST https://api.openai.com/v1/chat/completions \"HTTP/1.1 200 OK\"\n",
      "2025-03-17 20:51:45,065 - INFO - HTTP Request: POST https://api.openai.com/v1/chat/completions \"HTTP/1.1 200 OK\"\n",
      "2025-03-17 20:51:45,663 - INFO - HTTP Request: POST https://api.openai.com/v1/chat/completions \"HTTP/1.1 200 OK\"\n",
      "2025-03-17 20:51:46,192 - INFO - HTTP Request: POST https://api.openai.com/v1/chat/completions \"HTTP/1.1 200 OK\"\n"
     ]
    },
    {
     "name": "stdout",
     "output_type": "stream",
     "text": [
      "\n",
      "Headline: 4,849,389 11 \n",
      " heated to about 80° C. under purge of dry nitrogen, was filled with 400 mls of dry hexane, 200 mls of dry 1-hex ane and 3.0 mls of triethylaluminum (25 wt % in hex \n",
      " ane). The reactor w\n"
     ]
    },
    {
     "name": "stderr",
     "output_type": "stream",
     "text": [
      "2025-03-17 20:51:46,705 - INFO - HTTP Request: POST https://api.openai.com/v1/chat/completions \"HTTP/1.1 200 OK\"\n",
      "2025-03-17 20:51:47,359 - INFO - HTTP Request: POST https://api.openai.com/v1/chat/completions \"HTTP/1.1 200 OK\"\n",
      "2025-03-17 20:51:48,137 - INFO - HTTP Request: POST https://api.openai.com/v1/chat/completions \"HTTP/1.1 200 OK\"\n",
      "2025-03-17 20:51:48,743 - INFO - HTTP Request: POST https://api.openai.com/v1/chat/completions \"HTTP/1.1 200 OK\"\n",
      "2025-03-17 20:51:49,502 - INFO - HTTP Request: POST https://api.openai.com/v1/chat/completions \"HTTP/1.1 200 OK\"\n",
      "2025-03-17 20:51:50,062 - INFO - HTTP Request: POST https://api.openai.com/v1/chat/completions \"HTTP/1.1 200 OK\"\n",
      "2025-03-17 20:51:50,667 - INFO - HTTP Request: POST https://api.openai.com/v1/chat/completions \"HTTP/1.1 200 OK\"\n"
     ]
    },
    {
     "name": "stdout",
     "output_type": "stream",
     "text": [
      "\n",
      "Headline: 4,849,389 13 catalyst precursor was injected with ethylene overpres \n",
      " sure. The temperature was maintained at 80 C. and 150-200 grams of copolymer was produced in 50-60 \n",
      " minutes. The effect of increa\n"
     ]
    },
    {
     "name": "stderr",
     "output_type": "stream",
     "text": [
      "2025-03-17 20:51:51,228 - INFO - HTTP Request: POST https://api.openai.com/v1/chat/completions \"HTTP/1.1 200 OK\"\n",
      "2025-03-17 20:51:51,821 - INFO - HTTP Request: POST https://api.openai.com/v1/chat/completions \"HTTP/1.1 200 OK\"\n",
      "2025-03-17 20:51:52,342 - INFO - HTTP Request: POST https://api.openai.com/v1/chat/completions \"HTTP/1.1 200 OK\"\n",
      "2025-03-17 20:51:52,948 - INFO - HTTP Request: POST https://api.openai.com/v1/chat/completions \"HTTP/1.1 200 OK\"\n",
      "2025-03-17 20:51:53,699 - INFO - HTTP Request: POST https://api.openai.com/v1/chat/completions \"HTTP/1.1 200 OK\"\n",
      "2025-03-17 20:51:54,425 - INFO - HTTP Request: POST https://api.openai.com/v1/chat/completions \"HTTP/1.1 200 OK\"\n"
     ]
    },
    {
     "name": "stdout",
     "output_type": "stream",
     "text": [
      "\n",
      "Headline: 4,849,389 15 \n",
      " The data indicate that the productivity of this catalyst precursor is particularly sensitive to the drying condi \n",
      " tions. The precursor dried at 55 C. is about 25 percent more productiv\n"
     ]
    },
    {
     "name": "stderr",
     "output_type": "stream",
     "text": [
      "2025-03-17 20:51:55,701 - INFO - HTTP Request: POST https://api.openai.com/v1/chat/completions \"HTTP/1.1 200 OK\"\n",
      "2025-03-17 20:51:56,423 - INFO - HTTP Request: POST https://api.openai.com/v1/chat/completions \"HTTP/1.1 200 OK\"\n",
      "2025-03-17 20:51:57,058 - INFO - HTTP Request: POST https://api.openai.com/v1/chat/completions \"HTTP/1.1 200 OK\"\n",
      "2025-03-17 20:51:57,524 - INFO - HTTP Request: POST https://api.openai.com/v1/chat/completions \"HTTP/1.1 200 OK\"\n",
      "2025-03-17 20:51:58,277 - INFO - HTTP Request: POST https://api.openai.com/v1/chat/completions \"HTTP/1.1 200 OK\"\n",
      "2025-03-17 20:51:58,884 - INFO - HTTP Request: POST https://api.openai.com/v1/chat/completions \"HTTP/1.1 200 OK\"\n"
     ]
    },
    {
     "name": "stdout",
     "output_type": "stream",
     "text": [
      "\n",
      "Headline: 4,849,389 17 \n",
      " (iii) contacting the slurry of step (ii) with at least one transition metal compound soluble in the non-polar \n",
      " solvent; and (iv) combining the product of step (iii) with trimethyl \n",
      " al\n"
     ]
    },
    {
     "name": "stderr",
     "output_type": "stream",
     "text": [
      "2025-03-17 20:51:59,372 - INFO - HTTP Request: POST https://api.openai.com/v1/chat/completions \"HTTP/1.1 200 OK\"\n",
      "2025-03-17 20:51:59,915 - INFO - HTTP Request: POST https://api.openai.com/v1/chat/completions \"HTTP/1.1 200 OK\"\n",
      "2025-03-17 20:52:00,437 - INFO - HTTP Request: POST https://api.openai.com/v1/chat/completions \"HTTP/1.1 200 OK\"\n",
      "2025-03-17 20:52:01,033 - INFO - HTTP Request: POST https://api.openai.com/v1/chat/completions \"HTTP/1.1 200 OK\"\n",
      "2025-03-17 20:52:02,216 - INFO - HTTP Request: POST https://api.openai.com/v1/chat/completions \"HTTP/1.1 200 OK\"\n",
      "2025-03-17 20:52:02,753 - INFO - HTTP Request: POST https://api.openai.com/v1/chat/completions \"HTTP/1.1 200 OK\"\n",
      "2025-03-17 20:52:03,292 - INFO - HTTP Request: POST https://api.openai.com/v1/chat/completions \"HTTP/1.1 200 OK\"\n"
     ]
    },
    {
     "name": "stdout",
     "output_type": "stream",
     "text": [
      "\n",
      "Headline: United States Patent (19) \n",
      " Pullukat et al. \n",
      " (54) \n",
      " (75) \n",
      " 73) \n",
      " 21) \n",
      " 22) \n",
      " (51) (52) (58) \n",
      " (56) POLYMERIZATION CATALYST AND \n",
      " METHOD \n",
      " Inventors: Thomas J. Pullukat, Hoffman Estates; Raymond E. Ho\n"
     ]
    },
    {
     "name": "stderr",
     "output_type": "stream",
     "text": [
      "2025-03-17 20:52:04,120 - INFO - HTTP Request: POST https://api.openai.com/v1/chat/completions \"HTTP/1.1 200 OK\"\n",
      "2025-03-17 20:52:04,638 - INFO - HTTP Request: POST https://api.openai.com/v1/chat/completions \"HTTP/1.1 200 OK\"\n",
      "2025-03-17 20:52:05,196 - INFO - HTTP Request: POST https://api.openai.com/v1/chat/completions \"HTTP/1.1 200 OK\"\n"
     ]
    },
    {
     "name": "stdout",
     "output_type": "stream",
     "text": [
      "\n",
      "Headline: ; 4,374,753 1 \n",
      " POLYMERIZATION CATALYST AND METHOD \n",
      " BACKGROUND OF THE INVENTION \n",
      " In this invention, the polymerization catalysts useful in polymerizing and copolymerizing 1-olefins are pre \n",
      " pared b\n"
     ]
    },
    {
     "name": "stderr",
     "output_type": "stream",
     "text": [
      "2025-03-17 20:52:05,745 - INFO - HTTP Request: POST https://api.openai.com/v1/chat/completions \"HTTP/1.1 200 OK\"\n",
      "2025-03-17 20:52:06,568 - INFO - HTTP Request: POST https://api.openai.com/v1/chat/completions \"HTTP/1.1 200 OK\"\n",
      "2025-03-17 20:52:07,392 - INFO - HTTP Request: POST https://api.openai.com/v1/chat/completions \"HTTP/1.1 200 OK\"\n",
      "2025-03-17 20:52:08,137 - INFO - HTTP Request: POST https://api.openai.com/v1/chat/completions \"HTTP/1.1 200 OK\"\n",
      "2025-03-17 20:52:08,753 - INFO - HTTP Request: POST https://api.openai.com/v1/chat/completions \"HTTP/1.1 200 OK\"\n",
      "2025-03-17 20:52:09,495 - INFO - HTTP Request: POST https://api.openai.com/v1/chat/completions \"HTTP/1.1 200 OK\"\n",
      "2025-03-17 20:52:10,093 - INFO - HTTP Request: POST https://api.openai.com/v1/chat/completions \"HTTP/1.1 200 OK\"\n",
      "2025-03-17 20:52:10,772 - INFO - HTTP Request: POST https://api.openai.com/v1/chat/completions \"HTTP/1.1 200 OK\"\n"
     ]
    },
    {
     "name": "stdout",
     "output_type": "stream",
     "text": [
      "\n",
      "Headline: 4,374,753 3 rotational molding applications can be manufactured. The catalysts of this invention are stable, particulate, \n",
      " and easy flowing. . . . . - \n",
      " The alcohol modification allows the production\n"
     ]
    },
    {
     "name": "stderr",
     "output_type": "stream",
     "text": [
      "2025-03-17 20:52:11,488 - INFO - HTTP Request: POST https://api.openai.com/v1/chat/completions \"HTTP/1.1 200 OK\"\n",
      "2025-03-17 20:52:12,100 - INFO - HTTP Request: POST https://api.openai.com/v1/chat/completions \"HTTP/1.1 200 OK\"\n",
      "2025-03-17 20:52:13,025 - INFO - HTTP Request: POST https://api.openai.com/v1/chat/completions \"HTTP/1.1 200 OK\"\n",
      "2025-03-17 20:52:13,706 - INFO - HTTP Request: POST https://api.openai.com/v1/chat/completions \"HTTP/1.1 200 OK\"\n",
      "2025-03-17 20:52:14,558 - INFO - HTTP Request: POST https://api.openai.com/v1/chat/completions \"HTTP/1.1 200 OK\"\n",
      "2025-03-17 20:52:15,172 - INFO - HTTP Request: POST https://api.openai.com/v1/chat/completions \"HTTP/1.1 200 OK\"\n",
      "2025-03-17 20:52:15,640 - INFO - HTTP Request: POST https://api.openai.com/v1/chat/completions \"HTTP/1.1 200 OK\"\n",
      "2025-03-17 20:52:16,280 - INFO - HTTP Request: POST https://api.openai.com/v1/chat/completions \"HTTP/1.1 200 OK\"\n",
      "2025-03-17 20:52:16,969 - INFO - HTTP Request: POST https://api.openai.com/v1/chat/completions \"HTTP/1.1 200 OK\"\n"
     ]
    },
    {
     "name": "stdout",
     "output_type": "stream",
     "text": [
      "\n",
      "Headline: 4,374,753 \n",
      " RSixn \n",
      " where m is 1, 2 or 3, n is 3, 2 or 1, respectively, and the total of m--n=4, X is a group chemically reactive with the hydroxyl groups of the silica or alumina such as chloride, am\n"
     ]
    },
    {
     "name": "stderr",
     "output_type": "stream",
     "text": [
      "2025-03-17 20:52:17,735 - INFO - HTTP Request: POST https://api.openai.com/v1/chat/completions \"HTTP/1.1 200 OK\"\n",
      "2025-03-17 20:52:18,556 - INFO - HTTP Request: POST https://api.openai.com/v1/chat/completions \"HTTP/1.1 200 OK\"\n",
      "2025-03-17 20:52:19,103 - INFO - HTTP Request: POST https://api.openai.com/v1/chat/completions \"HTTP/1.1 200 OK\"\n",
      "2025-03-17 20:52:19,604 - INFO - HTTP Request: POST https://api.openai.com/v1/chat/completions \"HTTP/1.1 200 OK\"\n",
      "2025-03-17 20:52:20,195 - INFO - HTTP Request: POST https://api.openai.com/v1/chat/completions \"HTTP/1.1 200 OK\"\n",
      "2025-03-17 20:52:21,013 - INFO - HTTP Request: POST https://api.openai.com/v1/chat/completions \"HTTP/1.1 200 OK\"\n",
      "2025-03-17 20:52:21,796 - INFO - HTTP Request: POST https://api.openai.com/v1/chat/completions \"HTTP/1.1 200 OK\"\n",
      "2025-03-17 20:52:22,322 - INFO - HTTP Request: POST https://api.openai.com/v1/chat/completions \"HTTP/1.1 200 OK\"\n"
     ]
    },
    {
     "name": "stdout",
     "output_type": "stream",
     "text": [
      "\n",
      "Headline: 4,374,753 7 \n",
      " atmospheric to 10,000 psi gauge. It is carried out prefer ably under the technically interesting pressure in the \n",
      " range of from 300-800 psi. The melt index of the polyethylene produced \n"
     ]
    },
    {
     "name": "stderr",
     "output_type": "stream",
     "text": [
      "2025-03-17 20:52:23,029 - INFO - HTTP Request: POST https://api.openai.com/v1/chat/completions \"HTTP/1.1 200 OK\"\n",
      "2025-03-17 20:52:23,801 - INFO - HTTP Request: POST https://api.openai.com/v1/chat/completions \"HTTP/1.1 200 OK\"\n",
      "2025-03-17 20:52:24,408 - INFO - HTTP Request: POST https://api.openai.com/v1/chat/completions \"HTTP/1.1 200 OK\"\n",
      "2025-03-17 20:52:24,913 - INFO - HTTP Request: POST https://api.openai.com/v1/chat/completions \"HTTP/1.1 200 OK\"\n",
      "2025-03-17 20:52:25,721 - INFO - HTTP Request: POST https://api.openai.com/v1/chat/completions \"HTTP/1.1 200 OK\"\n",
      "2025-03-17 20:52:26,391 - INFO - HTTP Request: POST https://api.openai.com/v1/chat/completions \"HTTP/1.1 200 OK\"\n",
      "2025-03-17 20:52:26,879 - INFO - HTTP Request: POST https://api.openai.com/v1/chat/completions \"HTTP/1.1 200 OK\"\n"
     ]
    },
    {
     "name": "stdout",
     "output_type": "stream",
     "text": [
      "\n",
      "Headline: 4,374,753 9 \n",
      " -continued \n",
      " Reactivity Melt \n",
      " g/g cat/hr index \n",
      " Catalyst 4190 . 1.4 \n",
      " EXAMPLE'S \n",
      " A catalyst was made in the same manner as described in Example 1 except that a different magnesium com\n"
     ]
    },
    {
     "name": "stderr",
     "output_type": "stream",
     "text": [
      "2025-03-17 20:52:27,748 - INFO - HTTP Request: POST https://api.openai.com/v1/chat/completions \"HTTP/1.1 200 OK\"\n",
      "2025-03-17 20:52:28,280 - INFO - HTTP Request: POST https://api.openai.com/v1/chat/completions \"HTTP/1.1 200 OK\"\n",
      "2025-03-17 20:52:28,896 - INFO - HTTP Request: POST https://api.openai.com/v1/chat/completions \"HTTP/1.1 200 OK\"\n",
      "2025-03-17 20:52:29,590 - INFO - HTTP Request: POST https://api.openai.com/v1/chat/completions \"HTTP/1.1 200 OK\"\n",
      "2025-03-17 20:52:30,230 - INFO - HTTP Request: POST https://api.openai.com/v1/chat/completions \"HTTP/1.1 200 OK\"\n",
      "2025-03-17 20:52:30,844 - INFO - HTTP Request: POST https://api.openai.com/v1/chat/completions \"HTTP/1.1 200 OK\"\n",
      "2025-03-17 20:52:31,453 - INFO - HTTP Request: POST https://api.openai.com/v1/chat/completions \"HTTP/1.1 200 OK\"\n"
     ]
    },
    {
     "name": "stdout",
     "output_type": "stream",
     "text": [
      "\n",
      "Headline: 4,374,753 \n",
      "stage, volatile materials were evaporated in a nitrogen 11 \n",
      "stream by immersing the flaskin a bath at 100° C. Upon cooling, 15 ml hexane and 3.9 ml of dibutyl magnesium triethylaluminum com\n"
     ]
    },
    {
     "name": "stderr",
     "output_type": "stream",
     "text": [
      "2025-03-17 20:52:32,184 - INFO - HTTP Request: POST https://api.openai.com/v1/chat/completions \"HTTP/1.1 200 OK\"\n",
      "2025-03-17 20:52:32,688 - INFO - HTTP Request: POST https://api.openai.com/v1/chat/completions \"HTTP/1.1 200 OK\"\n",
      "2025-03-17 20:52:33,198 - INFO - HTTP Request: POST https://api.openai.com/v1/chat/completions \"HTTP/1.1 200 OK\"\n",
      "2025-03-17 20:52:33,724 - INFO - HTTP Request: POST https://api.openai.com/v1/chat/completions \"HTTP/1.1 200 OK\"\n",
      "2025-03-17 20:52:34,265 - INFO - HTTP Request: POST https://api.openai.com/v1/chat/completions \"HTTP/1.1 200 OK\"\n",
      "2025-03-17 20:52:34,941 - INFO - HTTP Request: POST https://api.openai.com/v1/chat/completions \"HTTP/1.1 200 OK\"\n",
      "2025-03-17 20:52:36,622 - INFO - HTTP Request: POST https://api.openai.com/v1/chat/completions \"HTTP/1.1 200 OK\"\n"
     ]
    },
    {
     "name": "stdout",
     "output_type": "stream",
     "text": [
      "\n",
      "Headline: 4,374,753 13 \n",
      " 3. The catalyst of claim 1 wherein said Group IIA compound or complex of (2) comprises an alkyl or aryl of magnesium or a magnesium complex. \n",
      " 4. The catalyst of claim 1 wherein said al\n"
     ]
    },
    {
     "name": "stderr",
     "output_type": "stream",
     "text": [
      "2025-03-17 20:52:37,441 - INFO - HTTP Request: POST https://api.openai.com/v1/chat/completions \"HTTP/1.1 200 OK\"\n",
      "2025-03-17 20:52:38,182 - INFO - HTTP Request: POST https://api.openai.com/v1/chat/completions \"HTTP/1.1 200 OK\"\n",
      "2025-03-17 20:52:38,670 - INFO - HTTP Request: POST https://api.openai.com/v1/chat/completions \"HTTP/1.1 200 OK\"\n",
      "2025-03-17 20:52:39,208 - INFO - HTTP Request: POST https://api.openai.com/v1/chat/completions \"HTTP/1.1 200 OK\"\n",
      "2025-03-17 20:52:39,742 - INFO - HTTP Request: POST https://api.openai.com/v1/chat/completions \"HTTP/1.1 200 OK\"\n",
      "2025-03-17 20:52:40,261 - INFO - HTTP Request: POST https://api.openai.com/v1/chat/completions \"HTTP/1.1 200 OK\"\n",
      "2025-03-17 20:52:40,963 - INFO - HTTP Request: POST https://api.openai.com/v1/chat/completions \"HTTP/1.1 200 OK\"\n"
     ]
    },
    {
     "name": "stdout",
     "output_type": "stream",
     "text": [
      "\n",
      "Headline: (12) United States Patent \n",
      " Braganca et al. US0093.52308B2 \n",
      " US 9,352,308 B2 \n",
      " May 31, 2016 (10) Patent No.: \n",
      " (45) Date of Patent: \n",
      " (54) SOLID CATALYST COMPONENT FOR \n",
      " POLYMERIZATION AND \n",
      " COPOLYMER\n"
     ]
    },
    {
     "name": "stderr",
     "output_type": "stream",
     "text": [
      "2025-03-17 20:52:42,108 - INFO - HTTP Request: POST https://api.openai.com/v1/chat/completions \"HTTP/1.1 200 OK\"\n",
      "2025-03-17 20:52:43,135 - INFO - HTTP Request: POST https://api.openai.com/v1/chat/completions \"HTTP/1.1 200 OK\"\n",
      "2025-03-17 20:52:43,621 - INFO - HTTP Request: POST https://api.openai.com/v1/chat/completions \"HTTP/1.1 200 OK\"\n"
     ]
    },
    {
     "name": "stdout",
     "output_type": "stream",
     "text": [
      "\n",
      "Headline: U.S. Patent May 31, 2016 Sheet 1 of 6 US 9,352,308 B2 \n",
      " FIGURE 1 \n",
      " Organometallic \n",
      " compound solution Silica-o- IMPREGNATION \n",
      " (a) \n",
      " Magnesium compound \n",
      " REACTON REMOVAL Supernatant Titanium compound \n"
     ]
    },
    {
     "name": "stderr",
     "output_type": "stream",
     "text": [
      "2025-03-17 20:52:44,350 - INFO - HTTP Request: POST https://api.openai.com/v1/chat/completions \"HTTP/1.1 200 OK\"\n"
     ]
    },
    {
     "name": "stdout",
     "output_type": "stream",
     "text": [
      "\n",
      "Headline: U.S. Patent May 31, 2016 Sheet 2 of 6 US 9,352,308 B2 \n",
      " FIGURE 2 \n",
      "   \n"
     ]
    },
    {
     "name": "stderr",
     "output_type": "stream",
     "text": [
      "2025-03-17 20:52:45,134 - INFO - HTTP Request: POST https://api.openai.com/v1/chat/completions \"HTTP/1.1 200 OK\"\n"
     ]
    },
    {
     "name": "stdout",
     "output_type": "stream",
     "text": [
      "\n",
      "Headline: US 9,352,308 B2 U.S. Patent \n",
      " 9/ | \n",
      " eoueoeye   \n"
     ]
    },
    {
     "name": "stderr",
     "output_type": "stream",
     "text": [
      "2025-03-17 20:52:45,666 - INFO - HTTP Request: POST https://api.openai.com/v1/chat/completions \"HTTP/1.1 200 OK\"\n"
     ]
    },
    {
     "name": "stdout",
     "output_type": "stream",
     "text": [
      "\n",
      "Headline: U.S. Patent May 31, 2016 Sheet 4 of 6 US 9,352,308 B2 \n",
      " FIGURE 4 \n",
      " .. \n",
      " O \n",
      " 44 4, 48 SO SO. 54 SO 58 \n",
      " Energy (ew \n"
     ]
    },
    {
     "name": "stderr",
     "output_type": "stream",
     "text": [
      "2025-03-17 20:52:46,263 - INFO - HTTP Request: POST https://api.openai.com/v1/chat/completions \"HTTP/1.1 200 OK\"\n"
     ]
    },
    {
     "name": "stdout",
     "output_type": "stream",
     "text": [
      "\n",
      "Headline: U.S. Patent May 31, 2016 Sheet 5 of 6 US 9,352,308 B2 \n",
      " FIGURES \n",
      " 9. - \n",
      " O \n",
      " 95 . ... 3 498 Energy (W) \n",
      " 4.94 EO 498 SO SO SO4 SOSO SO.8 SO \n",
      " Energy (ew)   \n"
     ]
    },
    {
     "name": "stderr",
     "output_type": "stream",
     "text": [
      "2025-03-17 20:52:46,812 - INFO - HTTP Request: POST https://api.openai.com/v1/chat/completions \"HTTP/1.1 200 OK\"\n"
     ]
    },
    {
     "name": "stdout",
     "output_type": "stream",
     "text": [
      "\n",
      "Headline: U.S. Patent May 31, 2016 Sheet 6 of 6 US 9,352,308 B2 \n",
      " FIGURE 6 \n",
      " 1966 968 9FO 9. 94 496 498 98) \n",
      " Energy (EW) \n"
     ]
    },
    {
     "name": "stderr",
     "output_type": "stream",
     "text": [
      "2025-03-17 20:52:47,540 - INFO - HTTP Request: POST https://api.openai.com/v1/chat/completions \"HTTP/1.1 200 OK\"\n"
     ]
    },
    {
     "name": "stdout",
     "output_type": "stream",
     "text": [
      "\n",
      "Headline: US 9,352,308 B2 \n",
      " 1. \n",
      " SOLID CATALYST COMPONENT FOR \n",
      " POLYMERIZATION AND \n",
      " COPOLYMERIZATION OF ETHYLENE AND \n",
      " PROCESS FOR OBTAINING THE SAME \n",
      " This application is a Continuation-In-Part of application\n"
     ]
    },
    {
     "name": "stderr",
     "output_type": "stream",
     "text": [
      "2025-03-17 20:52:48,047 - INFO - HTTP Request: POST https://api.openai.com/v1/chat/completions \"HTTP/1.1 200 OK\"\n",
      "2025-03-17 20:52:48,664 - INFO - HTTP Request: POST https://api.openai.com/v1/chat/completions \"HTTP/1.1 200 OK\"\n",
      "2025-03-17 20:52:49,381 - INFO - HTTP Request: POST https://api.openai.com/v1/chat/completions \"HTTP/1.1 200 OK\"\n",
      "2025-03-17 20:52:50,004 - INFO - HTTP Request: POST https://api.openai.com/v1/chat/completions \"HTTP/1.1 200 OK\"\n",
      "2025-03-17 20:52:50,713 - INFO - HTTP Request: POST https://api.openai.com/v1/chat/completions \"HTTP/1.1 200 OK\"\n",
      "2025-03-17 20:52:51,338 - INFO - HTTP Request: POST https://api.openai.com/v1/chat/completions \"HTTP/1.1 200 OK\"\n",
      "2025-03-17 20:52:51,942 - INFO - HTTP Request: POST https://api.openai.com/v1/chat/completions \"HTTP/1.1 200 OK\"\n",
      "2025-03-17 20:52:52,716 - INFO - HTTP Request: POST https://api.openai.com/v1/chat/completions \"HTTP/1.1 200 OK\"\n"
     ]
    },
    {
     "name": "stdout",
     "output_type": "stream",
     "text": [
      "\n",
      "Headline: US 9,352,308 B2 \n",
      " 3 \n",
      " groups 1, 2, 12 or 13 of the periodic table. The process for \n",
      " producing the catalyst of the present invention comprises the \n",
      " steps of: \n",
      " (a) impregnating activated silica parti\n"
     ]
    },
    {
     "name": "stderr",
     "output_type": "stream",
     "text": [
      "2025-03-17 20:52:53,259 - INFO - HTTP Request: POST https://api.openai.com/v1/chat/completions \"HTTP/1.1 200 OK\"\n",
      "2025-03-17 20:52:53,941 - INFO - HTTP Request: POST https://api.openai.com/v1/chat/completions \"HTTP/1.1 200 OK\"\n",
      "2025-03-17 20:52:54,661 - INFO - HTTP Request: POST https://api.openai.com/v1/chat/completions \"HTTP/1.1 200 OK\"\n",
      "2025-03-17 20:52:55,394 - INFO - HTTP Request: POST https://api.openai.com/v1/chat/completions \"HTTP/1.1 200 OK\"\n",
      "2025-03-17 20:52:55,941 - INFO - HTTP Request: POST https://api.openai.com/v1/chat/completions \"HTTP/1.1 200 OK\"\n",
      "2025-03-17 20:52:56,666 - INFO - HTTP Request: POST https://api.openai.com/v1/chat/completions \"HTTP/1.1 200 OK\"\n",
      "2025-03-17 20:52:57,299 - INFO - HTTP Request: POST https://api.openai.com/v1/chat/completions \"HTTP/1.1 200 OK\"\n"
     ]
    },
    {
     "name": "stdout",
     "output_type": "stream",
     "text": [
      "\n",
      "Headline: US 9,352,308 B2 \n",
      " 5 \n",
      " over a period from 1 to 20 hours. The amount of remaining \n",
      " OH on the silica surface after this treatment ranges from 0.1 to 2 mmoles OH per g of silica, preferably between 0.5 a\n"
     ]
    },
    {
     "name": "stderr",
     "output_type": "stream",
     "text": [
      "2025-03-17 20:52:58,181 - INFO - HTTP Request: POST https://api.openai.com/v1/chat/completions \"HTTP/1.1 200 OK\"\n",
      "2025-03-17 20:52:58,697 - INFO - HTTP Request: POST https://api.openai.com/v1/chat/completions \"HTTP/1.1 200 OK\"\n",
      "2025-03-17 20:52:59,201 - INFO - HTTP Request: POST https://api.openai.com/v1/chat/completions \"HTTP/1.1 200 OK\"\n",
      "2025-03-17 20:52:59,741 - INFO - HTTP Request: POST https://api.openai.com/v1/chat/completions \"HTTP/1.1 200 OK\"\n",
      "2025-03-17 20:53:00,235 - INFO - HTTP Request: POST https://api.openai.com/v1/chat/completions \"HTTP/1.1 200 OK\"\n",
      "2025-03-17 20:53:00,848 - INFO - HTTP Request: POST https://api.openai.com/v1/chat/completions \"HTTP/1.1 200 OK\"\n",
      "2025-03-17 20:53:01,464 - INFO - HTTP Request: POST https://api.openai.com/v1/chat/completions \"HTTP/1.1 200 OK\"\n",
      "2025-03-17 20:53:02,218 - INFO - HTTP Request: POST https://api.openai.com/v1/chat/completions \"HTTP/1.1 200 OK\"\n",
      "2025-03-17 20:53:02,756 - INFO - HTTP Request: POST https://api.openai.com/v1/chat/completions \"HTTP/1.1 200 OK\"\n"
     ]
    },
    {
     "name": "stdout",
     "output_type": "stream",
     "text": [
      "\n",
      "Headline: US 9,352,308 B2 \n",
      " 7 \n",
      " Other silicon compounds useful as reducing agents in the \n",
      " practice of this invention are: silanes (SiH, in which m is a number equal to or higher than 1), alkyl-silanes or aryl \n"
     ]
    },
    {
     "name": "stderr",
     "output_type": "stream",
     "text": [
      "2025-03-17 20:53:03,410 - INFO - HTTP Request: POST https://api.openai.com/v1/chat/completions \"HTTP/1.1 200 OK\"\n",
      "2025-03-17 20:53:03,974 - INFO - HTTP Request: POST https://api.openai.com/v1/chat/completions \"HTTP/1.1 200 OK\"\n",
      "2025-03-17 20:53:04,537 - INFO - HTTP Request: POST https://api.openai.com/v1/chat/completions \"HTTP/1.1 200 OK\"\n",
      "2025-03-17 20:53:05,227 - INFO - HTTP Request: POST https://api.openai.com/v1/chat/completions \"HTTP/1.1 200 OK\"\n",
      "2025-03-17 20:53:05,871 - INFO - HTTP Request: POST https://api.openai.com/v1/chat/completions \"HTTP/1.1 200 OK\"\n",
      "2025-03-17 20:53:06,687 - INFO - HTTP Request: POST https://api.openai.com/v1/chat/completions \"HTTP/1.1 200 OK\"\n",
      "2025-03-17 20:53:07,305 - INFO - HTTP Request: POST https://api.openai.com/v1/chat/completions \"HTTP/1.1 200 OK\"\n",
      "2025-03-17 20:53:07,917 - INFO - HTTP Request: POST https://api.openai.com/v1/chat/completions \"HTTP/1.1 200 OK\"\n"
     ]
    },
    {
     "name": "stdout",
     "output_type": "stream",
     "text": [
      "\n",
      "Headline: US 9,352,308 B2 \n",
      " The amount of organometallic compound of the groups 1, \n",
      " 2, 12 or 13 that remains fixed on the solid catalyst component may reach up to 5% by weight, expressed as the metal con \n",
      " ten\n"
     ]
    },
    {
     "name": "stderr",
     "output_type": "stream",
     "text": [
      "2025-03-17 20:53:08,483 - INFO - HTTP Request: POST https://api.openai.com/v1/chat/completions \"HTTP/1.1 200 OK\"\n",
      "2025-03-17 20:53:09,188 - INFO - HTTP Request: POST https://api.openai.com/v1/chat/completions \"HTTP/1.1 200 OK\"\n",
      "2025-03-17 20:53:09,916 - INFO - HTTP Request: POST https://api.openai.com/v1/chat/completions \"HTTP/1.1 200 OK\"\n",
      "2025-03-17 20:53:10,547 - INFO - HTTP Request: POST https://api.openai.com/v1/chat/completions \"HTTP/1.1 200 OK\"\n",
      "2025-03-17 20:53:11,174 - INFO - HTTP Request: POST https://api.openai.com/v1/chat/completions \"HTTP/1.1 200 OK\"\n",
      "2025-03-17 20:53:11,809 - INFO - HTTP Request: POST https://api.openai.com/v1/chat/completions \"HTTP/1.1 200 OK\"\n",
      "2025-03-17 20:53:12,381 - INFO - HTTP Request: POST https://api.openai.com/v1/chat/completions \"HTTP/1.1 200 OK\"\n"
     ]
    },
    {
     "name": "stdout",
     "output_type": "stream",
     "text": [
      "\n",
      "Headline: US 9,352,308 B2 \n",
      " 11 \n",
      " anhydrous MgCl, and 330 ml (0.969 moles) of Ti(OBu). \n",
      " This mixture was allowed to stir at 300 rpm and heated to 150° \n",
      " C. for about 12 hours in order to have the solids complet\n"
     ]
    },
    {
     "name": "stderr",
     "output_type": "stream",
     "text": [
      "2025-03-17 20:53:13,431 - INFO - HTTP Request: POST https://api.openai.com/v1/chat/completions \"HTTP/1.1 200 OK\"\n",
      "2025-03-17 20:53:14,059 - INFO - HTTP Request: POST https://api.openai.com/v1/chat/completions \"HTTP/1.1 200 OK\"\n",
      "2025-03-17 20:53:14,562 - INFO - HTTP Request: POST https://api.openai.com/v1/chat/completions \"HTTP/1.1 200 OK\"\n",
      "2025-03-17 20:53:15,057 - INFO - HTTP Request: POST https://api.openai.com/v1/chat/completions \"HTTP/1.1 200 OK\"\n",
      "2025-03-17 20:53:15,801 - INFO - HTTP Request: POST https://api.openai.com/v1/chat/completions \"HTTP/1.1 200 OK\"\n",
      "2025-03-17 20:53:16,550 - INFO - HTTP Request: POST https://api.openai.com/v1/chat/completions \"HTTP/1.1 200 OK\"\n",
      "2025-03-17 20:53:17,307 - INFO - HTTP Request: POST https://api.openai.com/v1/chat/completions \"HTTP/1.1 200 OK\"\n",
      "2025-03-17 20:53:17,887 - INFO - HTTP Request: POST https://api.openai.com/v1/chat/completions \"HTTP/1.1 200 OK\"\n"
     ]
    },
    {
     "name": "stdout",
     "output_type": "stream",
     "text": [
      "\n",
      "Headline: US 9,352,308 B2 \n",
      " 13 \n",
      " anhydrous MgCl2 and 39.6 ml (0.116 moles) of Ti(OBu). \n",
      " This mixture was allowed to stir at 300 rpm and heated to 150° \n",
      " C. for about 12 hours in order to have the solids comple\n"
     ]
    },
    {
     "name": "stderr",
     "output_type": "stream",
     "text": [
      "2025-03-17 20:53:18,417 - INFO - HTTP Request: POST https://api.openai.com/v1/chat/completions \"HTTP/1.1 200 OK\"\n",
      "2025-03-17 20:53:18,947 - INFO - HTTP Request: POST https://api.openai.com/v1/chat/completions \"HTTP/1.1 200 OK\"\n",
      "2025-03-17 20:53:19,755 - INFO - HTTP Request: POST https://api.openai.com/v1/chat/completions \"HTTP/1.1 200 OK\"\n",
      "2025-03-17 20:53:20,971 - INFO - HTTP Request: POST https://api.openai.com/v1/chat/completions \"HTTP/1.1 200 OK\"\n",
      "2025-03-17 20:53:21,511 - INFO - HTTP Request: POST https://api.openai.com/v1/chat/completions \"HTTP/1.1 200 OK\"\n",
      "2025-03-17 20:53:22,312 - INFO - HTTP Request: POST https://api.openai.com/v1/chat/completions \"HTTP/1.1 200 OK\"\n",
      "2025-03-17 20:53:22,782 - INFO - HTTP Request: POST https://api.openai.com/v1/chat/completions \"HTTP/1.1 200 OK\"\n",
      "2025-03-17 20:53:23,488 - INFO - HTTP Request: POST https://api.openai.com/v1/chat/completions \"HTTP/1.1 200 OK\"\n"
     ]
    },
    {
     "name": "stdout",
     "output_type": "stream",
     "text": [
      "\n",
      "Headline: US 9,352,308 B2 \n",
      " 15 \n",
      " addition, stirring was continued for 3.5 hours at a temperature of 60°C. The temperature of the mixture was then brought to \n",
      " 65° C. and kept for additional 2 hours. After cooli\n"
     ]
    },
    {
     "name": "stderr",
     "output_type": "stream",
     "text": [
      "2025-03-17 20:53:24,022 - INFO - HTTP Request: POST https://api.openai.com/v1/chat/completions \"HTTP/1.1 200 OK\"\n",
      "2025-03-17 20:53:24,786 - INFO - HTTP Request: POST https://api.openai.com/v1/chat/completions \"HTTP/1.1 200 OK\"\n",
      "2025-03-17 20:53:25,343 - INFO - HTTP Request: POST https://api.openai.com/v1/chat/completions \"HTTP/1.1 200 OK\"\n",
      "2025-03-17 20:53:26,040 - INFO - HTTP Request: POST https://api.openai.com/v1/chat/completions \"HTTP/1.1 200 OK\"\n",
      "2025-03-17 20:53:26,593 - INFO - HTTP Request: POST https://api.openai.com/v1/chat/completions \"HTTP/1.1 200 OK\"\n",
      "2025-03-17 20:53:27,170 - INFO - HTTP Request: POST https://api.openai.com/v1/chat/completions \"HTTP/1.1 200 OK\"\n"
     ]
    },
    {
     "name": "stdout",
     "output_type": "stream",
     "text": [
      "\n",
      "Headline: US 9,352,308 B2 \n",
      " 17 \n",
      " C. for about 12 hours in order to have the solids completely \n",
      " dissolved, thereby a clear liquid product was obtained. This \n",
      " resulting liquid was cooled down to 40°C. and under\n"
     ]
    },
    {
     "name": "stderr",
     "output_type": "stream",
     "text": [
      "2025-03-17 20:53:27,765 - INFO - HTTP Request: POST https://api.openai.com/v1/chat/completions \"HTTP/1.1 200 OK\"\n",
      "2025-03-17 20:53:28,393 - INFO - HTTP Request: POST https://api.openai.com/v1/chat/completions \"HTTP/1.1 200 OK\"\n",
      "2025-03-17 20:53:29,014 - INFO - HTTP Request: POST https://api.openai.com/v1/chat/completions \"HTTP/1.1 200 OK\"\n",
      "2025-03-17 20:53:29,519 - INFO - HTTP Request: POST https://api.openai.com/v1/chat/completions \"HTTP/1.1 200 OK\"\n",
      "2025-03-17 20:53:30,156 - INFO - HTTP Request: POST https://api.openai.com/v1/chat/completions \"HTTP/1.1 200 OK\"\n",
      "2025-03-17 20:53:30,704 - INFO - HTTP Request: POST https://api.openai.com/v1/chat/completions \"HTTP/1.1 200 OK\"\n",
      "2025-03-17 20:53:31,334 - INFO - HTTP Request: POST https://api.openai.com/v1/chat/completions \"HTTP/1.1 200 OK\"\n"
     ]
    },
    {
     "name": "stdout",
     "output_type": "stream",
     "text": [
      "\n",
      "Headline: US 9,352,308 B2 \n",
      " 19 \n",
      " MIE 0.91 g/10 min \n",
      " MIFAMIE 26 \n",
      " Fraction Soluble in Xylene 9.2% \n",
      " Comonomer content 8.7% Polymer Density 0.917 g/cm Bulk Density 0.36 g/cm \n",
      " Pilot Plant Tests \n",
      " A pilot plant c\n"
     ]
    },
    {
     "name": "stderr",
     "output_type": "stream",
     "text": [
      "2025-03-17 20:53:31,880 - INFO - HTTP Request: POST https://api.openai.com/v1/chat/completions \"HTTP/1.1 200 OK\"\n",
      "2025-03-17 20:53:32,610 - INFO - HTTP Request: POST https://api.openai.com/v1/chat/completions \"HTTP/1.1 200 OK\"\n",
      "2025-03-17 20:53:33,212 - INFO - HTTP Request: POST https://api.openai.com/v1/chat/completions \"HTTP/1.1 200 OK\"\n",
      "2025-03-17 20:53:33,937 - INFO - HTTP Request: POST https://api.openai.com/v1/chat/completions \"HTTP/1.1 200 OK\"\n",
      "2025-03-17 20:53:34,749 - INFO - HTTP Request: POST https://api.openai.com/v1/chat/completions \"HTTP/1.1 200 OK\"\n",
      "2025-03-17 20:53:35,590 - INFO - HTTP Request: POST https://api.openai.com/v1/chat/completions \"HTTP/1.1 200 OK\"\n"
     ]
    },
    {
     "name": "stdout",
     "output_type": "stream",
     "text": [
      "\n",
      "Headline: US 9,352,308 B2 \n",
      " 21 \n",
      " FIG.3 and an X-Ray Absorption Near Edge Structure spectra \n",
      " as shown in one or more of FIGS. 4, 5 and 6. 2. The catalyst composition of claim 1, wherein the product of the homop\n"
     ]
    },
    {
     "name": "stderr",
     "output_type": "stream",
     "text": [
      "2025-03-17 20:53:36,063 - INFO - HTTP Request: POST https://api.openai.com/v1/chat/completions \"HTTP/1.1 200 OK\"\n"
     ]
    },
    {
     "name": "stdout",
     "output_type": "stream",
     "text": [
      "\n",
      "Headline: (19) United States US 2006O166812A1 \n",
      " (12) Patent Application Publication (10) Pub. No.: US 2006/0166812 A1 Braganca et al. (43) Pub. Date: Jul. 27, 2006 \n",
      " (54) SOLID CATALYST COMPONENT FOR \n",
      " POLYMERI\n"
     ]
    },
    {
     "name": "stderr",
     "output_type": "stream",
     "text": [
      "2025-03-17 20:53:37,417 - INFO - HTTP Request: POST https://api.openai.com/v1/chat/completions \"HTTP/1.1 200 OK\"\n",
      "2025-03-17 20:53:38,175 - INFO - HTTP Request: POST https://api.openai.com/v1/chat/completions \"HTTP/1.1 200 OK\"\n",
      "2025-03-17 20:53:39,074 - INFO - HTTP Request: POST https://api.openai.com/v1/chat/completions \"HTTP/1.1 200 OK\"\n"
     ]
    },
    {
     "name": "stdout",
     "output_type": "stream",
     "text": [
      "\n",
      "Headline: Patent Application Publication Jul. 27, 2006 Sheet 1 of 2 US 2006/0166812 A1 \n",
      " FIGURE 1 \n",
      " Organometallic \n",
      " o Compound solution Silica-D- IMPREGNATION \n",
      " (a) Magnesium compound \n",
      " REACTION REMOVA Superna\n"
     ]
    },
    {
     "name": "stderr",
     "output_type": "stream",
     "text": [
      "2025-03-17 20:53:39,584 - INFO - HTTP Request: POST https://api.openai.com/v1/chat/completions \"HTTP/1.1 200 OK\"\n"
     ]
    },
    {
     "name": "stdout",
     "output_type": "stream",
     "text": [
      "\n",
      "Headline: Patent Application Publication Jul. 27, 2006 Sheet 2 of 2 US 2006/0166812 A1 \n",
      " FIGURE 2 \n",
      "   \n"
     ]
    },
    {
     "name": "stderr",
     "output_type": "stream",
     "text": [
      "2025-03-17 20:53:40,253 - INFO - HTTP Request: POST https://api.openai.com/v1/chat/completions \"HTTP/1.1 200 OK\"\n"
     ]
    },
    {
     "name": "stdout",
     "output_type": "stream",
     "text": [
      "\n",
      "Headline: US 2006/0166812 A1 \n",
      " SOLID CATALYST COMPONENT FOR \n",
      " POLYMERIZATION AND COPOLYMERIZATION \n",
      " OF ETHYLENE, AND, PROCESS FOR OBTAINING \n",
      " THE SAME \n",
      " 0001. The present invention relates to a solid catalyst c\n"
     ]
    },
    {
     "name": "stderr",
     "output_type": "stream",
     "text": [
      "2025-03-17 20:53:40,791 - INFO - HTTP Request: POST https://api.openai.com/v1/chat/completions \"HTTP/1.1 200 OK\"\n",
      "2025-03-17 20:53:41,349 - INFO - HTTP Request: POST https://api.openai.com/v1/chat/completions \"HTTP/1.1 200 OK\"\n",
      "2025-03-17 20:53:41,949 - INFO - HTTP Request: POST https://api.openai.com/v1/chat/completions \"HTTP/1.1 200 OK\"\n",
      "2025-03-17 20:53:42,477 - INFO - HTTP Request: POST https://api.openai.com/v1/chat/completions \"HTTP/1.1 200 OK\"\n",
      "2025-03-17 20:53:43,037 - INFO - HTTP Request: POST https://api.openai.com/v1/chat/completions \"HTTP/1.1 200 OK\"\n",
      "2025-03-17 20:53:43,601 - INFO - HTTP Request: POST https://api.openai.com/v1/chat/completions \"HTTP/1.1 200 OK\"\n",
      "2025-03-17 20:53:44,385 - INFO - HTTP Request: POST https://api.openai.com/v1/chat/completions \"HTTP/1.1 200 OK\"\n"
     ]
    },
    {
     "name": "stdout",
     "output_type": "stream",
     "text": [
      "\n",
      "Headline: US 2006/0166812 A1 \n",
      " polyethylene with 0.919 g/ml of polymer density has a \n",
      " xylene soluble content of 12.5% by weight. \n",
      " SUMMARY OF THE INVENTION \n",
      " 0023 The present invention relates to a solid catal\n"
     ]
    },
    {
     "name": "stderr",
     "output_type": "stream",
     "text": [
      "2025-03-17 20:53:45,003 - INFO - HTTP Request: POST https://api.openai.com/v1/chat/completions \"HTTP/1.1 200 OK\"\n",
      "2025-03-17 20:53:45,632 - INFO - HTTP Request: POST https://api.openai.com/v1/chat/completions \"HTTP/1.1 200 OK\"\n",
      "2025-03-17 20:53:46,847 - INFO - HTTP Request: POST https://api.openai.com/v1/chat/completions \"HTTP/1.1 200 OK\"\n",
      "2025-03-17 20:53:47,628 - INFO - HTTP Request: POST https://api.openai.com/v1/chat/completions \"HTTP/1.1 200 OK\"\n",
      "2025-03-17 20:53:50,906 - INFO - HTTP Request: POST https://api.openai.com/v1/chat/completions \"HTTP/1.1 200 OK\"\n",
      "2025-03-17 20:53:51,478 - INFO - HTTP Request: POST https://api.openai.com/v1/chat/completions \"HTTP/1.1 200 OK\"\n"
     ]
    },
    {
     "name": "stdout",
     "output_type": "stream",
     "text": [
      "\n",
      "Headline: US 2006/0166812 A1 \n",
      " 0048 (e) optionally reacting the solid obtained in (d) with a reducing agent; \n",
      " 0049 (f) reacting the solid obtained in (d) or (e) with a halogenating agent; \n",
      " 0050 (g) treating t\n"
     ]
    },
    {
     "name": "stderr",
     "output_type": "stream",
     "text": [
      "2025-03-17 20:53:51,962 - INFO - HTTP Request: POST https://api.openai.com/v1/chat/completions \"HTTP/1.1 200 OK\"\n",
      "2025-03-17 20:53:52,547 - INFO - HTTP Request: POST https://api.openai.com/v1/chat/completions \"HTTP/1.1 200 OK\"\n",
      "2025-03-17 20:53:53,721 - INFO - HTTP Request: POST https://api.openai.com/v1/chat/completions \"HTTP/1.1 200 OK\"\n",
      "2025-03-17 20:53:54,312 - INFO - HTTP Request: POST https://api.openai.com/v1/chat/completions \"HTTP/1.1 200 OK\"\n",
      "2025-03-17 20:53:58,111 - INFO - HTTP Request: POST https://api.openai.com/v1/chat/completions \"HTTP/1.1 200 OK\"\n",
      "2025-03-17 20:54:01,358 - INFO - HTTP Request: POST https://api.openai.com/v1/chat/completions \"HTTP/1.1 200 OK\"\n",
      "2025-03-17 20:54:02,230 - INFO - HTTP Request: POST https://api.openai.com/v1/chat/completions \"HTTP/1.1 200 OK\"\n",
      "2025-03-17 20:54:02,812 - INFO - HTTP Request: POST https://api.openai.com/v1/chat/completions \"HTTP/1.1 200 OK\"\n"
     ]
    },
    {
     "name": "stdout",
     "output_type": "stream",
     "text": [
      "\n",
      "Headline: US 2006/0166812 A1 \n",
      " 0064. In general, when preparing the solution of the step \n",
      " (c), titanium is used in Such an amount that the molar ratio Ti/Mg varies within the range of 0.3 to 4, and preferably \n"
     ]
    },
    {
     "name": "stderr",
     "output_type": "stream",
     "text": [
      "2025-03-17 20:54:03,426 - INFO - HTTP Request: POST https://api.openai.com/v1/chat/completions \"HTTP/1.1 200 OK\"\n",
      "2025-03-17 20:54:04,019 - INFO - HTTP Request: POST https://api.openai.com/v1/chat/completions \"HTTP/1.1 200 OK\"\n",
      "2025-03-17 20:54:04,652 - INFO - HTTP Request: POST https://api.openai.com/v1/chat/completions \"HTTP/1.1 200 OK\"\n",
      "2025-03-17 20:54:05,197 - INFO - HTTP Request: POST https://api.openai.com/v1/chat/completions \"HTTP/1.1 200 OK\"\n",
      "2025-03-17 20:54:06,498 - INFO - HTTP Request: POST https://api.openai.com/v1/chat/completions \"HTTP/1.1 200 OK\"\n",
      "2025-03-17 20:54:07,349 - INFO - HTTP Request: POST https://api.openai.com/v1/chat/completions \"HTTP/1.1 200 OK\"\n",
      "2025-03-17 20:54:07,990 - INFO - HTTP Request: POST https://api.openai.com/v1/chat/completions \"HTTP/1.1 200 OK\"\n",
      "2025-03-17 20:54:08,559 - INFO - HTTP Request: POST https://api.openai.com/v1/chat/completions \"HTTP/1.1 200 OK\"\n"
     ]
    },
    {
     "name": "stdout",
     "output_type": "stream",
     "text": [
      "\n",
      "Headline: US 2006/0166812 A1 \n",
      " or more organometallic compounds of the groups 1, 2, 12 or 13 of the periodic table, preferably metal-alkyl compounds \n",
      " or metal-alkyl halide compounds belonging to these groups, \n"
     ]
    },
    {
     "name": "stderr",
     "output_type": "stream",
     "text": [
      "2025-03-17 20:54:09,156 - INFO - HTTP Request: POST https://api.openai.com/v1/chat/completions \"HTTP/1.1 200 OK\"\n",
      "2025-03-17 20:54:09,915 - INFO - HTTP Request: POST https://api.openai.com/v1/chat/completions \"HTTP/1.1 200 OK\"\n",
      "2025-03-17 20:54:10,467 - INFO - HTTP Request: POST https://api.openai.com/v1/chat/completions \"HTTP/1.1 200 OK\"\n",
      "2025-03-17 20:54:10,987 - INFO - HTTP Request: POST https://api.openai.com/v1/chat/completions \"HTTP/1.1 200 OK\"\n",
      "2025-03-17 20:54:11,571 - INFO - HTTP Request: POST https://api.openai.com/v1/chat/completions \"HTTP/1.1 200 OK\"\n",
      "2025-03-17 20:54:12,129 - INFO - HTTP Request: POST https://api.openai.com/v1/chat/completions \"HTTP/1.1 200 OK\"\n",
      "2025-03-17 20:54:12,736 - INFO - HTTP Request: POST https://api.openai.com/v1/chat/completions \"HTTP/1.1 200 OK\"\n",
      "2025-03-17 20:54:13,288 - INFO - HTTP Request: POST https://api.openai.com/v1/chat/completions \"HTTP/1.1 200 OK\"\n"
     ]
    },
    {
     "name": "stdout",
     "output_type": "stream",
     "text": [
      "\n",
      "Headline: US 2006/0166812 A1 \n",
      " alpha-olefins having from 3 to 14 carbon atoms, having a \n",
      " content of units derived from ethylene greater than approxi mately 80% by weight. These products have improved \n",
      " propert\n"
     ]
    },
    {
     "name": "stderr",
     "output_type": "stream",
     "text": [
      "2025-03-17 20:54:14,036 - INFO - HTTP Request: POST https://api.openai.com/v1/chat/completions \"HTTP/1.1 200 OK\"\n",
      "2025-03-17 20:54:14,896 - INFO - HTTP Request: POST https://api.openai.com/v1/chat/completions \"HTTP/1.1 200 OK\"\n",
      "2025-03-17 20:54:15,515 - INFO - HTTP Request: POST https://api.openai.com/v1/chat/completions \"HTTP/1.1 200 OK\"\n",
      "2025-03-17 20:54:16,249 - INFO - HTTP Request: POST https://api.openai.com/v1/chat/completions \"HTTP/1.1 200 OK\"\n",
      "2025-03-17 20:54:16,839 - INFO - HTTP Request: POST https://api.openai.com/v1/chat/completions \"HTTP/1.1 200 OK\"\n",
      "2025-03-17 20:54:17,336 - INFO - HTTP Request: POST https://api.openai.com/v1/chat/completions \"HTTP/1.1 200 OK\"\n"
     ]
    },
    {
     "name": "stdout",
     "output_type": "stream",
     "text": [
      "\n",
      "Headline: US 2006/0166812 A1 \n",
      " moles) of anhydrous MgCl2 and 39.6 ml (0.116 moles) of \n",
      " Ti(OBu). This mixture was allowed to stir at 300 rpm and \n",
      " heated to 150° C. for about 12 hours in order to have the \n",
      " sol\n"
     ]
    },
    {
     "name": "stderr",
     "output_type": "stream",
     "text": [
      "2025-03-17 20:54:17,968 - INFO - HTTP Request: POST https://api.openai.com/v1/chat/completions \"HTTP/1.1 200 OK\"\n",
      "2025-03-17 20:54:18,598 - INFO - HTTP Request: POST https://api.openai.com/v1/chat/completions \"HTTP/1.1 200 OK\"\n",
      "2025-03-17 20:54:19,078 - INFO - HTTP Request: POST https://api.openai.com/v1/chat/completions \"HTTP/1.1 200 OK\"\n",
      "2025-03-17 20:54:19,608 - INFO - HTTP Request: POST https://api.openai.com/v1/chat/completions \"HTTP/1.1 200 OK\"\n",
      "2025-03-17 20:54:20,264 - INFO - HTTP Request: POST https://api.openai.com/v1/chat/completions \"HTTP/1.1 200 OK\"\n",
      "2025-03-17 20:54:21,038 - INFO - HTTP Request: POST https://api.openai.com/v1/chat/completions \"HTTP/1.1 200 OK\"\n",
      "2025-03-17 20:54:21,652 - INFO - HTTP Request: POST https://api.openai.com/v1/chat/completions \"HTTP/1.1 200 OK\"\n"
     ]
    },
    {
     "name": "stdout",
     "output_type": "stream",
     "text": [
      "\n",
      "Headline: US 2006/0166812 A1 \n",
      " 0146 The chemical and physical characteristics of the resulting reddish powder were as follows: \n",
      " 0147 Total Titanium=1.5% (by weight) \n",
      " 0148 Mg=0.3% (by weight) \n",
      " 0149 SiO,-81.2%\n"
     ]
    },
    {
     "name": "stderr",
     "output_type": "stream",
     "text": [
      "2025-03-17 20:54:22,229 - INFO - HTTP Request: POST https://api.openai.com/v1/chat/completions \"HTTP/1.1 200 OK\"\n",
      "2025-03-17 20:54:22,836 - INFO - HTTP Request: POST https://api.openai.com/v1/chat/completions \"HTTP/1.1 200 OK\"\n",
      "2025-03-17 20:54:23,363 - INFO - HTTP Request: POST https://api.openai.com/v1/chat/completions \"HTTP/1.1 200 OK\"\n",
      "2025-03-17 20:54:24,008 - INFO - HTTP Request: POST https://api.openai.com/v1/chat/completions \"HTTP/1.1 200 OK\"\n",
      "2025-03-17 20:54:24,730 - INFO - HTTP Request: POST https://api.openai.com/v1/chat/completions \"HTTP/1.1 200 OK\"\n",
      "2025-03-17 20:54:25,471 - INFO - HTTP Request: POST https://api.openai.com/v1/chat/completions \"HTTP/1.1 200 OK\"\n",
      "2025-03-17 20:54:26,027 - INFO - HTTP Request: POST https://api.openai.com/v1/chat/completions \"HTTP/1.1 200 OK\"\n"
     ]
    },
    {
     "name": "stdout",
     "output_type": "stream",
     "text": [
      "\n",
      "Headline: US 2006/0166812 A1 \n",
      " room temperature, the stirring was stopped to have the Solid \n",
      " settled. The Supernatant liquid was removed, the Solid was \n",
      " repeatedly washed with anhydrous hexane and then dried \n"
     ]
    },
    {
     "name": "stderr",
     "output_type": "stream",
     "text": [
      "2025-03-17 20:54:26,568 - INFO - HTTP Request: POST https://api.openai.com/v1/chat/completions \"HTTP/1.1 200 OK\"\n",
      "2025-03-17 20:54:27,508 - INFO - HTTP Request: POST https://api.openai.com/v1/chat/completions \"HTTP/1.1 200 OK\"\n",
      "2025-03-17 20:54:28,311 - INFO - HTTP Request: POST https://api.openai.com/v1/chat/completions \"HTTP/1.1 200 OK\"\n",
      "2025-03-17 20:54:28,815 - INFO - HTTP Request: POST https://api.openai.com/v1/chat/completions \"HTTP/1.1 200 OK\"\n",
      "2025-03-17 20:54:29,462 - INFO - HTTP Request: POST https://api.openai.com/v1/chat/completions \"HTTP/1.1 200 OK\"\n",
      "2025-03-17 20:54:29,993 - INFO - HTTP Request: POST https://api.openai.com/v1/chat/completions \"HTTP/1.1 200 OK\"\n"
     ]
    },
    {
     "name": "stdout",
     "output_type": "stream",
     "text": [
      "\n",
      "Headline: US 2006/0166812 A1 \n",
      " obtained. This resulting liquid was cooled down to 40° C. \n",
      " and under gently stirring at 150 rpm, it was diluted with \n",
      " 3200 ml of anhydrous hexane. Into this solution kept at 40°\n"
     ]
    },
    {
     "name": "stderr",
     "output_type": "stream",
     "text": [
      "2025-03-17 20:54:31,051 - INFO - HTTP Request: POST https://api.openai.com/v1/chat/completions \"HTTP/1.1 200 OK\"\n",
      "2025-03-17 20:54:31,755 - INFO - HTTP Request: POST https://api.openai.com/v1/chat/completions \"HTTP/1.1 200 OK\"\n",
      "2025-03-17 20:54:32,313 - INFO - HTTP Request: POST https://api.openai.com/v1/chat/completions \"HTTP/1.1 200 OK\"\n",
      "2025-03-17 20:54:32,917 - INFO - HTTP Request: POST https://api.openai.com/v1/chat/completions \"HTTP/1.1 200 OK\"\n",
      "2025-03-17 20:54:33,433 - INFO - HTTP Request: POST https://api.openai.com/v1/chat/completions \"HTTP/1.1 200 OK\"\n",
      "2025-03-17 20:54:34,246 - INFO - HTTP Request: POST https://api.openai.com/v1/chat/completions \"HTTP/1.1 200 OK\"\n"
     ]
    },
    {
     "name": "stdout",
     "output_type": "stream",
     "text": [
      "\n",
      "Headline: US 2006/0166812 A1 \n",
      " 11 \n",
      " 0221) The polymerization catalyst is introduced as a dry \n",
      " powder by a catalyst feeder into reactor 1 in a site within the \n",
      " reaction Zone 3, close to the distributing plate \n"
     ]
    },
    {
     "name": "stderr",
     "output_type": "stream",
     "text": [
      "2025-03-17 20:54:34,992 - INFO - HTTP Request: POST https://api.openai.com/v1/chat/completions \"HTTP/1.1 200 OK\"\n",
      "2025-03-17 20:54:35,790 - INFO - HTTP Request: POST https://api.openai.com/v1/chat/completions \"HTTP/1.1 200 OK\"\n",
      "2025-03-17 20:54:36,401 - INFO - HTTP Request: POST https://api.openai.com/v1/chat/completions \"HTTP/1.1 200 OK\"\n",
      "2025-03-17 20:54:37,086 - INFO - HTTP Request: POST https://api.openai.com/v1/chat/completions \"HTTP/1.1 200 OK\"\n",
      "2025-03-17 20:54:37,892 - INFO - HTTP Request: POST https://api.openai.com/v1/chat/completions \"HTTP/1.1 200 OK\"\n"
     ]
    },
    {
     "name": "stdout",
     "output_type": "stream",
     "text": [
      "\n",
      "Headline: US 2006/0166812 A1 \n",
      " 2. A process for obtaining a solid catalyst component \n",
      " according to claim 1, wherein the activated particulate silica \n",
      " used in step (a) is a microspheroidal, porous silica. \n",
      " 3.\n"
     ]
    },
    {
     "name": "stderr",
     "output_type": "stream",
     "text": [
      "2025-03-17 20:54:38,451 - INFO - HTTP Request: POST https://api.openai.com/v1/chat/completions \"HTTP/1.1 200 OK\"\n",
      "2025-03-17 20:54:39,215 - INFO - HTTP Request: POST https://api.openai.com/v1/chat/completions \"HTTP/1.1 200 OK\"\n",
      "2025-03-17 20:54:39,773 - INFO - HTTP Request: POST https://api.openai.com/v1/chat/completions \"HTTP/1.1 200 OK\"\n",
      "2025-03-17 20:54:40,255 - INFO - HTTP Request: POST https://api.openai.com/v1/chat/completions \"HTTP/1.1 200 OK\"\n",
      "2025-03-17 20:54:40,816 - INFO - HTTP Request: POST https://api.openai.com/v1/chat/completions \"HTTP/1.1 200 OK\"\n",
      "2025-03-17 20:54:41,416 - INFO - HTTP Request: POST https://api.openai.com/v1/chat/completions \"HTTP/1.1 200 OK\"\n",
      "2025-03-17 20:54:42,031 - INFO - HTTP Request: POST https://api.openai.com/v1/chat/completions \"HTTP/1.1 200 OK\"\n"
     ]
    },
    {
     "name": "stdout",
     "output_type": "stream",
     "text": [
      "\n",
      "Headline: US 2006/0166812 A1 \n",
      " 26. A solid catalyst component according to claim 24, \n",
      " wherein the Solid catalyst has an average particle size \n",
      " ranging from 10 to 120 um. 27. A solid catalyst component accordi\n"
     ]
    },
    {
     "name": "stderr",
     "output_type": "stream",
     "text": [
      "2025-03-17 20:54:42,561 - INFO - HTTP Request: POST https://api.openai.com/v1/chat/completions \"HTTP/1.1 200 OK\"\n",
      "2025-03-17 20:54:43,087 - INFO - HTTP Request: POST https://api.openai.com/v1/chat/completions \"HTTP/1.1 200 OK\"\n",
      "2025-03-17 20:54:43,893 - INFO - HTTP Request: POST https://api.openai.com/v1/chat/completions \"HTTP/1.1 200 OK\"\n",
      "2025-03-17 20:54:44,717 - INFO - HTTP Request: POST https://api.openai.com/v1/chat/completions \"HTTP/1.1 200 OK\"\n"
     ]
    }
   ],
   "source": [
    "for patent_name, patent_path in best_10_patents_paths.items():\n",
    "    analyze_file_chunk(patent_path)"
   ]
  },
  {
   "cell_type": "markdown",
   "metadata": {},
   "source": [
    "# Результаты"
   ]
  },
  {
   "cell_type": "code",
   "execution_count": 18,
   "metadata": {},
   "outputs": [
    {
     "name": "stdout",
     "output_type": "stream",
     "text": [
      "Merged DataFrame info:\n",
      "<class 'pandas.core.frame.DataFrame'>\n",
      "RangeIndex: 131 entries, 0 to 130\n",
      "Data columns (total 8 columns):\n",
      " #   Column                Non-Null Count  Dtype \n",
      "---  ------                --------------  ----- \n",
      " 0   file_name             131 non-null    object\n",
      " 1   file_path             131 non-null    object\n",
      " 2   page_number           131 non-null    int64 \n",
      " 3   chunk_based_analysis  131 non-null    object\n",
      " 4   text                  129 non-null    object\n",
      " 5   patent_number         131 non-null    object\n",
      " 6   patent_path           131 non-null    object\n",
      " 7   is_exp_by_human       131 non-null    bool  \n",
      "dtypes: bool(1), int64(1), object(6)\n",
      "memory usage: 7.4+ KB\n"
     ]
    }
   ],
   "source": [
    "import os\n",
    "\n",
    "# Read preprocessed files\n",
    "preprocessed_csv_files = '/home/anatoly_kayda/Desktop/mipt/kayda_thesis/output_chunk_is_1000'\n",
    "preprocessed_df = pd.concat([pd.read_csv(preprocessed_csv_files+'/'+file, index_col=0) \n",
    "                           for file in os.listdir(preprocessed_csv_files)])\n",
    "preprocessed_df['file_name'] = preprocessed_df['file_name'].str.replace('.pdf', '')\n",
    "\n",
    "# Read human analysis results (assuming it exists)\n",
    "human_analysis_results = pd.read_csv('/home/anatoly_kayda/Desktop/mipt/kayda_thesis/patent_analysis_results.csv')  # adjust path as needed\n",
    "\n",
    "# Merge using column positions (first three columns)\n",
    "merged_df = pd.merge(\n",
    "    preprocessed_df,\n",
    "    human_analysis_results,\n",
    "    left_on=preprocessed_df.columns[:3].tolist(),\n",
    "    right_on=human_analysis_results.columns[:3].tolist(),\n",
    "    how='right'\n",
    ")\n",
    "\n",
    "# Display info about the merged DataFrame\n",
    "print(\"Merged DataFrame info:\")\n",
    "merged_df.info()"
   ]
  },
  {
   "cell_type": "code",
   "execution_count": 20,
   "metadata": {},
   "outputs": [
    {
     "name": "stdout",
     "output_type": "stream",
     "text": [
      "Accuracy: 0.916\n",
      "Precision: 0.824\n",
      "Recall: 0.955\n",
      "F1-score: 0.884\n"
     ]
    },
    {
     "data": {
      "image/png": "[encoded data removed]",
      "text/plain": [
       "<Figure size 800x600 with 2 Axes>"
      ]
     },
     "metadata": {},
     "output_type": "display_data"
    }
   ],
   "source": [
    "from sklearn.metrics import accuracy_score, precision_score, recall_score, f1_score, confusion_matrix\n",
    "import seaborn as sns\n",
    "import matplotlib.pyplot as plt\n",
    "\n",
    "# Convert 'YES'/'NO' to True/False in 1st_token column\n",
    "merged_df['chunk_based_analysis'] = merged_df['chunk_based_analysis'].map({'YES': True, 'NO': False})\n",
    "\n",
    "# Calculate metrics\n",
    "accuracy = accuracy_score(merged_df['is_exp_by_human'], merged_df['chunk_based_analysis'])\n",
    "precision = precision_score(merged_df['is_exp_by_human'], merged_df['chunk_based_analysis'])\n",
    "recall = recall_score(merged_df['is_exp_by_human'], merged_df['chunk_based_analysis'])\n",
    "f1 = f1_score(merged_df['is_exp_by_human'], merged_df['chunk_based_analysis'])\n",
    "\n",
    "print(f\"Accuracy: {accuracy:.3f}\")\n",
    "print(f\"Precision: {precision:.3f}\")\n",
    "print(f\"Recall: {recall:.3f}\")\n",
    "print(f\"F1-score: {f1:.3f}\")\n",
    "\n",
    "# Create confusion matrix\n",
    "cm = confusion_matrix(merged_df['is_exp_by_human'], merged_df['chunk_based_analysis'])\n",
    "plt.figure(figsize=(8,6))\n",
    "sns.heatmap(cm, annot=True, fmt='d', cmap='Blues',\n",
    "            xticklabels=['Non-Experimental', 'Experimental'],\n",
    "            yticklabels=['Non-Experimental', 'Experimental'])\n",
    "plt.title('Confusion Matrix')\n",
    "plt.xlabel('Predicted')\n",
    "plt.ylabel('Actual')\n",
    "plt.show()"
   ]
  },
  {
   "cell_type": "code",
   "execution_count": 21,
   "metadata": {},
   "outputs": [
    {
     "name": "stdout",
     "output_type": "stream",
     "text": [
      "Rows where model and human disagree:\n",
      "         file_name  page_number  chunk_based_analysis  is_exp_by_human                                                                                                                                                                                                                                                                                                                                                                                                                                                                                                                                                                                                                                                                                                                                                                                                                                                                                                                                                                                                                                                                                                                                                                                                                                                                                                                                                                                                                                                                                                                                                                                                                                                                                                                                                                                                                                                                                                                                                                                                                                                                                                                                                                                                                                                                                                                                                                                                                                                                                                                                                                                                                                                                                                                                                                                                                                                                                                                                                                                                                                                                                                                                                                                                                                                                                                                                                                                                                                                                                                                                                                                                                                                                                                                                                                                                                                                                                                                                                                                                                                                                                                                                                                                                                                                                                                                                                                                                                                                                                                                                                                                                                                                                                                                                                                                                                                                                                                                                                                                                                                                                                                                                                                                                                                                                                                                                                                                                                                                                                                                                                                                                                                                                                                                                                                                                                                                                                                                                                                                                                                                                                                                                                                                                                                                                                                                                                                                                                                                                                                                                                                                                                                                                                                                                                                                                                                                                                                                                                                                                                                                                                                                                                                                                                                                                                                                                                                                                                                                                                                                                                                                                                                                                                                                                                                                                                                                                                                                                                                                                                                                                                                                                                                                                                                                                                                                                         text\n",
      "4        US6617405            5                  True            False                                                                                                                         US 6,617.405 B1 \\n 7 \\n bottom of the residence time pot. The impeller promotes Some radial mixing, but mainly assures that the bottom Section of the residence time pot does not experience SuS pended solid buildup. \\n After activator has been added to the catalyst precursor Slurry in one or two steps, additional activator is added as a last step prior to entry into the reactor. Preferably, this \\n addition occurs within 30 minutes and preferably within less than 15 minutes of actual injection of the catalyst precursor \\n Slurry into the reactor. The activator can be in Solution in an inert Solvent (Such as a high Viscosity fluid carrier or a lower Viscosity Solvent) or added as pure component. It is essential \\n that a mixer, preferably an additional Static mixer element, be located immediately downstream of the addition point of \\n the additional activator. It is also important to keep the Slurry flowing to assure that no plugs form in the catalyst feed line. \\n Additional activator is fed to provide for sufficient activation of the catalyst plus a Small additional amount to Scavenge \\n impurities in the polymerization reactor. The total amount of \\n this additional “topping off activator can be about 0.1 to \\n about 75 percent by mol of the total amount of the activator \\n used for the activation of the precursor. Addition of all of the activator to the catalyst precursor eliminates mass transfer problems, which would prevent the activator from reaching the catalyst precursor if Separate addition to the reactor was \\n practiced. This practice leads to extremely efficient utiliza tion of activator and improved polymer product properties. \\n After completion of the mixing of activator with catalyst \\n precursor, direct injection into the reactor occurs. Means of feeding a slurry to a gas phase reactor are well known and described in the art (see European Patent Application 635 521, for example). \\n The hydrocarbon used for the formation of the slurry can \\n be any essentially air and moisture free aliphatic or aromatic hydrocarbon which is unreactive with the catalyst precursor, \\n the precursor activator compounds, and the cocatalyst. In \\n practice, Since many of the final polymer products find end \\n uses in food packaging, aromatic hydrocarbons would not be a preferred slurry solvent. The hydrocarbon slurry solvent is \\n typically chosen from hydrogenated “mineral oils” or naph \\n thenic oils of relatively high Viscosity to minimize Settling of \\n catalyst Solids in feed tubes and the like, although, with appropriate engineering design, lower Viscosity Solvents \\n Such as isopentane, hexane, and heptane can be used as Slurry Solvents. These are not particularly preferred due to \\n the additional complexity introduced by use of a lower Viscosity and more easily Settled slurry as catalyst. The \\n viscosity of the hydrocarbon slurry solvent, however, is sufficiently low so that the slurry can be conveniently pumped through the pre-activation apparatus and eventually \\n into the polymerization reactor. Preferred Solvents are ali phatic hydrocarbons with viscosity greater than about 50 centipoises (cps), particularly greater than about 100 cps and \\n less than about 5,000 cps. Particularly preferred solvents are \\n napthenic mineral oils typified by materials Such as the Kaydol series of food grade mineral oils supplied by Witco \\n under the trademark Kaydol(R) 350 and 550. \\n It is preferred not to use a Support. However, in those \\n cases where it is desired to Support the precursor, Silica is the preferred Support. Other Suitable Supports are inorganic \\n oxides Such as aluminum phosphate, alumina, Silica/alumina mixtures, Silica modified with an organoaluminum com pound Such as triethylaluminum, and Silica modified with diethyl Zinc. A typical Support is a Solid, particulate, porous \\n material essentially inert to the polymerization. It is used as a dry powder having an average particle Size of about 10 to \\n about 250 microns and preferably about 30 to about 100 15 \\n 25 \\n 35 \\n 40 \\n 45 \\n 50 \\n 55 \\n 60 \\n 65 8 \\n microns, a Surface area of at least 200 Square meters per gram and preferably at least about 250 Square meters per \\n gram; and a pore Size of at least about 100 angstroms and preferably at least about 200 angstroms. Generally, the \\n amount of support used is that which will provide about 0.1 \\n to about 1.0 millimole of titanium per gram of Support and \\n preferably about 0.4 to about 0.9 millimole of titanium per gram of Support. Impregnation of the above mentioned catalyst precursor into a Silica Support can be accomplished \\n by mixing the precursor and Silica gel in the electron donor \\n solvent or other solvent followed by solvent removal under reduced pressure. The resultant Solid catalyst is then con verted into a free flowing Slurry with an aliphatic hydrocar \\n bon as described above Such that it is pumpable as a liquid into the process. Catalyst precursorS Such as those described \\n in U.S. Pat. No. 5,290,745 and European Patent Application 771 820 are particularly useful in the process of subject \\n invention when placed into a hydrocarbon Slurry in the \\n unactivated State. \\n The polymerization is conducted in the gas phase using a \\n continuous fluidized bed process. \\n Melt index is determined under ASTM D-1238, Condition E. It is measured at 190° C. and 2.16 kilograms and reported as grams per 10 minutes or decigrams per minute. Flow \\n index is determined under ASTM D-1238, Condition F. It is \\n measured at 190° C. and 10 times the weight used in determining the melt index, and reported as grams per 10 \\n minutes or decigrams per minute. Melt flow ratio is the ratio \\n of flow index to melt index. The product, as removed from \\n the reactor, can have a melt indeX in the range of about 0.02 to about 300 grams per 10 minutes, and preferably has a melt \\n index in the range of about >0.04 to about 50 grams per 10 \\n minutes. The melt flow ratio is in the range of about 20 to about 50, and is preferably in the range of about 20 to about 30. The density of the polymer is normally at least 0.900 \\n gram per cubic centimeter, and is preferably in the range of \\n 0.915 to 0.960 gram per cubic centimeter. The bulk density \\n can be in the range of about 18 to about 32 pounds per cubic foot, and is preferably greater than 22 pounds per cubic foot. \\n The molecular weight distribution of the polymer is reflected \\n in an Mw/Mn of about 3 to about 7. Mw is the weight average molecular weight, Mn is the number average \\n molecular weight; and the Mw/Mn ratio can be referred to as the polydispersity index, which is a measure of the \\n breadth of the molecular weight distribution. Mw/Mn can \\n also be related to MFR, with lower values of MFR indicated \\n lower values of Mw/Mn and a narrower molecular weight \\n distribution. \\n The transition metal based catalyst System including the activated precursor, ethylene, and, optionally, alpha-olefin \\n and hydrogen are continuously fed into the reactor, and the \\n final product is continuously removed from the reactor. \\n In the reactor: \\n The mole ratio of alpha-olefin (if used) to ethylene can be in the range of about 0.01:1 to about 0.8:1, and is preferably \\n in the range of about 0.02:1 to about 0.35:1. The mole ratio of hydrogen (if used) to ethylene can be in the range of about \\n 0.001:1 to about 2:1, and is preferably in the range of about 0.01 to about 0.5:1. Preferred operating temperatures vary \\n depending on the density desired, i.e., lower temperatures \\n for lower densities and higher temperatures for higher \\n densities. \\n The pressure, i.e., the total pressure in the reactor, can be in the range of about 200 to about 500 psig (pounds per Square inch gauge) and is preferably in the range of about \\n 280 to about 450 psig. The ethylene partial pressure can be \n",
      "5        US6617405            6                 False             True                                                                                                                                                                                                                                                                                                                                                                                                                            US 6,617.405 B1 \\n 9 \\n in the range of about 10 to about 150 psig, and is preferably \\n in the range of about >20 to about 120 psig. The balance of the total pressure is provided by alpha-olefin (if used) and an \\n inert gas Such as nitrogen. Other inert hydrocarbons, Such as an induced condensing agent e.g., isopentane, hexane also \\n contribute to the overall preSSure in the reactor according to their vapor pressure under the temperature and pressure \\n experienced in the reactor. A typical fluidized bed reactor \\n can be described as follows: \\n The bed is usually made up of the same granular resin that \\n is to be produced in the reactor. Thus, during the course of the polymerization, the bed comprises formed polymer particles, growing polymer particles, and catalyst particles \\n fluidized by polymerization and modifying gaseous compo \\n nents introduced at a flow rate or Velocity Sufficient to cause the particles to Separate and act as a fluid. The fluidizing gas \\n is made up of the initial feed, make-up feed, and cycle \\n (recycle) gas, i.e., comonomers and, if desired, modifiers and/or an inert carrier gas. \\n The essential parts of the reaction System are the vessel, \\n the bed, the gas distribution plate, inlet and outlet piping, a compressor, cycle gas cooler, and a product discharge SyS \\n tem. In the vessel, above the bed, there is a velocity \\n reduction Zone, and, in the bed, a reaction Zone. Both are above the gas distribution plate. \\n A typical fluidized bed reactor is further described in U.S. \\n Pat. No. 4,482,687. \\n The gaseous feed Streams of ethylene, other gaseous alpha-olefins (if used), and hydrogen (if used) are preferably fed to the reactor recycle line as well as liquid alpha-olefins (if used). The activated catalyst precursor is preferably \\n injected into the fluidized bed as a Solid or a mineral oil Slurry. The product composition can be varied by changing \\n the molar ratioS of the comonomers introduced into the \\n fluidized bed. The product is continuously discharged in \\n granular or particulate form from the reactor as the bed level builds up with polymerization. The production rate is con \\n trolled by adjusting the catalyst feed rate and/or the ethylene partial pressures. \\n The hydrogen:ethylene mole ratio can be adjusted to control average molecular weights. The alpha-olefins (other than ethylene) can be present in a total amount of up to 15 percent by weight of the copolymer and, if used, are pref \\n erably included in the copolymer in a total amount of about 1 to about 10 percent by weight based on the weight of the copolymer. \\n The residence time of the mixture of reactants including gaseous and liquid reactants, catalyst, and resin in the \\n fluidized bed can be in the range of about 1 to about 12 hours and is preferably in the range of about 2 to about 5 hours. \\n The reactor can be run in the condensing mode, if desired. \\n The condensing mode is described in U.S. Pat. Nos. 4,543, \\n 399; 4,588,790; and 5,352,749. \\n The resin can be extruded in a conventional extruder \\n adapted for that purpose. Extruders and processes for extru \\n Sion are described in U.S. Pat. Nos. 4,814, 135; 4,857,600; \\n 5,076,988; and 5,153,382. Examples of various extruders, which can be used in forming film are a single Screw type \\n Such as one modified with a blown film die and air ring and continuous take off equipment, a blown film extruder, and a Slot cast extruder. A typical Single Screw type extruder can be described as one having a hopper at its upstream end and \\n a die at its downstream end. The hopper feeds into a barrel, \\n which contains a Screw. At the downstream end, between the \\n end of the Screw and the die, is a Screen pack and a breaker plate. The screw portion of the extruder is considered to be 15 \\n 25 \\n 35 \\n 40 \\n 45 \\n 50 \\n 55 \\n 60 \\n 65 10 \\n divided up into three Sections, the feed Section, the com pression Section, and the metering Section, and multiple \\n heating Zones from the rear heating Zone to the front heating \\n Zone, the multiple Sections and Zones running from upstream \\n to downstream. If it has more than one barrel, the barrels are \\n connected in Series. The length to diameter ratio of each barrel is in the range of about 16:1 to about 30:1. The extrusion can take place at temperatures in the range of \\n about 160 to about 270 degrees C., and is preferably carried \\n out at temperatures in the range of about 180 to about 240 degrees C. \\n The advantages of the invention are found in that molecu \\n lar weight distribution can be narrowed and hexane extract \\n ables can be decreased without a decrease in hydrogen response and catalyst activity; there is no rapid increase in \\n reaction rate, which can result in sheeting, chunking, and cessation of operation; reduction of the cocatalyst, i.e., activator, requirement; improved proceSS control; the pre \\n cursor is leSS Sensitive to over-reduction; catalyst fines are all active So they are less likely to Segregate and migrate to \\n the reactor wall to form sheets, facilitates activator change where different products are desired; the process allows for \\n complete activation even where the activator has very low (or nil) vapor pressure Such as tri-n-hexyl aluminum; the \\n process allows the use of leSS expensive activatorS Such as triethylaluminum and triusobutylaluminum; eliminates the \\n need for Separate cocatalyst feed; although the proceSS is \\n primarily focused on higher molecular weight (and lower levels of low molecular weight species), narrow molecular weight distribution products for fabrication into film, the process has broader application to higher melt indeX products, typically resins used in injection molding, elimi \\n nates other forms of catalyst premixing, often a unit opera tion; and allows for quick changes of catalyst by changing \\n relative flow rates of precursor and activator. \\n Conventional additives, which can be introduced into the resin product, are exemplified by antioxidants, ultraViolet absorbers, pigments, dyes, nucleating agents, fillers, Slip \\n agents, fire retardants, plasticizers, processing aids, \\n lubricants, Stabilizers, Smoke inhibitors, Viscosity control agents, and crosslinking agents, catalysts, and boosters, \\n tackifiers, and anti-blocking agents. Aside from the fillers, \\n the additives can be present in the blend in amounts of about 0.1 to about 10 parts by weight of additive for each 100 parts \\n by weight of polymer blend. Fillers can be added in amounts up to 200 parts by weight and more for each 100 parts by \\n weight of the blend. \\n Patents, patent applications, and other publications men \\n tioned in this specification are incorporated by reference \\n herein. \\n Molecular weights are weight average molecular weights \\n unless otherwise noted. \\n The invention is illustrated by the following examples. \\n EXAMPLES 1 to 4 \\n Examples 1 to 4 are embodiments of the invention. In these examples, a Small polymerization reaction System, as \\n described in U.S. Pat. No. 5,290,745 and references con \\n tained therein, is used. Instead of manipulating the activator/ \\n electron donor ratioS in an in-line fashion as indicated in the \\n discussion of the preferred mode, the partially activated precursors are prepared in a batch fashion due to the extreme difficulty encountered in metering activator compound flows \\n which would be at rates of about 1 to 3 cubic centimeters per \\n hour. These results are illustrative of the effect of the \\n invention in manipulating polymer properties in an in-line \n",
      "14       US6248831            5                  True            False  US 6,248,831 B1 \\n 7 \\n interconnecting device using nitrogen or Second reactor recycle gas as a transfer medium. \\n In the high molecular weight (HMW) reactor: \\n Because of the low values, instead of melt index, flow \\n indeX is determined and those values are used in this \\n specification. The flow index (I 21.6) can be in the range of about 0.20 to about 5.0 grams per 10 minutes, and is preferably in the range of about 0.25 to about 4 grams per 10 minutes. The molecular weight of this polymer is, generally, in the range of about 250,000 to about 600,000. The density of the copolymer can be in the range of 0.890 to 0.940 gram per cubic centimeter, and is preferably in the range of 0.900 to 0.935 gram per cubic centimeter. The melt flow ratio (I 21.6/I 2.16) of the polymer can be in the range of about 20 to about 65, and is preferably about 22 to about \\n 50. \\n Melt index (I 2.16) is determined under ASTM D-1238, Condition E. It is measured at 190° C. and 2.16 kilograms and reported as grams per 10 minutes. Melt index (I 5) can also be determined under ASTM D-1238, Condition P. It is measured at 190° C. and 5 kilograms and reported as grams per 10 minutes. Flow index (I 21.6) is determined under ASTM D-1238, Condition F. It is measured at 190° C. and 21.6 kilograms and reported as grams per 10 minutes. Melt \\n flow ratio is the ratio of flow index (I 21.6) to melt index (I 2.16 or I 5). \\n In the low molecular weight (LMW) reactor: \\n A relatively high melt index (I 2.16) (or low molecular weight) copolymer is prepared in this reactor. The high melt index can be in the range of about 80 to about 1000 grams per 10 minutes, and is preferably in the range of about 150 to about 900 grams per 10 minutes. The molecular weight of the high melt indeX copolymer is, generally, in the range of about 15,000 to about 35,000. The density of the copolymer prepared in this reactor can be in the range of 0.925 to 0.970 gram per cubic centimeter, and is preferably in the range of \\n 0.928 to 0.965 gram per cubic centimeter. The melt flow ratio (I 21.6/I 2.16) of this copolymer can be in the range of about 20 to about 65, and is preferably about 22 to about 50. \\n The blend or final product, as removed from the second reactor, can have a melt index (I5) in the range of about 0.01 to about 2.0 grams per 10 minutes, and preferably has a melt index in the range of about 0.05 to about 1.0 grams per 10 minutes. The melt flow ratio (I 21.6/I 5) is in the range of about 20 to about 45, and is preferably in the range of about 22 to about 42. The average molecular weight of the final product is, generally, in the range of about 200,000 to about \\n 350,000. The density of the blend can be in the range of 0.915 to 0.958 gram per cubic centimeter, and is preferably in the range of 0.920 to 0.955 gram per cubic centimeter. \\n The blend has a broad molecular weight distribution \\n which can be characterized as bimodal. The broad molecular \\n weight distribution is reflected in an Mw/Mn ratio of about 18 to about 32, preferably about 20 to about 30. Mw is the weight average molecular weight, Mn is the number average \\n molecular weight; and the Mw/Mn ratio can be referred to as the polydispersity index (PDI), which can be viewed as a measure of the breadth of the molecular weight distribution. \\n The weight ratio of copolymer prepared in the high molecular weight reactor to copolymer prepared in the low \\n molecular weight reactor can be in the range of about 0.8:1 to about 2.3:1, and is preferably in the range of about 0.9:1 to about 1.9:1. The optimum weight ratio is about 1.2:1 to about 1.5:1. This is also known as the split. The magnesium/titanium based catalyst System, ethylene, alpha-olefin, and hydrogen are continuously fed into the first reactor; the polymer/catalyst mixture is continuously trans \\n ferred from the first reactor to the Second reactor; ethylene, alpha-olefin, and hydrogen, as well as cocatalyst are con 15 \\n 25 \\n 35 \\n 40 \\n 45 \\n 50 \\n 55 \\n 60 \\n 65 8 \\n tinuously fed to the Second reactor. The final product is continuously removed from the Second reactor. \\n In the low melt index, as reflected in flow index reactor, i.e., the first reactor: The mole ratio of alpha-olefin to ethylene can be in the range of about 0.005:1 to about 0.4:1, and is preferably in the range of about 0.02:1 to about 0.26:1. The mole ratio of hydrogen to ethylene can be in the range \\n of about 0.0001:1 to about 0.3:1, and is preferably in the range of about 0.001:1 to about 0.18:1. The operating temperature is generally in the range of about 60° C. to about 100° C. Preferred operating temperatures vary depending on \\n the density desired, i.e., lower temperatures for lower den Sities and higher temperatures for higher densities. \\n In the high melt indeX reactor, i.e., the Second reactor: The mole ratio of alpha-olefin (optional) to ethylene can \\n be in the range of about 0.005:1 to about 0.6:1, and is preferably in the range of about 0.01:1 to about 0.42:1. The mole ratio of hydrogen to ethylene can be in the range of \\n about 1.0:1 to about 3:1, and is preferably in the range of about 1.3:1 to about 2.2:1. The operating temperature is generally in the range of about 70° C. to about 110° C. As mentioned above, the temperature is preferably varied with the desired density. \\n The total reactor pressure in the Second reactor is usually higher than that used in the first reactor because of higher ethylene partial pressures and high hydrogen/ethylene \\n requirements. The pressure, i.e., the total pressure in each \\n reactor, can be in the range of about 200 to about 450 psig and is preferably in the range of about 280 to about 400 psig. The ethylene partial pressure in the first reactor can be in the range of about 10 to about 100 psi and is preferably in the range of about 20 to about 60 psi. The ethylene partial \\n preSSure in the Second reactor can be in the range of about 50 to about 120 psi and is preferably in the range of about 60 to about 110 psi. The upper limit of ethylene partial preSSure in the first reactor and the ethylene partial preSSure \\n in the Second reactor are Set according to the amount of copolymer it is desired to produce in each of these reactors, \\n i.e., to achieve the Split mentioned above. It is noted that increasing the ethylene partial pressure in the first reactor \\n leads to an increase in ethylene partial pressure in the Second reactor. Generally, the ethylene partial preSSure roughly \\n doubles in the second reactor over the first reactor. The \\n balance of the total preSSure is provided by alpha-olefin \\n other than ethylene and an inert gas Such as nitrogen. \\n A typical fluidized bed reactor can be described as fol \\n lows: \\n The bed is usually made up of the same granular resin that is to be produced in the reactor. Thus, during the course of the polymerization, the bed comprises formed polymer particles, growing polymer particles, and catalyst particles \\n fluidized by polymerization and modifying gaseous compo \\n nents introduced at a flow rate or Velocity Sufficient to cause the particles to Separate and act as a fluid. The fluidizing gas is made up of the initial feed, make-up feed, and cycle (recycle) gas, i.e., comonomers and, if desired, modifiers and/or an inert carrier gas. \\n The essential parts of the reaction System are the vessels, an interreactor transfer System; a vent recovery System; and, \\n in each vessel: a bed, a gas distribution plate, inlet and outlet piping, a compressor, a cycle gas cooler, and a product \\n discharge System. In each vessel, above the bed, there is a Velocity reduction Zone, and, in the bed, a reaction Zone. Both are above the gas distribution plate. \\n A typical fluidized bed reactor is also described in U.S. \\n Pat. No. 4,482,687. \\n The gaseous feed Streams of ethylene, other gaseous alpha-olefins, and hydrogen, when used, are preferably fed \\n to the reactor recycle line as well as liquid alpha-olefins and \n",
      "20       US6248831           11                 False             True                                                                                                                                                                                                                                                                                                                                                                                                                                                                                                                                                                                                                                                                                                                                                                                                                                                                                                                                                                                                                                                                                                                                                                                                                                                            US 6,248,831 B1 \\n TABLE XII-continued \\n reaction first second \\n conditions reactor reactor \\n (wt %) \\n fines less than O.21 O.53 \\n 120 mesh (wt %) \\n Notes to above Tables: \\n 1. Resin properties for Second reactor: These are theo retical values based on the assumption that the Second reactor copolymer is produced independently. In Some cases the bimodal resin properties are given, i.e., the properties of \\n the resin blend. 2. Density is measured by producing a plaque in accor dance with ASTM D-1928, procedure C, and then testing as is via ASTM D-1505. The density is reported in gram per \\n cubic centimeter. 3. production rate (lbS/hr)=the average resin production rate per hour based on a heat balance calculation (approximately equal to drum average production rate). 4.5% TEAL=5 weight percent triethylaluminum and 95 weight percent isopentane. \\n 5. titanium split (%)=residual ppm Ti in Second reactor resin divided by residual ppm Ti in first reactor resin. This is an indirect measure of polymer Split. 6. SGV (ft/sec)=Superficial gas velocity in the bed. \\n 7. The fluidized and settled bulk densities of each of the resins (not the blend) is given in pounds per cubic foot. 8. tap blowback=nitrogen is used to purge (blowback) the taps to avoid tap pluggage problems. 9. STY (Ibs/hr/cu ft)=Space/time/yield. This is equal to the resin production rate divided by the bed volume. 10. Split (energy balance)=production rate in first reactor \\n divided by the total production rate. The instantaneous production rate in each reactor is calculated by a heat \\n balance on the reactor. \\n 12. Dart Drop is determined under ASTM D-1709, pro \\n cedure A. \\n 13. Line Speed is the take off speed from an Alpine TM film \\n line equipped with a 100 millimeter die and a 1 millimeter die gap. The film is produced in stalk mode with a 4:1 BUR (blow-up ratio) and a 6 to 8 times die diameter frost line height at about 45 kilograms output rate per hour. \\n What is claimed is: \\n 1. A process for production of a polyethylene blend in Situ comprising contacting ethylene and at least one alpha-olefin \\n comonomer having 3 to 8 carbon atoms with a magnesium/ titanium based catalyst System including a partially activated precursor and a cocatalyst in each of two fluidized bed reactors connected in Series, in the gas phase, under poly merization conditions, with the provisoS that: (a) the precursor is formed by contacting an alkylalumi \\n num halide with a Solid reaction product prepared from \\n a magnesium alkoxide, a titanium tetraalkoxide, and a Solubility enhancing agent; \\n (b) the mixture of ethylene copolymer matrix and active \\n catalyst formed in the first reactor in the Series is \\n transferred to the Second reactor in the Series, \\n (c) other than the active catalyst referred to in proviso (b) and the cocatalyst referred to in proviso (f), no addi \\n tional catalyst is introduced into the Second reactor; \\n (d) in the first reactor in which a low melt index copoly \\n mer is made: \\n (1) alpha-olefin is present in a ratio of about 0.005 to about 0.4 mole of alpha-olefin per mole of ethylene; (2) hydrogen is, optionally, present in a ratio of about \\n 0.0001 to about 0.3 mole of hydrogen per mole of ethylene, and 15 \\n 25 \\n 35 \\n 40 \\n 45 \\n 50 \\n 55 \\n 60 \\n 65 20 \\n (3) the ethylene partial pressure is in the range of about \\n 10 to about 100 pounds per Square inch; and \\n (e) in the Second reactor in which a high melt index copolymer is made: (1) alpha-olefinis, optionally, present in a ratio of about \\n 0.005 to about 0.6 mole of alpha-olefin per mole of ethylene; \\n (2) hydrogen is, optionally, present in a ratio of about \\n 1.0 to about 3.0 moles of hydrogen per mole of ethylene, and \\n (3) the ethylene partial pressure is in the range of about \\n 50 to about 120 pounds per Square inch; and \\n (f) additional hydrocarbyl aluminum cocatalyst is intro \\n duced into the Second reactor in an amount Sufficient to \\n restore the level of activity of the catalyst transferred \\n from the first reactor to about the initial level of activity \\n in the first reactor. \\n 2. The process defined in claim 1 wherein the alkylalu minum halide can be represented by the formula RATY, wherein R is an alkyl group having 1 to 8 carbon atoms, Y is a halogen; and n is 1 or 2. 3. The process defined in claim 1 wherein the solubility enhancing agent is carbon dioxide, triethylborate, a bromide, or a phenolic compound Selected from the group consisting \\n of phenol and a phenol Substituted with an alkyl, an alkoxy, a halogen, or a dialkylamino group. \\n 4. The process defined in claim 1 wherein the polymer formed in the first reactor has a flow index (I 21.6) in the range of about 0.20 to about 5.0 grams per 10 minutes and a density in the range of about 0.890 to about 0.940 gram per \\n cubic centimeter and the polymer formed in the Second reactor has a melt index (I 2.16) in the range of about 80 to about 1000 grams per 10 minutes and a density in the range \\n of about 0.925 to about 0.970 gram per cubic centimeter, the weight ratio of first reactor polymer to Second reactor polymer being in the range of about 0.8:1 to about 2.3:1. 5. The process defined in claim 1 wherein the alkylalu minum halide is represented by the formula RATY, wherein R is an alkyl group having 1 to 8 carbon atoms, Y is a halogen, and n is 1 or 2 and the reaction product is represented by the formula MgTi(OR)x- wherein each R is independently an alkyl group having 1 to 4 carbon atoms \\n and each X is independently a halide or a monovalent anion of a phenolic compound. \\n 6. The process defined in claim 1 wherein the blend has a melt index (I 5) in the range of about 0.01 to about 2.0 grams per 10 minutes; a melt flow ratio (I 21.6/I 5) in the range of about 20 to about 45; and a density in the range of 0.915 to 0.958 gram per cubic centimeter. 7. The process defined in claim 1 wherein a high density polyethylene blend is produced under the following condi \\n tions: \\n in the first reactor: \\n (1) the alpha-olefin is 1-hexene and/or 1-butene and is \\n present in a ratio of about 0.01 to about 0.04 mole of alpha-olefin per mole of ethylene; \\n (2) hydrogen is present in a ratio of about 0.01 to about 0.1 mole of hydrogen per mole of ethylene; and (3) the ethylene partial pressure is in the range of about \\n 25 to about 70 pounds per Square inch; and \\n in the Second reactor: \\n (1) the alpha-olefin is 1-hexene and/or 1-butene and is, optionally, present in a ratio of about 0.005 to about 0.05 mole of alpha-olefin per mole of ethylene; \\n (2) hydrogen is present in a ratio of about 1.3 to about 2.2 moles of hydrogen per mole of ethylene; and (3) the ethylene partial pressure is in the range of about \\n 50 to about 120 pounds per square inch. \n",
      "27   US20060046928            6                  True            False                                                                                                                                                                                                                                                                                                                                                                                                                                                                                                                                                                                                                                                                                                                                                                                                                                                                                                                                           US 2006/0046928A1 \\n from about 0.5 wt % to about 3.0 wt % of the silica seeding agent is used relative to the magnesium-halide compound. \\n Generally, a higher ratio of magnesium-halide to Silica \\n Seeding agent in the mixture results in a higher ratio of magnesium-halide to Silica in the catalyst Support formed and, consequently, a larger catalyst Support is expected to \\n form because more magnesium-halide crystalizes onto the Silica Seeding agent. \\n 0.014. The solvent is added in amounts from about 2 to 20 times, preferably about 6 times, the molar ratio of the magnesium-halide compound to facilitate the liquefying of \\n the magnesium-halide compound at a lower temperature. \\n U.S. Pat. No. 4,421,674 to Invernizzi et al. teaches, for \\n example, that when the mole ratio of ethanol (“EtOH') to MgCl, is 102, the complex liquefies at 60° C.; at a mole ratio of EtOH to MgCl2 of 7.75 the complex liquefies at 80° C.; \\n at a mole ratio of EtOH to MgCl, of 6.51 the complex liquefies at 90° C.; and at a mole ratio of EtOH to MgCl, of 5.43 the complex liquefies at 100° C. The mixture is initially translucent due to the Suspension of the magnesium-halide \\n compound and the Silica Seeding agent. The mixture is \\n heated to about 60° C. to about 140°C., preferably about 80° \\n C. to about 120° C., until the solvent begins to reflux and the magnesium-halide compound goes into Solution, whereupon \\n the mixture becomes transparent, and the temperature is \\n maintained at the reflux temperature for about 0.25 hours to about 3.0 hours, preferably about 1.0 hour to about 2.0 hours, preferably with continuous stirring. It is possible to \\n form the mixture without either the oil or the Solvent, or by mixing the ingredients in a different order, but the above \\n described mixing operation has been shown to result in a well-dispersed mixture. \\n 0015 The clear mixture, which includes a MgCl2.xEtOH complex (where X is an integer from 1-20), is rapidly transferred to a Second mixing apparatus containing a pre \\n chilled hydrocarbon Solvent, Such as heptane, hexane, cyclo hexane, or other aliphatic or cycloaliphatic hydrocarbon \\n which is miscible in the oil and which will not freeze at the \\n temperatures necessary for the Solidification of the MgCl2.xEtOH complex. The hydrocarbon solvent is pre \\n chilled, for example, to between ice (0° C.) and dry ice/ isopropanol temperatures (i.e., about -70° C. to -90° C.). The rapid temperature decrease causes almost all of the magnesium-halide compound to precipitate out of Solution \\n and crystallize onto the Silica Seeding agent, thus coating the Silica Seeding agent to form a catalyst Support. The catalyst \\n Support particles preferably include less than 10 wt % Silica, \\n preferably no more than 5 wt % silica, and more preferably \\n no more than 3 wt % Silica. \\n 0016. After about 0.5 to 2 hours, preferably about 1 hour, \\n the mixture is allowed to warm to room temperature and it is filtered. Approximately Spherical and/or Spheroidal Solid \\n catalyst Support particles, each comprising at least one Silica Seeding agent with magnesium-halide crystals attached \\n thereto, are collected and washed Several times with more hydrocarbon Solvent, until the hydrocarbon Solvent appears \\n to be colorless, and are dried (e.g., vacuum dried) in a rotary evaporator at about 40 C. to 80 C., preferably at about 60 \\n C., for 1 to 3 hours, preferably for about 2 hours. The term “approximately Spherical' or “approximately Spheroidal' \\n means that all points on the Surface of the particle are within \\n the range of radius r to 2r wherein r is the minimum radial \\n distance between the center of the particle and the closest Mar. 2, 2006 \\n point thereto on the Surface of the particle. The magnesium halide compound may alternately be crystallized onto the \\n Silica Seeding agent with known Spray drying techniqueS or \\n by gradually evaporating the Solvent in which it was origi \\n nally dissolved. \\n 0017 Next, the catalyst support is slowly added to about \\n 10 to 50 moles of a transition metal compound for each mole of magnesium in the magnesium-halide compound at about \\n -30 to 50 C., and the temperature of this mixture is raised \\n to about 20 to 80°C., preferably about 30-60° C. An internal electron donor is added and the temperature is raised, generally with stirring, to about 80 to 130 C., preferably \\n 100-110° C., and is kept at that level for about 1 to 3 hours, preferably about 2 hours. \\n 0018. The internal electron donor compound, in general, \\n is used in an amount from about 0.05 to about 2.0 moles, \\n preferably about 0.1 to about 0.5 mole, for each mole of magnesium in the magnesium-halide compound. \\n 0019. The result is a mixture comprising solid catalyst \\n particles and unreacted transition metal compound and inter \\n nal electron donor compound. \\n 0020. The solid catalyst particles are filtered out and, \\n preferably, extracted for about 1 to 3 hours, preferably about \\n 2 hours, at about 110 to 140 C., more preferably about 125 C. with a mixture of transition metal compound (about 5 to 30 wt %, preferably about 10 wt %), and an inert solvent, Such as a C-C alkylbenzene, preferably ethylbenzene \\n (about 70 to 85 wt %, preferably about 90 wt %) in a known “Soxhlet” extraction type arrangement. This extraction treat ment enhances catalyst activity and Stereospecificity. Alter \\n natively, the Solid catalyst may receive any number of other \\n known extraction treatments, which may, but need not, include a transition metal treatment. Alternatively, the cata lyst could simply be boiled in a Solution comprising a \\n transition metal compound with or without an inert Solvent, \\n i.e., a Solvent which will not react with the transition metal \\n compound. U.S. Pat. No. 4,745,164 to Schweier et al. and \\n U.S. Pat. No. 6,034,023 to Kersting et al., which are incor porated by reference herein, teach examples of extraction \\n methods which may be utilized in the present invention. \\n 0021. The Solid catalyst may be recovered by filtration, \\n washed with an inert Solvent, Such as heptane, hexane, cyclohexane or other aliphatic or cycloaliphatic hydrocar \\n bon, dried by draining off transition metal compound and \\n Solvent, washed a Second time with the inert Solvent, and \\n dried. \\n 0022. The solid catalyst Support particles and/or catalyst \\n particles preferably comprise about 0.01 wt % to about 10 wt \\n % silica, more preferably about 0.1 wt % to about 5 wt % \\n Silica. \\n 0023 The solid catalyst Support particles and/or catalyst particles preferably have a weight percent ratio of Silica to \\n magnesium-halide compound in the range of about 1:20 to \\n 1:3, preferably from about 1:10 to 1:4. \\n 0024. The catalyst may preferably be treated with an organo-aluminum co-catalyst and an external electron donor or other Stereoregulating agent to form a Ziegler-Natta \\n catalyst, which may be used, for example, in polymerization \\n reactions. Examples of external electron donor compounds \\n which may be used in the catalytic System of the invention \n",
      "36       US4843132            3                  True            False                                                                                                                                                                                                                                                                                                                                                                                                                                                                                                                                                                                                                                                                                                                                                                                                                                                                                                                                                                                                                                                                                                                                                                                                                                                                                4,843,132 3 \\n where R is an aryl, alkylaryl or alkyl radical of not more than 16, preferably not more than 10, carbon atoms, in particular phenyl, tolyl or ethylphenyl, R2 is \\n alkyl of not more than 15, preferably not more than 8, in \\n particular not more than 4, carbon atoms and n is from 0 to 3, preferably from 0 to 2, in particular 1 or 2, \\n with the provisos that the atomic ratio of titanium from the titanium component (1) to aluminum from the alu minum component (2) is from 1:10 to 1:800, in particular \\n from 1:20 to 1:200, and the molar ratio of aluminum component (2) to silane component (3) is from 1:0.03 to 1:0.8, in particular from 1:0.05 to 1:0.5. In the novel process, the titanium component (1) used \\n is one which is obtained by a method in which first (1.1) in a first stage, a solid-phase intermediate is prepared from (I) finely divided magnesium chloride, (II) a C1-C8 alkanol, preferably a C2-C6-alkanol, in particular a \\n C2-C4-alkanol, (III) a carrier consisting of a finely divided, porous, inorganic oxide carrier material which has a particle diameter of from 1 to 1,000 um, in particular from 10 to 400 um, a pore volume of from 0.3 to 3, in particular from 1 to 2.5, cm/g and a surface area of from 100 to 1,000, in particular from 200 to 400, m2/g, is of the formula SiO2.a Al2O3, where a is from 0 to 2, in particu lar from 0 to 0.5, and has been pretreated with an alkyl chlorosilane of the formula R3mSiCl4-m, where R3 is C1-C10-alkyl, preferably C1-C4-alkyl and m is from 1 to \\n 3, preferably 2 or 3, in particular 3, in such a way that \\n either (A) the carrier material and the alkylchlorosilane are combined once or several times, in particular twice, in a liquid inert hydrocarbon, in particular an alkane, with constant thorough mixing at from 20' to 160° C., in particular from 60 to 120° C., a total of from 1 to 50, in particular from 3 to 20, molar parts of the alkylchlorosi lane being used per 10 molar parts of the carrier mate rial, and a total of from 20 to 200, in particular from 40 to 120, molar parts of the hydrocarbon being used per 10 molar parts of the alkylchlorosilane, and the com \\n bined substances are kept at from 20' to 160 C., in particular from 60 to 120 C., for a total of from 0.1 to 5, in particular from 0.4 to 2, hours, and the resulting solid is then isolated as the carrier (III), or (B) the carrier material and the alkylchlorosilane are combined with constant thorough mixing at from 20 to 140 C., in particular from 40 to 100 C., from 5 to 50, in particular from 10 to 40, molar parts of the alkyl chlorosilane being used per 10 molar parts of the carrier material, and the combined substances are kept at a temperature in the stated range for from 0.1 to 5, in particular from 0.4 to 2, hours, and the resulting solid is then isolated as the carrier (III), (IV) titanium tetrachloride and (V) a phthalic acid derivative of the formula \\n CO-X \\n CO-Y \\n where X and Y together form oxygen or X and Y are each chlorine or C1-C10-alkoxy, preferably C2-C8 alkoxy, in particular chlorine, in such a way that first either (a) 5 \\n 10 \\n 15 \\n 20 \\n 25 \\n 30 \\n 35 \\n 45 \\n SO \\n 55 \\n 60 \\n 65 4. \\n (1.1.1.a) in a first substage, the magnesium chloride (I) \\n and the alkanol (II) are combined in a liquid inert hy drocarbon, in particular an alkane, with constant thor ough mixing at from 0 to 140 C., in particular from 40 to 120° C., from 20 to 1,000, in particular from 50 to 400, parts by weight of the hydrocarbon being used per 10 parts by weight of the magnesium chloride (I) and from \\n 10 to 80, in particular from 20 to 60, molar parts of the alkanol (II) being used per 10 molar parts of the magne \\n sium chloride (I), and the combined substances are kept at from 20' to 140 C., in particular from 40 to 120° C., for from 0.1 to 6, in particular from 0.2 to 2, hours, after \\n which \\n (1.1.2.a) in a second substage, the carrier (III) is intro duced into the reaction mixture resulting from the first Substage, with constant thorough mixing at from 0 to 140 C., in particular from 40 to 120° C., from 20 to 100, in particular from 30 to 60, parts by weight of the carrier (III) being used per 10 parts by weight of the magnesium chloride (I), \\n or (b) (1.1.1.b) in a first substage, the magnesium chloride \\n (I) and the alkanol (II) are combined with constant thorough mixing at from 0 to 140 C., in particular from 40 to 120° C., from 100 to 1,000, in particular from 150 to 500 molar parts of the alkanol (II) being used per 10 molar parts of the magnesium chloride (I), and the combined substances are kept at from 20' to 140°C., in particular from 40 to 120° C., for from 0.1 to 6, in particular from 0.2 to 2, hours, after which (1.1.2.b) in a second substage, the carrier (III) is intro duced into the reaction mixture resulting from the first substage with constant thorough mixing at from 0 to 140 C., in particular from 40 to 120° C., from 20 to 100, in particular from 30 to 60, parts by weight of the carrier (III) being used per 10 parts by weight of the magnesium chloride (I), and the entire mixture is evapo rated to dryness with recovery of a solid-phase reaction product, and thereafter (1.1.3) in a third substage, the solid-phase reaction product obtained in the second substage and the tita nium tetrachloride (IV) are combined in a liquid inert hydrocarbon, in particular an alkane, with constant thorough mixing at from -20 to 40 C., in particular from 10 to 30' C., from 20 to 300, preferably from 30 to 200, in particular from 50 to 150, molar parts of the titanium tetrachloride (IV) being used per 100 molar parts of the alcohol (II), and from 10 to 100, preferably from 10 to 80, in particular from 15 to 60, parts by weight of the hydrocarbon being used per 10 parts by \\n weight of the carrier (III), and the combined substances are kept at from 10 to 150 C., in particular from 30 to 120 C., for from 0.1 to 4, in particular from 0.2 to 2.5, hours, and the resulting solid-phase intermediate is iso lated with removal of the liquid phase, with the proviso that the phthalic acid derivative (V) is introduced in the course of one or more of the substages (1.1.1) to (1.1.3), from 1 to 100, preferably from 5 to 60, in particular from 10 to 40, molar parts of the phthalic acid derivative being used per 100 molar parts of the magnesium chlo ride (I), then (1.2) in a second stage, the solid-phase intermediate obtained from the first stage is subjected to a single stage or multi-stage or continuous extraction with tita nium tetrachloride at from 100 to 150° C., in particular from 115 to 135° C., for from 0.2 to 5, in particular from 0.4 to 3, hours, a total of from 10 to 1,000, prefera bly from 20 to 800, in particular from 40 to 300, parts by \n",
      "40       US4843132            7                  True            False                                                                                                                                                                                                                                                                                                                                                                                                                                                                                                                                                                                                                                                                                                                                                                                                                                                                                                                                                                                                                                                                                                                                                                                                                                                                                                                                                                                                                                                                                                                                                                                                                                                                                                                                                                                                                                                                                                                                                                                                                                                                                                                                                                                                                                                                                                                                                                                                                                                                                                                                                                                                                                                                                                                                                                                                                                                                                                                                                                                                                                                                                                                                                                                                                                                                                                                                                                                                                                                                                                                                                                                                                                                                                                                                                                                                                                                                                                                                                                                                                                                                                                                                                                                                                                                                                                                                                                                                                                                                                                                                                                                                                                                                                                                                                       4,843,132 11 \\n where X and Y together form oxygen or X and Y are each chlorine or C1-C10-alkoxy, in such a way \\n that first \\n either (a) (1.1.1.a) in a first substage, the magnesium chloride (I) \\n and the alkanol (II) are combined in a liquid inert hydrocarbon with constant thorough mixing at \\n from 0 to 140°C., from 20 to 1,000 parts by weight of the hydrocarbon being used per 10 parts by \\n weight of the magnesium chloride (I) and from 10 \\n to 80 molar parts of the alkanol (II) being used per 10 molar parts of the magnesium chloride (I), and \\n the combined substances are kept at from 20 to \\n 140 C., for from 0.1 to 6 hours, after which \\n (1.1.2.a) in a second substage, the carrier (III) is intro \\n duced into the reaction mixture resulting from the first substage, with constant thorough mixing at \\n from 0 to 140 C., from 20 to 100 parts by weight \\n of the carrier (III) being used per 10 parts by weight of the magnesium chloride (I), \\n or (b) (1.1.1.b) in a first substage, the magnesium chloride \\n (I) and the alkanol (II) are combined with constant thorough mixing at from 0 to 140 C., from 100 to \\n 1,000 molar parts of the alkanol (II) being used per \\n 10 molar parts of the magnesium chloride (I), and \\n the combined substances are kept at from 20 to \\n 140 C. for from 0.1 to 6 hours, after which \\n (1.1.2.b) in a second substage, the carrier (III) is intro \\n duced into the reaction mixture resulting from the first substage with constant thorough mixing at \\n from 0 to 140 C., from 20 to 100 parts by weight of the carrier (III) being used per 10 parts by weight of the magnesium chloride (I), and the en 5 \\n O \\n 15 \\n 20 \\n 25 \\n 30 \\n 35 \\n 45 \\n 50 \\n 55 \\n 60 \\n 65 12 \\n tire mixture is evaporated to dryness with recovery of a solid-phase reaction product, \\n and thereafter \\n (1.1.3) in a third substage, the solid-phase reaction product obtained in the second substage and the \\n titanium tetrachloride (IV) are combined in a liquid inert hydrocarbon with constant thorough mixing \\n at from -20 to 40° C., from 20 to 300 molar parts \\n of the titanium tetrachloride \\n (IV) being used per 100 molar parts of the alcohol (II), and from 10 to 100 parts by weight of the hydrocarbon being used per 10 parts by weight of \\n the carrier (III), and the combined substances are kept at from 10 to 150 C., for from 0.1 to 4 hours, and the resulting solid-phase intermediate is iso lated with removal of the liquid phase, with the proviso that the phthalic acid derivative (V) is \\n introduced in the course of one or more of the \\n substages (1.1.1) to (1.1.3), from 1 to 100 molar parts of the phthalic acid derivative being used per 100 molar parts of the magnesium chloride (I), then (1.2) in a second stage, the solid-phase intermediate obtained from the first stage is subjected to a sin glestage or multi-stage or continuous extraction \\n with titanium tetrachloride at from 100 to 150 C., \\n for from 0.2 to 5 hours, a total of from 10 to 1,000 parts by weight of the titanium tetrachloride being used per 10 parts by weight of the solid-phase inter \\n mediate obtained from the first stage, and finally (1.3) in a third stage, the solid-phase intermediate obtained in the second stage is extracted with a liquid inert hydrocarbon until the solid contains \\n from 0.01 to 30% by weight of free titanium tetra chloride, and the titanium component (1) is ob \\n tained in this manner. \\n : k s 2 \n",
      "61       US4481301           11                  True            False                                                                                                                                                                                                                                                                                                                                                                                                                                                                                                                                                                                                                                                                                                                                                                                                                                                                                            4,481,301 \\n may, optionally, be in the form of a complex with one or more electron donating agents (i.e. Lewis bases). More particularly, when ethylmagnesium chloride is precipi tated from a hexane/tetrahydrofuran solution, each mole of ethylmagnesium chloride precipitated may be complexed with approximately one mole of tetrahydro furan. In more general terms, when an organomag nesium composition is precipitated from a solution con taining an ether, the resulting precipitate may have molecules of this ether complexed with molecules of the organomagnesium composition. The amount of magnesium composition which is impregnated onto the carrier should be sufficient to react with tetravalent titanium in order to incorporate a catalytically effective amount of titanium on the carrier in the manner set forth hereinbelow. More particularly, for example, from about 0.1 to about 5 or even 50 mmoles of magnesium may be impregnated per gram of carrier initially present. When a liquid containing an organomagnesium composition is contacted with a car rier the amount of magnesium in this liquid in terms of mmoles may be essentially the same as that stated above with respect to that which is impregnated onto the \\n carrier. \\n When a non-Lewis base co-solvent is used to slurry the carrier, an amount of such co-solvent sufficient to slurry such carrier may be used. More particularly, for \\n example, from about 2 to about 100 mls of such co-sol vent may be present per gram of carrier. A preferred \\n narrower range would be from about 5 to about 15 mls of co-solvent per gram of carrier. The amount and concentration of organomagnesi um/ether solution which is added to the co-solvent/car rier slurry are preferably sufficient to assure that the organomagnesium composition is at least partially solu \\n ble in the co-solvent/solvent system. Thus, this amount is dependent upon many factors such as the composition of solvents and organomagnesium, the temperature of \\n the co-solvent/solvent system, etc. However, it will be readily understood that the selection of proper amounts and concentrations of organomagnesium/ether solu tions is well within the ability of those of ordinary skill in the art. More particularly, for example, when an ethylmagnesium chloride/tetrahydrofuran solution is \\n added to a hexane/carrier slurry, the concentration of the ethylmagnesium chloride/tetrahydrofuran solution \\n may be from about 0.1 to about 10 Molar. A preferred narrower range would be from about 1 to about 3 Mo \\n lar. For example, when 107 g of silicic acid are suspended in 500 ml of n-heptane and 342 ml of a solution of 172 mmols of n-propyl magnesium chloride in diethyl ether are added thereto in accordance with Example 1 of the Strobel et al U.S. Pat. No. 4,148,754, the n-propyl mag nesium chloride may well be totally soluble in the n heptane/diethyl ether mixture. However, when 15 g of silica are slurried in 200 ml of n-hexane and 50 ml of a 2.0 molar solution of ethylmagnesium chloride in tetra hydrofuran is added thereto in accordance with Exam ple 1 given herein, infra, the ethylmagnesium chloride appears to be only partially soluble in the n-hexane/tet rahydrofuran mixture. While the above-exemplified methods of incorporat ing a solid reactive magnesium composition onto a car rier are preferred, it will be understood that alternative methods are available. For instance, it is possible to precipitate a dialkylmagnesium composition onto a car rier from a hydrocarbyl or halohydrocarbyl solvent 10 \\n 15 \\n 20 \\n 25 \\n 30 \\n 35 \\n 40 \\n 45 \\n 50 \\n 55 \\n 60 \\n 65 10 \\n containing essentially no ether. It is also possible to combine carrier and a solid organomagnesium composi \\n tion in the absence of a solvent by means of a ball mill ing device. However, such a ball milling process is less preferred, particularly because it does not tend to effec tively incorporate a reactive magnesium compound into \\n the pores of the carrier. It is particularly noted that mechanical shearing means such as ball milling are not necessary to achieve the desired impregnation of catalyst onto carrier in accordance with aspects of the present invention. Ac cordingly, a ball milling process such as described in \\n Examples 2-5 of the Grant U.S. Pat. No. 3,821,186 is unnecessary and may be avoided. Moreover, a ball milling process may tend to disrupt the particle size and morphology of the carrier. Since catalysts made in ac cordance with aspects of the present invention are pref erably capable of being used in gas phase, fluid bed polymerizations, e.g., as described in the Karol et al U.S. Pat. No. 4,302,566, the particle size and morphol ogy of the catalyst may be rather critical. Accordingly, another reason for avoiding ball milling is to preserve the particle size and morphology of the carrier while it is being treated in accordance with aspects of the pres \\n ent invention. The solid supported magnesium-containing composi tion is preferably in the form of a free-flowing powder \\n when dry. It is particularly noted that when a carrier is impregnated by many of the above-exemplified meth \\n ods neither the carrier nor the magnesium is contacted with either an organoaluminum compound or an alumi num halide compound. Thus, such a treatment with a significant amount of an organoaluminum compound or an aluminum halide compound is preferably not part of the present invention. A carrier treated with an organomagnesium composi tion according to the above-exemplified methods may \\n be reacted with a tetravalent titanium compound in a liquid medium. The tetravalent titanium compound is soluble in this liquid reaction medium, while the treated carrier, including the magnesium containing portion \\n thereof, is insoluble in this liquid reaction medium. Thus, the reaction which takes place between the tetra valent titanium and the reactive magnesium-containing composition is a reaction of a solid with a liquid. It is \\n further noted that the reacted titanium is insoluble in the \\n liquid reaction medium. The reaction which takes place between a solid, sup ported organomagnesium compound and tetravalent \\n titanium in the liquid reaction medium is felt to be essen tially an oxidation/reduction reaction, wherein the or ganomagnesium composition acts as a reducing agent \\n for the tetravalent titanium. On the other hand, while not wishing to be bound by any particular theory or \\n chemical mechanism, the reaction which takes place between (1) tetravalent titanium and (2) the reaction product of a Grignard reagent and carrier containing reactive OH groups is not felt to be an oxidation/reduc tion reaction. However, it is noted that both of the above-mentioned reactions lead to the incorporation of titanium onto a support corresponding to the treated \\n carrier. Examples of tetravalent titanium compounds, which may be used in the liquid reaction medium, are given in the passage extending from line 35 to line 54 of column 6 of the Graff U.S. Pat. No. 4,173,547. Such examples include titanium halides (e.g., where the halide portion thereof is C or Br), titanium alkoxides (e.g., where the \n",
      "104      US9352308            9                  True            False                                                                                                                                                                                                                                                                                                                                                                                                                                                                                                                                                                                                                                                                                                                                                                                                                                                                                                                                                                                                                                                                                                                                                                                                                                                                                                                                                    US 9,352,308 B2 \\n 3 \\n groups 1, 2, 12 or 13 of the periodic table. The process for \\n producing the catalyst of the present invention comprises the \\n steps of: \\n (a) impregnating activated silica particles with a solution of an organometallic compound of the groups 1, 2, 12 or 13 of 5 \\n the periodic table, in an inert organic solvent; \\n (b) removing the Supernatant liquid from the step (a): \\n (c) preparing a solution obtained by reacting at least one \\n magnesium compound, selected from magnesium halides \\n and magnesium alkoxides and at least one titanium com \\n pound selected from titanium alkoxides and titanium halo \\n gen alkoxides; \\n (d) impregnating the silica obtained in (b) using the Solution prepared in (c); \\n (e) optionally reacting the Solid obtained in (d) with a reduc ing agent; \\n (f) reacting the solid obtained in (d) or (e) with a halogenating \\n agent, \\n (g) thermally treating the Solid obtained in (f); 2O \\n (h) washing the Solid obtained in (g) with an inert organic \\n solvent; \\n (i) optionally, washing the Solid obtained in (h) with a solu \\n tion of one or more metal-alkyl halide compounds of the \\n groups 1, 2, 12 or 13 of the periodic table. 25 \\n Therefore, the present invention provides a catalyst espe \\n cially suitable for the production of ethylene homo- and \\n copolymers with a narrow molecular weight distribution, \\n high density polyethylene (NMWHDPE) and a linear low \\n density polyethylene (LLDPE) with controlled morphology \\n and improved structure. \\n Additionally, the catalyst described and claimed in the \\n present invention produces a NMWHDPE with a melt flow \\n ratio (MFR) lower than 27 that is particularly suitable for thermoforming and injection applications. \\n Further, the catalyst described and claimed in the present \\n invention produces a LLDPE with a low xylene soluble con \\n tent due to the very good comonomer insertion allowing the production of films with Superior optical properties and very 40 \\n low blocking. \\n The present invention further defines a catalyst that pro \\n vides, when Submitted to polymerization conditions, par ticles of polyethylene and ethylene copolymers having a high \\n bulk density and containing a very Small quantity of fines. 45 \\n The present invention additionally provides a catalyst use \\n ful in liquid phase or in gas phase, ethylene polymerization \\n processes. \\n The present invention further provides a catalyst useful in \\n polymerization processes due to its high activity and low \\n decay kinetics. 10 \\n 15 \\n 30 \\n 35 \\n 50 \\n BRIEF DESCRIPTION OF THE DRAWING \\n The present invention will become more fully understood 55 \\n from the detailed description given hereinbelow and the \\n accompanying drawings, which are given by way of illustra \\n tion only, and thus are not limitative of the present invention, \\n and wherein: \\n FIG. 1 herein is a flowchart, which illustrates the preferred \\n embodiment of the present invention for preparing the Solid catalyst component; and \\n FIG. 2 is a flow diagram of a fluidized bed, gas phase pilot \\n plant used to produce polyethylene. 65 \\n FIG. 3 provides UV-VIS spectroscopy for the catalyst of \\n Example 8. 60 4 \\n FIGS. 4-6 provides XANES spectra at the Ti Kedge for the catalyst of Example 8. \\n DETAILED DESCRIPTION \\n In the present specification, the expression Catalyst Decay \\n means the half-life time of the active sites of a solid catalyst component which is measured as the time required for reach ing 50% of the initial catalyst activity during a polymerization \\n run. A catalyst with low decay kinetics has a half-life time preferably higher than 3 hours. \\n The present invention discloses a Solid component \\n obtained from the interaction of a reaction product between at least one magnesium compound, chosen from magnesium \\n halides and magnesium alkoxides and at least one titanium \\n compound chosen from titanium alkoxides and titanium halo gen alkoxides, an activated silica impregnated with the orga \\n nometallic compounds of the groups 1, 2, 12 or 13 and a halogenating agent, capable of interacting with the organo \\n metallic compounds of the groups 1, 2, 12 or 13, to give a solid catalyst component, which is highly active in the polymer \\n ization and copolymerization of ethylene. Optionally, a \\n reducing agent can be used during the process of preparing the present catalyst component. \\n Accordingly, the present invention concerns a process for the preparation of a Solid catalyst component for the poly \\n merization of ethylene and the copolymerization of ethylene \\n with alpha-olefins which comprises a carrier of silica par \\n ticles (65 to 85% by weight) and a catalytically active portion (15 to 35% by weight) including titanium, magnesium, chlo \\n rine, alkoxy groups and at least one organometallic com \\n pound of the groups 1, 2, 12 or 13 of the periodic table. According to FIG. 1, this process comprises the following \\n steps: \\n (a) impregnating an activated silica particles with a solu tion of an organometallic compound of the groups 1, 2, \\n 12 or 13 of the periodic table, in an inert organic solvent; (b) removing the Supernatant liquid from the step (a): \\n (c) preparing a solution obtained by reacting at least one magnesium compound, selected from magnesium \\n halides and magnesium alkoxides and at least one tita \\n nium compound selected from titanium alkoxides and \\n titanium halogen alkoxides; \\n (d) impregnating the silica obtained in (b) using the solu tion prepared in (c); \\n (e) optionally reacting the Solid obtained in (d) with a reducing agent, \\n (f) reacting the Solid obtained in (d) or (e) with a haloge nating agent; \\n (g) thermally treating the Solid obtained in (f); \\n (h) washing the Solid obtained in (g) with an inert organic \\n solvent; (i) optionally, washing the solid obtained in (h) with a Solution of one or more organometallic compounds of \\n the groups 1, 2, 12 or 13 of the periodic table. In step (a) of the process according to the present invention, the preferable silica for this purpose is a microspheroidal, \\n porous silica having an average particle size ranging from 10 \\n to 120 um, preferably between 15 and 100 um, a SiO con tents of >90% by weight, a surface area ranging from 250 to 500 m/g, preferably between 300 and 400 m/g, a pore \\n volume ranging from 1.0 to 2.0 ml/g, preferably between 1.5 and 1.8 ml/g, and an average pore diameter ranging from 10 \\n to 40 nm, preferably between 20 and 30 nm. This silica should \\n be submitted to an activation treatment before being impreg \\n nated, which can be carried out by heating the silica in an inert atmosphere, at a temperature ranging from 100 to 750° C. \n",
      "105      US9352308           10                  True            False                                                                                                                                                   US 9,352,308 B2 \\n 5 \\n over a period from 1 to 20 hours. The amount of remaining \\n OH on the silica surface after this treatment ranges from 0.1 to 2 mmoles OH per g of silica, preferably between 0.5 and \\n 1.5 mmoles OH per g of silica. The impregnation is preferably carried out by Suspending \\n 10 to 20 parts by weight of silica for each 100 parts by volume of a solution of an organometallic compound of the groups 1, \\n 2, 12 or 13, in aliphatic hydrocarbons, and maintaining the \\n Solution with stirring at a temperature which ranges from \\n room temperature to the boiling point of the solution of the organometallic compound of the groups 1, 2, 12 or 13, in aliphatic hydrocarbons, preferably at room temperature, over \\n a period from 30 to 120 minutes, preferably between 50 and \\n 60 minutes. \\n The organometallic compounds of groups 1, 2, 12 or 13 of \\n the periodic table suitable for use in step (a) are alkyl com pounds and alkyl halide compounds of metals belonging to \\n these groups, and preferably aluminum, magnesium, lithium and Zinc compounds. Specific examples of these compounds \\n are trimethylaluminum, triethylaluminum (TEAL), methyla \\n luminum dichloride, methylaluminum sesquichloride, isobu tylaluminum dichloride, isobutylaluminum sesquichloride, \\n ethylaluminum dichloride (EADC), diethylaluminum chlo \\n ride (DEAC), ethylaluminum sesquichloride (EASC), tri-n- \\n hexylaluminum (Tn-HAL), tri-n-octylaluminum (TnOAL). butyl ethylmagnesium (BEM), butyl octylmagnesium \\n (BOMAG), methylmagnesium chloride and ethylmagnesium \\n chloride. They can be used concentrated or preferably dis \\n Solved in the above organic solvent or in a different organic Solvent chosen from aliphatic hydrocarbons. \\n Specific aliphatic hydrocarbons used as solvents for the \\n above mentioned solution can have between 4 and 50 car \\n bons, preferably between 6 and 20 carbons. Specific examples of these aliphatic hydrocarbons used as solvents are \\n hexane, heptane, octane, isoparaffin, and the more preferably \\n hexane and heptane. In step (a) of the process, the impregnation step using the \\n Solution of organometallic compound of the groups 1, 2, 12 or \\n 13, in aliphatic hydrocarbons, is carried out by using an amount of organometallic compound, ranging from 0.1 to 1 \\n mmole of the organometallic solution per mmole of OH on \\n the silica surface, preferably 0.3 to 0.7 mmoles of the orga \\n nometallic solution per mmole of OH on the silica surface. At the end of the impregnation treatment, the silica can be removed (step b) from the Suspension by usual methods such as settling and siphoning, filtration or centrifugation. The \\n operating temperature of this step can vary from room tem perature to the boiling point of the aliphatic hydrocarbonused \\n as the solvent, preferably at room temperature. The wet silica \\n is directly used in the next step. \\n According to the present invention, in step (c) of the pro \\n cess, a liquid component from the reaction between at least one magnesium compound, chosen from magnesium halides \\n and magnesium alkoxides and at least one titanium com \\n pound, chosen from titanium alkoxides and titanium halogen alkoxides, is prepared. Generally, it is necessary to heat the \\n mixture of these compounds, at a temperature in the range of \\n about 100° C. to about 200° C., preferably between 140° C. \\n and 160° C., over a period of time from 1 to 100 hours, preferably between 10 and 30 hours. The mixture comprising said compounds has to be prepared under turbulent stirring \\n and underinert conditions. After the formation of the product obtained from the reaction between these compounds, which is noted by the disappearance of the Solid Suspension, the \\n temperature of the obtained liquid product can be reduced to ambient temperature without precipitation of any solid. This \\n liquid component is diluted in an inert organic solvent to form 10 \\n 15 \\n 25 \\n 30 \\n 35 \\n 40 \\n 45 \\n 50 \\n 55 \\n 60 \\n 65 6 \\n a clear Solution. Specific organic Solvents used for the above mentioned solution can be aliphatic hydrocarbons having \\n between 4 and 50 carbons, preferably between 6 and 20 carbons. Specific examples of these aliphatic hydrocarbons \\n used as organic solvents are: hexane, heptane, octane, isopar \\n affin, most preferably hexane and heptane. \\n The magnesium compounds Suitable for the purpose of the \\n invention are those having the formulae MgX or Mg (OR), \\n wherein R represents a linear or branched alkyl group, con \\n taining from 1 to 10 carbons and X represents a halogenatom \\n and preferably a chlorine atom. Specific examples of magne \\n sium compounds are magnesium dichloride, magnesium \\n diethylate, magnesium di-n-butylate, magnesium diisopro \\n pylate and magnesium diisobutylate. \\n The amount of magnesium compound used in the above \\n preparation corresponds to the amount ranging from 0.0024 \\n to 0.24 g of magnesium per g of silica, preferably between \\n 0.0042 and 0.042 g of magnesium per g of silica. \\n The titanium compounds most Suited for the purpose are \\n alkoxides and chloroalkoxides, containing from 1 to 4 car \\n bons in the alkoxide portion. Specific examples of these com pounds are: titanium tetra-n-propylate, titanium tetra-n-buty \\n late, titanium tetra-1-propylate, titanium tetra-1-butylate and \\n the corresponding titanium mono- or di-chloroalkoxides. \\n The amount of titanium compound used in the above preparation corresponds to an amount ranging from 0.01 to 1 \\n g of titanium per g of silica, preferably between 0.0175 and \\n 0.175 g of titanium per g of silica. In general, when preparing the solution of the step (c), \\n titanium is used in Such an amount that the molar ratio Ti/Mg varies within the range of 0.3 to 4, and preferably within the range of 0.5 to 2. \\n In step (d) the silica obtained in step (b) is suspended in an inert organic solvent, such as a hydrocarbon Solvent of the aliphatic type, preferably the same used in the previous steps \\n and the dissolved product prepared in step (c) is added to the Suspension. The impregnation is carried out by Suspending \\n 100 parts by weight of silica, obtained on step (b), for each 5 to 200 parts by volume of the component prepared on step (c) \\n and after dilution in the inert organic solvent. The Suspension is maintained under stirring at a temperature that ranges from \\n room temperature to the boiling point of the mixture, prefer \\n ably at 60°C., over a period of time from 30 to 180 minutes, preferably between 50 and 60 minutes. In this way a solid component Suspended in an inert organic solvent is obtained. \\n Optionally the solid component obtained in step (d) can be \\n Submitted to reducing conditions in a step (e). Said result is obtained, for example, by using reducing agents, such as Na-alkyls, Li-alkyls, Zn-alkyls, Mg-alkyls and correspond \\n ing aryl-derivatives, Grignard compounds of the type RMgX. \\n wherein R represents a linear or branched alkyl group, con taining from 1 to 10 carbons or aryl-derivatives and X repre sents a halogenatom and preferably a chlorine atom, Al-alkyl \\n halide compounds or by using reducing agents such as silicon compounds. Particularly effective silicone compounds are \\n the polymethylhydrosiloxanes in which the monomer unit \\n has the general formula HSiR-O I, wherein R is H. halogen, alkyl with 1 to 10 carbon atoms, aryl with 6 to 10 \\n carbon atoms, alkoxyl with 1 to 10 carbon atoms, aryloxyl \\n with 6 to 10 carbon atoms or carboxyl with 1 to 10 carbon atoms, and n is a degree of polymerization that ranges \\n between 5 and 100. Specific examples of such polymethyl \\n hydrosiloxanes (PMHS) include the compounds: (CH)SiO \\n (CH)HSiO, Si(CH), (CHHSiO) (CHHSiO), HSi O SiH OSiRI, phenylhydropolysiloxanes in which the hydrogen atoms can be partially replaced by methyl groups. \n",
      "120  US20060166812            7                  True            False                                                                                                                                                                                                                                                                                                                                                                                                                                                                                                                                                                                                                                                                                                                                                                                                                                                                                                                                                                                                                             US 2006/0166812 A1 \\n 0064. In general, when preparing the solution of the step \\n (c), titanium is used in Such an amount that the molar ratio Ti/Mg varies within the range of 0.3 to 4, and preferably \\n within the range of 0.5 to 2. \\n 0065. In step (d) the silica obtained on step (b) is sus pended in an inert organic solvent, Such as a hydrocarbon \\n solvent of the aliphatic type, preferably the same used in the previous steps and the dissolved product prepared on Step (c) \\n is added to the Suspension. The impregnation is carried out by Suspending 100 parts by weight of silica, obtained on step \\n (b), for each 5 to 200 parts by volume of the component \\n prepared on Step (c) and after dilution in the inert organic \\n Solvent. The Suspension is maintained under stirring at a temperature that ranges from room temperature to the boil \\n ing point of the mixture, preferably at 60° C., over a period \\n of time from 30 to 180 minutes, preferably between 50 and 60 minutes. In this way a solid component Suspended in an \\n inert organic solvent is obtained. \\n 0066. Optionally the solid component obtained in step (d) \\n can be submitted to reducing conditions in a step (e). Said result is obtained, for example, by using reducing agents, Such as Na-alkyls, Li-alkyls, Zn-alkyls, Mg-alkyls and cor responding aryl-derivatives, Grignard compounds of the \\n type RMgX, wherein R represents a linear or branched alkyl group, containing from 1 to 10 carbons or aryl-derivatives \\n and X represents a halogen atom and preferably a chlorine atom, Al-alkyl halide compounds or by using reducing \\n agents such as silicon compounds. Particularly effective silicone compounds are the polymethylhydrosiloxanes in \\n which the monomer unit has the general formula HSiR O— wherein R is H. halogen, alkyl with I to 10 carbon \\n atoms, aryl with 6 to 10 carbon atoms, alkoxyl with 1 to 10 \\n carbon atoms, aryloxyl with 6 to 10 carbon atoms or carboxyl wit 1 to 10 carbon atoms, and n is a degree of polymerization that ranges between 5 and 100. Specific examples of such polymethylhydrosiloxanes (PMHS) \\n include the compounds: (CH)SiO (CH)HSiO— \\n Si(CH), wherein in varies from 1 to 35, (CHHSiO), (CHHSiO), HSi-O-SiHOSiFH, phenylhydropolysi \\n loxanes in which the hydrogen atoms can be partially replaced by methyl groups. \\n 0067. Other silicon compounds useful as reducing agents \\n in the practice of this invention are: silanes (SiH, in which m is a number equal to or higher than 1), alkyl-silanes \\n or aryl-silanes (RSiH, in which R is alkyl or aryl and X is a number varying from 1 to 3) and alkoxy-silanes or aryloxy-silanes (ROSiRI, in which R is alkyl or aryland \\n X is a number varying from 1 to 3). \\n 0068 The reducing agent chosen from the above examples, preferably polymethylhydrosiloxanes (PMHS), is \\n added to the solid obtained in the step (d), dissolved pref erably in the same inert organic solvent used for the reaction Suspension. This addition is carried out slowly over a period \\n of time from 30 to 180 minutes, preferably between 50 and \\n 80 minutes and the Solid Suspension is maintained under stirring at a temperature ranging from room temperature to \\n the boiling point of the aliphatic hydrocarbon used as \\n solvent, preferably at 60° C. \\n 0069. The amount of reducing agent that can be used in step (e) corresponds to the amount ranging from 0 to 2 moles \\n per mole of titanium, preferably between 0 and 0.1 mole per \\n mole of titanium. It has been observed, in the experiments, Jul. 27, 2006 \\n that the quantity used of this reducing agent can control the \\n amount of titanium fixed on silica at the final catalyst. \\n 0070. In the next step of the process according to the \\n present invention, the Suspension obtained in (d) or (e), \\n which is still under stirring, is put in contact and interacted with one or more halogenating agents. \\n 0071 Halogenating agents useful in the practice of the \\n present invention can be either liquid or gaseous materials, \\n pure or preferably dissolved in an inert organic solvent. Representative but non-exhaustive examples of halogenat \\n ing agents useful in the present invention are methylalumi num dichloride, methylaluminum sesquichloride, isobutyla \\n luminum dichloride, isobutylaluminum sesquichloride, \\n ethylaluminum dichloride (EADC), diethylaluminum chlo \\n ride (DEAC), ethylaluminum sesquichloride (EASC), SiCl, \\n SnCl4, HCl, Cl, HSiCl, aluminum chloride, ethylboron dichloride, boron chloride, diethylboron chloride, HCC1, PCls, POCl, acetyl chlorides, thionyl chloride, sulfur chlo \\n ride, methyl trichlorosilane, dimethyl dichlorosilane, TiCl, \\n VC1, CC1, t-butyl chloride, n-butyl chloride, chloroform, \\n 1,1,1-trichloroethane, 1,1,2-trichloroethane, 1,2-dichloroet \\n hane and dichloromethane. \\n 0072 The preferred halogenating agents are chlorinating \\n agents and of these SiCl, SnCl4, HCl, Cl, HSiCl, methyl \\n trichlorosilane, dimethyl dichlorosilane, t-butyl chloride, \\n n-butyl chloride, chloroform, 1,1,1-trichloroethane, 1,1,2- \\n trichloroethane, 1,2-dichloroethane and dichloromethane are preferred, most preferably SiCla. \\n 0073. The amount of halogenating agent used in the step (e of the process corresponds to the amount ranging from 0.5 \\n to 3 moles of halogenating agent per mole of titanium, \\n preferably between 1 and 1.8 moles of halogenating agent \\n per mole of titanium. \\n 0074 The time necessary for halogenating Ti-alkoxide \\n and optionally Mg-alkoxide varies from 0.5 hour to 5 hours, \\n preferably from 1.5 hours to 2.5 hours. The temperature of the Solid Suspension halogenation ranges from room tem perature to the boiling point of the aliphatic hydrocarbon \\n used as solvent, preferably at 60° C. \\n 0075 According to the present invention, in step (g) of \\n the process, the solid obtained in (f) is kept under higher temperature that depends on the inert organic solvent used. \\n 0076. The time necessary for this thermal treatment of the \\n solid obtained in step (f) ranges from 0.5 hour to 5 hours, preferably from 3 to 5 hours. The ideal temperature for this \\n purpose depends on the organic solvent used and it can be \\n conducted from 60° C. to 120° C., preferably from 60° C. to \\n 75° C., when hexane is used as the organic solvent. \\n 0077. At the step (h) after the thermal treatment, the solid can be separated from the Suspension, for example by \\n settling and siphoning, filtration or centrifugation, washed \\n with an inert organic solvent, preferably hexane, and then dried. The washing temperature can vary from room tem perature to the boiling point of the aliphatic hydrocarbon \\n used as solvent, preferably at room temperature. \\n 0078. Optionally, the solid obtained in (h) is washed with a solution of organometallic compounds of the groups 1, 2, \\n 12 or 13. More specifically, in the optional step (i) the solid \\n obtained in step (h) is suspended in an inert organic solvent \\n Such as hexane or heptane, and it is put in contact with one \n",
      "\n",
      "Total disagreements: 11\n"
     ]
    }
   ],
   "source": [
    "# Find disagreements between model and human labels\n",
    "disagreements = merged_df[merged_df['chunk_based_analysis'] != merged_df['is_exp_by_human']]\n",
    "\n",
    "# Display results with relevant columns\n",
    "print(\"Rows where model and human disagree:\")\n",
    "print(disagreements[['file_name', 'page_number', 'chunk_based_analysis', 'is_exp_by_human', 'text']].to_string())\n",
    "print(f\"\\nTotal disagreements: {len(disagreements)}\")"
   ]
  },
  {
   "cell_type": "markdown",
   "metadata": {},
   "source": [
    "Разбивание на чанки особо не помогает улучшить классификацию. Ладно результат можно считать отличным идем дальше. "
   ]
  }
 ],
 "metadata": {
  "kernelspec": {
   "display_name": "Python 3 (ipykernel)",
   "language": "python",
   "name": "python3"
  },
  "language_info": {
   "codemirror_mode": {
    "name": "ipython",
    "version": 3
   },
   "file_extension": ".py",
   "mimetype": "text/x-python",
   "name": "python",
   "nbconvert_exporter": "python",
   "pygments_lexer": "ipython3",
   "version": "3.10.12"
  }
 },
 "nbformat": 4,
 "nbformat_minor": 4
}
